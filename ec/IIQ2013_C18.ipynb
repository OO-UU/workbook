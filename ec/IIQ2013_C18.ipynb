{
 "cells": [
  {
   "cell_type": "markdown",
   "id": "17ae0d31",
   "metadata": {},
   "source": [
    "# IIQ2013 - Clase 18"
   ]
  },
  {
   "cell_type": "markdown",
   "id": "18873880-cf3c-419c-b7e2-9f2196744c5d",
   "metadata": {},
   "source": [
    "Se usa un intercambiador de calor de tubos y carcasa (ICTC) tipo 1-2n para enfriar $F_h = 20~\\text{ton/h}$ de agua (flujo por lado de carcasa) a $T_{h,i} = 81~\\text{°C}$ con $F_c = 120~\\text{ton/h}$ de agua de enfriamiento a $T_{c,i} = 17~\\text{°C}$ (flujo por el lado de los tubos). El ICTC dispone de $N_t = 60$ tubos de $1~\\text{in}$ de diámetro nominal ($D_o = 2.54~\\text{cm}$; $D_i = 2.21 ~\\text{cm}$) y $L = 2.44~\\text{m}$ de largo ($A = 11.7~\\text{m}^2$) ordenados según un arreglo cuadrado de $P_T = 1.25~\\text{in}$ de paso. La carcasa tiene $D_c =31.9~\\text{cm}$ de diámetro, y está equipada con $N_B = 30$ deflectores segmentales igualmente espaciados."
   ]
  },
  {
   "cell_type": "code",
   "execution_count": 1,
   "id": "39da0d50",
   "metadata": {},
   "outputs": [],
   "source": [
    "import handcalcs.render\n",
    "import forallpeople\n",
    "import numpy as np\n",
    "import forallpeople as si"
   ]
  },
  {
   "cell_type": "code",
   "execution_count": 2,
   "id": "72aafc7d",
   "metadata": {},
   "outputs": [],
   "source": [
    "si.environment('default', top_level=True)"
   ]
  },
  {
   "cell_type": "markdown",
   "id": "e28162b3-f23e-4c49-8deb-cfdb44193705",
   "metadata": {},
   "source": [
    "## Pregunta 1"
   ]
  },
  {
   "cell_type": "markdown",
   "id": "5332896c-f26e-4e9f-ad08-b8fda23060ef",
   "metadata": {},
   "source": [
    "El coeficiente de transferencia de calor por convección para el agua caliente que circula por el lado de la carcasa ($h_c$) es aproximadamente el siguiente:"
   ]
  },
  {
   "cell_type": "markdown",
   "id": "d7d3b359-4205-4b19-a7c8-2c4638b51291",
   "metadata": {},
   "source": [
    "(a) $h_c$ $<$ 3750 $\\text{W/m}^2\\cdot\\text{K}$\\\n",
    "(b) 3750 $\\leq$ $h_c$ $<$ 5000 $\\text{W/m}^2\\cdot\\text{K}$\\\n",
    "(c) 5000 $\\leq$ $h_c$ $<$ 7500 $\\text{W/m}^2\\cdot\\text{K}$\\\n",
    "(d) $h_c$ $\\geq$ 7500 $\\text{W/m}^2\\cdot\\text{K}$\n"
   ]
  },
  {
   "cell_type": "markdown",
   "id": "955ee6e2-62b7-4f8d-b1a4-d2db95b70202",
   "metadata": {},
   "source": [
    "Las propiedades termofísicas para el agua por el lado de la carcasa evaluado a la temperatura promedio son: $\\mu_c = 0.489~\\text{cP}$, $Pr_c = 3.15$, $k_c = 0.65~\\text{W/m}\\cdot\\text{K}$."
   ]
  },
  {
   "cell_type": "markdown",
   "id": "47bba358-27f4-4ff6-b74a-20b647430984",
   "metadata": {},
   "source": [
    "## Solución"
   ]
  },
  {
   "cell_type": "code",
   "execution_count": 3,
   "id": "6333c169",
   "metadata": {},
   "outputs": [
    {
     "data": {
      "text/latex": [
       "\\[\n",
       "\\begin{aligned}\n",
       "L &= 2.44 \\cdot m  = 2.44 \\cdot m &= 2.440\\ \\text{m}  \n",
       "\\\\[10pt]\n",
       "D_{o} &= 0.0254 \\cdot m  = 0.0254 \\cdot m &= 25.400\\ \\text{mm}  \n",
       "\\\\[10pt]\n",
       "N_{b} &= 30 \\; \\;\\textrm{(Número de deflectores)}\n",
       "\\\\[10pt]\n",
       "D_{c} &= 0.319 \\cdot m  = 0.319 \\cdot m &= 319.000\\ \\text{mm} \\; \\;\\textrm{(Diámetro de la carcasa)}\n",
       "\\\\[10pt]\n",
       "P_{t} &= 1.25 \\cdot 0.0254 \\cdot m  = 1.25 \\cdot 0.0254 \\cdot m &= 31.750\\ \\text{mm}  \n",
       "\\\\[10pt]\n",
       "B &= \\frac{ L }{ N_{b} + 1 }  = \\frac{ 2.440\\ \\text{m} }{ 30 + 1 } &= 78.710\\ \\text{mm} \\; \\;\\textrm{(espaciamiento entre deflectores)}\n",
       "\\\\[10pt]\n",
       "a_{c} &= D_{c} \\cdot B \\cdot \\frac{ P_{t} - D_{o} }{ P_{t} }  = 319.000\\ \\text{mm} \\cdot 78.710\\ \\text{mm} \\cdot \\frac{ 31.750\\ \\text{mm} - 25.400\\ \\text{mm} }{ 31.750\\ \\text{mm} } &= 5021.677\\ \\text{mm}^{2}  \n",
       "\\end{aligned}\n",
       "\\]"
      ],
      "text/plain": [
       "<IPython.core.display.Latex object>"
      ]
     },
     "metadata": {},
     "output_type": "display_data"
    }
   ],
   "source": [
    "%%render\n",
    "L = 2.44 * m\n",
    "D_o = 0.0254 * m\n",
    "N_b = 30 # Número de deflectores\n",
    "D_c = 0.319*  m # Diámetro de la carcasa\n",
    "P_t = 1.25 * 0.0254* m\n",
    "B = L/(N_b+1) # espaciamiento entre deflectores\n",
    "a_c = D_c * B *(P_t-D_o)/P_t"
   ]
  },
  {
   "cell_type": "code",
   "execution_count": 4,
   "id": "f2530071",
   "metadata": {},
   "outputs": [
    {
     "data": {
      "text/latex": [
       "\\[\n",
       "\\begin{aligned}\n",
       "F_{h} &= 20 \\cdot \\frac{ 1 \\times 10 ^ {3 } }{ 3600 } \\cdot \\frac{ \\mathrm{kg} }{ s }  = 20 \\cdot \\frac{ 1 \\times 10 ^ {3 } }{ 3600 } \\cdot \\frac{ kg }{ s } &= 5.556\\ \\text{kg} \\cdot \\text{s}^{-1}  \n",
       "\\\\[10pt]\n",
       "\\mu &= 4.89 \\times 10 ^ {-4 } \\cdot \\mathrm{Pa} \\cdot s  = 4.89 \\times 10 ^ {-4 } \\cdot Pa \\cdot s &= 0.000\\ \\text{kg} \\cdot \\text{m}^{-1} \\cdot \\text{s}^{-1}  \n",
       "\\\\[10pt]\n",
       "G_{c} &= \\frac{ F_{h} }{ a_{c} }  = \\frac{ 5.556\\ \\text{kg} \\cdot \\text{s}^{-1} }{ 5021.677\\ \\text{mm}^{2} } &= 1106.315\\ \\text{kg} \\cdot \\text{m}^{-2} \\cdot \\text{s}^{-1}  \n",
       "\\\\[10pt]\n",
       "\\pi &= 3.142 \\; \n",
       "\\\\[10pt]\n",
       "D_{e} &= \\frac{ 4 \\cdot \\left( P_{t} \\right) ^{ 2 } - \\pi \\cdot \\left( D_{o} \\right) ^{ 2 } }{ \\pi \\cdot D_{o} }  = \\frac{ 4 \\cdot \\left( 31.750\\ \\text{mm} \\right) ^{ 2 } - 3.142 \\cdot \\left( 25.400\\ \\text{mm} \\right) ^{ 2 } }{ 3.142 \\cdot 25.400\\ \\text{mm} } &= 25.132\\ \\text{mm}  \n",
       "\\\\[10pt]\n",
       "\\mathrm{Re}_{c} &= G_{c} \\cdot \\frac{ D_{e} }{ \\mu }  = 1106.315\\ \\text{kg} \\cdot \\text{m}^{-2} \\cdot \\text{s}^{-1} \\cdot \\frac{ 25.132\\ \\text{mm} }{ 0.000\\ \\text{kg} \\cdot \\text{m}^{-1} \\cdot \\text{s}^{-1} } &= 56858.002  \n",
       "\\end{aligned}\n",
       "\\]"
      ],
      "text/plain": [
       "<IPython.core.display.Latex object>"
      ]
     },
     "metadata": {},
     "output_type": "display_data"
    }
   ],
   "source": [
    "%%render\n",
    "F_h = 20*1e3/3600 * kg / s\n",
    "mu = 4.89e-4 * Pa *s\n",
    "G_c = F_h/a_c\n",
    "pi = np.pi\n",
    "D_e = (4*P_t**2 - pi*D_o**2)/(pi*D_o)\n",
    "Re_c = G_c * D_e / mu"
   ]
  },
  {
   "cell_type": "markdown",
   "id": "5db2f291",
   "metadata": {},
   "source": [
    "Por lo tanto el flujo por el lado de la carcasa es turbulento."
   ]
  },
  {
   "cell_type": "code",
   "execution_count": 5,
   "id": "12af9ba0",
   "metadata": {},
   "outputs": [
    {
     "data": {
      "text/latex": [
       "\\[\n",
       "\\begin{aligned}\n",
       "j_{h} &= 0.36 \\cdot \\left( \\mathrm{Re}_{c} \\right) ^{ 0.55 }  = 0.36 \\cdot \\left( 56858.002 \\right) ^{ 0.55 } &= 148.401  \n",
       "\\\\[10pt]\n",
       "\\mathrm{Pr} &= 3.15 \\; \n",
       "\\\\[10pt]\n",
       "\\mathrm{Nusselt}_{c} &= \\left( \\mathrm{Pr} \\right) ^{ \\left( \\frac{ 1 }{ 3 } \\right) } \\cdot j_{h}  = \\left( 3.15 \\right) ^{ \\left( \\frac{ 1 }{ 3 } \\right) } \\cdot 148.401 &= 217.541  \n",
       "\\\\[10pt]\n",
       "k &= 0.650 \\cdot \\frac{ W }{ m } \\cdot \\frac{1} { K }  = 0.650 \\cdot \\frac{ W }{ m } \\cdot \\frac{1} { K } &= 0.650\\ \\text{kg} \\cdot \\text{m} \\cdot \\text{s}^{-3} \\cdot \\text{K}^{-1}  \n",
       "\\\\[10pt]\n",
       "h_{c} &= \\mathrm{Nusselt}_{c} \\cdot \\frac{ k }{ D_{e} }  = 217.541 \\cdot \\frac{ 0.650\\ \\text{kg} \\cdot \\text{m} \\cdot \\text{s}^{-3} \\cdot \\text{K}^{-1} }{ 25.132\\ \\text{mm} } &= 5626.431\\ \\text{kg} \\cdot \\text{s}^{-3} \\cdot \\text{K}^{-1}  \n",
       "\\end{aligned}\n",
       "\\]"
      ],
      "text/plain": [
       "<IPython.core.display.Latex object>"
      ]
     },
     "metadata": {},
     "output_type": "display_data"
    }
   ],
   "source": [
    "%%render\n",
    "j_h = 0.36 * Re_c**0.55\n",
    "Pr = 3.15\n",
    "Nusselt_c = Pr**(1/3) * j_h\n",
    "k = 0.650 * W / m / K\n",
    "h_c = Nusselt_c*k/D_e"
   ]
  },
  {
   "cell_type": "markdown",
   "id": "8898006c",
   "metadata": {},
   "source": [
    "Por lo tanto la alternativa correcta es $c)$"
   ]
  },
  {
   "cell_type": "markdown",
   "id": "d878ca36-99a5-40c0-950c-eacd8f0a3991",
   "metadata": {},
   "source": [
    "## Pregunta 2:"
   ]
  },
  {
   "cell_type": "markdown",
   "id": "41610e55-bf84-4d94-8a98-d0cc3309f33b",
   "metadata": {},
   "source": [
    "El coeficiente de transferencia de calor por convección para el agua de enfriamiento que circula por el lado de los tubos ($h_t$) es aproximadamente el siguiente:"
   ]
  },
  {
   "cell_type": "markdown",
   "id": "fcdadb8e-398c-490e-a212-749eb5c92261",
   "metadata": {},
   "source": [
    "(a) $h_t$ $<$ 7500 $\\text{W/m}^2\\cdot\\text{K}$\\\n",
    "(b) 7500 $\\leq$ $h_t$ $<$ 9000 $\\text{W/m}^2\\cdot\\text{K}$\\\n",
    "(c) 9000 $\\leq$ $h_t$ $<$ 12000 $\\text{W/m}^2\\cdot\\text{K}$\\\n",
    "(d) $h_t$ $\\geq$ 12000 $\\text{W/m}^2\\cdot\\text{K}$"
   ]
  },
  {
   "cell_type": "markdown",
   "id": "8edfdeb1-c89d-4d70-a638-322e37ca9d31",
   "metadata": {},
   "source": [
    "Las propiedades termofísicas para el agua por el lado del tubo evaluado a la temperatura promedio son: $\\mu_t = 0.959~\\text{cP}$, $Pr_t = 6.62$, $k_t = 0.0.606~\\text{W/m}\\cdot\\text{K}$."
   ]
  },
  {
   "cell_type": "markdown",
   "id": "89e58c93-99f5-4422-b4d7-aebe5d90843f",
   "metadata": {},
   "source": [
    "## Solución"
   ]
  },
  {
   "cell_type": "code",
   "execution_count": 6,
   "id": "8f9acfcb",
   "metadata": {},
   "outputs": [
    {
     "data": {
      "text/latex": [
       "\\[\n",
       "\\begin{aligned}\n",
       "N &= 60 \\; \\;\\textrm{(Número de tubos)}\n",
       "\\\\[10pt]\n",
       "n &= 2 \\; \\;\\textrm{(Número de pasadas)}\n",
       "\\\\[10pt]\n",
       "D_{i} &= 0.0221 \\cdot m  = 0.0221 \\cdot m &= 22.100\\ \\text{mm}  \n",
       "\\\\[10pt]\n",
       "a_{t} &= \\pi \\cdot \\frac{ \\left( D_{i} \\right) ^{ 2 } }{ 4 } \\cdot \\left( \\frac{ N }{ n } \\right) \\\\&= 3.142 \\cdot \\frac{ \\left( 22.100\\ \\text{mm} \\right) ^{ 2 } }{ 4 } \\cdot \\left( \\frac{ 60 }{ 2 } \\right) \\\\&= 11507.890\\ \\text{mm}^{2}  \\\\\n",
       "\\\\[10pt]\n",
       "F_{c} &= 120 \\cdot \\frac{ 1 \\times 10 ^ {3 } }{ 3600 } \\cdot \\frac{ \\mathrm{kg} }{ s }  = 120 \\cdot \\frac{ 1 \\times 10 ^ {3 } }{ 3600 } \\cdot \\frac{ kg }{ s } &= 33.333\\ \\text{kg} \\cdot \\text{s}^{-1}  \n",
       "\\\\[10pt]\n",
       "G_{t} &= \\frac{ F_{c} }{ a_{t} }  = \\frac{ 33.333\\ \\text{kg} \\cdot \\text{s}^{-1} }{ 11507.890\\ \\text{mm}^{2} } &= 2896.564\\ \\text{kg} \\cdot \\text{m}^{-2} \\cdot \\text{s}^{-1}  \n",
       "\\end{aligned}\n",
       "\\]"
      ],
      "text/plain": [
       "<IPython.core.display.Latex object>"
      ]
     },
     "metadata": {},
     "output_type": "display_data"
    }
   ],
   "source": [
    "%%render\n",
    "N = 60 # Número de tubos\n",
    "n = 2 # Número de pasadas\n",
    "D_i = 0.0221 * m\n",
    "a_t = pi * D_i**2 / 4 * (N/n)\n",
    "F_c = 120*1e3/3600 * kg / s\n",
    "G_t = F_c/a_t\n"
   ]
  },
  {
   "cell_type": "markdown",
   "id": "5add8d22",
   "metadata": {},
   "source": [
    "Con el flux másico por el lado de los tubos, podemos calcular el número de Reynolds en el lado de los tubos."
   ]
  },
  {
   "cell_type": "code",
   "execution_count": 7,
   "id": "6c894e3e",
   "metadata": {},
   "outputs": [
    {
     "data": {
      "text/latex": [
       "\\[\n",
       "\\begin{aligned}\n",
       "\\mu_{t} &= 9.59 \\times 10 ^ {-4 } \\cdot \\mathrm{Pa} \\cdot s  = 9.59 \\times 10 ^ {-4 } \\cdot Pa \\cdot s &= 0.001\\ \\text{kg} \\cdot \\text{m}^{-1} \\cdot \\text{s}^{-1}  \n",
       "\\\\[10pt]\n",
       "\\mathrm{Re}_{t} &= \\frac{ G_{t} \\cdot D_{i} }{ \\mu_{t} }  = \\frac{ 2896.564\\ \\text{kg} \\cdot \\text{m}^{-2} \\cdot \\text{s}^{-1} \\cdot 22.100\\ \\text{mm} }{ 0.001\\ \\text{kg} \\cdot \\text{m}^{-1} \\cdot \\text{s}^{-1} } &= 66750.839  \n",
       "\\end{aligned}\n",
       "\\]"
      ],
      "text/plain": [
       "<IPython.core.display.Latex object>"
      ]
     },
     "metadata": {},
     "output_type": "display_data"
    }
   ],
   "source": [
    "%%render\n",
    "mu_t = 9.59e-4 * Pa * s\n",
    "Re_t = (G_t * D_i) / mu_t"
   ]
  },
  {
   "cell_type": "markdown",
   "id": "04f7c3fb",
   "metadata": {},
   "source": [
    "Por lo tanto el flujo es turbulento. Asumiendo paredes lisas, podemos utilizar la ecuación de Dittus Boelman."
   ]
  },
  {
   "cell_type": "code",
   "execution_count": 8,
   "id": "b7cbf040",
   "metadata": {},
   "outputs": [
    {
     "data": {
      "text/latex": [
       "\\[\n",
       "\\begin{aligned}\n",
       "n &= 0.4 \\; \\;\\textrm{((Para calentamiento))}\n",
       "\\\\[10pt]\n",
       "\\mathrm{Pr}_{t} &= 6.62 \\; \n",
       "\\\\[10pt]\n",
       "\\mathrm{Nusselt}_{t} &= 0.023 \\cdot \\left( \\mathrm{Re}_{t} \\right) ^{ 0.8 } \\cdot \\left( \\mathrm{Pr}_{t} \\right) ^{ 0.4 } \\\\&= 0.023 \\cdot \\left( 66750.839 \\right) ^{ 0.8 } \\cdot \\left( 6.62 \\right) ^{ 0.4 } \\\\&= 354.516  \\\\\n",
       "\\\\[10pt]\n",
       "k_{t} &= 0.606 \\cdot \\frac{ W }{ m } \\cdot \\frac{1} { K }  = 0.606 \\cdot \\frac{ W }{ m } \\cdot \\frac{1} { K } &= 0.606\\ \\text{kg} \\cdot \\text{m} \\cdot \\text{s}^{-3} \\cdot \\text{K}^{-1} \\; \\;\\textrm{((Conductividad térmica por el lado de los tubos))}\n",
       "\\\\[10pt]\n",
       "h_{t} &= \\mathrm{Nusselt}_{t} \\cdot \\frac{ k_{t} }{ D_{i} }  = 354.516 \\cdot \\frac{ 0.606\\ \\text{kg} \\cdot \\text{m} \\cdot \\text{s}^{-3} \\cdot \\text{K}^{-1} }{ 22.100\\ \\text{mm} } &= 9721.130\\ \\text{kg} \\cdot \\text{s}^{-3} \\cdot \\text{K}^{-1}  \n",
       "\\end{aligned}\n",
       "\\]"
      ],
      "text/plain": [
       "<IPython.core.display.Latex object>"
      ]
     },
     "metadata": {},
     "output_type": "display_data"
    }
   ],
   "source": [
    "%%render \n",
    "n = 0.4 #(Para calentamiento)\n",
    "Pr_t = 6.62\n",
    "Nusselt_t = 0.023 * Re_t ** 0.8 * Pr_t ** 0.4\n",
    "k_t = 0.606 * W / m / K # (Conductividad térmica por el lado de los tubos)\n",
    "h_t = Nusselt_t * k_t / D_i\n"
   ]
  },
  {
   "cell_type": "markdown",
   "id": "df7fd026",
   "metadata": {},
   "source": [
    "Por lo tanto la alternativa correcta es c)"
   ]
  },
  {
   "cell_type": "markdown",
   "id": "4271c325-8fc5-4c65-bdd5-2fef94c0730e",
   "metadata": {},
   "source": [
    "## Pregunta 3"
   ]
  },
  {
   "cell_type": "markdown",
   "id": "5a3ff049-e4b1-464b-b520-1c5f9b86f41e",
   "metadata": {},
   "source": [
    "Usando el método $\\epsilon-\\text{NTU}$, se puede estimar que, en este ICTC, el agua caliente se enfría hasta aproximadamente la siguiente temperatura:"
   ]
  },
  {
   "cell_type": "markdown",
   "id": "77fde3e2-5c98-4f1b-9906-87cc47f25db5",
   "metadata": {},
   "source": [
    "(a) $T_{h,o}$ $<$ 30 °C\\\n",
    "(b) 30 $\\leq$ $T_{h,o}$ $<$ 40 °C\\\n",
    "(c) 40 $\\leq$ $T_{h,o}$ $<$ 50 °C\\\n",
    "(d) $T_{h,o}$ $\\geq$ 50 °C"
   ]
  },
  {
   "cell_type": "markdown",
   "id": "dc42bad1-a66c-42bd-8e35-90863f419fff",
   "metadata": {},
   "source": [
    "## Solución"
   ]
  },
  {
   "cell_type": "markdown",
   "id": "3997cc70",
   "metadata": {},
   "source": [
    "Primero, calculamos las NTU basadas en el fluido con menor capacidad calórica. En este caso, es el fluido por la carcasa. "
   ]
  },
  {
   "cell_type": "code",
   "execution_count": 9,
   "id": "e812d875",
   "metadata": {},
   "outputs": [
    {
     "data": {
      "text/latex": [
       "\\[\n",
       "\\begin{aligned}\n",
       "c_{pc} &= 4184 \\cdot \\frac{ J }{ \\mathrm{kg} } \\cdot \\frac{1} { K }  = 4184 \\cdot \\frac{ J }{ kg } \\cdot \\frac{1} { K } &= 4184.000\\ \\text{m}^{2} \\cdot \\text{s}^{-2} \\cdot \\text{K}^{-1}  \n",
       "\\\\[10pt]\n",
       "c_{ph} &= 4181 \\cdot \\frac{ J }{ \\mathrm{kg} } \\cdot \\frac{1} { K }  = 4181 \\cdot \\frac{ J }{ kg } \\cdot \\frac{1} { K } &= 4181.000\\ \\text{m}^{2} \\cdot \\text{s}^{-2} \\cdot \\text{K}^{-1}  \n",
       "\\\\[10pt]\n",
       "C_{c} &= F_{c} \\cdot c_{pc} \\\\&= 33.333\\ \\text{kg} \\cdot \\text{s}^{-1} \\cdot 4184.000\\ \\text{m}^{2} \\cdot \\text{s}^{-2} \\cdot \\text{K}^{-1} \\\\&= 139466.667\\ \\text{kg} \\cdot \\text{m}^{2} \\cdot \\text{s}^{-3} \\cdot \\text{K}^{-1}  \\\\\n",
       "\\\\[10pt]\n",
       "C_{h} &= F_{h} \\cdot c_{ph} \\\\&= 5.556\\ \\text{kg} \\cdot \\text{s}^{-1} \\cdot 4181.000\\ \\text{m}^{2} \\cdot \\text{s}^{-2} \\cdot \\text{K}^{-1} \\\\&= 23227.778\\ \\text{kg} \\cdot \\text{m}^{2} \\cdot \\text{s}^{-3} \\cdot \\text{K}^{-1}  \\\\\n",
       "\\\\[10pt]\n",
       "U &= \\left( \\frac{ 1 }{ h_{c} } + \\frac{ 1 }{ h_{t} } \\cdot \\frac{ D_{o} }{ D_{i} } \\right) ^{ -1 } \\\\&= \\left( \\frac{ 1 }{ 5626.431\\ \\text{kg} \\cdot \\text{s}^{-3} \\cdot \\text{K}^{-1} } + \\frac{ 1 }{ 9721.130\\ \\text{kg} \\cdot \\text{s}^{-3} \\cdot \\text{K}^{-1} } \\cdot \\frac{ 25.400\\ \\text{mm} }{ 22.100\\ \\text{mm} } \\right) ^{ -1 } \\\\&= 3378.815\\ \\text{kg} \\cdot \\text{s}^{-3} \\cdot \\text{K}^{-1}  \\\\\n",
       "\\\\[10pt]\n",
       "A &= 11.7 \\cdot \\left( m \\right) ^{ 2 }  = 11.7 \\cdot \\left( m \\right) ^{ 2 } &= 11.700\\ \\text{m}^{2}  \n",
       "\\\\[10pt]\n",
       "\\mathrm{NTU} &= \\frac{ U \\cdot A }{ C_{h} }  = \\frac{ 3378.815\\ \\text{kg} \\cdot \\text{s}^{-3} \\cdot \\text{K}^{-1} \\cdot 11.700\\ \\text{m}^{2} }{ 23227.778\\ \\text{kg} \\cdot \\text{m}^{2} \\cdot \\text{s}^{-3} \\cdot \\text{K}^{-1} } &= 1.702  \n",
       "\\end{aligned}\n",
       "\\]"
      ],
      "text/plain": [
       "<IPython.core.display.Latex object>"
      ]
     },
     "metadata": {},
     "output_type": "display_data"
    }
   ],
   "source": [
    "%%render\n",
    "c_pc = 4184 * J / kg / K\n",
    "c_ph = 4181 * J / kg / K\n",
    "C_c = F_c*c_pc\n",
    "C_h = F_h*c_ph\n",
    "\n",
    "U =  (1/h_c + 1/h_t * D_o/D_i)**-1\n",
    "A = 11.7 * m**2\n",
    "NTU = (U*A)/(C_h)"
   ]
  },
  {
   "cell_type": "markdown",
   "id": "850ef878",
   "metadata": {},
   "source": [
    "Calcularemos la efectividad del ICTC de manera analítica"
   ]
  },
  {
   "cell_type": "code",
   "execution_count": 10,
   "id": "d9600e26",
   "metadata": {},
   "outputs": [],
   "source": [
    "from math import sqrt, exp"
   ]
  },
  {
   "cell_type": "code",
   "execution_count": 11,
   "id": "42720e9c",
   "metadata": {},
   "outputs": [
    {
     "data": {
      "text/latex": [
       "\\[\n",
       "\\begin{aligned}\n",
       "C_{r} &= \\frac{ C_{h} }{ C_{c} }  = \\frac{ 23227.778\\ \\text{kg} \\cdot \\text{m}^{2} \\cdot \\text{s}^{-3} \\cdot \\text{K}^{-1} }{ 139466.667\\ \\text{kg} \\cdot \\text{m}^{2} \\cdot \\text{s}^{-3} \\cdot \\text{K}^{-1} } &= 1.665 \\times 10 ^ {-1 }  \n",
       "\\\\[10pt]\n",
       "\\epsilon &= \\frac{ 2 }{ 1 + C_{r} + \\sqrt { 1 + \\left( C_{r} \\right) ^{ 2 } } \\cdot \\frac{ 1 + \\exp \\left( \\left( - \\mathrm{NTU} \\right) \\cdot \\sqrt { 1 + \\left( C_{r} \\right) ^{ 2 } } \\right) }{ 1 - \\exp \\left( \\left( - \\mathrm{NTU} \\right) \\cdot \\sqrt { 1 + \\left( C_{r} \\right) ^{ 2 } } \\right) } } \\\\&= \\frac{ 2 }{ 1 + 1.665 \\times 10 ^ {-1 } + \\sqrt { 1 + \\left( 1.665 \\times 10 ^ {-1 } \\right) ^{ 2 } } \\cdot \\frac{ 1 + \\exp \\left( \\left( - 1.702 \\right) \\cdot \\sqrt { 1 + \\left( 1.665 \\times 10 ^ {-1 } \\right) ^{ 2 } } \\right) }{ 1 - \\exp \\left( \\left( - 1.702 \\right) \\cdot \\sqrt { 1 + \\left( 1.665 \\times 10 ^ {-1 } \\right) ^{ 2 } } \\right) } } \\\\&= 7.634 \\times 10 ^ {-1 }  \\\\\n",
       "\\end{aligned}\n",
       "\\]"
      ],
      "text/plain": [
       "<IPython.core.display.Latex object>"
      ]
     },
     "metadata": {},
     "output_type": "display_data"
    }
   ],
   "source": [
    "%%render\n",
    "C_r = C_h/C_c\n",
    "epsilon = 2 / (1 + C_r + sqrt(1+C_r**2) * (1+exp(-NTU*sqrt(1+C_r**2)))/(1-exp(-NTU*sqrt(1+C_r**2))))"
   ]
  },
  {
   "cell_type": "markdown",
   "id": "4c288944",
   "metadata": {},
   "source": [
    "Con la eficiencia, podemos calcular la temperatura de salida del fluido por la carcasa"
   ]
  },
  {
   "cell_type": "code",
   "execution_count": 12,
   "id": "7c6c97ed",
   "metadata": {},
   "outputs": [
    {
     "data": {
      "text/latex": [
       "\\[\n",
       "\\begin{aligned}\n",
       "T_{hi} &= 81 \\cdot C  = 81 \\cdot C &= 81.000\\ \\text{C}  \n",
       "\\\\[10pt]\n",
       "T_{ci} &= 17 \\cdot C  = 17 \\cdot C &= 17.000\\ \\text{C}  \n",
       "\\\\[10pt]\n",
       "T_{ho} &= T_{hi} - \\left( T_{hi} - T_{ci} \\right) \\cdot \\epsilon  = 81.000\\ \\text{C} - \\left( 81.000\\ \\text{C} - 17.000\\ \\text{C} \\right) \\cdot 7.634 \\times 10 ^ {-1 } &= 32.139\\ \\text{C}  \n",
       "\\end{aligned}\n",
       "\\]"
      ],
      "text/plain": [
       "<IPython.core.display.Latex object>"
      ]
     },
     "metadata": {},
     "output_type": "display_data"
    }
   ],
   "source": [
    "%%render\n",
    "T_hi = 81 * C\n",
    "T_ci = 17 * C\n",
    "T_ho = T_hi - (T_hi - T_ci)*epsilon"
   ]
  }
 ],
 "metadata": {
  "kernelspec": {
   "display_name": "Python 3 (ipykernel)",
   "language": "python",
   "name": "python3"
  },
  "language_info": {
   "codemirror_mode": {
    "name": "ipython",
    "version": 3
   },
   "file_extension": ".py",
   "mimetype": "text/x-python",
   "name": "python",
   "nbconvert_exporter": "python",
   "pygments_lexer": "ipython3",
   "version": "3.11.7"
  }
 },
 "nbformat": 4,
 "nbformat_minor": 5
}
