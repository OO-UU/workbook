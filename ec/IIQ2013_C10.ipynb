{
 "cells": [
  {
   "cell_type": "markdown",
   "id": "19891163-fd1c-4a71-9de2-c9dcf840548f",
   "metadata": {},
   "source": [
    "# IIQ2013 - Clase 10"
   ]
  },
  {
   "cell_type": "markdown",
   "id": "75293d35-4c17-44f4-afd1-e2ca35b439ce",
   "metadata": {},
   "source": [
    "Se bombea hidrógeno $\\left(\\mathrm{H}_2\\right)$ desde un depósito a $\\mathrm{p}_1=2.6 \\mathrm{~MPa}$, a través una cañería horizontal de acero de $D=$ $50 \\mathrm{~mm}$ de diámetro y $L=500 \\mathrm{~m}$ de largo, y cuya rugosidad relativa es $\\varepsilon / \\mathrm{D}=0.001$. Interesa conocer el flujo másico del $\\mathrm{H}_2$ si las condiciones del flujo son isotérmicas (la temperatura del gas es $T=293 \\mathrm{~K}$ ) y la presión de descarga es $\\mathrm{p}_2=2 \\mathrm{~MPa}$ a la salida de la cañería."
   ]
  },
  {
   "cell_type": "markdown",
   "id": "20f63d5b-f3e4-4b42-8926-561ad5b0822f",
   "metadata": {},
   "source": [
    "En primer lugar se deben cargar las librerias que vamos a utilizar"
   ]
  },
  {
   "cell_type": "code",
   "execution_count": 3,
   "id": "b601069b-13d3-4d5f-9080-28b07b23f303",
   "metadata": {},
   "outputs": [],
   "source": [
    "import numpy as np\n",
    "from numpy import sqrt, pi\n",
    "import handcalcs.render\n",
    "from handcalcs import handcalc\n",
    "import math"
   ]
  },
  {
   "cell_type": "markdown",
   "id": "b60ea3f5-90cc-4708-8561-244568cb8877",
   "metadata": {},
   "source": [
    "## Problema 1"
   ]
  },
  {
   "cell_type": "markdown",
   "id": "8b158069-dc49-4158-bdc8-7ee4d50ef1ba",
   "metadata": {},
   "source": [
    "La densidad del gas $\\left(\\rho_1=1 / v_1\\right)$ en el depósito es la siguiente:"
   ]
  },
  {
   "cell_type": "markdown",
   "id": "7dbdbfdc-7286-4a96-ba4a-cd874dfe1677",
   "metadata": {},
   "source": [
    "(a) $\\rho_1>10 \\mathrm{~kg} / \\mathrm{m}^3$\n",
    " \n",
    "(b) $1<\\rho_1 \\leq 10 \\mathrm{~kg} / \\mathrm{m}^3$\n",
    "\n",
    "(c) $0.1<\\rho_1 \\leq 1.0 \\mathrm{~kg} / \\mathrm{m}^3$\n",
    "\n",
    "(d) $\\rho_1 \\leq 0.1 \\mathrm{~kg} / \\mathrm{m}^3$\n"
   ]
  },
  {
   "cell_type": "markdown",
   "id": "f82310a3-77a9-48d4-aaab-619626065d05",
   "metadata": {},
   "source": [
    "## Solución"
   ]
  },
  {
   "cell_type": "markdown",
   "id": "54b1987c-9e3c-4853-9197-c7cfebacb06f",
   "metadata": {},
   "source": [
    "Ocupando la ecuación del gas ideal: \n",
    "\n",
    "$$\n",
    "P v=\\frac{R T}{M_W} \\Rightarrow \\frac{1}{v}=\\rho=\\frac{p \\cdot M_W}{R T}\n",
    "$$"
   ]
  },
  {
   "cell_type": "code",
   "execution_count": 25,
   "id": "cbcb6bea-34ce-425c-953e-70b189c07d5f",
   "metadata": {},
   "outputs": [
    {
     "data": {
      "text/latex": [
       "\\[\n",
       "\\begin{aligned}\n",
       "p_{1} &= 2600000.000 \\; \\;\\textrm{(Pa)}\n",
       "\\\\[10pt]\n",
       "M_{w} &= 0.002 \\; \\;\\textrm{(kg/mol)}\n",
       "\\\\[10pt]\n",
       "R &= 8.314 \\; \\;\\textrm{(J/molK)}\n",
       "\\\\[10pt]\n",
       "T &= 293 \\; \\;\\textrm{(K)}\n",
       "\\\\[10pt]\n",
       "\\rho_{1} &= \\mathrm{p1} \\cdot \\frac{ M_{w} }{ R \\cdot T } \\\\&= 2600000.000 \\cdot \\frac{ 0.002 }{ 8.314 \\cdot 293 } \\\\&= 2.135 \\; \\;\\textrm{(kg/m$^3$)}\\\\[10pt]\n",
       "\\end{aligned}\n",
       "\\]"
      ],
      "text/plain": [
       "<IPython.core.display.Latex object>"
      ]
     },
     "metadata": {},
     "output_type": "display_data"
    }
   ],
   "source": [
    "%%render long\n",
    "p_1 = 2.6E6 # Pa\n",
    "M_w = 0.002 # kg/mol\n",
    "R = 8.314 # J/molK\n",
    "T = 293 #K\n",
    "rho_1 = p_1*M_w/(R*T) # kg/m$^3$"
   ]
  },
  {
   "cell_type": "markdown",
   "id": "1702bf8f",
   "metadata": {},
   "source": [
    "La alternativa correcta es la **b**."
   ]
  },
  {
   "cell_type": "markdown",
   "id": "c737d28a-1b87-4894-8791-f486c3fd1aca",
   "metadata": {},
   "source": [
    "## Problema 2"
   ]
  },
  {
   "cell_type": "markdown",
   "id": "81555954-99bf-47b2-b746-c74a8eef37b5",
   "metadata": {},
   "source": [
    "Un valor aproximado para el valor del factor de fricción de Fanning $(f)$ en la tubería es el siguiente:"
   ]
  },
  {
   "cell_type": "markdown",
   "id": "b1673bea-c94e-451d-86e7-3b9377b88522",
   "metadata": {},
   "source": [
    "(a) $f>0.0065$\n",
    "\n",
    "(b) $0.0055<f \\leq 0.0065$\n",
    "\n",
    "(c) $0.0045<f \\leq 0.0055$\n",
    "\n",
    "(d) $f \\leq 0.0045$"
   ]
  },
  {
   "cell_type": "markdown",
   "id": "9f5ef676-1979-4484-a5ec-45f2e580e233",
   "metadata": {},
   "source": [
    "## Solución"
   ]
  },
  {
   "cell_type": "markdown",
   "id": "dfe84b93",
   "metadata": {},
   "source": [
    "Se utilizará la ecuación de Nevers asumiendo que el Número de Reynolds tiene a $\\infty$.\n"
   ]
  },
  {
   "cell_type": "code",
   "execution_count": 5,
   "id": "9fe5a97a-f93f-4a55-bc74-ce899c697c90",
   "metadata": {},
   "outputs": [
    {
     "data": {
      "text/latex": [
       "\\[\n",
       "\\begin{aligned}\n",
       "\\mathrm{eps}_{d} &= 0.001 \\; \n",
       "\\\\[10pt]\n",
       "\\mathrm{Re} &= inf \\; \n",
       "\\\\[10pt]\n",
       "f &= 0.001375 \\cdot \\left( 1 + \\left( 2 \\times 10 ^ {4} \\cdot \\mathrm{eps}_{d} + \\frac{ 1 \\times 10 ^ {6} }{ \\mathrm{Re} } \\right) ^{ \\left( \\frac{ 1 }{ 3 } \\right) } \\right) \\\\&= 0.001375 \\cdot \\left( 1 + \\left( 2 \\times 10 ^ {4} \\cdot 0.001 + \\frac{ 1 \\times 10 ^ {6} }{ inf } \\right) ^{ \\left( \\frac{ 1 }{ 3 } \\right) } \\right) \\\\&= 0.005  \\\\[10pt]\n",
       "\\end{aligned}\n",
       "\\]"
      ],
      "text/plain": [
       "<IPython.core.display.Latex object>"
      ]
     },
     "metadata": {},
     "output_type": "display_data"
    }
   ],
   "source": [
    "%%render long\n",
    "eps_d = 0.001\n",
    "Re = math.inf\n",
    "f = 0.001375 * (1 + (2e4 * eps_d + 1e6/Re)**(1/3))"
   ]
  },
  {
   "cell_type": "markdown",
   "id": "a9b3ba14-d310-47fb-ac0a-bf8363c291f7",
   "metadata": {},
   "source": [
    "La alternativa correcta es la **c**."
   ]
  },
  {
   "cell_type": "markdown",
   "id": "db13f808",
   "metadata": {},
   "source": [
    "## Problema 3\n",
    "Un valor aproximado para el flujo másico del gas por unidad de área transversal de la tubería (G/A) es el siguiente:\n",
    "\n",
    "(a)  $G / A>50 \\mathrm{~kg} \\mathrm{~s}^{-1} \\mathrm{~m}^{-2}$\n",
    "\n",
    "(b)  $5<\\mathrm{G} / \\mathrm{A} \\leq 50 \\mathrm{~kg} \\mathrm{~s}^{-1} \\mathrm{~m}^{-2}$\n",
    "\n",
    "(c)  $0.5<\\mathrm{G} / \\mathrm{A} \\leq 5 \\mathrm{~kg} \\mathrm{~s}^{-1} \\mathrm{~m}^{-2}$\n",
    "\n",
    "(d)  $G / A \\leq 0.5 \\mathrm{~kg} \\mathrm{~s}^{-1} \\mathrm{~m}^{-2}$"
   ]
  },
  {
   "cell_type": "markdown",
   "id": "734e2700",
   "metadata": {},
   "source": [
    "## Solución\n",
    "Para flujo isotérmico\n",
    "\n",
    "$$\n",
    "\\int_{P_1}^{P_2} \\frac{d p}{v} \\hspace{2cm} \\rightarrow \\hspace{2cm} \\frac{p_1}{2v_1}\\left[\\left(\\frac{p_2}{p_1}\\right)^2-1\\right]\n",
    "$$"
   ]
  },
  {
   "cell_type": "markdown",
   "id": "a3a854af",
   "metadata": {},
   "source": [
    "$$\n",
    "\\ln\\left(\\frac{v_2}{v_1}\\right) \\hspace{2cm} \\rightarrow \\hspace{2cm} -\\ln\\left(\\frac{p_2}{p_1}\\right)\n",
    "$$"
   ]
  },
  {
   "cell_type": "markdown",
   "id": "284e782a-6156-406d-9c7b-edb5682ec323",
   "metadata": {},
   "source": [
    "De tal manera que el balance de energía queda representado de la siguiente manera.\n",
    "\n",
    "$$\n",
    "\\frac{p_1}{2v_1}\\left[\\left(\\frac{p_2}{p_1}\\right)^2-1\\right] + \\left(\\frac{G}{A}\\right)^2\\left(2f\\frac{L}{D_{eq}}-\\ln\\left(\\frac{p_2}{p_1}\\right)\\right) = 0\n",
    "$$"
   ]
  },
  {
   "cell_type": "markdown",
   "id": "1943dfe2-ff50-4f5e-a81b-dd90c35b793d",
   "metadata": {},
   "source": [
    "Para simplificar cálculos\n",
    "\n",
    "$$\n",
    "k_1 = \\frac{p_1}{2v_1}\\left[\\left(\\frac{p_2}{p_1}\\right)^2-1\\right]\n",
    "$$"
   ]
  },
  {
   "cell_type": "markdown",
   "id": "83639de2-2031-431f-9305-ecdeb8ba5633",
   "metadata": {},
   "source": [
    "Y también\n",
    "\n",
    "$$\n",
    "k_2 = \\left(2f\\frac{L}{D_{eq}}-\\ln\\left(\\frac{p_2}{p_1}\\right)\\right)\n",
    "$$"
   ]
  },
  {
   "cell_type": "code",
   "execution_count": 28,
   "id": "cef9d8b4",
   "metadata": {},
   "outputs": [
    {
     "data": {
      "text/latex": [
       "\\[\n",
       "\\begin{aligned}\n",
       "p_{2} &= 2000000.000 \\; \\;\\textrm{(Pa)}\n",
       "\\\\[10pt]\n",
       "L &= 500 \\; \\;\\textrm{(m)}\n",
       "\\\\[10pt]\n",
       "D &= 0.050 \\; \\;\\textrm{(m)}\n",
       "\\\\[10pt]\n",
       "k_{1} &= \\left( \\frac{ p_{1} }{ \\frac{ 2 }{ \\rho_{1} } } \\right) \\cdot \\left( \\left( \\frac{ p_{2} }{ p_{1} } \\right) ^{ 2 } - 1 \\right) \\\\&= \\left( \\frac{ 2600000.000 }{ \\frac{ 2 }{ 2.135 } } \\right) \\cdot \\left( \\left( \\frac{ 2000000.000 }{ 2600000.000 } \\right) ^{ 2 } - 1 \\right) \\\\&= -1133003.996  \\\\[10pt]\n",
       "\\\\[10pt]\n",
       "k_{2} &= \\left( \\left( 2 \\cdot f \\cdot \\frac{ L }{ D } \\right) - \\mathrm{np.log} { \\left( \\frac{ p_{2} }{ p_{1} } \\right) } \\right) \\\\&= \\left( \\left( 2 \\cdot 0.005 \\cdot \\frac{ 500 }{ 0.050 } \\right) - np.log { \\left( \\frac{ 2000000.000 }{ 2600000.000 } \\right) } \\right) \\\\&= 102.409  \\\\[10pt]\n",
       "\\\\[10pt]\n",
       "\\mathrm{GA} &= \\sqrt { \\frac{ \\left( - k_{1} \\right) }{ k_{2} } } \\\\&= \\sqrt { \\frac{ \\left( - -1133003.996 \\right) }{ 102.409 } } \\\\&= 105.183 \\; \\;\\textrm{(kg$\\cdot$s$^{-1}$$\\cdot$m$^{-2}$)}\\\\[10pt]\n",
       "\\end{aligned}\n",
       "\\]"
      ],
      "text/plain": [
       "<IPython.core.display.Latex object>"
      ]
     },
     "metadata": {},
     "output_type": "display_data"
    }
   ],
   "source": [
    "%%render long\n",
    "p_2 = 2e6 #Pa\n",
    "L = 500 #m\n",
    "D = 0.05 #m\n",
    "k_1 = (p_1/(2/rho_1))*((p_2/p_1)**2-1)\n",
    "k_2 = ((2*f*L/D)-np.log(p_2/p_1))\n",
    "GA = sqrt(-k_1/k_2) #kg$\\cdot$s$^{-1}$$\\cdot$m$^{-2}$"
   ]
  },
  {
   "cell_type": "markdown",
   "id": "fcc52862",
   "metadata": {},
   "source": [
    "La alternativa correcta es la **a**."
   ]
  },
  {
   "cell_type": "markdown",
   "id": "5414d933",
   "metadata": {},
   "source": []
  }
 ],
 "metadata": {
  "kernelspec": {
   "display_name": "Python 3 (ipykernel)",
   "language": "python",
   "name": "python3"
  },
  "language_info": {
   "codemirror_mode": {
    "name": "ipython",
    "version": 3
   },
   "file_extension": ".py",
   "mimetype": "text/x-python",
   "name": "python",
   "nbconvert_exporter": "python",
   "pygments_lexer": "ipython3",
   "version": "3.11.7"
  }
 },
 "nbformat": 4,
 "nbformat_minor": 5
}
