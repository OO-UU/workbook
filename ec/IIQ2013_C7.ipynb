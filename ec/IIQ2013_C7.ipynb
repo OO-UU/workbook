{
 "cells": [
  {
   "cell_type": "markdown",
   "id": "8119d638-2f98-4dbe-9e2c-7749f966f519",
   "metadata": {},
   "source": [
    "# IIQ2013_C7"
   ]
  },
  {
   "cell_type": "markdown",
   "id": "c1f0edae-31d0-4eff-9340-e8b6a787cb85",
   "metadata": {},
   "source": [
    "Un compañero desea emprender creando un innovador SPA que utiliza un aceite esencial especial con harina disuelta como exfoliante. Esta suspensión es un fluido newtoniano con una viscosidad de $8000\\hspace{1mm}cP$ y una densidad $\\rho=880\\hspace{1mm}(kg/m^3)$. "
   ]
  },
  {
   "cell_type": "markdown",
   "id": "0c8a6225-ef46-4286-bd8f-ca76c7bf92e4",
   "metadata": {},
   "source": [
    "En primer lugar se deben cargar las librerias que vamos a utilizar"
   ]
  },
  {
   "cell_type": "code",
   "execution_count": 10,
   "id": "b969ad8d-e008-44ed-86fe-5ec6182fa5c7",
   "metadata": {},
   "outputs": [],
   "source": [
    "import numpy as np\n",
    "from numpy import sqrt, pi\n",
    "import handcalcs.render\n",
    "from handcalcs import handcalc"
   ]
  },
  {
   "cell_type": "markdown",
   "id": "06d6d899-fc85-4949-867a-b1db4c6adc0f",
   "metadata": {},
   "source": [
    "## Pregunta 1"
   ]
  },
  {
   "cell_type": "markdown",
   "id": "5c83ca1e-07d6-4031-84b7-5b1fdfb63d76",
   "metadata": {},
   "source": [
    "Para el primer salón, su compañero necesita impulsar $50\\hspace{1mm}mL/s$ de esta suspensión a través de una tubería rectangular de $1/2\\hspace{1mm}pulgadas$ de ancho por $1/4\\hspace{1mm}pulgadas$ de largo. ¿Qué bomba le sugeriría a su compañero utilizar en su SPA?"
   ]
  },
  {
   "cell_type": "markdown",
   "id": "4fcf1dc0-dd1d-4fc7-9118-7cb14c1b8b68",
   "metadata": {},
   "source": [
    "(a) Bomba de doble diafragma\n",
    "\n",
    "(b) Bomba centrífuga de voluta\n",
    "\n",
    "(c) Bomba peristáltica\n",
    "\n",
    "(d) Bomba de pistones"
   ]
  },
  {
   "cell_type": "markdown",
   "id": "57d7af41-37d9-47b7-9275-8018097e7292",
   "metadata": {},
   "source": [
    "## Solución"
   ]
  },
  {
   "cell_type": "markdown",
   "id": "023121c1-6cfb-40e5-87bd-e2eaa1bdb684",
   "metadata": {},
   "source": [
    "Como el volumen es pequeño, debemos usar una **bomba de desplazamiento positivo**. La bomba de pistones no es adecuada para suspenciones. También, la bomba de diafragma, si bien puede se utilizada, tiene la desventaja de tener un flujo pulsante. Por lo tanto, se recomienda utilizar una bomba peristáltica."
   ]
  },
  {
   "cell_type": "markdown",
   "id": "bf70d0f3-7f5c-4da1-b87a-d1403aa382dd",
   "metadata": {},
   "source": [
    "La alternativa correcta es la **c**."
   ]
  },
  {
   "cell_type": "markdown",
   "id": "2e52e112-2d59-4f9f-a004-24c6f3456ea1",
   "metadata": {},
   "source": [
    "## Pregunta 2"
   ]
  },
  {
   "cell_type": "markdown",
   "id": "bc373a67-8bc1-495b-92b4-85242f93a6a1",
   "metadata": {},
   "source": [
    "Su compañero encontró que es mucho más barato preparar la suspensión en lugar de comprarla. Para ello, se encuentra seleccionando estanques y agitadores. Para un tanque de $3\\hspace{1mm}m^3$, ¿qué agitador le recomendaría?"
   ]
  },
  {
   "cell_type": "markdown",
   "id": "815061e3-17ab-4cb0-9deb-99dc6716089d",
   "metadata": {},
   "source": [
    "(a) Turbina\n",
    "\n",
    "(b) Hélice\n",
    "\n",
    "(c) Ancla\n",
    "\n",
    "(d) Paleta"
   ]
  },
  {
   "cell_type": "markdown",
   "id": "5311e136-637b-491b-9019-9d762a7f167b",
   "metadata": {},
   "source": [
    "## Solución"
   ]
  },
  {
   "cell_type": "markdown",
   "id": "7e91806f-7892-435d-8e4a-6fdb34517d68",
   "metadata": {},
   "source": [
    "Del gráfico:\n",
    "\n",
    "```{figure} ./images/img_EC-7.png\n",
    "---\n",
    "name: figura-EC7\n",
    "scale: 60%\n",
    "align: center\n",
    "---\n",
    "\n",
    "Gráfico de selección.\n",
    "```\n"
   ]
  },
  {
   "cell_type": "markdown",
   "id": "68613c1a-00f8-40fa-ba44-a5cace0e6271",
   "metadata": {},
   "source": [
    "Por lo tanto, la alternativa correcta es la **a**."
   ]
  },
  {
   "cell_type": "markdown",
   "id": "6d9e966b-21bc-4064-b5f0-6f2d00c13112",
   "metadata": {},
   "source": [
    "## Pregunta 3"
   ]
  },
  {
   "cell_type": "markdown",
   "id": "6c4940b8-41d8-40f8-868d-f4820e7aebe3",
   "metadata": {},
   "source": [
    "Si la altura del estanque cilíndrico es de $2\\hspace{1mm}(m)$, la razón entre el diámetro del agitador y el diámetro del estanque es $S1 = D/T = 0.2$, y el número del flujo del agitador es $NQ = 0.87$, ¿Cuál es el caudal volumétrico descargado del borde del agitador operando a $120\\hspace{1mm}RPM$?"
   ]
  },
  {
   "cell_type": "markdown",
   "id": "f1fd8800-380a-4769-bb75-593471161c12",
   "metadata": {},
   "source": [
    "(a) Q $<$ 0.15 m$^3$/s\n",
    "\n",
    "(b) 0.15 m$^3$/s $\\leq$ Q $<$ 0.20 m$^3$/s\n",
    "\n",
    "(c) 0.12 m$^3$/s $\\leq$ Q $<$ 0.25 m$^3$/s\n",
    "\n",
    "(d) Q $\\geq$ 0.25 m$^3$/s"
   ]
  },
  {
   "cell_type": "markdown",
   "id": "5bd7c810-3196-4c63-9458-84ddb05095a1",
   "metadata": {},
   "source": [
    "## Solución"
   ]
  },
  {
   "cell_type": "code",
   "execution_count": 15,
   "id": "ba37ae93-5f58-452d-b8ec-21cde352ee1b",
   "metadata": {},
   "outputs": [
    {
     "data": {
      "text/latex": [
       "\\[\n",
       "\\begin{aligned}\n",
       "H &= 2 \\; \\;\\textrm{(m)}\n",
       "\\\\[10pt]\n",
       "V &= 3 \\; \\;\\textrm{(m$^3$)}\n",
       "\\\\[10pt]\n",
       "S_{1} &= 0.200 \\; \n",
       "\\\\[10pt]\n",
       "D_{t} &= \\sqrt { 4 \\cdot \\frac{ V }{ \\pi \\cdot H } } \\\\&= \\sqrt { 4 \\cdot \\frac{ 3 }{ 3.142 \\cdot 2 } } \\\\&= 1.382 \\; \\;\\textrm{(m)}\\\\[10pt]\n",
       "\\\\[10pt]\n",
       "D_{a} &= D_{t} \\cdot S_{1} \\\\&= 1.382 \\cdot 0.200 \\\\&= 0.276 \\; \\;\\textrm{(m)}\\\\[10pt]\n",
       "\\\\[10pt]\n",
       "\\mathrm{NQ} &= 0.870 \\; \n",
       "\\\\[10pt]\n",
       "N &= 120 \\; \\;\\textrm{(RPM)}\n",
       "\\\\[10pt]\n",
       "Q &= \\mathrm{NQ} \\cdot \\left( \\frac{ N }{ 60 } \\right) \\cdot \\left( D_{a} \\right) ^{ 3 } \\\\&= 0.870 \\cdot \\left( \\frac{ 120 }{ 60 } \\right) \\cdot \\left( 0.276 \\right) ^{ 3 } \\\\&= 0.037 \\; \\;\\textrm{(m$^3$/s)}\\\\[10pt]\n",
       "\\end{aligned}\n",
       "\\]"
      ],
      "text/plain": [
       "<IPython.core.display.Latex object>"
      ]
     },
     "metadata": {},
     "output_type": "display_data"
    }
   ],
   "source": [
    "%%render long\n",
    "H = 2 #m\n",
    "V = 3 #m$^3$\n",
    "S_1 = 0.2\n",
    "D_t = sqrt(4*V/(pi*H)) #m\n",
    "D_a = D_t*S_1 #m\n",
    "NQ = 0.87\n",
    "N = 120 #RPM\n",
    "Q = NQ*(N/60)*D_a**3 #m$^3$/s"
   ]
  },
  {
   "cell_type": "markdown",
   "id": "074de249-47a7-43a6-b0a8-6484b7e7af29",
   "metadata": {},
   "source": [
    "La alternativa correcta es la **a**."
   ]
  },
  {
   "cell_type": "markdown",
   "id": "4a42113c-e327-4426-9fb8-9e2b87a431fe",
   "metadata": {},
   "source": [
    "## Pregunta 4"
   ]
  },
  {
   "cell_type": "markdown",
   "id": "dff5ce1c-023f-4717-9139-e25704ad6492",
   "metadata": {},
   "source": [
    "El fabricante del agitador reporta que para un diámetro del agitador de $0.3\\hspace{1mm}m$, la potencia requerida para $180\\hspace{1mm}RPM$ es de $5.5 \\hspace{1mm}kW$. ¿Qué potencia requiere el agitador diseñado en la pregunta 3?"
   ]
  },
  {
   "cell_type": "markdown",
   "id": "cbda2df2-20be-4eec-ab1d-ef8916cca266",
   "metadata": {},
   "source": [
    "(a) P $<$ 0.15 kW\n",
    "\n",
    "(b) 0.5 kW $\\leq$ P $<$ 1.5 kW\n",
    "\n",
    "(c) 1.5 kW $\\leq$ P $<$ 2.5 kW\n",
    "\n",
    "(d) P $\\geq$ 2.5 kW"
   ]
  },
  {
   "cell_type": "markdown",
   "id": "a9fa3c17-c06f-4ab8-9647-adcd75a5de7f",
   "metadata": {},
   "source": [
    "## Solución"
   ]
  },
  {
   "cell_type": "markdown",
   "id": "8d59fe06-fc4f-4db0-bc1d-c0dc1a0d8872",
   "metadata": {},
   "source": [
    "Se debe cumplir que el número de potencia es equivalente.\n",
    "$$\n",
    "N{p,1} = N_{p,2} \\Rightarrow \\frac{P_1}{\\rho_1N_1^3D_{a,1}^5} = \\frac{P_2}{\\rho_2N_2^3D_{a,2}^5}\n",
    "$$"
   ]
  },
  {
   "cell_type": "code",
   "execution_count": 18,
   "id": "8dc87b76-568d-4408-ac62-0a321e12d118",
   "metadata": {},
   "outputs": [
    {
     "data": {
      "text/latex": [
       "\\[\n",
       "\\begin{aligned}\n",
       "N_{1} &= 180 \\; \\;\\textrm{(RPM)}\n",
       "\\\\[10pt]\n",
       "N_{2} &= 120 \\; \\;\\textrm{(RPM)}\n",
       "\\\\[10pt]\n",
       "P_{1} &= 5.500 \\; \\;\\textrm{(kW)}\n",
       "\\\\[10pt]\n",
       "D_{a1} &= 0.300 \\; \\;\\textrm{(m)}\n",
       "\\\\[10pt]\n",
       "D_{a2} &= 0.276 \\; \\;\\textrm{(m)}\n",
       "\\\\[10pt]\n",
       "P_{2} &= P_{1} \\cdot 1000 \\cdot \\frac{ \\left( \\frac{ N_{2} }{ 60 } \\right) ^{ 3 } \\cdot \\left( D_{a2} \\right) ^{ 5 } }{ \\left( \\frac{ N_{1} }{ 60 } \\right) ^{ 3 } \\cdot \\left( D_{a1} \\right) ^{ 5 } } \\\\&= 5.500 \\cdot 1000 \\cdot \\frac{ \\left( \\frac{ 120 }{ 60 } \\right) ^{ 3 } \\cdot \\left( 0.276 \\right) ^{ 5 } }{ \\left( \\frac{ 180 }{ 60 } \\right) ^{ 3 } \\cdot \\left( 0.300 \\right) ^{ 5 } } \\\\&= 1081.773 \\; \\;\\textrm{(W)}\\\\[10pt]\n",
       "\\end{aligned}\n",
       "\\]"
      ],
      "text/plain": [
       "<IPython.core.display.Latex object>"
      ]
     },
     "metadata": {},
     "output_type": "display_data"
    }
   ],
   "source": [
    "%%render long\n",
    "N_1 = 180 #RPM\n",
    "N_2 = N #RPM\n",
    "P_1 = 5.5 #kW\n",
    "D_a1 = 0.3 #m\n",
    "D_a2 = D_a #m\n",
    "P_2 = P_1*1000*((N_2/60)**3*D_a2**5)/((N_1/60)**3*D_a1**5) #W"
   ]
  },
  {
   "cell_type": "code",
   "execution_count": null,
   "id": "c8647eff-c060-411c-9fc9-b54d7bf8ce7f",
   "metadata": {},
   "outputs": [],
   "source": []
  }
 ],
 "metadata": {
  "kernelspec": {
   "display_name": "Python 3 (ipykernel)",
   "language": "python",
   "name": "python3"
  },
  "language_info": {
   "codemirror_mode": {
    "name": "ipython",
    "version": 3
   },
   "file_extension": ".py",
   "mimetype": "text/x-python",
   "name": "python",
   "nbconvert_exporter": "python",
   "pygments_lexer": "ipython3",
   "version": "3.11.7"
  }
 },
 "nbformat": 4,
 "nbformat_minor": 5
}
