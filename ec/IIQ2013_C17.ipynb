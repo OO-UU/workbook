{
 "cells": [
  {
   "cell_type": "markdown",
   "metadata": {},
   "source": [
    "# IIQ2013 - Clase 17"
   ]
  },
  {
   "cell_type": "code",
   "execution_count": 1,
   "metadata": {},
   "outputs": [],
   "source": [
    "import handcalcs.render\n",
    "import forallpeople\n",
    "import numpy as np\n",
    "import forallpeople as si"
   ]
  },
  {
   "cell_type": "markdown",
   "metadata": {},
   "source": [
    "## 1. Cuantificar el efecto de aumentar el número de pasos por los tubos de 2 a 4"
   ]
  },
  {
   "cell_type": "markdown",
   "metadata": {},
   "source": [
    "La caída de presión por el lado de la carcasa es menor que la caída de presión por los tubos. Se pretende realizar modificaciones al diseño para disminuir la diferencia de caídas de presión."
   ]
  },
  {
   "cell_type": "code",
   "execution_count": 2,
   "metadata": {},
   "outputs": [],
   "source": [
    "si.environment('default', top_level=True)"
   ]
  },
  {
   "cell_type": "code",
   "execution_count": 3,
   "metadata": {},
   "outputs": [
    {
     "data": {
      "text/latex": [
       "\\[\n",
       "\\begin{aligned}\n",
       "F_{h} &= 20 \\cdot \\frac{ 1 \\times 10 ^ {3} }{ 3600 } \\cdot \\frac{ \\mathrm{kg} }{ s }  = 20 \\cdot \\frac{ 1 \\times 10 ^ {3} }{ 3600 } \\cdot \\frac{ kg }{ s } &= 5.556\\ \\mathrm{kg} \\cdot \\mathrm{s}^{-1}  \n",
       "\\\\[10pt]\n",
       "F_{c} &= 120 \\cdot \\frac{ 1 \\times 10 ^ {3} }{ 3600 } \\cdot \\frac{ \\mathrm{kg} }{ s }  = 120 \\cdot \\frac{ 1 \\times 10 ^ {3} }{ 3600 } \\cdot \\frac{ kg }{ s } &= 33.333\\ \\mathrm{kg} \\cdot \\mathrm{s}^{-1}  \n",
       "\\end{aligned}\n",
       "\\]"
      ],
      "text/plain": [
       "<IPython.core.display.Latex object>"
      ]
     },
     "metadata": {},
     "output_type": "display_data"
    }
   ],
   "source": [
    "%%render\n",
    "F_h = 20*1e3/3600 * kg / s\n",
    "F_c = 120*1e3/3600 * kg / s"
   ]
  },
  {
   "cell_type": "markdown",
   "metadata": {},
   "source": [
    "Definiendo $N$ como el número de tubos multiplicado por el número de pasadas por los tubos, $N = N_t \\times N_{p,t}$, la caída de presión inicial es"
   ]
  },
  {
   "cell_type": "code",
   "execution_count": 4,
   "metadata": {},
   "outputs": [
    {
     "data": {
      "text/latex": [
       "\\[\n",
       "\\begin{aligned}\n",
       "f &= 0.007 \\; \n",
       " &G_{t} &= 689.800\\ \\mathrm{kg} \\cdot \\mathrm{m}^{-2} \\cdot \\mathrm{s}^{-1} \\; \n",
       " &\\mu &= 0.001\\ \\mathrm{kg} \\cdot \\mathrm{m}^{-1} \\cdot \\mathrm{s}^{-1} \\; \n",
       "\\\\[10pt]\n",
       " \\mu_{s} &= 0.001\\ \\mathrm{kg} \\cdot \\mathrm{m}^{-1} \\cdot \\mathrm{s}^{-1} \\; \n",
       " &N &= 252 \\; \n",
       " &N_{p} &= 2 \\; \\;\\textrm{(N de pasadas)}\n",
       "\\\\[10pt]\n",
       " L &= 5.000\\ \\mathrm{m} \\; \n",
       " &D_{e} &= 25.400\\ \\mathrm{mm} \\; \n",
       " &D_{i} &= 22.100\\ \\mathrm{mm} \\; \n",
       "\\\\[10pt]\n",
       " \\rho &= 998.000\\ \\mathrm{kg} \\cdot \\mathrm{m}^{-3} \\; \n",
       " &\\pi &= 3.142 \\;\n",
       "\\end{aligned}\n",
       "\\]"
      ],
      "text/plain": [
       "<IPython.core.display.Latex object>"
      ]
     },
     "metadata": {},
     "output_type": "display_data"
    }
   ],
   "source": [
    "%%render params\n",
    "f = 7.04e-3\n",
    "G_t = 689.8 * kg / m**2 / s\n",
    "mu = 9.59e-4 * Pa * s\n",
    "mu_s = 9.59e-4 * Pa * s\n",
    "N = 252\n",
    "N_p = 2 # N de pasadas\n",
    "L = 5 * m\n",
    "D_e = 0.0254 * m\n",
    "D_i = 0.0221 * m\n",
    "rho = 998 * kg / m**3\n",
    "pi = np.pi"
   ]
  },
  {
   "cell_type": "code",
   "execution_count": 5,
   "metadata": {},
   "outputs": [
    {
     "data": {
      "text/latex": [
       "\\[\n",
       "\\begin{aligned}\n",
       "a_{t} &= \\frac{ N }{ 2 } \\cdot \\pi \\cdot \\frac{ \\left( D_{i} \\right) ^{ 2 } }{ 4 }  = \\frac{ 252 }{ 2 } \\cdot 3.142 \\cdot \\frac{ \\left( 22.100\\ \\mathrm{mm} \\right) ^{ 2 } }{ 4 } &= 48333.136\\ \\mathrm{mm}^{2}  \n",
       "\\\\[10pt]\n",
       "G_{tc} &= \\frac{ F_{c} }{ a_{t} }  = \\frac{ 33.333\\ \\mathrm{kg} \\cdot \\mathrm{s}^{-1} }{ 48333.136\\ \\mathrm{mm}^{2} } &= 689.658\\ \\mathrm{kg} \\cdot \\mathrm{m}^{-2} \\cdot \\mathrm{s}^{-1}  \n",
       "\\\\[10pt]\n",
       "\\mathrm{Re} &= G_{t} \\cdot \\frac{ D_{i} }{ \\mu }  = 689.800\\ \\mathrm{kg} \\cdot \\mathrm{m}^{-2} \\cdot \\mathrm{s}^{-1} \\cdot \\frac{ 22.100\\ \\mathrm{mm} }{ 0.001\\ \\mathrm{kg} \\cdot \\mathrm{m}^{-1} \\cdot \\mathrm{s}^{-1} } &= 15896.330  \n",
       "\\\\[10pt]\n",
       "\\Delta_{p_{t_{1}}} &= \\left( 4 \\cdot f \\cdot \\left( \\frac{ L \\cdot N_{p} }{ D_{i} } \\right) + 4 \\cdot N_{p} \\right) \\cdot \\left( \\frac{ \\left( G_{t} \\right) ^{ 2 } }{ 2 \\cdot \\rho } \\right) \\cdot \\left( \\frac{ \\mu_{s} }{ \\mu } \\right) ^{ 0.14 } \\\\&= \\left( 4 \\cdot 0.007 \\cdot \\left( \\frac{ 5.000\\ \\mathrm{m} \\cdot 2 }{ 22.100\\ \\mathrm{mm} } \\right) + 4 \\cdot 2 \\right) \\cdot \\left( \\frac{ \\left( 689.800\\ \\mathrm{kg} \\cdot \\mathrm{m}^{-2} \\cdot \\mathrm{s}^{-1} \\right) ^{ 2 } }{ 2 \\cdot 998.000\\ \\mathrm{kg} \\cdot \\mathrm{m}^{-3} } \\right) \\cdot \\left( \\frac{ 0.001\\ \\mathrm{kg} \\cdot \\mathrm{m}^{-1} \\cdot \\mathrm{s}^{-1} }{ 0.001\\ \\mathrm{kg} \\cdot \\mathrm{m}^{-1} \\cdot \\mathrm{s}^{-1} } \\right) ^{ 0.14 } \\\\&= 4.945\\ \\mathrm{kPa}  \\\\[10pt]\n",
       "\\end{aligned}\n",
       "\\]"
      ],
      "text/plain": [
       "<IPython.core.display.Latex object>"
      ]
     },
     "metadata": {},
     "output_type": "display_data"
    }
   ],
   "source": [
    "%%render\n",
    "a_t = N/2 * pi*D_i**2/4\n",
    "G_tc = F_c/a_t\n",
    "Re = G_t * D_i / mu\n",
    "Delta_p_t_1 = (4 * f * ((L*N_p)/D_i) + 4 * N_p) * (G_t**2/(2*rho)) * (mu_s/mu)**0.14"
   ]
  },
  {
   "cell_type": "markdown",
   "metadata": {},
   "source": [
    "El 4 proviene de las pérdidas por singularidad mediante inversión de flujo, entrada y salida. Ahora repetiremos el cálculo de caída de presión con dos pasadas."
   ]
  },
  {
   "cell_type": "code",
   "execution_count": 6,
   "metadata": {},
   "outputs": [
    {
     "data": {
      "text/latex": [
       "\\[\n",
       "\\begin{aligned}\n",
       "N_{p} &= 4 \\; \n",
       "\\\\[10pt]\n",
       "\\Delta_{p_{t_{2}}} &= \\left( 4 \\cdot f \\cdot \\left( \\frac{ L \\cdot N_{p} }{ D_{i} } \\right) + 4 \\cdot N_{p} \\right) \\cdot \\left( \\frac{ \\left( G_{t} \\right) ^{ 2 } }{ 2 \\cdot \\rho } \\right) \\cdot \\left( \\frac{ \\mu_{s} }{ \\mu } \\right) ^{ 0.14 } \\\\&= \\left( 4 \\cdot 0.007 \\cdot \\left( \\frac{ 5.000\\ \\mathrm{m} \\cdot 4 }{ 22.100\\ \\mathrm{mm} } \\right) + 4 \\cdot 4 \\right) \\cdot \\left( \\frac{ \\left( 689.800\\ \\mathrm{kg} \\cdot \\mathrm{m}^{-2} \\cdot \\mathrm{s}^{-1} \\right) ^{ 2 } }{ 2 \\cdot 998.000\\ \\mathrm{kg} \\cdot \\mathrm{m}^{-3} } \\right) \\cdot \\left( \\frac{ 0.001\\ \\mathrm{kg} \\cdot \\mathrm{m}^{-1} \\cdot \\mathrm{s}^{-1} }{ 0.001\\ \\mathrm{kg} \\cdot \\mathrm{m}^{-1} \\cdot \\mathrm{s}^{-1} } \\right) ^{ 0.14 } \\\\&= 9.889\\ \\mathrm{kPa}  \\\\[10pt]\n",
       "\\end{aligned}\n",
       "\\]"
      ],
      "text/plain": [
       "<IPython.core.display.Latex object>"
      ]
     },
     "metadata": {},
     "output_type": "display_data"
    }
   ],
   "source": [
    "%%render\n",
    "N_p = 4\n",
    "Delta_p_t_2 = (4 * f * ((L*N_p)/D_i) + 4 * N_p) * (G_t**2/(2*rho)) * (mu_s/mu)**0.14"
   ]
  },
  {
   "cell_type": "markdown",
   "metadata": {},
   "source": [
    "La caída de presión por el lado de los tubos al aumentar el número de pasadas aumenta linealmente con el número de pasadas. No hay ningún otro parámetro que influya esta caída de presión asociado al número de pasadas. El flujo másico dentro del ICTC se mantiene constante."
   ]
  },
  {
   "cell_type": "code",
   "execution_count": 7,
   "metadata": {},
   "outputs": [
    {
     "data": {
      "text/latex": [
       "\\[\n",
       "\\begin{aligned}\n",
       "\\mathrm{per} &= \\frac{ \\Delta_{p_{t_{2}}} }{ \\Delta_{p_{t_{1}}} } - 1  = \\frac{ 9.889\\ \\mathrm{kPa} }{ 4.945\\ \\mathrm{kPa} } - 1 &= 1.000  \n",
       "\\end{aligned}\n",
       "\\]"
      ],
      "text/plain": [
       "<IPython.core.display.Latex object>"
      ]
     },
     "metadata": {},
     "output_type": "display_data"
    }
   ],
   "source": [
    "%%render\n",
    "per = Delta_p_t_2 / Delta_p_t_1 - 1"
   ]
  },
  {
   "cell_type": "markdown",
   "metadata": {},
   "source": [
    "La caída de presión por el lado de la carcasa se mantiene inalterada, mientras que la caída de presión por el lado de los tubos aumenta en un 100%"
   ]
  },
  {
   "cell_type": "markdown",
   "metadata": {},
   "source": [
    "### Transferencia de calor\n",
    "\n",
    "El aumento en el número de pasadas por los tubos no alterará el número de Reynolds ni los coeficientes de transferencia de calor en los lados del tubo y de la carcasa. Lo único que cambiará es el cálculo del coeficiente global de transferencia de calor, ya que el área de transferencia aumentará al doble.\n",
    "\n",
    "$Q_1 = Q_2$\n",
    "\n",
    "$$U_1 A_1 (F_T \\Delta T_{ml})_1 = U_2 A_2 (F_T \\Delta T_{ml})_2 $$\n",
    "\n",
    "Asumiendo que las variaciones de $F_T \\Delta T_{ml}$ serán despreciables,\n",
    "\n",
    "$$ \\frac{U_2}{U_1} = \\frac{A_1}{A_2} = \\frac{1 \\times N_t \\times \\pi \\times D_e \\times L}{2 \\times N_t \\times \\pi \\times D_e \\times L} = 1/2 $$"
   ]
  },
  {
   "cell_type": "code",
   "execution_count": 8,
   "metadata": {},
   "outputs": [
    {
     "data": {
      "text/latex": [
       "\\[\n",
       "\\begin{aligned}\n",
       "R &= \\frac{ F_{c} }{ F_{h} }  = \\frac{ 33.333\\ \\mathrm{kg} \\cdot \\mathrm{s}^{-1} }{ 5.556\\ \\mathrm{kg} \\cdot \\mathrm{s}^{-1} } &= 6.000  \n",
       "\\\\[10pt]\n",
       "T_{ci} &= 17.1 \\cdot C  = 17.1 \\cdot C &= 17.100\\ \\mathrm{C}  \n",
       "\\\\[10pt]\n",
       "T_{co} &= 25.1 \\cdot C  = 25.1 \\cdot C &= 25.100\\ \\mathrm{C}  \n",
       "\\\\[10pt]\n",
       "T_{hi} &= 80.8 \\cdot C  = 80.8 \\cdot C &= 80.800\\ \\mathrm{C}  \n",
       "\\\\[10pt]\n",
       "T_{ho} &= 32.8 \\cdot C  = 32.8 \\cdot C &= 32.800\\ \\mathrm{C}  \n",
       "\\\\[10pt]\n",
       "\\eta_{h} &= \\frac{ T_{co} - T_{ci} }{ T_{hi} - T_{ci} }  = \\frac{ 25.100\\ \\mathrm{C} - 17.100\\ \\mathrm{C} }{ 80.800\\ \\mathrm{C} - 17.100\\ \\mathrm{C} } &= 0.126  \n",
       "\\end{aligned}\n",
       "\\]"
      ],
      "text/plain": [
       "<IPython.core.display.Latex object>"
      ]
     },
     "metadata": {},
     "output_type": "display_data"
    }
   ],
   "source": [
    "%%render\n",
    "R = F_c/F_h\n",
    "\n",
    "T_ci = 17.1 * C\n",
    "T_co = 25.1 * C\n",
    "T_hi = 80.8 * C\n",
    "T_ho = 32.8 * C\n",
    "\n",
    "eta_h = (T_co-T_ci)/(T_hi-T_ci)"
   ]
  },
  {
   "cell_type": "markdown",
   "metadata": {},
   "source": [
    "Utilizando la tabla, $F_T = 0.9$ para el IC 1-2n. Si se aumenta sólo el núemro de tubos, no cambia el factor de corrección. Por lo tanto el coeficiente global de transferencia de calor disminuirá en un 50%."
   ]
  },
  {
   "cell_type": "markdown",
   "metadata": {},
   "source": [
    "## 2. Duplicar el espaciamiento de deflectores"
   ]
  },
  {
   "cell_type": "markdown",
   "metadata": {},
   "source": [
    "Caso inicial"
   ]
  },
  {
   "cell_type": "code",
   "execution_count": 9,
   "metadata": {},
   "outputs": [
    {
     "data": {
      "text/latex": [
       "\\[\n",
       "\\begin{aligned}\n",
       "D_{c} &= 0.625 \\; \n",
       "\\\\[10pt]\n",
       "B_{1} &= 0.125 \\; \n",
       "\\\\[10pt]\n",
       "P_{t} &= 1.25 \\cdot D_{e}  = 1.25 \\cdot 25.400\\ \\mathrm{mm} &= 31.750\\ \\mathrm{mm}  \n",
       "\\\\[10pt]\n",
       "a_{c1} &= D_{c} \\cdot B_{1} \\cdot \\frac{ P_{t} - D_{e} }{ P_{t} }  = 0.625 \\cdot 0.125 \\cdot \\frac{ 31.750\\ \\mathrm{mm} - 25.400\\ \\mathrm{mm} }{ 31.750\\ \\mathrm{mm} } &= 0.016  \n",
       "\\\\[10pt]\n",
       "B_{2} &= 2 \\cdot B_{1}  = 2 \\cdot 0.125 &= 0.250  \n",
       "\\\\[10pt]\n",
       "a_{c2} &= D_{c} \\cdot B_{2} \\cdot \\frac{ P_{t} - D_{e} }{ P_{t} }  = 0.625 \\cdot 0.250 \\cdot \\frac{ 31.750\\ \\mathrm{mm} - 25.400\\ \\mathrm{mm} }{ 31.750\\ \\mathrm{mm} } &= 0.031  \n",
       "\\end{aligned}\n",
       "\\]"
      ],
      "text/plain": [
       "<IPython.core.display.Latex object>"
      ]
     },
     "metadata": {},
     "output_type": "display_data"
    }
   ],
   "source": [
    "%%render\n",
    "D_c = 0.625\n",
    "B_1 = 0.125\n",
    "P_t = 1.25*D_e\n",
    "a_c1 = D_c * B_1 * (P_t - D_e) / P_t\n",
    "\n",
    "B_2 = 2*B_1\n",
    "a_c2 = D_c * B_2 * (P_t - D_e) / P_t"
   ]
  },
  {
   "cell_type": "markdown",
   "metadata": {},
   "source": [
    "Al duplicar el espaciamiento entre deflectores, el área de flujo por la carcasa se duplica."
   ]
  },
  {
   "cell_type": "code",
   "execution_count": 10,
   "metadata": {},
   "outputs": [
    {
     "data": {
      "text/latex": [
       "\\[\n",
       "\\begin{aligned}\n",
       "G_{c1} &= \\frac{ F_{h} }{ a_{c1} }  = \\frac{ 5.556\\ \\mathrm{kg} \\cdot \\mathrm{s}^{-1} }{ 0.016 } &= 355.556\\ \\mathrm{kg} \\cdot \\mathrm{s}^{-1}  \n",
       "\\\\[10pt]\n",
       "G_{c2} &= \\frac{ F_{h} }{ a_{c2} }  = \\frac{ 5.556\\ \\mathrm{kg} \\cdot \\mathrm{s}^{-1} }{ 0.031 } &= 177.778\\ \\mathrm{kg} \\cdot \\mathrm{s}^{-1}  \n",
       "\\end{aligned}\n",
       "\\]"
      ],
      "text/plain": [
       "<IPython.core.display.Latex object>"
      ]
     },
     "metadata": {},
     "output_type": "display_data"
    }
   ],
   "source": [
    "%%render\n",
    "G_c1 = F_h/a_c1\n",
    "G_c2 = F_h/a_c2"
   ]
  },
  {
   "cell_type": "markdown",
   "metadata": {},
   "source": [
    "Como los diámetros equivalentes son los mismos ya que no se modifica ningún elemento del arreglo de tubos, tenemos que"
   ]
  },
  {
   "cell_type": "markdown",
   "metadata": {},
   "source": [
    "$Re_1$ es conocido\n",
    "\n",
    "$$ (\\frac{G_c D}{\\mu})_1 = 18273 $$\n",
    "$$ \\frac{Re_2}{Re_1} = \\frac{G_{c2}}{G_{c1}}$$"
   ]
  },
  {
   "cell_type": "code",
   "execution_count": 11,
   "metadata": {},
   "outputs": [
    {
     "data": {
      "text/latex": [
       "\\[\n",
       "\\begin{aligned}\n",
       "\\mathrm{Re}_{c1} &= 18273 \\; \n",
       "\\\\[10pt]\n",
       "\\mathrm{Re}_{c2} &= \\mathrm{Re}_{c1} \\cdot \\frac{ G_{c2} }{ G_{c1} }  = 18273 \\cdot \\frac{ 177.778\\ \\mathrm{kg} \\cdot \\mathrm{s}^{-1} }{ 355.556\\ \\mathrm{kg} \\cdot \\mathrm{s}^{-1} } &= 9136.500  \n",
       "\\end{aligned}\n",
       "\\]"
      ],
      "text/plain": [
       "<IPython.core.display.Latex object>"
      ]
     },
     "metadata": {},
     "output_type": "display_data"
    }
   ],
   "source": [
    "%%render\n",
    "Re_c1 = 18273\n",
    "Re_c2 = Re_c1 * G_c2/G_c1"
   ]
  },
  {
   "cell_type": "markdown",
   "metadata": {},
   "source": [
    "Con esto podemos calcular el coeficiente de Colburn"
   ]
  },
  {
   "cell_type": "code",
   "execution_count": 12,
   "metadata": {},
   "outputs": [
    {
     "data": {
      "text/latex": [
       "\\[\n",
       "\\begin{aligned}\n",
       "j_{hc2} &= 0.36 \\cdot \\left( \\mathrm{Re}_{c2} \\right) ^{ 0.55 }  = 0.36 \\cdot \\left( 9136.500 \\right) ^{ 0.55 } &= 54.291  \n",
       "\\end{aligned}\n",
       "\\]"
      ],
      "text/plain": [
       "<IPython.core.display.Latex object>"
      ]
     },
     "metadata": {},
     "output_type": "display_data"
    }
   ],
   "source": [
    "%%render\n",
    "j_hc2 = 0.36 * Re_c2**0.55 "
   ]
  },
  {
   "cell_type": "markdown",
   "metadata": {},
   "source": [
    "ya que $Pr$ y $\\mu$ son los mismos en ambos casos, tenemos que"
   ]
  },
  {
   "cell_type": "markdown",
   "metadata": {},
   "source": [
    "$$ \\frac{Nu_2}{Nu_1} = \\frac{j_{hc2}}{j_{hc1}}$$"
   ]
  },
  {
   "cell_type": "code",
   "execution_count": 13,
   "metadata": {},
   "outputs": [
    {
     "data": {
      "text/latex": [
       "\\[\n",
       "\\begin{aligned}\n",
       "j_{hc1} &= 79.500 \\; \n",
       "\\\\[10pt]\n",
       "\\mathrm{Nusselt}_{1} &= 116.500 \\; \n",
       "\\\\[10pt]\n",
       "\\mathrm{Nusselt}_{2} &= \\frac{ j_{hc2} }{ j_{hc1} } \\cdot \\mathrm{Nusselt}_{1}  = \\frac{ 54.291 }{ 79.500 } \\cdot 116.500 &= 79.559  \n",
       "\\end{aligned}\n",
       "\\]"
      ],
      "text/plain": [
       "<IPython.core.display.Latex object>"
      ]
     },
     "metadata": {},
     "output_type": "display_data"
    }
   ],
   "source": [
    "%%render\n",
    "j_hc1 = 79.5\n",
    "Nusselt_1 = 116.5\n",
    "Nusselt_2 = j_hc2/j_hc1 * Nusselt_1"
   ]
  },
  {
   "cell_type": "markdown",
   "metadata": {},
   "source": [
    "Calculamos el diámetro equivalente de la carcasa"
   ]
  },
  {
   "cell_type": "code",
   "execution_count": 14,
   "metadata": {},
   "outputs": [
    {
     "data": {
      "text/latex": [
       "\\[\n",
       "\\begin{aligned}\n",
       "\\mu_{c1} &= 0.000 \\; \n",
       "\\\\[10pt]\n",
       "D_{e} &= \\mathrm{Re}_{c1} \\cdot \\frac{ \\mu }{ G_{c1} }  = 18273 \\cdot \\frac{ 0.001\\ \\mathrm{kg} \\cdot \\mathrm{m}^{-1} \\cdot \\mathrm{s}^{-1} }{ 355.556\\ \\mathrm{kg} \\cdot \\mathrm{s}^{-1} } &= 0.049\\ \\mathrm{m}^{-1}  \n",
       "\\end{aligned}\n",
       "\\]"
      ],
      "text/plain": [
       "<IPython.core.display.Latex object>"
      ]
     },
     "metadata": {},
     "output_type": "display_data"
    }
   ],
   "source": [
    "%%render\n",
    "mu_c1 = 4.89e-4\n",
    "D_e = Re_c1*mu/G_c1"
   ]
  },
  {
   "cell_type": "markdown",
   "metadata": {},
   "source": [
    "$$ \\frac{h_c2}{h_c1} = \\frac{Nu_2 D_{e2}}{k_2} \\frac{k_1}{Nu_1 D_{e1}} = Nu_2/Nu_1 $$"
   ]
  },
  {
   "cell_type": "code",
   "execution_count": 15,
   "metadata": {},
   "outputs": [
    {
     "data": {
      "text/latex": [
       "\\[\n",
       "\\begin{aligned}\n",
       "h_{c1} &= 3013 \\cdot \\frac{ W }{ \\left( m \\right) ^{ 2 } } \\cdot \\frac{1} { K }  = 3013 \\cdot \\frac{ W }{ \\left( m \\right) ^{ 2 } } \\cdot \\frac{1} { K } &= 3013.000\\ \\mathrm{kg} \\cdot \\mathrm{s}^{-3} \\cdot \\mathrm{K}^{-1}  \n",
       "\\\\[10pt]\n",
       "h_{c2} &= \\frac{ \\mathrm{Nusselt}_{2} }{ \\mathrm{Nusselt}_{1} } \\cdot h_{c1} \\\\&= \\frac{ 79.559 }{ 116.500 } \\cdot 3013.000\\ \\mathrm{kg} \\cdot \\mathrm{s}^{-3} \\cdot \\mathrm{K}^{-1} \\\\&= 2057.612\\ \\mathrm{kg} \\cdot \\mathrm{s}^{-3} \\cdot \\mathrm{K}^{-1}  \\\\[10pt]\n",
       "\\end{aligned}\n",
       "\\]"
      ],
      "text/plain": [
       "<IPython.core.display.Latex object>"
      ]
     },
     "metadata": {},
     "output_type": "display_data"
    }
   ],
   "source": [
    "%%render\n",
    "h_c1 = 3013 * W / m**2/K\n",
    "h_c2 = Nusselt_2/Nusselt_1 * h_c1"
   ]
  },
  {
   "cell_type": "code",
   "execution_count": 16,
   "metadata": {},
   "outputs": [
    {
     "data": {
      "text/latex": [
       "\\[\n",
       "\\begin{aligned}\n",
       "h_{t} &= 3192 \\cdot \\frac{ W }{ \\left( m \\right) ^{ 2 } \\cdot K }  = 3192 \\cdot \\frac{ W }{ \\left( m \\right) ^{ 2 } \\cdot K } &= 3192.000\\ \\mathrm{kg} \\cdot \\mathrm{s}^{-3} \\cdot \\mathrm{K}^{-1}  \n",
       "\\\\[10pt]\n",
       "A_{o} &= 100.5 \\cdot \\left( m \\right) ^{ 2 }  = 100.5 \\cdot \\left( m \\right) ^{ 2 } &= 100.500\\ \\mathrm{m}^{2}  \n",
       "\\\\[10pt]\n",
       "A_{i} &= 87.5 \\cdot \\left( m \\right) ^{ 2 }  = 87.5 \\cdot \\left( m \\right) ^{ 2 } &= 87.500\\ \\mathrm{m}^{2}  \n",
       "\\\\[10pt]\n",
       "U_{1} &= \\left( \\frac{ 1 }{ h_{c1} } + \\frac{ A_{o} }{ A_{i} } \\cdot \\frac{ 1 }{ h_{t} } \\right) ^{ -1 } \\\\&= \\left( \\frac{ 1 }{ 3013.000\\ \\mathrm{kg} \\cdot \\mathrm{s}^{-3} \\cdot \\mathrm{K}^{-1} } + \\frac{ 100.500\\ \\mathrm{m}^{2} }{ 87.500\\ \\mathrm{m}^{2} } \\cdot \\frac{ 1 }{ 3192.000\\ \\mathrm{kg} \\cdot \\mathrm{s}^{-3} \\cdot \\mathrm{K}^{-1} } \\right) ^{ -1 } \\\\&= 1445.665\\ \\mathrm{kg} \\cdot \\mathrm{s}^{-3} \\cdot \\mathrm{K}^{-1}  \\\\[10pt]\n",
       "\\\\[10pt]\n",
       "U_{2} &= \\left( \\frac{ 1 }{ h_{c2} } + \\frac{ A_{o} }{ A_{i} } \\cdot \\frac{ 1 }{ h_{t} } \\right) ^{ -1 } \\\\&= \\left( \\frac{ 1 }{ 2057.612\\ \\mathrm{kg} \\cdot \\mathrm{s}^{-3} \\cdot \\mathrm{K}^{-1} } + \\frac{ 100.500\\ \\mathrm{m}^{2} }{ 87.500\\ \\mathrm{m}^{2} } \\cdot \\frac{ 1 }{ 3192.000\\ \\mathrm{kg} \\cdot \\mathrm{s}^{-3} \\cdot \\mathrm{K}^{-1} } \\right) ^{ -1 } \\\\&= 1182.273\\ \\mathrm{kg} \\cdot \\mathrm{s}^{-3} \\cdot \\mathrm{K}^{-1}  \\\\[10pt]\n",
       "\\\\[10pt]\n",
       "\\delta_{U} &= 100 \\cdot \\left( \\frac{ U_{2} }{ U_{1} } - 1 \\right) \\\\&= 100 \\cdot \\left( \\frac{ 1182.273\\ \\mathrm{kg} \\cdot \\mathrm{s}^{-3} \\cdot \\mathrm{K}^{-1} }{ 1445.665\\ \\mathrm{kg} \\cdot \\mathrm{s}^{-3} \\cdot \\mathrm{K}^{-1} } - 1 \\right) \\\\&= -18.219  \\\\[10pt]\n",
       "\\end{aligned}\n",
       "\\]"
      ],
      "text/plain": [
       "<IPython.core.display.Latex object>"
      ]
     },
     "metadata": {},
     "output_type": "display_data"
    }
   ],
   "source": [
    "%%render\n",
    "h_t = 3192 * W / (m**2 * K)\n",
    "A_o = 100.5 * m**2\n",
    "A_i = 87.5 * m**2\n",
    "U_1 = (1/h_c1 + A_o/A_i * 1/h_t)**-1\n",
    "U_2 = (1/h_c2 + A_o/A_i * 1/h_t)**-1\n",
    "delta_U = 100 * (U_2/U_1 - 1)"
   ]
  },
  {
   "cell_type": "markdown",
   "metadata": {},
   "source": [
    "Por lo tanto el coeficiente globala de transferencia de calor disminuirá en un 18.22%. Ahora procederemos al cálculo de caída de presión. Notando que ahora el espaciamiento de la carcasa se duplico, asumiremos que $N_b = 20$. Asumiendo que no hay gran variación en los factores de fricción para la disminuicón del número de Reynolds, $f_1 = f_2$, tenemos que\n"
   ]
  },
  {
   "cell_type": "markdown",
   "metadata": {},
   "source": [
    "$$ \\frac{\\Delta p_2}{\\Delta p_1} = \\frac{(N_{b1} + 1)(G_{c1}^2)}{(N_{b2} + 1)(G_{c2}^2)} $$"
   ]
  },
  {
   "cell_type": "code",
   "execution_count": 17,
   "metadata": {},
   "outputs": [
    {
     "data": {
      "text/latex": [
       "\\[\n",
       "\\begin{aligned}\n",
       "N_{b1} &= 39 \\; \n",
       "\\\\[10pt]\n",
       "N_{b2} &= 19 \\; \n",
       "\\\\[10pt]\n",
       "f_{1} &= 0.276 \\; \n",
       "\\\\[10pt]\n",
       "f_{2} &= 0.300 \\; \n",
       "\\\\[10pt]\n",
       "\\mathrm{dp2dp1} &= \\frac{ \\left( N_{b2} + 1 \\right) \\cdot \\left( G_{c2} \\right) ^{ 2 } }{ \\left( N_{b1} + 1 \\right) \\cdot \\left( G_{c1} \\right) ^{ 2 } } \\cdot \\left( \\frac{ f_{2} }{ f_{1} } \\right) \\\\&= \\frac{ \\left( 19 + 1 \\right) \\cdot \\left( 177.778\\ \\mathrm{kg} \\cdot \\mathrm{s}^{-1} \\right) ^{ 2 } }{ \\left( 39 + 1 \\right) \\cdot \\left( 355.556\\ \\mathrm{kg} \\cdot \\mathrm{s}^{-1} \\right) ^{ 2 } } \\cdot \\left( \\frac{ 0.300 }{ 0.276 } \\right) \\\\&= 0.136  \\\\[10pt]\n",
       "\\\\[10pt]\n",
       "\\mathrm{dp1} &= 17610 \\cdot \\mathrm{Pa}  = 17610 \\cdot Pa &= 17.610\\ \\mathrm{kPa}  \n",
       "\\\\[10pt]\n",
       "\\Delta_{p2} &= \\mathrm{dp2dp1} \\cdot \\mathrm{dp1}  = 0.136 \\cdot 17.610\\ \\mathrm{kPa} &= 2.393\\ \\mathrm{kPa}  \n",
       "\\end{aligned}\n",
       "\\]"
      ],
      "text/plain": [
       "<IPython.core.display.Latex object>"
      ]
     },
     "metadata": {},
     "output_type": "display_data"
    }
   ],
   "source": [
    "%%render\n",
    "N_b1 = 39\n",
    "N_b2 = 19\n",
    "f_1 = 0.276\n",
    "f_2 = 0.3\n",
    "dp2dp1 = ((N_b2+1)*G_c2**2)/((N_b1 + 1)*G_c1**2) * (f_2/f_1)\n",
    "dp1 = 17610 * Pa\n",
    "Delta_p2 = dp2dp1 * dp1"
   ]
  },
  {
   "cell_type": "markdown",
   "metadata": {},
   "source": [
    "Que es aproximadamente la mitad de la caida de presión por el lado de los tubos. El beneficio de esta modificación es que ahora el fluido por el lado de los tubos tiene mayor presión."
   ]
  },
  {
   "cell_type": "markdown",
   "metadata": {},
   "source": [
    "### Pregunta 3"
   ]
  },
  {
   "cell_type": "markdown",
   "metadata": {},
   "source": [
    "El cambio anterior se recomienda, sin embargo una solución óptima se puede encontrar con un mayor número de deflectores,"
   ]
  },
  {
   "cell_type": "code",
   "execution_count": 18,
   "metadata": {},
   "outputs": [
    {
     "data": {
      "text/latex": [
       "\\[\n",
       "\\begin{aligned}\n",
       "B &= \\frac{ L }{ N_{b1} + 1 }  = \\frac{ 5.000\\ \\mathrm{m} }{ 39.000 + 1 } &= 125.000\\ \\mathrm{mm}  \n",
       "\\\\[10pt]\n",
       "N_{b1} &= \\frac{ L }{ B } - 1  = \\frac{ 5.000\\ \\mathrm{m} }{ 125.000\\ \\mathrm{mm} } - 1 &= 39.000  \n",
       "\\\\[10pt]\n",
       "\\mathrm{B3} &= 1.6 \\cdot B  = 1.6 \\cdot 125.000\\ \\mathrm{mm} &= 200.000\\ \\mathrm{mm}  \n",
       "\\\\[10pt]\n",
       "N_{b3} &= \\frac{ L }{ \\mathrm{B3} } - 1  = \\frac{ 5.000\\ \\mathrm{m} }{ 200.000\\ \\mathrm{mm} } - 1 &= 24.000  \n",
       "\\\\[10pt]\n",
       "G_{c3} &= G_{c1} \\cdot \\frac{ B }{ \\mathrm{B3} }  = 355.556\\ \\mathrm{kg} \\cdot \\mathrm{s}^{-1} \\cdot \\frac{ 125.000\\ \\mathrm{mm} }{ 200.000\\ \\mathrm{mm} } &= 222.222\\ \\mathrm{kg} \\cdot \\mathrm{s}^{-1}  \n",
       "\\\\[10pt]\n",
       "\\mathrm{dp2dp1} &= \\frac{ \\left( N_{b3} + 1 \\right) \\cdot \\left( G_{c3} \\right) ^{ 2 } }{ \\left( N_{b1} + 1 \\right) \\cdot \\left( G_{c1} \\right) ^{ 2 } } \\cdot \\left( \\frac{ f_{2} }{ f_{1} } \\right) \\\\&= \\frac{ \\left( 24.000 + 1 \\right) \\cdot \\left( 222.222\\ \\mathrm{kg} \\cdot \\mathrm{s}^{-1} \\right) ^{ 2 } }{ \\left( 39.000 + 1 \\right) \\cdot \\left( 355.556\\ \\mathrm{kg} \\cdot \\mathrm{s}^{-1} \\right) ^{ 2 } } \\cdot \\left( \\frac{ 0.300 }{ 0.276 } \\right) \\\\&= 0.265  \\\\[10pt]\n",
       "\\\\[10pt]\n",
       "\\Delta_{p2} &= \\mathrm{dp1} \\cdot \\mathrm{dp2dp1}  = 17.610\\ \\mathrm{kPa} \\cdot 0.265 &= 4.673\\ \\mathrm{kPa}  \n",
       "\\end{aligned}\n",
       "\\]"
      ],
      "text/plain": [
       "<IPython.core.display.Latex object>"
      ]
     },
     "metadata": {},
     "output_type": "display_data"
    }
   ],
   "source": [
    "%%render\n",
    "B = L/(N_b1+1)\n",
    "N_b1 = L/B-1\n",
    "B3 = 1.6 * B\n",
    "N_b3 = L/(B3)-1\n",
    "G_c3 = G_c1 * B/B3\n",
    "dp2dp1 = ((N_b3+1)*G_c3**2)/((N_b1 + 1)*G_c1**2) * (f_2/f_1)\n",
    "Delta_p2 = dp1*dp2dp1"
   ]
  },
  {
   "cell_type": "markdown",
   "metadata": {},
   "source": [
    "Calculamos el nuevo coeficiente de transferencia de calor tomando la razón de los caudales elevado a 0.55, "
   ]
  },
  {
   "cell_type": "code",
   "execution_count": 19,
   "metadata": {},
   "outputs": [
    {
     "data": {
      "text/latex": [
       "\\[\n",
       "\\begin{aligned}\n",
       "h_{c3} &= \\left( \\frac{ G_{c3} }{ G_{c1} } \\right) ^{ 0.55 } \\cdot h_{c1} \\\\&= \\left( \\frac{ 222.222\\ \\mathrm{kg} \\cdot \\mathrm{s}^{-1} }{ 355.556\\ \\mathrm{kg} \\cdot \\mathrm{s}^{-1} } \\right) ^{ 0.55 } \\cdot 3013.000\\ \\mathrm{kg} \\cdot \\mathrm{s}^{-3} \\cdot \\mathrm{K}^{-1} \\\\&= 2326.661\\ \\mathrm{kg} \\cdot \\mathrm{s}^{-3} \\cdot \\mathrm{K}^{-1}  \\\\[10pt]\n",
       "\\end{aligned}\n",
       "\\]"
      ],
      "text/plain": [
       "<IPython.core.display.Latex object>"
      ]
     },
     "metadata": {},
     "output_type": "display_data"
    }
   ],
   "source": [
    "%%render\n",
    "h_c3 = (G_c3/G_c1)**0.55 * h_c1"
   ]
  },
  {
   "cell_type": "markdown",
   "metadata": {},
   "source": [
    "Finalmente, calculamos el cambio en el coeficiente global de transferencia de calor para la nueva configuración."
   ]
  },
  {
   "cell_type": "code",
   "execution_count": 20,
   "metadata": {},
   "outputs": [
    {
     "data": {
      "text/latex": [
       "\\[\n",
       "\\begin{aligned}\n",
       "h_{t} &= 3192.000\\ \\mathrm{kg} \\cdot \\mathrm{s}^{-3} \\cdot \\mathrm{K}^{-1} \\; \n",
       " &A_{o} &= 100.500\\ \\mathrm{m}^{2} \\; \n",
       " &A_{i} &= 87.500\\ \\mathrm{m}^{2} \\; \n",
       "\\\\[10pt]\n",
       "\\end{aligned}\n",
       "\\]"
      ],
      "text/plain": [
       "<IPython.core.display.Latex object>"
      ]
     },
     "metadata": {},
     "output_type": "display_data"
    }
   ],
   "source": [
    "%%render params\n",
    "h_t = 3192 * W/(m**2 * K)\n",
    "A_o = 100.5 * m**2\n",
    "A_i = 87.5 * m**2"
   ]
  },
  {
   "cell_type": "code",
   "execution_count": 21,
   "metadata": {},
   "outputs": [
    {
     "data": {
      "text/latex": [
       "\\[\n",
       "\\begin{aligned}\n",
       "U_{1} &= \\left( \\frac{ 1 }{ h_{c1} } + \\frac{ A_{o} }{ A_{i} } \\cdot \\frac{ 1 }{ h_{t} } \\right) ^{ -1 } \\\\&= \\left( \\frac{ 1 }{ 3013.000\\ \\mathrm{kg} \\cdot \\mathrm{s}^{-3} \\cdot \\mathrm{K}^{-1} } + \\frac{ 100.500\\ \\mathrm{m}^{2} }{ 87.500\\ \\mathrm{m}^{2} } \\cdot \\frac{ 1 }{ 3192.000\\ \\mathrm{kg} \\cdot \\mathrm{s}^{-3} \\cdot \\mathrm{K}^{-1} } \\right) ^{ -1 } \\\\&= 1445.665\\ \\mathrm{kg} \\cdot \\mathrm{s}^{-3} \\cdot \\mathrm{K}^{-1}  \\\\[10pt]\n",
       "\\\\[10pt]\n",
       "U_{2} &= \\left( \\frac{ 1 }{ h_{c3} } + \\frac{ A_{o} }{ A_{i} } \\cdot \\frac{ 1 }{ h_{t} } \\right) ^{ -1 } \\\\&= \\left( \\frac{ 1 }{ 2326.661\\ \\mathrm{kg} \\cdot \\mathrm{s}^{-3} \\cdot \\mathrm{K}^{-1} } + \\frac{ 100.500\\ \\mathrm{m}^{2} }{ 87.500\\ \\mathrm{m}^{2} } \\cdot \\frac{ 1 }{ 3192.000\\ \\mathrm{kg} \\cdot \\mathrm{s}^{-3} \\cdot \\mathrm{K}^{-1} } \\right) ^{ -1 } \\\\&= 1266.418\\ \\mathrm{kg} \\cdot \\mathrm{s}^{-3} \\cdot \\mathrm{K}^{-1}  \\\\[10pt]\n",
       "\\\\[10pt]\n",
       "\\delta_{U} &= 100 \\cdot \\left( \\frac{ U_{2} }{ U_{1} } - 1 \\right) \\\\&= 100 \\cdot \\left( \\frac{ 1266.418\\ \\mathrm{kg} \\cdot \\mathrm{s}^{-3} \\cdot \\mathrm{K}^{-1} }{ 1445.665\\ \\mathrm{kg} \\cdot \\mathrm{s}^{-3} \\cdot \\mathrm{K}^{-1} } - 1 \\right) \\\\&= -12.399 \\; \\;\\textrm{(%)}\\\\[10pt]\n",
       "\\end{aligned}\n",
       "\\]"
      ],
      "text/plain": [
       "<IPython.core.display.Latex object>"
      ]
     },
     "metadata": {},
     "output_type": "display_data"
    }
   ],
   "source": [
    "%%render\n",
    "U_1 = (1/h_c1 + A_o/A_i * 1/h_t)**-1\n",
    "U_2 = (1/h_c3 + A_o/A_i * 1/h_t)**-1\n",
    "delta_U = 100* (U_2/U_1 - 1) #%"
   ]
  },
  {
   "cell_type": "markdown",
   "metadata": {},
   "source": [
    "Esta opción obtiene similares caídas de presión, y tan solo una disminución de 12.4% en el coeficiente global de transferencia de calor."
   ]
  }
 ],
 "metadata": {
  "kernelspec": {
   "display_name": "Python 3 (ipykernel)",
   "language": "python",
   "name": "python3"
  },
  "language_info": {
   "codemirror_mode": {
    "name": "ipython",
    "version": 3
   },
   "file_extension": ".py",
   "mimetype": "text/x-python",
   "name": "python",
   "nbconvert_exporter": "python",
   "pygments_lexer": "ipython3",
   "version": "3.11.7"
  }
 },
 "nbformat": 4,
 "nbformat_minor": 4
}
