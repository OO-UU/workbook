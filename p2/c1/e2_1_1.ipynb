{
 "cells": [
  {
   "cell_type": "markdown",
   "id": "45d6ad15-eeba-4fda-bb2a-c76a919fafc0",
   "metadata": {},
   "source": [
    "# Ejercicio 1: ICDT"
   ]
  },
  {
   "cell_type": "markdown",
   "id": "e0efa861-0baa-437e-99c0-053d5bce9add",
   "metadata": {},
   "source": [
    "## Enunciado"
   ]
  },
  {
   "cell_type": "markdown",
   "id": "feccc2b6-0dbd-4a5c-a324-4c6b651c0ed2",
   "metadata": {},
   "source": [
    "Se desea enfriar un flujo de tolueno ($0.48~\\text{kg/s}$) hasta alcanzar los $75~\\text{°C}$. Para esto, se utiliza un flujo de agua ($0.55~\\text{kg/s}$) a contracorrientes que pasa por el ánulo de un intercambiador de doble tubo. Al inicio de la operación, el agua se encuentra a $10~\\text{°C}$ y termina saliendo del proceso a $20~\\text{°C}$. El tubo es de acero ($k_p = 50.2~\\text{W/m}\\cdot\\text{K}$) y considere que su diámetro interno del tubo es $D_i=15~\\text{cm}$, que el diámetro externo del tubo es $D_{i,e}=15.5~\\text{cm}$ y que el díametro interno del ánulo es $D_a= 25~\\text{cm}$.\n",
    "\n",
    "Para las condiciones descritas en el enunciado, las propiedades termofísicas del tolueno y el agua son las siguientes:"
   ]
  },
  {
   "attachments": {},
   "cell_type": "markdown",
   "id": "d296da5b-6e85-454e-b9fc-70fec1ed722e",
   "metadata": {},
   "source": [
    "```{list-table} Propiedades termofísicas del tolueno y el agua en función de su temperatura promedio.\n",
    ":header-rows: 1\n",
    ":name: tabla-e2_1_1\n",
    ":align: center\n",
    "\n",
    "* - Fluido\n",
    "  - $c_P~\\text{(J/kg}\\cdot\\text{K)}$\n",
    "  - $\\rho~\\text{(kg/m}^3\\text{)}$\n",
    "  - $\\mu~\\text{(Pa}\\cdot\\text{s)}$\n",
    "  - $k~\\text{(W/m}\\cdot\\text{K)}$\n",
    "* - Tolueno\n",
    "  - 1917.25\n",
    "  - 802.355\n",
    "  - 3.003$\\times$10$^{-4}$\n",
    "  - 0.11329\n",
    "* - Agua\n",
    "  - 4181.95\n",
    "  - 996.93\n",
    "  - 8.994$\\times$10$^{-4}$\n",
    "  - 0.6062\n",
    "```"
   ]
  },
  {
   "cell_type": "markdown",
   "id": "9fbffabb-8399-44f6-a878-a0d5c0294db2",
   "metadata": {},
   "source": [
    "Encuentre lo siguiente:\n",
    "1. La temperatura de entrada del tolueno.\n",
    "2. Los coeficientes de transferencia de calor para fluido que circula por el tubo y por el ánulo.\n",
    "3. Si el coeficiente de transferencia global total ($U_T$) es $28.43~\\text{W/m}^2\\cdot\\text{K}$, encuentre el factor de ensuciamiento."
   ]
  },
  {
   "cell_type": "markdown",
   "id": "f778eeb5-b2f5-400f-863e-36845aab9967",
   "metadata": {},
   "source": [
    "{ref}`Ver solución <part2:cap1:ex1:sol>`\n",
    "\n",
    "<br/><br/>\n",
    "<br/><br/>\n",
    "<br/><br/>\n",
    "<br/><br/>\n",
    "<br/><br/>\n",
    "<br/><br/>\n",
    "<br/><br/>\n",
    "<br/><br/>"
   ]
  },
  {
   "cell_type": "markdown",
   "id": "814d37b3-d788-4059-b873-0b742fee4adb",
   "metadata": {},
   "source": [
    "(part2:cap1:ex1:sol)=\n",
    "## Solución"
   ]
  },
  {
   "cell_type": "code",
   "execution_count": 1,
   "id": "bdf6c544-872a-44bd-b782-df0eaee8aaad",
   "metadata": {},
   "outputs": [],
   "source": [
    "import handcalcs.render\n",
    "from handcalcs import handcalc\n",
    "from numpy import pi, log"
   ]
  },
  {
   "cell_type": "markdown",
   "id": "1a882db5-6126-484b-ab90-350e7ddbbfb5",
   "metadata": {},
   "source": [
    "### Inciso 1"
   ]
  },
  {
   "cell_type": "markdown",
   "id": "2c70f507-e187-4d77-8d8f-f5a146fc1ac1",
   "metadata": {},
   "source": [
    "Para encontrar la temperatura de entrada del tolueno, podemos igualar los valores de $q$:\n",
    "\n",
    "$$\n",
    "q = \\dot{m}_hc_{P,h}(T_{h,e}-T_{h,s}) = \\dot{m}_cc_{P,c}(T_{c,s}-T_{c,e})\n",
    "$$"
   ]
  },
  {
   "cell_type": "markdown",
   "id": "56a6de6a-5e81-4df8-9be8-11c904747961",
   "metadata": {},
   "source": [
    "Para este ejercicio, el fluido caliente (tolueno) con subíndice $h$ pasa por el tubo, mientras que el fluido de enfriamiento (agua) con subíndice $c$ pasa por el ánulo. Del enunciado recuperamos todas las variables relevantes."
   ]
  },
  {
   "cell_type": "code",
   "execution_count": 2,
   "id": "ac65974a-2ff7-42d2-a916-bd76ab5966ad",
   "metadata": {},
   "outputs": [
    {
     "data": {
      "text/latex": [
       "\\[\n",
       "\\begin{aligned}\n",
       "m_{c} &= 5.500 \\times 10 ^ {-1} \\; \\;\\textrm{(kg/s)}\n",
       " &T_{ce} &= 2.831 \\times 10 ^ {2} \\; \\;\\textrm{(K)}\n",
       " &T_{cs} &= 2.931 \\times 10 ^ {2} \\; \\;\\textrm{(K)}\n",
       "\\\\[10pt]\n",
       " \\mu_{c} &= 8.994 \\times 10 ^ {-4} \\; \\;\\textrm{(Pa$\\cdot$s)}\n",
       " &c_{Pc} &= 4.182 \\times 10 ^ {3} \\; \\;\\textrm{(J/kg$\\cdot$K)}\n",
       " &k_{c} &= 6.062 \\times 10 ^ {-1} \\; \\;\\textrm{(W/m$\\cdot$K)}\n",
       "\\\\[10pt]\n",
       " m_{h} &= 4.800 \\times 10 ^ {-1} \\; \\;\\textrm{(kg/s)}\n",
       " &T_{hs} &= 3.481 \\times 10 ^ {2} \\; \\;\\textrm{(K)}\n",
       " &\\mu_{h} &= 3.003 \\times 10 ^ {-4} \\; \\;\\textrm{(Pa$\\cdot$s)}\n",
       "\\\\[10pt]\n",
       " c_{Ph} &= 1.917 \\times 10 ^ {3} \\; \\;\\textrm{(J/kg$\\cdot$K)}\n",
       " &k_{h} &= 1.133 \\times 10 ^ {-1} \\; \\;\\textrm{(W/m$\\cdot$K)}\n",
       "\\end{aligned}\n",
       "\\]"
      ],
      "text/plain": [
       "<IPython.core.display.Latex object>"
      ]
     },
     "metadata": {},
     "output_type": "display_data"
    }
   ],
   "source": [
    "%%render params sci_not\n",
    "m_c = 0.55 #kg/s\n",
    "T_ce = 10+273.15 #K\n",
    "T_cs = 20+273.15 #K\n",
    "mu_c = 8.994e-4 #Pa$\\cdot$s\n",
    "c_Pc = 4181.95 #J/kg$\\cdot$K\n",
    "k_c = 0.6062 #W/m$\\cdot$K\n",
    "m_h = 0.48 #kg/s\n",
    "T_hs = 75+273.15 #K\n",
    "mu_h = 3.003e-4 #Pa$\\cdot$s\n",
    "c_Ph = 1917.25 #J/kg$\\cdot$K\n",
    "k_h = 0.11329 #W/m$\\cdot$K"
   ]
  },
  {
   "cell_type": "code",
   "execution_count": 3,
   "id": "95e965c0-8bfa-4cb3-a853-2b6d6ee68334",
   "metadata": {},
   "outputs": [
    {
     "data": {
      "text/latex": [
       "\\[\n",
       "\\begin{aligned}\n",
       "q &= m_{c} \\cdot c_{Pc} \\cdot \\left( T_{cs} - T_{ce} \\right) \\\\&= 0.550 \\cdot 4181.950 \\cdot \\left( 293.150 - 283.150 \\right) \\\\&= 23000.725 \\; \\;\\textrm{(J/s)}\\\\[10pt]\n",
       "\\\\[10pt]\n",
       "T_{he} &= \\frac{ q }{ m_{h} \\cdot c_{Ph} } + T_{hs} \\\\&= \\frac{ 23000.725 }{ 0.480 \\cdot 1917.250 } + 348.150 \\\\&= 373.143 \\; \\;\\textrm{(K)}\\\\[10pt]\n",
       "\\end{aligned}\n",
       "\\]"
      ],
      "text/plain": [
       "<IPython.core.display.Latex object>"
      ]
     },
     "metadata": {},
     "output_type": "display_data"
    }
   ],
   "source": [
    "%%render long\n",
    "q = m_c*c_Pc*(T_cs-T_ce) #J/s\n",
    "T_he = q/(m_h*c_Ph)+T_hs #K"
   ]
  },
  {
   "cell_type": "markdown",
   "id": "c9075f6c-5e7c-4897-82fc-a4e0a857d8c7",
   "metadata": {},
   "source": [
    "### Inciso 2"
   ]
  },
  {
   "cell_type": "markdown",
   "id": "27a26d65-103a-4516-a943-03d8c075490d",
   "metadata": {},
   "source": [
    "Para calcular los coeficientes de transferencia de calor vienen dados por el número de Nusselt.\n",
    "\n",
    "$$\n",
    "Nu_D = \\frac{hD_{térmico}}{k}\n",
    "$$"
   ]
  },
  {
   "cell_type": "markdown",
   "id": "f0d5a219-02bc-457c-9386-532e02c4e2d5",
   "metadata": {},
   "source": [
    "El cual puede ser despejado de distintas correlaciones dependiendo del tipo de fluido. Por lo que es recomendable empezar calculando el número de Reynolds para discriminar el tipo de flujo.\n",
    "\n",
    "$$\n",
    "Re_D = \\frac{D_{térmico}\\cdot\\dot{m}}{A_t\\cdot\\mu}\n",
    "$$"
   ]
  },
  {
   "cell_type": "markdown",
   "id": "9bcd1a28-839e-4e8f-ab80-568ac977896e",
   "metadata": {},
   "source": [
    "Por un lado, el diámetro térmico equivalente para el flujo que pasa por el tubo será equivalente al diámetro interno de la tubería. Por otro lado, el diámetro térmico equivalente para el flujo que pasa por el ánulo, será el siguiente:\n",
    "\n",
    "$$\n",
    "D_{térmico} = \\frac{D_{a}^2-D_{i,e}^2}{D_{i,e}}\n",
    "$$"
   ]
  },
  {
   "cell_type": "markdown",
   "id": "7a8c6afa-34a5-4253-88e8-b33cd80dca67",
   "metadata": {},
   "source": [
    "Luego, podemos calcular los números de Prandtl y de Reynolds para ambos flujos."
   ]
  },
  {
   "cell_type": "code",
   "execution_count": 4,
   "id": "822dc2e8-080a-4302-ba81-bb2dedeb2967",
   "metadata": {},
   "outputs": [
    {
     "data": {
      "text/latex": [
       "\\[\n",
       "\\begin{aligned}\n",
       "D_{i} &= 0.150 \\; \\;\\textrm{(m)}\n",
       " &D_{ie} &= 0.155 \\; \\;\\textrm{(m)}\n",
       " &D_{a} &= 0.250 \\; \\;\\textrm{(m)}\n",
       "\\\\[10pt]\n",
       " k_{p} &= 50.200 \\; \\;\\textrm{(W/m$\\cdot$K)}\n",
       " &\\mathrm{Pr}_{h} &= 5.082 \\; \n",
       " &\\mathrm{Pr}_{c} &= 6.205 \\; \n",
       "\\\\[10pt]\n",
       "\\end{aligned}\n",
       "\\]"
      ],
      "text/plain": [
       "<IPython.core.display.Latex object>"
      ]
     },
     "metadata": {},
     "output_type": "display_data"
    }
   ],
   "source": [
    "%%render params\n",
    "D_i = 15/100 #m\n",
    "D_ie = 15.5/100 #m\n",
    "D_a = 25/100 #m\n",
    "k_p = 50.2 #W/m$\\cdot$K\n",
    "Pr_h = (mu_h*c_Ph)/k_h\n",
    "Pr_c = (mu_c*c_Pc)/k_c"
   ]
  },
  {
   "cell_type": "code",
   "execution_count": 5,
   "id": "1b092e92-313a-4a22-bd22-583e5ce18933",
   "metadata": {},
   "outputs": [
    {
     "data": {
      "text/latex": [
       "\\[\n",
       "\\begin{aligned}\n",
       "\\mathrm{Re}_{Dh} &= \\frac{ D_{i} \\cdot m_{h} }{ \\pi \\cdot \\left( \\frac{ D_{i} }{ 2 } \\right) ^{ 2 } \\cdot \\mu_{h} } \\\\&= \\frac{ 0.150 \\cdot 0.480 }{ 3.142 \\cdot \\left( \\frac{ 0.150 }{ 2 } \\right) ^{ 2 } \\cdot 0.000 } \\\\&= 13567.654  \\\\[10pt]\n",
       "\\\\[10pt]\n",
       "D_{t} &= \\frac{ \\left( D_{a} \\right) ^{ 2 } - \\left( D_{ie} \\right) ^{ 2 } }{ D_{ie} } \\\\&= \\frac{ \\left( 0.250 \\right) ^{ 2 } - \\left( 0.155 \\right) ^{ 2 } }{ 0.155 } \\\\&= 0.248 \\; \\;\\textrm{(m)}\\\\[10pt]\n",
       "\\\\[10pt]\n",
       "\\mathrm{Re}_{Dc} &= \\frac{ D_{t} \\cdot m_{c} }{ \\pi \\cdot \\left( \\frac{ D_{a} - D_{ie} }{ 2 } \\right) ^{ 2 } \\cdot \\mu_{c} } \\\\&= \\frac{ 0.248 \\cdot 0.550 }{ 3.142 \\cdot \\left( \\frac{ 0.250 - 0.155 }{ 2 } \\right) ^{ 2 } \\cdot 0.001 } \\\\&= 21415.077  \\\\[10pt]\n",
       "\\end{aligned}\n",
       "\\]"
      ],
      "text/plain": [
       "<IPython.core.display.Latex object>"
      ]
     },
     "metadata": {},
     "output_type": "display_data"
    }
   ],
   "source": [
    "%%render long\n",
    "Re_Dh = (D_i*m_h)/(pi*(D_i/2)**2*mu_h)\n",
    "D_t = (D_a**2-D_ie**2)/D_ie #m\n",
    "Re_Dc = (D_t*m_c)/(pi*((D_a-D_ie)/2)**2*mu_c)"
   ]
  },
  {
   "cell_type": "markdown",
   "id": "ffdec87c-e7f1-4420-8365-5404e6d6ab7b",
   "metadata": {},
   "source": [
    "Notamos que ambos flujos son turbulentos, y por lo tanto, se cosidera que la mejor ecuación para encontrar el número de Nusselt será la relación de Dittus-Boelter."
   ]
  },
  {
   "cell_type": "code",
   "execution_count": 6,
   "id": "8ce4b414-d302-4e14-b002-88ccf092a01c",
   "metadata": {},
   "outputs": [
    {
     "data": {
      "text/latex": [
       "\\[\n",
       "\\begin{aligned}\n",
       "\\mathrm{NuD}_{h} &= 0.023 \\cdot \\left( \\mathrm{Re}_{Dh} \\right) ^{ 0.8 } \\cdot \\left( \\mathrm{Pr}_{h} \\right) ^{ 0.3 } \\\\&= 0.023 \\cdot \\left( 13567.654 \\right) ^{ 0.8 } \\cdot \\left( 5.082 \\right) ^{ 0.3 } \\\\&= 75.778  \\\\[10pt]\n",
       "\\\\[10pt]\n",
       "\\mathrm{NuD}_{c} &= 0.023 \\cdot \\left( \\mathrm{Re}_{Dc} \\right) ^{ 0.8 } \\cdot \\left( \\mathrm{Pr}_{c} \\right) ^{ 0.4 } \\\\&= 0.023 \\cdot \\left( 21415.077 \\right) ^{ 0.8 } \\cdot \\left( 6.205 \\right) ^{ 0.4 } \\\\&= 139.120  \\\\[10pt]\n",
       "\\end{aligned}\n",
       "\\]"
      ],
      "text/plain": [
       "<IPython.core.display.Latex object>"
      ]
     },
     "metadata": {},
     "output_type": "display_data"
    }
   ],
   "source": [
    "%%render long\n",
    "NuD_h = 0.023*Re_Dh**0.8*Pr_h**0.3\n",
    "NuD_c = 0.023*Re_Dc**0.8*Pr_c**0.4"
   ]
  },
  {
   "cell_type": "markdown",
   "id": "60d620ae-7753-4a92-9885-0fa6606100cb",
   "metadata": {},
   "source": [
    "Con lo cual se puede despejar el coeficiente de transferencia de calor para ambos fluidos."
   ]
  },
  {
   "cell_type": "code",
   "execution_count": 7,
   "id": "22994478-202f-4429-a5f2-db99a75d1915",
   "metadata": {},
   "outputs": [
    {
     "data": {
      "text/latex": [
       "\\[\n",
       "\\begin{aligned}\n",
       "h_{h} &= \\frac{ \\mathrm{NuD}_{h} \\cdot k_{h} }{ D_{i} } \\\\&= \\frac{ 75.778 \\cdot 0.113 }{ 0.150 } \\\\&= 57.233 \\; \\;\\textrm{(W/m$^2\\cdot$K)}\\\\[10pt]\n",
       "\\\\[10pt]\n",
       "h_{c} &= \\frac{ \\mathrm{NuD}_{c} \\cdot k_{c} }{ D_{t} } \\\\&= \\frac{ 139.120 \\cdot 0.606 }{ 0.248 } \\\\&= 339.750 \\; \\;\\textrm{(W/m$^2\\cdot$K)}\\\\[10pt]\n",
       "\\end{aligned}\n",
       "\\]"
      ],
      "text/plain": [
       "<IPython.core.display.Latex object>"
      ]
     },
     "metadata": {},
     "output_type": "display_data"
    }
   ],
   "source": [
    "%%render long\n",
    "h_h = (NuD_h*k_h)/(D_i) #W/m$^2\\cdot$K\n",
    "h_c = (NuD_c*k_c)/(D_t) #W/m$^2\\cdot$K"
   ]
  },
  {
   "cell_type": "markdown",
   "id": "7c0cfafa-89e6-4331-ac79-0cd823a499c5",
   "metadata": {},
   "source": [
    "### Inciso 3"
   ]
  },
  {
   "cell_type": "markdown",
   "id": "be9bcd3d-fbba-43c0-a7f6-e831c58ea009",
   "metadata": {},
   "source": [
    "Primero, calculamos el coeficiente global de transferencia de calor para un intercambiador de doble tubo sin ensuciamiento."
   ]
  },
  {
   "cell_type": "code",
   "execution_count": 8,
   "id": "857149fe-ddff-4cad-9e72-cabf625f8817",
   "metadata": {},
   "outputs": [
    {
     "data": {
      "text/latex": [
       "\\[\n",
       "\\begin{aligned}\n",
       "U &= \\left( \\frac{ D_{ie} }{ D_{i} \\cdot h_{h} } + \\frac{ D_{ie} }{ 2 \\cdot k_{p} } \\cdot \\ln \\left( \\frac{ D_{ie} }{ D_{i} } \\right) + \\frac{ 1 }{ h_{c} } \\right) ^{ -1 } \\\\&= \\left( \\frac{ 0.155 }{ 0.150 \\cdot 57.233 } + \\frac{ 0.155 }{ 2 \\cdot 50.200 } \\cdot \\ln \\left( \\frac{ 0.155 }{ 0.150 } \\right) + \\frac{ 1 }{ 339.750 } \\right) ^{ -1 } \\\\&= 47.508 \\; \\;\\textrm{(W/m$^2\\cdot$K)}\\\\[10pt]\n",
       "\\end{aligned}\n",
       "\\]"
      ],
      "text/plain": [
       "<IPython.core.display.Latex object>"
      ]
     },
     "metadata": {},
     "output_type": "display_data"
    }
   ],
   "source": [
    "%%render long\n",
    "U = (D_ie/(D_i*h_h) + D_ie/(2*k_p)*log(D_ie/D_i) + 1/h_c)**-1 #W/m$^2\\cdot$K"
   ]
  },
  {
   "cell_type": "markdown",
   "id": "188c77f6-0fb1-4bb4-a270-bf74ca24acbb",
   "metadata": {},
   "source": [
    "Luego podemos despejar el factor de ensuciamiento.\n",
    "\n",
    "$$\n",
    "\\frac{1}{U_T} = \\frac{1}{U} + R_f\n",
    "$$"
   ]
  },
  {
   "cell_type": "code",
   "execution_count": 9,
   "id": "0aeb3204-5277-448d-87b1-42766ba9f248",
   "metadata": {},
   "outputs": [
    {
     "data": {
      "text/latex": [
       "\\[\n",
       "\\begin{aligned}\n",
       "U_{T} &= 28.430 \\; \\;\\textrm{(W/m$^2\\cdot$K)}\n",
       "\\\\[10pt]\n",
       "R_{f} &= \\frac{ 1 }{ U_{T} } - \\frac{ 1 }{ U } \\\\&= \\frac{ 1 }{ 28.430 } - \\frac{ 1 }{ 47.508 } \\\\&= 0.014 \\; \\;\\textrm{(m$^2\\cdot$K/W)}\\\\[10pt]\n",
       "\\end{aligned}\n",
       "\\]"
      ],
      "text/plain": [
       "<IPython.core.display.Latex object>"
      ]
     },
     "metadata": {},
     "output_type": "display_data"
    }
   ],
   "source": [
    "%%render long\n",
    "U_T = 28.43 #W/m$^2\\cdot$K\n",
    "R_f = 1/U_T - 1/U #m$^2\\cdot$K/W"
   ]
  },
  {
   "cell_type": "markdown",
   "id": "d6026f39-ec6c-4131-8ad0-1665e8d0e5e1",
   "metadata": {},
   "source": [
    "Finalmente, obtenemos que el factor de ensuciamiento es de $R_f = 0.014~\\text{m}^2\\cdot\\text{K/W}$."
   ]
  },
  {
   "cell_type": "code",
   "execution_count": null,
   "id": "ba5bde51-ebb2-435c-8dfa-666afe5b8f29",
   "metadata": {},
   "outputs": [],
   "source": []
  }
 ],
 "metadata": {
  "kernelspec": {
   "display_name": "Python 3 (ipykernel)",
   "language": "python",
   "name": "python3"
  },
  "language_info": {
   "codemirror_mode": {
    "name": "ipython",
    "version": 3
   },
   "file_extension": ".py",
   "mimetype": "text/x-python",
   "name": "python",
   "nbconvert_exporter": "python",
   "pygments_lexer": "ipython3",
   "version": "3.11.7"
  }
 },
 "nbformat": 4,
 "nbformat_minor": 5
}
