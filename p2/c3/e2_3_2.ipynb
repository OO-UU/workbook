{
 "cells": [
  {
   "cell_type": "markdown",
   "id": "841aa265-2d6f-415d-b4fd-c08f13426ecf",
   "metadata": {},
   "source": [
    "# Ejercicio 2: Método NTU - ICTC"
   ]
  },
  {
   "cell_type": "markdown",
   "id": "3adeb661-4cbe-45bd-a0c3-fcfb4cfdc5a0",
   "metadata": {},
   "source": [
    "## Enunciado"
   ]
  },
  {
   "cell_type": "markdown",
   "id": "f33c4bb8-9a8d-4f3f-8778-2cd6dfaf6ea5",
   "metadata": {},
   "source": [
    "Usted es el encargado de diseño de la planta de energía más importante de Chile. Para la producción de energía se utiliza vapor sobrecalentado a $130~\\text{°C}$, el cual se desea enfriar y consendar tal que salga del intercambiador como líquido saturado. Suponga que su condensador actua como un intercambiador de tubo y carcasa tipo 1-2n a contra-corriente con $27000~\\text{tubos}$. Los tubos son de acero ($k = 53~\\text{W/m}\\cdot\\text{K}$ , $\\varepsilon = 0.046$) con $d_e=30~\\text{mm}$ y $d_i=26~\\text{mm}$ de diámetro externo e interno respectivamente. El vapor pasa por la carcasa y se condensa con un coeficiente de convección asociado de $h_o=11000~\\text{W/m}^2\\cdot\\text{K}$. Se utiliza agua a $20~\\text{°C}$ como refrigerante. El flujo de refrigerante por cada tubo individual es de $1~\\text{kg/s}$, con el cual se consigue una tasa de transferencia de calor de $q=2\\times10^{9}~\\text{W}$.\n",
    "\n",
    "Por un lado, las propiedades del vapor, sabe que el calor latente será $h_{fg}=2183~\\text{kJ/kg}$ (considerando $T^{sat}=100~\\text{°C}$) y el calor específico de gas será $c_{p,g}=2158~\\text{J/kg}\\cdot\\text{K}$.\n",
    "\n",
    "Por otro lado, las propiedades termofísicas del agua refrigerante, utilice la siguiente tabla."
   ]
  },
  {
   "cell_type": "markdown",
   "id": "1de9901d-87b2-44ce-9362-30124d52aa9b",
   "metadata": {},
   "source": [
    "```{list-table} Propiedades termofísicas del agua en función de su temperatura promedio.\n",
    ":header-rows: 1\n",
    ":name: tabla-e2_3_2\n",
    ":align: center\n",
    "\n",
    "* - Fluido\n",
    "  - $c_P~\\text{(J/kg}\\cdot\\text{K)}$\n",
    "  - $\\rho~\\text{(kg/m}^3\\text{)}$\n",
    "  - $\\mu~\\text{(N}\\cdot\\text{s/m}^2\\text{)}$\n",
    "  - $k~\\text{(W/m}\\cdot\\text{K)}$\n",
    "  - $Pr$\n",
    "* - Agua\n",
    "  - 4179\n",
    "  - 997\n",
    "  - 855$\\times$10$^{-6}$\n",
    "  - 0.613\n",
    "  - 5.83\n",
    "```"
   ]
  },
  {
   "cell_type": "markdown",
   "id": "ea8420cf-2aec-4b54-892e-09c1d26da4de",
   "metadata": {},
   "source": [
    "Responda lo siguiente:\n",
    "1. Encuentre el flujo másico de vapor.\n",
    "2. Encuentre la temperatura de salida del flujo refrigerante\n",
    "3. Utilice método NTU para encontrar el largo de los tubos necesario para este sistema. Considere que se conocen los coeficientes de transferencia de calor para la carcasa. Para la zona de enfriamiento $h_{c,A} = 14200~\\text{W/m}^2\\cdot\\text{K}$ y para la zona de condensación $h_{c,B} = 10800~\\text{W/m}^2\\cdot\\text{K}$.\n",
    "4. Encuentre las péridas de carga asociada a los tubos (Considere solo péridas por fricción) y la energía necesaria para bombear el agua refrigerante por todos los tubos. Considere para sus cálculos:"
   ]
  },
  {
   "cell_type": "markdown",
   "id": "fd38b8dc-a991-4c66-9a72-a1bde1d2a000",
   "metadata": {},
   "source": [
    "$$\n",
    "P = \\frac{\\Delta p\\dot{m}}{\\rho}\n",
    "$$"
   ]
  },
  {
   "cell_type": "markdown",
   "id": "c7e51449",
   "metadata": {},
   "source": [
    "{ref}`Ver solución <part2:cap3:ex2:sol>`\n",
    "\n",
    "<br/><br/>\n",
    "<br/><br/>\n",
    "<br/><br/>\n",
    "<br/><br/>\n",
    "<br/><br/>\n",
    "<br/><br/>\n",
    "<br/><br/>\n",
    "<br/><br/>"
   ]
  },
  {
   "cell_type": "markdown",
   "id": "1bd4fc1a-d2f5-4575-bdcb-a4e916850ffc",
   "metadata": {},
   "source": [
    "(part2:cap3:ex2:sol)=\n",
    "## Solución"
   ]
  },
  {
   "cell_type": "code",
   "execution_count": 1,
   "id": "8e4dc358-7ef4-4196-815a-043c5c088285",
   "metadata": {},
   "outputs": [],
   "source": [
    "#Paquetes utilizados\n",
    "from numpy import pi, log, sqrt\n",
    "import handcalcs.render"
   ]
  },
  {
   "cell_type": "markdown",
   "id": "cec7fc77-bd17-40b5-ac00-de578ec762f7",
   "metadata": {},
   "source": [
    "### Inciso 1 y 2"
   ]
  },
  {
   "cell_type": "markdown",
   "id": "db9ecc35-31c1-4382-b269-180b89c2a50d",
   "metadata": {},
   "source": [
    "Tanto el flujo de vapor como la temperatura de salida del flujo refrigerante los podemos encontrar mediante el balance general de calor.\n",
    "\n",
    "$$\n",
    "q = c_p\\dot{m}\\Delta T\n",
    "$$"
   ]
  },
  {
   "cell_type": "markdown",
   "id": "20ee8272-a599-479b-882b-eb9b9cb4e6db",
   "metadata": {},
   "source": [
    "Para el flujo de vapor que circula por la carcasa se debe considerar el fenómeno de enfriamiento y de condensación.\n",
    "\n",
    "$$\n",
    "q = q_A + q_B = \\dot{m}_h\\left(c_{p,h}\\left(T_{i,h}-T^{sat}\\right)+h_{fg}\\right)\n",
    "$$"
   ]
  },
  {
   "cell_type": "code",
   "execution_count": 2,
   "id": "99946344-7ef9-4d9f-a1a0-fcc70c50be7f",
   "metadata": {},
   "outputs": [
    {
     "data": {
      "text/latex": [
       "\\[\n",
       "\\begin{aligned}\n",
       "q &= 2000000000.000 \\; \\;\\textrm{(W)}\n",
       " &c_{ph} &= 2158 \\; \\;\\textrm{(J/kg$\\cdot$K)}\n",
       " &T_{ih} &= 130 \\; \\;\\textrm{($^\\circ$C)}\n",
       "\\\\[10pt]\n",
       " T_{sat} &= 100 \\; \\;\\textrm{($^\\circ$C)}\n",
       " &h_{fg} &= 2183000 \\; \\;\\textrm{(J/kg)}\n",
       "\\end{aligned}\n",
       "\\]"
      ],
      "text/plain": [
       "<IPython.core.display.Latex object>"
      ]
     },
     "metadata": {},
     "output_type": "display_data"
    }
   ],
   "source": [
    "%%render params\n",
    "q = 2e9 #W\n",
    "c_ph = 2158 #J/kg$\\cdot$K\n",
    "T_ih = 130 #$^\\circ$C\n",
    "T_sat = 100 #$^\\circ$C\n",
    "h_fg = 2183*1000 #J/kg"
   ]
  },
  {
   "cell_type": "code",
   "execution_count": 3,
   "id": "9fdb3f23-e0d3-4d95-a0d7-2d6e8a773d3e",
   "metadata": {},
   "outputs": [
    {
     "data": {
      "text/latex": [
       "\\[\n",
       "\\begin{aligned}\n",
       "m_{h} &= \\frac{ q }{ c_{ph} \\cdot \\left( T_{ih} - T_{sat} \\right) + h_{fg} } \\\\&= \\frac{ 2000000000.000 }{ 2158 \\cdot \\left( 130 - 100 \\right) + 2183000 } \\\\&= 889.783 \\; \\;\\textrm{(kg/s)}\\\\[10pt]\n",
       "\\end{aligned}\n",
       "\\]"
      ],
      "text/plain": [
       "<IPython.core.display.Latex object>"
      ]
     },
     "metadata": {},
     "output_type": "display_data"
    }
   ],
   "source": [
    "%%render long\n",
    "m_h = q/(c_ph*(T_ih-T_sat)+h_fg) #kg/s"
   ]
  },
  {
   "cell_type": "markdown",
   "id": "4c0faf66-fcb4-416c-8986-74d1777fd75c",
   "metadata": {},
   "source": [
    "Mientras que para el flujo refrigerante debemos considerar que, el flujo total que pasará por todos los tubos, será:\n",
    "\n",
    "$$\n",
    "\\dot{m}_c = \\frac{N_t}{n}\\times\\dot{m}_{tubo}\n",
    "$$"
   ]
  },
  {
   "cell_type": "code",
   "execution_count": 4,
   "id": "e9ce8a92-eb86-41e1-8f48-be7f1c64f916",
   "metadata": {},
   "outputs": [
    {
     "data": {
      "text/latex": [
       "\\[\n",
       "\\begin{aligned}\n",
       "c_{pc} &= 4179 \\; \\;\\textrm{(J/kg$\\cdot$K)}\n",
       " &N_{t} &= 27000 \\; \n",
       " &m_{tubo} &= 1 \\; \\;\\textrm{(kg/s)}\n",
       "\\\\[10pt]\n",
       " m_{c} &= 13500.000 \\; \\;\\textrm{(kg/s)}\n",
       " &T_{ic} &= 20 \\; \\;\\textrm{($^\\circ$C)}\n",
       "\\end{aligned}\n",
       "\\]"
      ],
      "text/plain": [
       "<IPython.core.display.Latex object>"
      ]
     },
     "metadata": {},
     "output_type": "display_data"
    }
   ],
   "source": [
    "%%render params\n",
    "c_pc = 4179 #J/kg$\\cdot$K\n",
    "N_t = 27000\n",
    "m_tubo = 1 #kg/s\n",
    "m_c = (N_t/2)*m_tubo #kg/s\n",
    "T_ic = 20 #$^\\circ$C"
   ]
  },
  {
   "cell_type": "code",
   "execution_count": 5,
   "id": "c98fc05c-55f5-41a3-9eaa-8f3ca40a2338",
   "metadata": {},
   "outputs": [
    {
     "data": {
      "text/latex": [
       "\\[\n",
       "\\begin{aligned}\n",
       "T_{oc} &= \\frac{ q }{ m_{c} \\cdot c_{pc} } + T_{ic} \\\\&= \\frac{ 2000000000.000 }{ 13500.000 \\cdot 4179 } + 20 \\\\&= 55.451 \\; \\;\\textrm{($^\\circ$C)}\\\\[10pt]\n",
       "\\end{aligned}\n",
       "\\]"
      ],
      "text/plain": [
       "<IPython.core.display.Latex object>"
      ]
     },
     "metadata": {},
     "output_type": "display_data"
    }
   ],
   "source": [
    "%%render long\n",
    "T_oc = q/(m_c*c_pc) + T_ic #$^\\circ$C"
   ]
  },
  {
   "cell_type": "markdown",
   "id": "9a521c30-2753-43c2-8acc-a6f8dd6e1351",
   "metadata": {},
   "source": [
    "### Inciso 3"
   ]
  },
  {
   "cell_type": "markdown",
   "id": "db352b77-67ee-449b-8551-78afc8e0ec73",
   "metadata": {},
   "source": [
    "Primero que nada, al existir condensación, debemos separar el intercambiador de calor en dos partes para un análisis NTU. La primera parte $A$ considera el efecto de enfriamiento del vapor, mientras que la parte $B$ el efecto de condensación. Siempre que dividamos nuestro intercambiador debemos encontrar las temperaturas de entrada y salida de nuestras secciones. Para el flujo condensante será:\n",
    "\n",
    "$$\n",
    "T_{i,h}^A = 130~\\text{°C} \\hspace{0.5cm} T_{o,h}^A = 100~\\text{°C} \\hspace{2cm} T_{i,h}^B = 100~\\text{°C} = T_{o,h}^B\n",
    "$$"
   ]
  },
  {
   "cell_type": "markdown",
   "id": "b26e247e-dbe1-485a-a267-66b8c36a6faf",
   "metadata": {},
   "source": [
    "Mientras que para el fluido refrigerante:\n",
    "\n",
    "$$\n",
    "T_{i,c}^B = 20~\\text{°C} \\hspace{2cm} T_{o,c}^B = T_{i,c}^A \\hspace{2cm} T_{o,c}^A = 55.451~\\text{°C}\n",
    "$$"
   ]
  },
  {
   "cell_type": "markdown",
   "id": "4e2d272a-e07e-4125-9e53-7e07403b786e",
   "metadata": {},
   "source": [
    "Podemos calcular la temperatura de salida de $A$ con $q_A$ o la temperatura de $B$ con $q_B$."
   ]
  },
  {
   "cell_type": "code",
   "execution_count": 6,
   "id": "ca2c5b63-0783-460a-a39c-5df0f6ddebf6",
   "metadata": {},
   "outputs": [
    {
     "data": {
      "text/latex": [
       "\\[\n",
       "\\begin{aligned}\n",
       "& \\textrm{ Usando B:}\\\\[10pt]\n",
       "T_{icB} &= 20 \\; \\;\\textrm{($^\\circ$C)}\n",
       "\\\\[10pt]\n",
       "q_{B} &= m_{h} \\cdot h_{fg} \\\\&= 889.783 \\cdot 2183000 \\\\&= 1942395472.786 \\; \\;\\textrm{(W)}\\\\[10pt]\n",
       "\\\\[10pt]\n",
       "T_{ocB} &= \\frac{ q_{B} }{ m_{c} \\cdot c_{pc} } + T_{icB} \\\\&= \\frac{ 1942395472.786 }{ 13500.000 \\cdot 4179 } + 20 \\\\&= 54.430 \\; \\;\\textrm{($^\\circ$C)}\\\\[10pt]\n",
       "\\\\[10pt]\n",
       "& \\textrm{ De igual forma, usando A:}\\\\[10pt]\n",
       "T_{ocA} &= 55.451 \\; \\;\\textrm{($^\\circ$C)}\n",
       "\\\\[10pt]\n",
       "q_{A} &= m_{h} \\cdot c_{ph} \\cdot \\left( T_{ih} - T_{sat} \\right) \\\\&= 889.783 \\cdot 2158 \\cdot \\left( 130 - 100 \\right) \\\\&= 57604527.214 \\; \\;\\textrm{(W)}\\\\[10pt]\n",
       "\\\\[10pt]\n",
       "T_{icA} &= T_{ocA} - \\frac{ q_{A} }{ m_{c} \\cdot c_{pc} } \\\\&= 55.451 - \\frac{ 57604527.214 }{ 13500.000 \\cdot 4179 } \\\\&= 54.430 \\; \\;\\textrm{($^\\circ$C)}\\\\[10pt]\n",
       "\\end{aligned}\n",
       "\\]"
      ],
      "text/plain": [
       "<IPython.core.display.Latex object>"
      ]
     },
     "metadata": {},
     "output_type": "display_data"
    }
   ],
   "source": [
    "%%render long\n",
    "## Usando B:\n",
    "T_icB = T_ic #$^\\circ$C\n",
    "q_B = m_h*h_fg #W\n",
    "T_ocB = q_B/(m_c*c_pc) + T_icB #$^\\circ$C\n",
    "## De igual forma, usando A:\n",
    "T_ocA = T_oc #$^\\circ$C\n",
    "q_A = m_h*c_ph*(T_ih-T_sat) #W\n",
    "T_icA = T_ocA - q_A/(m_c*c_pc) #$^\\circ$C"
   ]
  },
  {
   "cell_type": "markdown",
   "id": "5c3ef2c2-37d9-4fb2-9967-b4d0d20a28a0",
   "metadata": {},
   "source": [
    "**Análisis de *A***"
   ]
  },
  {
   "cell_type": "markdown",
   "id": "5899d6d5-3358-41fd-bfbc-12d69834d67e",
   "metadata": {},
   "source": [
    "Para la primera etapa:\n",
    "\n",
    "$$\n",
    "C_h = \\dot{m}_h\\cdot c_{p,h} \\hspace{2cm} C_c = \\dot{m}_c\\cdot c_{p,c}\n",
    "$$"
   ]
  },
  {
   "cell_type": "markdown",
   "id": "42084e0f-ae3c-4ee5-a86a-e40925242c5e",
   "metadata": {},
   "source": [
    "Tal que,\n",
    "\n",
    "$$\n",
    "C_{r,A} = \\frac{C_{min,A}}{C_{max,A}}\n",
    "$$"
   ]
  },
  {
   "cell_type": "code",
   "execution_count": 7,
   "id": "7e16eb6e-0a26-46d3-a36f-3ee1ff6d8c98",
   "metadata": {},
   "outputs": [
    {
     "data": {
      "text/latex": [
       "\\[\n",
       "\\begin{aligned}\n",
       "C_{h} &= m_{h} \\cdot c_{ph} \\\\&= 889.783 \\cdot 2158 \\\\&= 1920150.907 \\; \\;\\textrm{(W/K)}\\\\[10pt]\n",
       "\\\\[10pt]\n",
       "C_{c} &= m_{c} \\cdot c_{pc} \\\\&= 13500.000 \\cdot 4179 \\\\&= 56416500.000 \\; \\;\\textrm{(W/K)}\\\\[10pt]\n",
       "\\\\[10pt]\n",
       "C_{rA} &= \\frac{ C_{h} }{ C_{c} } \\\\&= \\frac{ 1920150.907 }{ 56416500.000 } \\\\&= 0.034  \\\\[10pt]\n",
       "\\end{aligned}\n",
       "\\]"
      ],
      "text/plain": [
       "<IPython.core.display.Latex object>"
      ]
     },
     "metadata": {},
     "output_type": "display_data"
    }
   ],
   "source": [
    "%%render long\n",
    "C_h = m_h*c_ph #W/K\n",
    "C_c = m_c*c_pc #W/K\n",
    "C_rA = C_h/C_c"
   ]
  },
  {
   "cell_type": "markdown",
   "id": "404b59c3-bad9-44d3-8d33-538e84e72170",
   "metadata": {},
   "source": [
    "Luego, podemos obtener $\\varepsilon_A$ y $NTU_A$ para flujos contra-corriente."
   ]
  },
  {
   "cell_type": "code",
   "execution_count": 8,
   "id": "d418760f-e220-461d-8b67-cac156a7824f",
   "metadata": {},
   "outputs": [
    {
     "data": {
      "text/latex": [
       "\\[\n",
       "\\begin{aligned}\n",
       "\\epsilon_{A} &= \\frac{ q_{A} }{ C_{h} \\cdot \\left( T_{ih} - T_{icA} \\right) } \\\\&= \\frac{ 57604527.214 }{ 1920150.907 \\cdot \\left( 130 - 54.430 \\right) } \\\\&= 0.397  \\\\[10pt]\n",
       "\\\\[10pt]\n",
       "E_{A} &= \\frac{ 2 - \\epsilon_{A} \\cdot \\left( 1 + C_{rA} \\right) }{ \\epsilon_{A} \\cdot \\sqrt { 1 + \\left( C_{rA} \\right) ^{ 2 } } } \\\\&= \\frac{ 2 - 0.397 \\cdot \\left( 1 + 0.034 \\right) }{ 0.397 \\cdot \\sqrt { 1 + \\left( 0.034 \\right) ^{ 2 } } } \\\\&= 4.002  \\\\[10pt]\n",
       "\\\\[10pt]\n",
       "\\mathrm{NTU}_{A} &= \\frac{ 1 }{ \\sqrt { 1 + \\left( C_{rA} \\right) ^{ 2 } } } \\cdot \\ln \\left( \\frac{ E_{A} + 1 }{ E_{A} - 1 } \\right) \\\\&= \\frac{ 1 }{ \\sqrt { 1 + \\left( 0.034 \\right) ^{ 2 } } } \\cdot \\ln \\left( \\frac{ 4.002 + 1 }{ 4.002 - 1 } \\right) \\\\&= 0.510  \\\\[10pt]\n",
       "\\end{aligned}\n",
       "\\]"
      ],
      "text/plain": [
       "<IPython.core.display.Latex object>"
      ]
     },
     "metadata": {},
     "output_type": "display_data"
    }
   ],
   "source": [
    "%%render long\n",
    "epsilon_A = q_A/(C_h*(T_ih-T_icA))\n",
    "E_A = (2-epsilon_A*(1+C_rA))/(epsilon_A*sqrt(1+C_rA**2))\n",
    "NTU_A = 1/sqrt(1+C_rA**2)*log((E_A+1)/(E_A-1))"
   ]
  },
  {
   "cell_type": "markdown",
   "id": "e5c71363-7123-4f07-9a53-d6decb41cb34",
   "metadata": {},
   "source": [
    "Entonces el área requerida para la transferencia de calor:"
   ]
  },
  {
   "cell_type": "markdown",
   "id": "449eb7c4-8d40-4e88-a51e-ef64edad0732",
   "metadata": {},
   "source": [
    "$$\n",
    "A_A = \\frac{NTU_AC_{min,A}}{U_A}\n",
    "$$"
   ]
  },
  {
   "cell_type": "markdown",
   "id": "fe0c8d1d-fe20-40a1-9050-5d8d351a2c21",
   "metadata": {},
   "source": [
    "Para encontrar el coeficiente global de transferencia de masa en la zona de enfriamiento, debemos obtener el coeficiente local de transferencia de masa por el lado de los tubos.\n",
    "\n",
    "$$\n",
    "U_A = \\left(\\frac{d_i}{d_eh_{i,A}}+ \\frac{d_i}{2 k_p}\\ln\\left(\\frac{d_i}{d_e}\\right) +\\frac{1}{h_{c,A}}\\right)^{-1}\n",
    "$$"
   ]
  },
  {
   "cell_type": "markdown",
   "id": "46a2bbc6-5870-4da2-8f8f-ef5a1266e2c9",
   "metadata": {},
   "source": [
    "Se obtiene el coeficiente local de transferencia de calor de la misma forma que se haría para tubos.\n",
    "\n",
    "$$\n",
    "Re_D = \\frac{G_td_i}{\\mu}\n",
    "$$"
   ]
  },
  {
   "cell_type": "markdown",
   "id": "70f50bdc-14fc-4021-b6ac-0659ece9ec49",
   "metadata": {},
   "source": [
    "$$\n",
    "G_t = \\frac{\\dot{m}}{a_t} = \\frac{\\frac{N_t}{n}\\dot{m}_{tubo}}{\\frac{N_t}{n}\\left(\\frac{\\pi d_i^2}{4}\\right)} = \\frac{4\\dot{m}_{tubo}}{\\pi d_i^2} \n",
    "$$"
   ]
  },
  {
   "cell_type": "markdown",
   "id": "7e55a9dd-8756-4e55-9e37-c0c0101ae294",
   "metadata": {},
   "source": [
    "Luego el número de Reynolds será:\n",
    "\n",
    "$$\n",
    "Re_D = \\frac{4\\dot{m}_{tubo}}{\\pi d_i\\mu}\n",
    "$$"
   ]
  },
  {
   "cell_type": "code",
   "execution_count": 9,
   "id": "a58b01f5-a4d4-434a-a00a-251588875e64",
   "metadata": {},
   "outputs": [
    {
     "data": {
      "text/latex": [
       "\\[\n",
       "\\begin{aligned}\n",
       "\\mu &= 0.001 \\; \\;\\textrm{(N$\\cdot$s/m$^2$)}\n",
       "\\\\[10pt]\n",
       "d_{i} &= 0.026 \\; \\;\\textrm{(m)}\n",
       "\\\\[10pt]\n",
       "\\mathrm{Re}_{D} &= \\frac{ 4 \\cdot m_{tubo} }{ \\pi \\cdot d_{i} \\cdot \\mu } \\\\&= \\frac{ 4 \\cdot 1 }{ 3.142 \\cdot 0.026 \\cdot 0.001 } \\\\&= 57275.733  \\\\[10pt]\n",
       "\\end{aligned}\n",
       "\\]"
      ],
      "text/plain": [
       "<IPython.core.display.Latex object>"
      ]
     },
     "metadata": {},
     "output_type": "display_data"
    }
   ],
   "source": [
    "%%render long\n",
    "mu = 855e-6 #N$\\cdot$s/m$^2$\n",
    "d_i = 0.026 #m\n",
    "Re_D = (4*m_tubo)/(pi*d_i*mu)"
   ]
  },
  {
   "cell_type": "markdown",
   "id": "f2efccdf-1193-4099-b642-bae32838bb98",
   "metadata": {},
   "source": [
    "Para flujos turbulentos, tenemos que el número de Nusselt utilizamos la ecuación de Sieder-Tate bajo el supuesto $\\mu\\approx\\mu_s$."
   ]
  },
  {
   "cell_type": "code",
   "execution_count": 10,
   "id": "0a5c184f-efd7-413b-81b2-add0b7266ac5",
   "metadata": {},
   "outputs": [
    {
     "data": {
      "text/latex": [
       "\\[\n",
       "\\begin{aligned}\n",
       "\\mathrm{Pr} &= 5.830 \\; \n",
       "\\\\[10pt]\n",
       "\\mathrm{Nusselt}_{D} &= 0.027 \\cdot \\left( \\mathrm{Re}_{D} \\right) ^{ 0.8 } \\cdot \\left( \\mathrm{Pr} \\right) ^{ \\left( \\frac{ 1 }{ 3 } \\right) } \\\\&= 0.027 \\cdot \\left( 57275.733 \\right) ^{ 0.8 } \\cdot \\left( 5.830 \\right) ^{ \\left( \\frac{ 1 }{ 3 } \\right) } \\\\&= 311.145  \\\\[10pt]\n",
       "\\end{aligned}\n",
       "\\]"
      ],
      "text/plain": [
       "<IPython.core.display.Latex object>"
      ]
     },
     "metadata": {},
     "output_type": "display_data"
    }
   ],
   "source": [
    "%%render long\n",
    "Pr = 5.83\n",
    "Nusselt_D = 0.027*Re_D**0.8*Pr**(1/3)"
   ]
  },
  {
   "cell_type": "code",
   "execution_count": 11,
   "id": "df8f9e48-a38a-41cc-9f77-aef289fc52a3",
   "metadata": {},
   "outputs": [
    {
     "data": {
      "text/latex": [
       "\\[\n",
       "\\begin{aligned}\n",
       "k &= 0.613 \\; \\;\\textrm{(W/m$\\cdot$K)}\n",
       "\\\\[10pt]\n",
       "h_{i} &= \\mathrm{Nusselt}_{D} \\cdot \\left( \\frac{ k }{ d_{i} } \\right) \\\\&= 311.145 \\cdot \\left( \\frac{ 0.613 }{ 0.026 } \\right) \\\\&= 7335.847 \\; \\;\\textrm{(W/m$^2\\cdot$K)}\\\\[10pt]\n",
       "\\end{aligned}\n",
       "\\]"
      ],
      "text/plain": [
       "<IPython.core.display.Latex object>"
      ]
     },
     "metadata": {},
     "output_type": "display_data"
    }
   ],
   "source": [
    "%%render long\n",
    "k = 0.613 #W/m$\\cdot$K\n",
    "h_i = Nusselt_D*(k/d_i) #W/m$^2\\cdot$K"
   ]
  },
  {
   "cell_type": "markdown",
   "id": "ab08cf13-7c8f-44c4-9c11-b264154c8719",
   "metadata": {},
   "source": [
    "Por último calculamos $U_A$ a partir de los coeficientes locales y luego despejamos el área de transferencia $A_A$."
   ]
  },
  {
   "cell_type": "code",
   "execution_count": 12,
   "id": "45e162c2-c8d5-40fb-8227-63dfd5009b51",
   "metadata": {},
   "outputs": [
    {
     "data": {
      "text/latex": [
       "\\[\n",
       "\\begin{aligned}\n",
       "h_{cA} &= 14200 \\; \\;\\textrm{(W/m$^2\\cdot$K)}\n",
       "\\\\[10pt]\n",
       "k_{p} &= 53 \\; \\;\\textrm{(W/m$\\cdot$K)}\n",
       "\\\\[10pt]\n",
       "d_{e} &= 0.030 \\; \\;\\textrm{(m)}\n",
       "\\\\[10pt]\n",
       "U_{A} &= \\left( \\frac{ d_{i} }{ d_{e} \\cdot h_{i} } + \\frac{ d_{i} }{ 2 \\cdot k_{p} } \\cdot \\ln \\left( \\frac{ d_{i} }{ d_{e} } \\right) + \\frac{ 1 }{ h_{cA} } \\right) ^{ -1 } \\\\&= \\left( \\frac{ 0.026 }{ 0.030 \\cdot 7335.847 } + \\frac{ 0.026 }{ 2 \\cdot 53 } \\cdot \\ln \\left( \\frac{ 0.026 }{ 0.030 } \\right) + \\frac{ 1 }{ 14200 } \\right) ^{ -1 } \\\\&= 6516.201 \\; \\;\\textrm{(W/m$^2\\cdot$K)}\\\\[10pt]\n",
       "\\\\[10pt]\n",
       "A_{A} &= \\frac{ \\mathrm{NTU}_{A} \\cdot C_{h} }{ U_{A} } \\\\&= \\frac{ 0.510 \\cdot 1920150.907 }{ 6516.201 } \\\\&= 150.374 \\; \\;\\textrm{(m$^2$)}\\\\[10pt]\n",
       "\\end{aligned}\n",
       "\\]"
      ],
      "text/plain": [
       "<IPython.core.display.Latex object>"
      ]
     },
     "metadata": {},
     "output_type": "display_data"
    }
   ],
   "source": [
    "%%render long\n",
    "h_cA = 14200 #W/m$^2\\cdot$K\n",
    "k_p = 53 #W/m$\\cdot$K\n",
    "d_e = 0.03 #m\n",
    "U_A = (d_i/(d_e*h_i) + d_i/(2*k_p)*log(d_i/d_e) + 1/h_cA)**-1 #W/m$^2\\cdot$K\n",
    "A_A = (NTU_A*C_h)/U_A #m$^2$"
   ]
  },
  {
   "cell_type": "markdown",
   "id": "a41068af-fc33-482d-a8f8-2c4134179eff",
   "metadata": {},
   "source": [
    "**Análisis de *B***"
   ]
  },
  {
   "cell_type": "markdown",
   "id": "b639fb1a-1c1a-47ac-835f-66651aacd211",
   "metadata": {},
   "source": [
    "Para $B$ consideramos que el proceso de condensación libera tanta energía tal que $C_h=\\infty$. Luego, $C_{r,B} = 0$."
   ]
  },
  {
   "cell_type": "code",
   "execution_count": 13,
   "id": "a8461153-521f-459e-94e2-cc8772b61bcd",
   "metadata": {},
   "outputs": [
    {
     "data": {
      "text/latex": [
       "\\[\n",
       "\\begin{aligned}\n",
       "C_{rB} &= 0 \\; \n",
       "\\\\[10pt]\n",
       "\\epsilon_{B} &= \\frac{ q_{B} }{ C_{c} \\cdot \\left( T_{sat} - T_{icB} \\right) } \\\\&= \\frac{ 1942395472.786 }{ 56416500.000 \\cdot \\left( 100 - 20 \\right) } \\\\&= 0.430  \\\\[10pt]\n",
       "\\\\[10pt]\n",
       "E_{B} &= \\frac{ 2 - \\epsilon_{B} }{ \\epsilon_{B} } \\\\&= \\frac{ 2 - 0.430 }{ 0.430 } \\\\&= 3.647  \\\\[10pt]\n",
       "\\\\[10pt]\n",
       "\\mathrm{NTU}_{B} &= \\ln \\left( \\frac{ E_{B} + 1 }{ E_{B} - 1 } \\right) \\\\&= \\ln \\left( \\frac{ 3.647 + 1 }{ 3.647 - 1 } \\right) \\\\&= 0.563  \\\\[10pt]\n",
       "\\end{aligned}\n",
       "\\]"
      ],
      "text/plain": [
       "<IPython.core.display.Latex object>"
      ]
     },
     "metadata": {},
     "output_type": "display_data"
    }
   ],
   "source": [
    "%%render long\n",
    "C_rB = 0\n",
    "epsilon_B = q_B/(C_c*(T_sat-T_icB))\n",
    "E_B = (2-epsilon_B)/epsilon_B\n",
    "NTU_B = log((E_B+1)/(E_B-1))"
   ]
  },
  {
   "cell_type": "markdown",
   "id": "cc5c8b98-d8b0-4e49-9b81-4ba748e48aeb",
   "metadata": {},
   "source": [
    "Luego para $U_B$, $h_o$ será el mismo."
   ]
  },
  {
   "cell_type": "code",
   "execution_count": 14,
   "id": "d4581653-328a-47ff-9c4d-fa038c2c34ba",
   "metadata": {},
   "outputs": [
    {
     "data": {
      "text/latex": [
       "\\[\n",
       "\\begin{aligned}\n",
       "h_{cB} &= 10800 \\; \\;\\textrm{(W/m$^2\\cdot$K)}\n",
       "\\\\[10pt]\n",
       "U_{B} &= \\left( \\frac{ d_{i} }{ d_{e} \\cdot h_{i} } + \\frac{ d_{i} }{ 2 \\cdot k_{p} } \\cdot \\ln \\left( \\frac{ d_{i} }{ d_{e} } \\right) + \\frac{ 1 }{ h_{cB} } \\right) ^{ -1 } \\\\&= \\left( \\frac{ 0.026 }{ 0.030 \\cdot 7335.847 } + \\frac{ 0.026 }{ 2 \\cdot 53 } \\cdot \\ln \\left( \\frac{ 0.026 }{ 0.030 } \\right) + \\frac{ 1 }{ 10800 } \\right) ^{ -1 } \\\\&= 5693.668 \\; \\;\\textrm{(W/m$^2\\cdot$K)}\\\\[10pt]\n",
       "\\\\[10pt]\n",
       "A_{B} &= \\frac{ \\mathrm{NTU}_{B} \\cdot C_{c} }{ U_{B} } \\\\&= \\frac{ 0.563 \\cdot 56416500.000 }{ 5693.668 } \\\\&= 5576.260 \\; \\;\\textrm{(m$^2$)}\\\\[10pt]\n",
       "\\end{aligned}\n",
       "\\]"
      ],
      "text/plain": [
       "<IPython.core.display.Latex object>"
      ]
     },
     "metadata": {},
     "output_type": "display_data"
    }
   ],
   "source": [
    "%%render long\n",
    "h_cB = 10800 #W/m$^2\\cdot$K\n",
    "U_B = (d_i/(d_e*h_i) + d_i/(2*k_p)*log(d_i/d_e) + 1/h_cB)**-1 #W/m$^2\\cdot$K\n",
    "A_B = (NTU_B*C_c)/U_B #m$^2$"
   ]
  },
  {
   "cell_type": "markdown",
   "id": "59f1f3c2-581b-4a22-ade3-29e4c24f6a6f",
   "metadata": {},
   "source": [
    "Por último, sumamos las áreas y despejamos el largo de los tubos.\n",
    "\n",
    "$$\n",
    "A = \\frac{N_t}{n}\\times 2\\pi d_iL\n",
    "$$"
   ]
  },
  {
   "cell_type": "code",
   "execution_count": 15,
   "id": "4db957fa-c0b8-480d-a40f-a8050bf233f2",
   "metadata": {},
   "outputs": [
    {
     "data": {
      "text/latex": [
       "\\[\n",
       "\\begin{aligned}\n",
       "A &= A_{A} + A_{B} \\\\&= 150.374 + 5576.260 \\\\&= 5726.633 \\; \\;\\textrm{(m$^2$)}\\\\[10pt]\n",
       "\\\\[10pt]\n",
       "L &= \\frac{ A }{ \\frac{ N_{t} }{ 2 } \\cdot \\pi \\cdot d_{i} } \\\\&= \\frac{ 5726.633 }{ \\frac{ 27000 }{ 2 } \\cdot 3.142 \\cdot 0.026 } \\\\&= 5.193 \\; \\;\\textrm{(m)}\\\\[10pt]\n",
       "\\end{aligned}\n",
       "\\]"
      ],
      "text/plain": [
       "<IPython.core.display.Latex object>"
      ]
     },
     "metadata": {},
     "output_type": "display_data"
    }
   ],
   "source": [
    "%%render long\n",
    "A = A_A + A_B #m$^2$\n",
    "L = A/(N_t/2*pi*d_i) #m"
   ]
  },
  {
   "cell_type": "markdown",
   "id": "6fc600b0-2bed-4621-88d1-7dc4ae905860",
   "metadata": {},
   "source": [
    "### Inciso 4"
   ]
  },
  {
   "cell_type": "markdown",
   "id": "f904a2d7-8769-4e9c-a4a6-902aa1a5b4cc",
   "metadata": {},
   "source": [
    "Para las pérdidas de fricción en un tubo, podemos calcular el factor de fricción mediante la ecuación de Nevers. La caida de presión asociada será:\n",
    "\n",
    "$$\n",
    "\\frac{\\Delta p}{\\rho} = 4f\\left(\\frac{Lu_t}{2D}\\right)\n",
    "$$"
   ]
  },
  {
   "cell_type": "markdown",
   "id": "c661a4bf-f701-4493-94fa-7503c10477f9",
   "metadata": {},
   "source": [
    "Donde $u_t$ es la velocidad promedio en los tubos.\n",
    "\n",
    "$$\n",
    "u_t = \\frac{4\\dot{m}_{tubo}}{\\rho\\pi d_i^2}\n",
    "$$"
   ]
  },
  {
   "cell_type": "code",
   "execution_count": 16,
   "id": "b5142903-8786-46d6-8483-75f3785138bd",
   "metadata": {},
   "outputs": [
    {
     "data": {
      "text/latex": [
       "\\[\n",
       "\\begin{aligned}\n",
       "\\epsilon &= 0.046 \\; \n",
       "\\\\[10pt]\n",
       "\\rho &= 997 \\; \\;\\textrm{(kg/m$^3$)}\n",
       "\\\\[10pt]\n",
       "f &= 0.001375 \\cdot \\left( 1 + \\left( 2 \\cdot \\left( 10 \\right) ^{ 4 } \\cdot \\left( \\frac{ \\epsilon }{ d_{i} } \\right) + \\left( \\frac{ \\left( 10 \\right) ^{ 6 } }{ \\mathrm{Re}_{D} } \\right) \\right) ^{ \\left( \\frac{ 1 }{ 3 } \\right) } \\right) \\\\&= 0.001375 \\cdot \\left( 1 + \\left( 2 \\cdot \\left( 10 \\right) ^{ 4 } \\cdot \\left( \\frac{ 0.046 }{ 0.026 } \\right) + \\left( \\frac{ \\left( 10 \\right) ^{ 6 } }{ 57275.733 } \\right) \\right) ^{ \\left( \\frac{ 1 }{ 3 } \\right) } \\right) \\\\&= 0.047  \\\\[10pt]\n",
       "\\\\[10pt]\n",
       "u_{t} &= \\frac{ 4 \\cdot m_{tubo} }{ \\rho \\cdot \\pi \\cdot \\left( d_{i} \\right) ^{ 2 } } \\\\&= \\frac{ 4 \\cdot 1 }{ 997 \\cdot 3.142 \\cdot \\left( 0.026 \\right) ^{ 2 } } \\\\&= 1.889 \\; \\;\\textrm{(m/s)}\\\\[10pt]\n",
       "\\\\[10pt]\n",
       "\\Delta_{P} &= 4 \\cdot f \\cdot \\left( \\frac{ L \\cdot u_{t} \\cdot \\rho }{ 2 \\cdot d_{i} } \\right) \\\\&= 4 \\cdot 0.047 \\cdot \\left( \\frac{ 5.193 \\cdot 1.889 \\cdot 997 }{ 2 \\cdot 0.026 } \\right) \\\\&= 35005.562 \\; \\;\\textrm{(N/m$^2$)}\\\\[10pt]\n",
       "\\end{aligned}\n",
       "\\]"
      ],
      "text/plain": [
       "<IPython.core.display.Latex object>"
      ]
     },
     "metadata": {},
     "output_type": "display_data"
    }
   ],
   "source": [
    "%%render long\n",
    "epsilon = 0.046\n",
    "rho = 997 #kg/m$^3$\n",
    "f = 0.001375*(1+(2*10**4*(epsilon/d_i)+(10**6/Re_D))**(1/3))\n",
    "u_t = (4*m_tubo)/(rho*pi*d_i**2) #m/s\n",
    "Delta_P = 4*f*((L*u_t*rho)/(2*d_i)) #N/m$^2$"
   ]
  },
  {
   "cell_type": "markdown",
   "id": "a48bfcb0-9013-49c0-8ba3-c19df30c876f",
   "metadata": {},
   "source": [
    "Para la potencia de la bomba, se utiliza la ecuación proporcionada."
   ]
  },
  {
   "cell_type": "code",
   "execution_count": 17,
   "id": "ed630800-1290-4dfb-bcca-deb2cebc6968",
   "metadata": {},
   "outputs": [
    {
     "data": {
      "text/latex": [
       "\\[\n",
       "\\begin{aligned}\n",
       "P &= \\frac{ \\Delta_{P} \\cdot m_{c} }{ \\rho } \\\\&= \\frac{ 35005.562 \\cdot 13500.000 }{ 997 } \\\\&= 473997.072 \\; \\;\\textrm{(W)}\\\\[10pt]\n",
       "\\end{aligned}\n",
       "\\]"
      ],
      "text/plain": [
       "<IPython.core.display.Latex object>"
      ]
     },
     "metadata": {},
     "output_type": "display_data"
    }
   ],
   "source": [
    "%%render long\n",
    "P = (Delta_P*m_c)/rho #W"
   ]
  },
  {
   "cell_type": "markdown",
   "id": "3d1b6ac2-0adb-49ef-be58-f154404fcc02",
   "metadata": {},
   "source": [
    "La potencia total requerida para mover todo el líquido por los tubos en el intercambiador será $474.0~\\text{kW}$."
   ]
  }
 ],
 "metadata": {
  "kernelspec": {
   "display_name": "Python 3 (ipykernel)",
   "language": "python",
   "name": "python3"
  },
  "language_info": {
   "codemirror_mode": {
    "name": "ipython",
    "version": 3
   },
   "file_extension": ".py",
   "mimetype": "text/x-python",
   "name": "python",
   "nbconvert_exporter": "python",
   "pygments_lexer": "ipython3",
   "version": "3.11.7"
  }
 },
 "nbformat": 4,
 "nbformat_minor": 5
}
