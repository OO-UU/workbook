{
 "cells": [
  {
   "cell_type": "markdown",
   "id": "f152271c-4e80-4e97-9ad2-6e8e71fe7b6c",
   "metadata": {},
   "source": [
    "# Ejercicio 3: Arreglos de aletas"
   ]
  },
  {
   "cell_type": "markdown",
   "id": "b6ce07cb-2df8-48ea-94f5-5856bf1a6ad1",
   "metadata": {},
   "source": [
    "## Enunciado"
   ]
  },
  {
   "cell_type": "markdown",
   "id": "58f2b9c1-d5fd-4213-b16a-ce895f14e548",
   "metadata": {},
   "source": [
    "Usted tiene una tubería de aluminio 2024-T6 ($k=186~\\text{W/m}\\cdot\\text{K}$) de $50~\\text{cm}$ de largo y $3.5~\\text{cm}$ de radio externo. Normalmente, esta se utiliza para calentar aire que fluye por fuera de la tubería a $298.15~\\text{K}$. Además, sabe que la temperatura superficial del tubo es de $450~\\text{K}$ con un coeficiente de convección $h=40~\\text{W/m}^2\\cdot\\text{K}$. Ha decidido que para mejorar la transferencia de calor hacia los alrededores (aire) va a integrar aletas. Luego de cotizar en Dosimac encuentra aletas anulares con un grosor de $7~\\text{mm}$ y largo $L=30~\\text{mm}$.\n",
    "    \n",
    "1. Para comprobar si las aletas funcionan, usted compra 15 y las coloca igualmente espaciadas a lo largo del tubo. ¿Cuál es el aumento en la transferencia de calor producto de las aletas?\n",
    "2. Si el mínimo espaciamiento entre aletas permitido es $13~\\text{mm}$, ¿cuántas aletas puede añadir como máximo? ¿Es mejor colocar esta cantidad de aletas o mantener el número inicial (15)?"
   ]
  },
  {
   "cell_type": "markdown",
   "id": "d5bae696",
   "metadata": {},
   "source": [
    "{ref}`Ver solución <part2:cap4:ex3:sol>`\n",
    "\n",
    "<br/><br/>\n",
    "<br/><br/>\n",
    "<br/><br/>\n",
    "<br/><br/>\n",
    "<br/><br/>\n",
    "<br/><br/>\n",
    "<br/><br/>\n",
    "<br/><br/>"
   ]
  },
  {
   "cell_type": "markdown",
   "id": "eb5744ae-a41c-4ecc-831e-7afb8e4a3015",
   "metadata": {},
   "source": [
    "(part2:cap4:ex3:sol)=\n",
    "## Solución"
   ]
  },
  {
   "cell_type": "code",
   "execution_count": 14,
   "id": "97dd53a0-b272-4db5-8aa1-a30298781392",
   "metadata": {},
   "outputs": [],
   "source": [
    "import handcalcs.render\n",
    "from numpy import pi"
   ]
  },
  {
   "cell_type": "markdown",
   "id": "4917260b-fac7-4789-a40a-1e55fe221709",
   "metadata": {},
   "source": [
    "### Inciso 1"
   ]
  },
  {
   "cell_type": "markdown",
   "id": "0506067e-5842-4a35-bfe0-248eaea0bf4b",
   "metadata": {},
   "source": [
    "Para un arreglo de aletas la ecuación para la tasa de transferencia de calor será:\n",
    "\n",
    "$$\n",
    "q_t = hA_t\\left[1-\\frac{NA_f}{A_t}\\left(1-\\eta_f\\right)\\right]\\theta_b\n",
    "$$"
   ]
  },
  {
   "cell_type": "markdown",
   "id": "64c39c38-b5e7-4ac4-90be-f8ba76f444a0",
   "metadata": {},
   "source": [
    "Para aletas anulares, tenemos que el área de la aleta dependerá de los parámetros de dimensionamiento corregidos:\n",
    "\n",
    "$$\n",
    "A_f = 2\\pi\\left(r_{2c}^2-r_1^2\\right)\n",
    "$$"
   ]
  },
  {
   "cell_type": "markdown",
   "id": "4c1535d5-faa7-48de-b2db-d8f27e0cd917",
   "metadata": {},
   "source": [
    "Luego el área total del arreglo será la suma de las áreas de todas las aletas y del tubo"
   ]
  },
  {
   "cell_type": "markdown",
   "id": "a0a74687-5b0a-4fcb-a1c9-267c90e8d565",
   "metadata": {},
   "source": [
    "$$\n",
    "A_t = N\\cdot A_f + 2\\pi r_1(H-N\\cdot t)\n",
    "$$"
   ]
  },
  {
   "cell_type": "markdown",
   "id": "3a68b95c-660e-444b-a617-5ea2a3adf878",
   "metadata": {},
   "source": [
    "La eficiencia la podemos encontrar de manera gráfica utilizando parámetros corregidos. Y luego buscando el valor correspondiente de:\n",
    "\n",
    "$$\n",
    "L_c^{\\frac{3}{2}}\\left(\\frac{h}{kA_p}\\right)^{\\frac{1}{2}}\n",
    "$$"
   ]
  },
  {
   "cell_type": "code",
   "execution_count": 11,
   "id": "40e824dc-72d2-4f4e-975e-94bbcb6d10d6",
   "metadata": {},
   "outputs": [
    {
     "data": {
      "text/latex": [
       "\\[\n",
       "\\begin{aligned}\n",
       "k &= 186 \\; \\;\\textrm{(W/m$\\cdot$K)}\n",
       " &H &= 0.500 \\; \\;\\textrm{(m)}\n",
       " &r_{1} &= 0.035 \\; \\;\\textrm{(m)}\n",
       "\\\\[10pt]\n",
       " T_{inf} &= 298.150 \\; \\;\\textrm{(K)}\n",
       " &T_{b} &= 450 \\; \\;\\textrm{(K)}\n",
       " &h &= 40 \\; \\;\\textrm{(W/m$^2\\cdot$K)}\n",
       "\\\\[10pt]\n",
       " L &= 0.030 \\; \\;\\textrm{(m)}\n",
       " &t &= 0.007 \\; \\;\\textrm{(m)}\n",
       " &N &= 15 \\; \n",
       "\\\\[10pt]\n",
       " r_{2} &= 0.065 \\; \\;\\textrm{(m)}\n",
       "\\end{aligned}\n",
       "\\]"
      ],
      "text/plain": [
       "<IPython.core.display.Latex object>"
      ]
     },
     "metadata": {},
     "output_type": "display_data"
    }
   ],
   "source": [
    "%%render params\n",
    "k = 186 #W/m$\\cdot$K\n",
    "H = 0.5 #m\n",
    "r_1 = 0.035 #m\n",
    "T_inf = 298.15 #K\n",
    "T_b = 450 #K\n",
    "h = 40 #W/m$^2\\cdot$K\n",
    "L = 30/1000 #m\n",
    "t = 7/1000 #m\n",
    "N = 15\n",
    "r_2 = r_1+L #m"
   ]
  },
  {
   "cell_type": "markdown",
   "id": "44745329-ddb7-4989-b09e-2189f358939a",
   "metadata": {},
   "source": [
    "Empezando por el cálculo para la eficiencia:"
   ]
  },
  {
   "cell_type": "code",
   "execution_count": 12,
   "id": "51269b03-e9b1-4cdb-9f45-dad53bf63dd8",
   "metadata": {},
   "outputs": [
    {
     "data": {
      "text/latex": [
       "\\[\n",
       "\\begin{aligned}\n",
       "r_{2c} &= r_{2} + \\frac{ t }{ 2 } \\\\&= 0.065 + \\frac{ 0.007 }{ 2 } \\\\&= 0.069 \\; \\;\\textrm{(m)}\\\\[10pt]\n",
       "\\\\[10pt]\n",
       "L_{c} &= L + \\frac{ t }{ 2 } \\\\&= 0.030 + \\frac{ 0.007 }{ 2 } \\\\&= 0.034 \\; \\;\\textrm{(m)}\\\\[10pt]\n",
       "\\\\[10pt]\n",
       "A_{p} &= L_{c} \\cdot t \\\\&= 0.034 \\cdot 0.007 \\\\&= 0.000 \\; \\;\\textrm{(m$^2$)}\\\\[10pt]\n",
       "\\\\[10pt]\n",
       "x &= \\left( L_{c} \\right) ^{ \\left( \\frac{ 3 }{ 2 } \\right) } \\cdot \\left( \\frac{ h }{ k \\cdot A_{p} } \\right) ^{ \\left( \\frac{ 1 }{ 2 } \\right) } \\\\&= \\left( 0.034 \\right) ^{ \\left( \\frac{ 3 }{ 2 } \\right) } \\cdot \\left( \\frac{ 40 }{ 186 \\cdot 0.000 } \\right) ^{ \\left( \\frac{ 1 }{ 2 } \\right) } \\\\&= 0.186  \\\\[10pt]\n",
       "\\\\[10pt]\n",
       "\\mathrm{curva} &= \\frac{ r_{2c} }{ r_{1} } \\\\&= \\frac{ 0.069 }{ 0.035 } \\\\&= 1.957  \\\\[10pt]\n",
       "\\end{aligned}\n",
       "\\]"
      ],
      "text/plain": [
       "<IPython.core.display.Latex object>"
      ]
     },
     "metadata": {},
     "output_type": "display_data"
    }
   ],
   "source": [
    "%%render long\n",
    "r_2c = r_2 + t/2 #m\n",
    "L_c  = L + t/2 #m\n",
    "A_p = L_c*t #m$^2$\n",
    "x = L_c**(3/2)*(h/(k*A_p))**(1/2)\n",
    "curva = r_2c/r_1"
   ]
  },
  {
   "cell_type": "markdown",
   "id": "d394c579-28d4-45e5-babe-49038cf186a1",
   "metadata": {},
   "source": [
    "Del gráfico obtenemos que $\\eta_f \\approx 0.94$."
   ]
  },
  {
   "cell_type": "code",
   "execution_count": 21,
   "id": "0d9537b6-7702-407f-b0c2-49710bb1e071",
   "metadata": {},
   "outputs": [
    {
     "data": {
      "text/latex": [
       "\\[\n",
       "\\begin{aligned}\n",
       "\\eta_{f} &= 0.940 \\; \n",
       "\\\\[10pt]\n",
       "A_{f} &= 2 \\cdot \\pi \\cdot \\left( \\left( r_{2c} \\right) ^{ 2 } - \\left( r_{1} \\right) ^{ 2 } \\right) \\\\&= 2 \\cdot 3.142 \\cdot \\left( \\left( 0.069 \\right) ^{ 2 } - \\left( 0.035 \\right) ^{ 2 } \\right) \\\\&= 0.022 \\; \\;\\textrm{(m$^2$)}\\\\[10pt]\n",
       "\\\\[10pt]\n",
       "A_{t} &= N \\cdot A_{f} + 2 \\cdot \\pi \\cdot r_{1} \\cdot \\left( H - N \\cdot t \\right) \\\\&= 15 \\cdot 0.022 + 2 \\cdot 3.142 \\cdot 0.035 \\cdot \\left( 0.500 - 15 \\cdot 0.007 \\right) \\\\&= 0.414 \\; \\;\\textrm{(m$^2$)}\\\\[10pt]\n",
       "\\\\[10pt]\n",
       "q_{t} &= h \\cdot A_{t} \\cdot \\left( 1 - \\frac{ N \\cdot A_{f} }{ A_{t} } \\cdot \\left( 1 - \\eta_{f} \\right) \\right) \\cdot \\left( T_{b} - T_{inf} \\right) \\\\&= 40 \\cdot 0.414 \\cdot \\left( 1 - \\frac{ 15 \\cdot 0.022 }{ 0.414 } \\cdot \\left( 1 - 0.940 \\right) \\right) \\cdot \\left( 450 - 298.150 \\right) \\\\&= 2393.392 \\; \\;\\textrm{(W)}\\\\[10pt]\n",
       "\\end{aligned}\n",
       "\\]"
      ],
      "text/plain": [
       "<IPython.core.display.Latex object>"
      ]
     },
     "metadata": {},
     "output_type": "display_data"
    }
   ],
   "source": [
    "%%render long\n",
    "eta_f = 0.94\n",
    "A_f = 2*pi*(r_2c**2-r_1**2) #m$^2$\n",
    "A_t = N*A_f + 2*pi*r_1*(H-N*t) #m$^2$\n",
    "q_t = h*A_t*(1-(N*A_f)/A_t*(1-eta_f))*(T_b - T_inf) #W"
   ]
  },
  {
   "cell_type": "markdown",
   "id": "4c535775-3f95-4538-b1d2-ebe2875e1c2d",
   "metadata": {},
   "source": [
    "Para el caso sin aletas tendremos un modelo de convección simple para la superficie exterior de una tubería.\n",
    "\n",
    "$$\n",
    "q_w = h(2\\pi r_1H)\\theta_b\n",
    "$$"
   ]
  },
  {
   "cell_type": "code",
   "execution_count": 22,
   "id": "01f076d1-edf5-4fc2-b343-af16d9530c36",
   "metadata": {},
   "outputs": [
    {
     "data": {
      "text/latex": [
       "\\[\n",
       "\\begin{aligned}\n",
       "q_{w} &= h \\cdot \\left( 2 \\cdot \\pi \\cdot r_{1} \\cdot H \\right) \\cdot \\left( T_{b} - T_{inf} \\right) \\\\&= 40 \\cdot \\left( 2 \\cdot 3.142 \\cdot 0.035 \\cdot 0.500 \\right) \\cdot \\left( 450 - 298.150 \\right) \\\\&= 667.871 \\; \\;\\textrm{(W)}\\\\[10pt]\n",
       "\\end{aligned}\n",
       "\\]"
      ],
      "text/plain": [
       "<IPython.core.display.Latex object>"
      ]
     },
     "metadata": {},
     "output_type": "display_data"
    }
   ],
   "source": [
    "%%render long\n",
    "q_w = h*(2*pi*r_1*H)*(T_b-T_inf) #W"
   ]
  },
  {
   "cell_type": "markdown",
   "id": "1a8eb7eb-851d-4218-9e8f-b50f351ed9f1",
   "metadata": {},
   "source": [
    "Luego el aumento será:"
   ]
  },
  {
   "cell_type": "code",
   "execution_count": 23,
   "id": "9f850efe-7247-4c0b-83db-afe76bdf1300",
   "metadata": {},
   "outputs": [
    {
     "data": {
      "text/latex": [
       "\\[\n",
       "\\begin{aligned}\n",
       "\\Delta_{q} &= q_{t} - q_{w} \\\\&= 2393.392 - 667.871 \\\\&= 1725.521 \\; \\;\\textrm{(W)}\\\\[10pt]\n",
       "\\end{aligned}\n",
       "\\]"
      ],
      "text/plain": [
       "<IPython.core.display.Latex object>"
      ]
     },
     "metadata": {},
     "output_type": "display_data"
    }
   ],
   "source": [
    "%%render long\n",
    "Delta_q = q_t - q_w #W"
   ]
  },
  {
   "cell_type": "markdown",
   "id": "e4d53cb1-b940-4cde-a4ea-f9d30727faa9",
   "metadata": {},
   "source": [
    "### Inciso 2"
   ]
  },
  {
   "cell_type": "markdown",
   "id": "66b834c5-8dd8-45b6-8ac1-be13f753b0d7",
   "metadata": {},
   "source": [
    "Por simetría la altura debe ser igual al grosor de las aletas más los espacios entre ellas. Asumiendo que entre el inicio de la tubería y el comienzo de la primera aleta el espaciamiento es $S=13~\\text{mm}$. Y lo mismo se cumple para el término de la última aleta y el final de la tubería.\n",
    "\n",
    "$$\n",
    "H = N(t+S)+S\n",
    "$$"
   ]
  },
  {
   "cell_type": "markdown",
   "id": "fc70cc0a-209f-4ee7-bd6c-a4af182168be",
   "metadata": {},
   "source": [
    "Despejando y resolviendo:"
   ]
  },
  {
   "cell_type": "code",
   "execution_count": 27,
   "id": "b92e4b24-1786-404f-8552-5d740a4e4577",
   "metadata": {},
   "outputs": [
    {
     "data": {
      "text/latex": [
       "\\[\n",
       "\\begin{aligned}\n",
       "S &= 0.013 \\; \\;\\textrm{(m)}\n",
       "\\\\[10pt]\n",
       "N &= \\frac{ H - S }{ t + S } \\\\&= \\frac{ 0.500 - 0.013 }{ 0.007 + 0.013 } \\\\&= 24.350  \\\\[10pt]\n",
       "\\end{aligned}\n",
       "\\]"
      ],
      "text/plain": [
       "<IPython.core.display.Latex object>"
      ]
     },
     "metadata": {},
     "output_type": "display_data"
    }
   ],
   "source": [
    "%%render long\n",
    "S = 0.013 #m\n",
    "N = (H-S)/(t+S)"
   ]
  },
  {
   "cell_type": "markdown",
   "id": "b12455ed-9e60-4a71-9b75-ac394d56ba87",
   "metadata": {},
   "source": [
    "Entonces el máximo de aletas posibles será $N=24$. Repetimos los cálculos que sea necesarios."
   ]
  },
  {
   "cell_type": "code",
   "execution_count": 29,
   "id": "1e03996c-340a-4f54-a1f7-a1331af4992e",
   "metadata": {},
   "outputs": [
    {
     "data": {
      "text/latex": [
       "\\[\n",
       "\\begin{aligned}\n",
       "N &= 24 \\; \n",
       "\\\\[10pt]\n",
       "A_{t} &= N \\cdot A_{f} + 2 \\cdot \\pi \\cdot r_{1} \\cdot \\left( H - N \\cdot t \\right) \\\\&= 24 \\cdot 0.022 + 2 \\cdot 3.142 \\cdot 0.035 \\cdot \\left( 0.500 - 24 \\cdot 0.007 \\right) \\\\&= 0.596 \\; \\;\\textrm{(m$^2$)}\\\\[10pt]\n",
       "\\\\[10pt]\n",
       "q_{t} &= h \\cdot A_{t} \\cdot \\left( 1 - \\frac{ N \\cdot A_{f} }{ A_{t} } \\cdot \\left( 1 - \\eta_{f} \\right) \\right) \\cdot \\left( T_{b} - T_{inf} \\right) \\\\&= 40 \\cdot 0.596 \\cdot \\left( 1 - \\frac{ 24 \\cdot 0.022 }{ 0.596 } \\cdot \\left( 1 - 0.940 \\right) \\right) \\cdot \\left( 450 - 298.150 \\right) \\\\&= 3428.704 \\; \\;\\textrm{(W)}\\\\[10pt]\n",
       "\\end{aligned}\n",
       "\\]"
      ],
      "text/plain": [
       "<IPython.core.display.Latex object>"
      ]
     },
     "metadata": {},
     "output_type": "display_data"
    }
   ],
   "source": [
    "%%render long\n",
    "N = 24\n",
    "A_t = N*A_f + 2*pi*r_1*(H-N*t) #m$^2$\n",
    "q_t = h*A_t*(1-(N*A_f)/A_t*(1-eta_f))*(T_b - T_inf) #W"
   ]
  },
  {
   "cell_type": "markdown",
   "id": "6e817ab0-dc08-4054-b4a4-335c561a610d",
   "metadata": {},
   "source": [
    "Notamos que al aumentar las aletas mejoran la tasa de transferencia de calor."
   ]
  }
 ],
 "metadata": {
  "kernelspec": {
   "display_name": "Python 3 (ipykernel)",
   "language": "python",
   "name": "python3"
  },
  "language_info": {
   "codemirror_mode": {
    "name": "ipython",
    "version": 3
   },
   "file_extension": ".py",
   "mimetype": "text/x-python",
   "name": "python",
   "nbconvert_exporter": "python",
   "pygments_lexer": "ipython3",
   "version": "3.11.7"
  }
 },
 "nbformat": 4,
 "nbformat_minor": 5
}
