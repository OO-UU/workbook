{
 "cells": [
  {
   "cell_type": "markdown",
   "id": "b6205a8f-708d-4fc7-a2f0-40ab7e404ecb",
   "metadata": {},
   "source": [
    "# Ejercicio 2: Evaporador considerando entalpía de dilución"
   ]
  },
  {
   "cell_type": "markdown",
   "id": "902aa46f-170f-483d-8024-b006f2da4032",
   "metadata": {},
   "source": [
    "## Enunciado"
   ]
  },
  {
   "cell_type": "markdown",
   "id": "a60622d0-2e75-40b7-b6d2-8d56b0b0aa46",
   "metadata": {},
   "source": [
    "Un evaporador de un efecto es utilizado para concentrar $9070~\\text{kg/h}$ de una solución al $20~\\%$ de hidróxido de sodio hasta alcanzar un $50~\\%$ de concentración másica. La presión de manométrica del vapor saturado que entra al evaporador ($\\text{S}$) es de $1.37~\\text{atm}$; la presión en el evaporador es $100~\\text{mmHg}$. Asuma que el coeficiente global de transferencia de masa es de $1400~\\text{W/m}^2\\cdot\\text{°C}$, y que la temperatura del flujo de alimentación es de $37.8~\\text{°C}$."
   ]
  },
  {
   "cell_type": "markdown",
   "id": "de075f22-90d9-43cc-a997-3591a822ba5f",
   "metadata": {},
   "source": [
    "Encuentre lo siguiente:\n",
    "1. El flujo másico de vapor saturado que sale del evaporador en la corriente $\\text{V}$.\n",
    "2. El flujo másico de vapor saturado necesario en la corriente $\\text{S}$.\n",
    "3. La economía del evaporador.\n",
    "4. El área de evaporador requerido si la temperatura de condensación del vapor a $1.37~\\text{atm}$ es $126.1~\\text{°C}$."
   ]
  },
  {
   "cell_type": "markdown",
   "id": "abb16de9-505c-4edf-9490-065f97dd05ef",
   "metadata": {},
   "source": [
    "```{figure} ./images/img2_5_2.png\n",
    "---\n",
    "align: center\n",
    "name: fig252\n",
    "scale: 60%\n",
    "---\n",
    "\n",
    "Diagrama de evaporador de 1 efecto.\n",
    "```"
   ]
  },
  {
   "cell_type": "markdown",
   "id": "eca9cb54-e40e-4f38-9abc-6440a528bd99",
   "metadata": {},
   "source": [
    "Para sus cálculos utilice la siguiente información:\\\n",
    "Temperatura de ebullición del agua a $100~\\text{mmHg}$: $51.11~\\text{°C}$\\\n",
    "Punto de ebullición de la solución a una concentración del $20~\\%$ de NaOH: $91.67~\\text{°C}$\\\n",
    "El calor latente de vapor saturado a $1.37~\\text{atm}$ es: $2184.11~\\text{kJ/kg}$\\\n",
    "La entalpía de agua sobrecalentada a $91.67~\\text{°C}$ puede ser calculada como:\n",
    "\n",
    "$$\n",
    "H_v \\text{(Btu/lb)} = 1116+0.45\\cdot\\Delta\\text{EPE}\\text{(°F)}\n",
    "$$\n",
    "\n",
    "Donde $\\Delta\\text{EPE}$ es la elevación del punto de ebullición.\\\n",
    "Ya que tenemos una solución salina, debemos considerar la entalpía de dilución. Para esto, utilice el siguiente gráfico."
   ]
  },
  {
   "cell_type": "markdown",
   "id": "39693862-9328-4619-9980-f401c1c9ba66",
   "metadata": {},
   "source": [
    "```{figure} ./images/img2_5_22.png\n",
    "---\n",
    "align: center\n",
    "name: fig2522\n",
    "scale: 60%\n",
    "---\n",
    "\n",
    "Diagrama concentración másica vs entalpía.\n",
    "```"
   ]
  },
  {
   "cell_type": "markdown",
   "id": "1bf4ff23-6f8d-4da8-9b04-eda6f780ccb7",
   "metadata": {},
   "source": [
    "{ref}`Ver solución <part2:cap5:ex2:sol>`\n",
    "\n",
    "<br/><br/>\n",
    "<br/><br/>\n",
    "<br/><br/>\n",
    "<br/><br/>\n",
    "<br/><br/>\n",
    "<br/><br/>\n",
    "<br/><br/>\n",
    "<br/><br/>"
   ]
  },
  {
   "cell_type": "markdown",
   "id": "ed4f167b-5dda-4181-b58d-6f00925370fa",
   "metadata": {},
   "source": [
    "(part2:cap5:ex2:sol)=\n",
    "## Solución"
   ]
  },
  {
   "cell_type": "markdown",
   "id": "4c23d5df-7102-4664-8f8f-342e603f663b",
   "metadata": {},
   "source": [
    "### Inciso 1"
   ]
  },
  {
   "cell_type": "code",
   "execution_count": 1,
   "id": "37c75b3f-8e36-407b-be44-df672da7e26b",
   "metadata": {},
   "outputs": [],
   "source": [
    "import handcalcs.render\n",
    "handcalcs.set_option(\"custom_symbols\",{\"dEPE\": \"\\Delta EPE\", \"dotm\": \"\\dot m\", \"lambda\": \"\\lambda\", \"Tebs\": \"T^eb\", \"dT\": \"\\Delta T\"})"
   ]
  },
  {
   "cell_type": "markdown",
   "id": "feb86bf6-093c-4ce8-8af4-4993a8d043f5",
   "metadata": {},
   "source": [
    "Se debe cumplir la conservación de masa, tal que\n",
    "\n",
    "$$\n",
    "w_F\\cdot F = w_L\\cdot L\n",
    "$$"
   ]
  },
  {
   "cell_type": "code",
   "execution_count": 2,
   "id": "357ce99f-b65d-4a85-9d4a-1ba778b0de84",
   "metadata": {},
   "outputs": [
    {
     "data": {
      "text/latex": [
       "\\[\n",
       "\\begin{aligned}\n",
       "\\dot m_{F} &= 9070 \\; \\;\\textrm{(kg/h)}\n",
       " &w_{F} &= 0.200 \\; \n",
       " &w_{L} &= 0.500 \\; \n",
       "\\\\[10pt]\n",
       "\\end{aligned}\n",
       "\\]"
      ],
      "text/plain": [
       "<IPython.core.display.Latex object>"
      ]
     },
     "metadata": {},
     "output_type": "display_data"
    }
   ],
   "source": [
    "%%render params\n",
    "dotm_F = 9070 #kg/h\n",
    "w_F = 0.2 \n",
    "w_L = 0.5"
   ]
  },
  {
   "cell_type": "code",
   "execution_count": 3,
   "id": "54a1256d-ffe7-46ad-8b02-8c028b91e68a",
   "metadata": {},
   "outputs": [
    {
     "data": {
      "text/latex": [
       "\\[\n",
       "\\begin{aligned}\n",
       "\\dot m_{L} &= \\dot m_{F} \\cdot \\left( \\frac{ w_{F} }{ w_{L} } \\right)  = 9070 \\cdot \\left( \\frac{ 0.200 }{ 0.500 } \\right) &= 3628.000 \\; \\;\\textrm{(kg/h)}\n",
       "\\end{aligned}\n",
       "\\]"
      ],
      "text/plain": [
       "<IPython.core.display.Latex object>"
      ]
     },
     "metadata": {},
     "output_type": "display_data"
    }
   ],
   "source": [
    "%%render short\n",
    "dotm_L = dotm_F*(w_F/w_L) #kg/h"
   ]
  },
  {
   "cell_type": "markdown",
   "id": "73a5dd16-cbfa-43e0-b40d-20cd971d707b",
   "metadata": {},
   "source": [
    "Por balance de masa se despeja $\\dot{m}_V$."
   ]
  },
  {
   "cell_type": "code",
   "execution_count": 4,
   "id": "c04dedfe-c3b2-4677-9e77-690885c165fc",
   "metadata": {},
   "outputs": [
    {
     "data": {
      "text/latex": [
       "\\[\n",
       "\\begin{aligned}\n",
       "\\dot m_{V} &= \\dot m_{F} - \\dot m_{L}  = 9070 - 3628 &= 5442 \\; \\;\\textrm{(kg/h)}\n",
       "\\end{aligned}\n",
       "\\]"
      ],
      "text/plain": [
       "<IPython.core.display.Latex object>"
      ]
     },
     "metadata": {},
     "output_type": "display_data"
    }
   ],
   "source": [
    "%%render short 0\n",
    "dotm_V = dotm_F-dotm_L #kg/h"
   ]
  },
  {
   "cell_type": "markdown",
   "id": "7ec21e95-ee84-496f-bc82-d42e371dbafa",
   "metadata": {},
   "source": [
    "### Inciso 2"
   ]
  },
  {
   "cell_type": "markdown",
   "id": "5e092a06-b1bf-4377-bb0a-ed323908a37b",
   "metadata": {},
   "source": [
    "Se debe despejar $\\dot{m}_s$ a partir del balance de energía."
   ]
  },
  {
   "cell_type": "markdown",
   "id": "fd34f0b0-42d4-432b-a0a0-14188a03b681",
   "metadata": {},
   "source": [
    "$$\n",
    "\\dot{m}_s\\cdot\\lambda_s = \\dot{m}_v\\cdot H_v + \\dot{m}_L\\cdot H_L - \\dot{m}_F\\cdot H_F\n",
    "$$"
   ]
  },
  {
   "cell_type": "code",
   "execution_count": 5,
   "id": "abec6538-54a8-41a9-bb47-cadd3f31d03a",
   "metadata": {},
   "outputs": [
    {
     "data": {
      "text/latex": [
       "\\[\n",
       "\\begin{aligned}\n",
       "\\mathrm{T^eb}_{sol} &= 91.670 \\; \\;\\textrm{($^\\circ$C)}\n",
       " &\\mathrm{T^eb}_{w} &= 51.110 \\; \\;\\textrm{($^\\circ$C)}\n",
       " &\\lambda_{s} &= 2184.110 \\; \\;\\textrm{(kJ/kg)}\n",
       "\\\\[10pt]\n",
       "\\end{aligned}\n",
       "\\]"
      ],
      "text/plain": [
       "<IPython.core.display.Latex object>"
      ]
     },
     "metadata": {},
     "output_type": "display_data"
    }
   ],
   "source": [
    "%%render params\n",
    "Tebs_sol = 91.67 #$^\\circ$C\n",
    "Tebs_w = 51.11 #$^\\circ$C\n",
    "lambda_s = 2184.11 #kJ/kg"
   ]
  },
  {
   "cell_type": "markdown",
   "id": "e2a4c4e0-1fad-4a58-a3ab-12089beaef12",
   "metadata": {},
   "source": [
    "Por definición, el $\\Delta\\text{EPE}$ es la diferencia entre las temperaturas de ebullición de la solución y el agua pura. Ya que la fórmula para $H_v$ se encuentra en función de la temperatura en Farenheit, hacemos el cambio de unidades."
   ]
  },
  {
   "cell_type": "code",
   "execution_count": 6,
   "id": "40a74ded-9e52-40ee-96a5-a862c26fe7e5",
   "metadata": {},
   "outputs": [
    {
     "data": {
      "text/latex": [
       "\\[\n",
       "\\begin{aligned}\n",
       "\\mathrm{T^eb}_{solF} &= \\mathrm{T^eb}_{sol} \\cdot \\frac{ 9 }{ 5 } + 32  = 92 \\cdot \\frac{ 9 }{ 5 } + 32 &= 197 \\; \\;\\textrm{($^\\circ$F)}\n",
       "\\\\[10pt]\n",
       "\\mathrm{T^eb}_{wF} &= \\mathrm{T^eb}_{w} \\cdot \\frac{ 9 }{ 5 } + 32  = 51 \\cdot \\frac{ 9 }{ 5 } + 32 &= 124 \\; \\;\\textrm{($^\\circ$F)}\n",
       "\\\\[10pt]\n",
       "\\Delta EPE &= \\mathrm{T^eb}_{solF} - \\mathrm{T^eb}_{wF}  = 197 - 124 &= 73 \\; \\;\\textrm{($^\\circ$F)}\n",
       "\\\\[10pt]\n",
       "H_{V} &= 1116 + 0.45 \\cdot \\Delta EPE  = 1116 + 0.45 \\cdot 73 &= 1149 \\; \\;\\textrm{(Btu/lb)}\n",
       "\\end{aligned}\n",
       "\\]"
      ],
      "text/plain": [
       "<IPython.core.display.Latex object>"
      ]
     },
     "metadata": {},
     "output_type": "display_data"
    }
   ],
   "source": [
    "%%render short 0\n",
    "Tebs_solF = Tebs_sol*9/5 +32 #$^\\circ$F\n",
    "Tebs_wF = Tebs_w*9/5 +32 #$^\\circ$F\n",
    "dEPE = Tebs_solF-Tebs_wF #$^\\circ$F\n",
    "H_V = 1116+0.45*dEPE #Btu/lb"
   ]
  },
  {
   "cell_type": "markdown",
   "id": "1224d47e-8050-4e34-9782-d102d9ad8556",
   "metadata": {},
   "source": [
    "Las otras entalpías las encontramos de forma gráfica:\\\n",
    "$H_F:~20~\\%~\\text{sólidos a}~100~\\text{°F}$ $\\rightarrow$ $55~\\text{Btu/lb}$ \\\n",
    "$H_L:~50~\\%~\\text{sólidos a}~197~\\text{°F}$ $\\rightarrow$ $221~\\text{Btu/lb}$"
   ]
  },
  {
   "cell_type": "code",
   "execution_count": 7,
   "id": "26f1fc3a-52d1-4c35-b7db-1a28ad1a6929",
   "metadata": {},
   "outputs": [
    {
     "data": {
      "text/latex": [
       "\\[\n",
       "\\begin{aligned}\n",
       "H_{V} &= 1149 \\cdot 2.326 &= 2672.574 \\; \\;\\textrm{(kJ/kg)}\n",
       "\\\\[10pt]\n",
       "H_{F} &= 55 \\cdot 2.326 &= 127.930 \\; \\;\\textrm{(kJ/kg)}\n",
       "\\\\[10pt]\n",
       "H_{L} &= 221 \\cdot 2.326 &= 514.046 \\; \\;\\textrm{(kJ/kg)}\n",
       "\\end{aligned}\n",
       "\\]"
      ],
      "text/plain": [
       "<IPython.core.display.Latex object>"
      ]
     },
     "metadata": {},
     "output_type": "display_data"
    }
   ],
   "source": [
    "%%render short\n",
    "H_V = 1149*2.326 # kJ/kg\n",
    "H_F = 55*2.326 # kJ/kg\n",
    "H_L = 221*2.326 # kJ/kg"
   ]
  },
  {
   "cell_type": "code",
   "execution_count": 8,
   "id": "19ef0c5b-c0f2-4874-898e-c2d8848513ce",
   "metadata": {},
   "outputs": [
    {
     "data": {
      "text/latex": [
       "\\[\n",
       "\\begin{aligned}\n",
       "q &= \\dot m_{V} \\cdot H_{V} + \\dot m_{L} \\cdot H_{L} - \\dot m_{F} \\cdot H_{F} \\\\&= 5442.000 \\cdot 2672.574 + 3628.000 \\cdot 514.046 - 9070 \\cdot 127.930 \\\\&= 15248781.496 \\; \\;\\textrm{(kJ/h)}\\\\[10pt]\n",
       "\\\\[10pt]\n",
       "\\dot m_{s} &= \\frac{ q }{ \\lambda_{s} } \\\\&= \\frac{ 15248781.496 }{ 2184.110 } \\\\&= 6981.691 \\; \\;\\textrm{(kg/h)}\\\\[10pt]\n",
       "\\end{aligned}\n",
       "\\]"
      ],
      "text/plain": [
       "<IPython.core.display.Latex object>"
      ]
     },
     "metadata": {},
     "output_type": "display_data"
    }
   ],
   "source": [
    "%%render long\n",
    "q = dotm_V*H_V + dotm_L*H_L - dotm_F*H_F # kJ/h\n",
    "dotm_s = q/lambda_s #kg/h"
   ]
  },
  {
   "cell_type": "markdown",
   "id": "c4fa7c58-b12b-413a-a6df-4be18a126bf6",
   "metadata": {},
   "source": [
    "### Inciso 3"
   ]
  },
  {
   "cell_type": "code",
   "execution_count": 9,
   "id": "2e64d2cc-7cc6-406d-8bcc-25dadef05cd3",
   "metadata": {},
   "outputs": [
    {
     "data": {
      "text/latex": [
       "\\[\n",
       "\\begin{aligned}\n",
       "E &= \\frac{ \\dot m_{V} }{ \\dot m_{s} }  = \\frac{ 5442.00 }{ 6981.69 } &= 0.78 \\; \\;\\textrm{(kg/kg)}\n",
       "\\end{aligned}\n",
       "\\]"
      ],
      "text/plain": [
       "<IPython.core.display.Latex object>"
      ]
     },
     "metadata": {},
     "output_type": "display_data"
    }
   ],
   "source": [
    "%%render 2\n",
    "E = dotm_V/dotm_s #kg/kg"
   ]
  },
  {
   "cell_type": "markdown",
   "id": "71494b1c-19c8-4875-a2a1-6fe876f96f10",
   "metadata": {},
   "source": [
    "### Inciso 4"
   ]
  },
  {
   "cell_type": "markdown",
   "id": "9ef2118c-cc88-4c2e-b9a7-48cf0349b62b",
   "metadata": {},
   "source": [
    "La ecuación de diseño de un evaporador será:\n",
    "\n",
    "$$\n",
    "q = U\\cdot A\\cdot\\Delta T\n",
    "$$"
   ]
  },
  {
   "cell_type": "markdown",
   "id": "ae1ba548-447f-434b-b953-be81d6912277",
   "metadata": {},
   "source": [
    "Donde la diferencia de temperaturas $\\Delta T$ será la temperatura en el flujo de vapor $\\text{S}$ y la temperatura de ebullición de la solución en el evaporador."
   ]
  },
  {
   "cell_type": "code",
   "execution_count": 10,
   "id": "d51928c5-e48c-4328-9acd-c3d26894a62f",
   "metadata": {},
   "outputs": [
    {
     "data": {
      "text/latex": [
       "\\[\n",
       "\\begin{aligned}\n",
       "U &= 1400 \\; \\;\\textrm{(W/m$^2\\cdot^\\circ$C)}\n",
       "\\\\[10pt]\n",
       "q &= q \\cdot \\left( \\frac{ 1000 }{ 3600 } \\right) \\\\&= 4235772.638 \\cdot \\left( \\frac{ 1000 }{ 3600 } \\right) \\\\&= 4235772.638 \\; \\;\\textrm{(W)}\\\\[10pt]\n",
       "\\\\[10pt]\n",
       "\\Delta T &= 126.1 - 91.67 &= 34.430  \n",
       "\\\\[10pt]\n",
       "A &= \\frac{ q }{ U \\cdot \\Delta T } \\\\&= \\frac{ 4235772.638 }{ 1400 \\cdot 34.430 } \\\\&= 87.875 \\; \\;\\textrm{(m$^2$)}\\\\[10pt]\n",
       "\\end{aligned}\n",
       "\\]"
      ],
      "text/plain": [
       "<IPython.core.display.Latex object>"
      ]
     },
     "metadata": {},
     "output_type": "display_data"
    }
   ],
   "source": [
    "%%render long\n",
    "U = 1400 #W/m$^2\\cdot^\\circ$C\n",
    "q = q*(1000/3600) #W\n",
    "dT = 126.1-91.67\n",
    "A = q/(U*dT) #m$^2$"
   ]
  }
 ],
 "metadata": {
  "kernelspec": {
   "display_name": "Python 3 (ipykernel)",
   "language": "python",
   "name": "python3"
  },
  "language_info": {
   "codemirror_mode": {
    "name": "ipython",
    "version": 3
   },
   "file_extension": ".py",
   "mimetype": "text/x-python",
   "name": "python",
   "nbconvert_exporter": "python",
   "pygments_lexer": "ipython3",
   "version": "3.11.7"
  }
 },
 "nbformat": 4,
 "nbformat_minor": 5
}
