{
 "cells": [
  {
   "cell_type": "markdown",
   "id": "38790681-8acf-473b-8d99-11b670bf8427",
   "metadata": {},
   "source": [
    "# Prueba interactiva"
   ]
  },
  {
   "cell_type": "markdown",
   "id": "dde149f1-bbe7-4fb8-9bec-dc685425b0ab",
   "metadata": {},
   "source": [
    "A continuación, un intendo de utilizar sliders en Jupyter Books"
   ]
  },
  {
   "cell_type": "code",
   "execution_count": 4,
   "id": "c14a8e35-4ece-4300-9fe3-e39445d5b0f7",
   "metadata": {},
   "outputs": [],
   "source": [
    "import ipywidgets\n",
    "import numpy as np\n",
    "import matplotlib.pyplot as plt\n",
    "\n",
    "X = np.random.uniform(0, 5, size=100)\n",
    "noise = np.random.normal(size=100)\n",
    "def plot_fct(w=1):\n",
    "    y = 2 * X + w * noise\n",
    "    plt.scatter(X, y)"
   ]
  },
  {
   "cell_type": "code",
   "execution_count": 5,
   "id": "903ab120-89b4-451a-94ff-14dcfa38c30e",
   "metadata": {},
   "outputs": [
    {
     "data": {
      "application/vnd.jupyter.widget-view+json": {
       "model_id": "900d39eec06d4f33912e553670c0db47",
       "version_major": 2,
       "version_minor": 0
      },
      "text/plain": [
       "interactive(children=(FloatSlider(value=1.0, description='w', max=5.0, step=0.5), Output()), _dom_classes=('wi…"
      ]
     },
     "metadata": {},
     "output_type": "display_data"
    },
    {
     "data": {
      "text/plain": [
       "<function __main__.plot_fct(w=1)>"
      ]
     },
     "execution_count": 5,
     "metadata": {},
     "output_type": "execute_result"
    }
   ],
   "source": [
    "ipywidgets.interact(plot_fct, w=(0, 5, 0.5))"
   ]
  },
  {
   "cell_type": "markdown",
   "id": "51bf6559-c5a8-4f36-9a9d-ead209f7c4dc",
   "metadata": {},
   "source": [
    "Lore ipsum..."
   ]
  }
 ],
 "metadata": {
  "kernelspec": {
   "display_name": "Python 3 (ipykernel)",
   "language": "python",
   "name": "python3"
  },
  "language_info": {
   "codemirror_mode": {
    "name": "ipython",
    "version": 3
   },
   "file_extension": ".py",
   "mimetype": "text/x-python",
   "name": "python",
   "nbconvert_exporter": "python",
   "pygments_lexer": "ipython3",
   "version": "3.11.6"
  }
 },
 "nbformat": 4,
 "nbformat_minor": 5
}
