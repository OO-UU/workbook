{
 "cells": [
  {
   "cell_type": "markdown",
   "metadata": {},
   "source": [
    "# IIQ2013 - Clase 3"
   ]
  },
  {
   "cell_type": "markdown",
   "metadata": {},
   "source": [
    "En primer lugar se deben cargar las librerias que vamos a utilizar"
   ]
  },
  {
   "cell_type": "code",
   "execution_count": 26,
   "metadata": {},
   "outputs": [],
   "source": [
    "import numpy as np"
   ]
  },
  {
   "cell_type": "markdown",
   "metadata": {},
   "source": [
    "## Pregunta 1\n",
    "\n",
    "La pérdida de carga ($\\Delta p/L$) al transportar $Q$ = 100 L/s de agua por una tubería horizontal de acero comercial de 10 in de diámetro nominal (D= 254,5 mm) es la siguiente:\n",
    "       \n",
    "\n",
    "(a) $\\Delta p/L >$ 0.13 atm/100 m\n",
    "\n",
    "(b) 0.12 $< \\Delta p/L \\leq$ 0.13 atm/100 m\n",
    "\n",
    "(c) 0.11 $< \\Delta p/L \\leq$ 0.12 atm/100 m\n",
    "\n",
    "(d) $\\Delta p/L \\leq$ 0.11 atm/100 m\n",
    "\n",
    "\n",
    "Considere las propiedades físicas del agua a 20 °C [$\\rho$= 1000 kg/m$^3$, $\\mu$= 0.001 Pa s]."
   ]
  },
  {
   "cell_type": "markdown",
   "metadata": {},
   "source": [
    "## Solución\n",
    "\n",
    "Comenzamos recordando el ejercicio de la clase anterior ..."
   ]
  },
  {
   "cell_type": "code",
   "execution_count": 27,
   "metadata": {},
   "outputs": [
    {
     "name": "stdout",
     "output_type": "stream",
     "text": [
      "La perdida de carga por unidad de largo es 115.96605830597088 Pa/m\n"
     ]
    }
   ],
   "source": [
    "# 1\n",
    "d = 254.5e-3\n",
    "Q = 0.1 # m^3/s\n",
    "V = Q/(np.pi*d**2/4) # Calculamos la velocidad \n",
    "rho = 1000\n",
    "mu = 0.001\n",
    "Re = rho*V*d/mu\n",
    "eps = 0.046*1e-3\n",
    "def f_Nevers(eps, D, Re):\n",
    "    return 0.001375 * (1 + (2e4 * eps/D + 1e6/Re)**(1/3))\n",
    "\n",
    "f = f_Nevers(eps, d, Re)\n",
    "\n",
    "L = 100 # m\n",
    "phi = 4 * f * (L/d) * (V**2/2)\n",
    "print(f\"La perdida de carga por unidad de largo es {1000 * phi/L} Pa/m\")\n",
    "\n"
   ]
  },
  {
   "cell_type": "markdown",
   "metadata": {},
   "source": [
    "Realizando el cambio de unidades"
   ]
  },
  {
   "cell_type": "code",
   "execution_count": 28,
   "metadata": {},
   "outputs": [
    {
     "name": "stdout",
     "output_type": "stream",
     "text": [
      "La perdida de carga por unidad de largo es 0.11444957016150369 atm/100 m\n"
     ]
    }
   ],
   "source": [
    "print(f\"La perdida de carga por unidad de largo es {100000 * phi/L*9.86923e-6} atm/100 m\")"
   ]
  },
  {
   "cell_type": "markdown",
   "metadata": {},
   "source": [
    "Por lo tanto la alternativa correcta es la **c**."
   ]
  },
  {
   "cell_type": "markdown",
   "metadata": {},
   "source": [
    "\n",
    "\n",
    "## Pregunta 2\n",
    "\n",
    "La pérdida de carga en un tramo de 100 metros de la tubería de (1) que inclute una válvula de compuerta abierta en un 75\\%, estimada usando el valor tabulado de coeficiente de pérdida de energía para la válvula, es la siguiente:\n",
    "\n",
    "(a) $\\Delta p >$ 0.13 atm \n",
    "\n",
    "(b) 0.12 $< \\Delta p \\leq$ 0.13 atm \n",
    "\n",
    "(c) 0.11 $< \\Delta p \\leq$ 0.12 atm \n",
    "\n",
    "(d)  $\\Delta p \\leq$ 0.11 atm \n",
    "\n"
   ]
  },
  {
   "cell_type": "markdown",
   "metadata": {},
   "source": [
    "## Solución\n",
    "Necesitamos sumar el coeficiente de fricción con el coeficiente de fricción por singularidad. Para una válvula de compuerta abierta en un 75% utilizamos un valor de K = 1"
   ]
  },
  {
   "cell_type": "code",
   "execution_count": 29,
   "metadata": {},
   "outputs": [
    {
     "name": "stdout",
     "output_type": "stream",
     "text": [
      "La perdida de carga 0.1335183263148772 atm\n"
     ]
    }
   ],
   "source": [
    "K = 1\n",
    "f = f_Nevers(eps, d, Re)\n",
    "L = 100 # m\n",
    "phi = (4 * f * (L/d) + K) * (V**2/2)\n",
    "print(f\"La perdida de carga {1000 * phi*9.86923e-6} atm\")\n",
    "\n"
   ]
  },
  {
   "cell_type": "markdown",
   "metadata": {},
   "source": [
    "Por lo tanto la alternativa correcta es la **a**.\n"
   ]
  },
  {
   "cell_type": "markdown",
   "metadata": {},
   "source": [
    "## Pregunta 3\n",
    "\n",
    "El valor de la pérdida de carga (2), pero evaluado considerando que el largo equivalente ($L_e$/D) de una válvula de compuerta abierta en un 75\\% es 40, es el siguiente:\n",
    "\n",
    "(a) $\\Delta p >$ 0.13 atm \n",
    "\n",
    "(b) 0.12 $< \\Delta p \\leq$ 0.13 atm \n",
    "\n",
    "(c) 0.11 $< \\Delta p \\leq$ 0.12 atm \n",
    "\n",
    "(d)  $\\Delta p \\leq$ 0.11 atm \n"
   ]
  },
  {
   "cell_type": "markdown",
   "metadata": {},
   "source": [
    "## Solución\n",
    "\n",
    "Ocupando la aproximación del largo equivalente"
   ]
  },
  {
   "cell_type": "code",
   "execution_count": 30,
   "metadata": {},
   "outputs": [
    {
     "name": "stdout",
     "output_type": "stream",
     "text": [
      "La perdida de carga 0.12610053640394478 atm\n"
     ]
    }
   ],
   "source": [
    "K = 1\n",
    "f = f_Nevers(eps, d, Re)\n",
    "L = 100 # m\n",
    "phi = (4 * f * (L/d + 40) ) * (V**2/2)\n",
    "print(f\"La perdida de carga {1000 * phi*9.86923e-6} atm\")\n"
   ]
  },
  {
   "cell_type": "markdown",
   "metadata": {},
   "source": [
    "Por lo tanto la alternativa correcta es la **b**.\n"
   ]
  }
 ],
 "metadata": {
  "kernelspec": {
   "display_name": "Python 3",
   "language": "python",
   "name": "python3"
  },
  "language_info": {
   "codemirror_mode": {
    "name": "ipython",
    "version": 3
   },
   "file_extension": ".py",
   "mimetype": "text/x-python",
   "name": "python",
   "nbconvert_exporter": "python",
   "pygments_lexer": "ipython3",
   "version": "3.11.5"
  }
 },
 "nbformat": 4,
 "nbformat_minor": 4
}
