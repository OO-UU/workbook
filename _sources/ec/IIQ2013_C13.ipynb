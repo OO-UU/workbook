{
 "cells": [
  {
   "cell_type": "markdown",
   "id": "0347fafe-5836-4ff9-930d-6ebf3d55df67",
   "metadata": {},
   "source": [
    "# IIQ2013 - Clase 13"
   ]
  },
  {
   "cell_type": "markdown",
   "id": "a63fc7b9-3004-4f92-8501-f2f7e46ef6dc",
   "metadata": {},
   "source": [
    "Se usa un intercambiador de calor de doble tubo (**ICDT**) para enfriar el aceite lubricante del motor de una turbina de gas industrial grande de $T_{a,e} = 100~\\text{°C}$ a $T_{a,s} = 60~\\text{°C}$. El agua de enfriamiento ($F_{ag} = 0.2~\\text{kg/s}$; $T_{ag,e} = 30~\\text{°C}$) fluye a contracorrientes a través del tubo interno ($D_i = 25~\\text{mm}$), mientras que el aceite ($0.1~\\text{kg/s}$) fluye por la zona anular ($D_{i,e} = 45~\\text{mm}$). La tabla adjunta presenta las propiedades termofísicas del aceite y el agua a sus correspondientes temperaturas promedio."
   ]
  },
  {
   "cell_type": "markdown",
   "id": "43dbe0d4-2b42-46e6-8684-1aacff07533c",
   "metadata": {},
   "source": [
    "```{list-table} Propiedades termofísicas del aceite y el agua.\n",
    ":header-rows: 1\n",
    ":name: tabla-EC14\n",
    ":align: center\n",
    "\n",
    "* - Fluido\n",
    "  - $T~\\text{(K)}$\n",
    "  - $c_P~\\text{(J/kg}\\cdot\\text{K)}$\n",
    "  - $\\mu~\\text{(Pa}\\cdot\\text{s)}$\n",
    "  - $Pr$\n",
    "  - $k~\\text{(W/m}\\cdot\\text{K)}$\n",
    "* - Aceite\n",
    "  - 353\n",
    "  - 2131\n",
    "  - 3.25$\\times$10$^{-2}$\n",
    "  - \\\n",
    "  - 0.138\n",
    "* - Agua\n",
    "  - 308\n",
    "  - 4178\n",
    "  - 7.25$\\times$10$^{-4}$\n",
    "  - 4.85\n",
    "  - 0.625\n",
    "```"
   ]
  },
  {
   "cell_type": "markdown",
   "id": "f9ea8c01-e701-4116-bcdc-cbfa73ee8b72",
   "metadata": {},
   "source": [
    "Librerias a utilizar:"
   ]
  },
  {
   "cell_type": "code",
   "execution_count": 1,
   "id": "d7b8385f-21cf-4dd9-8cad-c8da3f5d98e4",
   "metadata": {},
   "outputs": [],
   "source": [
    "import handcalcs.render\n",
    "from handcalcs import handcalc\n",
    "from numpy import pi, log"
   ]
  },
  {
   "cell_type": "markdown",
   "id": "cfa3f783-4d09-4f78-ae78-780599c4df65",
   "metadata": {},
   "source": [
    "## Pregunta 1"
   ]
  },
  {
   "cell_type": "markdown",
   "id": "1329ef1c-c2e4-431e-8f13-784a4d706fdf",
   "metadata": {},
   "source": [
    "Determine la diferencia de temperatura relevante ($\\Delta T_{ml}$) para este caso\n",
    "\n",
    "(a) $\\Delta T_{ml}$ < 30 °C\\\n",
    "(b) 30 < $\\Delta T_{ml}$ < 40 °C\\\n",
    "(c) 40 < $\\Delta T_{ml}$ < 50 °C\\\n",
    "(d) $\\Delta T_{ml}$ > 50 °C"
   ]
  },
  {
   "cell_type": "markdown",
   "id": "843b43dd-bdf7-4b4f-9739-1375296ff066",
   "metadata": {},
   "source": [
    "## Solución"
   ]
  },
  {
   "cell_type": "markdown",
   "id": "d6eaaf45-b983-452a-8bd0-04812db42333",
   "metadata": {},
   "source": [
    "Del enuniciado sabemos que nuestro sistema se encuentra a contracorriente, luego la diferencia de temperatura relevante esta dada por:\n",
    "\n",
    "$$\n",
    "\\Delta T_{ml} = \\frac{(T_{h,e} - T_{c,s}) - (T_{h,s} - T_{c,e})}{\\ln\\left(((T_{h,e} - T_{c,s})/(T_{h,s} - T_{c,e})\\right)}\n",
    "$$"
   ]
  },
  {
   "cell_type": "markdown",
   "id": "6be43f25-0cd6-4f20-9521-885f78b28eca",
   "metadata": {},
   "source": [
    "Donde el subíndice $h$ indica las temperaturas del fluido caliente y $c$ las temperaturas pertenecientes las del fluido frio."
   ]
  },
  {
   "cell_type": "markdown",
   "id": "dc4736c3-db03-4e65-b2c7-c371e55fad0a",
   "metadata": {},
   "source": [
    "Para otener la temperatura de salida del agua utilizamos el balance global de energía:\n",
    "\n",
    "$$\n",
    "q = \\dot{m}_hc_{P,h}(T_{h,e}-T_{h,s}) = \\dot{m}_cc_{P,c}(T_{c,s}-T_{c,e})\n",
    "$$"
   ]
  },
  {
   "cell_type": "code",
   "execution_count": 2,
   "id": "ca872048-6908-4dc1-af6e-f8ed530dabc2",
   "metadata": {},
   "outputs": [
    {
     "data": {
      "text/latex": [
       "\\[\n",
       "\\begin{aligned}\n",
       "T_{he} &= 373.150 \\; \\;\\textrm{(K)}\n",
       " &T_{hs} &= 333.150 \\; \\;\\textrm{(K)}\n",
       " &T_{ce} &= 303.150 \\; \\;\\textrm{(K)}\n",
       "\\\\[10pt]\n",
       " m_{h} &= 0.100 \\; \\;\\textrm{(kg/s)}\n",
       " &m_{c} &= 0.200 \\; \\;\\textrm{(kg/s)}\n",
       " &c_{Ph} &= 2131 \\; \\;\\textrm{(J/kg$\\cdot$K)}\n",
       "\\\\[10pt]\n",
       " c_{Pc} &= 4178 \\; \\;\\textrm{(J/kg$\\cdot$K)}\n",
       "\\end{aligned}\n",
       "\\]"
      ],
      "text/plain": [
       "<IPython.core.display.Latex object>"
      ]
     },
     "metadata": {},
     "output_type": "display_data"
    }
   ],
   "source": [
    "%%render params\n",
    "T_he = 100+273.15 #K\n",
    "T_hs = 60+273.15 #K\n",
    "T_ce = 30+273.15 #K\n",
    "m_h = 0.1 #kg/s\n",
    "m_c = 0.2 #kg/s\n",
    "c_Ph = 2131 #J/kg$\\cdot$K\n",
    "c_Pc = 4178 #J/kg$\\cdot$K"
   ]
  },
  {
   "cell_type": "code",
   "execution_count": 3,
   "id": "bca96118-8468-4ba7-be8c-0bacd27b099f",
   "metadata": {},
   "outputs": [
    {
     "data": {
      "text/latex": [
       "\\[\n",
       "\\begin{aligned}\n",
       "q &= m_{h} \\cdot c_{Ph} \\cdot \\left( T_{he} - T_{hs} \\right) \\\\&= 0.100 \\cdot 2131 \\cdot \\left( 373.150 - 333.150 \\right) \\\\&= 8524.000 \\; \\;\\textrm{(J)}\\\\[10pt]\n",
       "\\\\[10pt]\n",
       "T_{cs} &= \\frac{ q }{ m_{c} \\cdot c_{Pc} } + T_{ce} \\\\&= \\frac{ 8524.000 }{ 0.200 \\cdot 4178 } + 303.150 \\\\&= 313.351 \\; \\;\\textrm{(K)}\\\\[10pt]\n",
       "\\end{aligned}\n",
       "\\]"
      ],
      "text/plain": [
       "<IPython.core.display.Latex object>"
      ]
     },
     "metadata": {},
     "output_type": "display_data"
    }
   ],
   "source": [
    "%%render long\n",
    "q = m_h*c_Ph*(T_he-T_hs) #J\n",
    "T_cs = q/(m_c*c_Pc)+T_ce #K"
   ]
  },
  {
   "cell_type": "markdown",
   "id": "6f5b2580-af05-4ccb-9090-2b8c0bffd235",
   "metadata": {},
   "source": [
    "Finalmente, calculamos lo pedido."
   ]
  },
  {
   "cell_type": "code",
   "execution_count": 4,
   "id": "7f158742-a6fe-4032-8893-b139b202cd15",
   "metadata": {},
   "outputs": [
    {
     "data": {
      "text/latex": [
       "\\[\n",
       "\\begin{aligned}\n",
       "\\mathrm{DT}_{ml} &= \\frac{ \\left( T_{he} - T_{cs} \\right) - \\left( T_{hs} - T_{ce} \\right) }{ \\ln \\left( \\frac{ T_{he} - T_{cs} }{ T_{hs} - T_{ce} } \\right) } \\\\&= \\frac{ \\left( 373.150 - 313.351 \\right) - \\left( 333.150 - 303.150 \\right) }{ \\ln \\left( \\frac{ 373.150 - 313.351 }{ 333.150 - 303.150 } \\right) } \\\\&= 43.200 \\; \\;\\textrm{(C~o~K)}\\\\[10pt]\n",
       "\\end{aligned}\n",
       "\\]"
      ],
      "text/plain": [
       "<IPython.core.display.Latex object>"
      ]
     },
     "metadata": {},
     "output_type": "display_data"
    }
   ],
   "source": [
    "%%render long\n",
    "DT_ml = ((T_he-T_cs)-(T_hs-T_ce))/(log((T_he-T_cs)/(T_hs-T_ce))) #C o K"
   ]
  },
  {
   "cell_type": "markdown",
   "id": "44d9c086-d561-42c3-b76c-e96d67b5028d",
   "metadata": {},
   "source": [
    "La alternativa correcta es la **c**."
   ]
  },
  {
   "cell_type": "markdown",
   "id": "06a31d9b-c1a4-4af3-bcd5-fc82e530acec",
   "metadata": {},
   "source": [
    "## Pregunta 2"
   ]
  },
  {
   "cell_type": "markdown",
   "id": "5d5ed1be-a771-4bb6-8762-77e323e9e5ac",
   "metadata": {},
   "source": [
    "Determine el valor del número de Reynolds para el fluido que circula por el tubo ($Re_D$)\n",
    "\n",
    "(a) $Re_D$ $<$ $10^4$\\\n",
    "(b) $10^4$ $\\leq$ $Re_D$ $<$ $4\\times10^4$\\\n",
    "(c) $4\\times10^4$ $\\leq$ $Re_D$ $<$ $10^5$\\\n",
    "(d) $10^5$ $\\geq$ $Re_D$"
   ]
  },
  {
   "cell_type": "markdown",
   "id": "f6ce807d-3d2b-4e05-8045-ee3f57c173df",
   "metadata": {},
   "source": [
    "## Solución"
   ]
  },
  {
   "cell_type": "markdown",
   "id": "65331597-0a38-4b73-83ab-dbd6ec440b66",
   "metadata": {},
   "source": [
    "Para Reynolds, sabemos que:\n",
    "\n",
    "$$\n",
    "Re_D  = \\frac{D_{eq}\\cdot\\dot{m}}{A_{t}\\cdot\\mu}\n",
    "$$"
   ]
  },
  {
   "cell_type": "markdown",
   "id": "7bf3ae03-8d2b-41fb-9bb8-bb51f4dcba2b",
   "metadata": {},
   "source": [
    "Para el flujo que circula en el tubo interno, el diámetro equivalente es el diámetro interno del tubo y el área transversal será:\n",
    "\n",
    "$$\n",
    "A_t = \\pi\\left(\\frac{D}{2}\\right)^2\n",
    "$$"
   ]
  },
  {
   "cell_type": "code",
   "execution_count": 7,
   "id": "13943d5e-638b-4af8-808a-f4e295a773a8",
   "metadata": {},
   "outputs": [
    {
     "data": {
      "text/latex": [
       "\\[\n",
       "\\begin{aligned}\n",
       "D &= 2.50 \\times 10 ^ {-2} \\; \\;\\textrm{(m)}\n",
       " &\\mu_{c} &= 7.25 \\times 10 ^ {-4} \\; \\;\\textrm{(Pa$\\cdot$s)}\n",
       " &A_{t} &= 4.91 \\times 10 ^ {-4} \\; \\;\\textrm{(m$^2$)}\n",
       "\\\\[10pt]\n",
       "\\end{aligned}\n",
       "\\]"
      ],
      "text/plain": [
       "<IPython.core.display.Latex object>"
      ]
     },
     "metadata": {},
     "output_type": "display_data"
    }
   ],
   "source": [
    "%%render params sci_not 2\n",
    "D = 25/1000 #m\n",
    "mu_c = 7.25e-4 #Pa$\\cdot$s\n",
    "A_t = pi*(D/2)**2 #m$^2$"
   ]
  },
  {
   "cell_type": "code",
   "execution_count": 8,
   "id": "0b897858-68eb-49c8-80e5-19a7fc3a374d",
   "metadata": {},
   "outputs": [
    {
     "data": {
      "text/latex": [
       "\\[\n",
       "\\begin{aligned}\n",
       "\\mathrm{Re}_{D} &= \\frac{ D \\cdot m_{c} }{ A_{t} \\cdot \\mu_{c} } \\\\&= \\frac{ 0.025 \\cdot 0.200 }{ 0.000 \\cdot 0.001 } \\\\&= 14049.540  \\\\[10pt]\n",
       "\\end{aligned}\n",
       "\\]"
      ],
      "text/plain": [
       "<IPython.core.display.Latex object>"
      ]
     },
     "metadata": {},
     "output_type": "display_data"
    }
   ],
   "source": [
    "%%render long\n",
    "Re_D = (D*m_c)/(A_t*mu_c)"
   ]
  },
  {
   "cell_type": "markdown",
   "id": "1ac2ae02-5a6f-4e84-ba70-91e4a7e20832",
   "metadata": {},
   "source": [
    "La alternativa correcta es la **b**."
   ]
  },
  {
   "cell_type": "markdown",
   "id": "33608a2c-8049-4518-bf90-facf62432811",
   "metadata": {},
   "source": [
    "## Pregunta 3"
   ]
  },
  {
   "cell_type": "markdown",
   "id": "02287092-8b5e-4c91-9830-1630a3628110",
   "metadata": {},
   "source": [
    "Determine el coeficiente de transferencia de calor para el fluido que circula por el tubo ($h_{ag}$) usando una correlación adecuada para el régimen de flujo determinado a partir de (2), que considere que el agua se está calentando, y que se baste con los datos de propiedades termofísicas de la tabla de más arriba:"
   ]
  },
  {
   "cell_type": "markdown",
   "id": "5e9f977b-2642-46ed-ad82-842292aae640",
   "metadata": {},
   "source": [
    "(a)\t$h_{ag}$ $<$ 1000 $\\text{W/m}^2\\cdot\\text{K}$\\\n",
    "(b)\t1000 $\\leq$ $h_{ag}$ $<$ 1500 $\\text{W/m}^2\\cdot\\text{K}$\\\n",
    "(c)\t1500 $\\leq$ $h_{ag}$ $<$ 2500 $\\text{W/m}^2\\cdot\\text{K}$\\\n",
    "(d)\t$h_{ag}$ $\\geq$ 2500 $\\text{W/m}^2\\cdot\\text{K}$"
   ]
  },
  {
   "cell_type": "markdown",
   "id": "abcdf92a-b79e-4c60-9a5a-f26ea4dd838a",
   "metadata": {},
   "source": [
    "## Solución"
   ]
  },
  {
   "cell_type": "markdown",
   "id": "8a2f03f7-2f2e-43d8-ae70-791a2e61abb7",
   "metadata": {},
   "source": [
    "Para elegir con mayor detalle la ecuación que ocuparemos para calcular el número de Nusselt, nos fijamos que nuestro número de Prandtl para el agua y el número de Reynolds se encuentran en rango apropiado para utilizar la ecuación de Dittus-Boelter."
   ]
  },
  {
   "cell_type": "code",
   "execution_count": 17,
   "id": "85d74b14-aec7-4d49-9c5d-30d0d76f7627",
   "metadata": {},
   "outputs": [
    {
     "data": {
      "text/latex": [
       "\\[\n",
       "\\begin{aligned}\n",
       "\\mathrm{Pr} &= 4.850 \\; \n",
       "\\\\[10pt]\n",
       "n &= 0.400 \\; \\;\\textrm{(El agua se está calentando)}\n",
       "\\\\[10pt]\n",
       "\\mathrm{NuD} &= 0.023 \\cdot \\left( \\mathrm{Re}_{D} \\right) ^{ 0.8 } \\cdot \\left( \\mathrm{Pr} \\right) ^{ n } \\\\&= 0.023 \\cdot \\left( 14049.540 \\right) ^{ 0.8 } \\cdot \\left( 4.850 \\right) ^{ 0.400 } \\\\&= 89.982  \\\\[10pt]\n",
       "\\end{aligned}\n",
       "\\]"
      ],
      "text/plain": [
       "<IPython.core.display.Latex object>"
      ]
     },
     "metadata": {},
     "output_type": "display_data"
    }
   ],
   "source": [
    "%%render long\n",
    "Pr = 4.85\n",
    "n = 0.4 #El agua se está calentando\n",
    "NuD = 0.023*Re_D**0.8*Pr**n"
   ]
  },
  {
   "cell_type": "markdown",
   "id": "dec345dd-8b34-4c21-8e9b-a38f6e2b15a4",
   "metadata": {},
   "source": [
    "Podemos despejar el coeficiente de trasnferencia de calor desde la definición del número de Nusselt\n",
    "\n",
    "$$\n",
    "Nu_D = \\frac{hD}{k}\n",
    "$$"
   ]
  },
  {
   "cell_type": "code",
   "execution_count": 19,
   "id": "717cd98b-4ca7-491c-b976-c5bc45c6acd5",
   "metadata": {},
   "outputs": [
    {
     "data": {
      "text/latex": [
       "\\[\n",
       "\\begin{aligned}\n",
       "k &= 0.625 \\; \n",
       "\\\\[10pt]\n",
       "h &= \\frac{ k \\cdot \\mathrm{NuD} }{ D } \\\\&= \\frac{ 0.625 \\cdot 89.982 }{ 0.025 } \\\\&= 2249.543 \\; \\;\\textrm{(W/m$^2\\cdot$K)}\\\\[10pt]\n",
       "\\end{aligned}\n",
       "\\]"
      ],
      "text/plain": [
       "<IPython.core.display.Latex object>"
      ]
     },
     "metadata": {},
     "output_type": "display_data"
    }
   ],
   "source": [
    "%%render long\n",
    "k = 0.625\n",
    "h = (k*NuD)/D #W/m$^2\\cdot$K"
   ]
  },
  {
   "cell_type": "markdown",
   "id": "526f78f6-7e8d-4c5c-9289-cdabbb911b0b",
   "metadata": {},
   "source": [
    "Por lo tanto, la alternativa correcta es la **c**."
   ]
  },
  {
   "cell_type": "markdown",
   "id": "f6e5bb42-6bdc-4f62-8e81-cd5e17b4f0cc",
   "metadata": {},
   "source": [
    "## Pregunta 4"
   ]
  },
  {
   "cell_type": "markdown",
   "id": "2c672e68-fdd6-4a08-9598-b50cd8f9f661",
   "metadata": {},
   "source": [
    "Si coeficiente de transferencia de calor para el aceite fuese $h_a = 44.3~\\text{W/m}^2\\cdot\\text{K}$ y se pudiese despreciar la resistencia a la transferencia de calor de la pared del tubo, determine el coeficiente global de transferencia de calor (U) requerido para diseñar el equipo:"
   ]
  },
  {
   "cell_type": "markdown",
   "id": "4ff02ab8-a4d0-4a27-aa65-4a0612fc552c",
   "metadata": {},
   "source": [
    "(a) U $<$ 40 $\\text{W/m}^2\\cdot\\text{K}$\\\n",
    "(b) 40 $\\leq$ U $<$ 50 $\\text{W/m}^2\\cdot\\text{K}$\\\n",
    "(c) 50 $\\leq$ U $<$ 60 $\\text{W/m}^2\\cdot\\text{K}$\\\n",
    "(d) U $\\geq$ 60 $\\text{W/m}^2\\cdot\\text{K}$"
   ]
  },
  {
   "cell_type": "markdown",
   "id": "eb3f3a4e-745e-4290-9fb2-cde358346511",
   "metadata": {},
   "source": [
    "## Solución"
   ]
  },
  {
   "cell_type": "markdown",
   "id": "bdd2d6ff-d83d-47e5-8aff-d10ecc616ff2",
   "metadata": {},
   "source": [
    "Asumiendo que no hay resistencia a la transferencia de calor dado por la pared, el coeficiente de transferencia global será:\n",
    "\n",
    "$$\n",
    "U = \\left(\\frac{D_i}{D_{i,e}h_a}+\\frac{1}{h_{ag}}\\right)^{-1}\n",
    "$$"
   ]
  },
  {
   "cell_type": "code",
   "execution_count": 23,
   "id": "4b367135-12c1-4a34-b763-cbf5cf1fed61",
   "metadata": {},
   "outputs": [
    {
     "data": {
      "text/latex": [
       "\\[\n",
       "\\begin{aligned}\n",
       "h_{a} &= 44.300 \\; \\;\\textrm{(W/m$^2\\cdot$K)}\n",
       "\\\\[10pt]\n",
       "D_{ie} &= 0.045 \\; \\;\\textrm{(m)}\n",
       "\\\\[10pt]\n",
       "U &= \\left( \\frac{ D }{ D_{ie} \\cdot h } + \\frac{ 1 }{ h_{a} } \\right) ^{ -1 } \\\\&= \\left( \\frac{ 0.025 }{ 0.045 \\cdot 2249.543 } + \\frac{ 1 }{ 44.300 } \\right) ^{ -1 } \\\\&= 43.821 \\; \\;\\textrm{(W/m$^2\\cdot$K)}\\\\[10pt]\n",
       "\\end{aligned}\n",
       "\\]"
      ],
      "text/plain": [
       "<IPython.core.display.Latex object>"
      ]
     },
     "metadata": {},
     "output_type": "display_data"
    }
   ],
   "source": [
    "%%render long\n",
    "h_a = 44.3 #W/m$^2\\cdot$K\n",
    "D_ie = 45e-3 #m\n",
    "U = (D/(D_ie*h) + 1/h_a)**-1 #W/m$^2\\cdot$K"
   ]
  },
  {
   "cell_type": "markdown",
   "id": "bfdb8f70-4cfe-499a-8ce1-30fb0047c7e0",
   "metadata": {},
   "source": [
    "Por lo tanto, la respuesta correcta es la **b**."
   ]
  },
  {
   "cell_type": "markdown",
   "id": "b469642d-69d3-41b6-b336-28e6f0d715b7",
   "metadata": {},
   "source": [
    "## Pregunta 5"
   ]
  },
  {
   "cell_type": "markdown",
   "id": "9e724167-0b7b-4f00-abf2-42843e83b0aa",
   "metadata": {},
   "source": [
    "Determine el largo requerido del intercambiador de calor (L):"
   ]
  },
  {
   "cell_type": "markdown",
   "id": "0cd21ce6-66da-404a-8c01-92e09522377e",
   "metadata": {},
   "source": [
    "(a) L $<$ 50 m \\\n",
    "(b) 50 $\\leq$ L $<$ 65 m \\\n",
    "(c) 65 $\\leq$ L $<$ 80 m \\\n",
    "(d) L $\\geq$ 80 m\n"
   ]
  },
  {
   "cell_type": "markdown",
   "id": "6da7616a-9b29-4db2-bbbe-4c52267edca7",
   "metadata": {},
   "source": [
    "## Solución"
   ]
  },
  {
   "cell_type": "markdown",
   "id": "d9f2ed5c-a36c-443a-b2c1-d69cbbec02c8",
   "metadata": {},
   "source": [
    "Desde la ecuación de diseño se obtiene el largo.\n",
    "\n",
    "$$\n",
    "Q = UA\\Delta T_{ml}\n",
    "$$"
   ]
  },
  {
   "cell_type": "markdown",
   "id": "4622ae1d-67ab-4986-8028-cbd0a31475d6",
   "metadata": {},
   "source": [
    "Donde $A$ es el área donde ocurre la transferencia de calor y es:\n",
    "\n",
    "$$\n",
    "A = L\\pi D_i\n",
    "$$"
   ]
  },
  {
   "cell_type": "code",
   "execution_count": 25,
   "id": "300cad3d-61c9-4b04-bc7f-b99ac4e1662f",
   "metadata": {},
   "outputs": [
    {
     "data": {
      "text/latex": [
       "\\[\n",
       "\\begin{aligned}\n",
       "L &= \\frac{ q }{ U \\cdot \\pi \\cdot D \\cdot \\mathrm{DT}_{ml} } \\\\&= \\frac{ 8524.000 }{ 43.821 \\cdot 3.142 \\cdot 0.025 \\cdot 43.200 } \\\\&= 57.331 \\; \\;\\textrm{(m)}\\\\[10pt]\n",
       "\\end{aligned}\n",
       "\\]"
      ],
      "text/plain": [
       "<IPython.core.display.Latex object>"
      ]
     },
     "metadata": {},
     "output_type": "display_data"
    }
   ],
   "source": [
    "%%render long\n",
    "L = q/(U*pi*D*DT_ml) #m"
   ]
  },
  {
   "cell_type": "markdown",
   "id": "951168c3-d783-459c-a05d-bb1821c07ed4",
   "metadata": {},
   "source": [
    "Entonces, la alternativa correcta es la **b**."
   ]
  },
  {
   "cell_type": "code",
   "execution_count": null,
   "id": "141816e2-8d56-4e37-a523-9bd47e1ad526",
   "metadata": {},
   "outputs": [],
   "source": []
  }
 ],
 "metadata": {
  "kernelspec": {
   "display_name": "Python 3 (ipykernel)",
   "language": "python",
   "name": "python3"
  },
  "language_info": {
   "codemirror_mode": {
    "name": "ipython",
    "version": 3
   },
   "file_extension": ".py",
   "mimetype": "text/x-python",
   "name": "python",
   "nbconvert_exporter": "python",
   "pygments_lexer": "ipython3",
   "version": "3.11.7"
  }
 },
 "nbformat": 4,
 "nbformat_minor": 5
}
