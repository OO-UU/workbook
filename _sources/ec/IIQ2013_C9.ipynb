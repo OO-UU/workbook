{
 "cells": [
  {
   "cell_type": "markdown",
   "id": "19891163-fd1c-4a71-9de2-c9dcf840548f",
   "metadata": {},
   "source": [
    "# IIQ2013 - Clase 9"
   ]
  },
  {
   "cell_type": "markdown",
   "id": "75293d35-4c17-44f4-afd1-e2ca35b439ce",
   "metadata": {},
   "source": [
    "Se efectúa un experimento en un estanque de laboratorio con configuración estándar de $10 \\mathrm{~L}$ de capacidad $(H / D_T=1)$ y equipado con una turbina de seis palas. Experimentalmente se determina que el tiempo de mezclado para alcanzar una uniformidad superior a $99.99 \\%$ en una solución $\\left[\\rho=1000 \\mathrm{~kg} / \\mathrm{m}^3, \\mu=60 \\mathrm{~cp}\\right]$ es aproximadamente $t_{\\mathrm{m}}=1 \\mathrm{~min}$ al operar a $500 \\mathrm{~rpm}$. Interesa usar dichos datos para dimensionar un estanque industrial para mezclar $100 \\mathrm{~m}^3$ de solución."
   ]
  },
  {
   "cell_type": "markdown",
   "id": "20f63d5b-f3e4-4b42-8926-561ad5b0822f",
   "metadata": {},
   "source": [
    "En primer lugar se deben cargar las librerias que vamos a utilizar"
   ]
  },
  {
   "cell_type": "code",
   "execution_count": 5,
   "id": "b601069b-13d3-4d5f-9080-28b07b23f303",
   "metadata": {},
   "outputs": [],
   "source": [
    "import numpy as np\n",
    "from numpy import sqrt, pi\n",
    "import handcalcs.render\n",
    "from handcalcs import handcalc"
   ]
  },
  {
   "cell_type": "markdown",
   "id": "b60ea3f5-90cc-4708-8561-244568cb8877",
   "metadata": {},
   "source": [
    "## Problema 1"
   ]
  },
  {
   "cell_type": "markdown",
   "id": "8b158069-dc49-4158-bdc8-7ee4d50ef1ba",
   "metadata": {},
   "source": [
    "Si para una configuración estándar de estanque agitado con turbina $D_T / D_a=4$, entonces el diámetro de agitador industrial $(D_a)$ es el siguiente:"
   ]
  },
  {
   "cell_type": "markdown",
   "id": "7dbdbfdc-7286-4a96-ba4a-cd874dfe1677",
   "metadata": {},
   "source": [
    "(a) $D>120 \\mathrm{~cm}$\n",
    "\n",
    "(b) $80<D \\leq 120 \\mathrm{~cm}$\n",
    "\n",
    "(c) $40<D \\leq 80 \\mathrm{~cm}$\n",
    "\n",
    "(d) $D \\leq 40 \\mathrm{~cm}$"
   ]
  },
  {
   "cell_type": "markdown",
   "id": "f82310a3-77a9-48d4-aaab-619626065d05",
   "metadata": {},
   "source": [
    "## Solución"
   ]
  },
  {
   "cell_type": "markdown",
   "id": "54b1987c-9e3c-4853-9197-c7cfebacb06f",
   "metadata": {},
   "source": [
    "Sabemos el volumen, luego despejamos para $D_t$ del agitador de laboratorio.\n",
    "\n",
    "$$\n",
    "D_t = \\sqrt[3]{\\frac{4V}{\\pi}}\n",
    "$$"
   ]
  },
  {
   "cell_type": "code",
   "execution_count": 17,
   "id": "cbcb6bea-34ce-425c-953e-70b189c07d5f",
   "metadata": {},
   "outputs": [
    {
     "data": {
      "text/latex": [
       "\\[\n",
       "\\begin{aligned}\n",
       "V &= 0.010 \\; \\;\\textrm{(m$^3$)}\n",
       "\\\\[10pt]\n",
       "S_{1} &= \\frac{ 1 }{ 4 } &= 0.250  \n",
       "\\\\[10pt]\n",
       "D_{Tm} &= \\left( \\frac{ 4 \\cdot V }{ \\pi } \\right) ^{ \\left( \\frac{ 1 }{ 3 } \\right) } \\\\&= \\left( \\frac{ 4 \\cdot 0.010 }{ 3.142 } \\right) ^{ \\left( \\frac{ 1 }{ 3 } \\right) } \\\\&= 0.234 \\; \\;\\textrm{(m)}\\\\[10pt]\n",
       "\\\\[10pt]\n",
       "D_{am} &= D_{Tm} \\cdot S_{1} \\\\&= 0.234 \\cdot 0.250 \\\\&= 0.058 \\; \\;\\textrm{(m)}\\\\[10pt]\n",
       "\\end{aligned}\n",
       "\\]"
      ],
      "text/plain": [
       "<IPython.core.display.Latex object>"
      ]
     },
     "metadata": {},
     "output_type": "display_data"
    }
   ],
   "source": [
    "%%render long\n",
    "#Para volumen laboratorio\n",
    "V = 0.01 #m$^3$\n",
    "S_1 = 1/4\n",
    "D_Tm = ((4*V)/pi)**(1/3) #m\n",
    "D_am = D_Tm*S_1 #m"
   ]
  },
  {
   "cell_type": "markdown",
   "id": "1702bf8f",
   "metadata": {},
   "source": [
    "luego para el agitador de industrial.\n"
   ]
  },
  {
   "cell_type": "code",
   "execution_count": 18,
   "id": "938df3ff",
   "metadata": {},
   "outputs": [
    {
     "data": {
      "text/latex": [
       "\\[\n",
       "\\begin{aligned}\n",
       "V &= 100 \\; \\;\\textrm{(m$^3$)}\n",
       "\\\\[10pt]\n",
       "S_{1} &= \\frac{ 1 }{ 4 } &= 0.250  \n",
       "\\\\[10pt]\n",
       "D_{Tp} &= \\left( \\frac{ 4 \\cdot V }{ \\pi } \\right) ^{ \\left( \\frac{ 1 }{ 3 } \\right) } \\\\&= \\left( \\frac{ 4 \\cdot 100 }{ 3.142 } \\right) ^{ \\left( \\frac{ 1 }{ 3 } \\right) } \\\\&= 5.031 \\; \\;\\textrm{(m)}\\\\[10pt]\n",
       "\\\\[10pt]\n",
       "D_{ap} &= D_{Tp} \\cdot S_{1} \\\\&= 5.031 \\cdot 0.250 \\\\&= 1.258 \\; \\;\\textrm{(m)}\\\\[10pt]\n",
       "\\end{aligned}\n",
       "\\]"
      ],
      "text/plain": [
       "<IPython.core.display.Latex object>"
      ]
     },
     "metadata": {},
     "output_type": "display_data"
    }
   ],
   "source": [
    "%%render long\n",
    "#Para volumen laboratorio\n",
    "V = 100 #m$^3$\n",
    "S_1 = 1/4\n",
    "D_Tp = ((4*V)/pi)**(1/3) #m\n",
    "D_ap = D_Tp*S_1 #m"
   ]
  },
  {
   "cell_type": "markdown",
   "id": "5d9b2beb-2c7d-4570-9b1a-99bb210ad2da",
   "metadata": {},
   "source": [
    "La alternativa correcta es la **a**."
   ]
  },
  {
   "cell_type": "markdown",
   "id": "c737d28a-1b87-4894-8791-f486c3fd1aca",
   "metadata": {},
   "source": [
    "## Problema 2"
   ]
  },
  {
   "cell_type": "markdown",
   "id": "81555954-99bf-47b2-b746-c74a8eef37b5",
   "metadata": {},
   "source": [
    "Si la calidad del mezclado depende principalmente de la velocidad de punta del agitador, la velocidad a la que debe operar el agitador industrial $(N)$ es la siguiente:"
   ]
  },
  {
   "cell_type": "markdown",
   "id": "b1673bea-c94e-451d-86e7-3b9377b88522",
   "metadata": {},
   "source": [
    "(a) $N>270 \\mathrm{rpm}$\n",
    "\n",
    "(b) $90<N \\leq 270 \\mathrm{rpm}$\n",
    "\n",
    "(c) $30<N \\leq 90 \\mathrm{rpm}$\n",
    "\n",
    "(d) $N \\leq 30 \\mathrm{rpm}$"
   ]
  },
  {
   "cell_type": "markdown",
   "id": "9f5ef676-1979-4484-a5ec-45f2e580e233",
   "metadata": {},
   "source": [
    "## Solución"
   ]
  },
  {
   "cell_type": "markdown",
   "id": "dfe84b93",
   "metadata": {},
   "source": [
    "Utilizando el criterio de ND constante,\n",
    "$$\n",
    "N_m D_{d, m}=N_p D_{a, p} \\Rightarrow N_p=N_m \\frac{D_{T, m}}{D_{T, p}}\n",
    "$$ "
   ]
  },
  {
   "cell_type": "code",
   "execution_count": 20,
   "id": "9fe5a97a-f93f-4a55-bc74-ce899c697c90",
   "metadata": {},
   "outputs": [
    {
     "data": {
      "text/latex": [
       "\\[\n",
       "\\begin{aligned}\n",
       "\\mathrm{Nm} &= 500 \\; \\;\\textrm{(RPM)}\n",
       "\\\\[10pt]\n",
       "\\mathrm{Np} &= \\mathrm{Nm} \\cdot \\frac{ D_{Tm} }{ D_{tp} } \\\\&= 500 \\cdot \\frac{ 0.234 }{ 5.031 } \\\\&= 23.208 \\; \\;\\textrm{(RPM)}\\\\[10pt]\n",
       "\\end{aligned}\n",
       "\\]"
      ],
      "text/plain": [
       "<IPython.core.display.Latex object>"
      ]
     },
     "metadata": {},
     "output_type": "display_data"
    }
   ],
   "source": [
    "%%render long\n",
    "Nm = 500 #RPM\n",
    "Np = Nm*D_Tm/D_tp #RPM"
   ]
  },
  {
   "cell_type": "markdown",
   "id": "a9b3ba14-d310-47fb-ac0a-bf8363c291f7",
   "metadata": {},
   "source": [
    "La alternativa correcta es la **d**."
   ]
  },
  {
   "cell_type": "markdown",
   "id": "db13f808",
   "metadata": {},
   "source": [
    "## Problema 3\n",
    " El régimen de flujo en el estanque industrial es el siguiente:\n",
    "\n",
    "(a) Laminar\n",
    "\n",
    "(b) De transición de laminar a turbulento\n",
    "\n",
    "(c) Turbulento\n",
    "\n",
    "(d) No existe suficiente información para determinar el régimen de flujo"
   ]
  },
  {
   "cell_type": "markdown",
   "id": "734e2700",
   "metadata": {},
   "source": [
    "## Solución\n",
    "Para esto calculamos el número de Reynolds\n",
    "\n",
    "$$\n",
    "Re=\\frac{\\rho_p N_p D_{a, p}^2}{\\mu_p}\n",
    "$$"
   ]
  },
  {
   "cell_type": "code",
   "execution_count": 23,
   "id": "cef9d8b4",
   "metadata": {},
   "outputs": [
    {
     "data": {
      "text/latex": [
       "\\[\n",
       "\\begin{aligned}\n",
       "\\rho &= 1000 \\; \\;\\textrm{(kg/m$^3$)}\n",
       "\\\\[10pt]\n",
       "\\mu &= 0.060 \\; \\;\\textrm{(Pa$\\cdot$s)}\n",
       "\\\\[10pt]\n",
       "\\mathrm{Re} &= \\frac{ \\rho \\cdot \\left( \\frac{ \\mathrm{Np} }{ 60 } \\right) \\cdot \\left( D_{ap} \\right) ^{ 2 } }{ \\mu } \\\\&= \\frac{ 1000 \\cdot \\left( \\frac{ 23.208 }{ 60 } \\right) \\cdot \\left( 1.258 \\right) ^{ 2 } }{ 0.060 } \\\\&= 10197.356  \\\\[10pt]\n",
       "\\end{aligned}\n",
       "\\]"
      ],
      "text/plain": [
       "<IPython.core.display.Latex object>"
      ]
     },
     "metadata": {},
     "output_type": "display_data"
    }
   ],
   "source": [
    "%%render long\n",
    "rho = 1000 #kg/m$^3$\n",
    "mu = 0.06 #Pa$\\cdot$s\n",
    "Re = (rho*(Np/60)*D_ap**2)/mu"
   ]
  },
  {
   "cell_type": "markdown",
   "id": "fcc52862",
   "metadata": {},
   "source": [
    "La alternativa correcta es la **c**, régimen turbulento."
   ]
  },
  {
   "cell_type": "markdown",
   "id": "d7991f55-0947-4ef9-a823-b8bc99d493bf",
   "metadata": {},
   "source": [
    "## Problema 4"
   ]
  },
  {
   "cell_type": "markdown",
   "id": "762e2e4b-9c68-47ec-9e7f-c917340317d3",
   "metadata": {},
   "source": [
    "Si en las pruebas de laboratorio se determina que $K_{\\mathrm{L}}=65$ y $K_{\\mathrm{T}}=5.75$, entonces el consumo de potencia del agitador industrial $(P)$ es aproximadamente el siguiente:"
   ]
  },
  {
   "cell_type": "markdown",
   "id": "36c80f2a-f313-4f51-ae4e-0e65285b281e",
   "metadata": {},
   "source": [
    "(a) $P>25 \\mathrm{~kW}$\n",
    "\n",
    "(b) $5<P \\leq 25 \\mathrm{~kW}$\n",
    "\n",
    "(c) $1<P \\leq 5 \\mathrm{~kW}$\n",
    "\n",
    "(d) $P \\leq 1 \\mathrm{~kW}$"
   ]
  },
  {
   "cell_type": "markdown",
   "id": "be2315fc-7e61-4258-bdb1-9422d3c49212",
   "metadata": {},
   "source": [
    "## Solución"
   ]
  },
  {
   "cell_type": "code",
   "execution_count": 25,
   "id": "b2235e56-9b27-43ee-9c6b-c1d23abd3bd9",
   "metadata": {},
   "outputs": [
    {
     "data": {
      "text/latex": [
       "\\[\n",
       "\\begin{aligned}\n",
       "K_{T} &= 5.750 \\; \n",
       "\\\\[10pt]\n",
       "P &= K_{T} \\cdot \\rho \\cdot \\left( \\frac{ \\mathrm{Np} }{ 60 } \\right) ^{ 3 } \\cdot \\frac{ \\left( D_{ap} \\right) ^{ 5 } }{ 1000 } \\\\&= 5.750 \\cdot 1000 \\cdot \\left( \\frac{ 23.208 }{ 60 } \\right) ^{ 3 } \\cdot \\frac{ \\left( 1.258 \\right) ^{ 5 } }{ 1000 } \\\\&= 1.047 \\; \\;\\textrm{(kW)}\\\\[10pt]\n",
       "\\end{aligned}\n",
       "\\]"
      ],
      "text/plain": [
       "<IPython.core.display.Latex object>"
      ]
     },
     "metadata": {},
     "output_type": "display_data"
    }
   ],
   "source": [
    "%%render long\n",
    "K_T = 5.75\n",
    "P = K_T*rho*(Np/60)**3*D_ap**5/1000 #kW"
   ]
  },
  {
   "cell_type": "markdown",
   "id": "6dfa884d-d349-4e4a-a80d-b807f77f7237",
   "metadata": {},
   "source": [
    "La alternativa correcta es la **c**."
   ]
  },
  {
   "cell_type": "markdown",
   "id": "5414d933",
   "metadata": {},
   "source": []
  }
 ],
 "metadata": {
  "kernelspec": {
   "display_name": "Python 3 (ipykernel)",
   "language": "python",
   "name": "python3"
  },
  "language_info": {
   "codemirror_mode": {
    "name": "ipython",
    "version": 3
   },
   "file_extension": ".py",
   "mimetype": "text/x-python",
   "name": "python",
   "nbconvert_exporter": "python",
   "pygments_lexer": "ipython3",
   "version": "3.11.5"
  }
 },
 "nbformat": 4,
 "nbformat_minor": 5
}
