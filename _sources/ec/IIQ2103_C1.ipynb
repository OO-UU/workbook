{
 "cells": [
  {
   "cell_type": "markdown",
   "metadata": {},
   "source": [
    "# IIQ2103 - Clase 1"
   ]
  },
  {
   "cell_type": "markdown",
   "metadata": {},
   "source": [
    "En primer lugar se deben cargar las librerias que vamos a utilizar"
   ]
  },
  {
   "cell_type": "code",
   "execution_count": 1,
   "metadata": {},
   "outputs": [],
   "source": [
    "import numpy as np\n",
    "import CoolProp.CoolProp as CP # Coolprop as the free version of REFPROP"
   ]
  },
  {
   "cell_type": "markdown",
   "metadata": {},
   "source": [
    "## Ecuación de Hagen-Poiseuille\n",
    "A continuación podemos generar una función que nos ayude a calcular $\\mu$ usando la ecuación de Hagen-Poiseuille"
   ]
  },
  {
   "cell_type": "code",
   "execution_count": 2,
   "metadata": {},
   "outputs": [],
   "source": [
    "def mu_hp(P_0, P_L, R, L, w, rho):\n",
    "    return np.pi * (P_0-P_L) * R**4 / (8 * L * (w/rho))"
   ]
  },
  {
   "cell_type": "markdown",
   "metadata": {},
   "source": [
    "Si necesitamos recuperar alguna propiedad física de bases de datos se puede utilizar CoolProp"
   ]
  },
  {
   "cell_type": "code",
   "execution_count": 3,
   "metadata": {},
   "outputs": [],
   "source": [
    "### Properties\n",
    "\n",
    "p = 1e5\n",
    "fluid = 'NH3'\n",
    "# Densidad del amoniaco\n",
    "rho_l = CP.PropsSI('D', 'P' , p , 'Q',0,fluid)\n",
    "# Viscosidad del amoniaco\n",
    "mu_l = CP.PropsSI('V','P',p,'Q',0,fluid)   "
   ]
  },
  {
   "cell_type": "code",
   "execution_count": 4,
   "metadata": {
    "scrolled": true
   },
   "outputs": [
    {
     "name": "stdout",
     "output_type": "stream",
     "text": [
      "rho_l 6.82e+02\n",
      "mu_l = 2.56e-04 Pa*s\n",
      "mu_l = 2.56e-01 cP\n"
     ]
    }
   ],
   "source": [
    "print(\"rho_l %.2e\"%  rho_l)\n",
    "print(\"mu_l = %.2e Pa*s\" % mu_l)\n",
    "print(\"mu_l = %.2e cP\" % (1000 * mu_l))"
   ]
  },
  {
   "cell_type": "markdown",
   "metadata": {},
   "source": [
    "## Ejemplo 1.1 \n",
    "Amoniaco líquido fluye en un tubo circular cilíndrico de 0.2 cm de diámetro y 10 cm de largo a un caudal volumétrico de 1 mL/s. La densidad del amoniaco en su punto de saturación, -33.58 C, es de 682.0 kg m^-3, y su viscosidad es 0.256 cP. Calcule la caída de presión a través del tubo."
   ]
  },
  {
   "cell_type": "markdown",
   "metadata": {},
   "source": [
    "Para comprobar la aplicabilidad de la ecuación de Hagen-Poiseuille es necesario comprar el régimen de flujo mediante el número de Reynolds."
   ]
  },
  {
   "cell_type": "markdown",
   "metadata": {},
   "source": [
    "### 1. Calculo del número de Reynolds"
   ]
  },
  {
   "cell_type": "code",
   "execution_count": 5,
   "metadata": {},
   "outputs": [
    {
     "name": "stdout",
     "output_type": "stream",
     "text": [
      "Re = 1698.891 \n"
     ]
    }
   ],
   "source": [
    "# Caudal volumetrico\n",
    "vdot = 1e-6 # m^3/s\n",
    "# Diámetro de la tubería\n",
    "d = 0.2e-2\n",
    "# Area de la tuberia\n",
    "A = np.pi*d**2/4\n",
    "# Velocidad\n",
    "vz_av = vdot / A\n",
    "# Re\n",
    "Re = rho_l * vz_av * d/mu_l\n",
    "print(\"Re = %.3f \" % Re)"
   ]
  },
  {
   "cell_type": "markdown",
   "metadata": {},
   "source": [
    "### 2. Aplicación de la ecuación de Hagen-Poiseuille"
   ]
  },
  {
   "cell_type": "code",
   "execution_count": 6,
   "metadata": {},
   "outputs": [
    {
     "name": "stdout",
     "output_type": "stream",
     "text": [
      "Delta P = 65.07 Pa\n"
     ]
    }
   ],
   "source": [
    "L = 0.1 # 10 cm\n",
    "delta_P = 32*L*mu_l*vz_av/(d**2)\n",
    "print(\"Delta P = %.2f Pa\" % delta_P)"
   ]
  },
  {
   "cell_type": "code",
   "execution_count": null,
   "metadata": {},
   "outputs": [],
   "source": []
  }
 ],
 "metadata": {
  "kernelspec": {
   "display_name": "Python 3",
   "language": "python",
   "name": "python3"
  },
  "language_info": {
   "codemirror_mode": {
    "name": "ipython",
    "version": 3
   },
   "file_extension": ".py",
   "mimetype": "text/x-python",
   "name": "python",
   "nbconvert_exporter": "python",
   "pygments_lexer": "ipython3",
   "version": "3.11.7"
  }
 },
 "nbformat": 4,
 "nbformat_minor": 4
}
