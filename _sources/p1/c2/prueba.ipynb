{
 "cells": [
  {
   "cell_type": "code",
   "execution_count": 7,
   "metadata": {
    "tags": [
     "remove-cell"
    ]
   },
   "outputs": [],
   "source": [
    "import handcalcs.render\n",
    "from handcalcs import handcalc\n",
    "from math import sqrt, pi"
   ]
  },
  {
   "cell_type": "markdown",
   "metadata": {
    "tags": []
   },
   "source": [
    "# Esto es una prueba"
   ]
  },
  {
   "cell_type": "markdown",
   "metadata": {},
   "source": [
    "## Enunciado"
   ]
  },
  {
   "cell_type": "markdown",
   "metadata": {},
   "source": [
    "Un estanque cilíndrico de diámetro $d_e=10\\hspace{1mm}(m)$ se llena de agua hasta alcanzar los $25\\hspace{1mm}(m)$ de altura. En su parte inferior se encuentra una tubería conectada a una válvula. Al abrir la válvula, el agua fluye por la tubería y el estanque se vacía. La tubería tiene un área transversal circular y con diámetro $d_t=13\\hspace{1mm}(cm)$. Ignore las pérdidas de carga por fricción y singularidades. Además, suponga que la presión en la tubería es igual a la presión del estanque. Calcule:\n",
    "1. El caudal que sale por la tubería al momento de abrir la válvula.\n",
    "2. El tiempo que se demora el estanque en vaciarse por completo."
   ]
  },
  {
   "cell_type": "markdown",
   "metadata": {},
   "source": [
    "{ref}`Ver solución <part1:cap2:ex1:sol>`\n",
    "\n",
    "<br/><br/>\n",
    "<br/><br/>\n",
    "<br/><br/>\n",
    "<br/><br/>\n",
    "<br/><br/>\n",
    "<br/><br/>\n",
    "<br/><br/>\n",
    "<br/><br/>"
   ]
  },
  {
   "cell_type": "markdown",
   "metadata": {},
   "source": [
    "(part1:cap2:ex1:sol)=\n",
    "## Solución"
   ]
  },
  {
   "cell_type": "markdown",
   "metadata": {},
   "source": [
    "### Inciso 1"
   ]
  },
  {
   "cell_type": "markdown",
   "metadata": {},
   "source": [
    "Tenemos que la `ecuación de Bernoulli`,\n",
    "\n",
    "$$\n",
    "\\frac{p_A}{g\\rho} + H_A + \\frac{u_A^2}{2g} = \\frac{p_B}{g\\rho} + H_B + \\frac{u_B^2}{2g}\n",
    "$$\n",
    "\n",
    "Aplicada al caso descrito\n",
    "\n",
    "$$\n",
    "H_A = \\frac{u_B^2}{2g}\n",
    "$$\n",
    "\n",
    "Y luego despejando para la velocidad en el punto inferior (B), nos queda como:\n",
    "\n",
    "$$\n",
    "u_B = \\sqrt{2gH_A}\n",
    "$$ (part1:cap2:ex1:eq1)\n",
    "\n",
    "Finalmente resolviendo:"
   ]
  },
  {
   "cell_type": "code",
   "execution_count": 6,
   "metadata": {
    "tags": [
     "remove-input"
    ]
   },
   "outputs": [
    {
     "data": {
      "text/latex": [
       "\\[\n",
       "\\begin{aligned}\n",
       "H_{A} &= 25 \\; \\;\\textrm{(m)}\n",
       "\\\\[10pt]\n",
       "g &= 9.800 \\; \\;\\textrm{(m/s2)}\n",
       "\\\\[10pt]\n",
       "u_{B} &= \\sqrt { 2 \\cdot g \\cdot H_{A} } \\\\&= \\sqrt { 2 \\cdot 9.800 \\cdot 25 } \\\\&= 22.136 \\; \\;\\textrm{(m/s)}\\\\[10pt]\n",
       "\\end{aligned}\n",
       "\\]"
      ],
      "text/plain": [
       "<IPython.core.display.Latex object>"
      ]
     },
     "metadata": {},
     "output_type": "display_data"
    }
   ],
   "source": [
    "%%render long\n",
    "H_A = 25 #m\n",
    "g = 9.8 #m/s2\n",
    "u_B = sqrt(2*g*H_A) #m/s"
   ]
  },
  {
   "cell_type": "markdown",
   "metadata": {},
   "source": [
    "Luego, el caudal será\n",
    "\n",
    "$$\n",
    "Q = u_BA\n",
    "$$ (part1:cap2:ex1:eq2)"
   ]
  },
  {
   "cell_type": "code",
   "execution_count": 9,
   "metadata": {},
   "outputs": [
    {
     "data": {
      "text/latex": [
       "\\[\n",
       "\\begin{aligned}\n",
       "d_{t} &= 0.130 \\; \\;\\textrm{(m)}\n",
       "\\\\[10pt]\n",
       "A &= \\pi \\cdot \\left( \\frac{ d_{t} }{ 2 } \\right) ^{ 2 } \\\\&= 3.142 \\cdot \\left( \\frac{ 0.130 }{ 2 } \\right) ^{ 2 } \\\\&= 0.013 \\; \\;\\textrm{(m2)}\\\\[10pt]\n",
       "\\\\[10pt]\n",
       "Q &= u_{B} \\cdot A \\\\&= 22.136 \\cdot 0.013 \\\\&= 0.294 \\; \\;\\textrm{(m3/s)}\\\\[10pt]\n",
       "\\end{aligned}\n",
       "\\]"
      ],
      "text/plain": [
       "<IPython.core.display.Latex object>"
      ]
     },
     "metadata": {},
     "output_type": "display_data"
    }
   ],
   "source": [
    "%%render long\n",
    "d_t = 0.13 #m \n",
    "A = pi*(d_t/2)**2 #m2\n",
    "Q = u_B*A #m3/s"
   ]
  },
  {
   "cell_type": "markdown",
   "metadata": {},
   "source": [
    "### Inciso 2"
   ]
  },
  {
   "cell_type": "markdown",
   "metadata": {},
   "source": [
    "El caudal también puede ser escrito como:\n",
    "\n",
    "$$\n",
    "Q = - \\frac{dV}{dt}\n",
    "$$\n",
    "\n",
    "Ya que el diámetro del estanque se mantiene constante\n",
    "\n",
    "$$\n",
    "Q = -\\pi\\left(\\frac{d_e}{2}\\right)^2\\frac{dH_A}{dt}\n",
    "$$\n",
    "\n",
    "Al reemplazar la ecuación {eq}`part1:cap2:ex1:eq1` en {eq}`part1:cap2:ex1:eq2` e igualando,\n",
    "\n",
    "$$\n",
    "\\sqrt{2gH_A}\\left(\\pi\\left(\\frac{d_t}{2}\\right)^2\\right) = -\\pi\\left(\\frac{d_e}{2}\\right)^2\\frac{dH_A}{dt}\n",
    "$$\n",
    "\n",
    "Reordenando los términos,\n",
    "\n",
    "$$\n",
    "-H_A^{-\\frac{1}{2}}dH_A = \\sqrt{2g}\\left(\\frac{d_t}{d_e}\\right)^2dt\n",
    "$$\n",
    "\n",
    "Inicialmente la altura del líquido es de $25\\hspace{1mm}(m)$ hasta que en el tiempo final se vacía.\n",
    "\n",
    "$$\n",
    "-\\int_{25}^{0}H_A^{-\\frac{1}{2}}dH_A = \\sqrt{2g}\\left(\\frac{d_t}{d_e}\\right)^2 \\int_0^{t_T}dt\n",
    "$$\n",
    "\n",
    "Finalmente,\n",
    "\n",
    "$$\n",
    "t_T = 2\\sqrt{\\frac{25}{2g}}\\left(\\frac{d_e}{d_t}\\right)^2\n",
    "$$"
   ]
  },
  {
   "cell_type": "code",
   "execution_count": 12,
   "metadata": {},
   "outputs": [
    {
     "data": {
      "text/latex": [
       "\\[\n",
       "\\begin{aligned}\n",
       "d_{e} &= 10 \\; \\;\\textrm{(m)}\n",
       "\\\\[10pt]\n",
       "t_{T} &= 2 \\cdot \\sqrt { \\frac{ 25 }{ 2 } \\cdot g } \\cdot \\left( \\frac{ d_{e} }{ d_{t} } \\right) ^{ 2 } \\\\&= 2 \\cdot \\sqrt { \\frac{ 25 }{ 2 } \\cdot 9.800 } \\cdot \\left( \\frac{ 10 }{ 0.130 } \\right) ^{ 2 } \\\\&= 130981.915 \\; \\;\\textrm{(s)}\\\\[10pt]\n",
       "\\\\[10pt]\n",
       "& \\textrm{ O}\\\\[10pt]\n",
       "t &= \\frac{ t_{T} }{ 3600 } \\\\&= \\frac{ 130981.915 }{ 3600 } \\\\&= 36.384 \\; \\;\\textrm{(h)}\\\\[10pt]\n",
       "\\end{aligned}\n",
       "\\]"
      ],
      "text/plain": [
       "<IPython.core.display.Latex object>"
      ]
     },
     "metadata": {},
     "output_type": "display_data"
    }
   ],
   "source": [
    "%%render long\n",
    "d_e = 10 #m\n",
    "t_T = 2*sqrt(25/2*g)*(d_e/d_t)**2 #s\n",
    "## O\n",
    "t = t_T/3600 #h"
   ]
  },
  {
   "cell_type": "code",
   "execution_count": null,
   "metadata": {},
   "outputs": [],
   "source": []
  }
 ],
 "metadata": {
  "kernelspec": {
   "display_name": "Python 3",
   "language": "python",
   "name": "python3"
  },
  "language_info": {
   "codemirror_mode": {
    "name": "ipython",
    "version": 3
   },
   "file_extension": ".py",
   "mimetype": "text/x-python",
   "name": "python",
   "nbconvert_exporter": "python",
   "pygments_lexer": "ipython3",
   "version": "3.11.7"
  }
 },
 "nbformat": 4,
 "nbformat_minor": 2
}
