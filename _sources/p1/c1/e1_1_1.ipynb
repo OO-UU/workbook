{
 "cells": [
  {
   "cell_type": "markdown",
   "metadata": {},
   "source": [
    "# Ejercicio 1: Momentum y Fuerza"
   ]
  },
  {
   "cell_type": "markdown",
   "metadata": {},
   "source": [
    "## Enunciado"
   ]
  },
  {
   "cell_type": "markdown",
   "metadata": {},
   "source": [
    "La ecuación de `Bernoulli` proviene de un equilibrio entre la fuerza que ejerce la variación de presión, el peso del fluido y la `variación de Momentum` a lo largo de la tubería (Si se ignora el efecto de la fricción en la superficie de la tubería). Para entender mejor la relación de Momentum y fuerza, su profesor le propone el siguiente caso:\n",
    "\n",
    "Un flujo de agua a 25°C con densidad $\\rho = 997.05 \\hspace{1mm}(kg/m^3)$ baja a velocidad constante por un sistema de tuberías cilíndricas hasta alcanzar un codo, cambiando su trayectoria. Este codo se encuentra sujetado por un fierro metálico. Si la velocidad del flujo es $u = 3 \\hspace{1mm}(m/s)$, ¿A qué fuerza se somete el codo considerando únicamente el efecto de la variación de Momentum producido por el flujo?"
   ]
  },
  {
   "cell_type": "markdown",
   "metadata": {},
   "source": [
    "```{figure} ./images/img1_1_1.png\n",
    ":align: center\n",
    ":name: figura-1\n",
    "\n",
    "Tubería y codo\n",
    "```"
   ]
  },
  {
   "cell_type": "markdown",
   "metadata": {},
   "source": [
    "```{admonition} Información sobre la figura\n",
    ":class: note\n",
    ":class: dropdown\n",
    "\n",
    "El diámetro de la tubería es constante y de 8 cm, la tubería que baja se encuentra inclinada 60° respecto al eje X y la que sube se encuentra a 30°\n",
    "```"
   ]
  },
  {
   "cell_type": "markdown",
   "metadata": {},
   "source": [
    "## Solución"
   ]
  },
  {
   "cell_type": "code",
   "execution_count": 40,
   "metadata": {
    "tags": [
     "remove-cell"
    ]
   },
   "outputs": [],
   "source": [
    "import handcalcs.render\n",
    "from handcalcs import handcalc\n",
    "from math import pi, sin, cos, radians"
   ]
  },
  {
   "cell_type": "code",
   "execution_count": 66,
   "metadata": {
    "tags": [
     "hide-cell",
     "remove-input"
    ]
   },
   "outputs": [
    {
     "data": {
      "text/latex": [
       "\\[\n",
       "\\begin{aligned}\n",
       "& \\textrm{Del enunciado obtenemos los siguientes datos}\\\\[10pt]\n",
       "\\rho &= 997.050 \\; \\;\\textrm{(kg/m3)}\n",
       "\\\\[10pt]\n",
       "u &= 3 \\; \\;\\textrm{(m/s)}\n",
       "\\\\[10pt]\n",
       "d &= 0.080 \\; \\;\\textrm{(m)}\n",
       "\\\\[10pt]\n",
       "& \\textrm{El área transversal por el cual pasa el flujo es}\\\\[10pt]\n",
       "A &= \\pi \\cdot \\left( \\frac{ d }{ 2 } \\right) ^{ 2 } \\\\&= 3.142 \\cdot \\left( \\frac{ 0.080 }{ 2 } \\right) ^{ 2 } \\\\&= 0.005 \\; \\;\\textrm{(m2)}\\\\[10pt]\n",
       "\\\\[10pt]\n",
       "& \\textrm{Luego la variación de Momentum vendrá dada por,}\\\\[10pt]\n",
       "M &= \\rho \\cdot \\left( u \\right) ^{ 2 } \\cdot A \\\\&= 997.050 \\cdot \\left( 3 \\right) ^{ 2 } \\cdot 0.005 \\\\&= 45.105 \\; \\;\\textrm{(N)}\\\\[10pt]\n",
       "\\\\[10pt]\n",
       "& \\textrm{Ya que la tubería se encuentra inclinada, debemos descomponer el vector de fuerzas en su eje X e Y.}\\\\[10pt]\n",
       "& \\textrm{Para la sección de la tubería que baja la fuerza que ejerce va en la dirección de aceleración del fluido.}\\\\[10pt]\n",
       "M_{Ybaja} &= \\left( - M \\right) \\cdot \\sin \\left( \\frac{ \\pi }{ 3 } \\right) \\\\&= \\left( - 45.105 \\right) \\cdot \\sin \\left( \\frac{ 3.142 }{ 3 } \\right) \\\\&= -39.062 \\; \\;\\textrm{(N)}\\\\[10pt]\n",
       "\\\\[10pt]\n",
       "M_{Xbaja} &= M \\cdot \\cos \\left( \\frac{ \\pi }{ 3 } \\right) \\\\&= 45.105 \\cdot \\cos \\left( \\frac{ 3.142 }{ 3 } \\right) \\\\&= 22.553 \\; \\;\\textrm{(N)}\\\\[10pt]\n",
       "\\\\[10pt]\n",
       "& \\textrm{ De manera análoga para la tubería que sube.}\\\\[10pt]\n",
       "M_{Ysube} &= M \\cdot \\sin \\left( \\frac{ \\pi }{ 6 } \\right) \\\\&= 45.105 \\cdot \\sin \\left( \\frac{ 3.142 }{ 6 } \\right) \\\\&= 22.553 \\; \\;\\textrm{(N)}\\\\[10pt]\n",
       "\\\\[10pt]\n",
       "M_{Xsube} &= M \\cdot \\cos \\left( \\frac{ \\pi }{ 6 } \\right) \\\\&= 45.105 \\cdot \\cos \\left( \\frac{ 3.142 }{ 6 } \\right) \\\\&= 39.062 \\; \\;\\textrm{(N)}\\\\[10pt]\n",
       "\\\\[10pt]\n",
       "& \\textrm{ Finalmente, la fuerza total que ejerce el fluido sobre el codo es,}\\\\[10pt]\n",
       "F_{Y} &= M_{Ybaja} + M_{Ysube} \\\\&= -39.062 + 22.553 \\\\&= -16.510 \\; \\;\\textrm{(N)}\\\\[10pt]\n",
       "\\\\[10pt]\n",
       "F_{X} &= M_{Xbaja} + M_{Xsube} \\\\&= 22.553 + 39.062 \\\\&= 61.615 \\; \\;\\textrm{(N)}\\\\[10pt]\n",
       "\\end{aligned}\n",
       "\\]"
      ],
      "text/plain": [
       "<IPython.core.display.Latex object>"
      ]
     },
     "metadata": {},
     "output_type": "display_data"
    }
   ],
   "source": [
    "%%render long\n",
    "##Del enunciado obtenemos los siguientes datos\n",
    "rho = 997.05 #kg/m3\n",
    "u = 3 #m/s\n",
    "d = 0.08 #m\n",
    "##El área transversal por el cual pasa el flujo es\n",
    "A = pi*(d/2)**2 #m2\n",
    "##Luego la variación de Momentum vendrá dada por,\n",
    "M = rho*u**2*A #N\n",
    "##Ya que la tubería se encuentra inclinada, debemos descomponer el vector de fuerzas en su eje X e Y.\n",
    "##Para la sección de la tubería que baja la fuerza que ejerce va en la dirección de aceleración del fluido.\n",
    "M_Ybaja = -M*sin(pi/3) #N\n",
    "M_Xbaja = M*cos(pi/3) #N\n",
    "## De manera análoga para la tubería que sube.\n",
    "M_Ysube = M*sin(pi/6) #N\n",
    "M_Xsube = M*cos(pi/6) #N\n",
    "## Finalmente, la fuerza total que ejerce el fluido sobre el codo es,\n",
    "F_Y = M_Ybaja + M_Ysube #N\n",
    "F_X = M_Xbaja + M_Xsube #N"
   ]
  }
 ],
 "metadata": {
  "kernelspec": {
   "display_name": "Python 3",
   "language": "python",
   "name": "python3"
  },
  "language_info": {
   "codemirror_mode": {
    "name": "ipython",
    "version": 3
   },
   "file_extension": ".py",
   "mimetype": "text/x-python",
   "name": "python",
   "nbconvert_exporter": "python",
   "pygments_lexer": "ipython3",
   "version": "3.11.7"
  }
 },
 "nbformat": 4,
 "nbformat_minor": 2
}
