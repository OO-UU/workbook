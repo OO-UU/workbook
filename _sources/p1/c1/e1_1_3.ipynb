{
 "cells": [
  {
   "cell_type": "markdown",
   "metadata": {},
   "source": [
    "# Ejercicio 3: Hidroestática 2"
   ]
  },
  {
   "cell_type": "markdown",
   "metadata": {},
   "source": [
    "## Enunciado"
   ]
  },
  {
   "cell_type": "markdown",
   "metadata": {},
   "source": [
    "Usted cuenta con un estanque conectado a dos tuberías abiertas. Una de ellas se encuentra expuesta a 2 veces la presión atmosférica, mientras que la otra percibe una presión de $195.3 kPa$. Este sistema se compone de 3 fluidos inmiscibles, el fluido A con densidad de $\\rho_A = 1306 \\hspace{1mm}(kg/m^3)$, el fluido B con $\\rho_B = 2588 \\hspace{1mm}(kg/m^3)$ y el fluido C con $\\rho_C = 8970.15 \\hspace{1mm}(kg/m^3)$. En la figura se observan las dimensiones del sistema, con las cuales se le pide encontrar la altura X de la tubería en donde se encuentra el fluido A. Para esto responda lo siguiente:\n",
    "\n",
    "1. Marque los puntos en los cuales usted encuentre conveniente igualar las presiones del sistema completo.\n",
    "2. Calcule la altura X en metros.\n",
    "\n",
    "Asuma la gravedad como $g = 9.8 \\hspace{1mm}(m/s^2)$"
   ]
  },
  {
   "cell_type": "markdown",
   "metadata": {},
   "source": [
    "```{figure} ./images/img1_1_3.png\n",
    ":align: center\n",
    ":name: figura-2\n",
    "\n",
    "Sistema de tuberías y estanque.\n",
    "```"
   ]
  },
  {
   "cell_type": "markdown",
   "metadata": {},
   "source": [
    "## Solución"
   ]
  },
  {
   "cell_type": "markdown",
   "metadata": {},
   "source": [
    "### Inciso 1"
   ]
  },
  {
   "cell_type": "markdown",
   "metadata": {
    "tags": []
   },
   "source": [
    "````{toggle}\n",
    "```{figure} ./images/img1_1_3-sol.png\n",
    ":align: center\n",
    ":name: figura-3\n",
    "```\n",
    "````"
   ]
  },
  {
   "cell_type": "markdown",
   "metadata": {},
   "source": [
    "### Inciso 2"
   ]
  },
  {
   "cell_type": "code",
   "execution_count": 4,
   "metadata": {
    "tags": [
     "remove-cell"
    ]
   },
   "outputs": [],
   "source": [
    "import handcalcs.render\n",
    "from handcalcs import handcalc\n",
    "from math import sin, pi"
   ]
  },
  {
   "cell_type": "code",
   "execution_count": 25,
   "metadata": {
    "tags": [
     "hide-cell",
     "remove-input"
    ]
   },
   "outputs": [
    {
     "data": {
      "text/latex": [
       "\\[\n",
       "\\begin{aligned}\n",
       "& \\textrm{ Sabemos del enunciado lo siguiente:}\\\\[10pt]\n",
       "p_{1} &= 202650 \\; \\;\\textrm{(Pa)}\n",
       "\\\\[10pt]\n",
       "p_{4} &= 195300 \\; \\;\\textrm{(Pa)}\n",
       "\\\\[10pt]\n",
       "g &= 9.800 \\; \\;\\textrm{(m/s2)}\n",
       "\\\\[10pt]\n",
       "\\rho_{A} &= 1306 \\; \\;\\textrm{(kg/m3)}\n",
       "\\\\[10pt]\n",
       "\\rho_{B} &= 2588 \\; \\;\\textrm{(kg/m3)}\n",
       "\\\\[10pt]\n",
       "\\rho_{C} &= 8970.150 \\; \\;\\textrm{(kg/m3)}\n",
       "\\\\[10pt]\n",
       "& \\textrm{ Primero, calculamos la diferencia de presiones entre el punto 1 y el 2.}\\\\[10pt]\n",
       "& \\textrm{ Para esto, necesitamos saber la altura que hay entre ambos. La parte vertical es:}\\\\[10pt]\n",
       "h_{vert} &= 3 \\; \\;\\textrm{(m)}\n",
       "\\\\[10pt]\n",
       "& \\textrm{ Mientras que la parte inclinada llega hasta el punto 2, cuya altura en el eje Y es:}\\\\[10pt]\n",
       "h_{incl} &= \\left( 5 - \\frac{ 1 }{ \\sin \\left( \\frac{ \\pi }{ 4 } \\right) } \\right) \\cdot \\sin \\left( \\frac{ \\pi }{ 4 } \\right) \\\\&= \\left( 5 - \\frac{ 1 }{ \\sin \\left( \\frac{ 3.142 }{ 4 } \\right) } \\right) \\cdot \\sin \\left( \\frac{ 3.142 }{ 4 } \\right) \\\\&= 2.536 \\; \\;\\textrm{(m)}\\\\[10pt]\n",
       "\\\\[10pt]\n",
       "& \\textrm{ Notese que le restamos el trozo de la tubería que esta compuesta por el fluido C.}\\\\[10pt]\n",
       "& \\textrm{ Tal que la presión en el punto 2 será}\\\\[10pt]\n",
       "p_{2} &= p_{1} + g \\cdot \\left( h_{vert} + h_{incl} \\right) \\cdot \\rho_{B} \\\\&= 202650 + 9.800 \\cdot \\left( 3 + 2.536 \\right) \\cdot 2588 \\\\&= 343044.425 \\; \\;\\textrm{(Pa)}\\\\[10pt]\n",
       "\\\\[10pt]\n",
       "& \\textrm{ La presión en los puntos 2 y 2* son equivalentes.}\\\\[10pt]\n",
       "& \\textrm{ Luego la presión en el punto 3 será}\\\\[10pt]\n",
       "p_{3} &= p_{2} - g \\cdot 1 \\cdot \\rho_{C} \\\\&= 343044.425 - 9.800 \\cdot 1 \\cdot 8970.150 \\\\&= 255136.955 \\; \\;\\textrm{(Pa)}\\\\[10pt]\n",
       "\\\\[10pt]\n",
       "& \\textrm{ Luego entre el punto 3 y el 4, y despejando X llegamos a}\\\\[10pt]\n",
       "& \\textrm{ la siguiente expresión.}\\\\[10pt]\n",
       "X &= \\frac{ p_{3} - p_{4} }{ g \\cdot \\rho_{A} } - 2 \\\\&= \\frac{ 255136.955 - 195300 }{ 9.800 \\cdot 1306 } - 2 \\\\&= 2.675 \\; \\;\\textrm{(m)}\\\\[10pt]\n",
       "\\end{aligned}\n",
       "\\]"
      ],
      "text/plain": [
       "<IPython.core.display.Latex object>"
      ]
     },
     "metadata": {},
     "output_type": "display_data"
    }
   ],
   "source": [
    "%%render long\n",
    "## Sabemos del enunciado lo siguiente:\n",
    "p_1 = 202650 #Pa\n",
    "p_4 = 195300 #Pa\n",
    "g = 9.8 #m/s2\n",
    "rho_A = 1306 #kg/m3\n",
    "rho_B = 2588 #kg/m3\n",
    "rho_C = 8970.15 #kg/m3\n",
    "## Primero, calculamos la diferencia de presiones entre el punto 1 y el 2.\n",
    "## Para esto, necesitamos saber la altura que hay entre ambos. La parte vertical es:\n",
    "h_vert = 3 #m\n",
    "## Mientras que la parte inclinada llega hasta el punto 2, cuya altura en el eje Y es:\n",
    "h_incl = (5 - 1/sin(pi/4))*sin(pi/4) #m\n",
    "## Notese que le restamos el trozo de la tubería que esta compuesta por el fluido C.\n",
    "## Tal que la presión en el punto 2 será\n",
    "p_2 = p_1 + g*(h_vert+h_incl)*rho_B #Pa\n",
    "## La presión en los puntos 2 y 2* son equivalentes.\n",
    "## Luego la presión en el punto 3 será\n",
    "p_3 = p_2 - g*1*rho_C #Pa\n",
    "## Luego entre el punto 3 y el 4, y despejando X llegamos a\n",
    "## la siguiente expresión.\n",
    "X = (p_3-p_4)/(g*rho_A) - 2 #m"
   ]
  },
  {
   "cell_type": "code",
   "execution_count": null,
   "metadata": {},
   "outputs": [],
   "source": []
  }
 ],
 "metadata": {
  "kernelspec": {
   "display_name": "Python 3",
   "language": "python",
   "name": "python3"
  },
  "language_info": {
   "codemirror_mode": {
    "name": "ipython",
    "version": 3
   },
   "file_extension": ".py",
   "mimetype": "text/x-python",
   "name": "python",
   "nbconvert_exporter": "python",
   "pygments_lexer": "ipython3",
   "version": "3.11.7"
  }
 },
 "nbformat": 4,
 "nbformat_minor": 2
}
