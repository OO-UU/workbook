{
 "cells": [
  {
   "cell_type": "markdown",
   "metadata": {},
   "source": [
    "# Ejercicio 2: Hidroestática 1"
   ]
  },
  {
   "cell_type": "markdown",
   "metadata": {},
   "source": [
    "## Enunciado"
   ]
  },
  {
   "cell_type": "markdown",
   "metadata": {},
   "source": [
    "La Fuerza de Submarinos designó una operación de investigación en la profundidades de la `fosa de Atacama` para entender mejor la fauna marina de estas zonas inexploradas. Para realizar dicha investigación, se cuenta con un submarino que tiene una ventana ciruclar de $25 \\hspace{1mm}(cm)$ de diámetro en la parte inferior del submarino, la cual está diseñada para soportar $600 \\hspace{1mm}(kN)$ de fuerza. Considere que la presión dentro del submarino es igual a la presión atmosférica. Además la fosa de Atacama alcanza los $8069 \\hspace{1mm}(m)$ de profundidad, y la densidad del agua marina es de $\\rho = 1028 \\hspace{1mm}(kg/m^3)$. ¿Se romperá la ventana suponiendo que el submarino alcanza la máxima profundidad? En caso de que sí se rompa, ¿Cuál es la fuerza mínima que debería soportar?"
   ]
  },
  {
   "cell_type": "markdown",
   "metadata": {},
   "source": [
    "## Solución"
   ]
  },
  {
   "cell_type": "code",
   "execution_count": 1,
   "metadata": {
    "tags": [
     "remove-cell"
    ]
   },
   "outputs": [],
   "source": [
    "import handcalcs.render\n",
    "from handcalcs import handcalc\n",
    "from math import pi"
   ]
  },
  {
   "cell_type": "code",
   "execution_count": 6,
   "metadata": {
    "tags": [
     "hide-cell",
     "remove-input"
    ]
   },
   "outputs": [
    {
     "data": {
      "text/latex": [
       "\\[\n",
       "\\begin{aligned}\n",
       "& \\textrm{ Sean}\\\\[10pt]\n",
       "g &= 9.800 \\; \\;\\textrm{(m/s2)}\n",
       "\\\\[10pt]\n",
       "d &= 25 \\; \\;\\textrm{(cm)}\n",
       "\\\\[10pt]\n",
       "H &= 8069 \\; \\;\\textrm{(m)}\n",
       "\\\\[10pt]\n",
       "\\rho &= 1028 \\; \\;\\textrm{(kg/m3)}\n",
       "\\\\[10pt]\n",
       "& \\textrm{ Ya que la presión exterior es igual a la atmosférica. La presión que siente la ventana es,}\\\\[10pt]\n",
       "p_{v} &= g \\cdot H \\cdot \\rho \\\\&= 9.800 \\cdot 8069 \\cdot 1028 \\\\&= 81290333.600 \\; \\;\\textrm{(N/m2)}\\\\[10pt]\n",
       "\\\\[10pt]\n",
       "& \\textrm{ El área de la ventana será}\\\\[10pt]\n",
       "A &= \\pi \\cdot \\left( \\frac{ d }{ 100 } \\cdot \\frac{1} { 2 } \\right) ^{ 2 } \\\\&= 3.142 \\cdot \\left( \\frac{ 25 }{ 100 } \\cdot \\frac{1} { 2 } \\right) ^{ 2 } \\\\&= 0.049 \\; \\;\\textrm{(m2)}\\\\[10pt]\n",
       "\\\\[10pt]\n",
       "& \\textrm{ Luego la fuerza que percibe la ventana será}\\\\[10pt]\n",
       "F &= p_{v} \\cdot A \\\\&= 81290333.600 \\cdot 0.049 \\\\&= 3990329.919 \\; \\;\\textrm{(N)}\\\\[10pt]\n",
       "\\\\[10pt]\n",
       "& \\textrm{ Por lo tanto, la ventana deberá soportar una fuerza mayor o igual a}\\\\[10pt]\n",
       "F &= 3990329.919 \\; \\;\\textrm{(N)}\n",
       "\\end{aligned}\n",
       "\\]"
      ],
      "text/plain": [
       "<IPython.core.display.Latex object>"
      ]
     },
     "metadata": {},
     "output_type": "display_data"
    }
   ],
   "source": [
    "%%render long\n",
    "## Sean\n",
    "g = 9.8 #m/s2\n",
    "d = 25 #cm\n",
    "H = 8069 #m\n",
    "rho = 1028 #kg/m3\n",
    "## Ya que la presión exterior es igual a la atmosférica. La presión que siente la ventana es\n",
    "p_v = g*H*rho #N/m2\n",
    "## El área de la ventana será\n",
    "A = pi*(d/100/2)**2 #m2\n",
    "## Luego la fuerza que percibe la ventana será\n",
    "F = p_v*A # N\n",
    "## Por lo tanto, la ventana deberá soportar una fuerza mayor o igual a\n",
    "F #N"
   ]
  },
  {
   "cell_type": "code",
   "execution_count": null,
   "metadata": {},
   "outputs": [],
   "source": []
  }
 ],
 "metadata": {
  "kernelspec": {
   "display_name": "Python 3",
   "language": "python",
   "name": "python3"
  },
  "language_info": {
   "codemirror_mode": {
    "name": "ipython",
    "version": 3
   },
   "file_extension": ".py",
   "mimetype": "text/x-python",
   "name": "python",
   "nbconvert_exporter": "python",
   "pygments_lexer": "ipython3",
   "version": "3.11.7"
  }
 },
 "nbformat": 4,
 "nbformat_minor": 2
}
