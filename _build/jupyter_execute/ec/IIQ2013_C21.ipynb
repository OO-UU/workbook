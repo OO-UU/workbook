{
 "cells": [
  {
   "cell_type": "markdown",
   "id": "1b08f84e",
   "metadata": {},
   "source": [
    "# IIQ2013 - Clase 21"
   ]
  },
  {
   "cell_type": "code",
   "execution_count": 1,
   "id": "bb05c5da",
   "metadata": {},
   "outputs": [],
   "source": [
    "import handcalcs.render\n",
    "import forallpeople\n",
    "import numpy as np\n",
    "import forallpeople as si\n",
    "from CoolProp.CoolProp import PropsSI"
   ]
  },
  {
   "cell_type": "code",
   "execution_count": 2,
   "id": "c3386765",
   "metadata": {},
   "outputs": [],
   "source": [
    "si.environment('default', top_level=True)"
   ]
  },
  {
   "cell_type": "markdown",
   "id": "310a4912-34e3-4771-94fb-e20e8ac8e786",
   "metadata": {},
   "source": [
    "## Pregunta 1"
   ]
  },
  {
   "cell_type": "markdown",
   "id": "3932dc7e-f241-48b9-a8bc-f7b4bcdfbb1b",
   "metadata": {},
   "source": [
    "Considerando la curva típica de ebullición para agua a $1~\\text{atm}$ que se adjunta, si $h > 104~\\text{W/m}^2\\cdot\\text{K}$, el régimen de ebullición probablemente sea el siguiente:"
   ]
  },
  {
   "cell_type": "markdown",
   "id": "e744c25c-f415-4a9a-9fd7-bfb1873239ae",
   "metadata": {},
   "source": [
    "```{figure} ./images/img_EC-21.png\n",
    ":align: center\n",
    ":name: figura_EC-21\n",
    "\n",
    "Regímenes de ebullición.\n",
    "```"
   ]
  },
  {
   "cell_type": "markdown",
   "id": "009ac0cc-5d49-488f-9674-fc95fda87855",
   "metadata": {},
   "source": [
    "(a) Ebullición de convección libre  \\\n",
    "(b) Ebullición nucleada \\\n",
    "(c) Ebullición de transición \\\n",
    "(d) Ebullición de película"
   ]
  },
  {
   "cell_type": "markdown",
   "id": "00a7a002-651b-4acb-b7fb-b46356ce6f13",
   "metadata": {},
   "source": [
    "## Solución"
   ]
  },
  {
   "cell_type": "markdown",
   "id": "34ab8594-63ac-4f67-b9c6-c97a9ebee36e",
   "metadata": {},
   "source": [
    "Dado que no tenemos un valor exacto de $h$ para el agua, procedemos a testear el límite superior de la ebullición de convección libre.\n",
    "\n",
    "Del gráfico, asumiremos $q = 1.6 \\times 10^4~\\text{W/m}^2$. Esto correspodne a una diferencia de temperatura aproximadamente de 5°C. Luego,"
   ]
  },
  {
   "cell_type": "code",
   "execution_count": 3,
   "id": "891de737",
   "metadata": {},
   "outputs": [
    {
     "data": {
      "text/latex": [
       "\\[\n",
       "\\begin{aligned}\n",
       "\\mathrm{dT} &= 5 \\; \n",
       "\\\\[10pt]\n",
       "p &= 1 \\; \\;\\textrm{(atm)}\n",
       "\\\\[10pt]\n",
       "h &= 1043 \\cdot \\left( \\mathrm{dT} \\right) ^{ \\left( \\frac{ 1 }{ 3 } \\right) } \\cdot \\left( p \\right) ^{ 0.4 }  = 1043 \\cdot \\left( 5 \\right) ^{ \\left( \\frac{ 1 }{ 3 } \\right) } \\cdot \\left( 1 \\right) ^{ 0.4 } &= 1783.505 \\; \\;\\textrm{(W/m$^2\\cdot$K)}\n",
       "\\end{aligned}\n",
       "\\]"
      ],
      "text/plain": [
       "<IPython.core.display.Latex object>"
      ]
     },
     "metadata": {},
     "output_type": "display_data"
    }
   ],
   "source": [
    "%%render\n",
    "dT = 5\n",
    "p = 1 # atm\n",
    "h = 1043 * dT**(1/3) * p **(0.4) #W/m$^2\\cdot$K"
   ]
  },
  {
   "cell_type": "markdown",
   "id": "8ddfffee",
   "metadata": {},
   "source": [
    "Este coeficiente de convección es muy bajo, por lo tanto descartamos nucleación por convección natural. Ahora procedemos a testear el segundo límite de flux entre ebullición nucleada y ebullición de transición. \n",
    "\n",
    "Del gráfico, asumiremos $q = 2.4 \\times 10^5~\\text{W/m}^2$. Esto corresponde a una diferencia de temperatura aproximadamente de 15°C. Luego,"
   ]
  },
  {
   "cell_type": "code",
   "execution_count": 4,
   "id": "b3c985b4",
   "metadata": {},
   "outputs": [
    {
     "data": {
      "text/latex": [
       "\\[\n",
       "\\begin{aligned}\n",
       "\\mathrm{dT} &= 15 \\; \n",
       "\\\\[10pt]\n",
       "p &= 1 \\; \\;\\textrm{(atm)}\n",
       "\\\\[10pt]\n",
       "h &= 5.56 \\cdot \\left( \\mathrm{dT} \\right) ^{ 3 } \\cdot \\left( p \\right) ^{ 0.4 }  = 5.56 \\cdot \\left( 15 \\right) ^{ 3 } \\cdot \\left( 1 \\right) ^{ 0.4 } &= 18765.000 \\; \\;\\textrm{(W/m$^2\\cdot$K)}\n",
       "\\end{aligned}\n",
       "\\]"
      ],
      "text/plain": [
       "<IPython.core.display.Latex object>"
      ]
     },
     "metadata": {},
     "output_type": "display_data"
    }
   ],
   "source": [
    "%%render\n",
    "dT = 15\n",
    "p = 1 # atm\n",
    "h = 5.56 * dT**(3) * p **(0.4) #W/m$^2\\cdot$K"
   ]
  },
  {
   "cell_type": "markdown",
   "id": "e161d27d",
   "metadata": {},
   "source": [
    "Que es mayor a $10^4$. Este valor está en un punto medio en la región de ebullición nucleada, por lo tanto el régimen de ebullición es probablemente ebullición nucleada. Esto corresponde a la alternativa **b)**."
   ]
  },
  {
   "cell_type": "markdown",
   "id": "e5e37dc4",
   "metadata": {},
   "source": [
    "## Pregunta 2"
   ]
  },
  {
   "cell_type": "markdown",
   "id": "6bcda8a1-44b8-44a5-920e-4665493d24c1",
   "metadata": {},
   "source": [
    "Se puede afirmar lo siguiente sobre procesos de ebullición de alberca:"
   ]
  },
  {
   "cell_type": "markdown",
   "id": "3eef4961-e838-4592-b256-1b5a182dd03c",
   "metadata": {},
   "source": [
    "(a) Un número de Jakob pequeño ($Ja < 1$) sugiere que el calor absorbido durante el cambio de fase supera al calor sensible absorbido por la fase líquida, con el resultado de aumentar el flujo de calor.\\\n",
    "(b) El calor máximo que se puede transferir en procesos de ebullición nucleada disminuye constantemente a medida que la presión se acerca a la presión crítica del fluido, cuando dicho calor se reduce a nada.\\\n",
    "(c) Ambas (a) y (b) son verdaderas.\\\n",
    "(d) Ambas (a) y (b) son falsas.\n"
   ]
  },
  {
   "cell_type": "markdown",
   "id": "969ba93a-a444-47f9-99bf-1d41e4d527ea",
   "metadata": {},
   "source": [
    "## Solución"
   ]
  },
  {
   "cell_type": "markdown",
   "id": "513033ee",
   "metadata": {},
   "source": [
    "a) El número de Jakob viene dado por\n",
    "\n",
    "$$ Ja = \\frac{c_p \\Delta T}{\\lambda_{lv}}$$"
   ]
  },
  {
   "cell_type": "markdown",
   "id": "8b5a13dc",
   "metadata": {},
   "source": [
    "Si el número de Jakob es pequeño, el calor sensible es muy pequeño en comparación al calor latente. Por lo tanto el calor absorbido durante el cambio de fase es mas grande que el calor absorbido por la fase líquida. Sin embargo, esto produce un **menor** flujo de calor. Por lo tanto, a) es incorrecta.\n",
    "\n",
    "b) Cerca del punto crítico, el flux crítico de calor se acerca a cero, por lo tanto **b) es correcta**."
   ]
  },
  {
   "cell_type": "markdown",
   "id": "91cb0c3f-2d3c-48d7-9db9-9c4a0aad5643",
   "metadata": {},
   "source": [
    "## Pregunta 3"
   ]
  },
  {
   "cell_type": "markdown",
   "id": "ab7e5f4d-8a7e-4653-9c3f-3463e56338b1",
   "metadata": {},
   "source": [
    "Considere un tubo vertical de $50~\\text{mm}$ de diámetro interior por el cual fluye agua a $4~\\text{bar}$. Si la ebullición comienza en una posición en que la pared del tubo se encuentra $15~\\text{°C}$ por sobre la temperatura de saturación, la tasa de transferencia de calor por unidad de largo de la tubería ($q’$) es aproximadamente la siguiente"
   ]
  },
  {
   "cell_type": "markdown",
   "id": "b6d47c17-9ee1-44c7-a9e1-8eee2d6f2059",
   "metadata": {},
   "source": [
    "(a) $q’$ $>$ $1000$ $\\text{kW/m}$\\\n",
    "(b) $500$ $<$ $q’$ $\\leq$ $1000$ $\\text{kW/m}$\\\n",
    "(c) $100$ $<$ $q’$ $\\leq$ $500$ $\\text{kW/m}$\\\n",
    "(d) $q’$ $\\leq$ $100$ $\\text{kW/m}$"
   ]
  },
  {
   "cell_type": "markdown",
   "id": "d7d29593",
   "metadata": {},
   "source": [
    "## Solución"
   ]
  },
  {
   "cell_type": "markdown",
   "id": "83ae5c2e",
   "metadata": {},
   "source": [
    "Primero calculamos el coeficiente de convección para ebullición nucleada en una superficie vertical. En primer lugar iteramos el primer tramo de la ecuación:"
   ]
  },
  {
   "cell_type": "code",
   "execution_count": 5,
   "id": "ef1b22da",
   "metadata": {},
   "outputs": [
    {
     "data": {
      "text/latex": [
       "\\[\n",
       "\\begin{aligned}\n",
       "\\mathrm{dT} &= 15 \\; \\;\\textrm{(C)}\n",
       "\\\\[10pt]\n",
       "p &= 4 \\; \\;\\textrm{(bar)}\n",
       "\\\\[10pt]\n",
       "h &= 537 \\cdot \\left( \\mathrm{dT} \\right) ^{ \\left( \\frac{ 1 }{ 7 } \\right) } \\cdot \\left( p \\right) ^{ 0.4 }  = 537 \\cdot \\left( 15 \\right) ^{ \\left( \\frac{ 1 }{ 7 } \\right) } \\cdot \\left( 4 \\right) ^{ 0.4 } &= 1376.611  \n",
       "\\\\[10pt]\n",
       "q &= h \\cdot \\mathrm{dT}  = 1376.611 \\cdot 15 &= 20649.169  \n",
       "\\end{aligned}\n",
       "\\]"
      ],
      "text/plain": [
       "<IPython.core.display.Latex object>"
      ]
     },
     "metadata": {},
     "output_type": "display_data"
    }
   ],
   "source": [
    "%%render\n",
    "dT = 15 # C\n",
    "p = 4 # bar\n",
    "h = 537 * dT**(1/7) * p **0.4\n",
    "q = h*dT"
   ]
  },
  {
   "cell_type": "markdown",
   "id": "10117f51",
   "metadata": {},
   "source": [
    "Sin embargo, esto muestra que estamos fuera del rango de validez del coeficiente de convección para flujo bajo, ya que $q = 20,6 kW m^{-2} > 3 kW m^{-2}$. Repetimos el cálculo con la otra ecuación."
   ]
  },
  {
   "cell_type": "code",
   "execution_count": 6,
   "id": "cb65cf48",
   "metadata": {},
   "outputs": [
    {
     "data": {
      "text/latex": [
       "\\[\n",
       "\\begin{aligned}\n",
       "\\mathrm{dT} &= 15 \\; \\;\\textrm{(C)}\n",
       "\\\\[10pt]\n",
       "p &= 4 \\; \\;\\textrm{(bar)}\n",
       "\\\\[10pt]\n",
       "h &= 7.95 \\cdot \\left( \\mathrm{dT} \\right) ^{ 3 } \\cdot \\left( p \\right) ^{ 0.4 }  = 7.95 \\cdot \\left( 15 \\right) ^{ 3 } \\cdot \\left( 4 \\right) ^{ 0.4 } &= 46715.920  \n",
       "\\\\[10pt]\n",
       "q &= h \\cdot \\mathrm{dT}  = 46715.920 \\cdot 15 &= 700738.794  \n",
       "\\end{aligned}\n",
       "\\]"
      ],
      "text/plain": [
       "<IPython.core.display.Latex object>"
      ]
     },
     "metadata": {},
     "output_type": "display_data"
    }
   ],
   "source": [
    "%%render\n",
    "dT = 15 # C\n",
    "p = 4 # bar\n",
    "h = 7.95 * dT**(3) * p **0.4\n",
    "q = h*dT"
   ]
  },
  {
   "cell_type": "markdown",
   "id": "213ed6cc",
   "metadata": {},
   "source": [
    "Con lo que concluimos que $q = 700 kW m^{-2}$, por ende la alternativa **b) es la correcta**."
   ]
  }
 ],
 "metadata": {
  "kernelspec": {
   "display_name": "Python 3 (ipykernel)",
   "language": "python",
   "name": "python3"
  },
  "language_info": {
   "codemirror_mode": {
    "name": "ipython",
    "version": 3
   },
   "file_extension": ".py",
   "mimetype": "text/x-python",
   "name": "python",
   "nbconvert_exporter": "python",
   "pygments_lexer": "ipython3",
   "version": "3.11.7"
  }
 },
 "nbformat": 4,
 "nbformat_minor": 5
}