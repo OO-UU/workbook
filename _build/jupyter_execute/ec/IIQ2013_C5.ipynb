{
 "cells": [
  {
   "cell_type": "markdown",
   "metadata": {},
   "source": [
    "# IIQ2013 - Clase 5"
   ]
  },
  {
   "cell_type": "markdown",
   "metadata": {},
   "source": [
    "En primer lugar se deben cargar las librerias que vamos a utilizar"
   ]
  },
  {
   "cell_type": "code",
   "execution_count": 1,
   "metadata": {},
   "outputs": [],
   "source": [
    "import numpy as np"
   ]
  },
  {
   "cell_type": "markdown",
   "metadata": {},
   "source": [
    "## Pregunta 1\n",
    "\n",
    "La Figura adjunta presenta el perfil de velocidades en régimen de flujo laminar de un plástico de Bingham que está fluynedo por una tubería cilíindrica horizontal de 4 cm de diámetro interno. Calcule.\n"
   ]
  },
  {
   "cell_type": "markdown",
   "metadata": {},
   "source": [
    "```{figure} ./images/img_EC-5.jpeg\n",
    "---\n",
    "name: figura-EC5\n",
    "scale: 60%\n",
    "---\n",
    "\n",
    "Perfil de velocidades de un plático de Bingham.\n",
    "```"
   ]
  },
  {
   "cell_type": "markdown",
   "metadata": {},
   "source": [
    "(a) La tasa de deformación del fluido muy cerca de la pared de la tubería.\n",
    "\n",
    "(b) Si $\\Delta p / L=300 \\mathrm{kN} / \\mathrm{m}^3$, el esfuerzo cortante en la pared de la tuberia.\n",
    "\n",
    "(c) La viscosidad aparente del fluido muy cerca de la pared de la tubería.\n",
    "\n",
    "(d) El valor aproximado del esfuerzo de fluencia del fluido."
   ]
  },
  {
   "cell_type": "markdown",
   "metadata": {},
   "source": [
    "## Solución\n",
    "Desde el gráfico podemos constatar que la tasa de deformación cerca de la pared se puede aproximar a:\n"
   ]
  },
  {
   "cell_type": "code",
   "execution_count": 2,
   "metadata": {},
   "outputs": [
    {
     "name": "stdout",
     "output_type": "stream",
     "text": [
      "La tasa de deformación del fluido cerca de la pared es 2.9999999999999996 1/s\n"
     ]
    }
   ],
   "source": [
    "# a)\n",
    "delta_v = 0.0045 # m/s\n",
    "delta_r = 0.0015 # m\n",
    "gamma_punto = delta_v/delta_r\n",
    "\n",
    "print(f\"La tasa de deformación del fluido cerca de la pared es {gamma_punto} 1/s\")\n"
   ]
  },
  {
   "cell_type": "markdown",
   "metadata": {},
   "source": [
    "El esfuerzo cortante cerca de la pared de la tubería es $\\tau_{w}$ = $\\Delta$ P/A y A = 4L/D, luego:"
   ]
  },
  {
   "cell_type": "code",
   "execution_count": 3,
   "metadata": {},
   "outputs": [
    {
     "name": "stdout",
     "output_type": "stream",
     "text": [
      "El esfuerzo cortante cerca de la pared es 3000.0 Pa\n"
     ]
    }
   ],
   "source": [
    "# b)\n",
    "t_wall = 300 * 1000 * 0.04 /4 # Pa\n",
    "print(f\"El esfuerzo cortante cerca de la pared es {t_wall} Pa\")\n"
   ]
  },
  {
   "cell_type": "code",
   "execution_count": 4,
   "metadata": {},
   "outputs": [
    {
     "name": "stdout",
     "output_type": "stream",
     "text": [
      "El esfuerzo cortante cerca de la pared es 1000.0000000000001 Pa⋅s o 1.0E+06 cP\n"
     ]
    }
   ],
   "source": [
    "# c)\n",
    "mu_app = t_wall/gamma_punto # Pa\n",
    "print(f\"El esfuerzo cortante cerca de la pared es {mu_app} Pa⋅s o {mu_app*1000:.1E} cP\")"
   ]
  },
  {
   "cell_type": "markdown",
   "metadata": {},
   "source": [
    "Finalmente, el radio crítico se puede obtener del gráfico adjunto, aproximadamente $r_{c}$ = 0.0099 m. Por lo que el esfuerzo de fluencia del fluido es igual a:"
   ]
  },
  {
   "cell_type": "code",
   "execution_count": 5,
   "metadata": {},
   "outputs": [
    {
     "name": "stdout",
     "output_type": "stream",
     "text": [
      "El esfuerzo de fluencia es 1485.0 Pa\n"
     ]
    }
   ],
   "source": [
    "r_c = 0.0099\n",
    "R = 0.02\n",
    "tau_0 = t_wall*r_c/R\n",
    "print(f\"El esfuerzo de fluencia es {tau_0} Pa\")"
   ]
  }
 ],
 "metadata": {
  "kernelspec": {
   "display_name": "Python 3",
   "language": "python",
   "name": "python3"
  },
  "language_info": {
   "codemirror_mode": {
    "name": "ipython",
    "version": 3
   },
   "file_extension": ".py",
   "mimetype": "text/x-python",
   "name": "python",
   "nbconvert_exporter": "python",
   "pygments_lexer": "ipython3",
   "version": "3.11.7"
  }
 },
 "nbformat": 4,
 "nbformat_minor": 4
}