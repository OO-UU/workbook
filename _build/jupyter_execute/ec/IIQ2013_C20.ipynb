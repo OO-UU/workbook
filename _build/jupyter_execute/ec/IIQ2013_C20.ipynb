{
 "cells": [
  {
   "cell_type": "markdown",
   "id": "c7bc5389",
   "metadata": {},
   "source": [
    "# IIQ2013 - Clase 20"
   ]
  },
  {
   "cell_type": "markdown",
   "id": "ed42a299-1feb-451e-94ed-be8417780cf7",
   "metadata": {},
   "source": [
    "Se hacen circular $6~\\text{kg/s}$ de aire a $1~\\text{atm}$ y $450~\\text{K}$ a través de un intercambiador de calor compacto (ICC) modelo CF-8.72(c) de $0.6\\times0.8~\\text{m}^2$ de área frontal y $0.6~\\text{m}$ de largo. Por el lado de los tubos ($L = 0.8~\\text{m}$) circulan $10~\\text{kg/s}$ de agua a $310~\\text{K}$."
   ]
  },
  {
   "cell_type": "code",
   "execution_count": 1,
   "id": "63b68ec2",
   "metadata": {},
   "outputs": [],
   "source": [
    "import handcalcs.render\n",
    "import forallpeople\n",
    "import numpy as np\n",
    "import forallpeople as si\n",
    "from CoolProp.CoolProp import PropsSI"
   ]
  },
  {
   "cell_type": "code",
   "execution_count": 2,
   "id": "191e847c-b76f-407c-a1bc-80ea1964e51d",
   "metadata": {},
   "outputs": [],
   "source": [
    "si.environment('default', top_level=True)"
   ]
  },
  {
   "cell_type": "markdown",
   "id": "171728a6-aa0d-416c-8ebe-349b6b36f114",
   "metadata": {},
   "source": [
    "## Pregunta 1"
   ]
  },
  {
   "cell_type": "markdown",
   "id": "1ed2eade-ad35-447b-92ba-f1d5796eba6f",
   "metadata": {},
   "source": [
    "El valor del número de Reynolds para la corriente de aire ($Re_{aire}$) es aproximadamente:"
   ]
  },
  {
   "cell_type": "markdown",
   "id": "b39b020a-521d-4f84-9563-31c7c2950f90",
   "metadata": {},
   "source": [
    "a) $Re_{aire}$ $<$ $1000$ \\\n",
    "b) $1000$ $\\leq$ $Re_{aire}$ $<$ $2500$ \\\n",
    "c) $2500$ $\\leq$ $Re_{aire}$ $<$ $5000$ \\\n",
    "d) $Re_{aire}$ $\\geq$ $5000$"
   ]
  },
  {
   "cell_type": "markdown",
   "id": "a8fa86ef-9d4f-4a8e-bd34-556d9e5d8060",
   "metadata": {},
   "source": [
    "Considere que $\\beta_{frontal} = 446 \\text{m}^2\\text{/m}^3$, en que $\\beta_{frontal}$ corresponde a la cara del ICC a travésde la cual ingresa (y sale) el aire. Propiedades termo-físicas: $\\mu_{aire} = 2.512 \\times 10^{−5}~\\text{Pa}\\cdot\\text{s}.$"
   ]
  },
  {
   "cell_type": "markdown",
   "id": "b92c5013-76c8-422b-9857-a70d00431d1e",
   "metadata": {},
   "source": [
    "## Solución"
   ]
  },
  {
   "cell_type": "markdown",
   "id": "dd514a1b",
   "metadata": {},
   "source": [
    "Definimos las propiedades termofísicas del agua y el aire,"
   ]
  },
  {
   "cell_type": "code",
   "execution_count": 3,
   "id": "e8b1b545",
   "metadata": {},
   "outputs": [
    {
     "data": {
      "text/latex": [
       "\\[\n",
       "\\begin{aligned}\n",
       "\\mathrm{cp}_{agua} &= 4.179 \\times 10^ {3}\\ \\mathrm{m}^{2} \\cdot \\mathrm{s}^{-2} \\cdot \\mathrm{K}^{-1} \\; \n",
       " &\\mu_{aire} &= 2.512 \\times 10 ^ {-5} \\;\n",
       "\\end{aligned}\n",
       "\\]"
      ],
      "text/plain": [
       "<IPython.core.display.Latex object>"
      ]
     },
     "metadata": {},
     "output_type": "display_data"
    }
   ],
   "source": [
    "%%render params sci_not\n",
    "cp_agua = PropsSI('C', 'P', 1e5, 'T', 310, 'water') * J / kg / K\n",
    "mu_aire = PropsSI('viscosity', 'P', 1e5, 'T', 450, 'air')"
   ]
  },
  {
   "cell_type": "code",
   "execution_count": 4,
   "id": "4cd0cc1d",
   "metadata": {},
   "outputs": [
    {
     "data": {
      "text/latex": [
       "\\[\n",
       "\\begin{aligned}\n",
       "F_{ic} &= 6.000\\ \\mathrm{kg} \\cdot \\mathrm{s}^{-1} \\; \n",
       " &A_{ic} &= 480000.000\\ \\mathrm{mm}^{2} \\; \\;\\textrm{(Área frontal ICC)}\n",
       " &L_{ic} &= 600.000\\ \\mathrm{mm} \\; \\;\\textrm{(Largo ICC)}\n",
       "\\\\[10pt]\n",
       " L_{t} &= 800.000\\ \\mathrm{mm} \\; \\;\\textrm{(Largo tubos)}\n",
       " &F_{t} &= 10.000\\ \\mathrm{kg} \\cdot \\mathrm{s}^{-1} \\;\n",
       "\\end{aligned}\n",
       "\\]"
      ],
      "text/plain": [
       "<IPython.core.display.Latex object>"
      ]
     },
     "metadata": {},
     "output_type": "display_data"
    }
   ],
   "source": [
    "%%render params\n",
    "F_ic = 6 * kg / s\n",
    "A_ic = 0.6*0.8 * m**2 # Área frontal ICC\n",
    "L_ic = 0.6 * m # Largo ICC\n",
    "\n",
    "L_t = 0.8 * m # Largo tubos\n",
    "F_t = 10 * kg / s"
   ]
  },
  {
   "cell_type": "markdown",
   "id": "88255e07",
   "metadata": {},
   "source": [
    "Para calcular  Reynolds, necesitamos el diámetro equivalente del ICC. Para el modelo cf-8.72(c), "
   ]
  },
  {
   "cell_type": "code",
   "execution_count": 5,
   "id": "36b847fe",
   "metadata": {},
   "outputs": [
    {
     "data": {
      "text/latex": [
       "\\[\n",
       "\\begin{aligned}\n",
       "\\sigma &= 0.494 \\; \n",
       "\\\\[10pt]\n",
       "\\beta &= 446 \\; \n",
       "\\\\[10pt]\n",
       "D_{h} &= 0.443 \\cdot 1 \\times 10 ^ {-2} \\cdot m  = 0.443 \\cdot 1 \\times 10 ^ {-2} \\cdot m &= 4.430\\ \\mathrm{mm}  \n",
       "\\\\[10pt]\n",
       "\\mu_{aire} &= \\mu_{aire} \\cdot \\mathrm{Pa} \\cdot s \\\\&= 0.000\\ \\mathrm{kg} \\cdot \\mathrm{m}^{-1} \\cdot \\mathrm{s}^{-1} \\cdot Pa \\cdot s \\\\&= 0.000\\ \\mathrm{kg} \\cdot \\mathrm{m}^{-1} \\cdot \\mathrm{s}^{-1}  \\\\[10pt]\n",
       "\\\\[10pt]\n",
       "G_{ic} &= \\frac{ F_{ic} }{ A_{ic} }  = \\frac{ 6.000\\ \\mathrm{kg} \\cdot \\mathrm{s}^{-1} }{ 480000.000\\ \\mathrm{mm}^{2} } &= 12.500\\ \\mathrm{kg} \\cdot \\mathrm{m}^{-2} \\cdot \\mathrm{s}^{-1}  \n",
       "\\\\[10pt]\n",
       "\\mathrm{Re} &= G_{ic} \\cdot \\frac{ D_{h} }{ \\mu_{aire} }  = 12.500\\ \\mathrm{kg} \\cdot \\mathrm{m}^{-2} \\cdot \\mathrm{s}^{-1} \\cdot \\frac{ 4.430\\ \\mathrm{mm} }{ 0.000\\ \\mathrm{kg} \\cdot \\mathrm{m}^{-1} \\cdot \\mathrm{s}^{-1} } &= 2204.083  \n",
       "\\\\[10pt]\n",
       "A_{fr} &= 480000.000\\ \\mathrm{mm}^{2} \\; \n",
       "\\\\[10pt]\n",
       "G_{max} &= \\frac{ F_{ic} }{ \\sigma \\cdot A_{fr} }  = \\frac{ 6.000\\ \\mathrm{kg} \\cdot \\mathrm{s}^{-1} }{ 0.494 \\cdot 480000.000\\ \\mathrm{mm}^{2} } &= 25.304\\ \\mathrm{kg} \\cdot \\mathrm{m}^{-2} \\cdot \\mathrm{s}^{-1}  \n",
       "\\\\[10pt]\n",
       "\\mathrm{Re}_{nax} &= G_{max} \\cdot \\frac{ D_{h} }{ \\mu_{aire} }  = 25.304\\ \\mathrm{kg} \\cdot \\mathrm{m}^{-2} \\cdot \\mathrm{s}^{-1} \\cdot \\frac{ 4.430\\ \\mathrm{mm} }{ 0.000\\ \\mathrm{kg} \\cdot \\mathrm{m}^{-1} \\cdot \\mathrm{s}^{-1} } &= 4461.706  \n",
       "\\end{aligned}\n",
       "\\]"
      ],
      "text/plain": [
       "<IPython.core.display.Latex object>"
      ]
     },
     "metadata": {},
     "output_type": "display_data"
    }
   ],
   "source": [
    "%%render\n",
    "sigma = 0.494\n",
    "beta = 446 \n",
    "D_h = 0.443*1e-2* m\n",
    "mu_aire = mu_aire * Pa * s\n",
    "G_ic = F_ic / A_ic\n",
    "Re = G_ic * D_h /mu_aire\n",
    "A_fr = A_ic\n",
    "G_max = F_ic/(sigma*A_fr)\n",
    "Re_nax = G_max * D_h /mu_aire"
   ]
  },
  {
   "cell_type": "markdown",
   "id": "e31824a5",
   "metadata": {},
   "source": [
    "Notar que el número de Reynolds relevante para cálculos de pérdida de carga y transferencia de calor es $Re_{max}$.\n",
    "\n",
    "Por lo tanto, la alternativa correcta es **c)**"
   ]
  },
  {
   "cell_type": "markdown",
   "id": "003b7059",
   "metadata": {},
   "source": [
    "## Pregunta 2"
   ]
  },
  {
   "cell_type": "markdown",
   "id": "08c8c7b9-bcd1-4965-8ec4-7c432f86da22",
   "metadata": {},
   "source": [
    "El coeficiente de transferencia de calor por convección para el aire ($h_{aire}$) es aproximadamente:"
   ]
  },
  {
   "cell_type": "markdown",
   "id": "3e301f41-2774-4b0f-ae61-74a4e48cc3ac",
   "metadata": {},
   "source": [
    "(a) $h_{aire}$ $<$ $200$ $\\text{W/m}^2\\cdot\\text{K}$ \\\n",
    "(b) $200$ $\\leq$ $h_{aire}$ $<$ $500$ $\\text{W/m}^2\\cdot\\text{K}$ \\\n",
    "(c) $500$ $\\leq$ $h_{aire}$ $<$ $1000$ $\\text{W/m}^2\\cdot\\text{K}$ \\\n",
    "(d) $h_{aire}$ $\\geq$ $1000$ $\\text{W/m}^2\\cdot\\text{K}$"
   ]
  },
  {
   "cell_type": "markdown",
   "id": "6f8f94a8-bdd7-4aab-8d86-45e27be566dd",
   "metadata": {},
   "source": [
    "Propiedades termo-físicas: $c_{p,~aire} = 1021.105~\\text{J/kg}\\cdot\\text{K}$, $Pr_{aire} = 0.7$."
   ]
  },
  {
   "cell_type": "markdown",
   "id": "9d8d698c-1fc8-4101-bcae-6370c10d97ac",
   "metadata": {},
   "source": [
    "## Solución"
   ]
  },
  {
   "cell_type": "markdown",
   "id": "34600226",
   "metadata": {},
   "source": [
    "Primero calculamos el Factor de Colburn $j_H$. Desde el gráfico y para la superficie CF-8.72(c), tenemos que"
   ]
  },
  {
   "cell_type": "code",
   "execution_count": 6,
   "id": "a0979505",
   "metadata": {},
   "outputs": [
    {
     "data": {
      "text/latex": [
       "\\[\n",
       "\\begin{aligned}\n",
       "j_{H} &= 0.007 \\; \n",
       "\\\\[10pt]\n",
       "\\mathrm{cp}_{aire} &= 1021.105\\ \\mathrm{m}^{2} \\cdot \\mathrm{s}^{-2} \\cdot \\mathrm{K}^{-1} \\; \n",
       "\\\\[10pt]\n",
       "\\mathrm{Pr}_{aire} &= 0.698 \\; \n",
       "\\\\[10pt]\n",
       "\\mathrm{cp}_{aire} &= \\mathrm{cp}_{aire} \\cdot \\frac{ J }{ \\mathrm{kg} } \\cdot \\frac{1} { K }  = 1021.105\\ \\mathrm{m}^{2} \\cdot \\mathrm{s}^{-2} \\cdot \\mathrm{K}^{-1} \\cdot \\frac{ J }{ kg } \\cdot \\frac{1} { K } &= 1021.105\\ \\mathrm{m}^{2} \\cdot \\mathrm{s}^{-2} \\cdot \\mathrm{K}^{-1}  \n",
       "\\\\[10pt]\n",
       "h_{aire} &= G_{max} \\cdot \\mathrm{cp}_{aire} \\cdot \\frac{ j_{H} }{ \\left( \\mathrm{Pr}_{aire} \\right) ^{ \\left( \\frac{ 2 }{ 3 } \\right) } } \\\\&= 25.304\\ \\mathrm{kg} \\cdot \\mathrm{m}^{-2} \\cdot \\mathrm{s}^{-1} \\cdot 1021.105\\ \\mathrm{m}^{2} \\cdot \\mathrm{s}^{-2} \\cdot \\mathrm{K}^{-1} \\cdot \\frac{ 0.007 }{ \\left( 0.698 \\right) ^{ \\left( \\frac{ 2 }{ 3 } \\right) } } \\\\&= 229.877\\ \\mathrm{kg} \\cdot \\mathrm{s}^{-3} \\cdot \\mathrm{K}^{-1}  \\\\[10pt]\n",
       "\\end{aligned}\n",
       "\\]"
      ],
      "text/plain": [
       "<IPython.core.display.Latex object>"
      ]
     },
     "metadata": {},
     "output_type": "display_data"
    }
   ],
   "source": [
    "%%render\n",
    "j_H = 0.007\n",
    "cp_aire = PropsSI('C', 'P', 1e5, 'T', 450, 'air')\n",
    "Pr_aire = PropsSI('Prandtl', 'P', 1e5, 'T', 450, 'air')\n",
    "cp_aire = cp_aire * J / kg / K\n",
    "h_aire = G_max * cp_aire * j_H / Pr_aire**(2/3)"
   ]
  },
  {
   "cell_type": "markdown",
   "id": "0c9bf2af",
   "metadata": {},
   "source": [
    "Por lo tanto la alternativa correcta es **b)**."
   ]
  },
  {
   "cell_type": "markdown",
   "id": "75121284",
   "metadata": {},
   "source": [
    "## Pregunta 3"
   ]
  },
  {
   "cell_type": "markdown",
   "id": "7b1c0ef8-a94b-4637-adca-2f390c23889a",
   "metadata": {},
   "source": [
    "Si $h_{agua} = 200~\\text{W/m}^2\\cdot\\text{K}$ y la eficiencia del arreglo del ICC es de $\\eta_o = 0.91$, el valor del coeficiente global de transferencia de calor ($U$) es aproximadamente el siguiente:"
   ]
  },
  {
   "cell_type": "markdown",
   "id": "49c7415f-49fb-4705-884f-62f8db412532",
   "metadata": {},
   "source": [
    "(a) $U$ $<$ $200$ $\\text{W/m}^2\\cdot\\text{K}$ \\\n",
    "(b) $200$ $\\leq$ $U$ $<$ $\\text{W/m}^2\\cdot\\text{K}$ \\\n",
    "(c) $500$ $\\leq$ $U$ $<$ $1000$ $\\text{W/m}^2\\cdot\\text{K}$ \\\n",
    "(d) $U$ $\\geq$ $1000$ $\\text{W/m}^2\\cdot\\text{K}$ "
   ]
  },
  {
   "cell_type": "markdown",
   "id": "ac811903-2c9c-47b0-add7-05a0b149bb44",
   "metadata": {},
   "source": [
    "Considere que $\\beta_{lateral} = 59.2~\\text{m}^2\\text{/m}^3$, en que $\\beta_{lateral}$ corresponde a la cara del ICC a través de la cual ingresa (y sale) el aire. Para reflexión posterior. ¿Cómo haría para estimar hagua a partir de los datos?"
   ]
  },
  {
   "cell_type": "markdown",
   "id": "93ecb4e3-8026-404d-9d26-34dd1d9868b9",
   "metadata": {},
   "source": [
    "## Solución"
   ]
  },
  {
   "cell_type": "markdown",
   "id": "f9bfb3c0",
   "metadata": {},
   "source": [
    "Calcularemos el coeficiente global de transferencia de calor despreciando el ensuciamiento. CF-8.72 es un arreglo de tubos con aletas.\n",
    "\n",
    "La razón entre el área de flujo externo del aire y el área de flujo interno del agua es simplemente la razón de las áreas superficiales por unidad de volumen,\n",
    "\n",
    "$$ \\frac{A_i}{A_o} = \\frac{V \\beta}{V \\beta_{lat}} = \\frac{\\beta}{\\beta_{lat}}$$\n",
    "\n",
    "Esto se debe a que la configuración de intercambiadores de calor compactos es a flujo cruzado."
   ]
  },
  {
   "cell_type": "code",
   "execution_count": 7,
   "id": "9ac6c146",
   "metadata": {},
   "outputs": [
    {
     "data": {
      "text/latex": [
       "\\[\n",
       "\\begin{aligned}\n",
       "\\eta_{0} &= 0.910 \\; \n",
       "\\\\[10pt]\n",
       "\\beta_{lat} &= 59.200 \\; \n",
       "\\\\[10pt]\n",
       "h_{agua} &= 200 \\cdot \\frac{ W }{ \\left( m \\right) ^{ 2 } } \\cdot \\frac{1} { K }  = 200 \\cdot \\frac{ W }{ \\left( m \\right) ^{ 2 } } \\cdot \\frac{1} { K } &= 200.000\\ \\mathrm{kg} \\cdot \\mathrm{s}^{-3} \\cdot \\mathrm{K}^{-1}  \n",
       "\\\\[10pt]\n",
       "\\mathrm{Af}_{a} &= 0.876 \\; \n",
       "\\\\[10pt]\n",
       "A_{b} &= 1 - \\mathrm{Af}_{a}  = 1 - 0.876 &= 0.124  \n",
       "\\\\[10pt]\n",
       "U &= \\left( \\frac{ 1 }{ \\eta_{0} \\cdot h_{aire} } \\cdot \\left( \\frac{ \\beta_{lat} }{ \\beta } \\right) + \\frac{ 1 }{ h_{agua} } \\right) ^{ \\left( - 1 \\right) } \\\\&= \\left( \\frac{ 1 }{ 0.910 \\cdot 229.877\\ \\mathrm{kg} \\cdot \\mathrm{s}^{-3} \\cdot \\mathrm{K}^{-1} } \\cdot \\left( \\frac{ 59.200 }{ 446 } \\right) + \\frac{ 1 }{ 200.000\\ \\mathrm{kg} \\cdot \\mathrm{s}^{-3} \\cdot \\mathrm{K}^{-1} } \\right) ^{ \\left( - 1 \\right) } \\\\&= 177.477\\ \\mathrm{kg} \\cdot \\mathrm{s}^{-3} \\cdot \\mathrm{K}^{-1}  \\\\[10pt]\n",
       "\\end{aligned}\n",
       "\\]"
      ],
      "text/plain": [
       "<IPython.core.display.Latex object>"
      ]
     },
     "metadata": {},
     "output_type": "display_data"
    }
   ],
   "source": [
    "%%render\n",
    "eta_0 = 0.91\n",
    "beta_lat = 59.2\n",
    "h_agua = 200 * W / m**2 / K\n",
    "Af_a = 0.876\n",
    "# Aproximación al área de los tubos\n",
    "A_b = 1 - Af_a\n",
    "U = ( 1/(eta_0 * h_aire) * (beta_lat/beta) + 1 / h_agua)**(-1)"
   ]
  },
  {
   "cell_type": "markdown",
   "id": "474f7a84",
   "metadata": {},
   "source": [
    "Por lo tanto la alternativa correcta es **a)**"
   ]
  },
  {
   "cell_type": "markdown",
   "id": "ce28786c-fb7d-4b7a-bff6-3514729e16fb",
   "metadata": {},
   "source": [
    "## Pregunta 4"
   ]
  },
  {
   "cell_type": "markdown",
   "id": "8b0cdfdb-db55-420f-97d8-e9557659d78e",
   "metadata": {},
   "source": [
    "La temperatura del agua a la salida del ICC ($T_{agua,~o}$) es aproximadamente la siguiente:"
   ]
  },
  {
   "cell_type": "markdown",
   "id": "a340d2c0-4e36-40ce-9a61-4856fbf263c8",
   "metadata": {},
   "source": [
    "(a) $T_{agua,~o}$ $<$ $328$ $\\text{K}$ \\\n",
    "(b) $328$ $\\leq$ $T_{agua,~o}$ $<$ $340$ $\\text{K}$ \\\n",
    "(c) $340$ $\\leq$ $T_{agua,~o}$ $<$ $350$ $\\text{K}$ \\\n",
    "(d) $T_{agua,~o}$ $\\geq$ $350$ $\\text{K}$"
   ]
  },
  {
   "cell_type": "markdown",
   "id": "9d4e9e1a-e8f1-46f1-86fa-ddc8888107a7",
   "metadata": {},
   "source": [
    "Propiedades termo-físicas: $c_{p,~agua} = 4178.2~\\text{J/kg}\\cdot\\text{K}$."
   ]
  },
  {
   "cell_type": "markdown",
   "id": "b368033e-3d69-4c08-bdd3-1fcbae5f195e",
   "metadata": {},
   "source": [
    "## Solución"
   ]
  },
  {
   "cell_type": "markdown",
   "id": "9d00041f-4ae8-4a0f-9e01-e7e82cf4a09c",
   "metadata": {},
   "source": [
    "Para calcular la temperatura de salida del ICC, podemos buscar el factor de corrección para un flujo perfectamente mezclado y el otro fluido sin mezclar."
   ]
  },
  {
   "cell_type": "markdown",
   "id": "f1e3c29c",
   "metadata": {},
   "source": [
    "Utilizaremos el método de efectividad NTU, utilizando las fórmulas de la clase 20. Para un IC de flujo cruzado, con un fluido mezclado y el otro sin mezclar, tenemos que."
   ]
  },
  {
   "cell_type": "code",
   "execution_count": 8,
   "id": "af2bdca4",
   "metadata": {},
   "outputs": [
    {
     "data": {
      "text/latex": [
       "\\[\n",
       "\\begin{aligned}\n",
       "C_{c} &= F_{t} \\cdot \\mathrm{cp}_{agua} \\\\&= 10.000\\ \\mathrm{kg} \\cdot \\mathrm{s}^{-1} \\cdot 4179.245\\ \\mathrm{m}^{2} \\cdot \\mathrm{s}^{-2} \\cdot \\mathrm{K}^{-1} \\\\&= 41792.449\\ \\mathrm{kg} \\cdot \\mathrm{m}^{2} \\cdot \\mathrm{s}^{-3} \\cdot \\mathrm{K}^{-1}  \\\\[10pt]\n",
       "\\\\[10pt]\n",
       "C_{h} &= F_{ic} \\cdot \\mathrm{cp}_{aire} \\\\&= 6.000\\ \\mathrm{kg} \\cdot \\mathrm{s}^{-1} \\cdot 1021.105\\ \\mathrm{m}^{2} \\cdot \\mathrm{s}^{-2} \\cdot \\mathrm{K}^{-1} \\\\&= 6126.629\\ \\mathrm{kg} \\cdot \\mathrm{m}^{2} \\cdot \\mathrm{s}^{-3} \\cdot \\mathrm{K}^{-1}  \\\\[10pt]\n",
       "\\end{aligned}\n",
       "\\]"
      ],
      "text/plain": [
       "<IPython.core.display.Latex object>"
      ]
     },
     "metadata": {},
     "output_type": "display_data"
    }
   ],
   "source": [
    "%%render\n",
    "C_c = F_t * cp_agua\n",
    "C_h = F_ic * cp_aire"
   ]
  },
  {
   "cell_type": "markdown",
   "id": "860ec88a",
   "metadata": {},
   "source": [
    "El agua tiene una mayor capacidad, por lo tanto"
   ]
  },
  {
   "cell_type": "code",
   "execution_count": 9,
   "id": "daca629b",
   "metadata": {},
   "outputs": [
    {
     "data": {
      "text/latex": [
       "\\[\n",
       "\\begin{aligned}\n",
       "C_{r} &= \\frac{ C_{h} }{ C_{c} }  = \\frac{ 6126.629\\ \\mathrm{kg} \\cdot \\mathrm{m}^{2} \\cdot \\mathrm{s}^{-3} \\cdot \\mathrm{K}^{-1} }{ 41792.449\\ \\mathrm{kg} \\cdot \\mathrm{m}^{2} \\cdot \\mathrm{s}^{-3} \\cdot \\mathrm{K}^{-1} } &= 0.147  \n",
       "\\end{aligned}\n",
       "\\]"
      ],
      "text/plain": [
       "<IPython.core.display.Latex object>"
      ]
     },
     "metadata": {},
     "output_type": "display_data"
    }
   ],
   "source": [
    "%%render\n",
    "C_r = C_h/C_c"
   ]
  },
  {
   "cell_type": "markdown",
   "id": "4ba0a187",
   "metadata": {},
   "source": [
    "Notemos que calculamos el coeficiente global de transferencia de calor basado en área interna. Por lo tanto, para el calculo de NTU utilizaremos esa área."
   ]
  },
  {
   "cell_type": "code",
   "execution_count": 10,
   "id": "44c55144",
   "metadata": {},
   "outputs": [
    {
     "data": {
      "text/latex": [
       "\\[\n",
       "\\begin{aligned}\n",
       "A_{i} &= \\beta_{lat} \\cdot \\frac{ A_{ic} \\cdot L_{ic} }{ m }  = 59.200 \\cdot \\frac{ 480000.000\\ \\mathrm{mm}^{2} \\cdot 600.000\\ \\mathrm{mm} }{ m } &= 17.050\\ \\mathrm{m}^{2}  \n",
       "\\\\[10pt]\n",
       "\\mathrm{NTU} &= \\frac{ U \\cdot A_{i} }{ C_{h} }  = \\frac{ 177.477\\ \\mathrm{kg} \\cdot \\mathrm{s}^{-3} \\cdot \\mathrm{K}^{-1} \\cdot 17.050\\ \\mathrm{m}^{2} }{ 6126.629\\ \\mathrm{kg} \\cdot \\mathrm{m}^{2} \\cdot \\mathrm{s}^{-3} \\cdot \\mathrm{K}^{-1} } &= 0.494  \n",
       "\\\\[10pt]\n",
       "\\epsilon &= 1 - \\mathrm{np.exp} { \\left( \\frac{ \\mathrm{np.exp} { \\left( \\left( - C_{r} \\right) \\cdot \\mathrm{NTU} \\right) } - 1 }{ C_{r} } \\right) }  = 1 - np.exp { \\left( \\frac{ np.exp { \\left( \\left( - 0.147 \\right) \\cdot 0.494 \\right) } - 1 }{ 0.147 } \\right) } &= 0.379  \n",
       "\\end{aligned}\n",
       "\\]"
      ],
      "text/plain": [
       "<IPython.core.display.Latex object>"
      ]
     },
     "metadata": {},
     "output_type": "display_data"
    }
   ],
   "source": [
    "%%render\n",
    "A_i = beta_lat * (A_ic * L_ic) / m\n",
    "NTU = (U*A_i)/C_h\n",
    "epsilon = 1 - np.exp( (np.exp(-C_r*NTU)-1) / C_r)"
   ]
  },
  {
   "cell_type": "markdown",
   "id": "678311d0",
   "metadata": {},
   "source": [
    "Primero calculamos la temperatura del aire a la salida"
   ]
  },
  {
   "cell_type": "code",
   "execution_count": 11,
   "id": "ba661afc",
   "metadata": {},
   "outputs": [
    {
     "data": {
      "text/latex": [
       "\\[\n",
       "\\begin{aligned}\n",
       "T_{hi} &= 450 \\cdot K  = 450 \\cdot K &= 450.000\\ \\mathrm{°C}  \n",
       "\\\\[10pt]\n",
       "T_{ci} &= 310 \\cdot K  = 310 \\cdot K &= 310.000\\ \\mathrm{°C}  \n",
       "\\\\[10pt]\n",
       "T_{ho} &= T_{hi} - \\epsilon \\cdot \\left( T_{hi} - T_{ci} \\right)  = 450.000\\ \\mathrm{°C} - 0.379 \\cdot \\left( 450.000\\ \\mathrm{°C} - 310.000\\ \\mathrm{°C} \\right) &= 396.939\\ \\mathrm{°C}  \n",
       "\\end{aligned}\n",
       "\\]"
      ],
      "text/plain": [
       "<IPython.core.display.Latex object>"
      ]
     },
     "metadata": {},
     "output_type": "display_data"
    }
   ],
   "source": [
    "%%render\n",
    "T_hi = 450 * K\n",
    "T_ci = 310 * K\n",
    "T_ho = T_hi - epsilon * (T_hi-T_ci)"
   ]
  },
  {
   "cell_type": "markdown",
   "id": "68beab18",
   "metadata": {},
   "source": [
    "Ahora pudemos calcular la temperatura del fluido frío mediante balance de energía"
   ]
  },
  {
   "cell_type": "code",
   "execution_count": 12,
   "id": "0fb6bbb7",
   "metadata": {},
   "outputs": [
    {
     "data": {
      "text/latex": [
       "\\[\n",
       "\\begin{aligned}\n",
       "T_{co} &= \\left( T_{hi} - T_{ho} \\right) \\cdot C_{r} + T_{ci}  = \\left( 450.000\\ \\mathrm{°C} - 396.939\\ \\mathrm{°C} \\right) \\cdot 0.147 + 310.000\\ \\mathrm{°C} &= 317.779\\ \\mathrm{°C}  \n",
       "\\end{aligned}\n",
       "\\]"
      ],
      "text/plain": [
       "<IPython.core.display.Latex object>"
      ]
     },
     "metadata": {},
     "output_type": "display_data"
    }
   ],
   "source": [
    "%%render\n",
    "T_co = (T_hi-T_ho) * C_r + T_ci"
   ]
  },
  {
   "cell_type": "markdown",
   "id": "45b5cfeb",
   "metadata": {},
   "source": [
    "El agua tan solo cambia levemente su temperatura. Nótese que en estricto rigor deberíamos re-evaluar las propiedades termofísicas de ambas corrientes a la temperatura promedio."
   ]
  },
  {
   "cell_type": "markdown",
   "id": "208f98aa",
   "metadata": {},
   "source": [
    "### Método 2: $F_t$ \n",
    "\n",
    "Notar que ya calculamos la efectividad. Ah"
   ]
  },
  {
   "cell_type": "markdown",
   "id": "9307e945",
   "metadata": {},
   "source": [
    "En este caso, el fluido que se calienta (agua) tiene mayor capacidad que el fluido que se enfría. Por lo tanto, la razón entre el cambio de temperatura del fluido que se enfría y el que se calienta es igual a $1/C_r$."
   ]
  },
  {
   "cell_type": "code",
   "execution_count": 13,
   "id": "c0034d22",
   "metadata": {},
   "outputs": [
    {
     "data": {
      "text/latex": [
       "\\[\n",
       "\\begin{aligned}\n",
       "Z &= \\frac{ 1 }{ C_{r} }  = \\frac{ 1 }{ 0.147 } &= 6.821  \n",
       "\\\\[10pt]\n",
       "P &= \\frac{ T_{co} - T_{ci} }{ T_{hi} - T_{ci} }  = \\frac{ 317.779\\ \\mathrm{°C} - 310.000\\ \\mathrm{°C} }{ 450.000\\ \\mathrm{°C} - 310.000\\ \\mathrm{°C} } &= 0.056  \n",
       "\\end{aligned}\n",
       "\\]"
      ],
      "text/plain": [
       "<IPython.core.display.Latex object>"
      ]
     },
     "metadata": {},
     "output_type": "display_data"
    }
   ],
   "source": [
    "%%render\n",
    "Z = 1/C_r\n",
    "P = (T_co - T_ci)/(T_hi-T_ci)"
   ]
  },
  {
   "cell_type": "markdown",
   "id": "b2622598",
   "metadata": {},
   "source": [
    "Para estas condiciones, $F_T \\approx 0.99 $"
   ]
  },
  {
   "cell_type": "code",
   "execution_count": 14,
   "id": "7087c166",
   "metadata": {},
   "outputs": [
    {
     "data": {
      "text/latex": [
       "\\[\n",
       "\\begin{aligned}\n",
       "\\mathrm{dT}_{ml} &= \\frac{ \\left( T_{hi} - T_{co} \\right) - \\left( T_{ho} - T_{ci} \\right) }{ \\mathrm{np.log} { \\left( \\frac{ T_{hi} - T_{co} }{ T_{ho} - T_{ci} } \\right) } } \\\\&= \\frac{ \\left( 450.000\\ \\mathrm{°C} - 317.779\\ \\mathrm{°C} \\right) - \\left( 396.939\\ \\mathrm{°C} - 310.000\\ \\mathrm{°C} \\right) }{ np.log { \\left( \\frac{ 450.000\\ \\mathrm{°C} - 317.779\\ \\mathrm{°C} }{ 396.939\\ \\mathrm{°C} - 310.000\\ \\mathrm{°C} } \\right) } } \\\\&= 108.002\\ \\mathrm{°C}  \\\\[10pt]\n",
       "\\end{aligned}\n",
       "\\]"
      ],
      "text/plain": [
       "<IPython.core.display.Latex object>"
      ]
     },
     "metadata": {},
     "output_type": "display_data"
    }
   ],
   "source": [
    "%%render\n",
    "dT_ml = ((T_hi-T_co) - (T_ho-T_ci)) / np.log((T_hi-T_co)/(T_ho-T_ci))"
   ]
  },
  {
   "cell_type": "markdown",
   "id": "c18a9a07",
   "metadata": {},
   "source": [
    "### Chequeo"
   ]
  },
  {
   "cell_type": "code",
   "execution_count": 15,
   "id": "54e9b0b6",
   "metadata": {},
   "outputs": [
    {
     "data": {
      "text/latex": [
       "\\[\n",
       "\\begin{aligned}\n",
       "F_{t} &= 0.990 \\; \n",
       "\\\\[10pt]\n",
       "Q &= U \\cdot A_{i} \\cdot \\mathrm{dT}_{ml} \\cdot F_{t} \\\\&= 177.477\\ \\mathrm{kg} \\cdot \\mathrm{s}^{-3} \\cdot \\mathrm{K}^{-1} \\cdot 17.050\\ \\mathrm{m}^{2} \\cdot 108.002\\ \\mathrm{°C} \\cdot 0.990 \\\\&= 323.538\\ \\mathrm{kW}  \\\\[10pt]\n",
       "\\end{aligned}\n",
       "\\]"
      ],
      "text/plain": [
       "<IPython.core.display.Latex object>"
      ]
     },
     "metadata": {},
     "output_type": "display_data"
    }
   ],
   "source": [
    "%%render\n",
    "F_t = 0.99\n",
    "Q = U*A_i * dT_ml * F_t"
   ]
  },
  {
   "cell_type": "code",
   "execution_count": 16,
   "id": "b84e6739",
   "metadata": {},
   "outputs": [
    {
     "data": {
      "text/latex": [
       "\\[\n",
       "\\begin{aligned}\n",
       "T_{co2} &= T_{ci} + \\frac{ Q }{ C_{c} }  = 310.000\\ \\mathrm{°C} + \\frac{ 323.538\\ \\mathrm{kW} }{ 41792.449\\ \\mathrm{kg} \\cdot \\mathrm{m}^{2} \\cdot \\mathrm{s}^{-3} \\cdot \\mathrm{K}^{-1} } &= 317.742\\ \\mathrm{°C}  \n",
       "\\end{aligned}\n",
       "\\]"
      ],
      "text/plain": [
       "<IPython.core.display.Latex object>"
      ]
     },
     "metadata": {},
     "output_type": "display_data"
    }
   ],
   "source": [
    "%%render\n",
    "T_co2 = T_ci + Q/C_c"
   ]
  },
  {
   "cell_type": "markdown",
   "id": "832fdc7f",
   "metadata": {},
   "source": [
    "Por lo tanto, el método efectividad-NTU entregó excelentes resultados que son consistentes con el método $\\Delta T_{ml}$"
   ]
  }
 ],
 "metadata": {
  "kernelspec": {
   "display_name": "Python 3 (ipykernel)",
   "language": "python",
   "name": "python3"
  },
  "language_info": {
   "codemirror_mode": {
    "name": "ipython",
    "version": 3
   },
   "file_extension": ".py",
   "mimetype": "text/x-python",
   "name": "python",
   "nbconvert_exporter": "python",
   "pygments_lexer": "ipython3",
   "version": "3.11.7"
  }
 },
 "nbformat": 4,
 "nbformat_minor": 5
}