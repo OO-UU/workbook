{
 "cells": [
  {
   "cell_type": "markdown",
   "id": "29b92630-231a-40d9-933b-26e63c775fc3",
   "metadata": {},
   "source": [
    "# IIQ2013 - Clase 15"
   ]
  },
  {
   "cell_type": "markdown",
   "id": "c3745b57-2da2-42cb-b385-a828ec6b3e89",
   "metadata": {},
   "source": [
    "Se utilizaron los siguientes paquetes."
   ]
  },
  {
   "cell_type": "code",
   "execution_count": 1,
   "id": "33cd4aea-d626-474d-a906-ea40c1da67a1",
   "metadata": {},
   "outputs": [],
   "source": [
    "import handcalcs.render\n",
    "from numpy import log, sqrt"
   ]
  },
  {
   "cell_type": "markdown",
   "id": "6a502244-4004-47ee-b113-7cfd8264597b",
   "metadata": {},
   "source": [
    "## Pregunta 1"
   ]
  },
  {
   "cell_type": "markdown",
   "id": "8828c4ce-d7e8-4c91-8e49-83ecf4cc2664",
   "metadata": {},
   "source": [
    "Determine el factor de corrección $F_T$ para el caso de un intercambiador de calor de tubos y carcasa (**ICTC**) tipo 1-2n en el que se enfrían $1500~\\text{kg/h}$ de agua a $80~\\text{°C}$ usando $2200~\\text{kg/h}$ de agua a $18~\\text{°C}$ como líquido refrigerante, el cual se puede calentar hasta $42~\\text{°C}$:"
   ]
  },
  {
   "cell_type": "markdown",
   "id": "d9328968-c6c9-4468-b094-abd47da241be",
   "metadata": {},
   "source": [
    "a) $F_T \\leq 0.80$ \\\n",
    "b) $0.80 < F_T \\leq 0.82$ \\\n",
    "c) $0.82 < F_T \\leq 0.85$ \\\n",
    "d) $FT > 0.85$"
   ]
  },
  {
   "cell_type": "markdown",
   "id": "186e372b-ad5f-4f0c-ac11-b83227168f1f",
   "metadata": {},
   "source": [
    "## Solución"
   ]
  },
  {
   "cell_type": "markdown",
   "id": "2a60f31e-6d7e-452c-b32c-b1600b106d19",
   "metadata": {},
   "source": [
    "A partir de la razón de temperaturas, tenemos que en este caso en particular.\n",
    "\n",
    "$$\n",
    "Z = \\frac{T_{h,e}-T_{h,s}}{T_{c,s}-T_{c,e}} = \\frac{\\dot{m}_c}{\\dot{m}_h}\n",
    "$$"
   ]
  },
  {
   "cell_type": "markdown",
   "id": "b8e4fb93-6596-403e-84a2-fb691df0cb39",
   "metadata": {},
   "source": [
    "Luego la temperatura de salida será:\n",
    "\n",
    "$$\n",
    "T_{h,s} = T_{h,e} - Z(T_{c,s}-T_{c,e})\n",
    "$$"
   ]
  },
  {
   "cell_type": "code",
   "execution_count": 2,
   "id": "85cd4df6-55cf-4fa2-b5cd-c3ba62a1e06a",
   "metadata": {},
   "outputs": [
    {
     "data": {
      "text/latex": [
       "\\[\n",
       "\\begin{aligned}\n",
       "m_{c} &= 2200 \\; \\;\\textrm{(kg/h)}\n",
       " &T_{ce} &= 291.150 \\; \\;\\textrm{(K)}\n",
       " &T_{cs} &= 315.150 \\; \\;\\textrm{(K)}\n",
       "\\\\[10pt]\n",
       " m_{h} &= 1500 \\; \\;\\textrm{(kg/h)}\n",
       " &T_{he} &= 353.150 \\; \\;\\textrm{(K)}\n",
       "\\end{aligned}\n",
       "\\]"
      ],
      "text/plain": [
       "<IPython.core.display.Latex object>"
      ]
     },
     "metadata": {},
     "output_type": "display_data"
    }
   ],
   "source": [
    "%%render params\n",
    "m_c = 2200 #kg/h\n",
    "T_ce = 18+273.15 #K\n",
    "T_cs = 42+273.15 #K\n",
    "m_h = 1500 #kg/h\n",
    "T_he = 80+273.15 #K"
   ]
  },
  {
   "cell_type": "code",
   "execution_count": 3,
   "id": "b1d594d6-ab20-4b4d-93c2-1fc5a02ef73e",
   "metadata": {},
   "outputs": [
    {
     "data": {
      "text/latex": [
       "\\[\n",
       "\\begin{aligned}\n",
       "Z &= \\frac{ m_{c} }{ m_{h} } \\\\&= \\frac{ 2200 }{ 1500 } \\\\&= 1.467  \\\\[10pt]\n",
       "\\\\[10pt]\n",
       "T_{hs} &= T_{he} - Z \\cdot \\left( T_{cs} - T_{ce} \\right) \\\\&= 353.150 - 1.467 \\cdot \\left( 315.150 - 291.150 \\right) \\\\&= 317.950  \\\\[10pt]\n",
       "\\end{aligned}\n",
       "\\]"
      ],
      "text/plain": [
       "<IPython.core.display.Latex object>"
      ]
     },
     "metadata": {},
     "output_type": "display_data"
    }
   ],
   "source": [
    "%%render long\n",
    "Z = m_c/m_h\n",
    "T_hs = T_he - Z*(T_cs-T_ce)"
   ]
  },
  {
   "cell_type": "markdown",
   "id": "867b23fd-02b4-4154-ac1d-780a9c54c712",
   "metadata": {},
   "source": [
    "Luego la eficiencia de temperatura.\n",
    "\n",
    "$$\n",
    "\\eta_H = \\frac{T_{c,s}-T_{c,e}}{T_{h,e}-T_{c,e}}\n",
    "$$"
   ]
  },
  {
   "cell_type": "markdown",
   "id": "2c346e85-fe1d-4d1a-930f-c48b08f60167",
   "metadata": {},
   "source": [
    "En donde el factor de corrección es:\n",
    "\n",
    "$$\n",
    "F_T = \\frac{\\sqrt{Z^2+1}\\ln\\left(\\frac{1-\\eta_H}{1-\\eta_HZ}\\right)}{(Z-1)\\ln\\left(\\frac{2-\\eta_H\\left(Z+1-\\sqrt{Z^2+1}\\right)}{2-\\eta_H\\left(Z+1+\\sqrt{Z^2+1}\\right)}\\right)}\n",
    "$$"
   ]
  },
  {
   "cell_type": "code",
   "execution_count": 4,
   "id": "aac3bf27-38a7-4e21-9fc8-a9ba2b54bea6",
   "metadata": {},
   "outputs": [
    {
     "data": {
      "text/latex": [
       "\\[\n",
       "\\begin{aligned}\n",
       "\\eta_{H} &= \\frac{ T_{cs} - T_{ce} }{ T_{he} - T_{ce} } \\\\&= \\frac{ 315.150 - 291.150 }{ 353.150 - 291.150 } \\\\&= 0.387  \\\\[10pt]\n",
       "\\\\[10pt]\n",
       "F_{T} &= \\frac{ \\sqrt { \\left( Z \\right) ^{ 2 } + 1 } \\cdot \\ln \\left( \\frac{ 1 - \\eta_{H} }{ 1 - \\eta_{H} \\cdot Z } \\right) }{ \\left( Z - 1 \\right) \\cdot \\ln \\left( \\frac{ 2 - \\eta_{H} \\cdot \\left( Z + 1 - \\sqrt { \\left( Z \\right) ^{ 2 } + 1 } \\right) }{ 2 - \\eta_{H} \\cdot \\left( Z + 1 + \\sqrt { \\left( Z \\right) ^{ 2 } + 1 } \\right) } \\right) } \\\\&= \\frac{ \\sqrt { \\left( 1.467 \\right) ^{ 2 } + 1 } \\cdot \\ln \\left( \\frac{ 1 - 0.387 }{ 1 - 0.387 \\cdot 1.467 } \\right) }{ \\left( 1.467 - 1 \\right) \\cdot \\ln \\left( \\frac{ 2 - 0.387 \\cdot \\left( 1.467 + 1 - \\sqrt { \\left( 1.467 \\right) ^{ 2 } + 1 } \\right) }{ 2 - 0.387 \\cdot \\left( 1.467 + 1 + \\sqrt { \\left( 1.467 \\right) ^{ 2 } + 1 } \\right) } \\right) } \\\\&= 0.842  \\\\[10pt]\n",
       "\\end{aligned}\n",
       "\\]"
      ],
      "text/plain": [
       "<IPython.core.display.Latex object>"
      ]
     },
     "metadata": {},
     "output_type": "display_data"
    }
   ],
   "source": [
    "%%render long\n",
    "eta_H = (T_cs-T_ce)/(T_he-T_ce)\n",
    "F_T = (sqrt(Z**2+1)*log((1-eta_H)/(1-eta_H*Z)))/((Z-1)*log((2-eta_H*(Z+1-sqrt(Z**2+1)))/(2-eta_H*(Z+1+sqrt(Z**2+1)))))"
   ]
  },
  {
   "cell_type": "markdown",
   "id": "6a5069ab-2d6e-4814-8837-43a339b4b210",
   "metadata": {},
   "source": [
    "Por lo tanto, la alternativa correcta es la **c**."
   ]
  },
  {
   "cell_type": "markdown",
   "id": "188a4ee1-e047-4431-b768-6d9f9669a90d",
   "metadata": {},
   "source": [
    "## Pregunta 2"
   ]
  },
  {
   "cell_type": "markdown",
   "id": "009e452c-aa8a-4e04-82a9-b85d175b03d3",
   "metadata": {},
   "source": [
    "Se pretende enfriar $1500~\\text{kg/h}$ de agua a $80~\\text{°C}$ usando $2200~\\text{kg/h}$ de agua a $18~\\text{°C}$ como líquido refrigerante. Discuta con su compañero por qué no es posible hacer esto en un ICTC tipo 1-2n cuando el agua de enfriamiento se calienta a $50~\\text{°C}$."
   ]
  },
  {
   "cell_type": "markdown",
   "id": "44794a4a-a49c-4997-bda1-0060c2bef6dd",
   "metadata": {},
   "source": [
    "<br><br/>\n",
    "<br><br/>\n",
    "<br><br/>\n",
    "<br><br/>"
   ]
  },
  {
   "cell_type": "markdown",
   "id": "a931626a-b745-4c74-ac72-5d624b8aa9cf",
   "metadata": {},
   "source": [
    "## Solución"
   ]
  },
  {
   "cell_type": "markdown",
   "id": "3357303e-a37a-42a4-a106-c7a076529bcc",
   "metadata": {},
   "source": [
    "Los flujos se mantienen constantes, por lo tanto, nuestra razón de temperaturas es constante también. Podemos entonces calcular el nuevo $\\eta_H$ y buscar el factor de corrección."
   ]
  },
  {
   "cell_type": "code",
   "execution_count": 5,
   "id": "f02a6185-652d-467e-a323-ed2797ef229b",
   "metadata": {},
   "outputs": [
    {
     "data": {
      "text/latex": [
       "\\[\n",
       "\\begin{aligned}\n",
       "T_{cs} &= 50 + 273.15 &= 323.150 \\; \\;\\textrm{(K)}\n",
       "\\\\[10pt]\n",
       "T_{hs} &= T_{he} - Z \\cdot \\left( T_{cs} - T_{ce} \\right) \\\\&= 353.150 - 1.467 \\cdot \\left( 323.150 - 291.150 \\right) \\\\&= 306.217  \\\\[10pt]\n",
       "\\\\[10pt]\n",
       "\\eta_{H} &= \\frac{ T_{cs} - T_{ce} }{ T_{he} - T_{ce} } \\\\&= \\frac{ 323.150 - 291.150 }{ 353.150 - 291.150 } \\\\&= 0.516  \\\\[10pt]\n",
       "\\end{aligned}\n",
       "\\]"
      ],
      "text/plain": [
       "<IPython.core.display.Latex object>"
      ]
     },
     "metadata": {},
     "output_type": "display_data"
    }
   ],
   "source": [
    "%%render long\n",
    "T_cs = 50+273.15 #K\n",
    "T_hs = T_he - Z*(T_cs-T_ce)\n",
    "eta_H = (T_cs-T_ce)/(T_he-T_ce)"
   ]
  },
  {
   "cell_type": "markdown",
   "id": "6f712ea4-e763-4692-a875-c123218ba744",
   "metadata": {},
   "source": [
    "Notamos que en la gráfica, el $0.5$ se encuentra después de la curva donde $Z\\approx1.4$ por lo tanto, el valor del factor de corrección no existe y el diseño de este intercambiador es imposible."
   ]
  },
  {
   "cell_type": "markdown",
   "id": "7023b84f-b9cc-435b-9cad-9ab41f326263",
   "metadata": {},
   "source": [
    "## Pregunta 3"
   ]
  },
  {
   "cell_type": "markdown",
   "id": "ab9405e3-3889-43f8-8ca4-00020ba2fc27",
   "metadata": {},
   "source": [
    "Determine la máxima temperatura a la cual se puede calentar el agua de enfriamiento, y para la cual dicho intercambiador de calor opera marginalmente. ¿Qué valor de $F_T$ se debe asumir en estos casos? Utilice las curvas para el factor de corrección, $F_T$ de la temperatura media logarítmica para contacto a contracorrientes, $(\\Delta T_{ml})_{CC}$ , para un ICTC tipo 1-2n."
   ]
  },
  {
   "cell_type": "markdown",
   "id": "b17e19a8-2799-4dce-89b7-16fadff58e6f",
   "metadata": {},
   "source": [
    "a) $T_{cs} \\approx 36~\\text{°C}$\\\n",
    "b) $T_{cs} \\approx 40~\\text{°C}$\\\n",
    "c) $T_{cs} \\approx 44~\\text{°C}$\\\n",
    "d) $T_{cs} \\approx 48~\\text{°C}$"
   ]
  },
  {
   "cell_type": "markdown",
   "id": "bb3136c7-14c2-454e-b3fa-5e532fcce5f8",
   "metadata": {},
   "source": [
    "## Solución"
   ]
  },
  {
   "cell_type": "markdown",
   "id": "b0096725-b2b0-40b6-9ec6-4232eb157a95",
   "metadata": {},
   "source": [
    "Aproximando $Z\\approx 1.4$ utilizamos el gráfico, notamos que el valor máximo que puede tomar la eficiencia de temperaturas es de $\\eta_H\\approx0.425$ Cuando $F_T$ toma su mínimo valor de 0.75. Bajo estos supuestos podemos obtener $T_{c,s}$"
   ]
  },
  {
   "cell_type": "code",
   "execution_count": 6,
   "id": "a1ea3d6e-3550-4ed2-a8f1-041f598baba4",
   "metadata": {},
   "outputs": [
    {
     "data": {
      "text/latex": [
       "\\[\n",
       "\\begin{aligned}\n",
       "\\eta_{H} &= 0.425 \\; \n",
       "\\\\[10pt]\n",
       "T_{cs} &= T_{ce} + \\eta_{H} \\cdot \\left( T_{he} - T_{ce} \\right) - 273.15 \\\\&= 291.150 + 0.425 \\cdot \\left( 353.150 - 291.150 \\right) - 273.15 \\\\&= 44.350 \\; \\;\\textrm{($^\\circ$C)}\\\\[10pt]\n",
       "\\end{aligned}\n",
       "\\]"
      ],
      "text/plain": [
       "<IPython.core.display.Latex object>"
      ]
     },
     "metadata": {},
     "output_type": "display_data"
    }
   ],
   "source": [
    "%%render long\n",
    "eta_H = 0.425\n",
    "T_cs = T_ce + eta_H*(T_he-T_ce) - 273.15 #$^\\circ$C"
   ]
  },
  {
   "cell_type": "markdown",
   "id": "8e6de000-58bd-4e35-b24a-755528ff8077",
   "metadata": {},
   "source": [
    "Por lo tanto, la alternativa correcta es la **c**."
   ]
  },
  {
   "cell_type": "code",
   "execution_count": null,
   "id": "dbd5d6cd-413f-4678-9e99-c420dcb8b6b5",
   "metadata": {},
   "outputs": [],
   "source": []
  }
 ],
 "metadata": {
  "kernelspec": {
   "display_name": "Python 3 (ipykernel)",
   "language": "python",
   "name": "python3"
  },
  "language_info": {
   "codemirror_mode": {
    "name": "ipython",
    "version": 3
   },
   "file_extension": ".py",
   "mimetype": "text/x-python",
   "name": "python",
   "nbconvert_exporter": "python",
   "pygments_lexer": "ipython3",
   "version": "3.11.7"
  }
 },
 "nbformat": 4,
 "nbformat_minor": 5
}