{
 "cells": [
  {
   "cell_type": "markdown",
   "id": "9c0714ac",
   "metadata": {},
   "source": [
    "# IIQ2013 - Clase 22"
   ]
  },
  {
   "cell_type": "markdown",
   "id": "ff8f2d1e-ada7-482c-8d22-eafa65425ed9",
   "metadata": {},
   "source": [
    "## Pregunta 1"
   ]
  },
  {
   "cell_type": "markdown",
   "id": "3262c7fc-0b6a-4242-b791-3222693a8e15",
   "metadata": {},
   "source": [
    "¿Cuál de los siguientes ordenamientos es correcto al clasificar los equipos de evaporación según su capacidad de trabajar con fluidos de viscosidad decreciente?"
   ]
  },
  {
   "cell_type": "markdown",
   "id": "e45d1744-7109-4466-8d4c-076b6ed3ba63",
   "metadata": {},
   "source": [
    "(a) Película agitada $>$ película ascendente $>$ convección forzada $>$ tubos cortos verticales \\\n",
    "(b) Película agitada $>$ convección forzada $>$ película ascendente $>$ tubos cortos verticales \\\n",
    "(c) Convección forzada $>$ película agitada $>$ tubos cortos verticales $>$ película ascendente \\\n",
    "(d) Convección forzada $>$ película agitada $>$ película ascendente $>$ tubos cortos verticales "
   ]
  },
  {
   "cell_type": "markdown",
   "id": "30214acc-03c0-4d8f-aa99-a05185fbedb7",
   "metadata": {},
   "source": [
    "## Pregunta 2"
   ]
  },
  {
   "cell_type": "markdown",
   "id": "71d809d8-2286-4311-a83b-216483a8e672",
   "metadata": {},
   "source": [
    "Se puede afirmar lo siguiente sobre equipos de evaporación química:"
   ]
  },
  {
   "cell_type": "markdown",
   "id": "d8646144-3b3a-41d8-9285-8c5affc1a77c",
   "metadata": {},
   "source": [
    "(a) Los evaporadores de un solo efecto son recomendables para concentrar materiales termosensibles. \\\n",
    "(b) En el caso de fluidos poco viscosos la mejora que otorga la circulación forzada no compensa los costos\n",
    "adicionales del bombeo con respecto a circulación natural. \\\n",
    "(c) Ambas (a) y (b) son estrictamente verdaderas. \\\n",
    "(d) Ni (a) ni (b) son estrictamente verdaderas."
   ]
  },
  {
   "cell_type": "markdown",
   "id": "f832653c-ae4e-4a87-99be-3e3e966f7d32",
   "metadata": {},
   "source": [
    "## Preguntas 3-6"
   ]
  },
  {
   "cell_type": "markdown",
   "id": "a20f17c0-bfdb-457b-9658-ecb8a12af470",
   "metadata": {},
   "source": [
    "Se desea concentrar 30 ton/h de una solución acuosa con 5% (w/w) de hidróxido de sodio (NaOH) y a 100 °C\n",
    "usando un evaporador de tubos cortos verticales. Las figuras adjuntas representan la elevación del punto de\n",
    "ebullición (izquierda) y la entalpia (derecha) de las soluciones acuosas de NaOH.\n"
   ]
  },
  {
   "cell_type": "code",
   "execution_count": 1,
   "id": "272c58ec",
   "metadata": {},
   "outputs": [],
   "source": [
    "import handcalcs.render\n",
    "import forallpeople\n",
    "import numpy as np\n",
    "import forallpeople as si\n",
    "from CoolProp.CoolProp import PropsSI"
   ]
  },
  {
   "cell_type": "code",
   "execution_count": 2,
   "id": "a78f6653",
   "metadata": {},
   "outputs": [],
   "source": [
    "si.environment('default', top_level=True)"
   ]
  },
  {
   "cell_type": "markdown",
   "id": "0e7b1db1-b760-4912-b377-bb1ca668b614",
   "metadata": {},
   "source": [
    "## Pregunta 3"
   ]
  },
  {
   "cell_type": "markdown",
   "id": "a30617fd-c3a4-417a-90ad-253286e66c13",
   "metadata": {},
   "source": [
    "Si el evaporador concentra la hasta $40~\\%$ (w/w) de NaOH, éste produce aproximadamente:"
   ]
  },
  {
   "cell_type": "markdown",
   "id": "578da53d-19b5-49a2-8e14-dc8709793ea3",
   "metadata": {},
   "source": [
    "(a) $P$ $>$ $5$ $\\text{ton/h}$ de solución concentrada de NaOH\\\n",
    "(b) $4$ $<$ $P$ $\\leq$ $5$ $\\text{ton/h}$ de solución concentrada de NaOH\\\n",
    "(c) $3$ $<$ $P$ $\\leq$ $4$ $\\text{ton/h}$ de solución concentrada de NaOH\\\n",
    "(d) $P$ $\\leq$ $3$ $\\text{ton/h}$ de solución concentrada de NaOH"
   ]
  },
  {
   "cell_type": "markdown",
   "id": "58226edd-f7a1-4ba7-adaa-61c32f328e0d",
   "metadata": {},
   "source": [
    "## Solución"
   ]
  },
  {
   "cell_type": "markdown",
   "id": "3b4fbfb0-ca70-40b2-99e2-36b45753a85f",
   "metadata": {},
   "source": [
    "El flujo másico de producto se puede calcular directamente del balance de masa de soluto."
   ]
  },
  {
   "cell_type": "code",
   "execution_count": 3,
   "id": "17e5303d",
   "metadata": {},
   "outputs": [
    {
     "data": {
      "text/latex": [
       "\\[\n",
       "\\begin{aligned}\n",
       "F &= 30 \\cdot \\frac{ 1000 }{ 3600 } \\cdot \\frac{ \\mathrm{kg} }{ s }  = 30 \\cdot \\frac{ 1000 }{ 3600 } \\cdot \\frac{ kg }{ s } &= 8.333\\ \\mathrm{kg} \\cdot \\mathrm{s}^{-1}  \n",
       "\\\\[10pt]\n",
       "w_{F} &= 0.050 \\; \n",
       "\\\\[10pt]\n",
       "w_{L} &= 0.400 \\; \n",
       "\\\\[10pt]\n",
       "L &= F \\cdot \\left( \\frac{ w_{F} }{ w_{L} } \\right)  = 8.333\\ \\mathrm{kg} \\cdot \\mathrm{s}^{-1} \\cdot \\left( \\frac{ 0.050 }{ 0.400 } \\right) &= 1.042\\ \\mathrm{kg} \\cdot \\mathrm{s}^{-1}  \n",
       "\\end{aligned}\n",
       "\\]"
      ],
      "text/plain": [
       "<IPython.core.display.Latex object>"
      ]
     },
     "metadata": {},
     "output_type": "display_data"
    }
   ],
   "source": [
    "%%render\n",
    "F = 30 * 1000 / 3600 * kg / s\n",
    "w_F = 0.05\n",
    "w_L = 0.4\n",
    "L = F*(w_F/w_L)"
   ]
  },
  {
   "cell_type": "markdown",
   "id": "e358af43",
   "metadata": {},
   "source": [
    "Escribimos esta cantidad en toneladas por hora multiplicando por 3600/1000"
   ]
  },
  {
   "cell_type": "code",
   "execution_count": 4,
   "id": "64a2cb9c",
   "metadata": {},
   "outputs": [
    {
     "name": "stdout",
     "output_type": "stream",
     "text": [
      "El flujo de producto es P = 3.750 ton/h\n"
     ]
    }
   ],
   "source": [
    "P = L.value * 3600 / 1000\n",
    "print('El flujo de producto es P = %.3f ton/h' % P)"
   ]
  },
  {
   "cell_type": "markdown",
   "id": "b37fbcb0",
   "metadata": {},
   "source": [
    "Por lo tanto, la alternativa correcta es **c)**."
   ]
  },
  {
   "cell_type": "markdown",
   "id": "309741fa",
   "metadata": {},
   "source": [
    "## Pregunta 4"
   ]
  },
  {
   "cell_type": "markdown",
   "id": "16b7f049-8422-45aa-baa5-139b009ea8d9",
   "metadata": {},
   "source": [
    "Si el evaporador opera a $p = 0.135~\\text{bar}$ $\\left[~T_v(p) = 52~\\text{°C};~\\lambda_{lv}(p) = 567.9~\\text{kcal/kg}~\\right]$, la temperatura de operación del mismo es aproximadamente la siguiente:"
   ]
  },
  {
   "cell_type": "markdown",
   "id": "2ba71f70-a9d6-4945-a3a4-ae412cac0bfe",
   "metadata": {},
   "source": [
    "(a) $T$ $>$ $75$ $\\text{°C}$\\\n",
    "(b) $65$ $<$ $T$ $\\leq$ $75$ $\\text{°C}$\\\n",
    "(c) $55$ $<$ $T$ $\\leq$ $65$ $\\text{°C}$\\\n",
    "(d) $T$ $\\leq$ $55$ $\\text{°C}$"
   ]
  },
  {
   "cell_type": "markdown",
   "id": "59d73d4d-b5fc-44a2-8e67-d5b034969b89",
   "metadata": {},
   "source": [
    "## Solución"
   ]
  },
  {
   "cell_type": "markdown",
   "id": "e3483cb6",
   "metadata": {},
   "source": [
    "Del gráfico obtenemos la elevación del punto de ebullición en el evaporador. Para esto, utilizamos la curva de elevación de la temperatura de ebullición de la solución para una concentración de 40%. Considerando una temperatura de ebullición del agua pura igual a 52°C, $\\Delta T_e$ es aproximadamente 27.5°C.\n"
   ]
  },
  {
   "cell_type": "code",
   "execution_count": 5,
   "id": "9abdb6d6",
   "metadata": {},
   "outputs": [
    {
     "data": {
      "text/latex": [
       "\\[\n",
       "\\begin{aligned}\n",
       "p &= 0.135 \\; \n",
       "\\\\[10pt]\n",
       "T_{v} &= 52 \\cdot K  = 52 \\cdot K &= 52.000\\ \\mathrm{°C}  \n",
       "\\\\[10pt]\n",
       "\\mathrm{lambda}_{lvT} &= 567.9 \\cdot \\frac{ J }{ \\mathrm{kg} }  = 567.9 \\cdot \\frac{ J }{ kg } &= 567.900\\ \\mathrm{Gy}  \n",
       "\\\\[10pt]\n",
       "T &= T_{v} + 27.5 \\cdot K  = 52.000\\ \\mathrm{°C} + 27.5 \\cdot K &= 79.500\\ \\mathrm{°C}  \n",
       "\\end{aligned}\n",
       "\\]"
      ],
      "text/plain": [
       "<IPython.core.display.Latex object>"
      ]
     },
     "metadata": {},
     "output_type": "display_data"
    }
   ],
   "source": [
    "%%render\n",
    "p = 0.135\n",
    "T_v = 52 * K\n",
    "lambda_lvT = 567.9 * J / kg \n",
    "T = T_v + 27.5 * K"
   ]
  },
  {
   "cell_type": "markdown",
   "id": "f712fe97",
   "metadata": {},
   "source": [
    "Por lo tanto la temperatura de operación del evaporador es 79.5°C **(alternativa a)**."
   ]
  },
  {
   "cell_type": "markdown",
   "id": "802258c1",
   "metadata": {},
   "source": [
    "## Pregunta 5"
   ]
  },
  {
   "cell_type": "markdown",
   "id": "4794dbd8-be87-4cde-88a1-ee1cf53023ce",
   "metadata": {},
   "source": [
    "Si el evaporador usa vapor saturado a $9.32~\\text{bar}$ $\\left(~T_S = 177~\\text{°C}; \\lambda_S = 483.4~\\text{kcal/kg}~\\right)$ como medio calefactor, el requerimiento de vapor de este es aproximadamente la siguiente:"
   ]
  },
  {
   "cell_type": "markdown",
   "id": "54501a21-0190-4735-9845-f0ebfa591f6f",
   "metadata": {},
   "source": [
    "(a) $S$ $>$ $30$ $\\text{ton/h}$ de vapor\\\n",
    "(b) $25$ $<$ $S$ $\\leq$ $30$ $\\text{ton/h}$ de vapor\\\n",
    "(c) $20$ $<$ $S$ $\\leq$ $25$ $\\text{ton/h}$ de vapor\\\n",
    "(d) $S$ $\\leq$ $20$ $\\text{ton/h}$ de vapor"
   ]
  },
  {
   "cell_type": "markdown",
   "id": "e87fa497-fd01-434e-8410-feb37a51c33f",
   "metadata": {},
   "source": [
    "*Hint: Para el cálculo de la entalpía de la corriente de vapor sobrecalentado que se desprende del evaporador, note que se usa $T_{ref} = 0~\\text{°C}$ (agua en fase líquida) como estado de referencia en la construcción del diagrama entalpía−composición para las soluciones acuosas de NaOH, y use los siguientes valores para las capacidades caloríficas: $c_{p,l} = 1~\\text{kcal/kg}\\cdot\\text{°C}$ para agua en fase líquida, y $c_{p,g} = 0.45~\\text{kcal/kg}\\cdot\\text{°C}$ para vapor de agua.*"
   ]
  },
  {
   "cell_type": "markdown",
   "id": "eec03685-58a6-46f7-9537-e8ed1c33f8c8",
   "metadata": {},
   "source": [
    "## Solución"
   ]
  },
  {
   "cell_type": "markdown",
   "id": "52b6e215",
   "metadata": {},
   "source": [
    "Realizando un balance de energía en el evaporador, tenemos que\n",
    "\n",
    "$$ S \\Delta H_{s} = V H_V + L H_L - F H_F $$\n",
    "\n",
    "Para este ejercicio, resolveremos el balance de energía completo considerando el sobrecalentaimiento del vapour que se desprende del evaporador."
   ]
  },
  {
   "cell_type": "code",
   "execution_count": 6,
   "id": "e09f4f06",
   "metadata": {},
   "outputs": [
    {
     "data": {
      "text/latex": [
       "\\[\n",
       "\\begin{aligned}\n",
       "T_{F} &= 100.000\\ \\mathrm{°C} \\; \n",
       " &T_{s} &= 177.000\\ \\mathrm{°C} \\; \n",
       " &p_{s} &= 9.320 \\; \\;\\textrm{(Pa)}\n",
       "\\\\[10pt]\n",
       " \\mathrm{lambda}_{s} &= 483.400\\ \\mathrm{Gy} \\; \n",
       " &\\mathrm{cp}_{l} &= 1.000\\ \\mathrm{m}^{2} \\cdot \\mathrm{s}^{-2} \\cdot \\mathrm{K}^{-1} \\; \\;\\textrm{(agua)}\n",
       " &\\mathrm{cp}_{g} &= 0.450\\ \\mathrm{m}^{2} \\cdot \\mathrm{s}^{-2} \\cdot \\mathrm{K}^{-1} \\; \\;\\textrm{(vapor)}\n",
       "\\\\[10pt]\n",
       "\\end{aligned}\n",
       "\\]"
      ],
      "text/plain": [
       "<IPython.core.display.Latex object>"
      ]
     },
     "metadata": {},
     "output_type": "display_data"
    }
   ],
   "source": [
    "%%render params\n",
    "T_F = 100 * K\n",
    "T_s = 177  * K\n",
    "p_s = 9.32 # Pa\n",
    "lambda_s = 483.4 * J/kg \n",
    "cp_l = 1 * J / kg / K # agua\n",
    "cp_g = 0.45 * J / kg / K  # vapor\n",
    "\n",
    "# H_L cp_l * (T)\n",
    "# H_F = cp_l * (T_F)"
   ]
  },
  {
   "cell_type": "markdown",
   "id": "90686a45",
   "metadata": {},
   "source": [
    "Primero calculamos el flujo de vapor utilizando un balance de masa, y encontramos las entalpías de entrada y salida de la solución acuosa utilizando el gráfico de la derecha del enunciado. "
   ]
  },
  {
   "cell_type": "code",
   "execution_count": 7,
   "id": "8722e6c3",
   "metadata": {},
   "outputs": [
    {
     "data": {
      "text/latex": [
       "\\[\n",
       "\\begin{aligned}\n",
       "V &= F \\cdot \\left( 1 - \\frac{ w_{F} }{ w_{L} } \\right)  = 8.333\\ \\mathrm{kg} \\cdot \\mathrm{s}^{-1} \\cdot \\left( 1 - \\frac{ 0.050 }{ 0.400 } \\right) &= 7.292\\ \\mathrm{kg} \\cdot \\mathrm{s}^{-1}  \n",
       "\\\\[10pt]\n",
       "H_{V} &= \\mathrm{cp}_{l} \\cdot T_{v} + \\mathrm{lambda}_{lvT} + \\mathrm{cp}_{g} \\cdot \\left( T - T_{v} \\right) \\\\&= 1.000\\ \\mathrm{m}^{2} \\cdot \\mathrm{s}^{-2} \\cdot \\mathrm{K}^{-1} \\cdot 52.000\\ \\mathrm{°C} + 567.900\\ \\mathrm{Gy} + 0.450\\ \\mathrm{m}^{2} \\cdot \\mathrm{s}^{-2} \\cdot \\mathrm{K}^{-1} \\cdot \\left( 79.500\\ \\mathrm{°C} - 52.000\\ \\mathrm{°C} \\right) \\\\&= 632.275\\ \\mathrm{Gy}  \\\\[10pt]\n",
       "\\\\[10pt]\n",
       "H_{F} &= 96 \\cdot \\frac{ J }{ \\mathrm{kg} }  = 96 \\cdot \\frac{ J }{ kg } &= 96.000\\ \\mathrm{Gy}  \n",
       "\\\\[10pt]\n",
       "H_{L} &= 88 \\cdot \\frac{ J }{ \\mathrm{kg} }  = 88 \\cdot \\frac{ J }{ kg } &= 88.000\\ \\mathrm{Gy}  \n",
       "\\\\[10pt]\n",
       "S &= \\frac{ V \\cdot H_{V} + L \\cdot H_{L} - F \\cdot H_{F} }{ \\mathrm{lambda}_{s} }  = \\frac{ 7.292\\ \\mathrm{kg} \\cdot \\mathrm{s}^{-1} \\cdot 632.275\\ \\mathrm{Gy} + 1.042\\ \\mathrm{kg} \\cdot \\mathrm{s}^{-1} \\cdot 88.000\\ \\mathrm{Gy} - 8.333\\ \\mathrm{kg} \\cdot \\mathrm{s}^{-1} \\cdot 96.000\\ \\mathrm{Gy} }{ 483.400\\ \\mathrm{Gy} } &= 8.072\\ \\mathrm{kg} \\cdot \\mathrm{s}^{-1}  \n",
       "\\end{aligned}\n",
       "\\]"
      ],
      "text/plain": [
       "<IPython.core.display.Latex object>"
      ]
     },
     "metadata": {},
     "output_type": "display_data"
    }
   ],
   "source": [
    "%%render\n",
    "V = F*(1-w_F/w_L) \n",
    "H_V = cp_l * (T_v) + lambda_lvT + cp_g*(T-T_v)\n",
    "H_F = 96 * J/ kg \n",
    "H_L = 88  * J / kg \n",
    "S = (V*H_V + L*H_L - F*H_F)/lambda_s"
   ]
  },
  {
   "cell_type": "code",
   "execution_count": 8,
   "id": "66955100",
   "metadata": {},
   "outputs": [
    {
     "name": "stdout",
     "output_type": "stream",
     "text": [
      "S = 29.059 ton/h\n"
     ]
    }
   ],
   "source": [
    "print(\"S = %.3f ton/h\" % (S.value*3600/1000))"
   ]
  },
  {
   "cell_type": "markdown",
   "id": "e4ce4c45",
   "metadata": {},
   "source": [
    "Por lo tanto la alternativa correcta es **a)**"
   ]
  },
  {
   "cell_type": "markdown",
   "id": "1c3c0321",
   "metadata": {},
   "source": [
    "## Pregunta 6"
   ]
  },
  {
   "cell_type": "markdown",
   "id": "c019cdd1-b65c-4b5b-a597-5865af4f771e",
   "metadata": {},
   "source": [
    "Si el equipo está constituido de un haz de $N_t = 1200$ tubos de $L = 1~\\text{m}$ de alto y $D_o = 2.5~\\text{cm}$ de diámetro, el coeficiente global de transferencia de calor es aproximadamente el siguiente:"
   ]
  },
  {
   "cell_type": "markdown",
   "id": "e83797db-8894-44a0-9b97-029b90721496",
   "metadata": {},
   "source": [
    "(a) $U$ $>$ $1500$ $\\text{kcal/h}\\cdot\\text{m}^2\\cdot\\text{°C}$\\\n",
    "(b) $1250$ $<$ $U$ $\\leq$ $1500$ $\\text{kcal/h}\\cdot\\text{m}^2\\cdot\\text{°C}$\\\n",
    "(c) $1000$ $<$ $U$ $\\leq$ $1250$ $\\text{kcal/h}\\cdot\\text{m}^2\\cdot\\text{°C}$\\\n",
    "(d) $U$ $\\leq$ $1000$ $\\text{kcal/h}\\cdot\\text{m}^2\\cdot\\text{°C}$"
   ]
  },
  {
   "cell_type": "markdown",
   "id": "a170955b-801c-47e7-af03-494aa65e36c2",
   "metadata": {},
   "source": [
    "## Solución"
   ]
  },
  {
   "cell_type": "markdown",
   "id": "1f21ff52",
   "metadata": {},
   "source": [
    "En esta pregunta recordamos que el calor total cedido por el vapor es aproximadamente $Q = S \\lambda_s$. Considerando que la transferencia de calor ocurre de manera isotérmica entre los tubos y el licor, la diferencia de temperatura relevante es constante e igual a $T_s - T$. Finalmente, podemos obtener el coeficiente global de transferencia de calor con la fórmula $ U = \\frac{Q}{A(T_s-T)} $\n"
   ]
  },
  {
   "cell_type": "code",
   "execution_count": 9,
   "id": "80ca6055",
   "metadata": {},
   "outputs": [],
   "source": [
    "from math import pi"
   ]
  },
  {
   "cell_type": "code",
   "execution_count": 10,
   "id": "71debdfe",
   "metadata": {},
   "outputs": [
    {
     "data": {
      "text/latex": [
       "\\[\n",
       "\\begin{aligned}\n",
       "N_{t} &= 1200 \\; \n",
       "\\\\[10pt]\n",
       "L_{t} &= 1 \\cdot m  = 1 \\cdot m &= 1.000\\ \\mathrm{m}  \n",
       "\\\\[10pt]\n",
       "D_{o} &= 0.025 \\cdot m  = 0.025 \\cdot m &= 25.000\\ \\mathrm{mm}  \n",
       "\\\\[10pt]\n",
       "A &= N_{t} \\cdot \\pi \\cdot D_{o} \\cdot L_{t}  = 1200 \\cdot 3.142 \\cdot 25.000\\ \\mathrm{mm} \\cdot 1.000\\ \\mathrm{m} &= 94.248\\ \\mathrm{m}^{2}  \n",
       "\\\\[10pt]\n",
       "U &= \\frac{ S \\cdot \\mathrm{lambda}_{s} }{ A \\cdot \\left( T_{s} - T \\right) } \\\\&= \\frac{ 8.072\\ \\mathrm{kg} \\cdot \\mathrm{s}^{-1} \\cdot 483.400\\ \\mathrm{Gy} }{ 94.248\\ \\mathrm{m}^{2} \\cdot \\left( 177.000\\ \\mathrm{°C} - 79.500\\ \\mathrm{°C} \\right) } \\\\&= 0.425\\ \\mathrm{kg} \\cdot \\mathrm{s}^{-3} \\cdot \\mathrm{K}^{-1}  \\\\[10pt]\n",
       "\\end{aligned}\n",
       "\\]"
      ],
      "text/plain": [
       "<IPython.core.display.Latex object>"
      ]
     },
     "metadata": {},
     "output_type": "display_data"
    }
   ],
   "source": [
    "%%render\n",
    "N_t = 1200\n",
    "L_t = 1 * m\n",
    "D_o = 0.025 * m\n",
    "A = N_t * pi * D_o * L_t \n",
    "U = (S*lambda_s)/(A*(T_s-T))"
   ]
  },
  {
   "cell_type": "code",
   "execution_count": 11,
   "id": "ff26abfe",
   "metadata": {},
   "outputs": [
    {
     "name": "stdout",
     "output_type": "stream",
     "text": [
      "U = 1528.673 kcal h^-1 m^-2 °C^-1\n"
     ]
    }
   ],
   "source": [
    "U_kcal_h = U.value * 3600\n",
    "print(\"U = %.3f kcal h^-1 m^-2 °C^-1\" % U_kcal_h)"
   ]
  },
  {
   "cell_type": "markdown",
   "id": "cae91980",
   "metadata": {},
   "source": [
    "Por lo tanto, la alternativa correcta es **a)**"
   ]
  }
 ],
 "metadata": {
  "kernelspec": {
   "display_name": "Python 3 (ipykernel)",
   "language": "python",
   "name": "python3"
  },
  "language_info": {
   "codemirror_mode": {
    "name": "ipython",
    "version": 3
   },
   "file_extension": ".py",
   "mimetype": "text/x-python",
   "name": "python",
   "nbconvert_exporter": "python",
   "pygments_lexer": "ipython3",
   "version": "3.11.7"
  }
 },
 "nbformat": 4,
 "nbformat_minor": 5
}