{
 "cells": [
  {
   "cell_type": "markdown",
   "id": "74c32a14",
   "metadata": {},
   "source": [
    "# IIQ2013 - Clase 14"
   ]
  },
  {
   "cell_type": "markdown",
   "id": "285fafbb-ba09-44ba-bfcb-c7cc8147e1a3",
   "metadata": {},
   "source": [
    "Interesa evaluar el tiempo que demora calentar $V = 10~\\text{m}^3$ de glicerina de $T_i = 25~\\text{°C}$ a $T_f = 35~\\text{°C}$ en un estanque agitado de configuración estándar ($D_a/D_t = 1/3$, $H/D_t = 1$) equipado con un impulsor de ancla que opera a $N = 32~\\text{RPM}$, y una camisa con deflectores\n",
    "(ancho, $w = 10~\\text{cm}$) por la que circulan $F = 12000~\\text{kg/h}$ de vapor de agua a $T_{hi} = 100~\\text{°C}$."
   ]
  },
  {
   "cell_type": "markdown",
   "id": "dc864da3-8982-4846-83bc-aeff4a3be2df",
   "metadata": {},
   "source": [
    "Librerias a utilizar"
   ]
  },
  {
   "cell_type": "code",
   "execution_count": 1,
   "id": "d59faf30",
   "metadata": {},
   "outputs": [],
   "source": [
    "import handcalcs.render\n",
    "import forallpeople\n",
    "import numpy as np\n",
    "import forallpeople as si\n",
    "si.environment('default', top_level=True)"
   ]
  },
  {
   "cell_type": "markdown",
   "id": "b9adfeaf",
   "metadata": {},
   "source": [
    "## Pregunta 1:"
   ]
  },
  {
   "cell_type": "markdown",
   "id": "f7a3934d-5c44-494b-b680-f0787b9b9e87",
   "metadata": {},
   "source": [
    "Estime el coeficiente de transferencia de calor para glicerina en el estanque (considere los siguientes valores de las propiedades físicas de la glicerina a $30~\\text{°C}$: $r = 1260~\\text{kg/m}^3$; $\\mu = 0.656~\\text{Pa}\\cdot\\text{s}$; $k = 0.286~\\text{W/m}\\cdot\\text{K}$; y $Pr = 5590$) "
   ]
  },
  {
   "cell_type": "markdown",
   "id": "05f39c83-c997-4840-9ead-aae619a8362b",
   "metadata": {},
   "source": [
    "a) $h_o$ $>$ 60 $\\text{W/m}\\cdot\\text{K}$\\\n",
    "b) 50 $\\leq$  $h_o$ $<$ 60 $\\text{W/m}\\cdot\\text{K}$\\\n",
    "c) 40 $\\leq$  $h_o$ $<$ 50 $\\text{W/m}\\cdot\\text{K}$\\\n",
    "d) $h_o$ $<$ 40 $\\text{W/m}\\cdot\\text{K}$"
   ]
  },
  {
   "cell_type": "markdown",
   "id": "8968e560-9012-45a4-9162-df584668c94a",
   "metadata": {},
   "source": [
    "## Solución"
   ]
  },
  {
   "cell_type": "code",
   "execution_count": 2,
   "id": "c8f0eb8d",
   "metadata": {},
   "outputs": [
    {
     "data": {
      "text/latex": [
       "\\[\n",
       "\\begin{aligned}\n",
       "\\rho &= 1260.000\\ \\mathrm{kg} \\cdot \\mathrm{m}^{-3} \\; \n",
       " &N &= 533.333\\ \\mathrm{mHz} \\; \n",
       " &D_{a} &= 778.000\\ \\mathrm{mm} \\; \n",
       "\\\\[10pt]\n",
       " \\mu &= 0.656\\ \\mathrm{kg} \\cdot \\mathrm{m}^{-1} \\cdot \\mathrm{s}^{-1} \\;\n",
       "\\end{aligned}\n",
       "\\]"
      ],
      "text/plain": [
       "<IPython.core.display.Latex object>"
      ]
     },
     "metadata": {},
     "output_type": "display_data"
    }
   ],
   "source": [
    "%%render params\n",
    "rho = 1260 * kg/m**3\n",
    "N = 32/60 * 1/s\n",
    "D_a = 0.778 * m\n",
    "mu = 0.656 * Pa * s"
   ]
  },
  {
   "cell_type": "code",
   "execution_count": 3,
   "id": "4556f53c",
   "metadata": {},
   "outputs": [
    {
     "data": {
      "text/latex": [
       "\\[\n",
       "\\begin{aligned}\n",
       "\\mathrm{Re} &= \\rho \\cdot N \\cdot \\frac{ \\left( D_{a} \\right) ^{ 2 } }{ \\mu } \\\\&= 1260.000\\ \\mathrm{kg} \\cdot \\mathrm{m}^{-3} \\cdot 533.333\\ \\mathrm{mHz} \\cdot \\frac{ \\left( 778.000\\ \\mathrm{mm} \\right) ^{ 2 } }{ 0.656\\ \\mathrm{kg} \\cdot \\mathrm{m}^{-1} \\cdot \\mathrm{s}^{-1} } \\\\&= 620.047  \\\\[10pt]\n",
       "\\end{aligned}\n",
       "\\]"
      ],
      "text/plain": [
       "<IPython.core.display.Latex object>"
      ]
     },
     "metadata": {},
     "output_type": "display_data"
    }
   ],
   "source": [
    "%%render long\n",
    "Re = rho*N*D_a**2/mu"
   ]
  },
  {
   "cell_type": "markdown",
   "id": "b604a823",
   "metadata": {},
   "source": [
    "Ahora calculamos el diámetro del estanque y del agitador"
   ]
  },
  {
   "cell_type": "code",
   "execution_count": 4,
   "id": "72989570",
   "metadata": {
    "scrolled": true
   },
   "outputs": [
    {
     "data": {
      "text/latex": [
       "\\[\n",
       "\\begin{aligned}\n",
       "V_{t} &= 10 \\cdot \\left( m \\right) ^{ 3 } \\\\&= 10 \\cdot \\left( m \\right) ^{ 3 } \\\\&= 10.000\\ \\mathrm{m}^{3}  \\\\[10pt]\n",
       "\\\\[10pt]\n",
       "\\pi &= 3.142 \\; \n",
       "\\\\[10pt]\n",
       "D_{t} &= \\left( 4 \\cdot \\frac{ V_{t} }{ \\pi } \\right) ^{ \\left( \\frac{ 1 }{ 3 } \\right) } \\\\&= \\left( 4 \\cdot \\frac{ 10.000\\ \\mathrm{m}^{3} }{ 3.142 } \\right) ^{ \\left( \\frac{ 1 }{ 3 } \\right) } \\\\&= 2.335\\ \\mathrm{m}  \\\\[10pt]\n",
       "\\\\[10pt]\n",
       "D_{a} &= \\frac{ D_{t} }{ 3 } \\\\&= \\frac{ 2.335\\ \\mathrm{m} }{ 3 } \\\\&= 778.363\\ \\mathrm{mm}  \\\\[10pt]\n",
       "\\end{aligned}\n",
       "\\]"
      ],
      "text/plain": [
       "<IPython.core.display.Latex object>"
      ]
     },
     "metadata": {},
     "output_type": "display_data"
    }
   ],
   "source": [
    "%%render long\n",
    "V_t = 10 * m **3\n",
    "pi = np.pi\n",
    "D_t = (4*V_t/pi)** (1/3)\n",
    "D_a = D_t/3"
   ]
  },
  {
   "cell_type": "markdown",
   "id": "a33eaa5b",
   "metadata": {},
   "source": [
    "Ahora calculamos el coeficiente de convección por el lado del fluido agitado"
   ]
  },
  {
   "cell_type": "code",
   "execution_count": 5,
   "id": "589aea84",
   "metadata": {},
   "outputs": [
    {
     "data": {
      "text/latex": [
       "\\[\n",
       "\\begin{aligned}\n",
       "\\mathrm{Pr} &= 5590 \\; \n",
       "\\\\[10pt]\n",
       "\\mathrm{Nusselt}_{t} &= 0.36 \\cdot \\left( \\mathrm{Re} \\right) ^{ 0.67 } \\cdot \\left( \\mathrm{Pr} \\right) ^{ 0.33 } \\\\&= 0.36 \\cdot \\left( 620.047 \\right) ^{ 0.67 } \\cdot \\left( 5590 \\right) ^{ 0.33 } \\\\&= 461.183  \\\\[10pt]\n",
       "\\\\[10pt]\n",
       "k &= 0.286 \\cdot \\frac{ W }{ m } \\cdot \\frac{1} { K } \\\\&= 0.286 \\cdot \\frac{ W }{ m } \\cdot \\frac{1} { K } \\\\&= 0.286\\ \\mathrm{kg} \\cdot \\mathrm{m} \\cdot \\mathrm{s}^{-3} \\cdot \\mathrm{K}^{-1}  \\\\[10pt]\n",
       "\\\\[10pt]\n",
       "h_{o} &= \\mathrm{Nusselt}_{t} \\cdot \\frac{ k }{ D_{t} } \\\\&= 461.183 \\cdot \\frac{ 0.286\\ \\mathrm{kg} \\cdot \\mathrm{m} \\cdot \\mathrm{s}^{-3} \\cdot \\mathrm{K}^{-1} }{ 2.335\\ \\mathrm{m} } \\\\&= 56.485\\ \\mathrm{kg} \\cdot \\mathrm{s}^{-3.0} \\cdot \\mathrm{K}^{-1.0}  \\\\[10pt]\n",
       "\\end{aligned}\n",
       "\\]"
      ],
      "text/plain": [
       "<IPython.core.display.Latex object>"
      ]
     },
     "metadata": {},
     "output_type": "display_data"
    }
   ],
   "source": [
    "%%render long\n",
    "Pr = 5590\n",
    "Nusselt_t = 0.36 * (Re)**0.67 * Pr**(0.33)\n",
    "k = 0.286 * W / m / K\n",
    "h_o = Nusselt_t*k/D_t"
   ]
  },
  {
   "cell_type": "markdown",
   "id": "f14dd8d2-aa0a-4a45-ada3-9b5708afb93f",
   "metadata": {},
   "source": [
    "Por lo tanto, la alternativa correcta es la **b**."
   ]
  },
  {
   "cell_type": "markdown",
   "id": "7b85f3c3",
   "metadata": {},
   "source": [
    "## Pregunta 2"
   ]
  },
  {
   "cell_type": "markdown",
   "id": "631cb9eb-4491-45d1-bb01-a1fd48c71e8e",
   "metadata": {},
   "source": [
    "En base al diámetro equivalente para el fluido que circula por la chaqueta, estime el coeficiente de transferencia de calor por convección para el vapor de agua de calefacción. Asuma que el vapor de agua no cambia de fase y se mantiene a temperatura constante. Considere $\\rho = 0.59~\\text{kg/m}^3$, $\\mu = 0.01~\\text{cP}$, $k = 0.025~\\text{W/m}\\cdot\\text{K}$, $Pr = 1$."
   ]
  },
  {
   "cell_type": "markdown",
   "id": "c90ec1c7-c940-4b04-b317-fa55898a542a",
   "metadata": {},
   "source": [
    "a) $h_c$ $\\geq$ 150 $\\text{W/m}\\cdot\\text{K}$\\\n",
    "b) 100 $\\leq$ $h_c$ $<$ 150 $\\text{W/m}\\cdot\\text{K}$\\\n",
    "c) 50 $\\leq$ $h_c$ $<$ 100 $\\text{W/m}\\cdot\\text{K}$\\\n",
    "d ) $h_c$ $<$ 50 $\\text{W/m}\\cdot\\text{K}$"
   ]
  },
  {
   "cell_type": "markdown",
   "id": "9efba7f0-222a-4eb4-9ea4-efd43d8fa065",
   "metadata": {},
   "source": [
    "*Hint: Recuerde la correlación de Sieder-Tate y el diámetro equivalente térmico.*"
   ]
  },
  {
   "cell_type": "markdown",
   "id": "4514b94b-17ff-4d97-92b2-9c859fa94e57",
   "metadata": {},
   "source": [
    "## Solución"
   ]
  },
  {
   "cell_type": "code",
   "execution_count": 6,
   "id": "5e4253d9",
   "metadata": {},
   "outputs": [
    {
     "data": {
      "text/latex": [
       "\\[\n",
       "\\begin{aligned}\n",
       "D_{ci} &= 2.335\\ \\mathrm{m} \\; \n",
       "\\\\[10pt]\n",
       "D_{ce} &= D_{t} + 0.1 \\cdot m \\\\&= 2.335\\ \\mathrm{m} + 0.1 \\cdot m \\\\&= 2.435\\ \\mathrm{m}  \\\\[10pt]\n",
       "\\\\[10pt]\n",
       "D_{et} &= \\frac{ \\left( D_{ce} \\right) ^{ 2 } - \\left( D_{ci} \\right) ^{ 2 } }{ D_{ci} } \\\\&= \\frac{ \\left( 2.435\\ \\mathrm{m} \\right) ^{ 2 } - \\left( 2.335\\ \\mathrm{m} \\right) ^{ 2 } }{ 2.335\\ \\mathrm{m} } \\\\&= 204.282\\ \\mathrm{mm}  \\\\[10pt]\n",
       "\\\\[10pt]\n",
       "Z &= 2.335\\ \\mathrm{m} \\; \n",
       "\\\\[10pt]\n",
       "a_{c} &= Z \\cdot \\left( D_{ce} - D_{ci} \\right) \\\\&= 2.335\\ \\mathrm{m} \\cdot \\left( 2.435\\ \\mathrm{m} - 2.335\\ \\mathrm{m} \\right) \\\\&= 233508.865\\ \\mathrm{mm}^{2.0}  \\\\[10pt]\n",
       "\\end{aligned}\n",
       "\\]"
      ],
      "text/plain": [
       "<IPython.core.display.Latex object>"
      ]
     },
     "metadata": {},
     "output_type": "display_data"
    }
   ],
   "source": [
    "%%render long\n",
    "D_ci = D_t\n",
    "D_ce = D_t + 0.1*m\n",
    "D_et = (D_ce**2 - D_ci**2)/D_ci\n",
    "Z = D_t\n",
    "a_c = Z*(D_ce-D_ci)"
   ]
  },
  {
   "cell_type": "markdown",
   "id": "2b007be0",
   "metadata": {},
   "source": [
    "Ahora calculamos la velocidad del fluido en la chaqueta,"
   ]
  },
  {
   "cell_type": "code",
   "execution_count": 7,
   "id": "aa0d8e05",
   "metadata": {},
   "outputs": [],
   "source": [
    "si.environment('default', top_level=True)"
   ]
  },
  {
   "cell_type": "code",
   "execution_count": 8,
   "id": "38b601f4",
   "metadata": {},
   "outputs": [
    {
     "data": {
      "text/latex": [
       "\\[\n",
       "\\begin{aligned}\n",
       "\\rho_{v} &= 0.59 \\cdot \\frac{ \\mathrm{kg} }{ \\left( m \\right) ^{ 3 } } \\\\&= 0.59 \\cdot \\frac{ kg }{ \\left( m \\right) ^{ 3 } } \\\\&= 0.59000\\ \\mathrm{kg} \\cdot \\mathrm{m}^{-3} \\; \\;\\textrm{(Densidad del fluido de servicio)}\\\\[10pt]\n",
       "\\\\[10pt]\n",
       "\\mu_{v} &= 0.01 \\cdot 1 \\times 10 ^ {-3} \\cdot \\mathrm{Pa} \\cdot s \\\\&= 0.01 \\cdot 1 \\times 10 ^ {-3} \\cdot Pa \\cdot s \\\\&= 0.00001\\ \\mathrm{kg} \\cdot \\mathrm{m}^{-1} \\cdot \\mathrm{s}^{-1}  \\\\[10pt]\n",
       "\\\\[10pt]\n",
       "k_{v} &= 0.025 \\cdot \\frac{ W }{ m } \\cdot \\frac{1} { K } \\\\&= 0.025 \\cdot \\frac{ W }{ m } \\cdot \\frac{1} { K } \\\\&= 0.02500\\ \\mathrm{kg} \\cdot \\mathrm{m} \\cdot \\mathrm{s}^{-3} \\cdot \\mathrm{K}^{-1}  \\\\[10pt]\n",
       "\\\\[10pt]\n",
       "F &= \\frac{ 12000 }{ 3600 } \\cdot \\frac{ \\mathrm{kg} }{ s } \\\\&= \\frac{ 12000 }{ 3600 } \\cdot \\frac{ kg }{ s } \\\\&= 3.33333\\ \\mathrm{kg} \\cdot \\mathrm{s}^{-1}  \\\\[10pt]\n",
       "\\\\[10pt]\n",
       "V &= \\frac{ F }{ \\rho_{v} \\cdot a_{c} } \\\\&= \\frac{ 3.33333\\ \\mathrm{kg} \\cdot \\mathrm{s}^{-1} }{ 0.59000\\ \\mathrm{kg} \\cdot \\mathrm{m}^{-3} \\cdot 233508.86499\\ \\mathrm{mm}^{2.0} } \\\\&= 24.19487\\ \\mathrm{m} \\cdot \\mathrm{s}^{-1.0}  \\\\[10pt]\n",
       "\\\\[10pt]\n",
       "\\mathrm{Re} &= \\rho_{v} \\cdot V \\cdot \\frac{ D_{et} }{ \\mu_{v} } \\\\&= 0.59000\\ \\mathrm{kg} \\cdot \\mathrm{m}^{-3} \\cdot 24.19487\\ \\mathrm{m} \\cdot \\mathrm{s}^{-1.0} \\cdot \\frac{ 204.28249\\ \\mathrm{mm} }{ 0.00001\\ \\mathrm{kg} \\cdot \\mathrm{m}^{-1} \\cdot \\mathrm{s}^{-1} } \\\\&= 291612.75835  \\\\[10pt]\n",
       "\\\\[10pt]\n",
       "\\mathrm{Nusselt}_{chaqueta} &= 0.027 \\cdot \\left( \\mathrm{Re} \\right) ^{ 0.8 } \\\\&= 0.027 \\cdot \\left( 291612.75835 \\right) ^{ 0.8 } \\\\&= 635.63672  \\\\[10pt]\n",
       "\\\\[10pt]\n",
       "h_{c} &= \\mathrm{Nusselt}_{chaqueta} \\cdot \\frac{ k_{v} }{ D_{et} } \\\\&= 635.63672 \\cdot \\frac{ 0.02500\\ \\mathrm{kg} \\cdot \\mathrm{m} \\cdot \\mathrm{s}^{-3} \\cdot \\mathrm{K}^{-1} }{ 204.28249\\ \\mathrm{mm} } \\\\&= 77.78894\\ \\mathrm{kg} \\cdot \\mathrm{s}^{-3.0} \\cdot \\mathrm{K}^{-1.0}  \\\\[10pt]\n",
       "\\end{aligned}\n",
       "\\]"
      ],
      "text/plain": [
       "<IPython.core.display.Latex object>"
      ]
     },
     "metadata": {},
     "output_type": "display_data"
    }
   ],
   "source": [
    "%%render long 5\n",
    "rho_v = 0.59 * kg / m**3 # Densidad del fluido de servicio\n",
    "mu_v = 0.01*1e-3*Pa*s\n",
    "k_v = 0.025 *  W / m / K\n",
    "F = 12000/3600 * kg / s\n",
    "V = F/(rho_v*a_c)\n",
    "Re = rho_v * V * D_et / mu_v\n",
    "Nusselt_chaqueta = 0.027 * Re ** 0.8\n",
    "h_c = Nusselt_chaqueta * k_v / (D_et)"
   ]
  },
  {
   "cell_type": "markdown",
   "id": "ffa84871-cf7e-439a-87f4-b5ce92b6d3d6",
   "metadata": {},
   "source": [
    "Por lo tanto, la respuesta correcta es la **c**."
   ]
  },
  {
   "cell_type": "markdown",
   "id": "deff90f9",
   "metadata": {},
   "source": [
    "## Pregunta 3"
   ]
  },
  {
   "cell_type": "markdown",
   "id": "26443601-19f1-4975-a0be-d5bc2a4d185a",
   "metadata": {},
   "source": [
    "Estime en forma aproximada el tiempo de calentamiento. (Puede considerar que para glicerina a $30~\\text{°C}$, $c_P = 2437~\\text{J/kg}\\cdot\\text{K}$)."
   ]
  },
  {
   "cell_type": "markdown",
   "id": "7900fd80-3af0-45ca-8f39-269ef317d614",
   "metadata": {},
   "source": [
    "a) $t_c$ $\\geq$ 200 min \\\n",
    "b) 150 $\\leq$ $t_c$ $<$ 200 min \\\n",
    "c) 100 $\\leq$ $t_c$ $<$ 150 min \\\n",
    "d ) $t_c$ $<$ 100 min"
   ]
  },
  {
   "cell_type": "markdown",
   "id": "e16dfead-605d-4568-8ebd-49d719a11b92",
   "metadata": {},
   "source": [
    "## Solución"
   ]
  },
  {
   "cell_type": "code",
   "execution_count": 9,
   "id": "4afcb02a",
   "metadata": {},
   "outputs": [
    {
     "data": {
      "text/latex": [
       "\\[\n",
       "\\begin{aligned}\n",
       "M &= V_{t} \\cdot \\rho \\\\&= 10.000\\ \\mathrm{m}^{3} \\cdot 1260.000\\ \\mathrm{kg} \\cdot \\mathrm{m}^{-3} \\\\&= 12.600\\ \\mathrm{Mg}  \\\\[10pt]\n",
       "\\\\[10pt]\n",
       "c_{p} &= 2437 \\cdot \\frac{ J }{ \\mathrm{kg} } \\cdot \\frac{1} { K } \\\\&= 2437 \\cdot \\frac{ J }{ kg } \\cdot \\frac{1} { K } \\\\&= 2437.000\\ \\mathrm{m}^{2} \\cdot \\mathrm{s}^{-2} \\cdot \\mathrm{K}^{-1}  \\\\[10pt]\n",
       "\\\\[10pt]\n",
       "U &= \\left( \\frac{ 1 }{ h_{o} } + \\frac{ 1 }{ h_{c} } \\right) ^{ -1 } \\\\&= \\left( \\frac{ 1 }{ 56.485\\ \\mathrm{kg} \\cdot \\mathrm{s}^{-3.0} \\cdot \\mathrm{K}^{-1.0} } + \\frac{ 1 }{ 77.789\\ \\mathrm{kg} \\cdot \\mathrm{s}^{-3.0} \\cdot \\mathrm{K}^{-1.0} } \\right) ^{ -1 } \\\\&= 32.724\\ \\mathrm{kg} \\cdot \\mathrm{s}^{-3.0} \\cdot \\mathrm{K}^{-1.0} \\; \\;\\textrm{(Coeficiente global de transferencia de calor)}\\\\[10pt]\n",
       "\\end{aligned}\n",
       "\\]"
      ],
      "text/plain": [
       "<IPython.core.display.Latex object>"
      ]
     },
     "metadata": {},
     "output_type": "display_data"
    }
   ],
   "source": [
    "%%render long\n",
    "M = V_t * rho\n",
    "c_p = 2437 * J/kg/K\n",
    "U = (1/h_o + 1/h_c)**-1 # Coeficiente global de transferencia de calor"
   ]
  },
  {
   "cell_type": "markdown",
   "id": "8faa6f30",
   "metadata": {},
   "source": [
    "Asumiendo que la chaqueta comienza en el diámetro externo del tanque, el área de transferencia de calor viene dada por"
   ]
  },
  {
   "cell_type": "code",
   "execution_count": 10,
   "id": "cb514df1",
   "metadata": {},
   "outputs": [
    {
     "data": {
      "text/latex": [
       "\\[\n",
       "\\begin{aligned}\n",
       "A &= \\pi \\cdot D_{t} \\cdot Z \\\\&= 3.142 \\cdot 2.335\\ \\mathrm{m} \\cdot 2.335\\ \\mathrm{m} \\\\&= 17.130\\ \\mathrm{m}^{2.0}  \\\\[10pt]\n",
       "\\end{aligned}\n",
       "\\]"
      ],
      "text/plain": [
       "<IPython.core.display.Latex object>"
      ]
     },
     "metadata": {},
     "output_type": "display_data"
    }
   ],
   "source": [
    "%%render long\n",
    "A = pi * D_t * Z"
   ]
  },
  {
   "cell_type": "markdown",
   "id": "b7216aea",
   "metadata": {},
   "source": [
    "La diferencia de temperatura media logarítmica asumiendo que el vapor condensa por el lado de la chaqueta es"
   ]
  },
  {
   "cell_type": "code",
   "execution_count": 11,
   "id": "941db03d",
   "metadata": {},
   "outputs": [
    {
     "data": {
      "text/latex": [
       "\\[\n",
       "\\begin{aligned}\n",
       "T_{i} &= 25 \\cdot \\mathrm{Celsius}  = 25 \\cdot Celsius &= 25.000\\ \\mathrm{°C}  \n",
       "\\\\[10pt]\n",
       "T_{f} &= 35 \\cdot \\mathrm{Celsius}  = 35 \\cdot Celsius &= 35.000\\ \\mathrm{°C}  \n",
       "\\\\[10pt]\n",
       "T_{s} &= 100 \\cdot \\mathrm{Celsius}  = 100 \\cdot Celsius &= 100.000\\ \\mathrm{°C}  \n",
       "\\\\[10pt]\n",
       "\\mathrm{DeltaT}_{ml} &= \\frac{ \\left( T_{s} - T_{i} \\right) - \\left( T_{s} - T_{f} \\right) }{ \\mathrm{np.log} { \\left( \\frac{ T_{s} - T_{i} }{ T_{s} - T_{f} } \\right) } }  = \\frac{ \\left( 100.000\\ \\mathrm{°C} - 25.000\\ \\mathrm{°C} \\right) - \\left( 100.000\\ \\mathrm{°C} - 35.000\\ \\mathrm{°C} \\right) }{ np.log { \\left( \\frac{ 100.000\\ \\mathrm{°C} - 25.000\\ \\mathrm{°C} }{ 100.000\\ \\mathrm{°C} - 35.000\\ \\mathrm{°C} } \\right) } } &= 69.881\\ \\mathrm{°C}  \n",
       "\\end{aligned}\n",
       "\\]"
      ],
      "text/plain": [
       "<IPython.core.display.Latex object>"
      ]
     },
     "metadata": {},
     "output_type": "display_data"
    }
   ],
   "source": [
    "%%render short\n",
    "T_i = 25 * Celsius\n",
    "T_f = 35 * Celsius\n",
    "T_s = 100 * Celsius\n",
    "DeltaT_ml = ((T_s-T_i) - (T_s-T_f))/(np.log((T_s-T_i)/(T_s-T_f)))"
   ]
  },
  {
   "cell_type": "markdown",
   "id": "51cb2029",
   "metadata": {},
   "source": [
    "Finalmente, el tiempo de calentamiento es"
   ]
  },
  {
   "cell_type": "code",
   "execution_count": 12,
   "id": "784ec821",
   "metadata": {},
   "outputs": [
    {
     "data": {
      "text/latex": [
       "\\[\n",
       "\\begin{aligned}\n",
       "t_{s} &= M \\cdot \\frac{ c_{p} }{ U \\cdot A } \\cdot \\mathrm{np.log} { \\left( \\frac{ T_{s} - T_{i} }{ T_{s} - T_{f} } \\right) } \\\\&= 12.600\\ \\mathrm{Mg} \\cdot \\frac{ 2437.000\\ \\mathrm{m}^{2} \\cdot \\mathrm{s}^{-2} \\cdot \\mathrm{K}^{-1} }{ 32.724\\ \\mathrm{kg} \\cdot \\mathrm{s}^{-3.0} \\cdot \\mathrm{K}^{-1.0} \\cdot 17.130\\ \\mathrm{m}^{2.0} } \\cdot np.log { \\left( \\frac{ 100.000\\ \\mathrm{°C} - 25.000\\ \\mathrm{°C} }{ 100.000\\ \\mathrm{°C} - 35.000\\ \\mathrm{°C} } \\right) } \\\\&= 7.839\\ \\mathrm{ks}  \\\\[10pt]\n",
       "\\end{aligned}\n",
       "\\]"
      ],
      "text/plain": [
       "<IPython.core.display.Latex object>"
      ]
     },
     "metadata": {},
     "output_type": "display_data"
    }
   ],
   "source": [
    "%%render long\n",
    "t_s = M*c_p / (U*A) * np.log((T_s-T_i)/(T_s-T_f))"
   ]
  },
  {
   "cell_type": "markdown",
   "id": "6609bb69",
   "metadata": {},
   "source": [
    "Lo que es equivalente a 130.6 minutos. Por lo tanto, la respuesta correcta es la **c**."
   ]
  },
  {
   "cell_type": "code",
   "execution_count": null,
   "id": "9098d887-1d68-461f-8f43-80afa5343f1d",
   "metadata": {},
   "outputs": [],
   "source": []
  }
 ],
 "metadata": {
  "kernelspec": {
   "display_name": "Python 3 (ipykernel)",
   "language": "python",
   "name": "python3"
  },
  "language_info": {
   "codemirror_mode": {
    "name": "ipython",
    "version": 3
   },
   "file_extension": ".py",
   "mimetype": "text/x-python",
   "name": "python",
   "nbconvert_exporter": "python",
   "pygments_lexer": "ipython3",
   "version": "3.11.7"
  }
 },
 "nbformat": 4,
 "nbformat_minor": 5
}