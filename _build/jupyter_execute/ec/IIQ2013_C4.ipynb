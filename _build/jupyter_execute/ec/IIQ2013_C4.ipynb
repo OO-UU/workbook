{
 "cells": [
  {
   "cell_type": "markdown",
   "metadata": {},
   "source": [
    "# IIQ2013 - Clase 4"
   ]
  },
  {
   "cell_type": "markdown",
   "metadata": {},
   "source": [
    "En primer lugar se deben cargar las librerias que vamos a utilizar"
   ]
  },
  {
   "cell_type": "code",
   "execution_count": 1,
   "metadata": {},
   "outputs": [],
   "source": [
    "import numpy as np"
   ]
  },
  {
   "cell_type": "markdown",
   "metadata": {},
   "source": [
    "## Pregunta 1\n",
    "\n",
    "Responda las siguientes preguntas en relación con las curvas características de la bomba centrífugas con un rodete **C** (6.75 in de diámetro) disponible en el formulario:\n",
    "       \n",
    "\n",
    "(a) $h_B$ / $(h_B)_{teórico} <$ 40 \\% \n",
    "\n",
    "(b) 40 $\\leq h_B$ / $(h_B)_{teórico} <$ 60 \\% \n",
    "\n",
    "(c) 60 $\\leq h_B$ / $(h_B)_{teórico} <$ 80 \\% \n",
    "\n",
    "(d) $h_B$ / $(h_B)_{teórico} \\geq$ 80 \\% \n"
   ]
  },
  {
   "cell_type": "markdown",
   "metadata": {},
   "source": [
    "## Solución\n",
    "Si $\\beta$ = 90 $\\degree$ entonces tan $\\beta$ = $\\infty$. Luego (gh<sub>B,teórico</sub>) $\\approx$ r<sub>3</sub><sup>2</sup>w<sup>2</sup> y h<sub>B</sub> se puede obtener directamente del gráfico de la página 9 del formulario para una descarga nula\n"
   ]
  },
  {
   "cell_type": "code",
   "execution_count": 2,
   "metadata": {},
   "outputs": [
    {
     "name": "stdout",
     "output_type": "stream",
     "text": [
      "La fracción de la carga teórica alcanzada para la carga nula es 54.654180235193 %\n"
     ]
    }
   ],
   "source": [
    "g = 9.81 # aceleracion de gravedad m/s^2\n",
    "w = 2*np.pi*1750/60 # 2 * Pi * RPM / 60 para dejar la velocidad en rad/s\n",
    "r_3 = (6.75/2)*2.54*0.01 # Diametro / 2 y el cambio de unidades de in a metros.\n",
    "\n",
    "h_b_teorico = (w*r_3)**2 / g \n",
    "h_b = 13.75 # Desde el gráfico del formulario\n",
    "fraccion = h_b / h_b_teorico\n",
    "print(f\"La fracción de la carga teórica alcanzada para la carga nula es {100 * fraccion} %\")\n"
   ]
  },
  {
   "cell_type": "markdown",
   "metadata": {},
   "source": [
    "Por lo tanto la alternativa correcta es la **c**."
   ]
  },
  {
   "cell_type": "markdown",
   "metadata": {},
   "source": [
    "\n",
    "\n",
    "## Pregunta 2\n",
    "\n",
    "Para la misma combinación de rodete y carcasa de (1) pero con una bomba operando a 3500 rpm, el valor de la carga real en la condición de máxima carga es aproximadamente el siguiente: \n",
    "    \n",
    "(a) $h_B <$ 30 m\n",
    "\n",
    "(b) 30 $\\leq h_B <$ 45 m\n",
    "\n",
    "(c)  45 $\\leq h_B <$ 60 m\n",
    "\n",
    "(d)  $h_B \\geq$ 60 m\n",
    "\n"
   ]
  },
  {
   "cell_type": "markdown",
   "metadata": {},
   "source": [
    "## Solución\n",
    "Utilizando la siguiente relación de proporcionalidad Q<sup>1/2</sup> $\\propto$ $\\omega$<sup>1/2</sup>r<sub>3</sub><sup>3/2</sup>. Haciendo un poco de algebra con las proporcionalidades Q<sup>1/2</sup>$\\omega$ / h<sub>b</sub><sup>3/4</sup> = constante. Luego si planteamos esta proporcionalidad utilizando la altura de descarga mínima se obtiene:"
   ]
  },
  {
   "cell_type": "code",
   "execution_count": 3,
   "metadata": {},
   "outputs": [
    {
     "name": "stdout",
     "output_type": "stream",
     "text": [
      "El valor de la carga real en la condició de máaxima carga es 55.0 m\n"
     ]
    }
   ],
   "source": [
    "h_b_1 = h_b\n",
    "w_2 = 2*np.pi*3500/60\n",
    "h_b_2 = h_b_1*(w_2/w)**2\n",
    "h_b_2\n",
    "print(f\"El valor de la carga real en la condició de máaxima carga es {h_b_2} m\")"
   ]
  },
  {
   "cell_type": "markdown",
   "metadata": {},
   "source": [
    "Por lo tanto la alternativa correcta es la **c**.\n"
   ]
  },
  {
   "cell_type": "markdown",
   "metadata": {},
   "source": [
    "## Pregunta 3\n",
    "\n",
    "Considere ahora que la bomba se instala en el sistema de la Figura 1, a una distancia $Z_a$ = 2 m por encima de un depósito abierto al ambiente ($P_{atm}$ = 101325 Pa. El diámetro del ducto de succión igualada al del ducto de entrada de la bomba (D= 1.5 in) y por el circulan $Q$ = 5.5 L/s de agua a 25 °C ($P_{v}$ = 3170 Pa, $\\rho$ = 997 kg/m<sup>3</sup>, $\\mu$ = 1 mPa s). Si las pérdidas por fricción y singularidades del ducto de succión son $\\Phi$ = 35 m<sup>2</sup>/s<sup>2</sup> el valor del NPSH<sub>d</sub> para el sistema anterior es aproximandamente el siguiente:\n",
    "\n",
    "(a) NPSH<sub>d</sub>$< $ 1 m \n",
    "\n",
    "(b) 1 $\\leq$ NPSH<sub>d</sub> $<$ 2 m\n",
    "\n",
    "(c) 2 $\\leq$ NPSH<sub>d</sub> $\\leq$ 3 m\n",
    "\n",
    "(d) NPSH<sub>d</sub> > $ 3 m \n"
   ]
  },
  {
   "cell_type": "markdown",
   "metadata": {},
   "source": [
    "## Solución\n",
    "\n",
    "Primero generamos una función para el cálculo de el NPSH disponible en el sistema."
   ]
  },
  {
   "cell_type": "code",
   "execution_count": 4,
   "metadata": {},
   "outputs": [],
   "source": [
    "#\n",
    "def NPSH_d(Patm, Pv,rho, z_succion, phi):\n",
    "    return ((Patm-Pv)/(rho*9.81)) - z_succion - phi\n",
    "\n"
   ]
  },
  {
   "cell_type": "markdown",
   "metadata": {},
   "source": [
    "En segundo lugar calculamos $\\Phi$ incluyendo pérdidas por fricción y singularidades y luego aplicamos la formula del NPSH disponible."
   ]
  },
  {
   "cell_type": "code",
   "execution_count": 5,
   "metadata": {},
   "outputs": [
    {
     "name": "stdout",
     "output_type": "stream",
     "text": [
      "El valor del NPSH disponible es 3.281756309047579 m\n"
     ]
    }
   ],
   "source": [
    "g = 9.81 # aceleracion de gravedad m/s^2\n",
    "D = 1.5*2.54*0.01 #m\n",
    "Q = 5.5/1000 #m3/s \n",
    "rho = 997 # kg/m3\n",
    "P_v = 3170 # Pa\n",
    "P_atm = 101325 #Pa\n",
    "z = 2\n",
    "phi_real = ((8*Q**2) / (np.pi**2*D**4) + 35)/g #incluye fricción y singularidades\n",
    "\n",
    "NPSH = NPSH_d(P_atm,P_v,rho,z,phi_real)\n",
    "print(f\"El valor del NPSH disponible es {NPSH} m\")\n",
    "\n"
   ]
  },
  {
   "cell_type": "markdown",
   "metadata": {},
   "source": [
    "Por lo tanto la alternativa correcta es la **d**.\n"
   ]
  }
 ],
 "metadata": {
  "kernelspec": {
   "display_name": "Python 3",
   "language": "python",
   "name": "python3"
  },
  "language_info": {
   "codemirror_mode": {
    "name": "ipython",
    "version": 3
   },
   "file_extension": ".py",
   "mimetype": "text/x-python",
   "name": "python",
   "nbconvert_exporter": "python",
   "pygments_lexer": "ipython3",
   "version": "3.11.7"
  }
 },
 "nbformat": 4,
 "nbformat_minor": 4
}