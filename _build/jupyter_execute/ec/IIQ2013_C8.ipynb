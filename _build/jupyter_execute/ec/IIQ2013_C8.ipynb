{
 "cells": [
  {
   "cell_type": "markdown",
   "id": "19891163-fd1c-4a71-9de2-c9dcf840548f",
   "metadata": {},
   "source": [
    "# IIQ2013 - Clase 8"
   ]
  },
  {
   "cell_type": "markdown",
   "id": "75293d35-4c17-44f4-afd1-e2ca35b439ce",
   "metadata": {},
   "source": [
    "Interesa dimensionar el motor del agitador (una turbina) y estimar el tiempo de mezclado de un líquido [$\\rho = 1000\\hspace{1mm}kg/m^3$, $\\mu = 20\\hspace{1mm}cP$] para un estanque agitado de $100\\hspace{1mm}m^3$ de capacidad y configuración estándar ($S_6 = H/D_t  = 1$)."
   ]
  },
  {
   "cell_type": "markdown",
   "id": "20f63d5b-f3e4-4b42-8926-561ad5b0822f",
   "metadata": {},
   "source": [
    "En primer lugar se deben cargar las librerias que vamos a utilizar"
   ]
  },
  {
   "cell_type": "code",
   "execution_count": 1,
   "id": "b601069b-13d3-4d5f-9080-28b07b23f303",
   "metadata": {},
   "outputs": [],
   "source": [
    "import numpy as np\n",
    "from numpy import sqrt, pi\n",
    "import handcalcs.render\n",
    "from handcalcs import handcalc"
   ]
  },
  {
   "cell_type": "markdown",
   "id": "b60ea3f5-90cc-4708-8561-244568cb8877",
   "metadata": {},
   "source": [
    "## Problema 1"
   ]
  },
  {
   "cell_type": "markdown",
   "id": "8b158069-dc49-4158-bdc8-7ee4d50ef1ba",
   "metadata": {},
   "source": [
    "Si para una configuración estándar de estanque agitado con turbina $1/S_1  = D_t/D_a = 4$, entonces el diámetro de agitador industrial $(D_a)$ es aproximadamente el siguiente:"
   ]
  },
  {
   "cell_type": "markdown",
   "id": "7dbdbfdc-7286-4a96-ba4a-cd874dfe1677",
   "metadata": {},
   "source": [
    "(a) D$_a$ $<$ 50 cm\n",
    "\n",
    "(b) 50 $\\leq$ D$_a$ $<$ 100 cm\n",
    "\n",
    "(c) 100 $\\leq$ D$_a$ $<$ 150 cm\n",
    "\n",
    "(d) D$_a$ $\\geq$ 150 cm"
   ]
  },
  {
   "cell_type": "markdown",
   "id": "f82310a3-77a9-48d4-aaab-619626065d05",
   "metadata": {},
   "source": [
    "## Solución"
   ]
  },
  {
   "cell_type": "markdown",
   "id": "54b1987c-9e3c-4853-9197-c7cfebacb06f",
   "metadata": {},
   "source": [
    "Sabemos el volumen, luego despejamos para $D_t$.\n",
    "$$\n",
    "D_t = \\sqrt[3]{\\frac{4V}{\\pi}}\n",
    "$$"
   ]
  },
  {
   "cell_type": "code",
   "execution_count": 2,
   "id": "cbcb6bea-34ce-425c-953e-70b189c07d5f",
   "metadata": {},
   "outputs": [
    {
     "data": {
      "text/latex": [
       "\\[\n",
       "\\begin{aligned}\n",
       "V &= 100 \\; \\;\\textrm{(m$^3$)}\n",
       "\\\\[10pt]\n",
       "S_{1} &= \\frac{ 1 }{ 4 } &= 0.250  \n",
       "\\\\[10pt]\n",
       "D_{t} &= \\left( \\frac{ 4 \\cdot 100 }{ \\pi } \\right) ^{ \\left( \\frac{ 1 }{ 3 } \\right) } \\\\&= \\left( \\frac{ 4 \\cdot 100 }{ 3.142 } \\right) ^{ \\left( \\frac{ 1 }{ 3 } \\right) } \\\\&= 5.031 \\; \\;\\textrm{(m)}\\\\[10pt]\n",
       "\\\\[10pt]\n",
       "D_{a} &= D_{t} \\cdot S_{1} \\\\&= 5.031 \\cdot 0.250 \\\\&= 1.258 \\; \\;\\textrm{(m)}\\\\[10pt]\n",
       "\\end{aligned}\n",
       "\\]"
      ],
      "text/plain": [
       "<IPython.core.display.Latex object>"
      ]
     },
     "metadata": {},
     "output_type": "display_data"
    }
   ],
   "source": [
    "%%render long\n",
    "V = 100 #m$^3$\n",
    "S_1 = 1/4\n",
    "D_t = ((4*100)/pi)**(1/3) #m\n",
    "D_a = D_t*S_1 #m"
   ]
  },
  {
   "cell_type": "markdown",
   "id": "5d9b2beb-2c7d-4570-9b1a-99bb210ad2da",
   "metadata": {},
   "source": [
    "La alternativa correcta es la **c**."
   ]
  },
  {
   "cell_type": "markdown",
   "id": "c737d28a-1b87-4894-8791-f486c3fd1aca",
   "metadata": {},
   "source": [
    "## Problema 2"
   ]
  },
  {
   "cell_type": "markdown",
   "id": "81555954-99bf-47b2-b746-c74a8eef37b5",
   "metadata": {},
   "source": [
    "El régimen de flujo en el estanque si la turbina opera a N = 25 rpm es el siguiente:"
   ]
  },
  {
   "cell_type": "markdown",
   "id": "b1673bea-c94e-451d-86e7-3b9377b88522",
   "metadata": {},
   "source": [
    "(a) Laminar\n",
    "\n",
    "(b) De transición de laminar a turbulento\n",
    "\n",
    "(c) Turbulento\n",
    "\n",
    "(d) No existe suficiente información para determinar el régimen de flujo"
   ]
  },
  {
   "cell_type": "markdown",
   "id": "9f5ef676-1979-4484-a5ec-45f2e580e233",
   "metadata": {},
   "source": [
    "## Solución"
   ]
  },
  {
   "cell_type": "code",
   "execution_count": 3,
   "id": "9fe5a97a-f93f-4a55-bc74-ce899c697c90",
   "metadata": {},
   "outputs": [
    {
     "data": {
      "text/latex": [
       "\\[\n",
       "\\begin{aligned}\n",
       "\\rho &= 1000 \\; \\;\\textrm{(kg/m$^3$)}\n",
       "\\\\[10pt]\n",
       "\\mu &= 0.020 \\; \\;\\textrm{(Pa$\\cdot$s)}\n",
       "\\\\[10pt]\n",
       "N &= 25 \\; \\;\\textrm{(RPM)}\n",
       "\\\\[10pt]\n",
       "\\mathrm{Re} &= \\frac{ \\rho \\cdot \\left( \\frac{ N }{ 60 } \\right) \\cdot \\left( D_{a} \\right) ^{ 2 } }{ \\mu } \\\\&= \\frac{ 1000 \\cdot \\left( \\frac{ 25 }{ 60 } \\right) \\cdot \\left( 1.258 \\right) ^{ 2 } }{ 0.020 } \\\\&= 32954.308  \\\\[10pt]\n",
       "\\end{aligned}\n",
       "\\]"
      ],
      "text/plain": [
       "<IPython.core.display.Latex object>"
      ]
     },
     "metadata": {},
     "output_type": "display_data"
    }
   ],
   "source": [
    "%%render long\n",
    "rho = 1000 #kg/m$^3$\n",
    "mu = 0.02 #Pa$\\cdot$s\n",
    "N = 25 #RPM\n",
    "Re = (rho*(N/60)*D_a**2)/mu"
   ]
  },
  {
   "cell_type": "markdown",
   "id": "a9b3ba14-d310-47fb-ac0a-bf8363c291f7",
   "metadata": {},
   "source": [
    "Ya que $Re > 10^4$, el régimen es turbulento."
   ]
  },
  {
   "cell_type": "markdown",
   "id": "d7991f55-0947-4ef9-a823-b8bc99d493bf",
   "metadata": {},
   "source": [
    "## Problema 3"
   ]
  },
  {
   "cell_type": "markdown",
   "id": "762e2e4b-9c68-47ec-9e7f-c917340317d3",
   "metadata": {},
   "source": [
    "Si para la configuración estándar del estanque agitado equipado con un agitador de turbina $K_L = 65$ y $K_T = 5.75$, entonces el consumo de potencia del estanque $(P)$ es aproximadamente el siguiente:"
   ]
  },
  {
   "cell_type": "markdown",
   "id": "36c80f2a-f313-4f51-ae4e-0e65285b281e",
   "metadata": {},
   "source": [
    "(a) P $<$ 1 kW\n",
    "\n",
    "(b) 1 kW $\\leq$ P $<$ 5 kW\n",
    "\n",
    "(c) 5 kW $\\leq$ P $<$ 25 kW\n",
    "\n",
    "(d) P $\\geq$ 25 kW"
   ]
  },
  {
   "cell_type": "markdown",
   "id": "be2315fc-7e61-4258-bdb1-9422d3c49212",
   "metadata": {},
   "source": [
    "## Solución"
   ]
  },
  {
   "cell_type": "code",
   "execution_count": 4,
   "id": "b2235e56-9b27-43ee-9c6b-c1d23abd3bd9",
   "metadata": {},
   "outputs": [
    {
     "data": {
      "text/latex": [
       "\\[\n",
       "\\begin{aligned}\n",
       "K_{T} &= 5.750 \\; \n",
       "\\\\[10pt]\n",
       "P &= K_{T} \\cdot \\rho \\cdot \\left( \\frac{ N }{ 60 } \\right) ^{ 3 } \\cdot \\left( D_{a} \\right) ^{ 5 } \\\\&= 5.750 \\cdot 1000 \\cdot \\left( \\frac{ 25 }{ 60 } \\right) ^{ 3 } \\cdot \\left( 1.258 \\right) ^{ 5 } \\\\&= 1308.934 \\; \\;\\textrm{(W)}\\\\[10pt]\n",
       "\\end{aligned}\n",
       "\\]"
      ],
      "text/plain": [
       "<IPython.core.display.Latex object>"
      ]
     },
     "metadata": {},
     "output_type": "display_data"
    }
   ],
   "source": [
    "%%render long\n",
    "K_T = 5.75\n",
    "P = K_T*rho*(N/60)**3*D_a**5 #W"
   ]
  },
  {
   "cell_type": "markdown",
   "id": "6dfa884d-d349-4e4a-a80d-b807f77f7237",
   "metadata": {},
   "source": [
    "La alternativa correcta es la **b**."
   ]
  },
  {
   "cell_type": "markdown",
   "id": "25b94489-c2a3-471e-b401-9e98cf3f6516",
   "metadata": {},
   "source": [
    "## Problema 4"
   ]
  },
  {
   "cell_type": "markdown",
   "id": "aa0dd9cb-211f-43b7-9bd8-59fda9490018",
   "metadata": {},
   "source": [
    "El tiempo promedio que toma el fluido que descarga la turbina en circular por el estanque y retornar a la turbina $(t_c)$ es aproximadamente el siguiente:"
   ]
  },
  {
   "cell_type": "markdown",
   "id": "91f3e995-4c32-4c15-90a2-9fea09485e06",
   "metadata": {},
   "source": [
    "(a) $t_c$ $<$ 20 s\n",
    "\n",
    "(b) 20 $\\leq$ $t_c$ $<$ 40 s\n",
    "\n",
    "(c) 40 $\\leq$ $t_c$ $<$ 80 s\n",
    "\n",
    "(d) $t_c$ $\\geq$ 80 s"
   ]
  },
  {
   "cell_type": "markdown",
   "id": "d5dfdf84-446a-4ad4-a94e-12aca35b5ef2",
   "metadata": {},
   "source": [
    "## Solución"
   ]
  },
  {
   "cell_type": "markdown",
   "id": "fae3e214-51af-4fe6-aee7-84b8e2891bae",
   "metadata": {},
   "source": [
    "Del gráfico:\n",
    "\n",
    "```{figure} ./images/img_EC-8.png\n",
    "---\n",
    "name: figura-EC8\n",
    "scale: 60%\n",
    "align: center\n",
    "---\n",
    "\n",
    "Gráfico para tiempo adimensional de mezclado.\n",
    "```\n",
    "\n",
    "Asumiendo que para $D_a/D_t=1/4$ es válida la línea de turbina $D_a/D_t=1/3$. Entonces $N\\times t_M \\approx 60$."
   ]
  },
  {
   "cell_type": "code",
   "execution_count": 5,
   "id": "6b8396e4-a72c-4ddd-bea6-d27ed77dafd7",
   "metadata": {},
   "outputs": [
    {
     "data": {
      "text/latex": [
       "\\[\n",
       "\\begin{aligned}\n",
       "\\mathrm{Nxt}_{M} &= 60 \\; \n",
       "\\\\[10pt]\n",
       "t_{m} &= \\frac{ \\mathrm{Nxt}_{M} }{ \\frac{ N }{ 60 } } \\\\&= \\frac{ 60 }{ \\frac{ 25 }{ 60 } } \\\\&= 144.000 \\; \\;\\textrm{(s)}\\\\[10pt]\n",
       "\\end{aligned}\n",
       "\\]"
      ],
      "text/plain": [
       "<IPython.core.display.Latex object>"
      ]
     },
     "metadata": {},
     "output_type": "display_data"
    }
   ],
   "source": [
    "%%render long\n",
    "Nxt_M = 60\n",
    "t_m = Nxt_M/(N/60) #s"
   ]
  },
  {
   "cell_type": "markdown",
   "id": "bd898886-f64b-4151-b6d3-34e1cc553c30",
   "metadata": {},
   "source": [
    "Ya que $t_m\\approx 5t_c$."
   ]
  },
  {
   "cell_type": "code",
   "execution_count": 6,
   "id": "48794e43-eae3-41da-9188-458f3219c0eb",
   "metadata": {},
   "outputs": [
    {
     "data": {
      "text/latex": [
       "\\[\n",
       "\\begin{aligned}\n",
       "t_{c} &= \\frac{ t_{m} }{ 5 } \\\\&= \\frac{ 144.000 }{ 5 } \\\\&= 28.800 \\; \\;\\textrm{(s)}\\\\[10pt]\n",
       "\\end{aligned}\n",
       "\\]"
      ],
      "text/plain": [
       "<IPython.core.display.Latex object>"
      ]
     },
     "metadata": {},
     "output_type": "display_data"
    }
   ],
   "source": [
    "%%render long\n",
    "t_c = t_m/5 #s"
   ]
  },
  {
   "cell_type": "code",
   "execution_count": null,
   "id": "61e37617",
   "metadata": {},
   "outputs": [],
   "source": []
  },
  {
   "cell_type": "markdown",
   "id": "e2d7f45b",
   "metadata": {},
   "source": [
    "La alternativa correcta es  **b**."
   ]
  },
  {
   "cell_type": "markdown",
   "id": "5414d933",
   "metadata": {},
   "source": []
  }
 ],
 "metadata": {
  "kernelspec": {
   "display_name": "Python 3 (ipykernel)",
   "language": "python",
   "name": "python3"
  },
  "language_info": {
   "codemirror_mode": {
    "name": "ipython",
    "version": 3
   },
   "file_extension": ".py",
   "mimetype": "text/x-python",
   "name": "python",
   "nbconvert_exporter": "python",
   "pygments_lexer": "ipython3",
   "version": "3.11.7"
  }
 },
 "nbformat": 4,
 "nbformat_minor": 5
}