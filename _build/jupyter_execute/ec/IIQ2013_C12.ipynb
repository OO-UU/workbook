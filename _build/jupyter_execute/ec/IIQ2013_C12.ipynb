{
 "cells": [
  {
   "cell_type": "markdown",
   "id": "4bccf88e-301a-4a91-8ca5-7bd95c3479ca",
   "metadata": {},
   "source": [
    "# IIQ2013 - Clase 12"
   ]
  },
  {
   "cell_type": "markdown",
   "id": "68f9b5e0-1ae9-4706-b46d-8f44706da7f9",
   "metadata": {},
   "source": [
    "Sea un compresor reciprocante compuesto de cuatro pistones conectados a un eje de vielas que opera a $125~\\text{RPM}$. En cada pistón ($D = 20~\\text{cm}$, $L = 13~\\text{cm}$) se comprime aire STP (at Standard Temperature and Pressure conditions) isoentrópicamente usando una razón de compresión $rc = 6$. Responda las siguientes preguntas asumiendo que se puede despreciar el volumen de holgura de cada pistón (pistones ideales):"
   ]
  },
  {
   "cell_type": "markdown",
   "id": "83c33ff0-0e96-447e-93c9-32eae5b49a3b",
   "metadata": {},
   "source": [
    "Librerias a utilizar:"
   ]
  },
  {
   "cell_type": "code",
   "execution_count": 1,
   "id": "46836b16-5f9f-45a8-bae9-6311b2e550b8",
   "metadata": {},
   "outputs": [],
   "source": [
    "import handcalcs.render\n",
    "from handcalcs import handcalc\n",
    "from numpy import pi"
   ]
  },
  {
   "cell_type": "markdown",
   "id": "6488135e-2c13-46e7-b379-479fadf88939",
   "metadata": {},
   "source": [
    "## Pregunta 1"
   ]
  },
  {
   "cell_type": "markdown",
   "id": "84df4b23-45d4-4a26-bd33-d1002d00e080",
   "metadata": {},
   "source": [
    "Los valores del peso molecular ($MW$) y factor $\\gamma$ para el aire son los siguientes, respectivamente:"
   ]
  },
  {
   "cell_type": "markdown",
   "id": "94dc751f-f87a-4adc-be20-62381ef41e02",
   "metadata": {},
   "source": [
    "(a) $MW\\approx$ 28 g/mol y $\\gamma\\approx$ 1.40 \\\n",
    "(b) $MW\\approx$ 29 g/mol y $\\gamma\\approx$ 1.32 \\\n",
    "(c) $MW\\approx$ 29 g/mol y $\\gamma\\approx$ 1.40 \\\n",
    "(d) $MW\\approx$ 32 g/mol y $\\gamma\\approx$ 1.40"
   ]
  },
  {
   "cell_type": "markdown",
   "id": "d179f749-0358-404a-8ccb-7282a1703eb3",
   "metadata": {},
   "source": [
    "## Solución"
   ]
  },
  {
   "cell_type": "markdown",
   "id": "294b59b7-a3b3-4bc5-8733-57678bd393db",
   "metadata": {},
   "source": [
    "El aire esta compuesto por: $N_2$ en un $78\\%$ y $O_2$ en un $22\\%$. Con $MW_{N_2} = 28~\\text{g/mol}$ y $MW_{O_2} = 32~\\text{g/mol}$"
   ]
  },
  {
   "cell_type": "code",
   "execution_count": 2,
   "id": "594189a1-2034-4990-b7ec-a7914196a585",
   "metadata": {},
   "outputs": [
    {
     "data": {
      "text/latex": [
       "\\[\n",
       "\\begin{aligned}\n",
       "\\mathrm{MW}_{N2} &= 28 \\; \\;\\textrm{(g/mol)}\n",
       "\\\\[10pt]\n",
       "\\mathrm{MW}_{O2} &= 32 \\; \\;\\textrm{(g/mol)}\n",
       "\\\\[10pt]\n",
       "\\mathrm{MW} &= 0.78 \\cdot \\mathrm{MW}_{N2} + 0.22 \\cdot \\mathrm{MW}_{O2} \\\\&= 0.78 \\cdot 28 + 0.22 \\cdot 32 \\\\&= 28.880  \\\\[10pt]\n",
       "\\end{aligned}\n",
       "\\]"
      ],
      "text/plain": [
       "<IPython.core.display.Latex object>"
      ]
     },
     "metadata": {},
     "output_type": "display_data"
    }
   ],
   "source": [
    "%%render long\n",
    "MW_N2 = 28 #g/mol\n",
    "MW_O2 = 32 #g/mol\n",
    "MW = 0.78*MW_N2 + 0.22*MW_O2"
   ]
  },
  {
   "cell_type": "markdown",
   "id": "611d53ef-cb1b-40f1-aafd-3bd11002b66b",
   "metadata": {},
   "source": [
    "Luego $MW\\approx29~\\text{g/mol}$ y $\\gamma=1.4$. Por lo tanto la alternativa correcta es la **c**."
   ]
  },
  {
   "cell_type": "markdown",
   "id": "8e5aba70-021e-4957-a09c-a30eafcac2cf",
   "metadata": {},
   "source": [
    "## Pregunta 2"
   ]
  },
  {
   "cell_type": "markdown",
   "id": "23fa4ba1-af54-492b-88ae-d686875d304b",
   "metadata": {},
   "source": [
    "El flujo masico de aire comprimido ($m$) descargado por el compresor es el siguiente:"
   ]
  },
  {
   "cell_type": "markdown",
   "id": "fada50d5-e299-465f-8409-4c67c3462143",
   "metadata": {},
   "source": [
    "(a) $m$ > 2 kg/min de aire \\\n",
    "(b) 1.5 < $m$ ≤ 2 kg/min de aire \\\n",
    "(c) 1.0 < $m$ ≤ 1.5 kg/min de aire \\\n",
    "(d) $m$ ≤ 1 kg/min de aire"
   ]
  },
  {
   "cell_type": "markdown",
   "id": "66e6c04d-33f1-490a-b1fd-9ae53867a5a5",
   "metadata": {},
   "source": [
    "*Hint: Puede estimar dicho flujo masico considerando el volumen especifico del aire STP y el volumen total barrido por los cuatro pistones operando a 125 rpm.*"
   ]
  },
  {
   "cell_type": "markdown",
   "id": "af58587a-d7e7-4622-a685-346bdbb06306",
   "metadata": {},
   "source": [
    "## Solución"
   ]
  },
  {
   "cell_type": "markdown",
   "id": "91df03aa-f70d-4bdf-9a3f-6f4c26e06499",
   "metadata": {},
   "source": [
    "Ya que en el enunciado nos dicen que el aire se comprime a STD, la presión es $100~\\text{kPa}$ y la temperatura es $273.15~\\text{K}$. Ya que no hay holgura $c=0$:\n",
    "\n",
    "$$\n",
    "V_{total} = 4V_{c+l} = 4\\frac{\\pi(D)^2}{4}L\n",
    "$$"
   ]
  },
  {
   "cell_type": "code",
   "execution_count": 3,
   "id": "fd8a65cf-06c2-424e-9f87-ba77d5c2ff91",
   "metadata": {},
   "outputs": [
    {
     "data": {
      "text/latex": [
       "\\[\n",
       "\\begin{aligned}\n",
       "D &= 0.200 \\; \\;\\textrm{(m)}\n",
       "\\\\[10pt]\n",
       "L &= 0.130 \\; \\;\\textrm{(L)}\n",
       "\\\\[10pt]\n",
       "V &= 4 \\cdot \\left( \\frac{ \\pi \\cdot \\left( D \\right) ^{ 2 } }{ 4 } \\right) \\cdot L \\\\&= 4 \\cdot \\left( \\frac{ 3.142 \\cdot \\left( 0.200 \\right) ^{ 2 } }{ 4 } \\right) \\cdot 0.130 \\\\&= 0.016 \\; \\;\\textrm{(m$^3$)}\\\\[10pt]\n",
       "\\end{aligned}\n",
       "\\]"
      ],
      "text/plain": [
       "<IPython.core.display.Latex object>"
      ]
     },
     "metadata": {},
     "output_type": "display_data"
    }
   ],
   "source": [
    "%%render long\n",
    "D = 0.2 #m\n",
    "L = 0.13 #L\n",
    "V = 4*((pi*D**2)/(4))*L #m$^3$"
   ]
  },
  {
   "cell_type": "markdown",
   "id": "b9710ed8-2af6-468b-b150-039e62efcc95",
   "metadata": {},
   "source": [
    "Para obtener la masa por ciclo, podemos separar el volumen másico $v~\\text{m}^3\\text{/kg}$ desde la ecuación de los gases ideales:\n",
    "\n",
    "$$\n",
    "Pv = \\frac{RT}{MW} \\Rightarrow PV = \\frac{mRT}{MW}\n",
    "$$"
   ]
  },
  {
   "cell_type": "code",
   "execution_count": 4,
   "id": "c353a671-4b6c-406c-972a-be9205176548",
   "metadata": {},
   "outputs": [
    {
     "data": {
      "text/latex": [
       "\\[\n",
       "\\begin{aligned}\n",
       "R &= 8.314 \\; \\;\\textrm{(J/mol$\\cdot$K)}\n",
       "\\\\[10pt]\n",
       "T &= 273.150 \\; \\;\\textrm{(K)}\n",
       "\\\\[10pt]\n",
       "P &= 100000 \\; \\;\\textrm{(Pa)}\n",
       "\\\\[10pt]\n",
       "m_{cic} &= \\frac{ P \\cdot V \\cdot \\frac{ \\mathrm{MW} }{ 1000 } }{ R \\cdot T } \\\\&= \\frac{ 100000 \\cdot 0.016 \\cdot \\frac{ 28.880 }{ 1000 } }{ 8.314 \\cdot 273.150 } \\\\&= 0.021 \\; \\;\\textrm{(kg/ciclo)}\\\\[10pt]\n",
       "\\end{aligned}\n",
       "\\]"
      ],
      "text/plain": [
       "<IPython.core.display.Latex object>"
      ]
     },
     "metadata": {},
     "output_type": "display_data"
    }
   ],
   "source": [
    "%%render long\n",
    "R = 8.314 #J/mol$\\cdot$K\n",
    "T = 273.15 #K\n",
    "P = 100000 #Pa\n",
    "m_cic = (P*V*MW/1000)/(R*T) #kg/ciclo"
   ]
  },
  {
   "cell_type": "markdown",
   "id": "663347d4-6dfa-40f9-b4d1-25fb550fc98c",
   "metadata": {},
   "source": [
    "Como nos indica el *Hint*, podemos calcular el flujo másico a partir de las revoluciones por minuto."
   ]
  },
  {
   "cell_type": "code",
   "execution_count": 5,
   "id": "8e78545b-bc8f-41b5-9c0b-172161cfba1e",
   "metadata": {},
   "outputs": [
    {
     "data": {
      "text/latex": [
       "\\[\n",
       "\\begin{aligned}\n",
       "\\mathrm{RPM} &= 125 \\; \\;\\textrm{(rpm)}\n",
       "\\\\[10pt]\n",
       "f_{m} &= m_{cic} \\cdot \\mathrm{RPM} \\\\&= 0.021 \\cdot 125 \\\\&= 2.597 \\; \\;\\textrm{(kg/min)}\\\\[10pt]\n",
       "\\end{aligned}\n",
       "\\]"
      ],
      "text/plain": [
       "<IPython.core.display.Latex object>"
      ]
     },
     "metadata": {},
     "output_type": "display_data"
    }
   ],
   "source": [
    "%%render long\n",
    "RPM = 125 #rpm\n",
    "f_m = m_cic*RPM #kg/min"
   ]
  },
  {
   "cell_type": "markdown",
   "id": "9ae3bdf4-dfcd-43f6-b98d-b05a7f61bab2",
   "metadata": {},
   "source": [
    "Por lo tanto, la alternativa correcta es la **a**."
   ]
  },
  {
   "cell_type": "markdown",
   "id": "581819dc-a0fa-4b49-9665-91a03486868a",
   "metadata": {},
   "source": [
    "## Pregunta 3"
   ]
  },
  {
   "cell_type": "markdown",
   "id": "8a28da65-a568-4684-849c-8a3de9b8b984",
   "metadata": {},
   "source": [
    "La temperatura de expulsión del aire comprimido ($T_2$) del compresor es la siguiente:"
   ]
  },
  {
   "cell_type": "markdown",
   "id": "fcc2f391-ba7c-427a-8372-4729666aa732",
   "metadata": {},
   "source": [
    "(a) $T_2$ > 300 °C \\\n",
    "(b) 200 < $T_2$ ≤ 300 °C \\\n",
    "(c) 100 < $T_2$ ≤ 200 °C \\\n",
    "(d) $T_2$ ≤ 100 °C"
   ]
  },
  {
   "cell_type": "markdown",
   "id": "7720e366-93cc-4ce7-bee6-ac3217579ab4",
   "metadata": {},
   "source": [
    "## Solución"
   ]
  },
  {
   "cell_type": "markdown",
   "id": "33198acf-42be-42d1-93ed-92a4a629f67c",
   "metadata": {},
   "source": [
    "Sabemos que\n",
    "\n",
    "$$\n",
    "p_1v_1^\\gamma = p_2v_2^\\gamma \\Rightarrow \\left(\\frac{p_2}{p_1}\\right)^{\\frac{1}{\\gamma}} = \\frac{v_1}{v_2}\n",
    "$$"
   ]
  },
  {
   "cell_type": "markdown",
   "id": "5ce69da5-3a3b-4a2b-844a-6a6f3b068e28",
   "metadata": {},
   "source": [
    "Y además, para gases ideales:\n",
    "\n",
    "$$\n",
    "pv = RT\n",
    "$$"
   ]
  },
  {
   "cell_type": "markdown",
   "id": "f5f83141-caa5-49f1-ad6f-5e17ee516f2e",
   "metadata": {},
   "source": [
    "Luego reemplazando $v$.\n",
    "\n",
    "$$\n",
    "\\left(\\frac{p_2}{p_1}\\right)^{\\frac{1}{\\gamma}} = \\frac{RT_1P_2}{RT_2P_1} \\Rightarrow \\frac{T_2}{T_1} = \\left(\\frac{p_2}{p_1}\\right)^{\\frac{\\gamma-1}{\\gamma}}\n",
    "$$"
   ]
  },
  {
   "cell_type": "markdown",
   "id": "9c7a7896-549b-4c27-be00-714926a237f5",
   "metadata": {},
   "source": [
    "Sabemos que $p_2/p_1$ es el factor de compresión e igual a $6$. Despejamos $T_2$."
   ]
  },
  {
   "cell_type": "code",
   "execution_count": 6,
   "id": "034138ce-d059-4a26-b523-a72ceb49eaed",
   "metadata": {},
   "outputs": [
    {
     "data": {
      "text/latex": [
       "\\[\n",
       "\\begin{aligned}\n",
       "\\mathrm{rc} &= 6 \\; \n",
       "\\\\[10pt]\n",
       "\\gamma &= 1.400 \\; \n",
       "\\\\[10pt]\n",
       "T_{2} &= T \\cdot \\left( \\mathrm{rc} \\right) ^{ \\left( \\frac{ \\gamma - 1 }{ \\gamma } \\right) } \\\\&= 273.150 \\cdot \\left( 6 \\right) ^{ \\left( \\frac{ 1.400 - 1 }{ 1.400 } \\right) } \\\\&= 455.754 \\; \\;\\textrm{(K)}\\\\[10pt]\n",
       "\\end{aligned}\n",
       "\\]"
      ],
      "text/plain": [
       "<IPython.core.display.Latex object>"
      ]
     },
     "metadata": {},
     "output_type": "display_data"
    }
   ],
   "source": [
    "%%render long\n",
    "rc = 6\n",
    "gamma = 1.4\n",
    "T_2 = T*(rc)**((gamma-1)/gamma) #K"
   ]
  },
  {
   "cell_type": "markdown",
   "id": "7e36db81-1ad1-42d0-b3df-4694be2e014f",
   "metadata": {},
   "source": [
    "Luego $T_2 = 455.75~\\text{K} = 182.6\\text{°C}$. Entonces, la alternativa correcta es la **c**."
   ]
  },
  {
   "cell_type": "markdown",
   "id": "5468e28e-ae86-43e3-a6ac-4cb7c3ec452a",
   "metadata": {},
   "source": [
    "## Pregunta 4"
   ]
  },
  {
   "cell_type": "markdown",
   "id": "4bee9dcc-5fcf-4780-a0cf-aed3e7947b9d",
   "metadata": {},
   "source": [
    "La potencia ($W$) que se debe entregar al aire para comprimirlo hasta $p_2 = 6~\\text{atm}$ es la siguiente:"
   ]
  },
  {
   "cell_type": "markdown",
   "id": "de0604b5-cfae-450a-ae82-22d6c56002d9",
   "metadata": {},
   "source": [
    "(a) $W$ > 50 kW \\\n",
    "(b) 5 < $W$ ≤ 50 kW \\\n",
    "(c) 0.5 < $W$ ≤ 5.0 kW \\\n",
    "(d) $W$ ≤ 0.5 kW"
   ]
  },
  {
   "cell_type": "markdown",
   "id": "c13a0574-c6fa-4ddb-9503-141fb45028ef",
   "metadata": {},
   "source": [
    "## Solución"
   ]
  },
  {
   "cell_type": "markdown",
   "id": "04b02094-47fc-4ce7-92cf-2cbb731820b8",
   "metadata": {},
   "source": [
    "Asumiendo que el compresor opera de manera de manera idea, obtenemos la potencia a partir de la relación con el trabajo.\n",
    "\n",
    "$$\n",
    "\\dot{W}_{rev} = \\frac{\\gamma}{\\gamma-1}p_1\\dot{V}_1\\left(\\left(\\frac{p_2}{p_1}\\right)^{\\frac{\\gamma-1}{\\gamma}}-1\\right)\n",
    "$$"
   ]
  },
  {
   "cell_type": "markdown",
   "id": "9fa28969-6e31-4a08-aa9e-7ee58170fa0e",
   "metadata": {},
   "source": [
    "Asumiendo que $\\rho\\approx1~\\text{kg/m}^3$:"
   ]
  },
  {
   "cell_type": "code",
   "execution_count": 7,
   "id": "66b9597d-89df-427e-a5c4-8b4e1bbe59b6",
   "metadata": {},
   "outputs": [
    {
     "data": {
      "text/latex": [
       "\\[\n",
       "\\begin{aligned}\n",
       "V_{1dot} &= \\frac{ f_{m} }{ 60 } \\\\&= \\frac{ 2.597 }{ 60 } \\\\&= 0.043 \\; \\;\\textrm{(m$^3$/s)}\\\\[10pt]\n",
       "\\\\[10pt]\n",
       "W_{dot} &= \\frac{ \\gamma }{ \\gamma - 1 } \\cdot P \\cdot V_{1dot} \\cdot \\left( \\left( \\mathrm{rc} \\right) ^{ \\left( \\frac{ \\gamma - 1 }{ \\gamma } \\right) } - 1 \\right) \\\\&= \\frac{ 1.400 }{ 1.400 - 1 } \\cdot 100000 \\cdot 0.043 \\cdot \\left( \\left( 6 \\right) ^{ \\left( \\frac{ 1.400 - 1 }{ 1.400 } \\right) } - 1 \\right) \\\\&= 10126.845 \\; \\;\\textrm{(W)}\\\\[10pt]\n",
       "\\end{aligned}\n",
       "\\]"
      ],
      "text/plain": [
       "<IPython.core.display.Latex object>"
      ]
     },
     "metadata": {},
     "output_type": "display_data"
    }
   ],
   "source": [
    "%%render long\n",
    "V_1dot = f_m/60 #m$^3$/s\n",
    "W_dot = gamma/(gamma-1)*P*V_1dot*(rc**((gamma-1)/gamma)-1) #W"
   ]
  },
  {
   "cell_type": "markdown",
   "id": "74984172-6b29-4db4-9da5-b16ec831367e",
   "metadata": {},
   "source": [
    "Ya que $W = 10.13~\\text{kW}$, la alternativa correcta es la **b**."
   ]
  },
  {
   "cell_type": "code",
   "execution_count": null,
   "id": "6dacdfbc-3124-438b-bef8-8617d9f1e513",
   "metadata": {},
   "outputs": [],
   "source": []
  }
 ],
 "metadata": {
  "kernelspec": {
   "display_name": "Python 3 (ipykernel)",
   "language": "python",
   "name": "python3"
  },
  "language_info": {
   "codemirror_mode": {
    "name": "ipython",
    "version": 3
   },
   "file_extension": ".py",
   "mimetype": "text/x-python",
   "name": "python",
   "nbconvert_exporter": "python",
   "pygments_lexer": "ipython3",
   "version": "3.11.7"
  }
 },
 "nbformat": 4,
 "nbformat_minor": 5
}