{
 "cells": [
  {
   "cell_type": "markdown",
   "id": "7c724514-cbee-4e67-b9fe-177ad2a5c603",
   "metadata": {},
   "source": [
    "# Ejercicio 2: Pérdidas por fricción y singularidades"
   ]
  },
  {
   "cell_type": "markdown",
   "id": "0d66c8e4-f5a1-48a9-af4e-ece9d313ef5a",
   "metadata": {},
   "source": [
    "## Enunciado\n",
    "\n",
    "Luego del proceso final de refinación de petróleo, se obtiene un fluido en fase líquida cuya viscosidad cinemática es de $\\nu=0.691\\hspace{1mm}(mm^2/s \\hspace{1mm}o\\hspace{1mm}cSt)$ y su densidad es de $\\rho=876\\hspace{1mm}(kg/m^3)$. En un principio, este fluido es almacenado en dos estanques distintos, para luego terminar en un último estanque de almacenamiento mediante un sistema de tuberías. Considere que la presión en la superficie de los estanques es atmosférica.\n",
    "\n",
    "1. Determine la velocidad del fluido justo después de entrar en el estanque **C**. Para sus cálculos asuma un factor de fricción $f_{Fanning}=0.0045$.\n",
    "2. Compruebe si el factor de fricción utilizado representa correctamente al sistema. Utilice la ecuación de Nevers."
   ]
  },
  {
   "cell_type": "markdown",
   "id": "4e91d302-5a38-497d-91ce-463411100434",
   "metadata": {},
   "source": [
    "```{figure} ./images/img1_2_2.png\n",
    ":align: center\n",
    ":name: figura-4\n",
    "\n",
    "Sistema de tuberías y estanques.\n",
    "```"
   ]
  },
  {
   "cell_type": "markdown",
   "id": "cd23ea6f",
   "metadata": {},
   "source": [
    "```{admonition} Información sobre las singularidades de la figura\n",
    ":class: note\n",
    "\n",
    "Las entradas a las tuberías desde los estanques son afiladas. La tubería que sale del estanque A baja hasta llegar a un codo recto. Finalmente, asuma que las pérdidas asociadas a la intersección son despreciables.\n",
    "```"
   ]
  },
  {
   "cell_type": "markdown",
   "id": "95c3bb2d-9b34-4ca9-b7f8-d8507b7a5afa",
   "metadata": {},
   "source": [
    "Considere que todas las tuberías son de acero comercial ($\\epsilon=0.046\\hspace{1mm}(mm)$). Además la tubería entre el estanque **A** y la intersección es de diámetro $d_A=25\\hspace{1mm}(cm)$, la tubería entre **B** y la intersección tiene $d_B=27\\hspace{1mm}(cm)$ y, por último, la tubería entre la intersección y **C** es de $d_C=40\\hspace{1mm}(cm)$."
   ]
  },
  {
   "cell_type": "markdown",
   "id": "f71bebb5",
   "metadata": {},
   "source": [
    "{ref}`Ver solución <part1:cap2:ex2:sol>`\n",
    "\n",
    "<br/><br/>\n",
    "<br/><br/>\n",
    "<br/><br/>\n",
    "<br/><br/>\n",
    "<br/><br/>\n",
    "<br/><br/>\n",
    "<br/><br/>\n",
    "<br/><br/>"
   ]
  },
  {
   "cell_type": "markdown",
   "id": "5a06a72c-a9ce-4cf9-b8ad-5db743c45568",
   "metadata": {},
   "source": [
    "(part1:cap2:ex2:sol)=\n",
    "## Solución"
   ]
  },
  {
   "cell_type": "code",
   "execution_count": 1,
   "id": "14e711cf-d7ff-46cc-970e-f91e7d49103a",
   "metadata": {},
   "outputs": [],
   "source": [
    "# Paquetes utilizados\n",
    "from sympy import symbols, Eq, solve\n",
    "from math import pi"
   ]
  },
  {
   "cell_type": "markdown",
   "id": "32057e12-d6e3-45ac-a814-85583257b109",
   "metadata": {},
   "source": [
    "### Inciso 1"
   ]
  },
  {
   "cell_type": "markdown",
   "id": "b2727e0e-abab-42a3-8895-0ff14a4bac37",
   "metadata": {},
   "source": [
    "Sea $P_I$ la presión en la intercepción, adicionalmente, sabemos que todas las presiones de los estanques son atmosféricas. Luego, creamos un sistema de ecuaciones para los puntos importantes.\n",
    "$$\n",
    "A-I: \\hspace{10mm} (z_I-z_A) + \\frac{P_I}{g\\rho} + \\left(K_{in} + K_{codo} + 4f\\frac{L_{A-I}}{d_A} + 1\\right)\\frac{u_A^2}{2g} = 0\n",
    "$$ (part1:cap2:ex2:eq1)$\n"
   ]
  },
  {
   "cell_type": "markdown",
   "id": "2a067ed1-4aa1-4aa4-acf2-c16970bb0020",
   "metadata": {},
   "source": [
    "$$\n",
    "B-I: \\hspace{10mm} (z_I-z_B) + \\frac{P_I}{g\\rho} + \\left(K_{in} + 4f\\frac{L_{B-I}}{d_B} + 1\\right)\\frac{u_B^2}{2g} = 0\n",
    "$$ (part1:cap2:ex2:eq2)"
   ]
  },
  {
   "cell_type": "markdown",
   "id": "25a4c540-ffd1-43bd-885d-0d410169ea60",
   "metadata": {},
   "source": [
    "$$\n",
    "I-C: \\hspace{10mm} (-z_I) - \\frac{P_I}{g\\rho} + \\left(K_{out} + 4f\\frac{L_{C-I}}{d_C} + 1\\right)\\frac{u_C^2}{2g} = 0\n",
    "$$ (part1:cap2:ex2:eq3)\n"
   ]
  },
  {
   "cell_type": "markdown",
   "id": "661de405-5390-4d29-bc72-b3593c1d6ca7",
   "metadata": {},
   "source": [
    "En donde $L$ es el largo que recorre el fluido entre los puntos.\n",
    "\n",
    "Igualando {eq}`part1:cap2:ex2:eq1` y {eq}`part1:cap2:ex2:eq2`.\n",
    "\n",
    "$$\n",
    "\\left(K_{in} + K_{codo} + 4f\\frac{L_{A-I}}{d_A} + 1\\right)\\frac{u_A^2}{2g} - \\left(K_{in} + 4f\\frac{L_{B-I}}{d_B} + 1\\right)\\frac{u_B^2}{2g} = (z_A - z_B)\n",
    "$$"
   ]
  },
  {
   "cell_type": "markdown",
   "id": "b138c947-1b29-4766-acf7-42fb429b2e7e",
   "metadata": {},
   "source": [
    "E igualando {eq}`part1:cap2:ex2:eq2` y -{eq}`part1:cap2:ex2:eq3`"
   ]
  },
  {
   "cell_type": "markdown",
   "id": "28059cf5-6cad-48e0-b844-998f24b370c7",
   "metadata": {},
   "source": [
    "$$\n",
    "\\left(K_{in} + 4f\\frac{L_{B-I}}{d_B} + 1\\right)\\frac{u_B^2}{2g} +  \\left(K_{out} + 4f\\frac{L_{C-I}}{d_C} + 1\\right)\\frac{u_C^2}{2g} = z_B\n",
    "$$"
   ]
  },
  {
   "cell_type": "markdown",
   "id": "073bb282-8142-4d68-90a1-bcb6b6c11631",
   "metadata": {},
   "source": [
    "Además, sabemos que la ecuación de continuidad nos dice que:"
   ]
  },
  {
   "cell_type": "markdown",
   "id": "7eff9b07-21bc-4c28-8c06-96794cdb9221",
   "metadata": {},
   "source": [
    "$$\n",
    "Q_A + Q_B = Q_C\n",
    "$$"
   ]
  },
  {
   "cell_type": "markdown",
   "id": "439081da-63e9-47e2-ad47-bbc5833f9feb",
   "metadata": {},
   "source": [
    "$$\n",
    "\\frac{\\pi}{4}d_A^2u_A + \\frac{\\pi}{4}d_B^2u_B = \\frac{\\pi}{4}d_C^2u_C\n",
    "$$"
   ]
  },
  {
   "cell_type": "markdown",
   "id": "500b7e20-aa0d-45e9-ae1a-56056f624bd4",
   "metadata": {},
   "source": [
    "Al formar un sistema de 3 incógnitas y tres ecuaciones despejamos para los valores de las velocidades."
   ]
  },
  {
   "cell_type": "code",
   "execution_count": 2,
   "id": "5303bf92-8f46-46e2-b5ec-77f200dcc0ee",
   "metadata": {},
   "outputs": [
    {
     "name": "stdout",
     "output_type": "stream",
     "text": [
      "u_A es 5.01661842550508 m/s, u_B es 6.05885232038120 m/s y u_C es 4.72018116093660 m/s.\n"
     ]
    }
   ],
   "source": [
    "# Constantes de enunciado\n",
    "g = 9.8 #m/s2\n",
    "rho = 876 #kg/m3\n",
    "nu = 0.691*10**(-6) #m2/s\n",
    "\n",
    "# Largos\n",
    "L_A = 2.7 + 1 #m\n",
    "L_B = 4 #m\n",
    "L_C = 2.3 #m\n",
    "\n",
    "# Diámetros\n",
    "d_A = 25/100 #m\n",
    "d_B = 27/100 #m\n",
    "d_C = 40/100 #m\n",
    "\n",
    "# Alturas\n",
    "z_A = 2 + 0.5 + 2.7 + 1 #m\n",
    "z_B = 2 + 2.7 + 1 #m\n",
    "\n",
    "# Pérdidas de carga\n",
    "K_in = 0.5\n",
    "K_codo = 1.2\n",
    "K_out = 1\n",
    "f = 0.0045\n",
    "\n",
    "# Variables simbólicas, x == u_A, y == u_B, z == u_C\n",
    "x, y, z = symbols('x y z')\n",
    "\n",
    "# Sistema de ecuaciones\n",
    "eq1 = Eq( (1/(2*g))*(K_in + K_codo + 4*f*(L_A/d_A) + 1)*x**2 - (1/(2*g))*(K_in + 4*f*(L_B/d_B) + 1)*y**2, z_A-z_B)\n",
    "eq2 = Eq( (1/(2*g))*(K_in + 4*f*(L_B/d_B) + 1)*y**2 + (1/(2*g))*(K_out + 4*f*(L_C/d_C) + 1)*z**2, z_B)\n",
    "eq3 = Eq( (pi/4)*(d_A**2)*x + (pi/4)*(d_B**2)*y, (pi/4)*(d_C**2)*z)\n",
    "\n",
    "# Solver y obtener únicamente las variables reales positivas.\n",
    "solutions = solve((eq1, eq2, eq3), (x, y, z))\n",
    "solution_vector = []\n",
    "for solution in solutions:\n",
    "    if all(sol.is_real and sol.is_positive for sol in solution):\n",
    "        solution_vector = solution\n",
    "\n",
    "print(\"u_A es\", solution_vector[0],\"m/s, u_B es\", solution_vector[1],\"m/s y u_C es\", solution_vector[2],\"m/s.\")"
   ]
  },
  {
   "cell_type": "markdown",
   "id": "8775c218-8fbe-4330-81e9-1d2af29895a8",
   "metadata": {},
   "source": [
    "La velocidad justo después de entrar al estanque C es de $u_C = 4.72\\hspace{1mm}(m/s)$."
   ]
  },
  {
   "cell_type": "markdown",
   "id": "844fb070-b4bc-43e4-937c-5234eeef42b1",
   "metadata": {},
   "source": [
    "### Inciso 2"
   ]
  },
  {
   "cell_type": "markdown",
   "id": "ff616dbe-5ee2-4ff3-8bf7-93992e098d8d",
   "metadata": {},
   "source": [
    "Para comprobar si el supuesto de fricción es acertado, podemos calcular el factor de fricción con la ecuación de Nevers, utilizando las velocidades encontradas. A este procedimiento se le conoce como *iteración*. Donde tomamos una suposición inicial para poder resolver nuestro sistema inicial, y luego comprobamos la exactitud de dicha suposición.\n",
    "\n",
    "Recordar que $\\epsilon = 0.0.046$.\n",
    "\n",
    "$$\n",
    "f = 0.001375\\left(1 + \\left(2\\times10^4\\frac{\\epsilon}{D} + \\frac{10^6}{Re}\\right)^{\\frac{1}{3}}\\right)\n",
    "$$"
   ]
  },
  {
   "cell_type": "markdown",
   "id": "73e70c8f-6019-4afc-a1aa-e93830b9fdc3",
   "metadata": {},
   "source": [
    "Vemos los valores de Reynolds."
   ]
  },
  {
   "cell_type": "code",
   "execution_count": 3,
   "id": "523b7021-8245-4ac4-aba6-79bd4aa6cec4",
   "metadata": {},
   "outputs": [
    {
     "name": "stdout",
     "output_type": "stream",
     "text": [
      "Re_A es 1814984.95857637 , Re_B es 2367424.20622710 y Re_C es 2732376.93831352 .\n"
     ]
    }
   ],
   "source": [
    "#Recordar que, del inciso anterior obtuvimos...\n",
    "u_A = solution_vector[0]\n",
    "u_B = solution_vector[1]\n",
    "u_C = solution_vector[2]\n",
    "\n",
    "reynolds_vector = []\n",
    "diameter_vector = [d_A, d_B, d_C]\n",
    "\n",
    "for i in range(0, len(solution_vector)):\n",
    "    reynolds_vector.append(solution_vector[i]*diameter_vector[i]/nu)\n",
    "print(\"Re_A es\", reynolds_vector[0],\", Re_B es\", reynolds_vector[1],\"y Re_C es\", reynolds_vector[2],\".\")"
   ]
  },
  {
   "cell_type": "markdown",
   "id": "82d4267e-1722-4c30-9704-485d177c37cd",
   "metadata": {},
   "source": [
    "Notamos que para esta iteración, los valores de Reynolds son turbulentos. Procedemos a utilizar la ecuación de Nevers."
   ]
  },
  {
   "cell_type": "code",
   "execution_count": 4,
   "id": "3884b596-89ea-4dbd-baf6-83587af22ed7",
   "metadata": {},
   "outputs": [
    {
     "name": "stdout",
     "output_type": "stream",
     "text": [
      "f_A = 0.0112332966799599\n",
      "f_B = 0.0109827877312439\n",
      "f_C = 0.00980398887211753\n"
     ]
    }
   ],
   "source": [
    "epsilon = 0.0046\n",
    "friction_vector = []\n",
    "for i in range(0, len(reynolds_vector)):\n",
    "    friction_vector.append(0.001375*(1+((2*10**4)*(epsilon/diameter_vector[i])+(10**6/reynolds_vector[i]))**(1/3)))\n",
    "\n",
    "print(\"f_A =\",friction_vector[0])\n",
    "print(\"f_B =\",friction_vector[1])\n",
    "print(\"f_C =\",friction_vector[2])"
   ]
  },
  {
   "cell_type": "markdown",
   "id": "59ffb2ac-dfd4-4032-8b29-1ffffd2dca36",
   "metadata": {},
   "source": [
    "Notamos que la diferencia entre los factores de fricción obtenidos y el supuesto es notoria. Se recomienda iterar reemplazando $f$ por un promedio de estos valores, y observar cómo varían las velocidades (Descarge el código y compruebe). ¿Observa alguna diferencia entre el resultado de velocidad incial?"
   ]
  }
 ],
 "metadata": {
  "kernelspec": {
   "display_name": "Python 3 (ipykernel)",
   "language": "python",
   "name": "python3"
  },
  "language_info": {
   "codemirror_mode": {
    "name": "ipython",
    "version": 3
   },
   "file_extension": ".py",
   "mimetype": "text/x-python",
   "name": "python",
   "nbconvert_exporter": "python",
   "pygments_lexer": "ipython3",
   "version": "3.11.7"
  }
 },
 "nbformat": 4,
 "nbformat_minor": 5
}