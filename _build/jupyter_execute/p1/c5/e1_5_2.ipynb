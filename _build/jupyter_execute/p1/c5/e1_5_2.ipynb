{
 "cells": [
  {
   "cell_type": "markdown",
   "id": "164cb57e-504b-45b4-90bf-53984153a534",
   "metadata": {},
   "source": [
    "# Ejercicio 2: Flujo compresible y compresores"
   ]
  },
  {
   "cell_type": "markdown",
   "id": "f2b866e3-fb08-4265-865b-eadda6abcf26",
   "metadata": {},
   "source": [
    "## Enunciado"
   ]
  },
  {
   "cell_type": "markdown",
   "id": "216e1d1c-384c-41bd-ad18-cc2d92cad07c",
   "metadata": {},
   "source": [
    "Usted cuenta con un compresor reciprocante de 2 etapas que opera a  $500~\\text{RPM}$. En dicho compresor, se encuentra argón ($\\text{PM}_{\\text{Ar}}=39.948~\\text{g/mol}$ y con coeficiente adiabático $\\gamma=1.2$). A la salida del compresor se encuentra una tubería conectada por la cual se trasportará el argón a otro punto. Esta tubería es de acero comercial ($\\varepsilon=0.046\\text{mm}$), y tiene un largo $L=5~\\text{km}$ con diámetro interno $D = 3~\\text{in}$. Usted sabe que a la entrada de la tubería, el gas tiene una presión y temperatura de $10~\\text{MPa}$ y $750~\\text{K}$ respectivamente. Además, el flujo másico a lo largo de la tubería debe ser de $G=3~\\text{kg/s}$.\n",
    "\n",
    "\n",
    "1. Encuentre el largo máximo de la tubería para que el argón o alcance la condición de ahogamiento. ¿Es el largo de la tubería indicado para operar en las condiciones descritas? *Hint: recuerde que puede asumir que $Re\\rightarrow\\infty$.*\n",
    "2. Si en la primera etapa el compresor se encuentra a $70~\\text{kPa}$, y el compresor opera de manera isoentrópica con razón de presiones constante. Encuentre el volumen específico del argón a la entrada de la segunda etapa $v_{i1}$.\n",
    "3. Considerando una holgura en la segunda etapa de $c_2 = 0.2$, calcule el trabajo total del segundo ciclo."
   ]
  },
  {
   "cell_type": "markdown",
   "id": "77884635-0311-4a54-94fe-b9d130ba2860",
   "metadata": {},
   "source": [
    "{ref}`Ver solución <part1:cap5:ex2:sol>`\n",
    "\n",
    "<br/><br/>\n",
    "<br/><br/>\n",
    "<br/><br/>\n",
    "<br/><br/>\n",
    "<br/><br/>\n",
    "<br/><br/>\n",
    "<br/><br/>\n",
    "<br/><br/>"
   ]
  },
  {
   "cell_type": "markdown",
   "id": "2631686b-8bba-41da-a4e5-425490e701f4",
   "metadata": {},
   "source": [
    "(part1:cap5:ex2:sol)=\n",
    "## Solución"
   ]
  },
  {
   "cell_type": "code",
   "execution_count": 1,
   "id": "30743d97-bf47-46f8-a04b-0e25dd1c89f8",
   "metadata": {},
   "outputs": [],
   "source": [
    "#Cargamos los paquetes que vamos a utilizar.\n",
    "import handcalcs.render\n",
    "from handcalcs import handcalc\n",
    "from numpy import sqrt, pi, log"
   ]
  },
  {
   "cell_type": "markdown",
   "id": "a903dfff-857e-4abb-8099-73abdf55fe58",
   "metadata": {},
   "source": [
    "### Inciso 1"
   ]
  },
  {
   "cell_type": "markdown",
   "id": "adbd9679-36dd-43f6-b9c1-9b86cca3b652",
   "metadata": {},
   "source": [
    "En primer lugar, se calcula el número de Mach a la entrada de la tubería ($Ma_1$).\n",
    "\n",
    "$$\n",
    "\\frac{G}{A} = Ma_1\\frac{c}{v} = Ma_1 c\\rho\n",
    "$$"
   ]
  },
  {
   "cell_type": "markdown",
   "id": "adc8dd81-bfe7-4cbd-8cb0-979bb6af6db2",
   "metadata": {},
   "source": [
    "Se puede asumir que el argón es un gas ideal, luego su densidad será obtenida mediante la ecuación de gases ideales.\n",
    "\n",
    "$$\n",
    "pv = \\frac{RT}{\\text{PM}_\\text{Ar}} \\Rightarrow \\rho = \\frac{p\\text{PM}_\\text{Ar}}{RT}\n",
    "$$"
   ]
  },
  {
   "cell_type": "markdown",
   "id": "4d7c022a-6099-482f-af5a-9f0df43d295c",
   "metadata": {},
   "source": [
    "Cuya velocidad del sonido será:\n",
    "\n",
    "$$\n",
    "c = \\sqrt{\\frac{\\gamma RT}{\\text{PM}_\\text{Ar}}}\n",
    "$$"
   ]
  },
  {
   "cell_type": "code",
   "execution_count": 2,
   "id": "342a8d65-c2a7-4d70-8a97-5019b93ae0a9",
   "metadata": {},
   "outputs": [
    {
     "data": {
      "text/latex": [
       "\\[\n",
       "\\begin{aligned}\n",
       "\\mathrm{PM}_{Ar} &= 3.995 \\times 10 ^ {-2} \\; \\;\\textrm{(kg/mol)}\n",
       " &P_{1} &= 1.000 \\times 10 ^ {7} \\; \\;\\textrm{(Pa)}\n",
       " &T_{1} &= 750 \\; \\;\\textrm{(K)}\n",
       "\\\\[10pt]\n",
       " \\gamma &= 1.200 \\times 10 ^ {0} \\; \n",
       " &R &= 8.314 \\times 10 ^ {0} \\; \\;\\textrm{(g/mol$\\cdot$K)}\n",
       " &G &= 3 \\; \\;\\textrm{(kg/s)}\n",
       "\\\\[10pt]\n",
       " D &= 7.620 \\times 10 ^ {-2} \\; \\;\\textrm{(m)}\n",
       " &L &= 5.000 \\times 10 ^ {3} \\; \\;\\textrm{(m)}\n",
       " &\\epsilon &= 4.600 \\times 10 ^ {-5} \\; \\;\\textrm{(m)}\n",
       "\\\\[10pt]\n",
       "\\end{aligned}\n",
       "\\]"
      ],
      "text/plain": [
       "<IPython.core.display.Latex object>"
      ]
     },
     "metadata": {},
     "output_type": "display_data"
    }
   ],
   "source": [
    "%%render sci_not params 3\n",
    "PM_Ar = 39.948e-3 #kg/mol\n",
    "P_1 = 10e6 #Pa\n",
    "T_1 = 750 #K\n",
    "gamma = 1.2\n",
    "R = 8.314 #g/mol$\\cdot$K\n",
    "G = 3 #kg/s\n",
    "D = 3/39.37 #m\n",
    "L = 5e3 #m\n",
    "epsilon = 0.046/1000 #m"
   ]
  },
  {
   "cell_type": "code",
   "execution_count": 3,
   "id": "e0185d42-774e-4b6e-9b4d-3481503aff6f",
   "metadata": {},
   "outputs": [
    {
     "data": {
      "text/latex": [
       "\\[\n",
       "\\begin{aligned}\n",
       "\\rho &= \\frac{ P_{1} \\cdot \\mathrm{PM}_{Ar} }{ R \\cdot T_{1} } \\\\&= \\frac{ 10000000.000 \\cdot 0.040 }{ 8.314 \\cdot 750 } \\\\&= 64.065 \\; \\;\\textrm{(kg/m$^3$)}\\\\[10pt]\n",
       "\\\\[10pt]\n",
       "c &= \\sqrt { \\frac{ \\gamma \\cdot R \\cdot T_{1} }{ \\mathrm{PM}_{Ar} } } \\\\&= \\sqrt { \\frac{ 1.200 \\cdot 8.314 \\cdot 750 }{ 0.040 } } \\\\&= 432.792 \\; \\;\\textrm{(m/s)}\\\\[10pt]\n",
       "\\end{aligned}\n",
       "\\]"
      ],
      "text/plain": [
       "<IPython.core.display.Latex object>"
      ]
     },
     "metadata": {},
     "output_type": "display_data"
    }
   ],
   "source": [
    "%%render long\n",
    "rho = (P_1*PM_Ar)/(R*T_1) #kg/m$^3$\n",
    "c = sqrt((gamma*R*T_1)/(PM_Ar)) #m/s"
   ]
  },
  {
   "cell_type": "markdown",
   "id": "0e4d315b-50f4-4b3f-ba61-4d52ec62934e",
   "metadata": {},
   "source": [
    "Con los resultados obtenidos, se puede despejar el número de Mach a la entrada de la tubería.\n",
    "\n",
    "$$\n",
    "Ma_1 = \\frac{G}{A}\\frac{1}{c\\rho}\n",
    "$$"
   ]
  },
  {
   "cell_type": "code",
   "execution_count": 4,
   "id": "496fa205-138b-4523-9428-f18104e73c9d",
   "metadata": {},
   "outputs": [
    {
     "data": {
      "text/latex": [
       "\\[\n",
       "\\begin{aligned}\n",
       "A &= \\pi \\cdot \\left( \\frac{ D }{ 2 } \\right) ^{ 2 } \\\\&= 3.142 \\cdot \\left( \\frac{ 0.076 }{ 2 } \\right) ^{ 2 } \\\\&= 0.005 \\; \\;\\textrm{(m$^2$)}\\\\[10pt]\n",
       "\\\\[10pt]\n",
       "\\mathrm{Ma}_{1} &= \\frac{ G }{ A } \\cdot \\frac{ 1 }{ c \\cdot \\rho } \\\\&= \\frac{ 3 }{ 0.005 } \\cdot \\frac{ 1 }{ 432.792 \\cdot 64.065 } \\\\&= 0.024  \\\\[10pt]\n",
       "\\end{aligned}\n",
       "\\]"
      ],
      "text/plain": [
       "<IPython.core.display.Latex object>"
      ]
     },
     "metadata": {},
     "output_type": "display_data"
    }
   ],
   "source": [
    "%%render long\n",
    "A = pi * (D/2)**2 #m$^2$\n",
    "Ma_1 = G/A * 1/(c*rho)"
   ]
  },
  {
   "cell_type": "markdown",
   "id": "bf220da4-7a22-42bb-91e9-43448e3c1a74",
   "metadata": {},
   "source": [
    "A continuación, podemos calcular el factor de fricción utilizando la ecuación de *Colebrook-White* eliminando los términos que dependen del número de Reynolds.\n",
    "\n",
    "$$\n",
    "\\frac{1}{\\sqrt{f}} = -1.737\\ln{\\left(0.269\\frac{\\varepsilon}{D}\\right)}\n",
    "$$"
   ]
  },
  {
   "cell_type": "code",
   "execution_count": 5,
   "id": "8fb22f18-0556-4b5a-9803-f6a6970b32da",
   "metadata": {},
   "outputs": [
    {
     "data": {
      "text/latex": [
       "\\[\n",
       "\\begin{aligned}\n",
       "f &= \\left( \\frac{ 1 }{ \\left( - 1.737 \\right) \\cdot \\ln \\left( 0.269 \\cdot \\left( \\frac{ \\epsilon }{ D } \\right) \\right) } \\right) ^{ 2 } \\\\&= \\left( \\frac{ 1 }{ \\left( - 1.737 \\right) \\cdot \\ln \\left( 0.269 \\cdot \\left( \\frac{ 4.600 \\times 10 ^ {-5} }{ 7.620 \\times 10 ^ {-2} } \\right) \\right) } \\right) ^{ 2 } \\\\&= 4.353 \\times 10 ^ {-3}  \\\\[10pt]\n",
       "\\end{aligned}\n",
       "\\]"
      ],
      "text/plain": [
       "<IPython.core.display.Latex object>"
      ]
     },
     "metadata": {},
     "output_type": "display_data"
    }
   ],
   "source": [
    "%%render long sci_not\n",
    "f = (1/(-1.737*log(0.269*(epsilon/D))))**2"
   ]
  },
  {
   "cell_type": "markdown",
   "id": "66f1f357-9e3f-44bc-a5ef-5a034578b4b6",
   "metadata": {},
   "source": [
    "Finalmente, calculamos el largo máximo permitido.\n",
    "\n",
    "$$\n",
    "L = \\frac{D}{4f}\\left(\\frac{1-Ma^2}{Ma^2}+\\frac{\\gamma+1}{2\\gamma}\\ln{\\left(\\frac{\\left(\\gamma+1\\right)Ma^2}{2+\\left(\\gamma-1\\right)Ma^2}\\right)}\\right)\n",
    "$$"
   ]
  },
  {
   "cell_type": "code",
   "execution_count": 6,
   "id": "4e492b74-1e9a-4455-9de9-44293d3f8430",
   "metadata": {},
   "outputs": [
    {
     "data": {
      "text/latex": [
       "\\[\n",
       "\\begin{aligned}\n",
       "L &= \\frac{ D }{ 4 \\cdot f } \\cdot \\left( \\frac{ 1 - \\left( \\mathrm{Ma}_{1} \\right) ^{ 2 } }{ \\left( \\mathrm{Ma}_{1} \\right) ^{ 2 } } + \\frac{ \\gamma + 1 }{ 2 \\cdot \\gamma } \\cdot \\ln \\left( \\frac{ \\left( \\gamma + 1 \\right) \\cdot \\left( \\mathrm{Ma}_{1} \\right) ^{ 2 } }{ 2 + \\left( \\gamma - 1 \\right) \\cdot \\left( \\mathrm{Ma}_{1} \\right) ^{ 2 } } \\right) \\right) \\\\&= \\frac{ 0.076 }{ 4 \\cdot 0.004 } \\cdot \\left( \\frac{ 1 - \\left( 0.024 \\right) ^{ 2 } }{ \\left( 0.024 \\right) ^{ 2 } } + \\frac{ 1.200 + 1 }{ 2 \\cdot 1.200 } \\cdot \\ln \\left( \\frac{ \\left( 1.200 + 1 \\right) \\cdot \\left( 0.024 \\right) ^{ 2 } }{ 2 + \\left( 1.200 - 1 \\right) \\cdot \\left( 0.024 \\right) ^{ 2 } } \\right) \\right) \\\\&= 7739.980 \\; \\;\\textrm{(m)}\\\\[10pt]\n",
       "\\end{aligned}\n",
       "\\]"
      ],
      "text/plain": [
       "<IPython.core.display.Latex object>"
      ]
     },
     "metadata": {},
     "output_type": "display_data"
    }
   ],
   "source": [
    "%%render long\n",
    "L = D/(4*f)*((1-Ma_1**2)/(Ma_1**2) + (gamma+1)/(2*gamma)*log(((gamma+1)*Ma_1**2)/(2+(gamma-1)*Ma_1**2))) #m"
   ]
  },
  {
   "cell_type": "markdown",
   "id": "2ce1f3b2-0dd0-4006-b295-fc3871f3ee08",
   "metadata": {},
   "source": [
    "Ya que el largo máximo permitido es mayor al largo de la tubería ($5~\\text{km}$), entonces sí podemos operar en este sistema."
   ]
  },
  {
   "cell_type": "markdown",
   "id": "983203ef-894b-4883-9e31-3c8d09cc527d",
   "metadata": {},
   "source": [
    "### Inciso 2"
   ]
  },
  {
   "cell_type": "markdown",
   "id": "78c565b9-63c1-4fa2-a692-2096bd1ff2e5",
   "metadata": {},
   "source": [
    "Sabemos que la razón de compresión para dos etapas:\n",
    "\n",
    "$$\n",
    "r_p = \\frac{P_{i1}}{P_1} = \\frac{P_2}{P_{i1}} = \\left(\\frac{P_2}{P_1}\\right)^{\\frac{1}{n}}\n",
    "$$"
   ]
  },
  {
   "cell_type": "code",
   "execution_count": 7,
   "id": "ea588db7-ac18-4146-bda5-de36f6050e4c",
   "metadata": {},
   "outputs": [
    {
     "data": {
      "text/latex": [
       "\\[\n",
       "\\begin{aligned}\n",
       "P_{2} &= 10000000.000 \\; \\;\\textrm{(Pa)}\n",
       "\\\\[10pt]\n",
       "P_{1} &= 70000.000 \\; \\;\\textrm{(Pa)}\n",
       "\\\\[10pt]\n",
       "n &= 2 \\; \n",
       "\\\\[10pt]\n",
       "r_{p} &= \\left( \\frac{ P_{2} }{ P_{1} } \\right) ^{ \\left( \\frac{ 1 }{ n } \\right) } \\\\&= \\left( \\frac{ 10000000.000 }{ 70000.000 } \\right) ^{ \\left( \\frac{ 1 }{ 2 } \\right) } \\\\&= 11.952  \\\\[10pt]\n",
       "\\end{aligned}\n",
       "\\]"
      ],
      "text/plain": [
       "<IPython.core.display.Latex object>"
      ]
     },
     "metadata": {},
     "output_type": "display_data"
    }
   ],
   "source": [
    "%%render long\n",
    "P_2 = 10e6 #Pa\n",
    "P_1 = 70e3 #Pa\n",
    "n = 2\n",
    "r_p = (P_2/P_1)**(1/n)"
   ]
  },
  {
   "cell_type": "markdown",
   "id": "dbecdaf9-c107-44de-ab0d-77b73a2cebc5",
   "metadata": {},
   "source": [
    "Ya que tenemos una compresión isoentrópica, $pv^\\gamma$ es consante. Antes de continuar, recordemos que en nuestro compresor tenemos en la primera etapa $v_{1}\\rightarrow v_{i1}$ y luego la segunda etapa $v_{i1}\\rightarrow v_{2}$. En donde la relación de compresión isoentrópica se cumple para el cambio $v_{inicial}\\rightarrow v_{final}$. Ya que no contamos con $P_{i1}$ utilizamos la razón de compresión."
   ]
  },
  {
   "cell_type": "code",
   "execution_count": 8,
   "id": "b7c14bae-b848-4b89-8b12-a8f5d535c189",
   "metadata": {},
   "outputs": [
    {
     "data": {
      "text/latex": [
       "\\[\n",
       "\\begin{aligned}\n",
       "v_{2} &= \\frac{ 1 }{ \\rho } \\\\&= \\frac{ 1 }{ 6.407 \\times 10 ^ {1} } \\\\&= 1.561 \\times 10 ^ {-2} \\; \\;\\textrm{(m$^3$/kg)}\\\\[10pt]\n",
       "\\\\[10pt]\n",
       "v_{i1} &= v_{2} \\cdot \\left( r_{p} \\right) ^{ \\left( \\frac{ 1 }{ \\gamma } \\right) } \\\\&= 1.561 \\times 10 ^ {-2} \\cdot \\left( 1.195 \\times 10 ^ {1} \\right) ^{ \\left( \\frac{ 1 }{ 1.200 \\times 10 ^ {0} } \\right) } \\\\&= 1.234 \\times 10 ^ {-1} \\; \\;\\textrm{(m$^3$/kg)}\\\\[10pt]\n",
       "\\end{aligned}\n",
       "\\]"
      ],
      "text/plain": [
       "<IPython.core.display.Latex object>"
      ]
     },
     "metadata": {},
     "output_type": "display_data"
    }
   ],
   "source": [
    "%%render long sci_not\n",
    "v_2 = 1/rho #m$^3$/kg\n",
    "v_i1 = v_2*r_p**(1/gamma) #m$^3$/kg"
   ]
  },
  {
   "cell_type": "markdown",
   "id": "1b096064-83bf-4204-b3db-f2fd22b28906",
   "metadata": {},
   "source": [
    "El volumen a la entrada del segundo ciclo será $v_{i1}=0.1234~\\text{m}^3\\text{/kg}$. Notamos que en el segundo ciclo, el compresor reduce el volumen del gas aproximadamente 10 veces su tamaño original."
   ]
  },
  {
   "cell_type": "markdown",
   "id": "42c02916-8cf0-483f-9aa0-1e7f54197be1",
   "metadata": {},
   "source": [
    "### Inciso 3"
   ]
  },
  {
   "cell_type": "markdown",
   "id": "e733231e-c333-4358-858b-f7e042ac1802",
   "metadata": {},
   "source": [
    "Sabemos que el trabajo total por ciclo si se considera holgura será.\n",
    "\n",
    "$$\n",
    "-W = \\frac{\\gamma}{\\gamma-1}P_1V_s\\left(\\left(\\frac{P_2}{P_1}\\right)^{\\frac{\\gamma-1}{\\gamma}}-1\\right)\\left(1+c\\left(1-\\left(\\frac{P_2}{P_1}\\right)^{\\frac{1}{\\gamma}}\\right)\\right)\n",
    "$$"
   ]
  },
  {
   "cell_type": "markdown",
   "id": "f35f7e0f-1e4a-415e-b209-a9b75f863c39",
   "metadata": {},
   "source": [
    "Para esto necesitamo el volumen de barrido, el cual podemos obtener mediante el siguiente razonamiento. El volumen de barrido nos dice qué parte del volumen total del cilindro (véase, cuando el cilindro no se encuentra contraido) sale efectivamente de la etapa. Se desea cumplir con los $3~\\text{kg/s}$ de flujo másico, para esto, contamos con un volumen másico inicial en el segundo ciclo (obtenido en el inciso anterior) de $v_{i1}=0.1234~\\text{m}^3\\text{/kg}$.\\\n",
    "Para cumplir con los requerimientos, necesito entonces\n",
    "\n",
    "$$\n",
    "\\dot{v} = v_{i1}\\cdot G\n",
    "$$"
   ]
  },
  {
   "cell_type": "markdown",
   "id": "5e6edc48-f806-4190-a91c-86b18d7763d2",
   "metadata": {},
   "source": [
    "Considerando que el compresor realiza 500 ciclos de compresión por minuto (ya que opera a $500~\\text{RPM}$). Podemos obtener el volumen de barrido utilizando:\n",
    "\n",
    "$$\n",
    "V_s = \\frac{\\dot{v}}{\\text{RPS}}\n",
    "$$"
   ]
  },
  {
   "cell_type": "code",
   "execution_count": 9,
   "id": "343f94aa-09cf-4574-b651-000fb75d7090",
   "metadata": {},
   "outputs": [
    {
     "data": {
      "text/latex": [
       "\\[\n",
       "\\begin{aligned}\n",
       "\\mathrm{RPS} &= \\frac{ 500 }{ 60 } &= 8.333 \\times 10 ^ {0} \\; \\;\\textrm{(1/s)}\n",
       "\\\\[10pt]\n",
       "V_{s} &= \\frac{ v_{i1} \\cdot G }{ \\mathrm{RPS} } \\\\&= \\frac{ 1.234 \\times 10 ^ {-1} \\cdot 3 }{ 8.333 \\times 10 ^ {0} } \\\\&= 4.442 \\times 10 ^ {-2} \\; \\;\\textrm{(m$^3$)}\\\\[10pt]\n",
       "\\end{aligned}\n",
       "\\]"
      ],
      "text/plain": [
       "<IPython.core.display.Latex object>"
      ]
     },
     "metadata": {},
     "output_type": "display_data"
    }
   ],
   "source": [
    "%%render sci_not long\n",
    "RPS = 500/60 #1/s\n",
    "V_s = (v_i1*G)/RPS #m$^3$"
   ]
  },
  {
   "cell_type": "markdown",
   "id": "d1d5b087-b6d1-40a7-a834-f1af4da302e4",
   "metadata": {},
   "source": [
    "Luego reemplazamos en la ecuación para obtener el trabajo."
   ]
  },
  {
   "cell_type": "code",
   "execution_count": 10,
   "id": "54c2794c-f461-4c00-b513-3a03f5c2bbdc",
   "metadata": {},
   "outputs": [
    {
     "data": {
      "text/latex": [
       "\\[\n",
       "\\begin{aligned}\n",
       "c &= 0.200 \\; \n",
       "\\\\[10pt]\n",
       "W &= \\frac{ \\left( - \\gamma \\right) }{ \\gamma - 1 } \\cdot P_{1} \\cdot V_{s} \\cdot \\left( \\left( \\frac{ P_{2} }{ P_{1} } \\right) ^{ \\left( \\frac{ \\gamma - 1 }{ \\gamma } \\right) } - 1 \\right) \\cdot \\left( 1 + c \\cdot \\left( 1 - \\left( \\frac{ P_{2} }{ P_{1} } \\right) ^{ \\left( \\frac{ 1 }{ \\gamma } \\right) } \\right) \\right) \\\\&= \\frac{ \\left( - 1.200 \\right) }{ 1.200 - 1 } \\cdot 70000.000 \\cdot 0.044 \\cdot \\left( \\left( \\frac{ 10000000.000 }{ 70000.000 } \\right) ^{ \\left( \\frac{ 1.200 - 1 }{ 1.200 } \\right) } - 1 \\right) \\cdot \\left( 1 + 0.200 \\cdot \\left( 1 - \\left( \\frac{ 10000000.000 }{ 70000.000 } \\right) ^{ \\left( \\frac{ 1 }{ 1.200 } \\right) } \\right) \\right) \\\\&= 271089.661 \\; \\;\\textrm{(J)}\\\\[10pt]\n",
       "\\end{aligned}\n",
       "\\]"
      ],
      "text/plain": [
       "<IPython.core.display.Latex object>"
      ]
     },
     "metadata": {},
     "output_type": "display_data"
    }
   ],
   "source": [
    "%%render long\n",
    "c = 0.2\n",
    "W = -gamma/(gamma-1)*P_1*V_s*((P_2/P_1)**((gamma-1)/gamma)-1)*(1+c*(1-(P_2/P_1)**(1/gamma))) #J"
   ]
  },
  {
   "cell_type": "markdown",
   "id": "7da6a367-a07d-40e3-b357-348f1125c6cf",
   "metadata": {},
   "source": [
    "El trabajo requerido en la segunda etapa es de $271.09~\\text{kJ}$."
   ]
  },
  {
   "cell_type": "code",
   "execution_count": null,
   "id": "709d2ed1-2cd6-4151-9090-e02539734db3",
   "metadata": {},
   "outputs": [],
   "source": []
  }
 ],
 "metadata": {
  "kernelspec": {
   "display_name": "Python 3 (ipykernel)",
   "language": "python",
   "name": "python3"
  },
  "language_info": {
   "codemirror_mode": {
    "name": "ipython",
    "version": 3
   },
   "file_extension": ".py",
   "mimetype": "text/x-python",
   "name": "python",
   "nbconvert_exporter": "python",
   "pygments_lexer": "ipython3",
   "version": "3.11.7"
  }
 },
 "nbformat": 4,
 "nbformat_minor": 5
}