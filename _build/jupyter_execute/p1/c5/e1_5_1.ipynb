{
 "cells": [
  {
   "cell_type": "markdown",
   "id": "c0c2c2fb-f7b9-4d7e-b640-27c42c77095a",
   "metadata": {},
   "source": [
    "# Ejercicio 1: Fluidos compresibles en tuberías"
   ]
  },
  {
   "cell_type": "markdown",
   "id": "136a5409-d233-4da5-a4e4-6c41ec6cdfff",
   "metadata": {},
   "source": [
    "## Enunciado"
   ]
  },
  {
   "cell_type": "markdown",
   "id": "1ddaba2b-de55-4b22-85fa-4dc6355308f9",
   "metadata": {},
   "source": [
    "Usted cuenta con una tubería de acero galvanizado $(\\varepsilon = 0.15~mm)$ horizontal de $70~\\text{mm}$ diámetro y $1~\\text{km}$ de largo, la cual desea utilizar para transportar metano a $40\\text{°C}$ cuyo peso molecular es de $16.04~(\\text{g/mol})$. El metano se encuentra inicialmente a $48~\\text{MPa}$. Asuma que no hay trabajo de eje en el sistema y que el metano se comporta como un gas ideal. Usted desconoce el tipo de flujo del sistema (adiabático, isotérmico o politrópico), no obstante, tiene la siquiente relación para gases:\n",
    "\n",
    "$$\n",
    "pv + \\psi p^2 = cte\n",
    "$$\n",
    "\n",
    "Usted sabe que la presión a la salida del sistema es de $5~\\text{MPa}$. Con $\\psi = 4\\times10^{-4}~(\\text{m}^3/\\text{mol}\\cdot\\text{Pa})$.\n",
    "\n",
    "Encuentre lo siguiente:\n",
    "1. La expresión del balance de energía.\n",
    "2. El flujo másico del sistema $G$."
   ]
  },
  {
   "cell_type": "markdown",
   "id": "45068546",
   "metadata": {},
   "source": [
    "{ref}`Ver solución <part1:cap4:ex1:sol>`\n",
    "\n",
    "<br/><br/>\n",
    "<br/><br/>\n",
    "<br/><br/>\n",
    "<br/><br/>\n",
    "<br/><br/>\n",
    "<br/><br/>\n",
    "<br/><br/>\n",
    "<br/><br/>"
   ]
  },
  {
   "cell_type": "markdown",
   "id": "615e1b45-70de-4aa2-9954-7e9ddc04096d",
   "metadata": {},
   "source": [
    "(part1:cap5:ex1:sol)=\n",
    "## Solución"
   ]
  },
  {
   "cell_type": "code",
   "execution_count": 1,
   "id": "a6bafc2b-5108-4105-9d37-690de78c5bfa",
   "metadata": {},
   "outputs": [],
   "source": [
    "#Paquetes utilizados\n",
    "import handcalcs.render\n",
    "from handcalcs import handcalc\n",
    "from numpy import log, pi, sqrt"
   ]
  },
  {
   "cell_type": "markdown",
   "id": "c26047db-7d80-452f-9e82-cb4ff3a6d6bf",
   "metadata": {},
   "source": [
    "### Inciso 1"
   ]
  },
  {
   "cell_type": "markdown",
   "id": "6dc36540-69d4-459b-9aea-65edf6c177ef",
   "metadata": {},
   "source": [
    "Del balance de energía tenemos que:\n",
    "\n",
    "$$\n",
    "d\\left(u+pv\\right) + g\\cdot dz + d\\left(\\frac{V^2}{2}\\right) = \\frac{dW}{dm} + \\frac{dQ}{dm}\n",
    "$$"
   ]
  },
  {
   "cell_type": "markdown",
   "id": "4bfca888-cdf7-4401-bf20-68aa8723747a",
   "metadata": {},
   "source": [
    "Luego, al tener una tubería horizontal y sin trabajo de eje:\n",
    "\n",
    "$$\n",
    "v\\cdot dp + V\\cdot dV = -\\left(\\left(du + p\\cdot dv\\right) -  \\frac{dQ}{dm}\\right)\n",
    "$$(part1:cap5:ex1:eq1)"
   ]
  },
  {
   "cell_type": "markdown",
   "id": "dfd3e1d6-547d-4b70-9820-abe31f41d910",
   "metadata": {},
   "source": [
    "Ya que\n",
    "\n",
    "$$\n",
    "-\\left(\\left(du + p\\cdot dv\\right) -  \\frac{dQ}{dm}\\right) = -4f\\left(\\frac{dl}{D_{eq}}\\right)\\left(\\frac{V^2}{2}\\right)\n",
    "$$(part1:cap5:ex1:eq2)"
   ]
  },
  {
   "cell_type": "markdown",
   "id": "340f7f3d-2dae-4f1f-9dcb-729145f59864",
   "metadata": {},
   "source": [
    "Reemplazando {eq}`part1:cap5:ex1:eq2` en {eq}`part1:cap5:ex1:eq1`, cambiando la velocidad como $V = Gv/A$ y reordenando los términos:\n",
    "\n",
    "$$\n",
    "\\int_{p_1}^{p_2}\\frac{dp}{v} + \\left(\\frac{G}{A}\\right)^2\\left(\\ln\\left(\\frac{v_2}{v_1}\\right) + 2f\\frac{L}{D_{eq}}\\right) = 0\n",
    "$$"
   ]
  },
  {
   "cell_type": "markdown",
   "id": "35ea7932-1c25-4f20-9ffb-ed4565239a45",
   "metadata": {},
   "source": [
    "Primero calculamos el primer componente de la ecuación:\n",
    "\n",
    "$$\n",
    "\\int_{p_1}^{p_2}\\frac{dp}{v}\n",
    "$$"
   ]
  },
  {
   "cell_type": "markdown",
   "id": "8cc9a738-e399-4a94-b27f-1e93bfdbd2ba",
   "metadata": {},
   "source": [
    "Ya que en el enunciado nos dicen que $pv +\\psi p^2 =cte$. Entonces podemos despejar $v$ en función de $p$.\n",
    "\n",
    "$$\n",
    "pv+\\psi p^2 = p_1v_1+\\psi p_1^2 ~ \\Rightarrow ~ v = \\frac{p_1v_1 + \\psi p_1^2 - \\psi p^2}{p} ~ \\Rightarrow ~ \\frac{1}{v} = \\frac{p}{p_1v_1 + \\psi p_1^2 - \\psi p^2}\n",
    "$$"
   ]
  },
  {
   "cell_type": "markdown",
   "id": "c3d35c06-2d80-4f96-8814-a50ef9c35db9",
   "metadata": {},
   "source": [
    "Luego\n",
    "\n",
    "$$\n",
    "\\int_{p_1}^{p_2} \\frac{p}{p_1v_1 + \\psi p_1^2 - \\psi p^2} dp = -\\frac{1}{2\\psi}\\left.\\left[\\ln\\left(p_1v_1+\\psi p_1^2-\\psi p^2\\right)\\right]\\right|_{p_1}^{p_2}\n",
    "$$\n",
    "\n",
    "$$\n",
    "= -\\frac{1}{2\\psi}\\left[\\ln\\left(\\psi p_1^2+p_1v_1-\\psi p_2^2\\right) - \\ln\\left(p_1v_1\\right)\\right] = -\\frac{1}{2\\psi}\\left[\\ln\\left(\\frac{p_1v_1+\\psi(p_1^2 - p_2^2)}{p_1v_1}\\right)\\right]\n",
    "$$"
   ]
  },
  {
   "cell_type": "markdown",
   "id": "65222c3c-75e1-4487-810d-1005c0734c43",
   "metadata": {},
   "source": [
    "Luego, reemplazamos el término $\\ln(v_2/v_1)$ utilizando la expresión para $v$ encontrada anteriormente.\n",
    "\n",
    "$$\n",
    "\\ln\\left(\\frac{v_2}{v_1}\\right) = \\ln\\left(\\frac{p_1v_1+\\psi(p_1^2-p_2^2)}{p_2v_1}\\right)\n",
    "$$"
   ]
  },
  {
   "cell_type": "markdown",
   "id": "9e893dc1-aeca-4a60-bffc-d21a67dc9a8f",
   "metadata": {},
   "source": [
    "De manera que encontramos la expresión para el balance de energía de nuestro flujo:\n",
    "\n",
    "$$\n",
    "-\\frac{1}{2\\psi}\\left[\\ln\\left(\\frac{p_1v_1+\\psi(p_1^2 - p_2^2)}{p_1v_1}\\right)\\right] + \\left(\\frac{G}{\\text{A}}\\right)^2\\left(\\ln\\left(\\frac{p_1v_1+\\psi(p_1^2-p_2^2)}{p_2v_1}\\right) + 2f\\frac{L}{D_{eq}}\\right) = 0\n",
    "$$"
   ]
  },
  {
   "cell_type": "markdown",
   "id": "94683d34-9635-4e73-bbae-5fbd575d38ef",
   "metadata": {},
   "source": [
    "### Inciso 2"
   ]
  },
  {
   "cell_type": "markdown",
   "id": "b1354d14-ddb7-4bd3-a2ae-11542f0056e2",
   "metadata": {},
   "source": [
    "Para simplificar la resolución del problema, separamos el balance de energía, tal que:\n",
    "\n",
    "$$\n",
    "k_1 = \\frac{1}{2\\psi}\\left[\\ln\\left(\\frac{p_1v_1+\\psi(p_1^2 - p_2^2)}{p_1v_1}\\right)\\right]\n",
    "$$"
   ]
  },
  {
   "cell_type": "markdown",
   "id": "d00a7b7a-acba-4a8c-b9c7-c78b0316838e",
   "metadata": {},
   "source": [
    "$$\n",
    "k_2 = \\ln\\left(\\frac{p_1v_1+\\psi(p_1^2-p_2^2)}{p_2v_1}\\right)\n",
    "$$"
   ]
  },
  {
   "cell_type": "markdown",
   "id": "c3750e00-494b-49ee-8a11-19c8c9bd6005",
   "metadata": {},
   "source": [
    "$$\n",
    "k_3  = 2f\\frac{L}{D_{eq}}\n",
    "$$"
   ]
  },
  {
   "cell_type": "markdown",
   "id": "7c173bb0-5bf9-47ad-896a-5fa7694c8746",
   "metadata": {},
   "source": [
    "Luego el balance encontrado en el inciso anterior nos queda como:\n",
    "\n",
    "$$\n",
    "-k_1 + \\left(\\frac{G}{A}\\right)^2(k_2+k_3) = 0 \\hspace{1.5cm}\\Rightarrow\\hspace{1.5cm} \\left(\\frac{G}{A}\\right)^2 = \\frac{k_1}{k_2+k_3}\n",
    "$$"
   ]
  },
  {
   "cell_type": "markdown",
   "id": "73fb1c4d-bdf9-47a9-ab87-56665a4a203a",
   "metadata": {},
   "source": [
    "Para $k_1$ y $k_2$, encontramos el volumen molar $v_1$.\n",
    "\n",
    "$$\n",
    "v_1 = \\frac{RT}{M_Wp_1}\n",
    "$$"
   ]
  },
  {
   "cell_type": "code",
   "execution_count": 2,
   "id": "e640cfe4-37d2-46fe-a79d-816dbaf25442",
   "metadata": {},
   "outputs": [
    {
     "data": {
      "text/latex": [
       "\\[\n",
       "\\begin{aligned}\n",
       "R &= 8.314 \\; \\;\\textrm{(J/mol$\\cdot$K)}\n",
       "\\\\[10pt]\n",
       "M_{W} &= 0.016 \\; \\;\\textrm{(kg/mol)}\n",
       "\\\\[10pt]\n",
       "T &= 313.150 \\; \\;\\textrm{(K)}\n",
       "\\\\[10pt]\n",
       "p_{1} &= 48000000.000 \\; \\;\\textrm{(Pa)}\n",
       "\\\\[10pt]\n",
       "v_{1} &= \\frac{ R \\cdot T }{ M_{W} \\cdot p_{1} } \\\\&= \\frac{ 8.314 \\cdot 313.150 }{ 0.016 \\cdot 48000000.000 } \\\\&= 0.003 \\; \\;\\textrm{(m$^3$/mol)}\\\\[10pt]\n",
       "\\end{aligned}\n",
       "\\]"
      ],
      "text/plain": [
       "<IPython.core.display.Latex object>"
      ]
     },
     "metadata": {},
     "output_type": "display_data"
    }
   ],
   "source": [
    "%%render long\n",
    "R = 8.314 #J/mol$\\cdot$K\n",
    "M_W = 0.01604 #kg/mol\n",
    "T = 313.15 #K\n",
    "p_1 = 48e6 #Pa\n",
    "v_1 = (R*T)/(M_W*p_1) #m$^3$/mol"
   ]
  },
  {
   "cell_type": "markdown",
   "id": "7d95ad7d-a93e-48e3-b633-96f6ff77c9f3",
   "metadata": {},
   "source": [
    "Para $k_3$ buscamos $f$. Ya que para fluidos compresibles podemos asumir que $\\text{Re}\\rightarrow\\infty$, usaremos la ecuación de Colebrook-White.\n",
    "\n",
    "$$\n",
    "\\frac{1}{\\sqrt{f_{T}}} = -1.737\\ln\\left(0.269\\frac{\\varepsilon}{D}+\\frac{1.257}{Re\\sqrt{f_T}}\\right)\n",
    "$$"
   ]
  },
  {
   "cell_type": "markdown",
   "id": "e702eb97-8ac6-4019-9732-fc0c33b788df",
   "metadata": {},
   "source": [
    "Tal que\n",
    "\n",
    "$$\n",
    "f_T = \\left(\\frac{1}{-1.737\\ln\\left(0.269\\frac{\\varepsilon}{D}\\right)}\\right)^2\n",
    "$$"
   ]
  },
  {
   "cell_type": "code",
   "execution_count": 3,
   "id": "87a1edce-6309-4885-ae48-6f1a0ebe6a69",
   "metadata": {},
   "outputs": [
    {
     "data": {
      "text/latex": [
       "\\[\n",
       "\\begin{aligned}\n",
       "\\epsilon &= 0.000 \\; \\;\\textrm{(m)}\n",
       "\\\\[10pt]\n",
       "D &= 0.070 \\; \\;\\textrm{(m)}\n",
       "\\\\[10pt]\n",
       "f &= \\left( \\frac{ 1 }{ \\left( - 1.737 \\right) \\cdot \\ln \\left( 0.269 \\cdot \\left( \\frac{ \\epsilon }{ D } \\right) \\right) } \\right) ^{ 2 } \\\\&= \\left( \\frac{ 1 }{ \\left( - 1.737 \\right) \\cdot \\ln \\left( 0.269 \\cdot \\left( \\frac{ 0.000 }{ 0.070 } \\right) \\right) } \\right) ^{ 2 } \\\\&= 0.006  \\\\[10pt]\n",
       "\\end{aligned}\n",
       "\\]"
      ],
      "text/plain": [
       "<IPython.core.display.Latex object>"
      ]
     },
     "metadata": {},
     "output_type": "display_data"
    }
   ],
   "source": [
    "%%render long\n",
    "epsilon = 0.15e-3 #m\n",
    "D = 0.070 #m\n",
    "f = (1/(-1.737*log(0.269*(epsilon/D))))**2"
   ]
  },
  {
   "cell_type": "markdown",
   "id": "52c42dab-7981-4b5b-a9a0-42358d715e2f",
   "metadata": {},
   "source": [
    "Con los datos obtenidos, se procede a calcular el valor de cada $k$."
   ]
  },
  {
   "cell_type": "code",
   "execution_count": 4,
   "id": "ef6bcca2-7877-4493-a51e-c4b4f3c3ed98",
   "metadata": {},
   "outputs": [
    {
     "data": {
      "text/latex": [
       "\\[\n",
       "\\begin{aligned}\n",
       "p_{2} &= 5000000.000 \\; \\;\\textrm{(Pa)}\n",
       "\\\\[10pt]\n",
       "L &= 1000 \\; \\;\\textrm{(m)}\n",
       "\\\\[10pt]\n",
       "\\psi &= 0.000 \\; \\;\\textrm{(m$^3$/mol$\\cdot$Pa)}\n",
       "\\\\[10pt]\n",
       "k_{1} &= \\frac{ 1 }{ 2 \\cdot \\psi } \\cdot \\ln \\left( \\frac{ \\psi \\cdot \\left( \\left( p_{1} \\right) ^{ 2 } - \\left( p_{2} \\right) ^{ 2 } \\right) + p_{1} \\cdot v_{1} }{ p_{1} \\cdot v_{1} } \\right) \\\\&= \\frac{ 1 }{ 2 \\cdot 0.000 } \\cdot \\ln \\left( \\frac{ 0.000 \\cdot \\left( \\left( 48000000.000 \\right) ^{ 2 } - \\left( 5000000.000 \\right) ^{ 2 } \\right) + 48000000.000 \\cdot 0.003 }{ 48000000.000 \\cdot 0.003 } \\right) \\\\&= 19426.468  \\\\[10pt]\n",
       "\\\\[10pt]\n",
       "k_{2} &= \\ln \\left( \\frac{ p_{1} \\cdot v_{1} + \\psi \\cdot \\left( \\left( p_{1} \\right) ^{ 2 } + \\left( p_{2} \\right) ^{ 2 } \\right) }{ p_{2} \\cdot v_{1} } \\right) \\\\&= \\ln \\left( \\frac{ 48000000.000 \\cdot 0.003 + 0.000 \\cdot \\left( \\left( 48000000.000 \\right) ^{ 2 } + \\left( 5000000.000 \\right) ^{ 2 } \\right) }{ 5000000.000 \\cdot 0.003 } \\right) \\\\&= 17.825  \\\\[10pt]\n",
       "\\\\[10pt]\n",
       "k_{3} &= 2 \\cdot f \\cdot \\left( \\frac{ L }{ D } \\right) \\\\&= 2 \\cdot 0.006 \\cdot \\left( \\frac{ 1000 }{ 0.070 } \\right) \\\\&= 170.220  \\\\[10pt]\n",
       "\\end{aligned}\n",
       "\\]"
      ],
      "text/plain": [
       "<IPython.core.display.Latex object>"
      ]
     },
     "metadata": {},
     "output_type": "display_data"
    }
   ],
   "source": [
    "%%render long\n",
    "p_2 = 5e6 #Pa\n",
    "L = 1000 #m\n",
    "psi = 4e-4 #m$^3$/mol$\\cdot$Pa\n",
    "k_1 = 1/(2*psi)*(log((psi*(p_1**2-p_2**2)+p_1*v_1)/(p_1*v_1)))\n",
    "k_2 = log((p_1*v_1+psi*(p_1**2+p_2**2))/(p_2*v_1))\n",
    "k_3 = 2*f*(L/D)"
   ]
  },
  {
   "cell_type": "markdown",
   "id": "4533eacc-e96a-46cb-9704-4ab3edf210b0",
   "metadata": {},
   "source": [
    "Finalmente, encontramos el valor para el flujo másico $G$."
   ]
  },
  {
   "cell_type": "code",
   "execution_count": 5,
   "id": "a07a7478-308f-4cef-8ccf-f54ca34f65f8",
   "metadata": {},
   "outputs": [
    {
     "data": {
      "text/latex": [
       "\\[\n",
       "\\begin{aligned}\n",
       "A &= \\pi \\cdot \\left( \\frac{ D }{ 2 } \\right) ^{ 2 } \\\\&= 3.142 \\cdot \\left( \\frac{ 0.070 }{ 2 } \\right) ^{ 2 } \\\\&= 0.004 \\; \\;\\textrm{(m$^2$)}\\\\[10pt]\n",
       "\\\\[10pt]\n",
       "G &= \\sqrt { \\frac{ k_{1} }{ k_{2} + k_{3} } } \\cdot A \\\\&= \\sqrt { \\frac{ 19426.468 }{ 17.825 + 170.220 } } \\cdot 0.004 \\\\&= 0.039 \\; \\;\\textrm{(kg/s)}\\\\[10pt]\n",
       "\\end{aligned}\n",
       "\\]"
      ],
      "text/plain": [
       "<IPython.core.display.Latex object>"
      ]
     },
     "metadata": {},
     "output_type": "display_data"
    }
   ],
   "source": [
    "%%render long\n",
    "A = pi*(D/2)**2 #m$^2$\n",
    "G = sqrt(k_1/(k_2+k_3))*A #kg/s"
   ]
  },
  {
   "cell_type": "markdown",
   "id": "e3672040-db23-4dd9-8256-6e2b2dd37826",
   "metadata": {},
   "source": [
    "Encontramos que el flujo másico es de $G = 0.039~(\\text{kg/s})$."
   ]
  },
  {
   "cell_type": "code",
   "execution_count": null,
   "id": "b70c3ba8-bb48-40eb-8474-616b649e6ba8",
   "metadata": {},
   "outputs": [],
   "source": []
  }
 ],
 "metadata": {
  "kernelspec": {
   "display_name": "Python 3 (ipykernel)",
   "language": "python",
   "name": "python3"
  },
  "language_info": {
   "codemirror_mode": {
    "name": "ipython",
    "version": 3
   },
   "file_extension": ".py",
   "mimetype": "text/x-python",
   "name": "python",
   "nbconvert_exporter": "python",
   "pygments_lexer": "ipython3",
   "version": "3.11.7"
  }
 },
 "nbformat": 4,
 "nbformat_minor": 5
}