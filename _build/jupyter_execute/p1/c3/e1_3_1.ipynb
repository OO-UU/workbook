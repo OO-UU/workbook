{
 "cells": [
  {
   "cell_type": "markdown",
   "id": "072d9a73-52b5-4423-aac4-324cbdcf2294",
   "metadata": {},
   "source": [
    "# Ejercicio 1: Fluidos pseudoplásticos y dilatantes"
   ]
  },
  {
   "cell_type": "markdown",
   "id": "3138295d",
   "metadata": {},
   "source": [
    "## Enunciado"
   ]
  },
  {
   "cell_type": "markdown",
   "id": "bd6eafb8-b270-470c-a968-e34331645825",
   "metadata": {},
   "source": [
    "Se tiene una mezcla líquida de dos fluidos desconocidos. Esta mezcla es un fluido no Newtoniano que sigue la **ley de potencia**. Se sabe que la densidad de este fluido es de $\\rho=1234.3\\hspace{1mm}(kg/m^3)$ y que su viscosidad aparente cerca de la pared de la tubería es $\\mu_{a,w}=52\\hspace{1mm}(cP)$. Además, se obtuvo experimentalmente un perfil de velocidades de dicho fluido en una tubería."
   ]
  },
  {
   "cell_type": "markdown",
   "id": "2e03d431-2a16-4a4e-bf50-8649b894eb92",
   "metadata": {},
   "source": [
    "\n",
    "``````{list-table}\n",
    ":header-rows: 0\n",
    ":align: center\n",
    ":widths: 5 20 30\n",
    "* -\n",
    "  - ```{list-table} Resultados experimentales\n",
    "    :header-rows: 1\n",
    "    :name: tabla_1\n",
    "    :align: center\n",
    "    * - r (m)\n",
    "      - v (m/s)\n",
    "    * - 0.10\n",
    "      - 0.000\n",
    "    * - 0.09\n",
    "      - 0.383\n",
    "    * - 0.08\n",
    "      - 0.749\n",
    "    * - 0.07\n",
    "      - 1.097\n",
    "    * - 0.06\n",
    "      - 1.425\n",
    "    * - 0.05\n",
    "      - 1.733\n",
    "    * - 0.04\n",
    "      - 2.017\n",
    "    * - 0.03\n",
    "      - 2.273\n",
    "    * - 0.02\n",
    "      - 2.497\n",
    "    * - 0.01\n",
    "      - 2.679\n",
    "    * - 0.00\n",
    "      - 2.790\n",
    "    ```\n",
    "  - ```{figure} ./images/img1_3_1.png\n",
    "    ---\n",
    "    name: figura-5\n",
    "    scale: 40%\n",
    "    ---\n",
    "\n",
    "    Perfil de velocidades.\n",
    "    ```\n",
    "``````"
   ]
  },
  {
   "cell_type": "markdown",
   "id": "37e86858",
   "metadata": {},
   "source": [
    "1. Encuentre el esfuerzo de corte cerca de la pared $t_w$.\n",
    "2. Mediante un ajuste (Puede usar Excel o python), encuentre los valores de $n$ y $k$ para el fluido y compruebe si es pseudoplástico o dilatante. Ya que usted no sabe el tipo de fluido, asuma inicialmente para su ajuste que $n=1$ y $k=0.1$.\n",
    "3. Calcule si durante el experimento el flujo era turbulento o laminar."
   ]
  },
  {
   "cell_type": "markdown",
   "id": "ffcd26da-474b-474a-804b-f113bf2d3f02",
   "metadata": {},
   "source": [
    "{ref}`Ver solución <part1:cap3:ex1:sol>`\n",
    "\n",
    "<br/><br/>\n",
    "<br/><br/>\n",
    "<br/><br/>\n",
    "<br/><br/>\n",
    "<br/><br/>\n",
    "<br/><br/>\n",
    "<br/><br/>\n",
    "<br/><br/>"
   ]
  },
  {
   "cell_type": "markdown",
   "id": "39761294-e67a-4c56-b810-6b6e433d76c5",
   "metadata": {},
   "source": [
    "(part1:cap3:ex1:sol)=\n",
    "## Solución"
   ]
  },
  {
   "cell_type": "code",
   "execution_count": 1,
   "id": "f955c899-4d58-4687-b48d-37e4bc5a268b",
   "metadata": {},
   "outputs": [],
   "source": [
    "# Paquetes utilizados\n",
    "import numpy as np\n",
    "from scipy.optimize import curve_fit\n",
    "import matplotlib.pyplot as plt\n",
    "import handcalcs.render"
   ]
  },
  {
   "cell_type": "markdown",
   "id": "74662968-21d6-45eb-8340-ea266d4b43de",
   "metadata": {},
   "source": [
    "### Inciso 1"
   ]
  },
  {
   "cell_type": "markdown",
   "id": "4fd49541-8905-41bb-bb3d-236c88c641fb",
   "metadata": {},
   "source": [
    "Sabemos que para fluidos no Newtonianos la relación entre esfuerzo de corte $(\\tau)$ y tasa de corte $(\\dot{\\gamma})$ es la siguiente.\n",
    "\n",
    "$$\n",
    "\\tau = -k\\left(\\dot{\\gamma}\\right)^{n}\n",
    "$$\n",
    "\n",
    "A esta ecuación se le conoce como la **ley de potencia**. En donde $k$ representa el índice de consistencia y $n$ el índice de la ley de potencia. Sin embargo, al no tener información del fluido, carecemos de los valores para dichos parámetros. En el enunciado, en cambio, nos entregan el valor para la viscosidad aparente.\n",
    "\n",
    "$$\n",
    "\\mu_a = k\\left(\\dot{\\gamma}\\right)^{n-1}\n",
    "$$\n",
    "\n",
    "Si unimos esta ecuación con la ley de potencia, y la aplicamos en la pared, se obtiene lo siguiente.\n",
    "\n",
    "$$\n",
    "\\tau_w = \\mu_{a,w}\\left(\\dot{\\gamma}\\right) = \\mu_{a,w}\\left(\\frac{dv}{dr}\\right)\n",
    "$$\n",
    "\n",
    "En la pared la velocidad del fluido es 0. Entonces, de la tabla se pueden elegir el primer y segundo valor para una aproximación de la tasa de corte (*shear rate*). Luego nos queda lo siguiente.\n",
    "\n",
    "$$\n",
    "\\tau_w = \\frac{52}{1000}\\left(\\frac{0.383-0}{0.01}\\right)\n",
    "$$\n",
    "\n",
    "Obtenemos que el esfuerzo de corte (*shear stress*) cerca de la pared es aproximadamente $\\tau_w=1.9916\\hspace{1mm}(Pa)$."
   ]
  },
  {
   "cell_type": "markdown",
   "id": "9cfca520-72c4-430b-a2eb-53ff1bddd2c1",
   "metadata": {},
   "source": [
    "### Inciso 2"
   ]
  },
  {
   "cell_type": "markdown",
   "id": "6181adb6-2aa8-4d4f-9b88-4029ce960281",
   "metadata": {},
   "source": [
    "Para aquellos fluidos que cumplen con la **ley de potencia**, el perfil de velocidad a lo largo de una tubería puede obtenerse en función del radio.\n",
    "\n",
    "$$\n",
    "v = \\left(\\frac{\\tau_w}{k}\\right)^{\\frac{1}{n}}\\frac{nR}{1+n}\\left(1-\\left(\\frac{r}{R}\\right)^{\\frac{1}{n}+1}\\right)\n",
    "$$\n",
    "\n",
    "Donde $R$ representa el radio de la tubería y $r$ el radio para un punto específico. Notar que $R=r$ en la pared.\n",
    "\n",
    "Ya que contamos con datos experimentales, podemos realizar una curva de ajuste que encuentre los parámetros de $n$ y de $k$ que mejor representan al fluido."
   ]
  },
  {
   "cell_type": "code",
   "execution_count": 2,
   "id": "c237802c-8fb2-467d-b5ea-4c52fd3f3c66",
   "metadata": {},
   "outputs": [
    {
     "name": "stderr",
     "output_type": "stream",
     "text": [
      "C:\\Users\\igtab\\AppData\\Local\\Temp\\ipykernel_25828\\1857015476.py:7: RuntimeWarning: invalid value encountered in scalar power\n",
      "  return (tau_w/k)**(1/n)*(n*R/(1+n))*(1-(r/R)**(1/n+1))\n"
     ]
    },
    {
     "data": {
      "image/png": "[encoded data removed]",
      "text/plain": [
       "<Figure size 640x480 with 1 Axes>"
      ]
     },
     "metadata": {},
     "output_type": "display_data"
    },
    {
     "name": "stdout",
     "output_type": "stream",
     "text": [
      "Parámetros ajustados\n",
      "n: 2.497884\n",
      "k: 0.000210 (Pa*s^n)\n"
     ]
    }
   ],
   "source": [
    "# Definimos nuestra función\n",
    "def funcion_de_velocidad(r, n, k):\n",
    "    # Del enunciado y del inciso anterior sabemos:\n",
    "    R = 0.1\n",
    "    tau_w = 1.9916\n",
    "    # Ecuación de perfil de velocidad\n",
    "    return (tau_w/k)**(1/n)*(n*R/(1+n))*(1-(r/R)**(1/n+1))\n",
    "\n",
    "# De la tabla recuperamos los datos experimentales\n",
    "r_exp = np.array([0.1,0.09,0.08,0.07,0.06,0.05,0.04,0.03,0.02,0.01,0]) #m\n",
    "v_exp = np.array([0,0.383,0.749,1.097,1.425,1.733,2.017,2.273,2.497,2.679,2.790]) #m/s\n",
    "\n",
    "# Ajustar los parámetros a los datos experimentares\n",
    "## Supuesto inicial\n",
    "parametros_iniciales = [1,0.1]  # (n,k)\n",
    "\n",
    "## Ajuste\n",
    "params, covarianza = curve_fit(funcion_de_velocidad, r_exp, v_exp, p0=parametros_iniciales)\n",
    "\n",
    "## Extraer los parámetros\n",
    "n_ajus, k_ajus = params\n",
    "\n",
    "# Análisis de resultados\n",
    "# Evalua\n",
    "v_teorica = funcion_de_velocidad(r_exp, n_ajus, k_ajus)\n",
    "\n",
    "# Gráfico comparativo para evaluar la calidad del ajuste\n",
    "plt.scatter(v_exp, r_exp, label='Datos experimentales')\n",
    "plt.plot(v_teorica, r_exp, label='Curva ajustada', color='red')\n",
    "plt.xlabel('Velocidad (m/s)')\n",
    "plt.ylabel('Radio de la tubería (m)')\n",
    "plt.title('Ajuste de la curva')\n",
    "plt.legend()\n",
    "plt.show()\n",
    "\n",
    "# Ver los parámetros ajustados\n",
    "print(\"Parámetros ajustados\")\n",
    "print(\"n:\", f'{n_ajus:6f}')\n",
    "print(\"k:\", f'{k_ajus:6f}',\"(Pa*s^n)\")\n"
   ]
  },
  {
   "cell_type": "markdown",
   "id": "c8dabd2f-dda7-43d2-b8c9-127a5f805c74",
   "metadata": {},
   "source": [
    "Si $n<1$ el fluido es pseudoplástico, por el contrario, si $n>1$ el fluido es dilatante. En este caso $2.498>1$, por lo tanto es dilatante."
   ]
  },
  {
   "cell_type": "markdown",
   "id": "504c4f39-2bea-46b0-96d1-e1f970ac22d6",
   "metadata": {},
   "source": [
    "### Inciso 3"
   ]
  },
  {
   "cell_type": "markdown",
   "id": "04012f6a-e326-4ce1-bc32-945970afbad9",
   "metadata": {},
   "source": [
    "Para fluidos que cumplen con la ley de potencia tenemos que el número de Reynolds se generaliza en función de la viscosidad aparente. Esta viscosidad aparente no es equivalente a la que nos entrega el enunciado, ya que para Reynolds generalizado, ocupamos la velocidad promedio.\n",
    "\n",
    "$$\n",
    "Re' = \\frac{\\rho\\bar{V}D}{\\mu_a}\n",
    "$$"
   ]
  },
  {
   "cell_type": "markdown",
   "id": "61c33604-b675-41dd-b439-f3646234235b",
   "metadata": {},
   "source": [
    "Entonces, $\\mu_a$ también se calcula a partir de la velocidad promedio.\n",
    "\n",
    "$$\n",
    "\\mu_a = k\\left(\\frac{3n+1}{4n}\\right)^n\\left(\\frac{8\\bar{V}}{D}\\right)^{n-1}\n",
    "$$\n",
    "\n",
    "En donde la velocidad promedio se conoce a través de las propiedades del fluido y el esfuerzo de corte en la pared.\n",
    "\n",
    "$$\n",
    "\\bar{V} = \\frac{nR}{3n+1}\\left(\\frac{\\tau_w}{k}\\right)^{\\frac{1}{n}}\n",
    "$$"
   ]
  },
  {
   "cell_type": "code",
   "execution_count": 3,
   "id": "6e901e73-bc1c-4895-97ec-101e1cd841ab",
   "metadata": {},
   "outputs": [
    {
     "data": {
      "text/latex": [
       "\\[\n",
       "\\begin{aligned}\n",
       "\\rho &= 1234.300 \\; \\;\\textrm{(kg/m3)}\n",
       "\\\\[10pt]\n",
       "\\tau_{w} &= 1.992 \\; \\;\\textrm{(Pa)}\n",
       "\\\\[10pt]\n",
       "R &= 0.100 \\; \\;\\textrm{(m)}\n",
       "\\\\[10pt]\n",
       "v_{prom} &= \\frac{ n_{ajus} \\cdot R }{ 3 \\cdot n_{ajus} + 1 } \\cdot \\left( \\frac{ \\tau_{w} }{ k_{ajus} } \\right) ^{ \\left( \\frac{ 1 }{ n_{ajus} } \\right) } \\\\&= \\frac{ 2.498 \\cdot 0.100 }{ 3 \\cdot 2.498 + 1 } \\cdot \\left( \\frac{ 1.992 }{ 0.000 } \\right) ^{ \\left( \\frac{ 1 }{ 2.498 } \\right) } \\\\&= 1.149 \\; \\;\\textrm{(m/s)}\\\\[10pt]\n",
       "\\\\[10pt]\n",
       "\\mu_{a} &= k_{ajus} \\cdot \\left( \\frac{ 3 \\cdot n_{ajus} + 1 }{ 4 \\cdot n_{ajus} } \\right) ^{ n_{ajus} } \\cdot \\left( \\frac{ 8 \\cdot v_{prom} }{ 2 \\cdot R } \\right) ^{ \\left( n_{ajus} - 1 \\right) } \\\\&= 0.000 \\cdot \\left( \\frac{ 3 \\cdot 2.498 + 1 }{ 4 \\cdot 2.498 } \\right) ^{ 2.498 } \\cdot \\left( \\frac{ 8 \\cdot 1.149 }{ 2 \\cdot 0.100 } \\right) ^{ \\left( 2.498 - 1 \\right) } \\\\&= 0.043 \\; \\;\\textrm{(Pa*s)}\\\\[10pt]\n",
       "\\\\[10pt]\n",
       "\\mathrm{Re} &= \\frac{ \\rho \\cdot v_{prom} \\cdot 2 \\cdot R }{ \\mu_{a} } \\\\&= \\frac{ 1234.300 \\cdot 1.149 \\cdot 2 \\cdot 0.100 }{ 0.043 } \\\\&= 6545.353  \\\\[10pt]\n",
       "\\end{aligned}\n",
       "\\]"
      ],
      "text/plain": [
       "<IPython.core.display.Latex object>"
      ]
     },
     "metadata": {},
     "output_type": "display_data"
    }
   ],
   "source": [
    "%%render long\n",
    "rho = 1234.3 #kg/m3\n",
    "tau_w = 1.9916 #Pa\n",
    "R = 0.1 #m\n",
    "v_prom = (n_ajus*R)/(3*n_ajus+1)*(tau_w/k_ajus)**(1/n_ajus) #m/s\n",
    "mu_a = k_ajus*((3*n_ajus+1)/(4*n_ajus))**n_ajus*((8*v_prom)/(2*R))**(n_ajus-1) #Pa*s\n",
    "Re = (rho*v_prom*2*R)/mu_a"
   ]
  },
  {
   "cell_type": "markdown",
   "id": "730ab839-fd63-4f76-8137-26b0eb4c5c0c",
   "metadata": {},
   "source": [
    "Para fluidos no Newtonianos, el flujo es turbulento si se cumple $Re'>2100+875(1-n)$. De lo contrario el flujo es laminar.\n",
    "\n",
    "Calculamos el límite del intervalo y comparamos."
   ]
  },
  {
   "cell_type": "code",
   "execution_count": 4,
   "id": "8dda51ae-a86c-43b0-a7fb-1e7261f15a20",
   "metadata": {},
   "outputs": [
    {
     "name": "stdout",
     "output_type": "stream",
     "text": [
      "Re' ( 6545.352909 ) es mayor que 789.351492 , por lo tanto el flujo es turbulento.\n"
     ]
    }
   ],
   "source": [
    "if Re > 2100+875*(1-n_ajus):\n",
    "    print(\"Re' (\",f'{Re:6f}',\") es mayor que\",f'{(2100+875*(1-n_ajus)):6f}',\", por lo tanto el flujo es turbulento.\")\n",
    "else:\n",
    "    print(\"Re' (\",f'{Re:6f}',\") es menor que\",f'{(2100+875*(1-n_ajus)):6f}',\", por lo tanto el flujo es laminar.\")"
   ]
  }
 ],
 "metadata": {
  "kernelspec": {
   "display_name": "Python 3 (ipykernel)",
   "language": "python",
   "name": "python3"
  },
  "language_info": {
   "codemirror_mode": {
    "name": "ipython",
    "version": 3
   },
   "file_extension": ".py",
   "mimetype": "text/x-python",
   "name": "python",
   "nbconvert_exporter": "python",
   "pygments_lexer": "ipython3",
   "version": "3.11.7"
  }
 },
 "nbformat": 4,
 "nbformat_minor": 5
}