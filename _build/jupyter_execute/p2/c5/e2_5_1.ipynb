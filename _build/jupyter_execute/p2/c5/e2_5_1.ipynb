{
 "cells": [
  {
   "cell_type": "markdown",
   "id": "1a9edbb2-f966-478f-8057-091c2c7ceafa",
   "metadata": {},
   "source": [
    "# Ejercicio 1: Evaporador de 1 efecto simple"
   ]
  },
  {
   "cell_type": "markdown",
   "id": "568fc926-e7fe-4cd1-9977-03dc8d6bae1a",
   "metadata": {},
   "source": [
    "## Enunciado"
   ]
  },
  {
   "cell_type": "markdown",
   "id": "348f174a-4228-46de-859c-d3cd199be46b",
   "metadata": {},
   "source": [
    "Una solución con sólidos suspendidos debe ser concentrada desde un $15~\\%$ hasta un $50~\\%$ de fracción másica de sólidos. Suponga que la elevación del punto de ebullición es despreciable. El calor específico del flujo de alimentación es $3894~\\text{J/kg}\\cdot\\text{°C}$. El vapor saturado entra a una presión absoluta de $0.8~\\text{atm}$ y el evaporador se encuentra a una presión absoluta de $100~\\text{mmHg}$. El flujo de alimentación entra a $15~\\text{°C}$ y el coeficiente global de trasferencia de calor es $1700~\\text{W/m}^2\\cdot\\text{°C}$.\n",
    "\n",
    "Si el evaporador debe evaporar $25000~\\text{kg/h}$ de agua, ¿qué área de evaporador es requerida? ¿Cuál es el consumo de vapor en $\\text{kg/h}$?"
   ]
  },
  {
   "cell_type": "markdown",
   "id": "0914cba9-8dca-4e14-a31e-56a1594486b0",
   "metadata": {},
   "source": [
    "Considere para sus cálculos:\\\n",
    "La temperatura de condensación del vapor a $0.8~\\text{atm}$ es $93.7~\\text{°C}$ y su calor latente es de $2273.9~\\text{kJ/kg}$.\\\n",
    "La temperatura de ebullición del agua a $100~\\text{mmHg}$ es $51.1~\\text{°C}$ y su calor latente es de $2379.5~\\text{kJ/kg}$."
   ]
  },
  {
   "cell_type": "markdown",
   "id": "629f1bf8",
   "metadata": {},
   "source": [
    "{ref}`Ver solución <part2:cap5:ex1:sol>`\n",
    "\n",
    "<br/><br/>\n",
    "<br/><br/>\n",
    "<br/><br/>\n",
    "<br/><br/>\n",
    "<br/><br/>\n",
    "<br/><br/>\n",
    "<br/><br/>\n",
    "<br/><br/>"
   ]
  },
  {
   "cell_type": "markdown",
   "id": "5af2942a-2fa6-4490-a4e1-4dfa25929d4b",
   "metadata": {},
   "source": [
    "(part2:cap5:ex1:sol)=\n",
    "## Solución"
   ]
  },
  {
   "cell_type": "code",
   "execution_count": 1,
   "id": "666dcb88-0b99-48ee-aa63-909fa3643ec0",
   "metadata": {},
   "outputs": [],
   "source": [
    "import handcalcs.render\n",
    "handcalcs.set_option(\"custom_symbols\",{\"dT\": \"\\Delta T\", \"lambda\": \"\\lambda\", \"Tebs\": \"T^eb\"})"
   ]
  },
  {
   "cell_type": "markdown",
   "id": "5f96cdaf-cd49-4959-aa14-2c23b723c455",
   "metadata": {},
   "source": [
    "Primero, debemos encontrar los flujos másicos de la alimentación. Para esto, podemos utilizar un balance de masa."
   ]
  },
  {
   "cell_type": "markdown",
   "id": "67ef1c21-b2c7-49f6-b6f3-90707e0ebee3",
   "metadata": {},
   "source": [
    "$$\n",
    "F = V + L\n",
    "$$"
   ]
  },
  {
   "cell_type": "markdown",
   "id": "a161b21b-6ec5-4317-b751-69007f8a595d",
   "metadata": {},
   "source": [
    "Además, por conservación de masa, la cantidad de sólidos suspendidos en la corriente de licor será la misma que en la alimentación."
   ]
  },
  {
   "cell_type": "markdown",
   "id": "5e171710-61cc-4e68-8f7e-f4640189c148",
   "metadata": {},
   "source": [
    "$$\n",
    "F\\cdot w_F = L\\cdot w_L\n",
    "$$"
   ]
  },
  {
   "cell_type": "markdown",
   "id": "55658193-906f-4d6f-94a0-05e0360d154c",
   "metadata": {},
   "source": [
    "Juntando ambas ecuaciones:\n",
    "\n",
    "$$\n",
    "F = V + F\\cdot\\left(\\frac{w_F}{w_L}\\right) \\rightarrow V = F\\left(1-\\frac{w_F}{w_L}\\right)\n",
    "$$"
   ]
  },
  {
   "cell_type": "code",
   "execution_count": 2,
   "id": "3169e27c-4ae4-4db3-b0b3-e753af917feb",
   "metadata": {},
   "outputs": [
    {
     "data": {
      "text/latex": [
       "\\[\n",
       "\\begin{aligned}\n",
       "V &= 25000 \\; \\;\\textrm{(kg/h)}\n",
       " &w_{F} &= 0.150 \\; \n",
       " &w_{L} &= 0.500 \\; \n",
       "\\\\[10pt]\n",
       "\\end{aligned}\n",
       "\\]"
      ],
      "text/plain": [
       "<IPython.core.display.Latex object>"
      ]
     },
     "metadata": {},
     "output_type": "display_data"
    }
   ],
   "source": [
    "%%render params\n",
    "V = 25000 #kg/h\n",
    "w_F = 0.15\n",
    "w_L = 0.50"
   ]
  },
  {
   "cell_type": "code",
   "execution_count": 3,
   "id": "ee67c6fc-8396-4500-a975-845eef7f9b16",
   "metadata": {},
   "outputs": [
    {
     "data": {
      "text/latex": [
       "\\[\n",
       "\\begin{aligned}\n",
       "F &= \\frac{ V }{ 1 - \\frac{ w_{F} }{ w_{L} } } \\\\&= \\frac{ 25000 }{ 1 - \\frac{ 0.150 }{ 0.500 } } \\\\&= 35714.286 \\; \\;\\textrm{(kg/h)}\\\\[10pt]\n",
       "\\end{aligned}\n",
       "\\]"
      ],
      "text/plain": [
       "<IPython.core.display.Latex object>"
      ]
     },
     "metadata": {},
     "output_type": "display_data"
    }
   ],
   "source": [
    "%%render long\n",
    "F = V/(1-w_F/w_L) #kg/h"
   ]
  },
  {
   "cell_type": "markdown",
   "id": "e2a1e964-e886-4ce6-95f7-99fbf29f99e3",
   "metadata": {},
   "source": [
    "A partir de esta información, podemos plantear el balance de energía. Ya que los sólidos disueltos no actúan como una solución con interacciones fuertes, la entalpía de dilución y la elevación del punto de ebullición son despreciables. Luego, el balance de energía es simple.\n",
    "\n",
    "$$\n",
    "q = F\\cdot c_{p,w}\\left(T^{eb}_w-T_F\\right) + V\\cdot \\lambda_V\n",
    "$$"
   ]
  },
  {
   "cell_type": "code",
   "execution_count": 4,
   "id": "f8d26ca4-ffac-4f35-97e2-e7a483439cbf",
   "metadata": {},
   "outputs": [
    {
     "data": {
      "text/latex": [
       "\\[\n",
       "\\begin{aligned}\n",
       "\\mathrm{T^eb}_{w} &= 51.100 \\; \\;\\textrm{($^\\circ$C)}\n",
       " &T_{F} &= 15.600 \\; \\;\\textrm{($^\\circ$C)}\n",
       " &\\mathrm{T^eb}_{S} &= 93.700 \\; \n",
       "\\\\[10pt]\n",
       " c_{pw} &= 3894 \\; \\;\\textrm{(J/kg$\\cdot^\\circ$C)}\n",
       " &\\lambda_{V} &= 2379500.000 \\; \\;\\textrm{(J/kg)}\n",
       " &\\lambda_{S} &= 2273900.000 \\; \\;\\textrm{(J/kg)}\n",
       "\\\\[10pt]\n",
       "\\end{aligned}\n",
       "\\]"
      ],
      "text/plain": [
       "<IPython.core.display.Latex object>"
      ]
     },
     "metadata": {},
     "output_type": "display_data"
    }
   ],
   "source": [
    "%%render params\n",
    "Tebs_w = 51.1 #$^\\circ$C\n",
    "T_F = 15.6 #$^\\circ$C\n",
    "Tebs_S = 93.7\n",
    "c_pw = 3894 #J/kg$\\cdot^\\circ$C\n",
    "lambda_V = 2379.5e3 #J/kg\n",
    "lambda_S = 2273.9e3 #J/kg"
   ]
  },
  {
   "cell_type": "code",
   "execution_count": 5,
   "id": "232dca64-4e76-4ea2-810f-1afc27a91f74",
   "metadata": {},
   "outputs": [
    {
     "data": {
      "text/latex": [
       "\\[\n",
       "\\begin{aligned}\n",
       "q &= \\frac{ F }{ 3600 } \\cdot c_{pw} \\cdot \\left( \\mathrm{T^eb}_{w} - T_{F} \\right) + \\frac{ V }{ 3600 } \\cdot \\lambda_{V} \\\\&= \\frac{ 35714.286 }{ 3600 } \\cdot 3894 \\cdot \\left( 51.100 - 15.600 \\right) + \\frac{ 25000 }{ 3600 } \\cdot 2379500.000 \\\\&= 17895704.365 \\; \\;\\textrm{(W)}\\\\[10pt]\n",
       "\\end{aligned}\n",
       "\\]"
      ],
      "text/plain": [
       "<IPython.core.display.Latex object>"
      ]
     },
     "metadata": {},
     "output_type": "display_data"
    }
   ],
   "source": [
    "%%render long\n",
    "q = F/3600 * c_pw * (Tebs_w-T_F) + V/3600 * lambda_V #W"
   ]
  },
  {
   "cell_type": "markdown",
   "id": "8fa96354-08e5-4a69-bff7-777d8a124fb9",
   "metadata": {},
   "source": [
    "La ecuación de diseño de un evaporador será:\n",
    "\n",
    "$$\n",
    "q = U\\cdot A\\cdot\\Delta T\n",
    "$$"
   ]
  },
  {
   "cell_type": "markdown",
   "id": "02d740ad-70a9-4c42-b265-866bbf56a587",
   "metadata": {},
   "source": [
    "Donde la diferencia de temperaturas $\\Delta T$ será la temperatura en el flujo de vapor $\\text{S}$ y la temperatura de ebullición de la solución en el evaporador."
   ]
  },
  {
   "cell_type": "code",
   "execution_count": 6,
   "id": "4d084eec-6023-492c-8aad-b69072a7fc7d",
   "metadata": {},
   "outputs": [
    {
     "data": {
      "text/latex": [
       "\\[\n",
       "\\begin{aligned}\n",
       "U &= 1700 \\; \\;\\textrm{(W/m$^2\\cdot^\\circ$C)}\n",
       "\\\\[10pt]\n",
       "\\Delta T &= \\mathrm{T^eb}_{S} - \\mathrm{T^eb}_{w} \\\\&= 93.700 - 51.100 \\\\&= 42.600  \\\\[10pt]\n",
       "\\\\[10pt]\n",
       "A &= \\frac{ q }{ U \\cdot \\Delta T } \\\\&= \\frac{ 17895704.365 }{ 1700 \\cdot 42.600 } \\\\&= 247.110 \\; \\;\\textrm{(m$^2$)}\\\\[10pt]\n",
       "\\end{aligned}\n",
       "\\]"
      ],
      "text/plain": [
       "<IPython.core.display.Latex object>"
      ]
     },
     "metadata": {},
     "output_type": "display_data"
    }
   ],
   "source": [
    "%%render long\n",
    "U = 1700 #W/m$^2\\cdot^\\circ$C\n",
    "dT = Tebs_S - Tebs_w\n",
    "A = q/(U*dT) #m$^2$"
   ]
  },
  {
   "cell_type": "markdown",
   "id": "d88831f3-2fe7-4c60-bb1d-d96affbf9c43",
   "metadata": {},
   "source": [
    "Finalmente, el consumo de vapor viene dado por:\n",
    "\n",
    "$$\n",
    "q = S\\cdot \\lambda_S\n",
    "$$"
   ]
  },
  {
   "cell_type": "code",
   "execution_count": 7,
   "id": "36f1951b-344a-4f03-a49f-cf236144f3a8",
   "metadata": {},
   "outputs": [
    {
     "data": {
      "text/latex": [
       "\\[\n",
       "\\begin{aligned}\n",
       "S &= \\frac{ q }{ \\lambda_{S} } \\cdot 3600 \\\\&= \\frac{ 17895704.365 }{ 2273900.000 } \\cdot 3600 \\\\&= 28332.176 \\; \\;\\textrm{(kg/h)}\\\\[10pt]\n",
       "\\end{aligned}\n",
       "\\]"
      ],
      "text/plain": [
       "<IPython.core.display.Latex object>"
      ]
     },
     "metadata": {},
     "output_type": "display_data"
    }
   ],
   "source": [
    "%%render long\n",
    "S = q/lambda_S * 3600 #kg/h"
   ]
  }
 ],
 "metadata": {
  "kernelspec": {
   "display_name": "Python 3 (ipykernel)",
   "language": "python",
   "name": "python3"
  },
  "language_info": {
   "codemirror_mode": {
    "name": "ipython",
    "version": 3
   },
   "file_extension": ".py",
   "mimetype": "text/x-python",
   "name": "python",
   "nbconvert_exporter": "python",
   "pygments_lexer": "ipython3",
   "version": "3.11.7"
  }
 },
 "nbformat": 4,
 "nbformat_minor": 5
}