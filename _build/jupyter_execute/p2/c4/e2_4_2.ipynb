{
 "cells": [
  {
   "cell_type": "markdown",
   "id": "78a1ab2a-bce3-458a-acf2-1909b086ae93",
   "metadata": {},
   "source": [
    "# Ejercicio 2: Aletas cuadradas"
   ]
  },
  {
   "cell_type": "markdown",
   "id": "d35f3068-861b-4140-b6e5-af0944b71f8b",
   "metadata": {},
   "source": [
    "## Enunciado"
   ]
  },
  {
   "cell_type": "markdown",
   "id": "b00b8c14-c322-426b-b1ea-9610a959e8cf",
   "metadata": {},
   "source": [
    "Encuentre la eficiencia de la siguiente aleta de acero ($k = 53~\\text{W/m}\\cdot\\text{K}$), si su largo es $L = 100~\\text{mm}$ y su ancho es igual a su grosor $t=10~\\text{mm}$. Considere que el coeficiente de convección será $h = 60~\\text{W/m}^2\\cdot\\text{K}$, si la temperatura del seno del fluido es $20~^\\circ\\text{C}$ y la temperatura de la pared es $95~^\\circ\\text{C}$."
   ]
  },
  {
   "cell_type": "markdown",
   "id": "31f9313c-c788-462b-a554-b7d3ab36820d",
   "metadata": {},
   "source": [
    "```{figure} ./images/img2_4_2.png\n",
    ":align: center\n",
    ":name: figura2_4_2\n",
    "\n",
    "Aleta cuadrada\n",
    "```"
   ]
  },
  {
   "cell_type": "markdown",
   "id": "62197f16-145b-4c27-b8cf-d64950eb6d1f",
   "metadata": {},
   "source": [
    "Utilizando el mismo volumen de material, usted decide disminuir su grosor a favor de aumentar su ancho. Considere que el mínimo de grosor posible es de $3~\\text{mm}$ y el largo debe mantenerse constante. ¿Cuánto cambia la eficiencia de esta aleta?¿Qué haría usted si solo quisiera aumentar la transferencia de calor?"
   ]
  },
  {
   "cell_type": "markdown",
   "id": "076b43cd-0a02-4391-88c3-216085973e2f",
   "metadata": {},
   "source": [
    "## Solución"
   ]
  },
  {
   "cell_type": "code",
   "execution_count": 1,
   "id": "182d73c6-0b63-4425-8baf-2025f942702f",
   "metadata": {},
   "outputs": [],
   "source": [
    "from numpy import cosh, sqrt, tanh\n",
    "import handcalcs.render"
   ]
  },
  {
   "cell_type": "markdown",
   "id": "657ef80a-763c-4582-89d9-c65fbfdbea9d",
   "metadata": {},
   "source": [
    "### Inciso 1 - Cálculo de eficiencia aleta cuadrada"
   ]
  },
  {
   "cell_type": "markdown",
   "id": "c1dd18b9-a34e-419f-b887-103ffbe3f243",
   "metadata": {},
   "source": [
    "La eficiencia de una aleta vendrá por la comparación entre la capacidad real de una aleta de transferir calor, versus la capacidad máxima de calor transferido.\n",
    "\n",
    "$$\n",
    "\\eta_f = \\frac{q_f}{q_{max}}\n",
    "$$"
   ]
  },
  {
   "cell_type": "markdown",
   "id": "8fbe7d60-9982-4093-b078-22c9888c228a",
   "metadata": {},
   "source": [
    "Sabemos que para la aleta completa, el calor $q_f$ vendrá dado por:\n",
    "\n",
    "$$\n",
    "q_f = \\sqrt{hPkA_c}\\theta_b\\tanh{mL}\n",
    "$$"
   ]
  },
  {
   "cell_type": "markdown",
   "id": "6f8c9993-7b54-47a6-b735-ccfe62f4c8ef",
   "metadata": {},
   "source": [
    "Donde $m$ será:\n",
    "\n",
    "$$\n",
    "m = \\sqrt{\\frac{hP}{kA_c}}\n",
    "$$"
   ]
  },
  {
   "cell_type": "markdown",
   "id": "7847da3b-7370-44a1-b238-54d7d71a7cc6",
   "metadata": {},
   "source": [
    "Ya que la tasa a la cual se transfriere el calor por conducción debe ser equivalente a la tasa de trasnferencia de calor por convección, es posible escribir la misma ecuación de la siguiente manera:\n",
    "\n",
    "$$\n",
    "q_f = \\int_{A_f} h\\theta(x)dA_s\n",
    "$$"
   ]
  },
  {
   "cell_type": "markdown",
   "id": "ec413355-f7da-4c4a-9936-01e08e2e65d4",
   "metadata": {},
   "source": [
    "Luego, la condición máxima de transferencia de calor implica que la aleta completa se encuente a la temperatura de la base:\n",
    "\n",
    "$$\n",
    "q_{max} = hA_f\\theta_b\n",
    "$$"
   ]
  },
  {
   "cell_type": "markdown",
   "id": "448615a6-6820-489a-a266-a3736b0378db",
   "metadata": {},
   "source": [
    "Luego despejamos para la eficiencia.\n",
    "\n",
    "$$\n",
    "\\eta_f = \\frac{\\sqrt{hPkA_c}\\tanh{mL}}{ hA_f}\n",
    "$$"
   ]
  },
  {
   "cell_type": "markdown",
   "id": "6583e297-96de-4a79-bd87-b70b3a7f2914",
   "metadata": {},
   "source": [
    "Para una aleta cuadrada, el perímetro y el área transversal de flujo de calor por conduccción serán:\n",
    "\n",
    "$$\n",
    "P = 2t + 2w \\hspace{2cm} A_c = w\\cdot t\n",
    "$$"
   ]
  },
  {
   "cell_type": "markdown",
   "id": "19ea5b29-1fd5-4777-88c1-300cb6760462",
   "metadata": {},
   "source": [
    "Mientras que el área de la aleta ($A_f$) será todo el área superficial de la aleta.\n",
    "\n",
    "$$\n",
    "A_f = P\\cdot L + w\\cdot t\n",
    "$$"
   ]
  },
  {
   "cell_type": "markdown",
   "id": "6fb3d4e0-0070-4339-95f0-b85cabe12459",
   "metadata": {},
   "source": [
    "Sin embargo, la convección en la punta de la aleta será 0, ya que trabajamos a partir del supuesto de punta adiabática. Por lo que el área real de superficie de una aleta para la transferencia de calor por convección será $A_f = P\\cdot L$."
   ]
  },
  {
   "cell_type": "markdown",
   "id": "dbca9953-6b95-42cf-b271-76e8d0bb2345",
   "metadata": {},
   "source": [
    "Reordenando la ecuación para la eficiencia.\n",
    "\n",
    "$$\n",
    "\\eta_f = \\frac{\\sqrt{hP}}{hP}\\frac{\\sqrt{kA_c}\\tanh{mL}}{L} = \\frac{1}{\\sqrt{hP}}\\frac{\\sqrt{kA_c}\\tanh{mL}}{L} = \\frac{\\tanh{mL}}{mL}\n",
    "$$"
   ]
  },
  {
   "cell_type": "code",
   "execution_count": 2,
   "id": "7dcad5a7-cec5-404f-9271-e1b01d69b4f7",
   "metadata": {},
   "outputs": [
    {
     "data": {
      "text/latex": [
       "\\[\n",
       "\\begin{aligned}\n",
       "k &= 53 \\; \\;\\textrm{(W/m$\\cdot$K)}\n",
       " &h &= 60 \\; \\;\\textrm{(W/m$^2\\cdot$K)}\n",
       " &L &= 0.100 \\; \\;\\textrm{(m)}\n",
       "\\\\[10pt]\n",
       " t &= 0.010 \\; \\;\\textrm{(m)}\n",
       " &w &= 0.010 \\; \\;\\textrm{(m)}\n",
       " &T_{inf} &= 20 \\; \\;\\textrm{($^\\circ$C)}\n",
       "\\\\[10pt]\n",
       " T_{b} &= 95 \\; \\;\\textrm{($^\\circ$C)}\n",
       "\\end{aligned}\n",
       "\\]"
      ],
      "text/plain": [
       "<IPython.core.display.Latex object>"
      ]
     },
     "metadata": {},
     "output_type": "display_data"
    }
   ],
   "source": [
    "%%render params\n",
    "k = 53 #W/m$\\cdot$K\n",
    "h = 60 #W/m$^2\\cdot$K\n",
    "L = 100/1000 #m\n",
    "t = 10/1000 #m\n",
    "w = t #m\n",
    "T_inf = 20 #$^\\circ$C\n",
    "T_b = 95 #$^\\circ$C"
   ]
  },
  {
   "cell_type": "code",
   "execution_count": 3,
   "id": "c9e34754-6796-4871-bd19-385d805c79ec",
   "metadata": {},
   "outputs": [
    {
     "data": {
      "text/latex": [
       "\\[\n",
       "\\begin{aligned}\n",
       "P &= 2 \\cdot t + 2 \\cdot w \\\\&= 2 \\cdot 0.010 + 2 \\cdot 0.010 \\\\&= 0.040 \\; \\;\\textrm{(m)}\\\\[10pt]\n",
       "\\\\[10pt]\n",
       "A_{c} &= t \\cdot w \\\\&= 0.010 \\cdot 0.010 \\\\&= 0.000 \\; \\;\\textrm{(m$^2$)}\\\\[10pt]\n",
       "\\\\[10pt]\n",
       "m &= \\sqrt { \\frac{ h \\cdot P }{ k \\cdot A_{c} } } \\\\&= \\sqrt { \\frac{ 60 \\cdot 0.040 }{ 53 \\cdot 0.000 } } \\\\&= 21.280 \\; \\;\\textrm{(m$^{-1}$)}\\\\[10pt]\n",
       "\\\\[10pt]\n",
       "\\eta_{f} &= \\frac{ \\tanh \\left( m \\cdot L \\right) }{ m \\cdot L } \\\\&= \\frac{ \\tanh \\left( 21.280 \\cdot 0.100 \\right) }{ 21.280 \\cdot 0.100 } \\\\&= 0.457  \\\\[10pt]\n",
       "\\end{aligned}\n",
       "\\]"
      ],
      "text/plain": [
       "<IPython.core.display.Latex object>"
      ]
     },
     "metadata": {},
     "output_type": "display_data"
    }
   ],
   "source": [
    "%%render long\n",
    "P = 2*t+2*w #m\n",
    "A_c = t*w #m$^2$\n",
    "m = sqrt((h*P)/(k*A_c)) #m$^{-1}$\n",
    "eta_f = tanh(m*L)/(m*L)"
   ]
  },
  {
   "cell_type": "markdown",
   "id": "269d2758-ef7f-4a6b-9d94-5f778f0dc2d8",
   "metadata": {},
   "source": [
    "### Inciso 2 - Cálculo de eficiencia aleta rectangular"
   ]
  },
  {
   "cell_type": "markdown",
   "id": "10b5e700-6c7f-4778-a7d0-cf1620de2a45",
   "metadata": {},
   "source": [
    "El volumen disponible vendrá dado por:"
   ]
  },
  {
   "cell_type": "code",
   "execution_count": 4,
   "id": "01c7eaa6-d689-4498-af6a-114fc0124a05",
   "metadata": {},
   "outputs": [
    {
     "data": {
      "text/latex": [
       "\\[\n",
       "\\begin{aligned}\n",
       "V &= w \\cdot t \\cdot L \\\\&= 1.000 \\times 10 ^ {-2} \\cdot 1.000 \\times 10 ^ {-2} \\cdot 1.000 \\times 10 ^ {-1} \\\\&= 1.000 \\times 10 ^ {-5} \\; \\;\\textrm{(m$^3$)}\\\\[10pt]\n",
       "\\end{aligned}\n",
       "\\]"
      ],
      "text/plain": [
       "<IPython.core.display.Latex object>"
      ]
     },
     "metadata": {},
     "output_type": "display_data"
    }
   ],
   "source": [
    "%%render long sci_not\n",
    "V = w*t*L #m$^3$"
   ]
  },
  {
   "cell_type": "markdown",
   "id": "e794d644-09c8-4d2c-acbb-bd44fa077126",
   "metadata": {},
   "source": [
    "Luego el nuevo ancho de la aleta será:"
   ]
  },
  {
   "cell_type": "code",
   "execution_count": 5,
   "id": "92c28c77-92c4-4a25-aaff-953c6da07b66",
   "metadata": {},
   "outputs": [
    {
     "data": {
      "text/latex": [
       "\\[\n",
       "\\begin{aligned}\n",
       "t &= 3.000 \\times 10 ^ {-3} \\; \\;\\textrm{(m)}\n",
       " &w &= 3.333 \\times 10 ^ {-2} \\; \\;\\textrm{(m)}\n",
       "\\end{aligned}\n",
       "\\]"
      ],
      "text/plain": [
       "<IPython.core.display.Latex object>"
      ]
     },
     "metadata": {},
     "output_type": "display_data"
    }
   ],
   "source": [
    "%%render params sci_not\n",
    "t = 3/1000 #m\n",
    "w = V/(t*L) #m"
   ]
  },
  {
   "cell_type": "markdown",
   "id": "4e32e948-6629-46e9-a6fd-ff3528fdbf38",
   "metadata": {},
   "source": [
    "Ya que $w>>t$ es válido que el perímetro sea escrito de la siguiente manera.\n",
    "\n",
    "$$\n",
    "P = 2w\n",
    "$$"
   ]
  },
  {
   "cell_type": "markdown",
   "id": "69733dde-87ca-48e7-b446-90842d3573e2",
   "metadata": {},
   "source": [
    "Y observamos que el perímetro se mantiene constante para ambas aletas."
   ]
  },
  {
   "cell_type": "code",
   "execution_count": 6,
   "id": "048e21f3-520b-4e8f-84f9-dfcea962be4d",
   "metadata": {},
   "outputs": [
    {
     "data": {
      "text/latex": [
       "\\[\n",
       "\\begin{aligned}\n",
       "P &= 0.067 \\; \n",
       " &A_{c} &= 0.000 \\;\n",
       "\\end{aligned}\n",
       "\\]"
      ],
      "text/plain": [
       "<IPython.core.display.Latex object>"
      ]
     },
     "metadata": {},
     "output_type": "display_data"
    }
   ],
   "source": [
    "%%render params\n",
    "P = 2*w\n",
    "A_c = w*t"
   ]
  },
  {
   "cell_type": "code",
   "execution_count": 7,
   "id": "2e82cfda-edb9-43cd-bca4-e0ae1ae4d9d6",
   "metadata": {},
   "outputs": [
    {
     "data": {
      "text/latex": [
       "\\[\n",
       "\\begin{aligned}\n",
       "P &= 2 \\cdot t + 2 \\cdot w \\\\&= 2 \\cdot 0.003 + 2 \\cdot 0.033 \\\\&= 0.073 \\; \\;\\textrm{(m)}\\\\[10pt]\n",
       "\\\\[10pt]\n",
       "A_{c} &= t \\cdot w \\\\&= 0.003 \\cdot 0.033 \\\\&= 0.000 \\; \\;\\textrm{(m$^2$)}\\\\[10pt]\n",
       "\\\\[10pt]\n",
       "m &= \\sqrt { \\frac{ h \\cdot P }{ k \\cdot A_{c} } } \\\\&= \\sqrt { \\frac{ 60 \\cdot 0.073 }{ 53 \\cdot 0.000 } } \\\\&= 28.682 \\; \\;\\textrm{(m$^{-1}$)}\\\\[10pt]\n",
       "\\\\[10pt]\n",
       "\\eta_{f} &= \\frac{ \\tanh \\left( m \\cdot L \\right) }{ m \\cdot L } \\\\&= \\frac{ \\tanh \\left( 28.682 \\cdot 0.100 \\right) }{ 28.682 \\cdot 0.100 } \\\\&= 0.346  \\\\[10pt]\n",
       "\\end{aligned}\n",
       "\\]"
      ],
      "text/plain": [
       "<IPython.core.display.Latex object>"
      ]
     },
     "metadata": {},
     "output_type": "display_data"
    }
   ],
   "source": [
    "%%render long\n",
    "P = 2*t+2*w #m\n",
    "A_c = t*w #m$^2$\n",
    "m = sqrt((h*P)/(k*A_c)) #m$^{-1}$\n",
    "eta_f = tanh(m*L)/(m*L)"
   ]
  },
  {
   "cell_type": "markdown",
   "id": "655bf945-8333-4ff4-a9c0-1f9abd3532eb",
   "metadata": {},
   "source": [
    "Notamos que nos perjudica hacer este cambio, ya que la eficiencia disminuye."
   ]
  }
 ],
 "metadata": {
  "kernelspec": {
   "display_name": "Python 3 (ipykernel)",
   "language": "python",
   "name": "python3"
  },
  "language_info": {
   "codemirror_mode": {
    "name": "ipython",
    "version": 3
   },
   "file_extension": ".py",
   "mimetype": "text/x-python",
   "name": "python",
   "nbconvert_exporter": "python",
   "pygments_lexer": "ipython3",
   "version": "3.11.7"
  }
 },
 "nbformat": 4,
 "nbformat_minor": 5
}