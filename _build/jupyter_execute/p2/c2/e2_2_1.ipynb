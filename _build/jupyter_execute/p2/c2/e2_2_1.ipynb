{
 "cells": [
  {
   "cell_type": "markdown",
   "id": "25dc3709-fe6f-4bec-b213-f6d7cb1b6b4a",
   "metadata": {},
   "source": [
    "# Ejercicio 1: Agitador con serpentín"
   ]
  },
  {
   "cell_type": "markdown",
   "id": "9ab6e88f",
   "metadata": {},
   "source": [
    "## Enunciado"
   ]
  },
  {
   "cell_type": "markdown",
   "id": "c7990478-8464-4d06-a65c-cad817f9b9af",
   "metadata": {},
   "source": [
    "Usted desea enfriar $500~\\text{L}$ de Etilbenceno mediante un estanque agitado con un serpentín. Para esto utiliza como flujo refrigerante agua ($40~\\text{L/h}$) que entra a $25~\\text{°C}$ al serpentín y sale a $40~\\text{°C}$. El diámetro del serpentín es $D_s = 64~\\text{cm}$ y la altura del serpentín $H_s = 80~\\text{cm}$ con un número de espiras igual a $4$ como indica la figura. El diámetro interno del tubo del serpentín es de $1~\\text{cm}$. En cuanto a las características del estanque, este se encuentra lleno completamento por el fluido, y tiene una altura de $1~\\text{m}$ con un agitador que opera a $15~\\text{RPM}$. Su configuración es $S_1 = 0.65$. El objetivo de esta operación es enfriar Etilbenceno desde los $120~\\text{°C}$ hasta los $105~\\text{°C}$."
   ]
  },
  {
   "cell_type": "markdown",
   "id": "21e198b3-aea2-487f-a848-8e4d584ce801",
   "metadata": {},
   "source": [
    "```{figure} ./images/img2_2_1.png\n",
    ":align: center\n",
    ":name: figura2_2_1\n",
    "\n",
    "Estanque con serpentín\n",
    "```"
   ]
  },
  {
   "cell_type": "markdown",
   "id": "54a4fcd0-60ab-4994-a929-15de771ecbee",
   "metadata": {},
   "source": [
    " Usted cuenta con la tabla de las propiedades termofísicas de ambos fluidos a la temperatura promedio de entrada y salida."
   ]
  },
  {
   "attachments": {},
   "cell_type": "markdown",
   "id": "8a7ad57d-87bf-4ef3-9ceb-185dec9cc700",
   "metadata": {},
   "source": [
    "```{list-table} Propiedades termofísicas del Etilbenceno y el agua en función de su temperatura promedio.\n",
    ":header-rows: 1\n",
    ":name: tabla-e2_2_1\n",
    ":align: center\n",
    "\n",
    "* - Fluido\n",
    "  - $c_P~\\text{(J/kg}\\cdot\\text{K)}$\n",
    "  - $\\rho~\\text{(kg/m}^3\\text{)}$\n",
    "  - $\\mu~\\text{(Pa}\\cdot\\text{s)}$\n",
    "  - $k~\\text{(W/m}\\cdot\\text{K)}$\n",
    "* - Etilbenceno\n",
    "  - 2052.21\n",
    "  - 730.884\n",
    "  - 2.764$\\times$10$^{-4}$\n",
    "  - 0.1069\n",
    "* - Agua\n",
    "  - 4180.35\n",
    "  - 994.635\n",
    "  - 7.714$\\times$10$^{-4}$\n",
    "  - 0.6175\n",
    "```"
   ]
  },
  {
   "cell_type": "markdown",
   "id": "c0842a97-f876-4834-ba13-8956e7cc8e37",
   "metadata": {},
   "source": [
    "Responda lo siguiente:\n",
    "1. Encuentre el coeficiente de transferencia de calor para el fluido en el estanque $h_o$. *Hint: Asuma que el grosor de la tubería del serpentín es despreciable.*\n",
    "2. Encuentre el coeficiente de transferencia de calor para el fluido en el serpentín $h_s$.\n",
    "3. ¿Cuántos días se demorará un lote para enfriar Etilbenceno?"
   ]
  },
  {
   "cell_type": "markdown",
   "id": "9ffb5279-d29c-4c8e-8999-62a2f616a043",
   "metadata": {},
   "source": [
    "{ref}`Ver solución <part2:cap2:ex1:sol>`\n",
    "\n",
    "<br/><br/>\n",
    "<br/><br/>\n",
    "<br/><br/>\n",
    "<br/><br/>\n",
    "<br/><br/>\n",
    "<br/><br/>\n",
    "<br/><br/>\n",
    "<br/><br/>"
   ]
  },
  {
   "cell_type": "markdown",
   "id": "3fb71e72-2e3d-4f82-b3a1-e47c0d159d2f",
   "metadata": {},
   "source": [
    "(part2:cap2:ex1:sol)=\n",
    "## Solución"
   ]
  },
  {
   "cell_type": "code",
   "execution_count": 1,
   "id": "1adff24e-a1e4-403d-bc21-c42702b39661",
   "metadata": {},
   "outputs": [],
   "source": [
    "import handcalcs.render\n",
    "from handcalcs import handcalc\n",
    "from numpy import pi, log, sqrt, exp"
   ]
  },
  {
   "cell_type": "markdown",
   "id": "4ab3504f-a930-4d57-9211-d4085ffb42b5",
   "metadata": {},
   "source": [
    "### Inciso 1"
   ]
  },
  {
   "cell_type": "markdown",
   "id": "1d016625-d957-429f-9344-406daac90923",
   "metadata": {},
   "source": [
    "Escribimos todas las propiedades termofísicas del enunciado."
   ]
  },
  {
   "cell_type": "code",
   "execution_count": 2,
   "id": "eea3445e-29be-4f43-b7af-4ac012fff408",
   "metadata": {},
   "outputs": [
    {
     "data": {
      "text/latex": [
       "\\[\n",
       "\\begin{aligned}\n",
       "\\rho_{c} &= 994.635 \\; \\;\\textrm{(kg/m$^3$)}\n",
       " &\\mu_{c} &= 0.001 \\; \\;\\textrm{(Pa$\\cdot$s)}\n",
       " &c_{Pc} &= 4180.350 \\; \\;\\textrm{(J/kg$\\cdot$K)}\n",
       "\\\\[10pt]\n",
       " k_{c} &= 0.618 \\; \\;\\textrm{(W/m$\\cdot$K)}\n",
       " &\\rho_{h} &= 730.884 \\; \\;\\textrm{(kg/m$^3$)}\n",
       " &\\mu_{h} &= 0.000 \\; \\;\\textrm{(Pa$\\cdot$s)}\n",
       "\\\\[10pt]\n",
       " c_{Ph} &= 2052.210 \\; \\;\\textrm{(J/kg$\\cdot$K)}\n",
       " &k_{h} &= 0.107 \\; \\;\\textrm{(W/m$\\cdot$K)}\n",
       "\\end{aligned}\n",
       "\\]"
      ],
      "text/plain": [
       "<IPython.core.display.Latex object>"
      ]
     },
     "metadata": {},
     "output_type": "display_data"
    }
   ],
   "source": [
    "%%render params\n",
    "rho_c = 994.635 #kg/m$^3$\n",
    "mu_c = 7.714e-4 #Pa$\\cdot$s\n",
    "c_Pc = 4180.35 #J/kg$\\cdot$K\n",
    "k_c = 0.6175 #W/m$\\cdot$K\n",
    "rho_h = 730.884 #kg/m$^3$\n",
    "mu_h = 2.764e-4 #Pa$\\cdot$s\n",
    "c_Ph = 2052.21 #J/kg$\\cdot$K\n",
    "k_h = 0.1069 #W/m$\\cdot$K"
   ]
  },
  {
   "cell_type": "markdown",
   "id": "2a1d6744-da9c-4410-8197-fdc165db87df",
   "metadata": {},
   "source": [
    "Luego obtenemos todos los parámetros de dimensionamiento que nos faltan del reactor."
   ]
  },
  {
   "cell_type": "markdown",
   "id": "ec9daf25-1b16-402d-8889-2f8cfdc33cc4",
   "metadata": {},
   "source": [
    "Ya que el estanque de encuentra lleno, sabemos su volumen. Asumiendo estanque cilíndrico:\n",
    "\n",
    "$$\n",
    "V = \\pi\\left(\\frac{D_t}{2}\\right)^2H\n",
    "$$"
   ]
  },
  {
   "cell_type": "code",
   "execution_count": 3,
   "id": "c1d8d176-3780-4687-b377-be0fc5a88b09",
   "metadata": {},
   "outputs": [
    {
     "data": {
      "text/latex": [
       "\\[\n",
       "\\begin{aligned}\n",
       "V &= 0.500 \\; \\;\\textrm{(m$^3$)}\n",
       "\\\\[10pt]\n",
       "H &= 1 \\; \\;\\textrm{(m)}\n",
       "\\\\[10pt]\n",
       "D_{t} &= 2 \\cdot \\sqrt { \\frac{ V }{ \\pi \\cdot H } } \\\\&= 2 \\cdot \\sqrt { \\frac{ 0.500 }{ 3.142 \\cdot 1 } } \\\\&= 0.798 \\; \\;\\textrm{(m)}\\\\[10pt]\n",
       "\\end{aligned}\n",
       "\\]"
      ],
      "text/plain": [
       "<IPython.core.display.Latex object>"
      ]
     },
     "metadata": {},
     "output_type": "display_data"
    }
   ],
   "source": [
    "%%render long\n",
    "V= 0.5 #m$^3$\n",
    "H= 1 #m\n",
    "D_t = 2*sqrt(V/(pi*H)) #m"
   ]
  },
  {
   "cell_type": "markdown",
   "id": "150f09f0-d89c-4cbd-ae97-023824fded0f",
   "metadata": {},
   "source": [
    "Con esta información, podemos también obtener el diámetro del estanque para luego obtener el número de Reynolds."
   ]
  },
  {
   "cell_type": "code",
   "execution_count": 4,
   "id": "8d39dfee-aaa3-4261-ae00-2a3ab3e7e079",
   "metadata": {},
   "outputs": [
    {
     "data": {
      "text/latex": [
       "\\[\n",
       "\\begin{aligned}\n",
       "S_{1} &= 0.650 \\; \n",
       "\\\\[10pt]\n",
       "D_{a} &= S_{1} \\cdot D_{t} \\\\&= 0.650 \\cdot 0.798 \\\\&= 0.519  \\\\[10pt]\n",
       "\\\\[10pt]\n",
       "N &= 15 \\; \\;\\textrm{(RPM)}\n",
       "\\\\[10pt]\n",
       "\\mathrm{Re}_{D} &= \\frac{ \\rho_{h} \\cdot \\left( \\frac{ N }{ 60 } \\right) \\cdot \\left( D_{a} \\right) ^{ 2 } }{ \\mu_{h} } \\\\&= \\frac{ 730.884 \\cdot \\left( \\frac{ 15 }{ 60 } \\right) \\cdot \\left( 0.519 \\right) ^{ 2 } }{ 0.000 } \\\\&= 177810.442  \\\\[10pt]\n",
       "\\\\[10pt]\n",
       "\\mathrm{Pr}_{h} &= \\frac{ \\mu_{h} \\cdot c_{Ph} }{ k_{h} } \\\\&= \\frac{ 0.000 \\cdot 2052.210 }{ 0.107 } \\\\&= 5.306  \\\\[10pt]\n",
       "\\end{aligned}\n",
       "\\]"
      ],
      "text/plain": [
       "<IPython.core.display.Latex object>"
      ]
     },
     "metadata": {},
     "output_type": "display_data"
    }
   ],
   "source": [
    "%%render long\n",
    "S_1 = 0.65\n",
    "D_a = S_1*D_t\n",
    "N = 15 #RPM\n",
    "Re_D = (rho_h*(N/60)*D_a**2)/mu_h\n",
    "Pr_h = (mu_h*c_Ph)/k_h"
   ]
  },
  {
   "cell_type": "markdown",
   "id": "90a9e1c2-9acc-429a-bbd0-c7593487893d",
   "metadata": {},
   "source": [
    "Luego para estanques agitados con serpentín asumiendo $\\mu \\approx \\mu_s$:\n",
    "\n",
    "$$\n",
    "Nu_D = 0.17\\left(Re_D\\right)^{0.67}Pr^{0.37}\\left(\\frac{D_a}{D_t}\\right)^{0.1}\\left(\\frac{d}{D_t}\\right)^{0.5}\n",
    "$$"
   ]
  },
  {
   "cell_type": "code",
   "execution_count": 5,
   "id": "7fbbc6c2-645c-47b3-a3d7-0a58e773a827",
   "metadata": {},
   "outputs": [
    {
     "data": {
      "text/latex": [
       "\\[\n",
       "\\begin{aligned}\n",
       "d &= \\frac{ 1 }{ 100 } &= 0.010 \\; \\;\\textrm{(m)}\n",
       "\\\\[10pt]\n",
       "\\mathrm{Nusselt}_{D} &= 0.17 \\cdot \\left( \\mathrm{Re}_{D} \\right) ^{ 0.67 } \\cdot \\left( \\mathrm{Pr}_{h} \\right) ^{ 0.37 } \\cdot \\left( \\frac{ D_{a} }{ D_{t} } \\right) ^{ 0.1 } \\cdot \\left( \\frac{ d }{ D_{t} } \\right) ^{ 0.5 } \\\\&= 0.17 \\cdot \\left( 177810.442 \\right) ^{ 0.67 } \\cdot \\left( 5.306 \\right) ^{ 0.37 } \\cdot \\left( \\frac{ 0.519 }{ 0.798 } \\right) ^{ 0.1 } \\cdot \\left( \\frac{ 0.010 }{ 0.798 } \\right) ^{ 0.5 } \\\\&= 111.278  \\\\[10pt]\n",
       "\\end{aligned}\n",
       "\\]"
      ],
      "text/plain": [
       "<IPython.core.display.Latex object>"
      ]
     },
     "metadata": {},
     "output_type": "display_data"
    }
   ],
   "source": [
    "%%render long\n",
    "d = 1/100 #m\n",
    "Nusselt_D = 0.17*Re_D**0.67*Pr_h**0.37*(D_a/D_t)**0.1*(d/D_t)**0.5"
   ]
  },
  {
   "cell_type": "markdown",
   "id": "2966440f",
   "metadata": {},
   "source": [
    "\n",
    "$$\n",
    "h_o = \\frac{Nu_Dk_h}{d}\n",
    "$$"
   ]
  },
  {
   "cell_type": "code",
   "execution_count": 6,
   "id": "4eb7108d-d5b1-44f4-b104-8966b437de18",
   "metadata": {},
   "outputs": [
    {
     "data": {
      "text/latex": [
       "\\[\n",
       "\\begin{aligned}\n",
       "h_{o} &= \\frac{ \\mathrm{Nusselt}_{D} \\cdot k_{h} }{ d } \\\\&= \\frac{ 111.278 \\cdot 0.107 }{ 0.010 } \\\\&= 1189.566 \\; \\;\\textrm{(W/m$^2\\cdot$K)}\\\\[10pt]\n",
       "\\end{aligned}\n",
       "\\]"
      ],
      "text/plain": [
       "<IPython.core.display.Latex object>"
      ]
     },
     "metadata": {},
     "output_type": "display_data"
    }
   ],
   "source": [
    "%%render long\n",
    "h_o = (Nusselt_D*k_h)/d #W/m$^2\\cdot$K"
   ]
  },
  {
   "cell_type": "markdown",
   "id": "aa90d1c1-20d8-4b15-aa86-1fdbd0ecdcbb",
   "metadata": {},
   "source": [
    "### Inciso 2"
   ]
  },
  {
   "cell_type": "markdown",
   "id": "ac8f6e97-42d1-4bb5-b96f-ecd3094bc108",
   "metadata": {},
   "source": [
    "Para el serpentín, las correlaciones para obtener los números adimensionales son los mismos que para flujos en tuberías. Siempre y cuando, este flujo sea turbulento."
   ]
  },
  {
   "cell_type": "markdown",
   "id": "0a5c4f86-cd7a-48db-8427-f4298b539e52",
   "metadata": {},
   "source": [
    "$$\n",
    "Re_D = \\frac{d \\dot{m}_c}{\\mu A}\n",
    "$$"
   ]
  },
  {
   "cell_type": "code",
   "execution_count": 7,
   "id": "c0dc8433-8f8b-434b-aacf-c4f193e44e51",
   "metadata": {},
   "outputs": [
    {
     "data": {
      "text/latex": [
       "\\[\n",
       "\\begin{aligned}\n",
       "F &= 40 \\; \\;\\textrm{(L/h)}\n",
       "\\\\[10pt]\n",
       "m_{c} &= \\frac{ F }{ \\rho_{c} } \\cdot \\frac{1} { 1000 } \\cdot 3600 \\\\&= \\frac{ 40 }{ 994.635000 } \\cdot \\frac{1} { 1000 } \\cdot 3600 \\\\&= 0.144777 \\; \\;\\textrm{(kg/s)}\\\\[10pt]\n",
       "\\\\[10pt]\n",
       "A &= \\pi \\cdot \\left( \\frac{ d }{ 2 } \\right) ^{ 2 } \\\\&= 3.141593 \\cdot \\left( \\frac{ 0.010000 }{ 2 } \\right) ^{ 2 } \\\\&= 0.000079 \\; \\;\\textrm{(m$^2$)}\\\\[10pt]\n",
       "\\\\[10pt]\n",
       "\\mathrm{Re}_{D} &= \\frac{ d \\cdot m_{c} }{ \\mu_{c} \\cdot A } \\\\&= \\frac{ 0.010000 \\cdot 0.144777 }{ 0.000771 \\cdot 0.000079 } \\\\&= 23896.221695  \\\\[10pt]\n",
       "\\\\[10pt]\n",
       "\\mathrm{Pr}_{c} &= \\frac{ \\mu_{c} \\cdot c_{Pc} }{ k_{c} } \\\\&= \\frac{ 0.000771 \\cdot 4180.350000 }{ 0.617500 } \\\\&= 5.222222  \\\\[10pt]\n",
       "\\end{aligned}\n",
       "\\]"
      ],
      "text/plain": [
       "<IPython.core.display.Latex object>"
      ]
     },
     "metadata": {},
     "output_type": "display_data"
    }
   ],
   "source": [
    "%%render long 6\n",
    "F = 40 # L/h\n",
    "m_c =  F/rho_c/1000*3600 #kg/s\n",
    "A = pi*(d/2)**2 #m$^2$\n",
    "Re_D = (d*m_c)/(mu_c*A)\n",
    "Pr_c = (mu_c*c_Pc)/k_c"
   ]
  },
  {
   "cell_type": "markdown",
   "id": "de4fcdf2-1652-41bc-a7f2-c902e2b78b6d",
   "metadata": {},
   "source": [
    "Al ser turbulento, utilizamos Sieder-Tate asumiendo $\\mu \\approx \\mu_s$:\n",
    "\n",
    "$$\n",
    "Nu_D = 0.027Re_D^{0.8}Pr^{1/3}\n",
    "$$"
   ]
  },
  {
   "cell_type": "markdown",
   "id": "2a106bcd",
   "metadata": {},
   "source": [
    "Luego el coeficiente de transferencia de calor para el serpentín será el mismo para flujos turbulentos en tuberías, pero con un factor de corrección:\n",
    "\n",
    "$$\n",
    "FC = 1 + 1.75\\frac{d}{r_s}\n",
    "$$"
   ]
  },
  {
   "cell_type": "markdown",
   "id": "cb74abec",
   "metadata": {},
   "source": [
    "Luego:\n",
    "\n",
    "$$\n",
    "h_s = FC\\frac{Nu_Dk_c}{d}\n",
    "$$"
   ]
  },
  {
   "cell_type": "code",
   "execution_count": 8,
   "id": "61826618-a356-4e65-b993-4295cfcc7e07",
   "metadata": {},
   "outputs": [
    {
     "data": {
      "text/latex": [
       "\\[\n",
       "\\begin{aligned}\n",
       "D_{s} &= \\frac{ 64 }{ 100 } &= 0.640 \\; \\;\\textrm{(m)}\n",
       "\\\\[10pt]\n",
       "r_{s} &= \\frac{ D_{s} }{ 2 } \\\\&= \\frac{ 0.640 }{ 2 } \\\\&= 0.320  \\\\[10pt]\n",
       "\\\\[10pt]\n",
       "\\mathrm{Nusselt}_{D} &= 0.027 \\cdot \\left( \\mathrm{Re}_{D} \\right) ^{ 0.8 } \\cdot \\left( \\mathrm{Pr}_{c} \\right) ^{ \\left( \\frac{ 1 }{ 3 } \\right) } \\\\&= 0.027 \\cdot \\left( 23896.222 \\right) ^{ 0.8 } \\cdot \\left( 5.222 \\right) ^{ \\left( \\frac{ 1 }{ 3 } \\right) } \\\\&= 149.043  \\\\[10pt]\n",
       "\\\\[10pt]\n",
       "\\mathrm{FC} &= 1 + 1.75 \\cdot \\left( \\frac{ d }{ r_{s} } \\right) \\\\&= 1 + 1.75 \\cdot \\left( \\frac{ 0.010 }{ 0.320 } \\right) \\\\&= 1.055  \\\\[10pt]\n",
       "\\\\[10pt]\n",
       "h_{s} &= \\mathrm{FC} \\cdot \\frac{ \\mathrm{Nusselt}_{D} \\cdot k_{c} }{ d } \\\\&= 1.055 \\cdot \\frac{ 149.043 \\cdot 0.618 }{ 0.010 } \\\\&= 9706.732 \\; \\;\\textrm{(W/m$^2\\cdot$K)}\\\\[10pt]\n",
       "\\end{aligned}\n",
       "\\]"
      ],
      "text/plain": [
       "<IPython.core.display.Latex object>"
      ]
     },
     "metadata": {},
     "output_type": "display_data"
    }
   ],
   "source": [
    "%%render long\n",
    "D_s = 64/100 #m\n",
    "r_s = D_s/2\n",
    "Nusselt_D = 0.027*Re_D**0.8*Pr_c**(1/3)\n",
    "FC = 1+1.75*(d/r_s)\n",
    "h_s = FC*(Nusselt_D*k_c)/d #W/m$^2\\cdot$K"
   ]
  },
  {
   "cell_type": "markdown",
   "id": "440f44c0-cde9-4b68-b1a8-4739ece3d1a7",
   "metadata": {},
   "source": [
    "### Inciso 3"
   ]
  },
  {
   "cell_type": "markdown",
   "id": "5b1b332c-225f-408f-a06b-a135269d2690",
   "metadata": {},
   "source": [
    "Ya que el grosor del tubo del serpentín es despreciable, tampoco presenta resistencia a la transferencia de calor.\n",
    "\n",
    "$$\n",
    "\\frac{1}{U} = \\left(\\frac{1}{h_o} + \\frac{1}{h_s}\\right)\n",
    "$$"
   ]
  },
  {
   "cell_type": "markdown",
   "id": "e6800bda-043f-41e7-8589-11d87524ec86",
   "metadata": {},
   "source": [
    "Por otro lado, el área de transferencia de calor para un serpentín será:\n",
    "\n",
    "$$\n",
    "A_t = \\pi d\\left(\\sqrt{4\\pi^2n^2r_s^2 + H_s^2}\\right)\n",
    "$$"
   ]
  },
  {
   "cell_type": "markdown",
   "id": "f6501cc9-a00e-405a-87db-6357d71f5e4e",
   "metadata": {},
   "source": [
    "Del enunciado recuperamos los parámetros de dimensionamiento del serpentín.\n"
   ]
  },
  {
   "cell_type": "code",
   "execution_count": 9,
   "id": "27815e8a-3fbf-4799-8899-2f0c23abf3c5",
   "metadata": {},
   "outputs": [
    {
     "data": {
      "text/latex": [
       "\\[\n",
       "\\begin{aligned}\n",
       "H_{s} &= 0.800 \\; \\;\\textrm{(m)}\n",
       " &n &= 4 \\;\n",
       "\\end{aligned}\n",
       "\\]"
      ],
      "text/plain": [
       "<IPython.core.display.Latex object>"
      ]
     },
     "metadata": {},
     "output_type": "display_data"
    }
   ],
   "source": [
    "%%render params\n",
    "H_s = 80/100 #m\n",
    "n = 4"
   ]
  },
  {
   "cell_type": "code",
   "execution_count": 10,
   "id": "68100a85-1e3e-480b-9b0c-a1c45a31bef5",
   "metadata": {},
   "outputs": [
    {
     "data": {
      "text/latex": [
       "\\[\n",
       "\\begin{aligned}\n",
       "U &= \\left( \\frac{ 1 }{ h_{o} } + \\frac{ 1 }{ h_{s} } \\right) ^{ \\left( - 1 \\right) } \\\\&= \\left( \\frac{ 1 }{ 1189.566 } + \\frac{ 1 }{ 9706.732 } \\right) ^{ \\left( - 1 \\right) } \\\\&= 1059.700 \\; \\;\\textrm{(W/m$^2\\cdot$K)}\\\\[10pt]\n",
       "\\\\[10pt]\n",
       "A_{t} &= \\pi \\cdot d \\cdot \\sqrt { 2 \\cdot \\left( \\pi \\right) ^{ 2 } \\cdot \\left( n \\right) ^{ 2 } \\cdot \\left( r_{s} \\right) ^{ 2 } + \\left( H_{s} \\right) ^{ 2 } } \\\\&= 3.142 \\cdot 0.010 \\cdot \\sqrt { 2 \\cdot \\left( 3.142 \\right) ^{ 2 } \\cdot \\left( 4 \\right) ^{ 2 } \\cdot \\left( 0.320 \\right) ^{ 2 } + \\left( 0.800 \\right) ^{ 2 } } \\\\&= 0.180 \\; \\;\\textrm{(m$^2$)}\\\\[10pt]\n",
       "\\end{aligned}\n",
       "\\]"
      ],
      "text/plain": [
       "<IPython.core.display.Latex object>"
      ]
     },
     "metadata": {},
     "output_type": "display_data"
    }
   ],
   "source": [
    "%%render long\n",
    "U = (1/h_o + 1/h_s)**(-1) #W/m$^2\\cdot$K\n",
    "A_t = pi*d*sqrt(2*pi**2*n**2*r_s**2 + H_s**2) #m$^2$"
   ]
  },
  {
   "cell_type": "markdown",
   "id": "cf7ce191-bcb7-4b02-9df0-e6f8f67ae8bc",
   "metadata": {},
   "source": [
    "Ya que estamos en un proceso de enfriamiento el tiempo del proceso tenemos las siguientes ecuaciones para representar el tiempo de enfriamiento. En donde, se enfría un líquido desde $T_0$ hasta $T$.\n",
    "\n",
    "$$\n",
    "\\Delta T_{ml} = \\frac{T_{cs}-T_{ce}}{\\ln\\left(\\frac{T-T_{ce}}{T-T_{cs}}\\right)}\n",
    "$$"
   ]
  },
  {
   "cell_type": "markdown",
   "id": "8b7e0bf3-80cc-4c65-bce4-27fb2fd73404",
   "metadata": {},
   "source": [
    "$$\n",
    "K_{ME} = exp\\left(-\\frac{UA}{\\dot{m}_cc_{P,c}}\\right)\n",
    "$$"
   ]
  },
  {
   "cell_type": "markdown",
   "id": "42b5dc17-059f-4ab1-b0b8-4f51fa0d8a76",
   "metadata": {},
   "source": [
    "$$\n",
    "t = \\frac{Mc_{P,h}/c_{P,c}}{\\dot{m}_c\\left(1-K_{ME}\\right)}\\ln\\left(\\frac{T_0-T_{ce}}{T-T_{ce}}\\right)\n",
    "$$"
   ]
  },
  {
   "cell_type": "markdown",
   "id": "41396f3b-20bf-45a2-9c3d-affe4114b00e",
   "metadata": {},
   "source": [
    "Procedemos a calcular lo pedido."
   ]
  },
  {
   "cell_type": "code",
   "execution_count": 11,
   "id": "dcc28bc6-6d06-46d7-9a8f-90ca97137aa2",
   "metadata": {},
   "outputs": [
    {
     "data": {
      "text/latex": [
       "\\[\n",
       "\\begin{aligned}\n",
       "T_{0} &= 393.150 \\; \\;\\textrm{(K)}\n",
       " &T &= 378.150 \\; \\;\\textrm{(K)}\n",
       " &T_{ce} &= 298.150 \\; \\;\\textrm{(K)}\n",
       "\\\\[10pt]\n",
       " T_{cs} &= 313.150 \\; \\;\\textrm{(K)}\n",
       " &M &= 365.442 \\; \\;\\textrm{(kg)}\n",
       "\\end{aligned}\n",
       "\\]"
      ],
      "text/plain": [
       "<IPython.core.display.Latex object>"
      ]
     },
     "metadata": {},
     "output_type": "display_data"
    }
   ],
   "source": [
    "%%render params\n",
    "T_0 = 120+273.15 #K\n",
    "T = 105+273.15 #K\n",
    "T_ce = 25+273.15 #K\n",
    "T_cs = 40+273.15 #K\n",
    "M = 0.5*rho_h #kg"
   ]
  },
  {
   "cell_type": "code",
   "execution_count": 12,
   "id": "98565ebe-cdb3-40b0-b9c9-f1abfb9b2eed",
   "metadata": {},
   "outputs": [
    {
     "data": {
      "text/latex": [
       "\\[\n",
       "\\begin{aligned}\n",
       "\\mathrm{dT}_{ml} &= \\frac{ T_{cs} - T_{ce} }{ \\ln \\left( \\frac{ T - T_{ce} }{ T - T_{cs} } \\right) } \\\\&= \\frac{ 313.15000 - 298.15000 }{ \\ln \\left( \\frac{ 378.15000 - 298.15000 }{ 378.15000 - 313.15000 } \\right) } \\\\&= 72.24064  \\\\[10pt]\n",
       "\\\\[10pt]\n",
       "K_{ME} &= \\exp \\left( \\frac{ \\left( - \\left( U \\cdot A \\right) \\right) }{ m_{c} \\cdot c_{Pc} } \\right) \\\\&= \\exp \\left( \\frac{ \\left( - \\left( 1059.69951 \\cdot 0.00008 \\right) \\right) }{ 0.14478 \\cdot 4180.35000 } \\right) \\\\&= 0.99986  \\\\[10pt]\n",
       "\\\\[10pt]\n",
       "t &= \\frac{ M \\cdot \\frac{ c_{Ph} }{ c_{Pc} } }{ m_{c} \\cdot \\left( 1 - K_{ME} \\right) } \\cdot \\ln \\left( \\frac{ T_{0} - T_{ce} }{ T - T_{ce} } \\right) \\cdot \\frac{ 1 }{ 3600 \\cdot 24 } \\\\&= \\frac{ 365.44200 \\cdot \\frac{ 2052.21000 }{ 4180.35000 } }{ 0.14478 \\cdot \\left( 1 - 0.99986 \\right) } \\cdot \\ln \\left( \\frac{ 393.15000 - 298.15000 }{ 378.15000 - 298.15000 } \\right) \\cdot \\frac{ 1 }{ 3600 \\cdot 24 } \\\\&= 17.92396 \\; \\;\\textrm{(días)}\\\\[10pt]\n",
       "\\end{aligned}\n",
       "\\]"
      ],
      "text/plain": [
       "<IPython.core.display.Latex object>"
      ]
     },
     "metadata": {},
     "output_type": "display_data"
    }
   ],
   "source": [
    "%%render long 5\n",
    "dT_ml = (T_cs-T_ce)/(log((T-T_ce)/(T-T_cs)))\n",
    "K_ME = exp(-(U*A)/(m_c*c_Pc))\n",
    "t = (M*c_Ph/c_Pc)/(m_c*(1-K_ME)) * log((T_0-T_ce)/(T-T_ce))* 1/(3600*24) #días"
   ]
  },
  {
   "cell_type": "code",
   "execution_count": null,
   "id": "a3a20cef-0305-4574-86d3-4525786503cc",
   "metadata": {},
   "outputs": [],
   "source": []
  }
 ],
 "metadata": {
  "kernelspec": {
   "display_name": "Python 3 (ipykernel)",
   "language": "python",
   "name": "python3"
  },
  "language_info": {
   "codemirror_mode": {
    "name": "ipython",
    "version": 3
   },
   "file_extension": ".py",
   "mimetype": "text/x-python",
   "name": "python",
   "nbconvert_exporter": "python",
   "pygments_lexer": "ipython3",
   "version": "3.11.7"
  }
 },
 "nbformat": 4,
 "nbformat_minor": 5
}