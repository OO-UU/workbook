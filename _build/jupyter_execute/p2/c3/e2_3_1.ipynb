{
 "cells": [
  {
   "cell_type": "markdown",
   "id": "7e26a60b-22e2-44ed-97ff-b542692e6503",
   "metadata": {},
   "source": [
    "# Ejercicio 1: ICTC y haces de tubos"
   ]
  },
  {
   "cell_type": "markdown",
   "id": "8426ccbb-b346-415d-8c3f-90007b763de8",
   "metadata": {},
   "source": [
    "## Enunciado"
   ]
  },
  {
   "cell_type": "markdown",
   "id": "955b8f23-9bf3-4054-9700-f4382315fa85",
   "metadata": {},
   "source": [
    "Luego de enfriar tolueno con un intercambiador de doble tubo, desea determinar si un intercambiador de tubo y carcasa (**ICTC**) tipo 1-2n es una mejor alternativa. En esta situación, cuenta con diferentes flujos de operación. En específico, el flujo de enfriamiento (Agua) que se encuentra en la carcasa será de $F_c = 63~\\text{kg/s}$ y entrará a una temperatura de $25~\\text{°C}$. Mientras que el tolueno pasará por los tubos a contracorriente con un flujo de $F_h = 34.35~\\text{kg/s}$ y a una temperatura inicial de $80~\\text{°C}$. El intercambiador está formado por $N_t=45$ tubos de diámetro interno $d_i=3.5~\\text{cm}$ y grosor de la tubería de $0.78~\\text{cm}$, con un largo $L=5~\\text{m}$ y un arreglo triagular con $2~\\text{cm}$ de espacio entre tubos ($C$). La carcasa, tiene un diámetro de $D_c=0.9~\\text{m}$ y cuenta con $25$ deflectores identicamente espaciados a lo largo de ella. Para las propiedades termofísicas de los fluidos utilice:"
   ]
  },
  {
   "cell_type": "markdown",
   "id": "b9648cf4-005c-47d9-a9c6-8bf84e51e4d9",
   "metadata": {},
   "source": [
    "```{list-table} Propiedades termofísicas del tolueno y el agua en función de su temperatura promedio.\n",
    ":header-rows: 1\n",
    ":name: tabla-e2_3_1\n",
    ":align: center\n",
    "\n",
    "* - Fluido\n",
    "  - $c_P~\\text{(J/kg}\\cdot\\text{K)}$\n",
    "  - $\\rho~\\text{(kg/m}^3\\text{)}$\n",
    "  - $\\mu~\\text{(Pa}\\cdot\\text{s)}$\n",
    "  - $k~\\text{(W/m}\\cdot\\text{K)}$\n",
    "* - Tolueno\n",
    "  - 1917.25\n",
    "  - 802.355\n",
    "  - 3.003$\\times$10$^{-4}$\n",
    "  - 0.11329\n",
    "* - Agua\n",
    "  - 4181.95\n",
    "  - 996.93\n",
    "  - 8.994$\\times$10$^{-4}$\n",
    "  - 0.6062\n",
    "```"
   ]
  },
  {
   "cell_type": "markdown",
   "id": "6dbef225-a471-469f-905e-300b5472ecc9",
   "metadata": {},
   "source": [
    "1. Es deseable que el factor de corrección $F_T$ sea lo más cercano a 1. Encuentre las temperaturas de salida de ambos fluidos para que se cumpla esta relación. *Hint: Utilice el gráfico que relaciona el factor de corrección con la eficiencia de temperaturas.*\n",
    "2. Calcule el coeficiente de transferencia de calor para el flujo que pasa por la carcasa.\n",
    "3. Encuentre la caida de presión para el flujo que pasa por la carcasa. *Hint: Utilice el gráfico de factor de fricción para arreglos escalonados.*"
   ]
  },
  {
   "cell_type": "markdown",
   "id": "4b6cc511",
   "metadata": {},
   "source": [
    "{ref}`Ver solución <part2:cap3:ex1:sol>`\n",
    "\n",
    "<br/><br/>\n",
    "<br/><br/>\n",
    "<br/><br/>\n",
    "<br/><br/>\n",
    "<br/><br/>\n",
    "<br/><br/>\n",
    "<br/><br/>\n",
    "<br/><br/>"
   ]
  },
  {
   "cell_type": "markdown",
   "id": "7c751923-3bfa-40ea-ae58-ce4cc00543e4",
   "metadata": {},
   "source": [
    "(part2:cap3:ex1:sol)=\n",
    "## Solución"
   ]
  },
  {
   "cell_type": "code",
   "execution_count": 1,
   "id": "f360e35b-f52d-4990-ba6c-0db05954d491",
   "metadata": {},
   "outputs": [],
   "source": [
    "import handcalcs.render\n",
    "from handcalcs import handcalc\n",
    "from numpy import pi, log, sqrt"
   ]
  },
  {
   "cell_type": "markdown",
   "id": "b5b5eb67-40b7-4360-a597-c571a8a90331",
   "metadata": {},
   "source": [
    "### Inciso 1"
   ]
  },
  {
   "cell_type": "markdown",
   "id": "185b8a46-7ef2-413d-9fd9-a47533b8c42f",
   "metadata": {},
   "source": [
    "Para situarnos en el gráfico, necesitamos saber la razón de temperaturas $Z$ (En el gráfico está representado por $R$).\n",
    "\n",
    "$$\n",
    "Z = \\frac{F_c\\cdot c_{Pc}}{F_h\\cdot c_{Ph}}\n",
    "$$"
   ]
  },
  {
   "cell_type": "markdown",
   "id": "32d57d37-a60b-4fcb-96d1-771806010674",
   "metadata": {},
   "source": [
    "Anotamos las propiedades termofísicas del enunciado y los flujos."
   ]
  },
  {
   "cell_type": "code",
   "execution_count": 2,
   "id": "9047bbc3-7040-44da-bdc4-7f94da264232",
   "metadata": {},
   "outputs": [
    {
     "data": {
      "text/latex": [
       "\\[\n",
       "\\begin{aligned}\n",
       "F_{c} &= 63 \\; \\;\\textrm{(kg/s)}\n",
       " &\\rho_{c} &= 996.930 \\; \\;\\textrm{(kg/m$^3$)}\n",
       " &\\mu_{c} &= 0.001 \\; \\;\\textrm{(Pa$\\cdot$s)}\n",
       "\\\\[10pt]\n",
       " c_{Pc} &= 4181.950 \\; \\;\\textrm{(J/kg$\\cdot$K)}\n",
       " &k_{c} &= 0.606 \\; \\;\\textrm{(W/m$\\cdot$K)}\n",
       " &F_{h} &= 34.350 \\; \\;\\textrm{(kg/s)}\n",
       "\\\\[10pt]\n",
       " \\rho_{h} &= 802.355 \\; \\;\\textrm{(kg/m$^3$)}\n",
       " &\\mu_{h} &= 0.000 \\; \\;\\textrm{(Pa$\\cdot$s)}\n",
       " &c_{Ph} &= 1917.250 \\; \\;\\textrm{(J/kg$\\cdot$K)}\n",
       "\\\\[10pt]\n",
       " k_{h} &= 0.113 \\; \\;\\textrm{(W/m$\\cdot$K)}\n",
       "\\end{aligned}\n",
       "\\]"
      ],
      "text/plain": [
       "<IPython.core.display.Latex object>"
      ]
     },
     "metadata": {},
     "output_type": "display_data"
    }
   ],
   "source": [
    "%%render params\n",
    "F_c = 63 #kg/s\n",
    "rho_c = 996.93 #kg/m$^3$\n",
    "mu_c = 8.994e-4 #Pa$\\cdot$s\n",
    "c_Pc = 4181.95 #J/kg$\\cdot$K\n",
    "k_c = 0.6062 #W/m$\\cdot$K\n",
    "F_h = 34.35 #kg/s\n",
    "rho_h = 802.355 #kg/m$^3$\n",
    "mu_h = 3.003e-4 #Pa$\\cdot$s\n",
    "c_Ph = 1917.25 #J/kg$\\cdot$K\n",
    "k_h = 0.11329 #W/m$\\cdot$K"
   ]
  },
  {
   "cell_type": "code",
   "execution_count": 3,
   "id": "00341bfb-03dc-48a1-8d21-5f93b5eac5f2",
   "metadata": {},
   "outputs": [
    {
     "data": {
      "text/latex": [
       "\\[\n",
       "\\begin{aligned}\n",
       "Z &= \\frac{ F_{c} \\cdot c_{Pc} }{ F_{h} \\cdot c_{Ph} } \\\\&= \\frac{ 63 \\cdot 4181.950 }{ 34.350 \\cdot 1917.250 } \\\\&= 4.000  \\\\[10pt]\n",
       "\\end{aligned}\n",
       "\\]"
      ],
      "text/plain": [
       "<IPython.core.display.Latex object>"
      ]
     },
     "metadata": {},
     "output_type": "display_data"
    }
   ],
   "source": [
    "%%render long\n",
    "Z = (F_c*c_Pc)/(F_h*c_Ph)"
   ]
  },
  {
   "cell_type": "markdown",
   "id": "0267baea-f9f1-4726-ae4d-a99bc1aca62d",
   "metadata": {},
   "source": [
    "De esta manera, nos situamos el la curva $R~\\text{o}~Z=4$. Y buscamos el valor de $\\eta_H$ tal que $F_T$ sea 1. De manera que encontramos que para que esto se cumpla $\\eta_H \\approx 0.05$. Luego, por definición:\n",
    "\n",
    "$$\n",
    "\\eta_H = \\frac{T_{c,o}-T_{c,i}}{T_{h,i}-T_{c,i}}\n",
    "$$"
   ]
  },
  {
   "cell_type": "code",
   "execution_count": 4,
   "id": "c7204794-83b1-4481-b9e8-09f9c8b67bcb",
   "metadata": {},
   "outputs": [
    {
     "data": {
      "text/latex": [
       "\\[\n",
       "\\begin{aligned}\n",
       "T_{ci} &= 25 + 273.15 &= 298.150 \\; \\;\\textrm{(K)}\n",
       "\\\\[10pt]\n",
       "T_{hi} &= 80 + 273.15 &= 353.150 \\; \\;\\textrm{(K)}\n",
       "\\\\[10pt]\n",
       "\\eta_{H} &= 0.050 \\; \n",
       "\\\\[10pt]\n",
       "T_{co} &= \\eta_{H} \\cdot \\left( T_{hi} - T_{ci} \\right) + T_{ci} \\\\&= 0.050 \\cdot \\left( 353.150 - 298.150 \\right) + 298.150 \\\\&= 300.900 \\; \\;\\textrm{(K)}\\\\[10pt]\n",
       "\\end{aligned}\n",
       "\\]"
      ],
      "text/plain": [
       "<IPython.core.display.Latex object>"
      ]
     },
     "metadata": {},
     "output_type": "display_data"
    }
   ],
   "source": [
    "%%render long\n",
    "T_ci = 25+273.15 #K\n",
    "T_hi = 80+273.15 #K\n",
    "eta_H = 0.05\n",
    "T_co = eta_H*(T_hi-T_ci) + T_ci #K"
   ]
  },
  {
   "cell_type": "markdown",
   "id": "f87dd28f-efaa-4ff9-8e27-1739c50a37ad",
   "metadata": {},
   "source": [
    "Luego despejamos $T_{h,o}$ mediante $Z$."
   ]
  },
  {
   "cell_type": "code",
   "execution_count": 5,
   "id": "9dcf3f31-27e9-4a88-9337-e09b9a7624df",
   "metadata": {},
   "outputs": [
    {
     "data": {
      "text/latex": [
       "\\[\n",
       "\\begin{aligned}\n",
       "T_{ho} &= T_{hi} - Z \\cdot \\left( T_{co} - T_{ci} \\right) \\\\&= 353.150 - 4.000 \\cdot \\left( 300.900 - 298.150 \\right) \\\\&= 342.149 \\; \\;\\textrm{(K)}\\\\[10pt]\n",
       "\\end{aligned}\n",
       "\\]"
      ],
      "text/plain": [
       "<IPython.core.display.Latex object>"
      ]
     },
     "metadata": {},
     "output_type": "display_data"
    }
   ],
   "source": [
    "%%render long\n",
    "T_ho = T_hi - Z*(T_co - T_ci) #K"
   ]
  },
  {
   "cell_type": "markdown",
   "id": "946eeaf8-d7ac-4758-b5bd-bfed3d23e637",
   "metadata": {},
   "source": [
    "Entonces, las temperaturas de salida del agua será $T_{c,o} \\approx 27.75~\\text{°C}$ y la del tolueno $T_{h,o} \\approx 69~\\text{°C}$."
   ]
  },
  {
   "cell_type": "markdown",
   "id": "357a6bef-7036-4e17-8e0a-b705611aa231",
   "metadata": {},
   "source": [
    "### Inciso 2"
   ]
  },
  {
   "cell_type": "markdown",
   "id": "5d07df5f-1a42-466f-8898-d745105d8828",
   "metadata": {},
   "source": [
    "En primer lugar, debemos encontrar el flujo posible entre los deflectores y tubos. Para esto calculamos el área disponible de flujo.\n",
    "\n",
    "$$\n",
    "a_c = D_cB\\frac{C}{P_T}\n",
    "$$"
   ]
  },
  {
   "cell_type": "markdown",
   "id": "932c0f3f-e675-4941-8f74-38aff6fc3b1d",
   "metadata": {},
   "source": [
    "Ya que los deflectores se encuentran especiados de igual forma, sabemos entonces que el espacio entre deflectores será:\n",
    "\n",
    "$$\n",
    "N_B = \\frac{L}{B}-1\n",
    "$$"
   ]
  },
  {
   "cell_type": "markdown",
   "id": "1840947d-910c-4075-8444-1ede723fc42d",
   "metadata": {},
   "source": [
    "Mientras que el espacio entre los centros de dos tubos $P_T$ viene dado por la relación entre $C$ y el diámetro externo de las tuberías.\n",
    "\n",
    "$$\n",
    "P_T = C + d_e = C + \\left(d_i + e\\right)\n",
    "$$"
   ]
  },
  {
   "cell_type": "markdown",
   "id": "646d43e2-2fb5-4494-bc8d-d21c865cd7ac",
   "metadata": {},
   "source": [
    "Con estas relaciones somos capaces de encontrar el diámetro equivalente para el flujo en la carcasa para arreglos triangulares (o escalonados).\n",
    "\n",
    "$$\n",
    "D_e = \\frac{3.44P_T^2-\\pi d_e^2}{\\pi d_e}\n",
    "$$"
   ]
  },
  {
   "cell_type": "code",
   "execution_count": 6,
   "id": "faadbe66-6eab-4659-8d50-0a5579b674a1",
   "metadata": {},
   "outputs": [
    {
     "data": {
      "text/latex": [
       "\\[\n",
       "\\begin{aligned}\n",
       "d_{i} &= 3.500 \\times 10 ^ {-2} \\; \\;\\textrm{(m)}\n",
       " &e &= 7.800 \\times 10 ^ {-3} \\; \\;\\textrm{(m)}\n",
       " &D_{c} &= 9.000 \\times 10 ^ {-1} \\; \\;\\textrm{(m)}\n",
       "\\\\[10pt]\n",
       " N_{B} &= 25 \\; \n",
       " &L &= 5 \\; \n",
       " &C &= 2.000 \\times 10 ^ {-2} \\; \\;\\textrm{(m)}\n",
       "\\\\[10pt]\n",
       " N_{t} &= 45 \\;\n",
       "\\end{aligned}\n",
       "\\]"
      ],
      "text/plain": [
       "<IPython.core.display.Latex object>"
      ]
     },
     "metadata": {},
     "output_type": "display_data"
    }
   ],
   "source": [
    "%%render params sci_not\n",
    "d_i = 3.5/100 #m\n",
    "e = 0.78/100 #m\n",
    "D_c = 0.9 #m\n",
    "N_B = 25\n",
    "L = 5\n",
    "C = 2/100 #m\n",
    "N_t = 45"
   ]
  },
  {
   "cell_type": "code",
   "execution_count": 7,
   "id": "9d5f77cd-ca50-4acd-89ba-4f79eb8345c1",
   "metadata": {},
   "outputs": [
    {
     "data": {
      "text/latex": [
       "\\[\n",
       "\\begin{aligned}\n",
       "B &= \\frac{ L }{ N_{B} + 1 } \\\\&= \\frac{ 5 }{ 25 + 1 } \\\\&= 0.192 \\; \\;\\textrm{(m)}\\\\[10pt]\n",
       "\\\\[10pt]\n",
       "d_{e} &= d_{i} + e \\\\&= 0.035 + 0.008 \\\\&= 0.043 \\; \\;\\textrm{(m)}\\\\[10pt]\n",
       "\\\\[10pt]\n",
       "P_{T} &= C + d_{e} \\\\&= 0.020 + 0.043 \\\\&= 0.063 \\; \\;\\textrm{(m)}\\\\[10pt]\n",
       "\\\\[10pt]\n",
       "D_{e} &= \\frac{ 3.44 \\cdot \\left( P_{T} \\right) ^{ 2 } - \\pi \\cdot \\left( d_{e} \\right) ^{ 2 } }{ \\pi \\cdot d_{e} } \\\\&= \\frac{ 3.44 \\cdot \\left( 0.063 \\right) ^{ 2 } - 3.142 \\cdot \\left( 0.043 \\right) ^{ 2 } }{ 3.142 \\cdot 0.043 } \\\\&= 0.058 \\; \\;\\textrm{(m)}\\\\[10pt]\n",
       "\\\\[10pt]\n",
       "a_{c} &= D_{c} \\cdot B \\cdot \\left( \\frac{ C }{ P_{T} } \\right) \\\\&= 0.900 \\cdot 0.192 \\cdot \\left( \\frac{ 0.020 }{ 0.063 } \\right) \\\\&= 0.055 \\; \\;\\textrm{(m$^2$)}\\\\[10pt]\n",
       "\\end{aligned}\n",
       "\\]"
      ],
      "text/plain": [
       "<IPython.core.display.Latex object>"
      ]
     },
     "metadata": {},
     "output_type": "display_data"
    }
   ],
   "source": [
    "%%render long\n",
    "B = L/(N_B+1) #m\n",
    "d_e = d_i+e #m\n",
    "P_T = C+d_e #m\n",
    "D_e = (3.44*P_T**2-pi*d_e**2)/(pi*d_e) #m\n",
    "a_c = D_c*B*(C/P_T) #m$^2$"
   ]
  },
  {
   "cell_type": "markdown",
   "id": "776e3a2e-8804-4971-a798-03a9e69b2ac7",
   "metadata": {},
   "source": [
    "Con esta información podemos calcular el número de Reynolds.\n",
    "\n",
    "$$\n",
    "Re = \\frac{G_cD_e}{\\mu}\n",
    "$$"
   ]
  },
  {
   "cell_type": "code",
   "execution_count": 8,
   "id": "af6af0d2-638b-4c9b-92fb-e99b072a91fd",
   "metadata": {},
   "outputs": [
    {
     "data": {
      "text/latex": [
       "\\[\n",
       "\\begin{aligned}\n",
       "G_{c} &= \\frac{ F_{c} }{ a_{c} } \\\\&= \\frac{ 63 }{ 0.055 } \\\\&= 1142.960 \\; \\;\\textrm{(kg/m$^2\\cdot$s)}\\\\[10pt]\n",
       "\\\\[10pt]\n",
       "\\mathrm{Re} &= \\frac{ G_{c} \\cdot D_{e} }{ \\mu_{c} } \\\\&= \\frac{ 1142.960 \\cdot 0.058 }{ 0.001 } \\\\&= 73831.550  \\\\[10pt]\n",
       "\\end{aligned}\n",
       "\\]"
      ],
      "text/plain": [
       "<IPython.core.display.Latex object>"
      ]
     },
     "metadata": {},
     "output_type": "display_data"
    }
   ],
   "source": [
    "%%render long\n",
    "G_c = F_c/a_c #kg/m$^2\\cdot$s\n",
    "Re = (G_c*D_e)/mu_c"
   ]
  },
  {
   "cell_type": "markdown",
   "id": "4e9f2c29-db56-4e89-ac6c-dbcb69bb58ae",
   "metadata": {},
   "source": [
    "Ya que nos encontramos ante un Reynolds que se encuentra dentro del rango disponible utilizamos la siguiente correlación asumiendo $\\mu\\approx\\mu_s$.\n",
    "\n",
    "$$\n",
    "Nu = 0.36Re^{0.55}Pr^{1/3}\n",
    "$$"
   ]
  },
  {
   "cell_type": "code",
   "execution_count": 9,
   "id": "c70ba005-b44f-4356-b569-21ab40bcdf78",
   "metadata": {},
   "outputs": [
    {
     "data": {
      "text/latex": [
       "\\[\n",
       "\\begin{aligned}\n",
       "\\mathrm{Pr} &= \\frac{ \\mu_{c} \\cdot c_{Pc} }{ k_{c} } \\\\&= \\frac{ 0.001 \\cdot 4181.950 }{ 0.606 } \\\\&= 6.205  \\\\[10pt]\n",
       "\\\\[10pt]\n",
       "\\mathrm{Nusselt} &= 0.36 \\cdot \\left( \\mathrm{Re} \\right) ^{ 0.55 } \\cdot \\left( \\mathrm{Pr} \\right) ^{ \\left( \\frac{ 1 }{ 3 } \\right) } \\\\&= 0.36 \\cdot \\left( 73831.550 \\right) ^{ 0.55 } \\cdot \\left( 6.205 \\right) ^{ \\left( \\frac{ 1 }{ 3 } \\right) } \\\\&= 314.829  \\\\[10pt]\n",
       "\\end{aligned}\n",
       "\\]"
      ],
      "text/plain": [
       "<IPython.core.display.Latex object>"
      ]
     },
     "metadata": {},
     "output_type": "display_data"
    }
   ],
   "source": [
    "%%render long\n",
    "Pr = (mu_c*c_Pc)/k_c\n",
    "Nusselt = 0.36*Re**(0.55)*Pr**(1/3)"
   ]
  },
  {
   "cell_type": "markdown",
   "id": "f5ff4927-e6b0-437b-9df3-2a47a662ea8d",
   "metadata": {},
   "source": [
    "Finalmente encontramos el coeficiente de transferencia de calor de la carcasa.\n",
    "\n",
    "$$\n",
    "h_c = \\frac{Nu\\cdot k}{D_e} \n",
    "$$"
   ]
  },
  {
   "cell_type": "code",
   "execution_count": 10,
   "id": "7926cfa9-9050-4d96-8c62-fec5cf0437bd",
   "metadata": {},
   "outputs": [
    {
     "data": {
      "text/latex": [
       "\\[\n",
       "\\begin{aligned}\n",
       "h_{c} &= \\frac{ \\mathrm{Nusselt} \\cdot k_{c} }{ D_{e} } \\\\&= \\frac{ 314.829 \\cdot 0.606 }{ 0.058 } \\\\&= 3284.931 \\; \\;\\textrm{(W/m$^2\\cdot$K)}\\\\[10pt]\n",
       "\\end{aligned}\n",
       "\\]"
      ],
      "text/plain": [
       "<IPython.core.display.Latex object>"
      ]
     },
     "metadata": {},
     "output_type": "display_data"
    }
   ],
   "source": [
    "%%render long \n",
    "h_c = (Nusselt*k_c)/D_e #W/m$^2\\cdot$K"
   ]
  },
  {
   "cell_type": "markdown",
   "id": "a32f9a4d-d541-4e89-ba9c-b4c4e0dfadc3",
   "metadata": {},
   "source": [
    "### Inciso 3"
   ]
  },
  {
   "cell_type": "markdown",
   "id": "0b05629d-546d-42ff-804f-59bb0cf22d57",
   "metadata": {},
   "source": [
    "Para poder utilizar el gráfico, necesitamos saber la curva que utilizaremos, estas representan el espacio que hay entre los centros de los tubos $P_T$ en $inch$."
   ]
  },
  {
   "cell_type": "code",
   "execution_count": 11,
   "id": "393e8ac8-dacc-435f-b00e-5fff64af564a",
   "metadata": {},
   "outputs": [
    {
     "data": {
      "text/latex": [
       "\\[\n",
       "\\begin{aligned}\n",
       "P_{T} &= 2.472 \\; \\;\\textrm{(inch)}\n",
       "\\end{aligned}\n",
       "\\]"
      ],
      "text/plain": [
       "<IPython.core.display.Latex object>"
      ]
     },
     "metadata": {},
     "output_type": "display_data"
    }
   ],
   "source": [
    "%%render params\n",
    "P_T = P_T/0.0254 #inch"
   ]
  },
  {
   "cell_type": "markdown",
   "id": "84df3cd8-ec5a-45eb-97d0-253a56db2957",
   "metadata": {},
   "source": [
    "Nos ubicamos en la curva donde $P_T\\approx2.5~\\text{inch}$ y $Re=7.383\\times10^{4}$. Entonces $f'\\approx0.2$."
   ]
  },
  {
   "cell_type": "markdown",
   "id": "d3dc5bb4-8c92-43cc-99b0-3d1a7774c400",
   "metadata": {},
   "source": [
    "Luego la caida de presiones será:\n",
    "\n",
    "$$\n",
    "\\Delta p = f'\\left[\\frac{\\left(N_B+1\\right)D_c}{D_e}\\right]\\left(\\frac{G_c^2}{2\\rho}\\right)\n",
    "$$"
   ]
  },
  {
   "cell_type": "code",
   "execution_count": 12,
   "id": "c921cd8a-edd1-4ed2-a0e9-f2138f60f939",
   "metadata": {},
   "outputs": [
    {
     "data": {
      "text/latex": [
       "\\[\n",
       "\\begin{aligned}\n",
       "f &= 0.200 \\; \n",
       "\\\\[10pt]\n",
       "\\mathrm{Dp} &= f \\cdot \\frac{ \\left( N_{B} + 1 \\right) \\cdot D_{c} }{ D_{e} } \\cdot \\left( \\frac{ \\left( G_{c} \\right) ^{ 2 } }{ 2 \\cdot \\rho_{c} } \\right) \\\\&= 0.200 \\cdot \\frac{ \\left( 25 + 1 \\right) \\cdot 0.900 }{ 0.058 } \\cdot \\left( \\frac{ \\left( 1142.960 \\right) ^{ 2 } }{ 2 \\cdot 996.930 } \\right) \\\\&= 52777.573 \\; \\;\\textrm{(Pa)}\\\\[10pt]\n",
       "\\end{aligned}\n",
       "\\]"
      ],
      "text/plain": [
       "<IPython.core.display.Latex object>"
      ]
     },
     "metadata": {},
     "output_type": "display_data"
    }
   ],
   "source": [
    "%%render long\n",
    "f = 0.2\n",
    "Dp= f*((N_B+1)*D_c)/(D_e)*(G_c**2/(2*rho_c)) #Pa"
   ]
  },
  {
   "cell_type": "code",
   "execution_count": null,
   "id": "cb8e71ce-5b5c-46e8-b4db-7388fda7fd98",
   "metadata": {},
   "outputs": [],
   "source": []
  }
 ],
 "metadata": {
  "kernelspec": {
   "display_name": "Python 3 (ipykernel)",
   "language": "python",
   "name": "python3"
  },
  "language_info": {
   "codemirror_mode": {
    "name": "ipython",
    "version": 3
   },
   "file_extension": ".py",
   "mimetype": "text/x-python",
   "name": "python",
   "nbconvert_exporter": "python",
   "pygments_lexer": "ipython3",
   "version": "3.11.7"
  }
 },
 "nbformat": 4,
 "nbformat_minor": 5
}