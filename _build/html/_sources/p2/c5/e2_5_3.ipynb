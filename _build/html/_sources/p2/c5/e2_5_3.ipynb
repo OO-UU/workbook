{
 "cells": [
  {
   "cell_type": "markdown",
   "id": "83df4a11-d426-48df-8159-45f1be38f871",
   "metadata": {},
   "source": [
    "# Ejercicio 3: Evaporador de 2 efectos *backward*"
   ]
  },
  {
   "cell_type": "markdown",
   "id": "9668a2ae-29dc-46af-90fd-30d0cdca15bb",
   "metadata": {},
   "source": [
    "## Enunciado"
   ]
  },
  {
   "cell_type": "markdown",
   "id": "8a5abc1b-3d42-498a-8a62-8aba9d9b5c15",
   "metadata": {},
   "source": [
    "Un evaporador de dos efectos verticales es utilizado para concentrar un flujo de una solución de sólidos disueltos al $19~\\%$. El flujo entra al sistema a $80000~\\text{L/h}$ con una temperatura de $25~\\text{°C}$. Se quiere alcanzar una concentración de sólidos del $40~\\%$. Al entrar, el flujo pasa por dos intercambiadores de tubo y carcasa a contra-corrientes $a$ y $b$ que actuan como calentadores. Luego, pasa a través del segundo y primer efecto como muestra la figura. El vapor que se utiliza en el calentador $a$ proviene de la linea de vapor entre el segundo efecto y el condensador $C$. Mientras que para el calentador $b$ se utiliza el vapor proveniente de la linea de vapor entre el primer y segundo efecto. La diferencia de temperaturas $\\Delta T_h$ para ambos calentadores es de $10~\\text{°C}$. Por último, la temperatura de entrada del vapor saturado de la corriente $\\text{S}$ es de $110~\\text{°C}$."
   ]
  },
  {
   "cell_type": "markdown",
   "id": "c6c7eccf-b731-4e25-9e63-91166c9c6d1a",
   "metadata": {},
   "source": [
    "```{figure} ./images/img2_5_3.png\n",
    "---\n",
    "align: center\n",
    "name: fig253\n",
    "scale: 60%\n",
    "---\n",
    "\n",
    "Diagrama de evaporador de 2 efectos backward.\n",
    "```"
   ]
  },
  {
   "cell_type": "markdown",
   "id": "75c00948-2520-4a76-954d-e25dc4c816fd",
   "metadata": {},
   "source": [
    "Además, su mejor amigo le asegura que las diferencias de temperatura para cada intercambiador son $\\Delta T_1 = 22~\\text{°C}$ y$\\Delta T_2 = 15~\\text{°C}$. Para corroborar, le entrega la siguiente información.\n",
    "- La gravedad específica para sólidos disueltos al $19\\%$ es $1.0632$ y la densidad del agua es $0.995~\\text{kg/L}$.\n",
    "- Las elevaciones del punto de ebullición (EPE) son $7~\\text{°C}$ y $4~\\text{°C}$ para el primer y segundo efecto respectivamente.\n",
    "- Los coeficientes de transferencia global de calor corregidos son $25555.12~\\text{W/m}^2\\cdot\\text{K}$ para $\\text{E}1$ y $39974.8~\\text{W/m}^2\\cdot\\text{K}$ para $\\text{E}2$.\n",
    "- Considere que el calor latente del vapor será $\\lambda_{s}=2183~\\text{kJ/kg}$, $\\lambda_{1}=2341~\\text{kJ/kg}$ y $\\lambda_{2}=2678~\\text{kJ/kg}$.\n",
    "- La ecuación para el calor específico a presión constante en función de la temperatura (en °C) es:\n",
    "\n",
    "$$c_p (\\text{J/kg}\\cdot\\text{°C}) = 6.5684 T + 3499$$"
   ]
  },
  {
   "cell_type": "markdown",
   "id": "9abf3557-225a-4ea7-989e-d4617a96e648",
   "metadata": {},
   "source": [
    "Encuentre:\n",
    "1. La fracción másica de sólidos disueltos luego del segundo efecto.\n",
    "2. El flujo másico de vapor requerido en la corriente $\\text{S}$ en $\\text{kg/h}$.\n",
    "3. El área de transferecia de calor para cada efecto en $\\text{m}^2$.\n",
    "4. La economía del intercambiador.\n",
    "5. El calor a ser removido del condensdor en $\\text{MW}$."
   ]
  },
  {
   "cell_type": "markdown",
   "id": "f261aee9-c9af-4bb0-8681-635b44a8e8eb",
   "metadata": {},
   "source": [
    "{ref}`Ver solución <part2:cap5:ex3:sol>`\n",
    "\n",
    "<br/><br/>\n",
    "<br/><br/>\n",
    "<br/><br/>\n",
    "<br/><br/>\n",
    "<br/><br/>\n",
    "<br/><br/>\n",
    "<br/><br/>\n",
    "<br/><br/>"
   ]
  },
  {
   "cell_type": "markdown",
   "id": "9f144920-1423-406b-a45d-95b62b1519d1",
   "metadata": {},
   "source": [
    "(part2:cap5:ex3:sol)=\n",
    "## Solución"
   ]
  },
  {
   "cell_type": "code",
   "execution_count": 1,
   "id": "6a0d4e98-0f49-44bd-a8d8-5439f2668970",
   "metadata": {},
   "outputs": [],
   "source": [
    "import handcalcs\n",
    "import handcalcs.render\n",
    "handcalcs.set_option(\"custom_symbols\",{\"dT\": \"\\Delta T\", \"dEPE\": \"\\Delta EPE\", \"dotm\": \"\\dot{m\", \"lambda\": \"\\lambda\"})\n",
    "from sympy import *\n",
    "from sympy.solvers.solveset import linsolve"
   ]
  },
  {
   "cell_type": "markdown",
   "id": "7e5a54e5-3e1d-4746-864f-63ca0bf8a778",
   "metadata": {},
   "source": [
    "### Inciso 1"
   ]
  },
  {
   "cell_type": "code",
   "execution_count": 2,
   "id": "736fc29f-90b9-466b-a00a-e335a1e01a6e",
   "metadata": {},
   "outputs": [
    {
     "data": {
      "text/latex": [
       "\\[\n",
       "\\begin{aligned}\n",
       "w_{f} &= 0.190 \\; \n",
       " &w_{p} &= 0.400 \\; \n",
       " &\\rho_{w} &= 0.995 \\; \\;\\textrm{(kg/L)}\n",
       "\\\\[10pt]\n",
       "\\end{aligned}\n",
       "\\]"
      ],
      "text/plain": [
       "<IPython.core.display.Latex object>"
      ]
     },
     "metadata": {},
     "output_type": "display_data"
    }
   ],
   "source": [
    "%%render params\n",
    "w_f = 0.19\n",
    "w_p = 0.4\n",
    "rho_w = 0.995 #kg/L"
   ]
  },
  {
   "cell_type": "markdown",
   "id": "adaa0fb1-f2e8-4319-9596-747c9d983e30",
   "metadata": {},
   "source": [
    "Asumiendo $1~\\text{hora}$ de opración."
   ]
  },
  {
   "cell_type": "code",
   "execution_count": 3,
   "id": "142d24ab-69cb-43bb-ad35-0a5a49616eaf",
   "metadata": {},
   "outputs": [
    {
     "data": {
      "text/latex": [
       "\\[\n",
       "\\begin{aligned}\n",
       "F &= 80000 \\cdot 1.0632 \\cdot \\rho_{w}  = 80000 \\cdot 1.0632 \\cdot 0.99 &= 84630.72 \\; \\;\\textrm{(kg)}\n",
       "\\\\[10pt]\n",
       "P &= F \\cdot \\left( \\frac{ w_{f} }{ w_{p} } \\right)  = 84630.72 \\cdot \\left( \\frac{ 0.19 }{ 0.40 } \\right) &= 40199.59 \\; \\;\\textrm{(kg)}\n",
       "\\\\[10pt]\n",
       "V &= F - P  = 84630.72 - 40199.59 &= 44431.13 \\; \\;\\textrm{(kg)}\n",
       "\\end{aligned}\n",
       "\\]"
      ],
      "text/plain": [
       "<IPython.core.display.Latex object>"
      ]
     },
     "metadata": {},
     "output_type": "display_data"
    }
   ],
   "source": [
    "%%render short 2\n",
    "F = 80000*1.0632*rho_w #kg\n",
    "P = F*(w_f/w_p) #kg\n",
    "V = F-P #kg"
   ]
  },
  {
   "cell_type": "markdown",
   "id": "5d32f4aa-e2a6-4715-be84-cee659f82ead",
   "metadata": {},
   "source": [
    "Podemos asumir que la evaporación es equitativa en ambos efectos, luego para el segundo efecto:\n",
    "\n",
    "$$\n",
    "w_f\\cdot F = w_{E2}\\cdot L =  w_{E2}\\cdot (F-V_{E2})\n",
    "$$"
   ]
  },
  {
   "cell_type": "code",
   "execution_count": 4,
   "id": "fbcc8ae5-8378-4358-aebe-cb7197408b93",
   "metadata": {},
   "outputs": [
    {
     "data": {
      "text/latex": [
       "\\[\n",
       "\\begin{aligned}\n",
       "V_{E2} &= \\frac{ V }{ 2 }  = \\frac{ 44431.128 }{ 2 } &= 22215.564 \\; \\;\\textrm{(kg)}\n",
       "\\\\[10pt]\n",
       "w_{E2} &= \\frac{ w_{f} \\cdot F }{ F - V_{E2} }  = \\frac{ 0.190 \\cdot 84630.720 }{ 84630.720 - 22215.564 } &= 0.258  \n",
       "\\end{aligned}\n",
       "\\]"
      ],
      "text/plain": [
       "<IPython.core.display.Latex object>"
      ]
     },
     "metadata": {},
     "output_type": "display_data"
    }
   ],
   "source": [
    "%%render short\n",
    "V_E2 = V/2 #kg\n",
    "w_E2 = (w_f*F)/(F-V_E2)"
   ]
  },
  {
   "cell_type": "markdown",
   "id": "a04c9317-35ac-44d9-b0e1-d477d4771ec3",
   "metadata": {},
   "source": [
    "### Inciso 2 y 3"
   ]
  },
  {
   "cell_type": "markdown",
   "id": "8d713ce7-7510-4d61-bc3e-b30767a881d3",
   "metadata": {},
   "source": [
    "Del enunciado sabemos lo siguiente:"
   ]
  },
  {
   "cell_type": "code",
   "execution_count": 5,
   "id": "9f473c1a-bb3b-456c-ad84-58889a1670cd",
   "metadata": {},
   "outputs": [
    {
     "data": {
      "text/latex": [
       "\\[\n",
       "\\begin{aligned}\n",
       "\\Delta T_{1} &= 22 \\; \n",
       " &\\Delta EPE_{1} &= 7 \\; \n",
       " &\\Delta T_{2} &= 15 \\; \n",
       "\\\\[10pt]\n",
       " \\Delta EPE_{2} &= 4 \\; \n",
       " &\\Delta T_{h} &= 10 \\; \n",
       " &\\lambda_{s} &= 2183000.000 \\; \\;\\textrm{(J/kg)}\n",
       "\\\\[10pt]\n",
       " \\lambda_{1} &= 2341000.000 \\; \\;\\textrm{(J/kg)}\n",
       " &\\lambda_{2} &= 2678000.000 \\; \\;\\textrm{(J/kg)}\n",
       "\\end{aligned}\n",
       "\\]"
      ],
      "text/plain": [
       "<IPython.core.display.Latex object>"
      ]
     },
     "metadata": {},
     "output_type": "display_data"
    }
   ],
   "source": [
    "%%render params\n",
    "dT_1 = 22\n",
    "dEPE_1 = 7\n",
    "dT_2 = 15\n",
    "dEPE_2 = 4\n",
    "dT_h = 10\n",
    "lambda_s = 2183e3 #J/kg\n",
    "lambda_1 = 2341e3 #J/kg\n",
    "lambda_2 = 2678e3 #J/kg"
   ]
  },
  {
   "cell_type": "markdown",
   "id": "ad380b2e-5e79-4b0b-85ad-dc8461b601f3",
   "metadata": {},
   "source": [
    "Además definiremos una función que calcule el calor específico promedio entre dos temperaturas."
   ]
  },
  {
   "cell_type": "code",
   "execution_count": 6,
   "id": "b55b77ec-c834-4297-9d2b-ff293c0f2309",
   "metadata": {},
   "outputs": [],
   "source": [
    "def c_p(T_1,T_2):\n",
    "    c_p1 = 6.5684*T_1+3499\n",
    "    c_p2 = 6.5684*T_2+3499\n",
    "    return (c_p1+c_p2)/2"
   ]
  },
  {
   "cell_type": "markdown",
   "id": "dce599e1-fe8f-45e1-bc95-0838e9d78075",
   "metadata": {},
   "source": [
    "A partir del enunciado podemos despejar las tempraturas de los flujos."
   ]
  },
  {
   "cell_type": "code",
   "execution_count": 7,
   "id": "22e07c37-18e4-4364-b202-d5f83e263a62",
   "metadata": {},
   "outputs": [
    {
     "data": {
      "text/latex": [
       "\\[\n",
       "\\begin{aligned}\n",
       "& \\textrm{ Temperaturas en $^\\circ$C}\\\\[10pt]\n",
       "T_{s} &= 110 \\; \\;\\textrm{(Vapor que entra a E1)}\n",
       "\\\\[10pt]\n",
       "T_{1} &= T_{s} - \\Delta T_{1}  = 110 - 22 &= 88 \\; \\;\\textrm{(Líquido en E1 o producto)}\n",
       "\\\\[10pt]\n",
       "T_{s2} &= T_{1} - \\Delta EPE_{1}  = 88 - 7 &= 81 \\; \\;\\textrm{(Vapor hacia E2)}\n",
       "\\\\[10pt]\n",
       "T_{2} &= T_{s2} - \\Delta T_{2}  = 81 - 15 &= 66 \\; \\;\\textrm{(Líquido en E2)}\n",
       "\\\\[10pt]\n",
       "T_{c} &= T_{2} - \\Delta EPE_{2}  = 66 - 4 &= 62 \\; \\;\\textrm{(Vapor hacia el condensador)}\n",
       "\\\\[10pt]\n",
       "T_{b} &= T_{s2} - \\Delta T_{h}  = 81 - 10 &= 71 \\; \\;\\textrm{(Líquido que entra a E2 después de b)}\n",
       "\\\\[10pt]\n",
       "T_{a} &= T_{c} - \\Delta T_{h}  = 62 - 10 &= 52 \\; \\;\\textrm{(líquido que entra a b después de a)}\n",
       "\\\\[10pt]\n",
       "T_{F} &= 25 \\; \\;\\textrm{(Líquido que entra a a)}\n",
       "\\end{aligned}\n",
       "\\]"
      ],
      "text/plain": [
       "<IPython.core.display.Latex object>"
      ]
     },
     "metadata": {},
     "output_type": "display_data"
    }
   ],
   "source": [
    "%%render short\n",
    "## Temperaturas en $^\\circ$C\n",
    "T_s = 110 #Vapor que entra a E1\n",
    "T_1 = T_s-dT_1 #Líquido en E1 o producto\n",
    "T_s2 = T_1-dEPE_1 #Vapor hacia E2\n",
    "T_2 = T_s2-dT_2 #Líquido en E2\n",
    "T_c = T_2-dEPE_2 #Vapor hacia el condensador\n",
    "T_b = T_s2-dT_h #Líquido que entra a E2 después de b\n",
    "T_a = T_c-dT_h #líquido que entra a b después de a\n",
    "T_F = 25 #Líquido que entra a a"
   ]
  },
  {
   "cell_type": "markdown",
   "id": "827a3bbd-7edb-4e6b-8980-f586734423d6",
   "metadata": {},
   "source": [
    "Los balances de calor entonces serán:"
   ]
  },
  {
   "cell_type": "code",
   "execution_count": 8,
   "id": "10f93012-a9db-4def-9ead-ebd43dc6e1e3",
   "metadata": {},
   "outputs": [],
   "source": [
    "m_1 = P\n",
    "m_F = F\n",
    "m_s, m_2 = symbols('\\dot{m}_s, \\dot{m}_2')"
   ]
  },
  {
   "cell_type": "markdown",
   "id": "365d2236-3801-488d-a346-18d38de2af78",
   "metadata": {},
   "source": [
    "Para el primer efecto.\n",
    "\n",
    "$$\n",
    "\\dot{m}_s\\lambda_s = (\\dot{m}_2-\\dot{m}_1)\\lambda_1 + \\dot{m}_2\\left(\\frac{c_p(T_1)\\cdot c_p(T_2)}{2}\\right)\\left(T_1-T_2\\right)\n",
    "$$"
   ]
  },
  {
   "cell_type": "code",
   "execution_count": 9,
   "id": "9c0e29db-c658-42de-aeb3-39a0745ba059",
   "metadata": {},
   "outputs": [
    {
     "data": {
      "text/latex": [
       "$\\displaystyle 2183000.0 \\dot{m}_s = 2429104.8696 \\dot{m}_2 - 94107244872.0$"
      ],
      "text/plain": [
       "Eq(2183000.0*\\dot{m}_s, 2429104.8696*\\dot{m}_2 - 94107244872.0)"
      ]
     },
     "execution_count": 9,
     "metadata": {},
     "output_type": "execute_result"
    }
   ],
   "source": [
    "E1 = Eq(m_s*lambda_s, (m_2-m_1)*lambda_1+m_2*c_p(T_1,T_2)*(T_1-T_2))\n",
    "E1"
   ]
  },
  {
   "cell_type": "markdown",
   "id": "7d822080-ea3c-43c3-b4fc-28926cd85aa7",
   "metadata": {},
   "source": [
    "Para el segundo efecto más el calentador $b$.\n",
    "\n",
    "$$\n",
    "(\\dot{m}_2-\\dot{m}_1)\\lambda_1 = (\\dot{m}_F-\\dot{m}_2)\\lambda_2 + \\dot{m}_F\\left(\\frac{c_p(T_2)\\cdot c_p(T_b)}{2}\\right)\\left(T_2-T_b\\right) + \\dot{m}_F\\left(\\frac{c_p(T_b)\\cdot c_p(T_a)}{2}\\right)\\left(T_b-T_a\\right)\n",
    "$$"
   ]
  },
  {
   "cell_type": "code",
   "execution_count": 10,
   "id": "3f670c80-04f9-46fa-9214-96b0c56eb49d",
   "metadata": {},
   "outputs": [
    {
     "data": {
      "text/latex": [
       "$\\displaystyle 2341000.0 \\dot{m}_2 - 94107244872.0 = 231245952445.871 - 2678000.0 \\dot{m}_2$"
      ],
      "text/plain": [
       "Eq(2341000.0*\\dot{m}_2 - 94107244872.0, 231245952445.871 - 2678000.0*\\dot{m}_2)"
      ]
     },
     "execution_count": 10,
     "metadata": {},
     "output_type": "execute_result"
    }
   ],
   "source": [
    "E2 = Eq((m_2-m_1)*lambda_1, (m_F-m_2)*lambda_2 + m_F*c_p(T_2,T_b)*(T_2-T_b)+ m_F*c_p(T_b,T_a)*(T_b-T_a))\n",
    "E2"
   ]
  },
  {
   "cell_type": "code",
   "execution_count": 11,
   "id": "47a4fb43-9526-4d21-95d4-a632ef4abd35",
   "metadata": {},
   "outputs": [],
   "source": [
    "sol = linsolve((E1,E2), (m_s, m_2))\n",
    "for sol1, sol2 in sol:\n",
    "    dotm_s = sol1\n",
    "    dotm_2 = sol2"
   ]
  },
  {
   "cell_type": "markdown",
   "id": "30bbd2ba-2db1-4eae-80fc-fa558e46fc6c",
   "metadata": {},
   "source": [
    "Luego de resolver el sistema de ecuaciones llegamos a los siguientes flujos."
   ]
  },
  {
   "cell_type": "code",
   "execution_count": 12,
   "id": "af142fee-8007-47ef-9e5a-0a798f68c3bc",
   "metadata": {},
   "outputs": [
    {
     "data": {
      "text/latex": [
       "\\[\n",
       "\\begin{aligned}\n",
       "\\dot{m_{s}} &= 29023.0 \\; \\;\\textrm{(kg/h)}\n",
       "\\\\[10pt]\n",
       "\\dot{m_{1}} &= 40200 \\; \\;\\textrm{(kg/h)}\n",
       "\\\\[10pt]\n",
       "\\dot{m_{2}} &= 64824.0 \\; \\;\\textrm{(kg/h)}\n",
       "\\\\[10pt]\n",
       "\\dot{m_{F}} &= 84631 \\; \\;\\textrm{(kg/h)}\n",
       "\\end{aligned}\n",
       "\\]"
      ],
      "text/plain": [
       "<IPython.core.display.Latex object>"
      ]
     },
     "metadata": {},
     "output_type": "display_data"
    }
   ],
   "source": [
    "%%render 0\n",
    "dotm_s = dotm_s #kg/h\n",
    "dotm_1 = m_1 #kg/h\n",
    "dotm_2 = dotm_2 #kg/h\n",
    "dotm_F = m_F #kg/h"
   ]
  },
  {
   "cell_type": "markdown",
   "id": "73306f8a-715c-4153-8bd5-477df7d383ca",
   "metadata": {},
   "source": [
    "A partir de esta información podemos depejar la áreas en función de la ecuación característica.\n",
    "\n",
    "$$\n",
    "q = UA\\Delta T\n",
    "$$"
   ]
  },
  {
   "cell_type": "code",
   "execution_count": 13,
   "id": "12e45be3-3390-4133-b9b5-42b13568322e",
   "metadata": {},
   "outputs": [
    {
     "data": {
      "text/latex": [
       "\\[\n",
       "\\begin{aligned}\n",
       "U_{1} &= 25555.120 \\; \\;\\textrm{(W/m$^2\\cdot$K)}\n",
       "\\\\[10pt]\n",
       "U_{2} &= 39974.800 \\; \\;\\textrm{(W/m$^2\\cdot$K)}\n",
       "\\\\[10pt]\n",
       "q_{1} &= \\left( \\frac{ \\dot{m_{s}} }{ 3600 } \\right) \\cdot \\lambda_{s} \\\\&= \\left( \\frac{ 29023.269 }{ 3600 } \\right) \\cdot 2183000.000 \\\\&= 17599387.546 \\; \\;\\textrm{(W)}\\\\[10pt]\n",
       "\\\\[10pt]\n",
       "A_{1} &= \\frac{ q_{1} }{ U_{1} \\cdot \\Delta T_{1} } \\\\&= \\frac{ 17599387.546 }{ 25555.120 \\cdot 22 } \\\\&= 31.304 \\; \\;\\textrm{(m$^2$)}\\\\[10pt]\n",
       "\\\\[10pt]\n",
       "q_{b} &= \\left( \\frac{ \\dot{m_{F}} }{ 3600 } \\right) \\cdot \\operatorname{c_{p}} \\left( T_{b} ,\\  T_{a} \\right) \\cdot \\left( T_{b} - T_{a} \\right) \\\\&= \\left( \\frac{ 84630.720 }{ 3600 } \\right) \\cdot \\operatorname{c_{p}} \\left( 71 ,\\  52 \\right) \\cdot \\left( 71 - 52 \\right) \\\\&= 1743302.921 \\; \\;\\textrm{(W)}\\\\[10pt]\n",
       "\\\\[10pt]\n",
       "q_{2} &= \\left( \\frac{ \\dot{m_{2}} - \\dot{m_{1}} }{ 3600 } \\right) \\cdot \\lambda_{2} - q_{b} \\\\&= \\left( \\frac{ 64824.307 - 40199.592 }{ 3600 } \\right) \\cdot 2678000.000 - 1743302.921 \\\\&= 16574749.031 \\; \\;\\textrm{(W)}\\\\[10pt]\n",
       "\\\\[10pt]\n",
       "A_{2} &= \\frac{ q_{2} }{ U_{2} \\cdot \\Delta T_{2} } \\\\&= \\frac{ 16574749.031 }{ 39974.800 \\cdot 15 } \\\\&= 27.642 \\; \\;\\textrm{(m$^2$)}\\\\[10pt]\n",
       "\\end{aligned}\n",
       "\\]"
      ],
      "text/plain": [
       "<IPython.core.display.Latex object>"
      ]
     },
     "metadata": {},
     "output_type": "display_data"
    }
   ],
   "source": [
    "%%render long\n",
    "U_1 = 25555.12 #W/m$^2\\cdot$K\n",
    "U_2 = 39974.8 #W/m$^2\\cdot$K\n",
    "q_1 = (dotm_s/3600)*lambda_s #W\n",
    "A_1 = q_1/(U_1*dT_1) #m$^2$\n",
    "q_b = (dotm_F/3600)*c_p(T_b,T_a)*(T_b-T_a) #W\n",
    "q_2 = ((dotm_2-dotm_1)/3600)*lambda_2 - q_b #W\n",
    "A_2 = q_2/(U_2*dT_2) #m$^2$"
   ]
  },
  {
   "cell_type": "markdown",
   "id": "dedbf2db-43b0-42d4-940a-f4ab1f829974",
   "metadata": {},
   "source": [
    "Se debe cumplir que $A_1 = A_2$, por lo tanto los $\\Delta T_1$ y $\\Delta T_2$ no son los correspondientes a los efectos. Se debe hacer una corrección a las temperaturas."
   ]
  },
  {
   "cell_type": "code",
   "execution_count": 14,
   "id": "d5906a75-6f41-4acc-8c5c-a5e08756e438",
   "metadata": {},
   "outputs": [
    {
     "data": {
      "text/latex": [
       "\\[\n",
       "\\begin{aligned}\n",
       "A_{prom} &= \\frac{ A_{1} + A_{2} }{ 2 }  = \\frac{ 31.304 + 27.642 }{ 2 } &= 29.473  \n",
       "\\\\[10pt]\n",
       "\\Delta T_{c1} &= \\Delta T_{1} \\cdot \\left( \\frac{ A_{1} }{ A_{prom} } \\right)  = 22 \\cdot \\left( \\frac{ 31.304 }{ 29.473 } \\right) &= 23.367  \n",
       "\\\\[10pt]\n",
       "\\Delta T_{c2} &= \\Delta T_{2} \\cdot \\left( \\frac{ A_{2} }{ A_{prom} } \\right)  = 15 \\cdot \\left( \\frac{ 27.642 }{ 29.473 } \\right) &= 14.068  \n",
       "\\end{aligned}\n",
       "\\]"
      ],
      "text/plain": [
       "<IPython.core.display.Latex object>"
      ]
     },
     "metadata": {},
     "output_type": "display_data"
    }
   ],
   "source": [
    "%%render\n",
    "A_prom = (A_1+A_2)/2\n",
    "dT_c1 = dT_1 * (A_1/A_prom)\n",
    "dT_c2 = dT_2 * (A_2/A_prom)"
   ]
  },
  {
   "cell_type": "markdown",
   "id": "750bb5ea-0879-41be-9d92-8a7973336eb3",
   "metadata": {},
   "source": [
    "Con estas nuevas diferencias de temperaturas iteramos."
   ]
  },
  {
   "cell_type": "code",
   "execution_count": 15,
   "id": "358ad074-2c5d-4118-985e-5898c97c8eda",
   "metadata": {},
   "outputs": [
    {
     "data": {
      "text/latex": [
       "\\[\n",
       "\\begin{aligned}\n",
       "& \\textrm{ Temperaturas en $^\\circ$C}\\\\[10pt]\n",
       "T_{s} &= 110 \\; \\;\\textrm{(Vapor que entra a E1)}\n",
       "\\\\[10pt]\n",
       "T_{1} &= T_{s} - \\Delta T_{c1}  = 110 - 23.367 &= 86.633 \\; \\;\\textrm{(Líquido en E1 o producto)}\n",
       "\\\\[10pt]\n",
       "T_{s2} &= T_{1} - \\Delta EPE_{1}  = 86.633 - 7 &= 79.633 \\; \\;\\textrm{(Vapor hacia E2)}\n",
       "\\\\[10pt]\n",
       "T_{2} &= T_{s2} - \\Delta T_{c2}  = 79.633 - 14.068 &= 65.565 \\; \\;\\textrm{(Líquido en E2)}\n",
       "\\\\[10pt]\n",
       "T_{c} &= T_{2} - \\Delta EPE_{2}  = 65.565 - 4 &= 61.565 \\; \\;\\textrm{(Vapor hacia el condensador)}\n",
       "\\\\[10pt]\n",
       "T_{b} &= T_{s2} - \\Delta T_{h}  = 79.633 - 10 &= 69.633 \\; \\;\\textrm{(Líquido que entra a E2 después de b)}\n",
       "\\\\[10pt]\n",
       "T_{a} &= T_{c} - \\Delta T_{h}  = 61.565 - 10 &= 51.565 \\; \\;\\textrm{(líquido que entra a b después de a)}\n",
       "\\\\[10pt]\n",
       "T_{F} &= 25 \\; \\;\\textrm{(Líquido que entra a a)}\n",
       "\\end{aligned}\n",
       "\\]"
      ],
      "text/plain": [
       "<IPython.core.display.Latex object>"
      ]
     },
     "metadata": {},
     "output_type": "display_data"
    }
   ],
   "source": [
    "%%render short\n",
    "## Temperaturas en $^\\circ$C\n",
    "T_s = 110 #Vapor que entra a E1\n",
    "T_1 = T_s-dT_c1 #Líquido en E1 o producto\n",
    "T_s2 = T_1-dEPE_1 #Vapor hacia E2\n",
    "T_2 = T_s2-dT_c2 #Líquido en E2\n",
    "T_c = T_2-dEPE_2 #Vapor hacia el condensador\n",
    "T_b = T_s2-dT_h #Líquido que entra a E2 después de b\n",
    "T_a = T_c-dT_h #líquido que entra a b después de a\n",
    "T_F = 25 #Líquido que entra a a"
   ]
  },
  {
   "cell_type": "markdown",
   "id": "b4361610-b827-418f-823b-9e01e894e654",
   "metadata": {},
   "source": [
    "El sistema de ecuaciones es el mismo, pero ahora cambian las temperaturas."
   ]
  },
  {
   "cell_type": "code",
   "execution_count": 16,
   "id": "bb7626db-c763-4809-afad-75a3478b8f83",
   "metadata": {},
   "outputs": [
    {
     "data": {
      "text/latex": [
       "$\\displaystyle 2183000.0 \\dot{m}_s = 2425248.49178518 \\dot{m}_2 - 94107244872.0$"
      ],
      "text/plain": [
       "Eq(2183000.0*\\dot{m}_s, 2425248.49178518*\\dot{m}_2 - 94107244872.0)"
      ]
     },
     "execution_count": 16,
     "metadata": {},
     "output_type": "execute_result"
    }
   ],
   "source": [
    "m_1 = P\n",
    "m_F = F\n",
    "m_s, m_2 = symbols('\\dot{m}_s, \\dot{m}_2')\n",
    "E1 = Eq(m_s*lambda_s, (m_2-m_1)*lambda_1+m_2*c_p(T_1,T_2)*(T_1-T_2))\n",
    "E1"
   ]
  },
  {
   "cell_type": "code",
   "execution_count": 17,
   "id": "b47f66fd-711d-416b-89ff-26b56e29affe",
   "metadata": {},
   "outputs": [
    {
     "data": {
      "text/latex": [
       "$\\displaystyle 2341000.0 \\dot{m}_2 - 94107244872.0 = 231242568253.435 - 2678000.0 \\dot{m}_2$"
      ],
      "text/plain": [
       "Eq(2341000.0*\\dot{m}_2 - 94107244872.0, 231242568253.435 - 2678000.0*\\dot{m}_2)"
      ]
     },
     "execution_count": 17,
     "metadata": {},
     "output_type": "execute_result"
    }
   ],
   "source": [
    "E2 = Eq((m_2-m_1)*lambda_1, (m_F-m_2)*lambda_2 + m_F*c_p(T_2,T_b)*(T_2-T_b)+ m_F*c_p(T_b,T_a)*(T_b-T_a))\n",
    "E2"
   ]
  },
  {
   "cell_type": "code",
   "execution_count": 18,
   "id": "404de0ec-7de7-455e-b5f9-ce9b964e0322",
   "metadata": {},
   "outputs": [],
   "source": [
    "sol = linsolve((E1,E2), (m_s, m_2))\n",
    "for sol1, sol2 in sol:\n",
    "    dotm_s = sol1\n",
    "    dotm_2 = sol2"
   ]
  },
  {
   "cell_type": "markdown",
   "id": "96a857fd-5570-452e-9c66-33f215571f96",
   "metadata": {},
   "source": [
    "Los nuevos flujos serán:"
   ]
  },
  {
   "cell_type": "code",
   "execution_count": 19,
   "id": "c75ea88b-a4cf-4431-b1bc-2eb4053d3986",
   "metadata": {},
   "outputs": [
    {
     "data": {
      "text/latex": [
       "\\[\n",
       "\\begin{aligned}\n",
       "\\dot{m_{s}} &= 28908.0 \\; \\;\\textrm{(kg/h)}\n",
       "\\\\[10pt]\n",
       "\\dot{m_{1}} &= 40199.59 \\; \\;\\textrm{(kg/h)}\n",
       "\\\\[10pt]\n",
       "\\dot{m_{2}} &= 64823.63 \\; \\;\\textrm{(kg/h)}\n",
       "\\\\[10pt]\n",
       "\\dot{m_{F}} &= 84630.72 \\; \\;\\textrm{(kg/h)}\n",
       "\\end{aligned}\n",
       "\\]"
      ],
      "text/plain": [
       "<IPython.core.display.Latex object>"
      ]
     },
     "metadata": {},
     "output_type": "display_data"
    }
   ],
   "source": [
    "%%render 2\n",
    "dotm_s = dotm_s #kg/h\n",
    "dotm_1 = m_1 #kg/h\n",
    "dotm_2 = dotm_2 #kg/h\n",
    "dotm_F = m_F #kg/h"
   ]
  },
  {
   "cell_type": "markdown",
   "id": "75bb5ea3-f28b-4694-bd26-b9d2441deda6",
   "metadata": {},
   "source": [
    "Por último comprobamos que las áreas sean las mismas."
   ]
  },
  {
   "cell_type": "code",
   "execution_count": 20,
   "id": "317a4496-2a68-4a9c-ba77-a7afc4021a66",
   "metadata": {},
   "outputs": [
    {
     "data": {
      "text/latex": [
       "\\[\n",
       "\\begin{aligned}\n",
       "U_{1} &= 25555.1 \\; \\;\\textrm{(W/m$^2\\cdot$K)}\n",
       "\\\\[10pt]\n",
       "U_{2} &= 39974.8 \\; \\;\\textrm{(W/m$^2\\cdot$K)}\n",
       "\\\\[10pt]\n",
       "q_{1} &= \\left( \\frac{ \\dot{m_{s}} }{ 3600 } \\right) \\cdot \\lambda_{s} \\\\&= \\left( \\frac{ 28908.0 }{ 3600 } \\right) \\cdot 2183000.0 \\\\&= 17529492.5 \\; \\;\\textrm{(W)}\\\\[10pt]\n",
       "\\\\[10pt]\n",
       "A_{1} &= \\frac{ q_{1} }{ U_{1} \\cdot \\Delta T_{c1} } \\\\&= \\frac{ 17529492.5 }{ 25555.1 \\cdot 23.4 } \\\\&= 29.4 \\; \\;\\textrm{(m$^2$)}\\\\[10pt]\n",
       "\\\\[10pt]\n",
       "q_{b} &= \\left( \\frac{ \\dot{m_{F}} }{ 3600 } \\right) \\cdot \\operatorname{c_{p}} \\left( T_{b} ,\\  T_{a} \\right) \\cdot \\left( T_{b} - T_{a} \\right) \\\\&= \\left( \\frac{ 84630.7 }{ 3600 } \\right) \\cdot \\operatorname{c_{p}} \\left( 69.6 ,\\  51.6 \\right) \\cdot \\left( 69.6 - 51.6 \\right) \\\\&= 1655292.6 \\; \\;\\textrm{(W)}\\\\[10pt]\n",
       "\\\\[10pt]\n",
       "q_{2} &= \\left( \\frac{ \\dot{m_{2}} - \\dot{m_{1}} }{ 3600 } \\right) \\cdot \\lambda_{2} - q_{b} \\\\&= \\left( \\frac{ 64823.6 - 40199.6 }{ 3600 } \\right) \\cdot 2678000.0 - 1655292.6 \\\\&= 16662257.7 \\; \\;\\textrm{(W)}\\\\[10pt]\n",
       "\\\\[10pt]\n",
       "A_{2} &= \\frac{ q_{2} }{ U_{2} \\cdot \\Delta T_{c2} } \\\\&= \\frac{ 16662257.7 }{ 39974.8 \\cdot 14.1 } \\\\&= 29.6 \\; \\;\\textrm{(m$^2$)}\\\\[10pt]\n",
       "\\end{aligned}\n",
       "\\]"
      ],
      "text/plain": [
       "<IPython.core.display.Latex object>"
      ]
     },
     "metadata": {},
     "output_type": "display_data"
    }
   ],
   "source": [
    "%%render long 1\n",
    "U_1 = 25555.12 #W/m$^2\\cdot$K\n",
    "U_2 = 39974.8 #W/m$^2\\cdot$K\n",
    "q_1 = (dotm_s/3600)*lambda_s #W\n",
    "A_1 = q_1/(U_1*dT_c1) #m$^2$\n",
    "q_b = (dotm_F/3600)*c_p(T_b,T_a)*(T_b-T_a) #W\n",
    "q_2 = ((dotm_2-dotm_1)/3600)*lambda_2 - q_b #W\n",
    "A_2 = q_2/(U_2*dT_c2) #m$^2$"
   ]
  },
  {
   "cell_type": "markdown",
   "id": "aa11e07b-3182-447f-a378-25c4a1d08f23",
   "metadata": {},
   "source": [
    "Las áreas son lo suficientemente parecidas. Por lo que podemos asumir que el área de los efectos será un promedio entre ambas."
   ]
  },
  {
   "cell_type": "code",
   "execution_count": 21,
   "id": "3b4ab57b-095d-4f2e-bd57-99bff7f38f5e",
   "metadata": {},
   "outputs": [
    {
     "data": {
      "text/latex": [
       "\\[\n",
       "\\begin{aligned}\n",
       "A_{prom} &= \\frac{ A_{1} + A_{2} }{ 2 }  = \\frac{ 29.4 + 29.6 }{ 2 } &= 29.5  \n",
       "\\end{aligned}\n",
       "\\]"
      ],
      "text/plain": [
       "<IPython.core.display.Latex object>"
      ]
     },
     "metadata": {},
     "output_type": "display_data"
    }
   ],
   "source": [
    "%%render 1\n",
    "A_prom = (A_1+A_2)/2"
   ]
  },
  {
   "cell_type": "markdown",
   "id": "60d8a27e-bddd-42ce-bb6a-a8c2602846d7",
   "metadata": {},
   "source": [
    "El flujo de vapor en la corriente $\\text{S}$ será $28908~\\text{kg/h}$. El área de los efectos será $29.5~\\text{m}^2$."
   ]
  },
  {
   "cell_type": "markdown",
   "id": "6a73ecae-8581-49c3-953b-ca131baa9da6",
   "metadata": {},
   "source": [
    "### Inciso 4"
   ]
  },
  {
   "cell_type": "markdown",
   "id": "9eda2c74-4e2e-448d-a9e0-d35bf39cbcc2",
   "metadata": {},
   "source": [
    "La economía del sistema completo viene dado por la división entre la cantidad evaporada $\\text{V}$ calculada en el inciso 1 y el flujo de vapor $\\text{S}$."
   ]
  },
  {
   "cell_type": "code",
   "execution_count": 22,
   "id": "1b223f67-392d-4ee1-8e94-82e9930f36b0",
   "metadata": {},
   "outputs": [
    {
     "data": {
      "text/latex": [
       "\\[\n",
       "\\begin{aligned}\n",
       "E &= \\frac{ V }{ \\dot{m_{s}} }  = \\frac{ 44431.13 }{ 28908.0 } &= 1.54 \\; \\;\\textrm{(kg/kg)}\n",
       "\\end{aligned}\n",
       "\\]"
      ],
      "text/plain": [
       "<IPython.core.display.Latex object>"
      ]
     },
     "metadata": {},
     "output_type": "display_data"
    }
   ],
   "source": [
    "%%render 2\n",
    "E = V/dotm_s #kg/kg"
   ]
  },
  {
   "cell_type": "markdown",
   "id": "81879bd5-62ce-42a3-b3f4-50595463efdd",
   "metadata": {},
   "source": [
    "### Inciso 5"
   ]
  },
  {
   "cell_type": "markdown",
   "id": "397373eb-8d36-4f7a-9e92-61b9cc79058c",
   "metadata": {},
   "source": [
    "El calor removido en el condensador final será.\n",
    "\n",
    "$$\n",
    "q_C = \\left(\\dot{m}_F-\\dot{m}_2\\right)\\lambda_2 - \\dot{m}_F\\left(\\frac{c_p(T_a)\\cdot c_p(T_F)}{2}\\right)\\left(T_a-T_F\\right)\n",
    "$$"
   ]
  },
  {
   "cell_type": "code",
   "execution_count": 23,
   "id": "3de93cbf-f0c3-457c-a23f-b21c6f953142",
   "metadata": {},
   "outputs": [
    {
     "data": {
      "text/latex": [
       "\\[\n",
       "\\begin{aligned}\n",
       "q_{C} &= \\left( \\frac{ \\dot{m_{F}} - \\dot{m_{2}} }{ 3600 } \\right) \\cdot \\lambda_{2} - \\left( \\frac{ \\dot{m_{F}} }{ 3600 } \\right) \\cdot \\operatorname{c_{p}} \\left( T_{a} ,\\  T_{F} \\right) \\cdot \\left( T_{a} - T_{F} \\right) \\\\&= \\left( \\frac{ 84630.720 - 64823.633 }{ 3600 } \\right) \\cdot 2678000.000 - \\left( \\frac{ 84630.720 }{ 3600 } \\right) \\cdot \\operatorname{c_{p}} \\left( 51.565 ,\\  25 \\right) \\cdot \\left( 51.565 - 25 \\right) \\\\&= 12392083.821 \\; \\;\\textrm{(W)}\\\\[10pt]\n",
       "\\end{aligned}\n",
       "\\]"
      ],
      "text/plain": [
       "<IPython.core.display.Latex object>"
      ]
     },
     "metadata": {},
     "output_type": "display_data"
    }
   ],
   "source": [
    "%%render long\n",
    "q_C = ((dotm_F - dotm_2)/3600)*lambda_2 - (dotm_F/3600)*c_p(T_a,T_F)*(T_a-T_F) #W"
   ]
  },
  {
   "cell_type": "code",
   "execution_count": 24,
   "id": "e70f1584-ee26-4941-9b50-c6e15711670f",
   "metadata": {},
   "outputs": [
    {
     "data": {
      "text/latex": [
       "\\[\n",
       "\\begin{aligned}\n",
       "R &= 12.4 \\; \\;\\textrm{(MW)}\n",
       "\\end{aligned}\n",
       "\\]"
      ],
      "text/plain": [
       "<IPython.core.display.Latex object>"
      ]
     },
     "metadata": {},
     "output_type": "display_data"
    }
   ],
   "source": [
    "%%render params 1\n",
    "R = q_C/10**6 #MW"
   ]
  }
 ],
 "metadata": {
  "kernelspec": {
   "display_name": "Python 3 (ipykernel)",
   "language": "python",
   "name": "python3"
  },
  "language_info": {
   "codemirror_mode": {
    "name": "ipython",
    "version": 3
   },
   "file_extension": ".py",
   "mimetype": "text/x-python",
   "name": "python",
   "nbconvert_exporter": "python",
   "pygments_lexer": "ipython3",
   "version": "3.11.7"
  }
 },
 "nbformat": 4,
 "nbformat_minor": 5
}
