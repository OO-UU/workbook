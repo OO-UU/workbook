{
 "cells": [
  {
   "cell_type": "markdown",
   "id": "912b21cb-6af2-4992-8f09-77d9a37d64f7",
   "metadata": {},
   "source": [
    "# Ejercicio 3: Bombas y eficiencia"
   ]
  },
  {
   "cell_type": "markdown",
   "id": "0ff8bc45-8e94-4dce-bfe2-99bb43baba73",
   "metadata": {},
   "source": [
    "## Enunciado"
   ]
  },
  {
   "cell_type": "markdown",
   "id": "990684a6-f7ca-46df-88aa-e17092cd9b33",
   "metadata": {},
   "source": [
    "Entra benceno a $37.8~\\text{°C}$ el cual debe ser bombeado a caudal $11~\\text{m}^3\\text{/h}$. El modelo de la bomba es tipo $3656/3756~\\text{Grupo-S}$, con un rodete $\\text{B}$ de diámetro $7.75~\\text{in}$. El benceno se transporta desde un estanque hasta otro tal y como muestra la figura. Ambos estanques se encuentran a $3~\\text{atm}$. La altura entre los puntos $\\text{a'}$ y $\\text{a}$ es $10~\\text{m}$ y la altura entre los puntos $\\text{b}$ y $\\text{b'}$ es de $2~\\text{m}$. Las tuberías tienen un diámetro de $12~\\text{cm}$. La densidad del benceno a la temperatura de operación es de $865~\\text{kg/m}^3$ y su presión de vapor es $26.2~\\text{kPa}$. Si la altura asociada a las perdidas por fricción es $h_f = 3~\\text{m}$ y los codos son codos cuadrados.\\"
   ]
  },
  {
   "cell_type": "markdown",
   "id": "1b60f5b9-97b0-4eaa-9e8a-9e902355e4ea",
   "metadata": {},
   "source": [
    "```{figure} ./images/img1_2_3.png\n",
    "---\n",
    "align: center\n",
    "name: fig123\n",
    "scale: 60%\n",
    "---\n",
    "\n",
    "Sistema de tuberías, bombas y estanques.\n",
    "```"
   ]
  },
  {
   "cell_type": "markdown",
   "id": "2180671e-5ee5-4cc7-8b6f-4e80c1308ba7",
   "metadata": {},
   "source": [
    "Responda lo siguiente:\n",
    "\n",
    "1. Demuestre la ecuación que describe el trabajo de la bomba ($\\eta W_p$) a partir de las ecuaciones de bernoulli para los puntos $\\text{a'-a}$, $\\text{a-b}$ y $\\text{b-b'}$.\n",
    "2. Encuentre la altura de la bomba ($h_B$) en $\\text{m}$.\n",
    "3. Calcule la potencia requerida por la bomba ($P_m$) en $\\text{W}$.\n",
    "4. Determine si la bomba cavita considerando que la altura asociada a las perdidas por fricción entre $\\text{a'}$ y $\\text{a}$ contribuyen $2/3$ de las pérdidas totales por fricción."
   ]
  },
  {
   "cell_type": "markdown",
   "id": "0c917c69",
   "metadata": {},
   "source": [
    "{ref}`Ver solución <part1:cap2:ex3:sol>`\n",
    "\n",
    "<br/><br/>\n",
    "<br/><br/>\n",
    "<br/><br/>\n",
    "<br/><br/>\n",
    "<br/><br/>\n",
    "<br/><br/>\n",
    "<br/><br/>\n",
    "<br/><br/>"
   ]
  },
  {
   "cell_type": "markdown",
   "id": "164f6c14-69d9-482a-8d9b-c1efdf1d6198",
   "metadata": {},
   "source": [
    "(part1:cap2:ex3:sol)=\n",
    "## Solución"
   ]
  },
  {
   "cell_type": "code",
   "execution_count": 1,
   "id": "c9a34481-477e-462f-8cea-f100ac6fc5a8",
   "metadata": {},
   "outputs": [],
   "source": [
    "import handcalcs.render\n",
    "handcalcs.set_option(\"custom_symbols\",{\"ap\": \"a'\", \"bp\": \"b'\", \"eta\": \"\\eta \", \"dotm\": \"\\dot m\"})\n",
    "from numpy import pi"
   ]
  },
  {
   "cell_type": "markdown",
   "id": "b22bbf2c-1db5-460b-a1c7-0d7ca24bde29",
   "metadata": {},
   "source": [
    "### Inciso 1"
   ]
  },
  {
   "cell_type": "markdown",
   "id": "ba6f946b-6074-4d3a-91a8-b979e1387b84",
   "metadata": {},
   "source": [
    "Para el primer tramo ($\\text{a'-a}$), la ecuación de bernoulli será:"
   ]
  },
  {
   "cell_type": "markdown",
   "id": "cd8fe558-7c06-416b-8999-2a44c61f18e2",
   "metadata": {},
   "source": [
    "$$\n",
    "\\left(\\frac{P_{a'}}{\\rho} + g\\cdot Z_{a'} + \\frac{V_{a'}^2}{2}\\right) = \\left(\\frac{P_a}{\\rho} + g\\cdot Z_a + \\frac{V_a^2}{2}\\right) + \\left(\\phi_s+\\phi_f\\right)_{a'-a}\n",
    "$$"
   ]
  },
  {
   "cell_type": "markdown",
   "id": "e3dd6d5f-96d9-4033-853a-ae194fe1e0e8",
   "metadata": {},
   "source": [
    "Para el tramo $\\text{a-b}$:"
   ]
  },
  {
   "cell_type": "markdown",
   "id": "45f0318a-ffa7-4330-ac15-e9d22078199f",
   "metadata": {},
   "source": [
    "$$\n",
    "\\left(\\frac{P_{a}}{\\rho} + g\\cdot Z_{a} + \\frac{V_{a}^2}{2}\\right) = \\left(\\frac{P_b}{\\rho} + g\\cdot Z_b + \\frac{V_b^2}{2}\\right) - \\eta W_p\n",
    "$$"
   ]
  },
  {
   "cell_type": "markdown",
   "id": "83924b41-8533-4674-b9cd-8452e108d0bc",
   "metadata": {},
   "source": [
    "Por último, para el tramo $\\text{b-b'}$:"
   ]
  },
  {
   "cell_type": "markdown",
   "id": "3f6c498a-305b-4d34-8923-14834c3a9e5f",
   "metadata": {},
   "source": [
    "$$\n",
    "\\left(\\frac{P_{b}}{\\rho} + g\\cdot Z_{b} + \\frac{V_{b}^2}{2}\\right) = \\left(\\frac{P_{b'}}{\\rho} + g\\cdot Z_{b'} + \\frac{V_{b'}^2}{2}\\right) + \\left(\\phi_s+\\phi_f\\right)_{b-b'}\n",
    "$$"
   ]
  },
  {
   "cell_type": "markdown",
   "id": "50545cc8-5889-4524-887c-1a6633e1e5d2",
   "metadata": {},
   "source": [
    "Despejando en la ecuación de bernoulli entre los puntos $\\text{a-b}$."
   ]
  },
  {
   "cell_type": "markdown",
   "id": "00061c4a-226b-40c3-bd3d-e88f5b909598",
   "metadata": {},
   "source": [
    "$$\n",
    "\\left(\\frac{P_{a'}}{\\rho} + g\\cdot Z_{a'} + \\frac{V_{a'}^2}{2}\\right) - \\left(\\phi_s+\\phi_f\\right)_{a'-a} = \\left(\\frac{P_{b'}}{\\rho} + g\\cdot Z_{b'} + \\frac{V_{b'}^2}{2}\\right) + \\left(\\phi_s+\\phi_f\\right)_{b-b'} - \\eta W_p\n",
    "$$"
   ]
  },
  {
   "cell_type": "markdown",
   "id": "d284427a-b36f-4bfa-8f8b-d802b897e378",
   "metadata": {},
   "source": [
    "Luego, podemos entender la suma de las pérdidas de carga por fricción y singularidades entre $\\text{a'-a}$ y $\\text{b-b'}$ como las pérdidas de cargas en todo el sistema.\n",
    "\n",
    "$$\n",
    "\\left(\\phi_s+\\phi_f\\right)_{a'-b'} = \\left(\\phi_s+\\phi_f\\right)_{a'-a} + \\left(\\phi_s+\\phi_f\\right)_{b-b'}\n",
    "$$"
   ]
  },
  {
   "cell_type": "markdown",
   "id": "19fc3573-fa0b-4a73-9ee6-02be81bfa81a",
   "metadata": {},
   "source": [
    "Finalmente llegamos a la última ecuación:"
   ]
  },
  {
   "cell_type": "markdown",
   "id": "6ea20c1a-8157-4629-acf9-28f721af28d4",
   "metadata": {},
   "source": [
    "$$\n",
    "\\left(\\frac{P_{a'}}{\\rho} + g\\cdot Z_{a'} + \\frac{V_{a'}^2}{2}\\right) = \\left(\\frac{P_{b'}}{\\rho} + g\\cdot Z_{b'} + \\frac{V_{b'}^2}{2}\\right) + \\left(\\phi_s+\\phi_f\\right)_{a'-b'} - \\eta W_p\n",
    "$$"
   ]
  },
  {
   "cell_type": "markdown",
   "id": "0c115165-9e89-42c2-8564-2a68df56e1bc",
   "metadata": {},
   "source": [
    "Para que la ecuación sea consistente con la figura, consideremos que $Z_{a'}=0$ y que ambos estanques se encuentran a la misma presión ($3~\\text{atm}$), la cual será la referencia $P_{a'}=P_{b'}=0$. Además, el punto $\\text{a'}$ se considera sin movimiento ($V_{a'}=0$) por el supuesto de estanque muy grande. Reordenando:"
   ]
  },
  {
   "cell_type": "markdown",
   "id": "d5507e57-dc74-4a40-91b8-b3140877570d",
   "metadata": {},
   "source": [
    "$$\n",
    "\\eta W_p = \\left(g\\cdot Z_{b'} + \\frac{V_{b'}^2}{2}\\right) + \\left(\\phi_s+\\phi_f\\right)_{a'-b'}\n",
    "$$"
   ]
  },
  {
   "cell_type": "markdown",
   "id": "c0f70f99-9dd4-4d58-8a4e-d7a9f694fb76",
   "metadata": {},
   "source": [
    "Luego, reemplazando las pérdidas de carga y asumiendo que la velocidad el todo el sistema (excluyendo el estanque) es constante:"
   ]
  },
  {
   "cell_type": "markdown",
   "id": "611218f1-bcc6-4921-b099-b7b22ababb09",
   "metadata": {},
   "source": [
    "$$\n",
    "\\eta W_p = g\\cdot Z_{b'} + \\left(1 + 4f\\left(\\frac{L}{D_e}\\right) + K \\right)\\frac{V^2}{2}\n",
    "$$"
   ]
  },
  {
   "cell_type": "markdown",
   "id": "60e0e22a-ae53-4c2c-9e58-64fcd42120a4",
   "metadata": {},
   "source": [
    "### Inciso 2"
   ]
  },
  {
   "cell_type": "markdown",
   "id": "ebdee787-cea3-458e-b244-a097f65f0c3e",
   "metadata": {},
   "source": [
    "Ya que en el enunciado nos entregan las pérdidas de carga por fricción en $\\text{m}$, escribmos la función para $\\eta W_p$ de la siguiente manera:"
   ]
  },
  {
   "cell_type": "markdown",
   "id": "f76830b9-0f60-4893-b582-3f388239d878",
   "metadata": {},
   "source": [
    "$$\n",
    "\\eta W_p = g\\cdot Z_{b'} + \\left(1 + K \\right)\\frac{8Q^2}{\\pi^2D^4} + g\\cdot h_f\n",
    "$$"
   ]
  },
  {
   "cell_type": "code",
   "execution_count": 2,
   "id": "4bd212a3-401e-4be7-a5fc-a564104b61c0",
   "metadata": {},
   "outputs": [
    {
     "data": {
      "text/latex": [
       "\\[\n",
       "\\begin{aligned}\n",
       "g &= 9.810 \\; \\;\\textrm{(m/s$^2$)}\n",
       " &Z_{b'} &= 8 \\; \\;\\textrm{(m)}\n",
       " &D &= 0.120 \\; \\;\\textrm{(m)}\n",
       "\\\\[10pt]\n",
       " K_{codo} &= 1.200 \\; \n",
       " &K_{salida} &= 0.500 \\; \n",
       " &K_{entrada} &= 1.000 \\; \n",
       "\\\\[10pt]\n",
       " Q &= 0.003 \\; \\;\\textrm{(m$^3$/s)}\n",
       " &h_{f} &= 3 \\; \\;\\textrm{(m)}\n",
       " &\\rho &= 865 \\; \\;\\textrm{(kg/m$^3$)}\n",
       "\\\\[10pt]\n",
       "\\end{aligned}\n",
       "\\]"
      ],
      "text/plain": [
       "<IPython.core.display.Latex object>"
      ]
     },
     "metadata": {},
     "output_type": "display_data"
    }
   ],
   "source": [
    "%%render params\n",
    "g = 9.81 #m/s$^2$\n",
    "Z_bp = 10-2 #m\n",
    "D = 12/100 #m\n",
    "K_codo = 1.2\n",
    "K_salida = 0.5\n",
    "K_entrada = 1.0\n",
    "Q = 11/3600 #m$^3$/s\n",
    "h_f = 3 #m\n",
    "rho = 865  #kg/m$^3$"
   ]
  },
  {
   "cell_type": "code",
   "execution_count": 3,
   "id": "2e389ba7-0205-430f-8a2a-7f9dfd9e1f54",
   "metadata": {},
   "outputs": [
    {
     "data": {
      "text/latex": [
       "\\[\n",
       "\\begin{aligned}\n",
       "\\eta W_{p} &= g \\cdot Z_{b'} + \\left( 1 + \\left( K_{salida} + 4 \\cdot K_{codo} + K_{entrada} \\right) \\right) \\cdot \\frac{ 8 \\cdot \\left( Q \\right) ^{ 2 } }{ \\left( \\pi \\right) ^{ 2 } \\cdot \\left( D \\right) ^{ 4 } } + g \\cdot h_{f} \\\\&= 9.810 \\cdot 8 + \\left( 1 + \\left( 0.500 + 4 \\cdot 1.200 + 1.000 \\right) \\right) \\cdot \\frac{ 8 \\cdot \\left( 0.003 \\right) ^{ 2 } }{ \\left( 3.142 \\right) ^{ 2 } \\cdot \\left( 0.120 \\right) ^{ 4 } } + 9.810 \\cdot 3 \\\\&= 108.176 \\; \\;\\textrm{(J/kg)}\\\\[10pt]\n",
       "\\end{aligned}\n",
       "\\]"
      ],
      "text/plain": [
       "<IPython.core.display.Latex object>"
      ]
     },
     "metadata": {},
     "output_type": "display_data"
    }
   ],
   "source": [
    "%%render long\n",
    "etaW_p = g*Z_bp + (1 + (K_salida + 4*K_codo + K_entrada))*(8*Q**2)/(pi**2*D**4) + g*h_f #J/kg"
   ]
  },
  {
   "cell_type": "code",
   "execution_count": 4,
   "id": "7585f708-4f07-430b-9820-9526e927daef",
   "metadata": {},
   "outputs": [
    {
     "data": {
      "text/latex": [
       "\\[\n",
       "\\begin{aligned}\n",
       "h_{B} &= \\frac{ \\eta W_{p} }{ g } \\\\&= \\frac{ 108.176 }{ 9.810 } \\\\&= 11.027 \\; \\;\\textrm{(m)}\\\\[10pt]\n",
       "\\end{aligned}\n",
       "\\]"
      ],
      "text/plain": [
       "<IPython.core.display.Latex object>"
      ]
     },
     "metadata": {},
     "output_type": "display_data"
    }
   ],
   "source": [
    "%%render long\n",
    "h_B = etaW_p/g #m"
   ]
  },
  {
   "cell_type": "markdown",
   "id": "2a62d36c-84ef-4f50-937a-f1a8378aa25e",
   "metadata": {},
   "source": [
    "### Inciso 3"
   ]
  },
  {
   "cell_type": "markdown",
   "id": "ba69ff3f-ae77-4345-afc5-5f520b93dbd2",
   "metadata": {},
   "source": [
    "Del gráfico para la bomba tipo $3656/3756~\\text{Grupo-S}$ con rodete $\\text{B}$ de diámetro $7.75~\\text{in}$, vemos que para un caudal de $11~\\text{m}^3\\text{/h}$ la eficiencia es aproximadamente de un $\\eta = 65~\\%$."
   ]
  },
  {
   "cell_type": "markdown",
   "id": "ec42af8b-5ea2-4920-8d9c-b96450138293",
   "metadata": {},
   "source": [
    "La fórmula para la potencia requerida puede ser escrita como:\n",
    "\n",
    "$$\n",
    "P_B = \\dot{m}W_p\n",
    "$$"
   ]
  },
  {
   "cell_type": "code",
   "execution_count": 5,
   "id": "12ff90f3-f25b-4573-8e4b-dca1fea9e65c",
   "metadata": {},
   "outputs": [
    {
     "data": {
      "text/latex": [
       "\\[\n",
       "\\begin{aligned}\n",
       "\\eta  &= 0.650 \\; \n",
       "\\\\[10pt]\n",
       "\\dot m &= Q \\cdot \\rho \\\\&= 0.003 \\cdot 865 \\\\&= 2.643 \\; \\;\\textrm{(kg/s)}\\\\[10pt]\n",
       "\\\\[10pt]\n",
       "P_{B} &= \\dot m \\cdot \\frac{ \\eta W_{p} }{ \\eta  } \\\\&= 2.643 \\cdot \\frac{ 108.176 }{ 0.650 } \\\\&= 439.871 \\; \\;\\textrm{(W)}\\\\[10pt]\n",
       "\\end{aligned}\n",
       "\\]"
      ],
      "text/plain": [
       "<IPython.core.display.Latex object>"
      ]
     },
     "metadata": {},
     "output_type": "display_data"
    }
   ],
   "source": [
    "%%render long\n",
    "eta = 0.65\n",
    "dotm = Q*rho #kg/s\n",
    "P_B = dotm*etaW_p/eta #W"
   ]
  },
  {
   "cell_type": "markdown",
   "id": "76281f16-6df2-433a-8ff1-c055217a12d9",
   "metadata": {},
   "source": [
    "### Inciso 4"
   ]
  },
  {
   "cell_type": "markdown",
   "id": "1a3eff70-1adb-46b3-bf15-e4e621effd62",
   "metadata": {},
   "source": [
    "Debemos compara $\\text{NPSH}_d$ con $\\text{NPSH}_r$. Del gráfico, $\\text{NPSH}_r \\approx 17.5~\\text{m}$."
   ]
  },
  {
   "cell_type": "markdown",
   "id": "bed0aac7-4ba7-4dff-b339-2d5c13625033",
   "metadata": {},
   "source": [
    "Para la $\\text{NPSH}_d$ sabemos que:\n",
    "\n",
    "$$\n",
    "\\text{NPSH}_d = \\frac{P_{a'}-P_v}{\\rho g} - z_a - \\left(1 + K \\right)\\frac{8Q^2}{g\\pi^2D^4} - h_{f,a'-a}\n",
    "$$"
   ]
  },
  {
   "cell_type": "code",
   "execution_count": 6,
   "id": "65c2df93-52ff-40e8-a2e6-1dd270585421",
   "metadata": {},
   "outputs": [
    {
     "data": {
      "text/latex": [
       "\\[\n",
       "\\begin{aligned}\n",
       "P_{v} &= 26200.000 \\; \\;\\textrm{(Pa)}\n",
       " &P_{a'} &= 303975 \\; \\;\\textrm{(Pa)}\n",
       " &z_{a} &= 10 \\; \\;\\textrm{(m)}\n",
       "\\\\[10pt]\n",
       " h_{f} &= 2 \\; \\;\\textrm{(m)}\n",
       "\\end{aligned}\n",
       "\\]"
      ],
      "text/plain": [
       "<IPython.core.display.Latex object>"
      ]
     },
     "metadata": {},
     "output_type": "display_data"
    }
   ],
   "source": [
    "%%render params\n",
    "P_v = 26.2*1000 #Pa\n",
    "P_ap = 3*101325 #Pa\n",
    "z_a = 10 #m\n",
    "h_f = 2 #m"
   ]
  },
  {
   "cell_type": "code",
   "execution_count": 7,
   "id": "5cf2c092-109c-4dc9-82b4-b748660dc909",
   "metadata": {},
   "outputs": [
    {
     "data": {
      "text/latex": [
       "\\[\n",
       "\\begin{aligned}\n",
       "\\mathrm{NPSH}_{d} &= \\frac{ P_{a'} - P_{v} }{ \\rho \\cdot g } - z_{a} - \\left( 1 + \\left( K_{salida} + 4 \\cdot K_{codo} + K_{entrada} \\right) \\right) \\cdot \\frac{ 8 \\cdot \\left( Q \\right) ^{ 2 } }{ g \\cdot \\left( \\pi \\right) ^{ 2 } \\cdot \\left( D \\right) ^{ 4 } } - h_{f} \\\\&= \\frac{ 303975 - 26200.000 }{ 865 \\cdot 9.810 } - 10 - \\left( 1 + \\left( 0.500 + 4 \\cdot 1.200 + 1.000 \\right) \\right) \\cdot \\frac{ 8 \\cdot \\left( 0.003 \\right) ^{ 2 } }{ 9.810 \\cdot \\left( 3.142 \\right) ^{ 2 } \\cdot \\left( 0.120 \\right) ^{ 4 } } - 2 \\\\&= 20.708 \\; \\;\\textrm{(m)}\\\\[10pt]\n",
       "\\end{aligned}\n",
       "\\]"
      ],
      "text/plain": [
       "<IPython.core.display.Latex object>"
      ]
     },
     "metadata": {},
     "output_type": "display_data"
    }
   ],
   "source": [
    "%%render long\n",
    "NPSH_d = (P_ap-P_v)/(rho*g) - z_a - (1+(K_salida+4*K_codo+K_entrada))*(8*Q**2)/(g*pi**2*D**4) - h_f #m"
   ]
  },
  {
   "cell_type": "markdown",
   "id": "1769a83e-3f2b-4252-b6eb-671160a858ca",
   "metadata": {},
   "source": [
    "Ya que $\\text{NPSH}_d>\\text{NPSH}_r$, la bomba no cavita."
   ]
  }
 ],
 "metadata": {
  "kernelspec": {
   "display_name": "Python 3 (ipykernel)",
   "language": "python",
   "name": "python3"
  },
  "language_info": {
   "codemirror_mode": {
    "name": "ipython",
    "version": 3
   },
   "file_extension": ".py",
   "mimetype": "text/x-python",
   "name": "python",
   "nbconvert_exporter": "python",
   "pygments_lexer": "ipython3",
   "version": "3.11.7"
  }
 },
 "nbformat": 4,
 "nbformat_minor": 5
}
