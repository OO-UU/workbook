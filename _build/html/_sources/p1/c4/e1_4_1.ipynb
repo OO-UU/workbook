{
 "cells": [
  {
   "cell_type": "markdown",
   "id": "a73383f1-1218-4256-b623-270d8ca8b43f",
   "metadata": {},
   "source": [
    "# Ejercicio 1: Estanques agitados"
   ]
  },
  {
   "cell_type": "markdown",
   "id": "7ad53993-a613-4936-8b92-d30efcc996c2",
   "metadata": {},
   "source": [
    "## Enunciado"
   ]
  },
  {
   "cell_type": "markdown",
   "id": "7fa4f5d3-b414-4408-8b6d-eb6ed08cd611",
   "metadata": {},
   "source": [
    "Lo contrataron en una empresa de apicultores como ingeniero químico encargado de procesos. Su primer trabajo, será estudiar el comportamiento de la miel en un estanque agitado. Los investigadores hicieron un análisis reológico de la miel que se produce, y obtuvieron experimentalmente que la densidad de esta miel es de $\\rho = 1360\\hspace{1mm}(kg/m^3)$ y su viscocidad es de $\\mu = 5647\\hspace{1mm}(cP)$. La empresa cuenta con un estanque con configuración estándar ($S_6 = 1$), cuya altura es de $H = 2.5\\hspace{1mm}(m)$, considere que el estanque se llena a su máxima capacidad. Por útlimo, la empresa cuenta un un motor para el agitador con consumo de potencia de hasta 35 kW. Responda lo siguiente:\n",
    "1. Elija el agitador que la empresa debería comprar para la miel. Discuta la opción de agregar deflectores.\n",
    "2. La única configuración geométrica con la que cuenta el proveedor de agitadores es axial. En específico, este tiene disponible agitadores tipo **A-2**. Determine si el motor es adecuado para operar a $300 RPM$. Asuma que $S_1 = 1/3$.\n",
    "3. Encuentre la velocidad de agitación máxima a la que puede operar este motor en las condiciones descritas. Asuma que la potencia es independiente del número de Reynolds. Compuebe si este supuesto es válido una vez obtenga el resultado.\n",
    "4. Utilizando la velocidad de agitación máxima, obtenga el tiempo de mezclado considerando que se agregaron deflectores."
   ]
  },
  {
   "cell_type": "markdown",
   "id": "f07cd5f7-2ac4-4744-9a06-f4c1980b83d9",
   "metadata": {},
   "source": [
    "{ref}`Ver solución <part1:cap4:ex1:sol>`\n",
    "\n",
    "<br/><br/>\n",
    "<br/><br/>\n",
    "<br/><br/>\n",
    "<br/><br/>\n",
    "<br/><br/>\n",
    "<br/><br/>\n",
    "<br/><br/>\n",
    "<br/><br/>"
   ]
  },
  {
   "cell_type": "markdown",
   "id": "efed8508-9129-4edc-b54e-d4c473cc46b5",
   "metadata": {},
   "source": [
    "(part1:cap4:ex1:sol)=\n",
    "## Solución"
   ]
  },
  {
   "cell_type": "code",
   "execution_count": 2,
   "id": "6abc6b4f-827a-4ad8-ae09-df5d831ea62e",
   "metadata": {},
   "outputs": [],
   "source": [
    "# Paquetes utilizados\n",
    "import handcalcs.render\n",
    "from handcalcs import handcalc\n",
    "from math import pi"
   ]
  },
  {
   "cell_type": "markdown",
   "id": "0f00f351-3a54-453c-8963-9a1792b1815d",
   "metadata": {},
   "source": [
    "### Inciso 1"
   ]
  },
  {
   "cell_type": "markdown",
   "id": "c83bdd1d-8c07-4fd8-a198-4dd1daa78cbb",
   "metadata": {},
   "source": [
    "Para saber qué agitador utilizar, debemos saber el volumen del estanque y la viscosidad del fluido."
   ]
  },
  {
   "cell_type": "code",
   "execution_count": 3,
   "id": "a19768c3-9b72-4a79-859d-6598e99e9e74",
   "metadata": {},
   "outputs": [
    {
     "data": {
      "text/latex": [
       "\\[\n",
       "\\begin{aligned}\n",
       "S_{6} &= 1 \\; \n",
       "\\\\[10pt]\n",
       "H &= 2.500 \\; \\;\\textrm{(m)}\n",
       "\\\\[10pt]\n",
       "D_{t} &= \\frac{ H }{ S_{6} } \\\\&= \\frac{ 2.500 }{ 1 } \\\\&= 2.500 \\; \\;\\textrm{(m)}\\\\[10pt]\n",
       "\\\\[10pt]\n",
       "V_{t} &= \\pi \\cdot \\left( \\frac{ D_{t} }{ 2 } \\right) ^{ 2 } \\cdot H \\\\&= 3.142 \\cdot \\left( \\frac{ 2.500 }{ 2 } \\right) ^{ 2 } \\cdot 2.500 \\\\&= 12.272 \\; \\;\\textrm{(m$^3$)}\\\\[10pt]\n",
       "\\end{aligned}\n",
       "\\]"
      ],
      "text/plain": [
       "<IPython.core.display.Latex object>"
      ]
     },
     "metadata": {},
     "output_type": "display_data"
    }
   ],
   "source": [
    "%%render long\n",
    "S_6 = 1\n",
    "H = 2.5 #m\n",
    "D_t = H/S_6 #m\n",
    "V_t = pi*(D_t/2)**2*H #m$^3$"
   ]
  },
  {
   "cell_type": "markdown",
   "id": "d54556c1-c24d-412e-87dd-d04e4850caf2",
   "metadata": {},
   "source": [
    "A continuación nos ubicamos en el gráfico.\n",
    "\n",
    "```{figure} ./images/img1_4_1-sol1.png\n",
    "---\n",
    "align: center\n",
    "name: figura-1_4_1-1\n",
    "scale: 70%\n",
    "---\n",
    "Selección de agitador.\n",
    "```"
   ]
  },
  {
   "cell_type": "markdown",
   "id": "6f3fde5a-ed7f-4af5-a81a-52be41cd9b6e",
   "metadata": {},
   "source": [
    "Observamos que nos encontramos aproximadamente en un área donde es recomendable utilizar turbinas.\n",
    "\n",
    "En cuanto a la utilización de deflectores, esta sí es combeniente ya que los agitadores de turbina no pasan cerca de la pared del estanque."
   ]
  },
  {
   "cell_type": "markdown",
   "id": "c81b1bb6-114e-4bb6-b92f-a3c6d59bfc3c",
   "metadata": {},
   "source": [
    "###  Inciso 2"
   ]
  },
  {
   "cell_type": "markdown",
   "id": "37350cd1-f1e1-47a9-80c3-813bb192e1a1",
   "metadata": {},
   "source": [
    "Para saber si el motor disponible es adecuado, debemos saber el consumo de potencia teórico que este tendría si opera a las condiciones descritas. Ya que tenemos el modelo, podemos utilizar el gráfico para recuperar el número de potencia. Calculamos el número de Reynolds"
   ]
  },
  {
   "cell_type": "code",
   "execution_count": 4,
   "id": "3a6b41be-3c38-4415-850c-4db980132873",
   "metadata": {},
   "outputs": [
    {
     "data": {
      "text/latex": [
       "\\[\n",
       "\\begin{aligned}\n",
       "\\mu &= 5.647 \\; \\;\\textrm{(Pa$\\cdot$s)}\n",
       "\\\\[10pt]\n",
       "\\rho &= 1360 \\; \\;\\textrm{(kg/m$^3$)}\n",
       "\\\\[10pt]\n",
       "N &= \\frac{ 300 }{ 60 } &= 5.000 \\; \\;\\textrm{(RPS)}\n",
       "\\\\[10pt]\n",
       "S_{1} &= \\frac{ 1 }{ 3 } &= 0.333  \n",
       "\\\\[10pt]\n",
       "D_{a} &= S_{1} \\cdot D_{t} \\\\&= 0.333 \\cdot 2.500 \\\\&= 0.833 \\; \\;\\textrm{(m)}\\\\[10pt]\n",
       "\\\\[10pt]\n",
       "\\mathrm{Re} &= \\frac{ \\rho \\cdot N \\cdot \\left( D_{a} \\right) ^{ 2 } }{ \\mu } \\\\&= \\frac{ 1360 \\cdot 5.000 \\cdot \\left( 0.833 \\right) ^{ 2 } }{ 5.647 } \\\\&= 836.236  \\\\[10pt]\n",
       "\\end{aligned}\n",
       "\\]"
      ],
      "text/plain": [
       "<IPython.core.display.Latex object>"
      ]
     },
     "metadata": {},
     "output_type": "display_data"
    }
   ],
   "source": [
    "%%render long\n",
    "mu = 5.647 #Pa$\\cdot$s\n",
    "rho = 1360 #kg/m$^3$\n",
    "N = 300/60 #RPS\n",
    "S_1 = 1/3\n",
    "D_a = S_1*D_t #m\n",
    "Re = (rho*N*D_a**2)/mu"
   ]
  },
  {
   "cell_type": "markdown",
   "id": "65266506-9227-4df8-8495-817818bb1d03",
   "metadata": {},
   "source": [
    "Obtenemos el número de potencia utilizando el gráfico.\n",
    "\n",
    "A continuación nos ubicamos en el gráfico.\n",
    "\n",
    "```{figure} ./images/img1_4_1-sol2.png\n",
    "---\n",
    "align: center\n",
    "name: figura-1_4_1-2\n",
    "scale: 70%\n",
    "---\n",
    "Número de potencia en función del número de Reynolds.\n",
    "```"
   ]
  },
  {
   "cell_type": "markdown",
   "id": "dcada274-0a18-44c5-9f48-56bc81d56e96",
   "metadata": {},
   "source": [
    "Notamos que para este valor de Reynolds y para el agitador seleccionado, el valor de $K$ se encuentra en la zona de independencia de Reynolds, en donde $K=K_T\\approx 1.3$. Sabemos que para esta sección, el consume de potencia es:\n",
    "\n",
    "$$\n",
    "P = K_T\\rho N^3D_a^5\n",
    "$$"
   ]
  },
  {
   "cell_type": "code",
   "execution_count": 6,
   "id": "1a0bfe90-4da9-4a03-b557-7cff75a5ccaa",
   "metadata": {},
   "outputs": [
    {
     "data": {
      "text/latex": [
       "\\[\n",
       "\\begin{aligned}\n",
       "K_{T} &= 1.300 \\; \n",
       "\\\\[10pt]\n",
       "P &= K_{T} \\cdot \\rho \\cdot \\left( N \\right) ^{ 3 } \\cdot \\left( D_{a} \\right) ^{ 5 } \\\\&= 1.300 \\cdot 1360 \\cdot \\left( 5.000 \\right) ^{ 3 } \\cdot \\left( 0.833 \\right) ^{ 5 } \\\\&= 88814.943 \\; \\;\\textrm{(W)}\\\\[10pt]\n",
       "\\end{aligned}\n",
       "\\]"
      ],
      "text/plain": [
       "<IPython.core.display.Latex object>"
      ]
     },
     "metadata": {},
     "output_type": "display_data"
    }
   ],
   "source": [
    "%%render long\n",
    "K_T = 1.3\n",
    "P = K_T*rho*N**3*D_a**5 #W"
   ]
  },
  {
   "cell_type": "markdown",
   "id": "db08fc69-7e7d-4202-969e-cc884dbd59a5",
   "metadata": {},
   "source": [
    "Podemos observar que $35\\hspace{1mm}kW<88.8\\hspace{1mm}kW$. Por la tanto el motor no esta apto para trabajar en dichas condiciones."
   ]
  },
  {
   "cell_type": "markdown",
   "id": "1ef014ee-3071-43ed-95c3-5b6dcbfe6275",
   "metadata": {},
   "source": [
    "### Inciso 3"
   ]
  },
  {
   "cell_type": "markdown",
   "id": "1436234b-a6ef-47ca-8c4e-2991b9ca2e16",
   "metadata": {},
   "source": [
    "Nos dicen que asumamos que el número de potencia es independiente del número de Reynolds. Luego $n=0$ en:\n",
    "$$\n",
    "Np = K\\cdot Re^n\n",
    "$$\n",
    "A partir de esto trabajamos en el supuesto de que $K$ es constante e igual a $K_T$. Entonces podemos despejar $N$.\n",
    "$$\n",
    "N = \\sqrt[3]{\\frac{P}{K_T\\rho D_a^5}}\n",
    "$$"
   ]
  },
  {
   "cell_type": "code",
   "execution_count": 21,
   "id": "e747781d-b160-4f4b-8e4a-1b86157ec8c4",
   "metadata": {},
   "outputs": [
    {
     "data": {
      "text/latex": [
       "\\[\n",
       "\\begin{aligned}\n",
       "P_{max} &= 35000 \\; \\;\\textrm{(W)}\n",
       "\\\\[10pt]\n",
       "N_{max} &= \\left( \\frac{ P_{max} }{ K_{T} \\cdot \\rho \\cdot \\left( D_{a} \\right) ^{ 5 } } \\right) ^{ \\left( \\frac{ 1 }{ 3 } \\right) } \\\\&= \\left( \\frac{ 35000 }{ 1.300 \\cdot 1360 \\cdot \\left( 0.833 \\right) ^{ 5 } } \\right) ^{ \\left( \\frac{ 1 }{ 3 } \\right) } \\\\&= 3.666 \\; \\;\\textrm{(RPS)}\\\\[10pt]\n",
       "\\end{aligned}\n",
       "\\]"
      ],
      "text/plain": [
       "<IPython.core.display.Latex object>"
      ]
     },
     "metadata": {},
     "output_type": "display_data"
    }
   ],
   "source": [
    "%%render long\n",
    "P_max = 35000 #W\n",
    "N_max = (P_max/(K_T*rho*D_a**5))**(1/3) #RPS"
   ]
  },
  {
   "cell_type": "code",
   "execution_count": 20,
   "id": "6405b3f5-0705-4c5d-8a70-8ebbb03d8621",
   "metadata": {},
   "outputs": [
    {
     "name": "stdout",
     "output_type": "stream",
     "text": [
      "La velocidad máxima de agitación es de 219.946 RPM\n"
     ]
    }
   ],
   "source": [
    "print(f\"La velocidad máxima de agitación es de {N_max*60:g} RPM\")"
   ]
  },
  {
   "cell_type": "markdown",
   "id": "1c432425-c6ea-4522-a368-0240426d0d1a",
   "metadata": {},
   "source": [
    "Comprobamos si nuestro supuesto para $K_T$ es correcto mediante el número de Reynolds."
   ]
  },
  {
   "cell_type": "code",
   "execution_count": 22,
   "id": "5ab19029-330d-4db4-b6b3-a77271b5a3d0",
   "metadata": {},
   "outputs": [
    {
     "data": {
      "text/latex": [
       "\\[\n",
       "\\begin{aligned}\n",
       "\\mathrm{Re} &= \\frac{ \\rho \\cdot N_{max} \\cdot \\left( D_{a} \\right) ^{ 2 } }{ \\mu } \\\\&= \\frac{ 1360 \\cdot 3.666 \\cdot \\left( 0.833 \\right) ^{ 2 } }{ 5.647 } \\\\&= 613.088  \\\\[10pt]\n",
       "\\end{aligned}\n",
       "\\]"
      ],
      "text/plain": [
       "<IPython.core.display.Latex object>"
      ]
     },
     "metadata": {},
     "output_type": "display_data"
    }
   ],
   "source": [
    "%%render long\n",
    "Re = (rho*N_max*D_a**2)/mu"
   ]
  },
  {
   "cell_type": "markdown",
   "id": "2003efdc-880e-4965-b620-e53c8eaf6962",
   "metadata": {},
   "source": [
    "A partir del gráfico comprobamos que, para un agitador con geometría **A-2**, el supuesto es válido para el cambio de las revoluciones por minuto."
   ]
  },
  {
   "cell_type": "markdown",
   "id": "c2507f89-3a7a-45e9-82a1-cb36ea9739dd",
   "metadata": {},
   "source": [
    "### Inciso 4"
   ]
  },
  {
   "cell_type": "markdown",
   "id": "349295ed-51d5-4d8e-a19b-07f556211062",
   "metadata": {},
   "source": [
    "Tenemos el siguiente gráfico que relciona el factor de tiempo de mezclado $(N\\times t_M)$ con el número de Reynolds.\n",
    "\n",
    "A continuación nos ubicamos en el gráfico.\n",
    "\n",
    "```{figure} ./images/img1_4_1-sol3.png\n",
    "---\n",
    "align: center\n",
    "name: figura-1_4_1-3\n",
    "scale: 70%\n",
    "---\n",
    "Relación entre el factor de timpo de mezcla y el número de Reynolds.\n",
    "```"
   ]
  },
  {
   "cell_type": "markdown",
   "id": "6d11c5fa-40c3-41f0-ab62-4e476ae5c15d",
   "metadata": {},
   "source": [
    "Obtenemos que $N\\times t_M \\approx 70$. Luego calculamos el tiempo de mezclado."
   ]
  },
  {
   "cell_type": "code",
   "execution_count": 24,
   "id": "b6e427f1-8514-4045-9400-1a9181e90d8c",
   "metadata": {},
   "outputs": [
    {
     "data": {
      "text/latex": [
       "\\[\n",
       "\\begin{aligned}\n",
       "t_{m} &= \\frac{ 70 }{ N_{max} } \\\\&= \\frac{ 70 }{ 3.666 } \\\\&= 19.096 \\; \\;\\textrm{(s)}\\\\[10pt]\n",
       "\\end{aligned}\n",
       "\\]"
      ],
      "text/plain": [
       "<IPython.core.display.Latex object>"
      ]
     },
     "metadata": {},
     "output_type": "display_data"
    }
   ],
   "source": [
    "%%render long\n",
    "t_m = 70/N_max #s"
   ]
  },
  {
   "cell_type": "markdown",
   "id": "fce6044b-e616-4630-b055-e87041d502b3",
   "metadata": {},
   "source": [
    "El tiempo de mezclado será de 19 segundos."
   ]
  },
  {
   "cell_type": "code",
   "execution_count": null,
   "id": "3e2f77af-0ba7-4a98-b696-e180e7e7291c",
   "metadata": {},
   "outputs": [],
   "source": []
  }
 ],
 "metadata": {
  "kernelspec": {
   "display_name": "Python 3 (ipykernel)",
   "language": "python",
   "name": "python3"
  },
  "language_info": {
   "codemirror_mode": {
    "name": "ipython",
    "version": 3
   },
   "file_extension": ".py",
   "mimetype": "text/x-python",
   "name": "python",
   "nbconvert_exporter": "python",
   "pygments_lexer": "ipython3",
   "version": "3.11.7"
  }
 },
 "nbformat": 4,
 "nbformat_minor": 5
}
