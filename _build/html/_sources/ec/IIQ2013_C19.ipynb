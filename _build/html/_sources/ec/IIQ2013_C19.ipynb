{
 "cells": [
  {
   "cell_type": "markdown",
   "id": "0e238de6-62ba-40dd-8998-98560b150c17",
   "metadata": {},
   "source": [
    "# IIQ2013 - Clase 19"
   ]
  },
  {
   "cell_type": "markdown",
   "id": "93acee40-c4fe-486a-88a9-35eb795bd69a",
   "metadata": {},
   "source": [
    "Con el propósito de mejorar la disipación de calor de una corriente de aire que atraviesa una rendija de $L = 12~\\text{mm}$ de alto, $W = 20~\\text{cm}$ de ancho, y $D = 10~\\text{cm}$ de profundidad (en la dirección del flujo del aire), se propone colocar $n = 50$ aletas longitudinales de aluminio (Al) de $L = 12~\\text{mm}$ de alto y $t = 0.45~\\text{mm}$ de espesor cada una, según muestra la figura adjunta."
   ]
  },
  {
   "cell_type": "markdown",
   "id": "9fd03b50-b787-4bf2-8c6d-0f776865cbfe",
   "metadata": {},
   "source": [
    "```{figure} ./images/img_EC-19.png\n",
    ":align: center\n",
    ":name: figura_EC-19\n",
    "\n",
    "Arreglo de aletas\n",
    "```"
   ]
  },
  {
   "cell_type": "code",
   "execution_count": 47,
   "id": "cf27c00b",
   "metadata": {},
   "outputs": [],
   "source": [
    "import handcalcs.render\n",
    "from numpy import sqrt, tanh"
   ]
  },
  {
   "cell_type": "markdown",
   "id": "58796348-379f-4fd0-9f44-db30280dc434",
   "metadata": {},
   "source": [
    "## Pregunta 1"
   ]
  },
  {
   "cell_type": "markdown",
   "id": "990ab721-6c48-457a-82b9-da013d7f6d32",
   "metadata": {},
   "source": [
    "El valor del diámetro equivalente ($D_e$) para los conductos por los que circula el aire es aproximadamente el siguiente:"
   ]
  },
  {
   "cell_type": "markdown",
   "id": "9132aff1-4926-4894-a03e-6d0c52a7b3a7",
   "metadata": {},
   "source": [
    "(a) $D_e$ $<$ $4.8$ $\\text{mm}$ \\\n",
    "(b) $4.8$ $\\leq$ $D_e$ $<$ $5.4$ $\\text{mm}$ \\\n",
    "(c) $5.4$ $\\leq$ $D_e$ $<$ $6.0$ $\\text{mm}$ \\\n",
    "(d) $D_e$ $\\geq$ $6.0$ $\\text{mm}$"
   ]
  },
  {
   "cell_type": "markdown",
   "id": "bbb21c45-b324-47fb-921e-d4e6d0c4f5ea",
   "metadata": {},
   "source": [
    "## Solución"
   ]
  },
  {
   "cell_type": "markdown",
   "id": "417d38b7",
   "metadata": {},
   "source": [
    "Primero, definimos todos los parámetros requeridos"
   ]
  },
  {
   "cell_type": "code",
   "execution_count": 6,
   "id": "66b63065",
   "metadata": {},
   "outputs": [
    {
     "data": {
      "text/latex": [
       "\\[\n",
       "\\begin{aligned}\n",
       "L &= 0.012 \\; \\;\\textrm{(m)}\n",
       " &w &= 0.200 \\; \\;\\textrm{(m)}\n",
       " &D &= 0.100 \\; \\;\\textrm{(m)}\n",
       "\\\\[10pt]\n",
       " n &= 50 \\; \n",
       " &t &= 0.000 \\; \\;\\textrm{(m)}\n",
       "\\end{aligned}\n",
       "\\]"
      ],
      "text/plain": [
       "<IPython.core.display.Latex object>"
      ]
     },
     "metadata": {},
     "output_type": "display_data"
    }
   ],
   "source": [
    "%%render params\n",
    "L = 12e-3 #m\n",
    "w = 20e-2 #m\n",
    "D = 10e-2 #m\n",
    "n = 50\n",
    "t = 0.45e-3 #m"
   ]
  },
  {
   "cell_type": "markdown",
   "id": "bbf7a7a9",
   "metadata": {},
   "source": [
    "Recordamos que el diámetro equivalente es cuatro veces el área divida el perímetro mojado.\n",
    "\n",
    "El ancho ($w$) de una rendija viene dada por:"
   ]
  },
  {
   "cell_type": "code",
   "execution_count": 23,
   "id": "caad30b6",
   "metadata": {},
   "outputs": [
    {
     "data": {
      "text/latex": [
       "\\[\n",
       "\\begin{aligned}\n",
       "w_{rendija} &= \\frac{ w - n \\cdot t }{ n - 1 }  = \\frac{ 2.000 \\times 10 ^ {-1} - 50 \\cdot 4.500 \\times 10 ^ {-4} }{ 50 - 1 } &= 3.622 \\times 10 ^ {-3} \\; \\;\\textrm{(m)}\n",
       "\\end{aligned}\n",
       "\\]"
      ],
      "text/plain": [
       "<IPython.core.display.Latex object>"
      ]
     },
     "metadata": {},
     "output_type": "display_data"
    }
   ],
   "source": [
    "%%render sci_not 3\n",
    "w_rendija = (w - n*t)/(n-1) #m\n",
    "#A = 2* (L*D + L)"
   ]
  },
  {
   "cell_type": "code",
   "execution_count": 29,
   "id": "e67932e6",
   "metadata": {},
   "outputs": [
    {
     "data": {
      "text/latex": [
       "\\[\n",
       "\\begin{aligned}\n",
       "P &= \\left( 2 \\cdot w_{rendija} + 2 \\cdot L \\right) \\cdot \\left( n - 1 \\right) \\\\&= \\left( 2 \\cdot 3.622 \\times 10 ^ {-3} + 2 \\cdot 1.200 \\times 10 ^ {-2} \\right) \\cdot \\left( 50 - 1 \\right) \\\\&= 1.531 \\times 10 ^ {0} \\; \\;\\textrm{(m)}\\\\[10pt]\n",
       "\\\\[10pt]\n",
       "A &= \\left( w_{rendija} \\cdot L \\right) \\cdot \\left( n - 1 \\right) \\\\&= \\left( 3.622 \\times 10 ^ {-3} \\cdot 1.200 \\times 10 ^ {-2} \\right) \\cdot \\left( 50 - 1 \\right) \\\\&= 2.130 \\times 10 ^ {-3} \\; \\;\\textrm{(m$^2$)}\\\\[10pt]\n",
       "\\\\[10pt]\n",
       "D_{eq} &= 4 \\cdot \\frac{ A }{ P } \\\\&= 4 \\cdot \\frac{ 2.130 \\times 10 ^ {-3} }{ 1.531 \\times 10 ^ {0} } \\\\&= 5.565 \\times 10 ^ {-3} \\; \\;\\textrm{(m)}\\\\[10pt]\n",
       "\\end{aligned}\n",
       "\\]"
      ],
      "text/plain": [
       "<IPython.core.display.Latex object>"
      ]
     },
     "metadata": {},
     "output_type": "display_data"
    }
   ],
   "source": [
    "%%render long sci_not 3\n",
    "P = (2*w_rendija + 2*L) * (n-1) #m\n",
    "A = (w_rendija * L) * (n-1) #m$^2$\n",
    "D_eq = 4* A / P #m"
   ]
  },
  {
   "cell_type": "markdown",
   "id": "ad6fe5c1",
   "metadata": {},
   "source": [
    "El diámetro equivalente del conducto son $5.57~\\text{mm}$, alternativa **c)**."
   ]
  },
  {
   "cell_type": "markdown",
   "id": "ecf92867-6412-45d8-9461-9be3afdb6efd",
   "metadata": {},
   "source": [
    "## Pregunta 2"
   ]
  },
  {
   "cell_type": "markdown",
   "id": "89571841-7f34-492c-af76-d00b30619468",
   "metadata": {},
   "source": [
    "En caso de hacer atravesar $F = 48~\\text{kg/min}$ de aire a $T_\\infty = 400~\\text{K}$ a través de las rendijas, el coeficiente de convección para el fluido ($h$) es aproximadamente el siguiente:"
   ]
  },
  {
   "cell_type": "markdown",
   "id": "d125815d-e693-45a9-a4ac-8ef1cefd52a0",
   "metadata": {},
   "source": [
    "(a) $h$ $<$ $800$ $\\text{W/m}^2\\cdot\\text{K}$ \\\n",
    "(b) $800$ $\\leq$ $h$ $<$ $1000$ $\\text{W/m}^2\\cdot\\text{K}$ \\\n",
    "(c) $1000$ $\\leq$ $h$ $<$ $1200$ $\\text{W/m}^2\\cdot\\text{K}$ \\\n",
    "(d) $h$ $\\geq$ $1200$ $\\text{W/m}^2\\cdot\\text{K}$"
   ]
  },
  {
   "cell_type": "markdown",
   "id": "8bedac05-1bf4-4484-954b-8492499ee5fa",
   "metadata": {},
   "source": [
    "Propiedades físicas del aire a $400~K$: $\\mu = 2.304\\times 10^{−5}~\\text{Pa}\\cdot\\text{s}$, $\\rho = 0.871~\\text{kg/m}^3$, $Pr = 0.7$, $k = 0.033~\\text{W/m}\\cdot\\text{K}.$"
   ]
  },
  {
   "cell_type": "markdown",
   "id": "32e33ae0-413c-465f-9054-4744b005961a",
   "metadata": {},
   "source": [
    "## Solución"
   ]
  },
  {
   "cell_type": "markdown",
   "id": "f9e60401-bd5a-417d-a2c4-02d3d20d8fe3",
   "metadata": {},
   "source": [
    "Cálculo de coeficiente de convección por convección forzada. Primero calculamos el régimen de flujo,"
   ]
  },
  {
   "cell_type": "code",
   "execution_count": 45,
   "id": "1d356240-1f75-4a80-93e0-1b869476e34d",
   "metadata": {},
   "outputs": [
    {
     "data": {
      "text/latex": [
       "\\[\n",
       "\\begin{aligned}\n",
       "T_{inf} &= 400 \\; \\;\\textrm{(K)}\n",
       " &\\mu_{air} &= 2.304 \\times 10 ^ {-5} \\; \\;\\textrm{(Pa$\\cdot$s)}\n",
       " &\\rho_{air} &= 8.710 \\times 10 ^ {-1} \\; \\;\\textrm{(kg/m$^3$)}\n",
       "\\\\[10pt]\n",
       " \\mathrm{Pr} &= 7.000 \\times 10 ^ {-1} \\; \n",
       " &k_{air} &= 3.300 \\times 10 ^ {-2} \\; \\;\\textrm{(W/m$\\cdot$K)}\n",
       " &F &= 8.000 \\times 10 ^ {-1} \\; \\;\\textrm{(kg/s)}\n",
       "\\\\[10pt]\n",
       "\\end{aligned}\n",
       "\\]"
      ],
      "text/plain": [
       "<IPython.core.display.Latex object>"
      ]
     },
     "metadata": {},
     "output_type": "display_data"
    }
   ],
   "source": [
    "%%render params sci_not\n",
    "T_inf = 400 #K\n",
    "mu_air = 2.304e-5 #Pa$\\cdot$s\n",
    "rho_air = 0.871 #kg/m$^3$\n",
    "Pr = 0.7\n",
    "k_air = 0.033 #W/m$\\cdot$K\n",
    "F = 48/60  #kg/s"
   ]
  },
  {
   "cell_type": "code",
   "execution_count": 37,
   "id": "752a0ff9-ca75-4891-b39e-280f56d7e5de",
   "metadata": {},
   "outputs": [
    {
     "data": {
      "text/latex": [
       "\\[\n",
       "\\begin{aligned}\n",
       "G &= \\frac{ F }{ \\left( n - 1 \\right) \\cdot w_{rendija} \\cdot L } \\\\&= \\frac{ 0.800 }{ \\left( 50 - 1 \\right) \\cdot 0.004 \\cdot 0.012 } \\\\&= 375.587 \\; \\;\\textrm{(kg/s$\\cdot$m$^2$$~~~$Flux másico)}\\\\[10pt]\n",
       "\\\\[10pt]\n",
       "\\mathrm{Re} &= G \\cdot \\frac{ D_{eq} }{ \\mu_{air} } \\\\&= 375.587 \\cdot \\frac{ 0.006 }{ 0.000 } \\\\&= 90717.759  \\\\[10pt]\n",
       "\\end{aligned}\n",
       "\\]"
      ],
      "text/plain": [
       "<IPython.core.display.Latex object>"
      ]
     },
     "metadata": {},
     "output_type": "display_data"
    }
   ],
   "source": [
    "%%render long\n",
    "G = F / ( (n-1) * w_rendija * L) #kg/s$\\cdot$m$^2$$~~~$Flux másico\n",
    "Re = G * D_eq / mu_air"
   ]
  },
  {
   "cell_type": "markdown",
   "id": "eab33f85",
   "metadata": {},
   "source": [
    "El flujo es claramente turbulento. Ahora utilizamos una ecuación apropiada del formulario en el contexto de transferencia de calor para flujo interno en tuberías. Este conducto no es exactamente una tubería, pero si corresponde al flujo en un canal cerrado y por lo tanto las correlaciones son aplicables."
   ]
  },
  {
   "cell_type": "code",
   "execution_count": 43,
   "id": "44933468",
   "metadata": {},
   "outputs": [
    {
     "data": {
      "text/latex": [
       "\\[\n",
       "\\begin{aligned}\n",
       "j_{h} &= 0.027 \\cdot \\left( \\mathrm{Re} \\right) ^{ 0.8 } \\\\&= 0.027 \\cdot \\left( 90717.759 \\right) ^{ 0.8 } \\\\&= 249.757  \\\\[10pt]\n",
       "\\\\[10pt]\n",
       "\\mathrm{Nusselt}_{D} &= j_{h} \\cdot \\left( \\mathrm{Pr} \\right) ^{ \\left( \\frac{ 1 }{ 3 } \\right) } \\\\&= 249.757 \\cdot \\left( 0.700 \\right) ^{ \\left( \\frac{ 1 }{ 3 } \\right) } \\\\&= 221.760  \\\\[10pt]\n",
       "\\\\[10pt]\n",
       "h &= \\mathrm{Nusselt}_{D} \\cdot \\frac{ k_{air} }{ D_{eq} } \\\\&= 221.760 \\cdot \\frac{ 0.033 }{ 0.006 } \\\\&= 1315.022 \\; \\;\\textrm{(W/m$^2\\cdot$K)}\\\\[10pt]\n",
       "\\end{aligned}\n",
       "\\]"
      ],
      "text/plain": [
       "<IPython.core.display.Latex object>"
      ]
     },
     "metadata": {},
     "output_type": "display_data"
    }
   ],
   "source": [
    "%%render long\n",
    "j_h  = 0.027 * Re**0.8\n",
    "Nusselt_D = j_h * Pr**(1/3)\n",
    "h = Nusselt_D * k_air / D_eq #W/m$^2\\cdot$K"
   ]
  },
  {
   "cell_type": "markdown",
   "id": "c6f7dd91",
   "metadata": {},
   "source": [
    "## Pregunta 3"
   ]
  },
  {
   "cell_type": "markdown",
   "id": "b5b99424-a89f-4869-9715-7d0f9b21ebcd",
   "metadata": {},
   "source": [
    "Considerando que la temperatura de ambas bases es igual ($T_o = T_L = 300~K$), y que la conductividad térmica del Al a $300~K$ es $k = 225~\\text{W/m}\\cdot\\text{K}$, la eficiencia de cada aleta del arreglo ($\\eta_f$) es aproximadamente la siguiente:"
   ]
  },
  {
   "cell_type": "markdown",
   "id": "91104370-daec-4e59-a30e-8022a9892a58",
   "metadata": {},
   "source": [
    "a) $\\eta_f$ $<$ $70$ $\\%$ \\\n",
    "b) $70$ $\\leq$ $\\eta_f$ $<$ $80$ $\\%$ \\\n",
    "c) $80$ $\\leq$ $\\eta_f$ $<$ $90$ $\\%$ \\\n",
    "d ) $\\eta_f$ $\\geq$ $90$ $\\%$"
   ]
  },
  {
   "cell_type": "markdown",
   "id": "a8f4ffa6-7eca-42f0-a339-28e82b7eb14f",
   "metadata": {},
   "source": [
    "*Hint: Considere la situación de simetría para la transferencia de calor en cada aleta para determinar su “largo”, en el cómputo.*"
   ]
  },
  {
   "cell_type": "markdown",
   "id": "964ac2db-2349-4643-afcc-5188442c874c",
   "metadata": {},
   "source": [
    "## Solución"
   ]
  },
  {
   "cell_type": "markdown",
   "id": "d512aba7",
   "metadata": {},
   "source": [
    "Para calcular la eficiencia del arreglo, tenemos que estimar el largo de la aleta. Nótese que en este caso, dado que hay dos superficies enfriándose, el largo de la aleta es igual a la mitad del espacio que separa las dos placas, $L_{aleta} = L/2$"
   ]
  },
  {
   "cell_type": "code",
   "execution_count": 52,
   "id": "57f25a1a",
   "metadata": {},
   "outputs": [
    {
     "data": {
      "text/latex": [
       "\\[\n",
       "\\begin{aligned}\n",
       "L_{c} &= \\frac{ L }{ 2 } + \\frac{ t }{ 2 }  = \\frac{ 1.200 \\times 10 ^ {-2} }{ 2 } + \\frac{ 4.500 \\times 10 ^ {-4} }{ 2 } &= 6.225 \\times 10 ^ {-3} \\; \\;\\textrm{(m Largo de la aleta)}\n",
       "\\\\[10pt]\n",
       "P &= 2 \\cdot \\left( D + t \\right)  = 2 \\cdot \\left( 1.000 \\times 10 ^ {-1} + 4.500 \\times 10 ^ {-4} \\right) &= 2.009 \\times 10 ^ {-1} \\; \\;\\textrm{(m Perimetro de la aleta)}\n",
       "\\\\[10pt]\n",
       "A_{c} &= D \\cdot t  = 1.000 \\times 10 ^ {-1} \\cdot 4.500 \\times 10 ^ {-4} &= 4.500 \\times 10 ^ {-5} \\; \\;\\textrm{(m$^2$ Área de la punta de la aleta)}\n",
       "\\\\[10pt]\n",
       "k_{al} &= 225 \\; \\;\\textrm{(W/m$^2\\cdot$K)}\n",
       "\\\\[10pt]\n",
       "m_{aleta} &= \\sqrt { \\frac{ h \\cdot P }{ k_{al} \\cdot A_{c} } }  = \\sqrt { \\frac{ 1.315 \\times 10 ^ {3} \\cdot 2.009 \\times 10 ^ {-1} }{ 225 \\cdot 4.500 \\times 10 ^ {-5} } } &= 1.615 \\times 10 ^ {2}  \n",
       "\\\\[10pt]\n",
       "\\eta_{f} &= \\frac{ \\tanh \\left( m_{aleta} \\cdot L_{c} \\right) }{ m_{aleta} \\cdot L_{c} }  = \\frac{ \\tanh \\left( 1.615 \\times 10 ^ {2} \\cdot 6.225 \\times 10 ^ {-3} \\right) }{ 1.615 \\times 10 ^ {2} \\cdot 6.225 \\times 10 ^ {-3} } &= 7.597 \\times 10 ^ {-1}  \n",
       "\\end{aligned}\n",
       "\\]"
      ],
      "text/plain": [
       "<IPython.core.display.Latex object>"
      ]
     },
     "metadata": {},
     "output_type": "display_data"
    }
   ],
   "source": [
    "%%render sci_not\n",
    "L_c = L/2 + t/2 #m Largo de la aleta\n",
    "P = 2*(D+t) #m Perimetro de la aleta\n",
    "A_c = D * t #m$^2$ Área de la punta de la aleta\n",
    "k_al = 225 #W/m$^2\\cdot$K\n",
    "m_aleta = sqrt( (h * P) / (k_al*A_c))\n",
    "eta_f = tanh(m_aleta*L_c) / (m_aleta *L_c)"
   ]
  },
  {
   "cell_type": "markdown",
   "id": "57a3eacd",
   "metadata": {},
   "source": [
    "Por lo tanto la eficiencia de la aleta es $75.97~\\%$. La alternativa correcta es la **b)**."
   ]
  },
  {
   "cell_type": "markdown",
   "id": "fc486f52",
   "metadata": {},
   "source": [
    "## Pregunta 4"
   ]
  },
  {
   "cell_type": "markdown",
   "id": "ce674437-8b02-49fd-b4b4-5dc880b18d60",
   "metadata": {},
   "source": [
    "La eficiencia global del arreglo de aletas ($\\eta_o$) es aproximadamente la siguiente:"
   ]
  },
  {
   "cell_type": "markdown",
   "id": "e6f57492-3af8-4b9a-a532-8d4ef2616fc9",
   "metadata": {},
   "source": [
    "a) $\\eta_o$ $<$ $65$ $\\%$\\\n",
    "b) $65$ $\\leq$ $\\eta_o$ $<$ $75$ $\\%$\\\n",
    "c) $75$ $\\leq$ $\\eta_o$ $<$ $85$ $\\%$\\\n",
    "d) $\\eta_o$ $\\geq$ $85$ $\\%$"
   ]
  },
  {
   "cell_type": "markdown",
   "id": "e5ca329a-b125-48df-be96-8a1871c8a74f",
   "metadata": {},
   "source": [
    "## Solución"
   ]
  },
  {
   "cell_type": "code",
   "execution_count": 53,
   "id": "a1010899",
   "metadata": {},
   "outputs": [
    {
     "data": {
      "text/latex": [
       "\\[\n",
       "\\begin{aligned}\n",
       "\\eta_{0} &= 1 - \\frac{ L }{ \\frac{ w }{ n } - t + L } \\cdot \\left( 1 - \\eta_{f} \\right)  = 1 - \\frac{ 0.012 }{ \\frac{ 0.200 }{ 50 } - 0.000 + 0.012 } \\cdot \\left( 1 - 0.760 \\right) &= 0.815  \n",
       "\\end{aligned}\n",
       "\\]"
      ],
      "text/plain": [
       "<IPython.core.display.Latex object>"
      ]
     },
     "metadata": {},
     "output_type": "display_data"
    }
   ],
   "source": [
    "%%render\n",
    "eta_0 = 1 - L/(w/n - t + L) * (1-eta_f)"
   ]
  },
  {
   "cell_type": "markdown",
   "id": "6d1a14fe",
   "metadata": {},
   "source": [
    "Por lo tanto la eficiencia del arreglo de aletas es $81.3~\\%$. La alternativa correcta es la **c)**."
   ]
  }
 ],
 "metadata": {
  "kernelspec": {
   "display_name": "Python 3 (ipykernel)",
   "language": "python",
   "name": "python3"
  },
  "language_info": {
   "codemirror_mode": {
    "name": "ipython",
    "version": 3
   },
   "file_extension": ".py",
   "mimetype": "text/x-python",
   "name": "python",
   "nbconvert_exporter": "python",
   "pygments_lexer": "ipython3",
   "version": "3.11.7"
  }
 },
 "nbformat": 4,
 "nbformat_minor": 5
}
