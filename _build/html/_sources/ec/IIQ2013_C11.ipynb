{
 "cells": [
  {
   "cell_type": "markdown",
   "id": "30bd9715-3618-41ed-a0e9-cd2295a819dc",
   "metadata": {},
   "source": [
    "# IIQ2013 - Clase 11"
   ]
  },
  {
   "cell_type": "markdown",
   "id": "34dfa6df-02ab-4d94-9073-959c15cbfadd",
   "metadata": {},
   "source": [
    "Considere aire ($\\gamma = 1.4$) procedente de un depósito o estanque que fluye a través de una tubería recta de gran longitud y provista con aislación térmica (no ocurre transferencia de calor con los alrededores). La presión y temperatura en el estanque son $p_1 = 20~\\text{atm}$ y $T_1 = 555.6~\\text{K}$, respectivamente ($ \\rho = 12.72 \\text{kg/m}^3$). Además, se sabe que el número de Mach a la entrada de la tubería es $Ma_1 = 0.05$."
   ]
  },
  {
   "cell_type": "markdown",
   "id": "85b92182-4d8b-457e-94c8-5651d80a2a2c",
   "metadata": {},
   "source": [
    "Librerias a utilizar:"
   ]
  },
  {
   "cell_type": "code",
   "execution_count": 24,
   "id": "ca2d80d7-de70-4557-a18d-591c0f45e7b6",
   "metadata": {},
   "outputs": [],
   "source": [
    "import handcalcs.render\n",
    "from handcalcs import handcalc\n",
    "from numpy import sqrt, log"
   ]
  },
  {
   "cell_type": "markdown",
   "id": "662fcdb4-821e-44e2-b6c6-cbf957d808f7",
   "metadata": {},
   "source": [
    "## Problema 1"
   ]
  },
  {
   "cell_type": "markdown",
   "id": "669c1d8f-fcba-45cf-b97d-e20649662ba3",
   "metadata": {},
   "source": [
    "La velocidad a la entrada de la tubería ($V_1$) es aproximadamente la siguiente:"
   ]
  },
  {
   "cell_type": "markdown",
   "id": "cdee15a9-2076-464b-b224-8b89fe0fc9c1",
   "metadata": {},
   "source": [
    "(a) $V_1$ < 1 m/s \\\n",
    "(b) 1 m/s < $V_1$ ≤ 10 m/s \\\n",
    "(c) 10 m/s < $V_1$ ≤ 100 m/s \\\n",
    "(d) $V_1$ > 100 m/s"
   ]
  },
  {
   "cell_type": "markdown",
   "id": "92f7e9d9-103b-4dee-9008-408f438c1c86",
   "metadata": {},
   "source": [
    "## Solución"
   ]
  },
  {
   "cell_type": "markdown",
   "id": "0bb58259-878b-45a4-8e3f-32ed0b63285e",
   "metadata": {},
   "source": [
    "Sabemos que:\n",
    "\n",
    "$$\n",
    "Ma_1 = \\frac{V_1}{c_1} \\Rightarrow V_1 = Ma_1\\sqrt{\\frac{\\gamma RT_1}{MW}}\n",
    "$$"
   ]
  },
  {
   "cell_type": "code",
   "execution_count": 10,
   "id": "64aa596d-712b-40d9-ac7a-0c2799493cf8",
   "metadata": {},
   "outputs": [
    {
     "data": {
      "text/latex": [
       "\\[\n",
       "\\begin{aligned}\n",
       "\\mathrm{Ma}_{1} &= 0.050 \\; \n",
       "\\\\[10pt]\n",
       "\\gamma &= 1.400 \\; \n",
       "\\\\[10pt]\n",
       "R &= 8.314 \\; \\;\\textrm{(J/mol$\\cdot$K)}\n",
       "\\\\[10pt]\n",
       "T_{1} &= 555.600 \\; \\;\\textrm{(K)}\n",
       "\\\\[10pt]\n",
       "\\mathrm{MW} &= 0.028 \\; \\;\\textrm{(kg/mol)}\n",
       "\\\\[10pt]\n",
       "V_{1} &= \\mathrm{Ma}_{1} \\cdot \\sqrt { \\frac{ \\gamma \\cdot R \\cdot T_{1} }{ \\mathrm{MW} } } \\\\&= 0.050 \\cdot \\sqrt { \\frac{ 1.400 \\cdot 8.314 \\cdot 555.600 }{ 0.028 } } \\\\&= 24.029 \\; \\;\\textrm{(m/s)}\\\\[10pt]\n",
       "\\end{aligned}\n",
       "\\]"
      ],
      "text/plain": [
       "<IPython.core.display.Latex object>"
      ]
     },
     "metadata": {},
     "output_type": "display_data"
    }
   ],
   "source": [
    "%%render long\n",
    "Ma_1 = 0.05\n",
    "gamma = 1.4\n",
    "R = 8.314 #J/mol$\\cdot$K\n",
    "T_1 = 555.6 #K\n",
    "MW = 0.028 #kg/mol\n",
    "V_1 = Ma_1*sqrt((gamma*R*T_1)/MW) #m/s"
   ]
  },
  {
   "cell_type": "markdown",
   "id": "4925cc85-57a2-4c50-a5fb-bcc269249223",
   "metadata": {},
   "source": [
    "La alternativa correcta es la **c**."
   ]
  },
  {
   "cell_type": "markdown",
   "id": "d0aa2b43-34dc-4a33-b846-946a26cfdbad",
   "metadata": {},
   "source": [
    "## Problema 2"
   ]
  },
  {
   "cell_type": "markdown",
   "id": "f415be18-ff9e-4140-b6fe-00ee3c4d400f",
   "metadata": {},
   "source": [
    "¿Cuáles son los valores de la temperatura ($T^*$) y presión ($P^*$) al momento de alcanzarse la velocidad sónica en la tubería?"
   ]
  },
  {
   "cell_type": "markdown",
   "id": "78f31d4c-4269-4e75-a79b-a6371e37537e",
   "metadata": {},
   "source": [
    "(a) $T^* \\approx$ 350 K y $p^* \\approx$ 0,5 atm \\\n",
    "(b) $T^* \\approx$ 450 K y $p^* \\approx$ 1 atm \\\n",
    "(c) $T^* \\approx$ 550 K y $p^* \\approx$ 1,5 atm \\\n",
    "(d) $T^* \\approx$ 650 K y $p^* \\approx$ 2 atm"
   ]
  },
  {
   "cell_type": "markdown",
   "id": "6860a92f-3484-48c6-af8a-d22d042f8f1e",
   "metadata": {},
   "source": [
    "## Solución"
   ]
  },
  {
   "cell_type": "markdown",
   "id": "42e0970b-13a3-4653-a63b-094aa577870a",
   "metadata": {},
   "source": [
    "Ya que nos encontramos frente a un flujo adiabático:"
   ]
  },
  {
   "cell_type": "markdown",
   "id": "5ab4d5de-a836-476b-9bef-74f894b31f40",
   "metadata": {},
   "source": [
    "$$\n",
    "\\frac{T}{T^*} = \\frac{\\gamma+1}{2+(\\gamma-1)Ma^2}\n",
    "$$"
   ]
  },
  {
   "cell_type": "markdown",
   "id": "fa1014fa-6199-484a-973f-fa5507526561",
   "metadata": {},
   "source": [
    "$$\n",
    "\\frac{p}{p^*} = \\frac{1}{Ma}\\sqrt{\\frac{\\gamma+1}{2+(\\gamma-1)Ma^2}}\n",
    "$$"
   ]
  },
  {
   "cell_type": "code",
   "execution_count": 17,
   "id": "c23a823e-1394-4f9f-8f55-672794a921d3",
   "metadata": {},
   "outputs": [
    {
     "data": {
      "text/latex": [
       "\\[\n",
       "\\begin{aligned}\n",
       "p_{1} &= 20 \\; \\;\\textrm{(atm)}\n",
       "\\\\[10pt]\n",
       "\\rho &= 12.720 \\; \\;\\textrm{(kg/m$^3$)}\n",
       "\\\\[10pt]\n",
       "T &= T_{1} \\cdot \\left( \\frac{ \\gamma + 1 }{ 2 + \\left( \\gamma - 1 \\right) \\cdot \\left( \\mathrm{Ma}_{1} \\right) ^{ 2 } } \\right) ^{ -1 } \\\\&= 555.600 \\cdot \\left( \\frac{ 1.400 + 1 }{ 2 + \\left( 1.400 - 1 \\right) \\cdot \\left( 0.050 \\right) ^{ 2 } } \\right) ^{ -1 } \\\\&= 463.232 \\; \\;\\textrm{(K)}\\\\[10pt]\n",
       "\\\\[10pt]\n",
       "P &= p_{1} \\cdot \\left( \\frac{ 1 }{ \\mathrm{Ma}_{1} } \\cdot \\sqrt { \\frac{ \\gamma + 1 }{ 2 + \\left( \\gamma - 1 \\right) \\cdot \\left( \\mathrm{Ma}_{1} \\right) ^{ 2 } } } \\right) ^{ -1 } \\\\&= 20 \\cdot \\left( \\frac{ 1 }{ 0.050 } \\cdot \\sqrt { \\frac{ 1.400 + 1 }{ 2 + \\left( 1.400 - 1 \\right) \\cdot \\left( 0.050 \\right) ^{ 2 } } } \\right) ^{ -1 } \\\\&= 0.913 \\; \\;\\textrm{(atm)}\\\\[10pt]\n",
       "\\end{aligned}\n",
       "\\]"
      ],
      "text/plain": [
       "<IPython.core.display.Latex object>"
      ]
     },
     "metadata": {},
     "output_type": "display_data"
    }
   ],
   "source": [
    "%%render long\n",
    "p_1 = 20 #atm\n",
    "rho = 12.72 #kg/m$^3$\n",
    "T = T_1 * ((gamma+1)/(2+(gamma-1)*Ma_1**2))**-1 #K\n",
    "P = p_1 * (1/Ma_1 * sqrt((gamma+1)/(2+(gamma-1)*Ma_1**2)))**-1 #atm"
   ]
  },
  {
   "cell_type": "markdown",
   "id": "e5e1c544-40fd-469e-897d-d31310e54fa7",
   "metadata": {},
   "source": [
    "La anternativa más cercana a nuestros resultados es la **b**."
   ]
  },
  {
   "cell_type": "markdown",
   "id": "37ac586e-2564-4624-b0e0-0c5acd79a89d",
   "metadata": {},
   "source": [
    "## Problema 3"
   ]
  },
  {
   "cell_type": "markdown",
   "id": "11848e88-7406-4e44-9f7e-a0a6978b16db",
   "metadata": {},
   "source": [
    "Dado un valor $4 f L^*/D = 400$, el flux de aire ($G/A$) a la entrada del conducto es aproximadamente la siguiente:"
   ]
  },
  {
   "cell_type": "markdown",
   "id": "2c783724-9100-433c-bdd9-6de1f1ed7750",
   "metadata": {},
   "source": [
    "(a) $G/A$ < 280 kg/s$\\cdot$m$^2$ \\\n",
    "(b) 280 < $G/A$ ≤ 380 kg/s$\\cdot$m$^2$ \\\n",
    "(c) 380 < $G/A$ ≤ 480 kg/s$\\cdot$m$^2$ \\\n",
    "(d) $G/A$ ≤ 480 kg/s$\\cdot$m$^2$"
   ]
  },
  {
   "cell_type": "markdown",
   "id": "091b0a90-5a31-4df5-9ec5-1ffdc058c361",
   "metadata": {},
   "source": [
    "## Solución"
   ]
  },
  {
   "cell_type": "markdown",
   "id": "5bc861ce-dd5b-4495-9924-4fa8bd6bc3f4",
   "metadata": {},
   "source": [
    "Notamos que la razón de presiones es alta. Comparando con las condiciones de flujo máximo, se itera $Ma$ para encontrar las condiciones en que se cumpla:\n",
    "\n",
    "$$\n",
    "400 = \\frac{1-Ma^2}{\\gamma Ma^2} + \\left(\\frac{\\gamma+1}{2\\gamma}\\right)\\ln\\left(\\frac{2(\\gamma+1)Ma^2}{2+(\\gamma-1)Ma^2}\\right)\n",
    "$$"
   ]
  },
  {
   "cell_type": "markdown",
   "id": "7b5badfc-6394-459a-acf8-7fc571d4209d",
   "metadata": {},
   "source": [
    "Como estimación inicial, utilizamos la condición del enunciado $Ma = 0.05$."
   ]
  },
  {
   "cell_type": "code",
   "execution_count": 19,
   "id": "1684ea30-d4ec-4da0-b9d6-9a80ed55fa95",
   "metadata": {},
   "outputs": [
    {
     "data": {
      "text/latex": [
       "\\[\n",
       "\\begin{aligned}\n",
       "\\mathrm{Ma} &= 0.050 \\; \n",
       "\\\\[10pt]\n",
       "\\mathrm{fLD}_{estimado} &= \\frac{ 1 - \\left( \\mathrm{Ma} \\right) ^{ 2 } }{ \\gamma \\cdot \\left( \\mathrm{Ma} \\right) ^{ 2 } } + \\left( \\frac{ \\gamma + 1 }{ 2 \\cdot \\gamma } \\right) \\cdot \\ln \\left( \\frac{ 2 \\cdot \\left( \\gamma + 1 \\right) \\cdot \\left( \\mathrm{Ma} \\right) ^{ 2 } }{ 2 + \\left( \\gamma - 1 \\right) \\cdot \\left( \\mathrm{Ma} \\right) ^{ 2 } } \\right) \\\\&= \\frac{ 1 - \\left( 0.050 \\right) ^{ 2 } }{ 1.400 \\cdot \\left( 0.050 \\right) ^{ 2 } } + \\left( \\frac{ 1.400 + 1 }{ 2 \\cdot 1.400 } \\right) \\cdot \\ln \\left( \\frac{ 2 \\cdot \\left( 1.400 + 1 \\right) \\cdot \\left( 0.050 \\right) ^{ 2 } }{ 2 + \\left( 1.400 - 1 \\right) \\cdot \\left( 0.050 \\right) ^{ 2 } } \\right) \\\\&= 280.614  \\\\[10pt]\n",
       "\\end{aligned}\n",
       "\\]"
      ],
      "text/plain": [
       "<IPython.core.display.Latex object>"
      ]
     },
     "metadata": {},
     "output_type": "display_data"
    }
   ],
   "source": [
    "%%render long\n",
    "Ma = 0.05\n",
    "fLD_estimado = (1-Ma**2)/(gamma*Ma**2) + ((gamma+1)/(2*gamma))*log((2*(gamma+1)*Ma**2)/(2+(gamma-1)*Ma**2))"
   ]
  },
  {
   "cell_type": "markdown",
   "id": "bb330dec-9296-4e5b-9d02-7dd97edeff09",
   "metadata": {},
   "source": [
    "Segunda estimación $Ma = 0.04$."
   ]
  },
  {
   "cell_type": "code",
   "execution_count": 20,
   "id": "f2e028fa-f2d6-4a34-a886-e49441fb9e18",
   "metadata": {},
   "outputs": [
    {
     "data": {
      "text/latex": [
       "\\[\n",
       "\\begin{aligned}\n",
       "\\mathrm{Ma} &= 0.040 \\; \n",
       "\\\\[10pt]\n",
       "\\mathrm{fLD}_{estimado} &= \\frac{ 1 - \\left( \\mathrm{Ma} \\right) ^{ 2 } }{ \\gamma \\cdot \\left( \\mathrm{Ma} \\right) ^{ 2 } } + \\left( \\frac{ \\gamma + 1 }{ 2 \\cdot \\gamma } \\right) \\cdot \\ln \\left( \\frac{ 2 \\cdot \\left( \\gamma + 1 \\right) \\cdot \\left( \\mathrm{Ma} \\right) ^{ 2 } }{ 2 + \\left( \\gamma - 1 \\right) \\cdot \\left( \\mathrm{Ma} \\right) ^{ 2 } } \\right) \\\\&= \\frac{ 1 - \\left( 0.040 \\right) ^{ 2 } }{ 1.400 \\cdot \\left( 0.040 \\right) ^{ 2 } } + \\left( \\frac{ 1.400 + 1 }{ 2 \\cdot 1.400 } \\right) \\cdot \\ln \\left( \\frac{ 2 \\cdot \\left( 1.400 + 1 \\right) \\cdot \\left( 0.040 \\right) ^{ 2 } }{ 2 + \\left( 1.400 - 1 \\right) \\cdot \\left( 0.040 \\right) ^{ 2 } } \\right) \\\\&= 440.946  \\\\[10pt]\n",
       "\\end{aligned}\n",
       "\\]"
      ],
      "text/plain": [
       "<IPython.core.display.Latex object>"
      ]
     },
     "metadata": {},
     "output_type": "display_data"
    }
   ],
   "source": [
    "%%render long\n",
    "Ma = 0.04\n",
    "fLD_estimado = (1-Ma**2)/(gamma*Ma**2) + ((gamma+1)/(2*gamma))*log((2*(gamma+1)*Ma**2)/(2+(gamma-1)*Ma**2))"
   ]
  },
  {
   "cell_type": "markdown",
   "id": "e6c8f93c-61f9-4cf7-9b15-9072e50932f5",
   "metadata": {},
   "source": [
    "Tercera estimación $Ma = 0.042$."
   ]
  },
  {
   "cell_type": "code",
   "execution_count": 21,
   "id": "8d2f9e5e-5350-4a6e-8619-d348c8d7a2ac",
   "metadata": {},
   "outputs": [
    {
     "data": {
      "text/latex": [
       "\\[\n",
       "\\begin{aligned}\n",
       "\\mathrm{Ma} &= 0.042 \\; \n",
       "\\\\[10pt]\n",
       "\\mathrm{fLD}_{estimado} &= \\frac{ 1 - \\left( \\mathrm{Ma} \\right) ^{ 2 } }{ \\gamma \\cdot \\left( \\mathrm{Ma} \\right) ^{ 2 } } + \\left( \\frac{ \\gamma + 1 }{ 2 \\cdot \\gamma } \\right) \\cdot \\ln \\left( \\frac{ 2 \\cdot \\left( \\gamma + 1 \\right) \\cdot \\left( \\mathrm{Ma} \\right) ^{ 2 } }{ 2 + \\left( \\gamma - 1 \\right) \\cdot \\left( \\mathrm{Ma} \\right) ^{ 2 } } \\right) \\\\&= \\frac{ 1 - \\left( 0.042 \\right) ^{ 2 } }{ 1.400 \\cdot \\left( 0.042 \\right) ^{ 2 } } + \\left( \\frac{ 1.400 + 1 }{ 2 \\cdot 1.400 } \\right) \\cdot \\ln \\left( \\frac{ 2 \\cdot \\left( 1.400 + 1 \\right) \\cdot \\left( 0.042 \\right) ^{ 2 } }{ 2 + \\left( 1.400 - 1 \\right) \\cdot \\left( 0.042 \\right) ^{ 2 } } \\right) \\\\&= 399.525  \\\\[10pt]\n",
       "\\end{aligned}\n",
       "\\]"
      ],
      "text/plain": [
       "<IPython.core.display.Latex object>"
      ]
     },
     "metadata": {},
     "output_type": "display_data"
    }
   ],
   "source": [
    "%%render long\n",
    "Ma = 0.042\n",
    "fLD_estimado = (1-Ma**2)/(gamma*Ma**2) + ((gamma+1)/(2*gamma))*log((2*(gamma+1)*Ma**2)/(2+(gamma-1)*Ma**2))"
   ]
  },
  {
   "cell_type": "markdown",
   "id": "73f37e01-d434-41d0-9665-d6ce9ef60661",
   "metadata": {},
   "source": [
    "Estamos lo suficientemente cerca del resultado correcto, entonces calculamos.\n",
    "\n",
    "$$\n",
    "\\left(\\frac{G'}{A}\\right)_{max} = \\rho_1c_1Ma\n",
    "$$"
   ]
  },
  {
   "cell_type": "code",
   "execution_count": 23,
   "id": "833a0525-f975-4040-92fa-46b665a167d9",
   "metadata": {},
   "outputs": [
    {
     "data": {
      "text/latex": [
       "\\[\n",
       "\\begin{aligned}\n",
       "\\mathrm{GA}_{max} &= \\rho \\cdot \\sqrt { \\frac{ \\gamma \\cdot R \\cdot T_{1} }{ \\mathrm{MW} } } \\cdot \\mathrm{Ma} \\\\&= 12.720 \\cdot \\sqrt { \\frac{ 1.400 \\cdot 8.314 \\cdot 555.600 }{ 0.028 } } \\cdot 0.042 \\\\&= 256.748 \\; \\;\\textrm{(kg/m$^2\\cdot$s)}\\\\[10pt]\n",
       "\\end{aligned}\n",
       "\\]"
      ],
      "text/plain": [
       "<IPython.core.display.Latex object>"
      ]
     },
     "metadata": {},
     "output_type": "display_data"
    }
   ],
   "source": [
    "%%render long\n",
    "GA_max = rho*sqrt((gamma*R*T_1)/MW)*Ma #kg/m$^2\\cdot$s"
   ]
  },
  {
   "cell_type": "markdown",
   "id": "93d914b0-f428-42b5-a204-4b41a7922296",
   "metadata": {},
   "source": [
    "Por lo tanto la alternativa correcta es la **a**."
   ]
  },
  {
   "cell_type": "code",
   "execution_count": null,
   "id": "eedb691e-7294-4d0b-a786-06deb39fdb6f",
   "metadata": {},
   "outputs": [],
   "source": []
  }
 ],
 "metadata": {
  "kernelspec": {
   "display_name": "Python 3 (ipykernel)",
   "language": "python",
   "name": "python3"
  },
  "language_info": {
   "codemirror_mode": {
    "name": "ipython",
    "version": 3
   },
   "file_extension": ".py",
   "mimetype": "text/x-python",
   "name": "python",
   "nbconvert_exporter": "python",
   "pygments_lexer": "ipython3",
   "version": "3.11.7"
  }
 },
 "nbformat": 4,
 "nbformat_minor": 5
}
