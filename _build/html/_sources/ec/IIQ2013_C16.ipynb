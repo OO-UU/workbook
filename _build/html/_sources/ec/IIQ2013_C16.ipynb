{
 "cells": [
  {
   "cell_type": "markdown",
   "id": "8d7d2d17",
   "metadata": {},
   "source": [
    "# IIQ2013 - Clase 16"
   ]
  },
  {
   "cell_type": "markdown",
   "id": "f265211a-dd12-4073-97ab-3b077f5b9d30",
   "metadata": {},
   "source": [
    "Se usa un intercambiador de calor de tubos y carcasa (**ICTC**) tipo 1-2 para enfriar $20~\\text{ton/h}$ de agua (flujo por el lado de la carcasa) de $81$ a $33\\text{°C}$ usando $120~\\text{ton/h}$ de agua de enfriamiento a $17~\\text{°C}$ (flujo por el lado de los tubos). El ICTC dispone de $Nt = 60$ tubos de $1~\\text{in}$ de diámetro nominal ($D_0 = 2.54~\\text{cm}$; $D_i = 2.21~\\text{cm}$) y $L = 2.44~\\text{m}$ de largo ordenados según un arreglo cuadrado de $1.25~\\text{in}$ de paso dentro de una carcasa de $D_c = 31.9~\\text{cm}$ de diámetro."
   ]
  },
  {
   "cell_type": "markdown",
   "id": "30cc3d9b-6265-46b0-816d-b7d13285c312",
   "metadata": {},
   "source": [
    "Paquetes utilizados:"
   ]
  },
  {
   "cell_type": "code",
   "execution_count": 16,
   "id": "e358e73f",
   "metadata": {},
   "outputs": [],
   "source": [
    "import numpy as np\n",
    "from handcalcs import render\n",
    "import forallpeople as si\n",
    "from math import pi, log"
   ]
  },
  {
   "cell_type": "code",
   "execution_count": 17,
   "id": "2fc01c2c",
   "metadata": {},
   "outputs": [],
   "source": [
    "si.environment('default', top_level=True)"
   ]
  },
  {
   "cell_type": "markdown",
   "id": "acfeb731",
   "metadata": {},
   "source": [
    "## Pregunta 1"
   ]
  },
  {
   "cell_type": "markdown",
   "id": "aec17b9c-4a22-48b0-900d-b4415bfec1a9",
   "metadata": {},
   "source": [
    "El área de transferencia de calor ($A$) del equipo es la siguiente:"
   ]
  },
  {
   "cell_type": "markdown",
   "id": "78aaf71b-9d6f-4b40-a7e1-29d931b64e1f",
   "metadata": {},
   "source": [
    "a) $A \\leq 10~\\text{m}^2$\\\n",
    "b) $10 < A \\leq 11~\\text{m}^2$\\\n",
    "c) $11 < A \\leq 12~\\text{m}^2$\\\n",
    "d) $A > 12~\\text{m}^2$"
   ]
  },
  {
   "cell_type": "markdown",
   "id": "9484957c-3564-44df-9ffc-2c88de5b070d",
   "metadata": {},
   "source": [
    "## Solución"
   ]
  },
  {
   "cell_type": "markdown",
   "id": "de3dcdc4-06c2-4369-9575-7bce22599647",
   "metadata": {},
   "source": [
    "Primero anotamos todos los datos disponibles"
   ]
  },
  {
   "cell_type": "code",
   "execution_count": 18,
   "id": "6102aa9b",
   "metadata": {},
   "outputs": [
    {
     "data": {
      "text/latex": [
       "\\[\n",
       "\\begin{aligned}\n",
       "F_{h} &= 5.556\\ \\mathrm{kg} \\cdot \\mathrm{s}^{-1} \\; \n",
       " &T_{hi} &= 81.000\\ \\mathrm{°C} \\; \n",
       " &T_{ho} &= 33.000\\ \\mathrm{°C} \\; \n",
       "\\\\[10pt]\n",
       " F_{c} &= 33.333\\ \\mathrm{kg} \\cdot \\mathrm{s}^{-1} \\; \n",
       " &T_{ci} &= 17.000\\ \\mathrm{°C} \\; \n",
       " &N_{t} &= 60 \\; \n",
       "\\\\[10pt]\n",
       " d_{o} &= 25.400\\ \\mathrm{mm} \\; \n",
       " &d_{i} &= 22.100\\ \\mathrm{mm} \\; \n",
       " &L &= 2.440\\ \\mathrm{m} \\; \n",
       "\\\\[10pt]\n",
       "\\end{aligned}\n",
       "\\]"
      ],
      "text/plain": [
       "<IPython.core.display.Latex object>"
      ]
     },
     "metadata": {},
     "output_type": "display_data"
    }
   ],
   "source": [
    "%%render params\n",
    "F_h = 20 * 1e3 / 3600 * kg / s\n",
    "T_hi = 81 * K\n",
    "T_ho = 33 * K\n",
    "\n",
    "F_c = 120 * 1e3 / 3600 * kg / s\n",
    "T_ci = 17 * K\n",
    "\n",
    "N_t = 60 \n",
    "d_o = 0.0254 * m\n",
    "d_i = 0.0221 * m\n",
    "\n",
    "L = 2.44 * m"
   ]
  },
  {
   "cell_type": "markdown",
   "id": "24e5814c",
   "metadata": {},
   "source": [
    "El área de intercambio de calor puede calcularse directamente a partir de la geometría del tubo y del número de tubos del arreglo\n",
    "\n",
    "$$ A = N_t \\pi d_o L $$"
   ]
  },
  {
   "cell_type": "code",
   "execution_count": 19,
   "id": "980a977a",
   "metadata": {},
   "outputs": [
    {
     "data": {
      "text/latex": [
       "\\[\n",
       "\\begin{aligned}\n",
       "A &= N_{t} \\cdot \\pi \\cdot d_{o} \\cdot L  = 60 \\cdot 3.142 \\cdot 25.400\\ \\mathrm{mm} \\cdot 2.440\\ \\mathrm{m} &= 11.682\\ \\mathrm{m}^{2}  \n",
       "\\end{aligned}\n",
       "\\]"
      ],
      "text/plain": [
       "<IPython.core.display.Latex object>"
      ]
     },
     "metadata": {},
     "output_type": "display_data"
    }
   ],
   "source": [
    "%%render\n",
    "A = N_t * pi * d_o * L"
   ]
  },
  {
   "cell_type": "markdown",
   "id": "3b33dc41",
   "metadata": {},
   "source": [
    "Por lo tanto, la alternativa correcta es **c**."
   ]
  },
  {
   "cell_type": "markdown",
   "id": "ba653242-e513-4dee-aa04-a2f3dacd9ac2",
   "metadata": {},
   "source": [
    "## Pregunta 2"
   ]
  },
  {
   "cell_type": "markdown",
   "id": "cfc74e46-23a5-4535-b4a3-aad647dffd42",
   "metadata": {},
   "source": [
    "La diferencia de temperatura relevante para el diseño del ICTC ($\\Delta T$) es la siguiente:"
   ]
  },
  {
   "cell_type": "markdown",
   "id": "339de257-16a7-4d80-8f68-ea5a1a703a84",
   "metadata": {},
   "source": [
    "a) $\\Delta T \\leq 29~\\text{°C}$\\\n",
    "b) $29 <\\Delta T \\leq 30~\\text{°C}$\\\n",
    "c) $30 < \\Delta T \\leq 31~\\text{°C}$\\\n",
    "d) $\\Delta T > 31~\\text{°C}$"
   ]
  },
  {
   "cell_type": "markdown",
   "id": "192f98cd-2aa8-41fa-988a-65f77531052a",
   "metadata": {},
   "source": [
    "## Solución"
   ]
  },
  {
   "cell_type": "markdown",
   "id": "6bee091a-4ab6-4f12-a0db-adb1714ffa9f",
   "metadata": {},
   "source": [
    "Ahora tenemos que calcular la diferencia de temperatura relevante para el diseño del intercambiador de calor de tubo y carcasa. Para ello, calculamos los factores $Z$ y $F_h$ con el propósito de estimar el factor de corrección $F_T$."
   ]
  },
  {
   "cell_type": "code",
   "execution_count": 20,
   "id": "f97aab8a",
   "metadata": {},
   "outputs": [
    {
     "data": {
      "text/latex": [
       "\\[\n",
       "\\begin{aligned}\n",
       "Z &= \\frac{ F_{c} }{ F_{h} }  = \\frac{ 33.333\\ \\mathrm{kg} \\cdot \\mathrm{s}^{-1} }{ 5.556\\ \\mathrm{kg} \\cdot \\mathrm{s}^{-1} } &= 6.000  \n",
       "\\end{aligned}\n",
       "\\]"
      ],
      "text/plain": [
       "<IPython.core.display.Latex object>"
      ]
     },
     "metadata": {},
     "output_type": "display_data"
    }
   ],
   "source": [
    "%%render\n",
    "Z = F_c/F_h"
   ]
  },
  {
   "cell_type": "code",
   "execution_count": 21,
   "id": "b5588394",
   "metadata": {},
   "outputs": [
    {
     "data": {
      "text/latex": [
       "\\[\n",
       "\\begin{aligned}\n",
       "T_{co} &= \\frac{ T_{hi} - T_{ho} }{ Z } + T_{ci}  = \\frac{ 81.000\\ \\mathrm{°C} - 33.000\\ \\mathrm{°C} }{ 6.000 } + 17.000\\ \\mathrm{°C} &= 25.000\\ \\mathrm{°C}  \n",
       "\\end{aligned}\n",
       "\\]"
      ],
      "text/plain": [
       "<IPython.core.display.Latex object>"
      ]
     },
     "metadata": {},
     "output_type": "display_data"
    }
   ],
   "source": [
    "%%render\n",
    "T_co = (T_hi - T_ho)/Z + T_ci"
   ]
  },
  {
   "cell_type": "code",
   "execution_count": 22,
   "id": "c464451a",
   "metadata": {
    "scrolled": true
   },
   "outputs": [
    {
     "data": {
      "text/latex": [
       "\\[\n",
       "\\begin{aligned}\n",
       "\\eta_{H} &= \\frac{ T_{co} - T_{ci} }{ T_{hi} - T_{ci} }  = \\frac{ 25.000\\ \\mathrm{°C} - 17.000\\ \\mathrm{°C} }{ 81.000\\ \\mathrm{°C} - 17.000\\ \\mathrm{°C} } &= 0.125  \n",
       "\\end{aligned}\n",
       "\\]"
      ],
      "text/plain": [
       "<IPython.core.display.Latex object>"
      ]
     },
     "metadata": {},
     "output_type": "display_data"
    }
   ],
   "source": [
    "%%render\n",
    "eta_H = (T_co - T_ci) / (T_hi - T_ci)\n"
   ]
  },
  {
   "cell_type": "markdown",
   "id": "68390180",
   "metadata": {},
   "source": [
    "Utilizando la fórmula para el $F_T$ de un ICTC 1-2,"
   ]
  },
  {
   "cell_type": "code",
   "execution_count": 23,
   "id": "c85c80fe",
   "metadata": {},
   "outputs": [],
   "source": [
    "def Ft_12(Z, eta):\n",
    "    num = np.sqrt(Z**2 + 1) * np.log( (1-eta) / (1-eta*Z))\n",
    "    den = (Z-1) * np.log ( (2-eta*(Z+1 - np.sqrt(Z**2+1)))\n",
    "                          / (2-eta*(Z+1 + np.sqrt(Z**2+1))))\n",
    "    F_t = num/den\n",
    "    return F_t"
   ]
  },
  {
   "cell_type": "code",
   "execution_count": 24,
   "id": "bc8e3b7f",
   "metadata": {},
   "outputs": [],
   "source": [
    "F_t = Ft_12(Z, eta_H)"
   ]
  },
  {
   "cell_type": "code",
   "execution_count": 25,
   "id": "bff3c020",
   "metadata": {},
   "outputs": [
    {
     "data": {
      "text/latex": [
       "\\[\n",
       "\\begin{aligned}\n",
       "F_{t} &= 0.928 \\; \n",
       "\\end{aligned}\n",
       "\\]"
      ],
      "text/plain": [
       "<IPython.core.display.Latex object>"
      ]
     },
     "metadata": {},
     "output_type": "display_data"
    }
   ],
   "source": [
    "%%render\n",
    "F_t = F_t"
   ]
  },
  {
   "cell_type": "markdown",
   "id": "d33c1ce3",
   "metadata": {},
   "source": [
    "Ahora calculamos $\\Delta T_{ml}$"
   ]
  },
  {
   "cell_type": "code",
   "execution_count": 26,
   "id": "b78c30c1",
   "metadata": {},
   "outputs": [
    {
     "data": {
      "text/latex": [
       "\\[\n",
       "\\begin{aligned}\n",
       "\\mathrm{dT}_{h} &= T_{hi} - T_{co}  = 81.000\\ \\mathrm{°C} - 25.000\\ \\mathrm{°C} &= 56.000\\ \\mathrm{°C}  \n",
       "\\\\[10pt]\n",
       "\\mathrm{dT}_{c} &= T_{ho} - T_{ci}  = 33.000\\ \\mathrm{°C} - 17.000\\ \\mathrm{°C} &= 16.000\\ \\mathrm{°C}  \n",
       "\\\\[10pt]\n",
       "\\mathrm{dT}_{lm} &= \\frac{ \\mathrm{dT}_{h} - \\mathrm{dT}_{c} }{ \\ln \\left( \\frac{ \\mathrm{dT}_{h} }{ \\mathrm{dT}_{c} } \\right) }  = \\frac{ 56.000\\ \\mathrm{°C} - 16.000\\ \\mathrm{°C} }{ \\ln \\left( \\frac{ 56.000\\ \\mathrm{°C} }{ 16.000\\ \\mathrm{°C} } \\right) } &= 31.929\\ \\mathrm{°C}  \n",
       "\\\\[10pt]\n",
       "& \\textrm{ Tal que la diferencia de temperaturas relevantes es:}\\\\[10pt]\n",
       "\\mathrm{dT} &= F_{t} \\cdot \\mathrm{dT}_{lm}  = 0.928 \\cdot 31.929\\ \\mathrm{°C} &= 29.619\\ \\mathrm{°C}  \n",
       "\\end{aligned}\n",
       "\\]"
      ],
      "text/plain": [
       "<IPython.core.display.Latex object>"
      ]
     },
     "metadata": {},
     "output_type": "display_data"
    }
   ],
   "source": [
    "%%render\n",
    "dT_h = T_hi - T_co\n",
    "dT_c = T_ho - T_ci\n",
    "dT_lm = (dT_h-dT_c)/log(dT_h/dT_c)\n",
    "\n",
    "## Tal que la diferencia de temperaturas relevantes es:\n",
    "dT = F_t * dT_lm"
   ]
  },
  {
   "cell_type": "markdown",
   "id": "82337556",
   "metadata": {},
   "source": [
    "Por lo tanto, la alternativa correcta es la **b**."
   ]
  },
  {
   "cell_type": "markdown",
   "id": "07b26910",
   "metadata": {},
   "source": [
    "## Pregunta 3"
   ]
  },
  {
   "cell_type": "markdown",
   "id": "6101be20-149b-4462-8ae8-6e4830169e79",
   "metadata": {},
   "source": [
    "Si la carcasa tiene $N_B = 30$ deflectores segmentales igualmente espaciados, el coeficiente de transferencia de calor por convección para el agua caliente que circula por el lado de la carcasa ($h_c$) es el siguiente:"
   ]
  },
  {
   "cell_type": "markdown",
   "id": "dbd8a4ef-0d8a-4070-a2e1-9e7db521ae72",
   "metadata": {},
   "source": [
    "a) $h_c < 3750~\\text{W/m}^2\\cdot\\text{K}$\\\n",
    "b) $3750 \\leq h_c < 5000~\\text{W/m}^2\\cdot\\text{K}$\\\n",
    "c) $5000 \\leq h_c < 7500~\\text{W/m}^2\\cdot\\text{K}$\\\n",
    "d) $h_c \\geq 7500~\\text{W/m}^2\\cdot\\text{K}$"
   ]
  },
  {
   "cell_type": "markdown",
   "id": "4b660333-e330-4016-bb2f-8916116b739a",
   "metadata": {},
   "source": [
    "Considere los siguiente valores para las propiedades termofísicas del agua a $57~\\text{°C}$: $\\rho = 984~\\text{kg/m}^3$; $c_p = 4184~\\text{J/kg}\\cdot\\text{K}$, $\\mu = 0.489\\times10^{−3}~\\text{Pa}\\cdot\\text{s}$; $k = 0.650~\\text{W/m}\\cdot\\text{K}$; y $Pr = 3.148$."
   ]
  },
  {
   "cell_type": "markdown",
   "id": "5b2d7f12-8345-4085-ae78-ba731d3e195f",
   "metadata": {},
   "source": [
    "## Solución"
   ]
  },
  {
   "cell_type": "markdown",
   "id": "fc087064",
   "metadata": {},
   "source": [
    "Parámetros geométricos y físicos,"
   ]
  },
  {
   "cell_type": "code",
   "execution_count": 27,
   "id": "9b122e8c",
   "metadata": {},
   "outputs": [
    {
     "data": {
      "text/latex": [
       "\\[\n",
       "\\begin{aligned}\n",
       "N_{b} &= 30 \\; \\;\\textrm{(número de deflectores)}\n",
       " &B &= 81.333\\ \\mathrm{mm} \\; \\;\\textrm{(espaciamiento entre deflectores)}\n",
       " &\\mu &= 0.000\\ \\mathrm{kg} \\cdot \\mathrm{m}^{-1} \\cdot \\mathrm{s}^{-1} \\; \n",
       "\\\\[10pt]\n",
       " c_{p} &= 4184.000\\ \\mathrm{m}^{2} \\cdot \\mathrm{s}^{-2} \\cdot \\mathrm{K}^{-1} \\; \n",
       " &k &= 0.650\\ \\mathrm{kg} \\cdot \\mathrm{m} \\cdot \\mathrm{s}^{-3} \\cdot \\mathrm{K}^{-1} \\; \n",
       " &\\mathrm{Pr} &= 3.148 \\; \n",
       "\\\\[10pt]\n",
       "\\end{aligned}\n",
       "\\]"
      ],
      "text/plain": [
       "<IPython.core.display.Latex object>"
      ]
     },
     "metadata": {},
     "output_type": "display_data"
    }
   ],
   "source": [
    "%%render params\n",
    "N_b = 30 # número de deflectores\n",
    "B = L/N_b # espaciamiento entre deflectores\n",
    "mu = 0.489e-3 * Pa * s\n",
    "c_p = 4184 * J / kg / K\n",
    "k = 0.65 * W / m / K\n",
    "Pr = 3.148\n"
   ]
  },
  {
   "cell_type": "markdown",
   "id": "b4791447",
   "metadata": {},
   "source": [
    "Cálculo del número de Reynolds"
   ]
  },
  {
   "cell_type": "code",
   "execution_count": 28,
   "id": "8aae53d9",
   "metadata": {},
   "outputs": [
    {
     "data": {
      "text/latex": [
       "\\[\n",
       "\\begin{aligned}\n",
       "S_{T} &= 1.25 \\cdot 0.0254 \\cdot m  = 1.25 \\cdot 0.0254 \\cdot m &= 31.750\\ \\mathrm{mm} \\; \\;\\textrm{(Paso del arreglo)}\n",
       "\\\\[10pt]\n",
       "D_{e} &= \\frac{ 4 \\cdot \\left( S_{T} \\right) ^{ 2 } - \\mathrm{np.pi} \\cdot \\left( d_{o} \\right) ^{ 2 } }{ \\mathrm{np.pi} \\cdot d_{o} }  = \\frac{ 4 \\cdot \\left( 31.750\\ \\mathrm{mm} \\right) ^{ 2 } - np.pi \\cdot \\left( 25.400\\ \\mathrm{mm} \\right) ^{ 2 } }{ np.pi \\cdot 25.400\\ \\mathrm{mm} } &= 25.132\\ \\mathrm{mm} \\; \\;\\textrm{(Diámetro equivalente)}\n",
       "\\\\[10pt]\n",
       "D_{c} &= 0.319 \\cdot m  = 0.319 \\cdot m &= 319.000\\ \\mathrm{mm} \\; \\;\\textrm{(Diámetro de la carcasa)}\n",
       "\\\\[10pt]\n",
       "a_{c} &= D_{c} \\cdot B \\cdot \\frac{ S_{T} - d_{o} }{ S_{T} }  = 319.000\\ \\mathrm{mm} \\cdot 81.333\\ \\mathrm{mm} \\cdot \\frac{ 31.750\\ \\mathrm{mm} - 25.400\\ \\mathrm{mm} }{ 31.750\\ \\mathrm{mm} } &= 5189.067\\ \\mathrm{mm}^{2} \\; \\;\\textrm{(Área libre de flujo)}\n",
       "\\\\[10pt]\n",
       "G &= \\frac{ F_{h} }{ a_{c} }  = \\frac{ 5.556\\ \\mathrm{kg} \\cdot \\mathrm{s}^{-1} }{ 5189.067\\ \\mathrm{mm}^{2} } &= 1070.627\\ \\mathrm{kg} \\cdot \\mathrm{m}^{-2} \\cdot \\mathrm{s}^{-1}  \n",
       "\\\\[10pt]\n",
       "\\mathrm{Re} &= G \\cdot \\frac{ D_{e} }{ \\mu }  = 1070.627\\ \\mathrm{kg} \\cdot \\mathrm{m}^{-2} \\cdot \\mathrm{s}^{-1} \\cdot \\frac{ 25.132\\ \\mathrm{mm} }{ 0.000\\ \\mathrm{kg} \\cdot \\mathrm{m}^{-1} \\cdot \\mathrm{s}^{-1} } &= 55023.873  \n",
       "\\end{aligned}\n",
       "\\]"
      ],
      "text/plain": [
       "<IPython.core.display.Latex object>"
      ]
     },
     "metadata": {},
     "output_type": "display_data"
    }
   ],
   "source": [
    "%%render\n",
    "S_T = 1.25 * 0.0254 * m # Paso del arreglo\n",
    "D_e = (4*S_T**2- np.pi * d_o**2)/(np.pi * d_o) # Diámetro equivalente\n",
    "# Shell diameter\n",
    "D_c = 0.319 * m # Diámetro de la carcasa\n",
    "a_c = D_c * B * (S_T-d_o)/S_T # Área libre de flujo\n",
    "G = F_h/a_c\n",
    "# Reynolds number calculation\n",
    "Re = G * D_e / mu"
   ]
  },
  {
   "cell_type": "markdown",
   "id": "db56ad8e",
   "metadata": {},
   "source": [
    "Cálculos de transferencia de calor. Asumiremos que $\\mu_s/\\mu \\sim 1$"
   ]
  },
  {
   "cell_type": "code",
   "execution_count": 29,
   "id": "95154ca0",
   "metadata": {},
   "outputs": [
    {
     "data": {
      "text/latex": [
       "\\[\n",
       "\\begin{aligned}\n",
       "j_{h} &= 0.36 \\cdot \\left( \\mathrm{Re} \\right) ^{ 0.55 }  = 0.36 \\cdot \\left( 55023.873 \\right) ^{ 0.55 } &= 145.749  \n",
       "\\\\[10pt]\n",
       "\\mathrm{Nusselt} &= j_{h} \\cdot \\left( \\mathrm{Pr} \\right) ^{ \\left( \\frac{ 1 }{ 3 } \\right) }  = 145.749 \\cdot \\left( 3.148 \\right) ^{ \\left( \\frac{ 1 }{ 3 } \\right) } &= 213.608  \n",
       "\\\\[10pt]\n",
       "h_{c} &= \\mathrm{Nusselt} \\cdot \\frac{ k }{ D_{e} }  = 213.608 \\cdot \\frac{ 0.650\\ \\mathrm{kg} \\cdot \\mathrm{m} \\cdot \\mathrm{s}^{-3} \\cdot \\mathrm{K}^{-1} }{ 25.132\\ \\mathrm{mm} } &= 5524.701\\ \\mathrm{kg} \\cdot \\mathrm{s}^{-3} \\cdot \\mathrm{K}^{-1}  \n",
       "\\end{aligned}\n",
       "\\]"
      ],
      "text/plain": [
       "<IPython.core.display.Latex object>"
      ]
     },
     "metadata": {},
     "output_type": "display_data"
    }
   ],
   "source": [
    "%%render\n",
    "j_h = 0.36 * Re**0.55 \n",
    "Nusselt = j_h * Pr**(1/3)\n",
    "h_c = Nusselt * k / D_e"
   ]
  },
  {
   "cell_type": "markdown",
   "id": "2c1ccd68",
   "metadata": {},
   "source": [
    "## Pregunta 4"
   ]
  },
  {
   "cell_type": "markdown",
   "id": "a3825214-b2a0-46e9-aa5d-f313da234656",
   "metadata": {},
   "source": [
    "Si el coeficiente de transferencia de calor por convección para el agua fría que circula por el lado de los tubos es $h_t = 10000~\\text{W/m}^2\\cdot\\text{K}$, la resistencia de ensuciamiento de diseño ($R_d$) es la siguiente:"
   ]
  },
  {
   "cell_type": "markdown",
   "id": "3bc6ab66-4883-4823-afaf-fb2ae1e81eb8",
   "metadata": {},
   "source": [
    "a) $R_d < 10^{−5}~\\text{m}^2\\cdot{K/W}$\\\n",
    "b) $10^{−5} \\leq R_d < 4\\times10^{−5}~\\text{m}^2\\cdot{K/W}$\\\n",
    "c) $4\\times10^{−5} \\leq R_d < 10^{−4}~\\text{m}^2\\cdot{K/W}$\\\n",
    "d) $R_d \\geq 10^{−4}~\\text{m}^2\\cdot{K/W}$"
   ]
  },
  {
   "cell_type": "markdown",
   "id": "c8ce850d-200e-448a-aed8-5bcb7e331748",
   "metadata": {},
   "source": [
    "## Solución"
   ]
  },
  {
   "cell_type": "markdown",
   "id": "d9263ff2-ddcd-43f2-beea-a8e489374c41",
   "metadata": {},
   "source": [
    "Desde la ecuación de diseño."
   ]
  },
  {
   "cell_type": "markdown",
   "id": "7da940bc",
   "metadata": {},
   "source": [
    "$$ q = UA F_t \\Delta T_{ml}$$"
   ]
  },
  {
   "cell_type": "code",
   "execution_count": 30,
   "id": "aae403ed",
   "metadata": {},
   "outputs": [
    {
     "data": {
      "text/latex": [
       "\\[\n",
       "\\begin{aligned}\n",
       "h_{t} &= 10000 \\cdot \\frac{ W }{ \\left( m \\right) ^{ 2 } } \\cdot \\frac{1} { K }  = 10000 \\cdot \\frac{ W }{ \\left( m \\right) ^{ 2 } } \\cdot \\frac{1} { K } &= 1.000 \\times 10^ {4}\\ \\mathrm{kg} \\cdot \\mathrm{s}^{-3} \\cdot \\mathrm{K}^{-1}  \n",
       "\\\\[10pt]\n",
       "q &= F_{h} \\cdot c_{p} \\cdot \\left( T_{hi} - T_{ho} \\right) \\\\&= 5.556 \\times 10^ {0}\\ \\mathrm{kg} \\cdot \\mathrm{s}^{-1} \\cdot 4.184 \\times 10^ {3}\\ \\mathrm{m}^{2} \\cdot \\mathrm{s}^{-2} \\cdot \\mathrm{K}^{-1} \\cdot \\left( 8.100 \\times 10^ {1}\\ \\mathrm{°C} - 3.300 \\times 10^ {1}\\ \\mathrm{°C} \\right) \\\\&= 1.116 \\times 10^ {0}\\ \\mathrm{MW}  \\\\[10pt]\n",
       "\\\\[10pt]\n",
       "U_{T} &= \\frac{ q }{ A \\cdot \\mathrm{dT} }  = \\frac{ 1.116 \\times 10^ {0}\\ \\mathrm{MW} }{ 1.168 \\times 10^ {1}\\ \\mathrm{m}^{2} \\cdot 2.962 \\times 10^ {1}\\ \\mathrm{°C} } &= 3.224 \\times 10^ {3}\\ \\mathrm{kg} \\cdot \\mathrm{s}^{-3} \\cdot \\mathrm{K}^{-1}  \n",
       "\\\\[10pt]\n",
       "U &= \\left( \\frac{ d_{o} }{ d_{i} \\cdot h_{t} } + \\frac{ 1 }{ h_{c} } \\right) ^{ \\left( - 1 \\right) } \\\\&= \\left( \\frac{ 2.540 \\times 10^ {1}\\ \\mathrm{mm} }{ 2.210 \\times 10^ {1}\\ \\mathrm{mm} \\cdot 1.000 \\times 10^ {4}\\ \\mathrm{kg} \\cdot \\mathrm{s}^{-3} \\cdot \\mathrm{K}^{-1} } + \\frac{ 1 }{ 5.525 \\times 10^ {3}\\ \\mathrm{kg} \\cdot \\mathrm{s}^{-3} \\cdot \\mathrm{K}^{-1} } \\right) ^{ \\left( - 1 \\right) } \\\\&= 3.379 \\times 10^ {3}\\ \\mathrm{kg} \\cdot \\mathrm{s}^{-3} \\cdot \\mathrm{K}^{-1}  \\\\[10pt]\n",
       "\\\\[10pt]\n",
       "R_{f} &= \\frac{ 1 }{ U_{T} } - \\left( \\frac{ d_{o} }{ d_{i} \\cdot h_{t} } + \\frac{ 1 }{ h_{c} } \\right) \\\\&= \\frac{ 1 }{ 3.224 \\times 10^ {3}\\ \\mathrm{kg} \\cdot \\mathrm{s}^{-3} \\cdot \\mathrm{K}^{-1} } - \\left( \\frac{ 2.540 \\times 10^ {1}\\ \\mathrm{mm} }{ 2.210 \\times 10^ {1}\\ \\mathrm{mm} \\cdot 1.000 \\times 10^ {4}\\ \\mathrm{kg} \\cdot \\mathrm{s}^{-3} \\cdot \\mathrm{K}^{-1} } + \\frac{ 1 }{ 5.525 \\times 10^ {3}\\ \\mathrm{kg} \\cdot \\mathrm{s}^{-3} \\cdot \\mathrm{K}^{-1} } \\right) \\\\&= 1.419 \\times 10^ {5}\\ \\mathrm{kg}^{-1} \\cdot \\mathrm{s}^{3} \\cdot \\mathrm{K}  \\\\[10pt]\n",
       "\\end{aligned}\n",
       "\\]"
      ],
      "text/plain": [
       "<IPython.core.display.Latex object>"
      ]
     },
     "metadata": {},
     "output_type": "display_data"
    }
   ],
   "source": [
    "%%render sci_not\n",
    "h_t = 10000 * W / m**2 / K\n",
    "q = F_h * c_p * (T_hi - T_ho)\n",
    "U_T = q/(A*dT)\n",
    "U = (d_o/(d_i*h_t) + 1/h_c)**(-1)\n",
    "R_f = 1/U_T - (d_o/(d_i*h_t) + 1/h_c)"
   ]
  },
  {
   "cell_type": "markdown",
   "id": "d0128dff",
   "metadata": {},
   "source": [
    "$R_f = 1.0023 \\times 10 ^{-5} m^2  K W^{-1}$"
   ]
  },
  {
   "cell_type": "markdown",
   "id": "02e232eb",
   "metadata": {},
   "source": [
    "Por lo tanto la alternativa correcta es $b)$."
   ]
  }
 ],
 "metadata": {
  "kernelspec": {
   "display_name": "Python 3 (ipykernel)",
   "language": "python",
   "name": "python3"
  },
  "language_info": {
   "codemirror_mode": {
    "name": "ipython",
    "version": 3
   },
   "file_extension": ".py",
   "mimetype": "text/x-python",
   "name": "python",
   "nbconvert_exporter": "python",
   "pygments_lexer": "ipython3",
   "version": "3.11.7"
  }
 },
 "nbformat": 4,
 "nbformat_minor": 5
}
