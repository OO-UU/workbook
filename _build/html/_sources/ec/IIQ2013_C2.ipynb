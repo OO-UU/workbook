{
 "cells": [
  {
   "cell_type": "markdown",
   "metadata": {},
   "source": [
    "# IIQ2013 - Clase 2"
   ]
  },
  {
   "cell_type": "markdown",
   "metadata": {},
   "source": [
    "En primer lugar se deben cargar las librerias que vamos a utilizar"
   ]
  },
  {
   "cell_type": "code",
   "execution_count": 2,
   "metadata": {},
   "outputs": [],
   "source": [
    "import numpy as np"
   ]
  },
  {
   "cell_type": "markdown",
   "metadata": {},
   "source": [
    "### Pregunta 1\n",
    "\n",
    "¿Cuál es el régimen de flujo en una tubería de 10 in de diámetro nominal (D= 254,5\n",
    "mm) cuando a travús de ella se hacen circular Q= 0.1 m3/s de agua?\n",
    "\n",
    "(a) Laminar\n",
    "\n",
    "(b) Turbulento\n",
    "\n",
    "(c) Transición de laminar a turbulento\n",
    "\n",
    "(d) Se necesita mas información"
   ]
  },
  {
   "cell_type": "markdown",
   "metadata": {},
   "source": [
    "### Solución"
   ]
  },
  {
   "cell_type": "code",
   "execution_count": 3,
   "metadata": {},
   "outputs": [
    {
     "name": "stdout",
     "output_type": "stream",
     "text": [
      "El número de Reynlosd es igual a Re = 5.003e+05\n"
     ]
    }
   ],
   "source": [
    "# 1\n",
    "d = 254.5e-3\n",
    "Q = 0.1 # m^3/s\n",
    "V = Q/(np.pi*d**2/4) # Calculamos la velocidad \n",
    "rho = 1000\n",
    "mu = 0.001\n",
    "Re = rho*V*d/mu\n",
    "print(\"El número de Reynlosd es igual a Re = %.3e\" % Re)"
   ]
  },
  {
   "cell_type": "markdown",
   "metadata": {},
   "source": [
    "Por lo tanto, el regimen de flujo es turbulento y la alternativa correcta es la **b**.\n",
    "\n",
    "### Pregunta 2\n",
    "\n",
    "Considerando que la tubería es de acero comercial, el factor de fricción de Fanning ($f_F$) en el caso bajo análisis es aproximadamente el siguiente:\n",
    "\n",
    "(a) $f_F >$ 0.010 \n",
    "\n",
    "(b) 0.005 $< f_F <$ 0.010 \n",
    "\n",
    "(c) 0.002 $< f_F <$ 0.005 \n",
    "\n",
    "(d) $f_F \\leq$ 0.010 \n",
    "\n",
    "Para los cómputos considere usar el diagrama de Moody o una correlación adecuada."
   ]
  },
  {
   "cell_type": "markdown",
   "metadata": {},
   "source": [
    "### Solución\n",
    "Generamos funciones para el calculo utilizando la correlacion de Nevers y Schacham \n"
   ]
  },
  {
   "cell_type": "code",
   "execution_count": 4,
   "metadata": {},
   "outputs": [
    {
     "name": "stdout",
     "output_type": "stream",
     "text": [
      "El factor de fricción con la ecuación de Nevers es: 0.003818735654783344\n",
      "El factor de fricción con la ecuación de Schacham es: 0.0038187535955500397\n"
     ]
    }
   ],
   "source": [
    "\n",
    "def f_Nevers(eps, D, Re):\n",
    "    return 0.001375 * (1 + (2e4 * eps/D + 1e6/Re)**(1/3))\n",
    "\n",
    "def f_Schacham(eps, D, Re):\n",
    "    rhs = -1.737 * np.log(0.269 * eps/D - 2.185/Re * \\\n",
    "                         np.log(0.269 * eps/D + 14.5/Re))\n",
    "    return (1/rhs)**2\n",
    "\n",
    "eps = 0.046*1e-3\n",
    "print(f\"El factor de fricción con la ecuación de Nevers es: {f_Nevers(eps, d, Re)}\")\n",
    "print(f\"El factor de fricción con la ecuación de Schacham es: {f_Schacham(eps, d, Re)}\")\n",
    "\n"
   ]
  },
  {
   "cell_type": "markdown",
   "metadata": {},
   "source": [
    "Por lo tanto la alternativa correcta es la **c**.\n"
   ]
  },
  {
   "cell_type": "markdown",
   "metadata": {},
   "source": [
    "### Pregunta 3\n",
    "\n",
    "El valor de las pérdidas por fricción ($\\Phi$) en un tramo horizontal de L= 100 m de la tubería bajo análisis es aproximadamente el siguiente:\n",
    "\n",
    "(a) $\\Phi >$ 50 (m/s)$^2$\n",
    "\n",
    "(b) 25 $< \\Phi \\leq$ 50 (m/s)$^2$  \n",
    "\n",
    "(c) 14 $< \\Phi \\leq$ 25 (m/s)$^2$\n",
    "\n",
    "(d) $\\Phi \\leq$ 14 (m/s)$^2$\n"
   ]
  },
  {
   "cell_type": "markdown",
   "metadata": {},
   "source": [
    "### Solución\n",
    "\n",
    "Siguiendo con el factor calculado con Nevers"
   ]
  },
  {
   "cell_type": "code",
   "execution_count": 5,
   "metadata": {},
   "outputs": [
    {
     "name": "stdout",
     "output_type": "stream",
     "text": [
      "El valor de la caída de presión por fricción es: 11.596605830597086 (m/s)^2\n"
     ]
    }
   ],
   "source": [
    "f = f_Nevers(eps, d, Re)\n",
    "L = 100 # m\n",
    "phi = 4 * f * (L/d) * (V**2/2)\n",
    "print(f\"El valor de la caída de presión por fricción es: {phi} (m/s)^2\")"
   ]
  },
  {
   "cell_type": "markdown",
   "metadata": {},
   "source": [
    "Por lo tanto la alternativa correcta es la **d**.\n"
   ]
  }
 ],
 "metadata": {
  "kernelspec": {
   "display_name": "Python 3",
   "language": "python",
   "name": "python3"
  },
  "language_info": {
   "codemirror_mode": {
    "name": "ipython",
    "version": 3
   },
   "file_extension": ".py",
   "mimetype": "text/x-python",
   "name": "python",
   "nbconvert_exporter": "python",
   "pygments_lexer": "ipython3",
   "version": "3.11.5"
  }
 },
 "nbformat": 4,
 "nbformat_minor": 4
}
