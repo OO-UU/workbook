{
 "cells": [
  {
   "cell_type": "markdown",
   "id": "b4862446-1274-438b-9982-e8c00bc3c4eb",
   "metadata": {},
   "source": [
    "# Ejercicio 2: Escalamiento de estanques agitados"
   ]
  },
  {
   "cell_type": "markdown",
   "id": "1f6577c2-77df-4c38-9360-7f3cfbb14dde",
   "metadata": {},
   "source": [
    "## Enunciado"
   ]
  },
  {
   "cell_type": "markdown",
   "id": "9122e41c-e36a-4df8-bf6d-4e11215dffac",
   "metadata": {},
   "source": [
    "Usted trabaja en un centro de investigación de aceites para uso industrial llamado Uncle Oil®. Recientemente, su jefe le ha pedido escalar su agitador piloto a uno industrial para masificar la producción de aceite de motor (ambos estanques cilíndricos). Considere que su agitador a escala piloto funciona a $400\\hspace{1mm}RPM$, y que el motor con el que cuenta el centro de investigación para escala industrial alcanza los $130\\hspace{1mm}RPM$. Usted sabe que el diámetro del agitador piloto es $D_{a,1}=15\\hspace{1mm}(cm)$, y que las proporciones $S_i$ se mantienen constantes e iguales a $S_1=1/3$ y $S_6=3/2$. El equipo de investigación reológica, le hace entrega de la figura a continuación. Determine lo siguiente:\n",
    "1. Encuentre la temperatura a la cual deberá operar el estanque industrial para que este funcione a su máxima capacidad de revoluciones. Considerando que el estanque piloto se encontraba a $20\\hspace{1mm}^\\circ C$. Asuma que se encuentra en régimen laminar.\n",
    "2. Calcule el volumen del estanque industrial. Considere que el escalamiento es de velocidad de punta constante.\n",
    "3. Calcule la potencia que utilizará este estanque si a escala industrial se utilizaban $3kW$."
   ]
  },
  {
   "cell_type": "markdown",
   "id": "fce20fc2-ffa3-403f-ac5c-c991394c4fd5",
   "metadata": {},
   "source": [
    "```{figure} ./images/img1_4_2.png\n",
    "---\n",
    "align: center\n",
    "name: figura-1_4_2\n",
    "scale: 40%\n",
    "---\n",
    "Viscosidad vs temperatura.\n",
    "```"
   ]
  },
  {
   "cell_type": "markdown",
   "id": "fbe1a7b0-212c-4f12-84ed-4d5451ef5ec8",
   "metadata": {},
   "source": [
    "{ref}`Ver solución <part1:cap4:ex2:sol>`\n",
    "\n",
    "<br/><br/>\n",
    "<br/><br/>\n",
    "<br/><br/>\n",
    "<br/><br/>\n",
    "<br/><br/>\n",
    "<br/><br/>\n",
    "<br/><br/>\n",
    "<br/><br/>"
   ]
  },
  {
   "cell_type": "markdown",
   "id": "bc092e34-a60d-46c5-9664-ed5219300ab3",
   "metadata": {},
   "source": [
    "(part1:cap4:ex2:sol)=\n",
    "## Solución"
   ]
  },
  {
   "cell_type": "code",
   "execution_count": 2,
   "id": "4a9f815d-7e2c-4dcb-9521-47507eabff6a",
   "metadata": {},
   "outputs": [],
   "source": [
    "# Paquetes utilizados\n",
    "import handcalcs.render\n",
    "from handcalcs import handcalc\n",
    "from math import pi"
   ]
  },
  {
   "cell_type": "markdown",
   "id": "cdc1cc95-f773-482c-a591-edfa0d2ad334",
   "metadata": {},
   "source": [
    "### Inciso 1"
   ]
  },
  {
   "cell_type": "markdown",
   "id": "aea8227c-3c53-421f-9617-23aff308c0be",
   "metadata": {},
   "source": [
    "Del gráfico obtenemos que a $20\\hspace{1mm}^\\circ C$ la viscosidad es $\\mu\\approx 280\\hspace{1mm}(cP)$. Ya que nos encontramos en regimen laminar, tenemos que:\n",
    "$$\n",
    "\\mu_1N_1 = \\mu_2N_2\n",
    "$$\n",
    "Entonces despejando para $\\mu_2$."
   ]
  },
  {
   "cell_type": "code",
   "execution_count": 3,
   "id": "9737ae04-e70c-408f-80b4-c8279fd4ffcb",
   "metadata": {},
   "outputs": [
    {
     "data": {
      "text/latex": [
       "\\[\n",
       "\\begin{aligned}\n",
       "\\mu_{1} &= 280 \\; \\;\\textrm{(cP)}\n",
       "\\\\[10pt]\n",
       "N_{1} &= 400 \\; \\;\\textrm{(RPM)}\n",
       "\\\\[10pt]\n",
       "N_{2} &= 130 \\; \\;\\textrm{(RPM)}\n",
       "\\\\[10pt]\n",
       "\\mu_{2} &= \\mu_{1} \\cdot \\frac{ N_{1} }{ N_{2} } \\\\&= 280 \\cdot \\frac{ 400 }{ 130 } \\\\&= 861.538 \\; \\;\\textrm{(cP)}\\\\[10pt]\n",
       "\\end{aligned}\n",
       "\\]"
      ],
      "text/plain": [
       "<IPython.core.display.Latex object>"
      ]
     },
     "metadata": {},
     "output_type": "display_data"
    }
   ],
   "source": [
    "%%render long\n",
    "mu_1 = 280 #cP\n",
    "N_1 = 400 #RPM\n",
    "N_2 = 130 #RPM\n",
    "mu_2 = mu_1*N_1/N_2 #cP"
   ]
  },
  {
   "cell_type": "markdown",
   "id": "e96d5972-ed5e-45d1-908e-621c2eb3b395",
   "metadata": {},
   "source": [
    "Del gráfico de viscosidades, notamos que para $\\mu=861.5\\hspace{1mm}(cP)$ la temperatura debe ser $T\\approx 6^\\circ C$."
   ]
  },
  {
   "cell_type": "markdown",
   "id": "942aa6f9-9f5c-4427-b192-db120678b918",
   "metadata": {},
   "source": [
    "### Inciso 2"
   ]
  },
  {
   "cell_type": "markdown",
   "id": "861a45e2-b182-42b3-900b-22220d65ae9a",
   "metadata": {},
   "source": [
    "Si el escalamiento se basa en una velocidad de punta constante:\n",
    "$$\n",
    "D_{a,1}N_1=D_{a,2}N_2\n",
    "$$\n",
    "Entonces,"
   ]
  },
  {
   "cell_type": "code",
   "execution_count": 11,
   "id": "bdc54b8f-5bcb-4c9b-bbae-c904ef3ebb87",
   "metadata": {},
   "outputs": [
    {
     "data": {
      "text/latex": [
       "\\[\n",
       "\\begin{aligned}\n",
       "D_{a1} &= 0.150 \\; \\;\\textrm{(m)}\n",
       "\\\\[10pt]\n",
       "D_{a2} &= D_{a1} \\cdot \\frac{ N_{1} }{ N_{2} } \\\\&= 0.150 \\cdot \\frac{ 400 }{ 130 } \\\\&= 0.462 \\; \\;\\textrm{(m)}\\\\[10pt]\n",
       "\\\\[10pt]\n",
       "D_{t2} &= 3 \\cdot D_{a2} \\\\&= 3 \\cdot 0.462 \\\\&= 1.385 \\; \\;\\textrm{(m)}\\\\[10pt]\n",
       "\\\\[10pt]\n",
       "H_{2} &= \\frac{ 3 }{ 2 } \\cdot D_{t2} \\\\&= \\frac{ 3 }{ 2 } \\cdot 1.385 \\\\&= 2.077 \\; \\;\\textrm{(m)}\\\\[10pt]\n",
       "\\\\[10pt]\n",
       "V_{2} &= \\pi \\cdot \\left( \\frac{ D_{t2} }{ 2 } \\right) ^{ 2 } \\cdot H_{2} \\\\&= 3.142 \\cdot \\left( \\frac{ 1.385 }{ 2 } \\right) ^{ 2 } \\cdot 2.077 \\\\&= 3.127 \\; \\;\\textrm{(m$^3$)}\\\\[10pt]\n",
       "\\end{aligned}\n",
       "\\]"
      ],
      "text/plain": [
       "<IPython.core.display.Latex object>"
      ]
     },
     "metadata": {},
     "output_type": "display_data"
    }
   ],
   "source": [
    "%%render long\n",
    "D_a1 = 0.15 # m\n",
    "D_a2 = D_a1*N_1/N_2 #m\n",
    "D_t2 = 3*D_a2 #m\n",
    "H_2 = 3/2*D_t2 #m\n",
    "V_2 = pi*(D_t2/2)**2*H_2 #m$^3$"
   ]
  },
  {
   "cell_type": "markdown",
   "id": "74c1fafd-e8ce-415b-a131-1e20ea4438ce",
   "metadata": {},
   "source": [
    "### Inciso 3"
   ]
  },
  {
   "cell_type": "markdown",
   "id": "e2a35d43-493a-498b-b9be-ef2613adf0c5",
   "metadata": {},
   "source": [
    "La condición básica de esclamiento, nos dice que un estanque debe manterer su potencia por unidad de volumen constante. Entonces:\n",
    "$$\n",
    "\\frac{P_1}{V_1} = \\frac{P_2}{V_2}\n",
    "$$\n",
    "Calculamos el volumen a escala piloto."
   ]
  },
  {
   "cell_type": "code",
   "execution_count": 12,
   "id": "d8d3064d-bf98-48c4-8246-a56e2ec517c2",
   "metadata": {},
   "outputs": [
    {
     "data": {
      "text/latex": [
       "\\[\n",
       "\\begin{aligned}\n",
       "P_{1} &= 3 \\; \\;\\textrm{(kW)}\n",
       "\\\\[10pt]\n",
       "D_{t1} &= 3 \\cdot D_{a1} \\\\&= 3 \\cdot 0.150 \\\\&= 0.450 \\; \\;\\textrm{(m)}\\\\[10pt]\n",
       "\\\\[10pt]\n",
       "H_{1} &= \\frac{ 3 }{ 2 } \\cdot D_{t1} \\\\&= \\frac{ 3 }{ 2 } \\cdot 0.450 \\\\&= 0.675 \\; \\;\\textrm{(m)}\\\\[10pt]\n",
       "\\\\[10pt]\n",
       "V_{1} &= \\pi \\cdot \\left( \\frac{ D_{t1} }{ 2 } \\right) ^{ 2 } \\cdot H_{1} \\\\&= 3.142 \\cdot \\left( \\frac{ 0.450 }{ 2 } \\right) ^{ 2 } \\cdot 0.675 \\\\&= 0.107 \\; \\;\\textrm{(m$^3$)}\\\\[10pt]\n",
       "\\\\[10pt]\n",
       "P_{2} &= P_{1} \\cdot \\frac{ V_{2} }{ V_{1} } \\\\&= 3 \\cdot \\frac{ 3.127 }{ 0.107 } \\\\&= 87.392  \\\\[10pt]\n",
       "\\end{aligned}\n",
       "\\]"
      ],
      "text/plain": [
       "<IPython.core.display.Latex object>"
      ]
     },
     "metadata": {},
     "output_type": "display_data"
    }
   ],
   "source": [
    "%%render long\n",
    "P_1 = 3 #kW\n",
    "D_t1 = 3*D_a1 #m\n",
    "H_1 = 3/2*D_t1 #m\n",
    "V_1 = pi*(D_t1/2)**2*H_1 #m$^3$\n",
    "P_2 = P_1*V_2/V_1 #kW"
   ]
  },
  {
   "cell_type": "code",
   "execution_count": null,
   "id": "6f23817e-95be-40a1-b724-9616ff87668c",
   "metadata": {},
   "outputs": [],
   "source": []
  }
 ],
 "metadata": {
  "kernelspec": {
   "display_name": "Python 3 (ipykernel)",
   "language": "python",
   "name": "python3"
  },
  "language_info": {
   "codemirror_mode": {
    "name": "ipython",
    "version": 3
   },
   "file_extension": ".py",
   "mimetype": "text/x-python",
   "name": "python",
   "nbconvert_exporter": "python",
   "pygments_lexer": "ipython3",
   "version": "3.11.7"
  }
 },
 "nbformat": 4,
 "nbformat_minor": 5
}
